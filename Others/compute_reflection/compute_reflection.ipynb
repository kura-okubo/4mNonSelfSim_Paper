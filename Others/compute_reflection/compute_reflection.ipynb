{
 "cells": [
  {
   "cell_type": "markdown",
   "metadata": {},
   "source": [
    "# Compute travel time of reflected waves\n",
    "\n",
    "In this notebook, we derive the pS and sP travel time for the 4-meter-long biaxial apparatus with gouge patch source."
   ]
  },
  {
   "cell_type": "markdown",
   "metadata": {},
   "source": [
    "<img src=\"compute_reflection_schematic.png\" alt=\"schematic\" width=\"600\"/>\n"
   ]
  },
  {
   "cell_type": "markdown",
   "metadata": {},
   "source": [
    "We numerically solve simultaneous equations of the symmetry of reflection (isosceles triangle by $\\vec{m}$ and $\\vec{w}$) and the Snell's law."
   ]
  },
  {
   "cell_type": "markdown",
   "metadata": {},
   "source": [
    "$$ ||\\vec{m}|| \\cos{\\theta_2} = \\dfrac{1}{2}||\\vec{w}|| $$\n",
    "$$ \\dfrac{\\sin{\\theta_1}}{c_{s/p}} = \\dfrac{\\sin{\\theta_2}}{c_{p/s}} $$ "
   ]
  },
  {
   "cell_type": "markdown",
   "metadata": {},
   "source": [
    "We solve these equations to identify the optimized incident and reflected angles for the pS and sP waves. The travel times are computed by law of cosines as follows."
   ]
  },
  {
   "cell_type": "markdown",
   "metadata": {},
   "source": [
    "$$ l_1 = ||\\vec{r}||^2 + ||\\vec{m}||^2 - \\vec{r} \\cdot \\vec{m} $$ \n",
    "$$ l_2 = ||\\vec{m}||^2 + ||\\vec{w}||^2 - \\vec{m} \\cdot \\vec{w} $$\n",
    "\n",
    "$$ t_{sP/pS} = l_1/c_{s/p} + l_2/c_{p/s} $$"
   ]
  },
  {
   "cell_type": "code",
   "execution_count": null,
   "metadata": {},
   "outputs": [],
   "source": []
  },
  {
   "cell_type": "markdown",
   "metadata": {},
   "source": [
    "# Function to compute travel time"
   ]
  },
  {
   "cell_type": "markdown",
   "metadata": {},
   "source": [
    "```python\n",
    "def compute_ps_and_sp_side_reflection2(tr_obs, param):\n",
    "    \"\"\"\n",
    "    compute ps and sp reflection from side surface by solving the simultaneous equation with Snell's law \n",
    "    \"\"\"\n",
    "    cp = param[\"cp\"] # P wave velocity [m/s]\n",
    "    cs = param[\"cs\"] # S wave velocity[m/s]\n",
    "\n",
    "    rock_width = 0.1 #[m] 100mm width of fault\n",
    "    rock_hight = 0.2 #[m] 200mm on onside of rock specimen\n",
    "    sensorloc = np.array([0, 0, 70e-3]) # location of sensor\n",
    "    sourceloc = np.array([tr_obs.stats.xi1, tr_obs.stats.eta1, tr_obs.stats.zeta1]) # location of source\n",
    "\n",
    "    rvec = np.array(sourceloc - sensorloc) # vector from sensor to source\n",
    "    wvec_side = np.array([0, -2*rock_width, 0]) # vector from sensor to the virtual side of sensor for reflection\n",
    "\n",
    "    # Function to compute pS\n",
    "    vnorm = np.linalg.norm\n",
    "\n",
    "    def func_res(x, type):\n",
    "        \"\"\"\n",
    "        Define the simultaneous equations associated with the symmetry of reflection (isosceles triangle by mvec and wvec)\n",
    "        and the Snell's law \n",
    "        \"\"\"\n",
    "        p, q = x # parameters to define the reflection point by mvec\n",
    "        if p<0 or q<0:\n",
    "            return [np.inf, np.inf] \n",
    "\n",
    "        mvec = p*rvec + q*wvec_side # vector from sensor to reflection point\n",
    "        svec = mvec - rvec # vector from source to the reflection point\n",
    "        cos_i = np.dot(svec, wvec_side)/(vnorm(svec) * vnorm(wvec_side)) # incident angle from source to vector \n",
    "        cos_j = np.dot(mvec, wvec_side)/(vnorm(mvec) * vnorm(wvec_side)) # reflected angle from source to vector \n",
    "        sin_i = np.sqrt(1-cos_i**2)\n",
    "        sin_j = np.sqrt(1-cos_j**2)\n",
    "        f = np.zeros(2)\n",
    "        f[0] = np.dot(mvec, wvec_side) / vnorm(wvec_side)**2 - 0.5 # condition of isoscales triangle from sensor to the virtual side of sensor.\n",
    "        if type==\"pS\":\n",
    "            f[1] = sin_i/cp - sin_j/cs # Snell's law\n",
    "        elif type==\"sP\":\n",
    "            f[1] = sin_i/cs - sin_j/cp # Snell's law\n",
    "        else:\n",
    "            raise ValueError(f\"type {type} is unknown.\")\n",
    "            \n",
    "        return f\n",
    "\n",
    "    tt_dict = dict()\n",
    "    for type in [\"pS\", \"sP\"]:\n",
    "        A = fsolve(func_res, [0.1, 0.1], args=(type,), full_output=True) # compute reflection point\n",
    "        assert A[2] # check if the solution is found\n",
    "        # print(A)\n",
    "        p0, q0 = A[0]\n",
    "        mvec_side = p0*rvec + q0*wvec_side # vector from sensor to the optimized reflection point\n",
    "        svec_side = mvec_side - rvec # vector from source to the optimized reflection point\n",
    "        ideg = np.rad2deg(np.arccos(np.dot(svec_side, wvec_side)/(vnorm(svec_side) * vnorm(wvec_side)))) # optimized incident angle\n",
    "        jdeg = np.rad2deg(np.arccos(np.dot(mvec_side, wvec_side)/(vnorm(mvec_side) * vnorm(wvec_side)))) # optimized reflected angle\n",
    "\n",
    "        l1 = np.sqrt( np.linalg.norm(rvec)**2 + np.linalg.norm(mvec_side)**2 - 2 * np.dot(rvec, mvec_side) ) # distance from source to reflection point\n",
    "        l2 = np.sqrt( np.linalg.norm(mvec_side)**2 + np.linalg.norm(wvec_side)**2 - 2 * np.dot(mvec_side, wvec_side) ) # distance from reflection point to sensor\n",
    "        \n",
    "        if type==\"pS\":\n",
    "            assert (ideg - jdeg) > 1e-8 # check if incident angle is larger than reflected angle\n",
    "            tt_dict[type] = l1/cp + l2/cs # compute travel time as summation of incident and reflected parts\n",
    "\n",
    "        elif type==\"sP\":\n",
    "            assert (ideg - jdeg) < -1e-8 # check if incident angle is smaller than reflected angle\n",
    "            tt_dict[type] = l1/cs + l2/cp # compute travel time as summation of incident and reflected parts\n",
    "\n",
    "        else:\n",
    "            raise ValueError(f\"type {type} is unknown.\")\n",
    "    \n",
    "        tt_dict[type+\"_angles\"] = (ideg, jdeg) # store incident and reflected angles\n",
    "\n",
    "    return tt_dict[\"pS\"], tt_dict[\"sP\"], tt_dict[\"pS_angles\"], tt_dict[\"sP_angles\"]\n",
    "\n",
    "```"
   ]
  },
  {
   "cell_type": "code",
   "execution_count": null,
   "metadata": {},
   "outputs": [],
   "source": []
  },
  {
   "cell_type": "code",
   "execution_count": null,
   "metadata": {},
   "outputs": [],
   "source": []
  },
  {
   "cell_type": "code",
   "execution_count": null,
   "metadata": {},
   "outputs": [],
   "source": []
  }
 ],
 "metadata": {
  "kernelspec": {
   "display_name": "Python 3 (ipykernel)",
   "language": "python",
   "name": "python3"
  },
  "language_info": {
   "codemirror_mode": {
    "name": "ipython",
    "version": 3
   },
   "file_extension": ".py",
   "mimetype": "text/x-python",
   "name": "python",
   "nbconvert_exporter": "python",
   "pygments_lexer": "ipython3",
   "version": "3.8.12"
  }
 },
 "nbformat": 4,
 "nbformat_minor": 4
}

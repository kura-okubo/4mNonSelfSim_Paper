{
 "cells": [
  {
   "cell_type": "markdown",
   "metadata": {},
   "source": [
    "# Plot schematic of self-similarity of earthquakes\n",
    "\n",
    "2024.06.28 Kurama Okubo\n",
    "\n",
    "- 2024.12.3 update for the AGU2024 presentation.\n",
    "- 2025.1.7 update for the introduction figure."
   ]
  },
  {
   "cell_type": "code",
   "execution_count": 1,
   "metadata": {},
   "outputs": [],
   "source": [
    "import os\n",
    "\n",
    "import matplotlib.pyplot as plt\n",
    "from matplotlib.cm import ScalarMappable\n",
    "import matplotlib as mpl\n",
    "%matplotlib inline\n",
    "import glob\n",
    "from glob import glob\n",
    "import numpy as np\n",
    "import pandas as pd\n",
    "import datetime\n",
    "from datetime import timedelta\n",
    "from tqdm import tqdm\n",
    "import warnings\n",
    "import time\n",
    "import pickle \n",
    "import seaborn as sns\n",
    "\n",
    "%load_ext autoreload\n",
    "%autoreload 2\n",
    "\n",
    "plt.rcParams[\"font.family\"] = 'Arial'\n",
    "# plt.rcParams[\"font.sans-serif\"] = \"DejaVu Sans, Arial, Helvetica, Lucida Grande, Verdana, Geneva, Lucid, Avant Garde, sans-serif\"\n",
    "plt.rcParams[\"font.size\"] = 12\n",
    "plt.rcParams[\"xtick.direction\"] = \"in\"\n",
    "plt.rcParams[\"xtick.major.size\"] = 4.75\n",
    "plt.rcParams[\"xtick.major.width\"] = 0.75\n",
    "plt.rcParams[\"xtick.minor.size\"] = 3\n",
    "plt.rcParams[\"xtick.minor.width\"] = 0.4\n",
    "plt.rcParams[\"xtick.minor.visible\"] = True\n",
    "\n",
    "plt.rcParams[\"ytick.direction\"] = \"in\"\n",
    "plt.rcParams[\"ytick.major.size\"] = 4.75\n",
    "plt.rcParams[\"ytick.major.width\"] = 0.75\n",
    "plt.rcParams[\"ytick.minor.size\"] = 3\n",
    "plt.rcParams[\"ytick.minor.width\"] = 0.4\n",
    "plt.rcParams[\"ytick.minor.visible\"] = True\n",
    "\n",
    "plt.rcParams[\"savefig.transparent\"] = True\n",
    "\n",
    "plt.rcParams['axes.linewidth'] = 0.75\n"
   ]
  },
  {
   "cell_type": "code",
   "execution_count": null,
   "metadata": {},
   "outputs": [],
   "source": []
  },
  {
   "cell_type": "markdown",
   "metadata": {},
   "source": [
    "### Self-similar source time function\n",
    "\n",
    "We compute the synthetic self-similar source time function with the equivalent seismic moment. \n",
    "\n",
    "The formulation of the seismic moment and duration is\n",
    "\n",
    "$$ M_0 = \\dfrac{16}{7} \\Delta \\sigma \\left( \\dfrac{k}{2\\pi} \\beta T_R \\right) ^3 $$\n",
    "\n",
    "where $k$ is 1.99 for P spectrum of Madariaga's circular fault model with rupture velocity is 0.9$\\beta$. $T_R$ is the proxy of source duration such as $1/\\omega_c$.\n",
    "Considering the constant stress drop and the similar coefficient of $k$, i.e., same rupture velocity, the scaling of moment and duration is written as follows:\n",
    "\n",
    "$$ M_0 = \\gamma T_R^3. $$\n",
    "\n",
    "Thus,\n",
    "$$ T_R = cM_0^{1/3} $$  \n",
    "\n",
    "Generally, we estimate the scaling as $T_R = cM_0^{\\alpha}$."
   ]
  },
  {
   "cell_type": "markdown",
   "metadata": {},
   "source": [
    "- STF of Küpper wavelet\n",
    "\n",
    "reference: e.g., muller1970., Maeda et al (2017).\n",
    "\n",
    "$$ STF(t) = \\dfrac{3\\pi}{4T_R} \\sin^3 (\\dfrac{\\pi t}{T_R}). $$\n",
    "\n",
    "The seismic moment is the integral of this, and is equal to unity as it is normalized.\n",
    "\n",
    "We determine the coefficient $c$ with the minimum event in this notebook. "
   ]
  },
  {
   "cell_type": "code",
   "execution_count": 2,
   "metadata": {},
   "outputs": [],
   "source": [
    "def stf_cosine(t, TR, fz):\n",
    "    '''\n",
    "        source time function of cosine wavelet\n",
    "        https://tktmyd.github.io/OpenSWPC/English/2._Parameter_Settings/0207_source/\n",
    "        Argument: \n",
    "            t:: time vector\n",
    "    '''\n",
    "    stf = np.zeros(len(t))\n",
    "    for i, tt in enumerate(t):\n",
    "        if 0<tt and tt<TR:\n",
    "            stf[i] = (fz/TR) * (1 - np.cos((2*np.pi*tt/TR)))\n",
    "        else:\n",
    "            stf[i] = 0\n",
    "            \n",
    "    return stf"
   ]
  },
  {
   "cell_type": "code",
   "execution_count": 3,
   "metadata": {},
   "outputs": [],
   "source": [
    "def stf_kupper(t, TR, fz):\n",
    "    '''\n",
    "        source time function of Küpper wavelet\n",
    "        https://tktmyd.github.io/OpenSWPC/English/2._Parameter_Settings/0207_source/\n",
    "        Argument: \n",
    "            t:: time vector\n",
    "    '''\n",
    "    stf = np.zeros(len(t))\n",
    "    for i, tt in enumerate(t):\n",
    "        if 0<tt and tt<TR:\n",
    "            stf[i] = fz * ((3 * np.pi)/(4 * TR)) * np.sin(np.pi * tt/TR)**3\n",
    "        else:\n",
    "            stf[i] = 0\n",
    "            \n",
    "    return stf"
   ]
  },
  {
   "cell_type": "code",
   "execution_count": null,
   "metadata": {},
   "outputs": [],
   "source": []
  },
  {
   "cell_type": "markdown",
   "metadata": {},
   "source": [
    "# Read the event catalog"
   ]
  },
  {
   "cell_type": "code",
   "execution_count": 4,
   "metadata": {},
   "outputs": [
    {
     "data": {
      "text/html": [
       "<div>\n",
       "<style scoped>\n",
       "    .dataframe tbody tr th:only-of-type {\n",
       "        vertical-align: middle;\n",
       "    }\n",
       "\n",
       "    .dataframe tbody tr th {\n",
       "        vertical-align: top;\n",
       "    }\n",
       "\n",
       "    .dataframe thead th {\n",
       "        text-align: right;\n",
       "    }\n",
       "</style>\n",
       "<table border=\"1\" class=\"dataframe\">\n",
       "  <thead>\n",
       "    <tr style=\"text-align: right;\">\n",
       "      <th></th>\n",
       "      <th>location</th>\n",
       "      <th>event_onset_time</th>\n",
       "      <th>stickslip_id</th>\n",
       "      <th>event_label</th>\n",
       "      <th>Q_correction_quart</th>\n",
       "      <th>Nvalidsensors</th>\n",
       "      <th>M0</th>\n",
       "      <th>M0_std</th>\n",
       "      <th>Mw</th>\n",
       "      <th>Tw</th>\n",
       "      <th>Tw_std</th>\n",
       "    </tr>\n",
       "    <tr>\n",
       "      <th>event_id</th>\n",
       "      <th></th>\n",
       "      <th></th>\n",
       "      <th></th>\n",
       "      <th></th>\n",
       "      <th></th>\n",
       "      <th></th>\n",
       "      <th></th>\n",
       "      <th></th>\n",
       "      <th></th>\n",
       "      <th></th>\n",
       "      <th></th>\n",
       "    </tr>\n",
       "  </thead>\n",
       "  <tbody>\n",
       "    <tr>\n",
       "      <th>4</th>\n",
       "      <td>1.75</td>\n",
       "      <td>42.474772</td>\n",
       "      <td>3</td>\n",
       "      <td>A</td>\n",
       "      <td>50</td>\n",
       "      <td>4</td>\n",
       "      <td>0.592607</td>\n",
       "      <td>0.178671</td>\n",
       "      <td>-6.218156</td>\n",
       "      <td>0.000003</td>\n",
       "      <td>1.530315e-07</td>\n",
       "    </tr>\n",
       "    <tr>\n",
       "      <th>9</th>\n",
       "      <td>1.75</td>\n",
       "      <td>47.662693</td>\n",
       "      <td>5</td>\n",
       "      <td>F</td>\n",
       "      <td>50</td>\n",
       "      <td>4</td>\n",
       "      <td>0.046991</td>\n",
       "      <td>0.007419</td>\n",
       "      <td>-6.951990</td>\n",
       "      <td>0.000002</td>\n",
       "      <td>3.643121e-07</td>\n",
       "    </tr>\n",
       "    <tr>\n",
       "      <th>18</th>\n",
       "      <td>1.75</td>\n",
       "      <td>56.727044</td>\n",
       "      <td>8</td>\n",
       "      <td>F</td>\n",
       "      <td>50</td>\n",
       "      <td>4</td>\n",
       "      <td>0.755830</td>\n",
       "      <td>0.192507</td>\n",
       "      <td>-6.147717</td>\n",
       "      <td>0.000003</td>\n",
       "      <td>3.100882e-07</td>\n",
       "    </tr>\n",
       "    <tr>\n",
       "      <th>19</th>\n",
       "      <td>1.75</td>\n",
       "      <td>59.103175</td>\n",
       "      <td>9</td>\n",
       "      <td>F</td>\n",
       "      <td>50</td>\n",
       "      <td>4</td>\n",
       "      <td>0.055755</td>\n",
       "      <td>0.016951</td>\n",
       "      <td>-6.902476</td>\n",
       "      <td>0.000002</td>\n",
       "      <td>2.699155e-07</td>\n",
       "    </tr>\n",
       "    <tr>\n",
       "      <th>20</th>\n",
       "      <td>1.75</td>\n",
       "      <td>59.103526</td>\n",
       "      <td>9</td>\n",
       "      <td>F</td>\n",
       "      <td>50</td>\n",
       "      <td>4</td>\n",
       "      <td>0.865466</td>\n",
       "      <td>0.210250</td>\n",
       "      <td>-6.108500</td>\n",
       "      <td>0.000003</td>\n",
       "      <td>1.352659e-07</td>\n",
       "    </tr>\n",
       "  </tbody>\n",
       "</table>\n",
       "</div>"
      ],
      "text/plain": [
       "          location  event_onset_time  stickslip_id event_label  \\\n",
       "event_id                                                         \n",
       "4             1.75         42.474772             3           A   \n",
       "9             1.75         47.662693             5           F   \n",
       "18            1.75         56.727044             8           F   \n",
       "19            1.75         59.103175             9           F   \n",
       "20            1.75         59.103526             9           F   \n",
       "\n",
       "          Q_correction_quart  Nvalidsensors        M0    M0_std        Mw  \\\n",
       "event_id                                                                    \n",
       "4                         50              4  0.592607  0.178671 -6.218156   \n",
       "9                         50              4  0.046991  0.007419 -6.951990   \n",
       "18                        50              4  0.755830  0.192507 -6.147717   \n",
       "19                        50              4  0.055755  0.016951 -6.902476   \n",
       "20                        50              4  0.865466  0.210250 -6.108500   \n",
       "\n",
       "                Tw        Tw_std  \n",
       "event_id                          \n",
       "4         0.000003  1.530315e-07  \n",
       "9         0.000002  3.643121e-07  \n",
       "18        0.000003  3.100882e-07  \n",
       "19        0.000002  2.699155e-07  \n",
       "20        0.000003  1.352659e-07  "
      ]
     },
     "execution_count": 4,
     "metadata": {},
     "output_type": "execute_result"
    }
   ],
   "source": [
    "# read gouge event catalog\n",
    "expr_id = 87\n",
    "gougepatch_id = \"G3\"\n",
    "Qinv_quart = 50\n",
    "\n",
    "Nvalidsensors_thresh = 4\n",
    "\n",
    "finame = f\"../../../GougeEventCatalog/data/gougeeventcatalog__fb03-{expr_id:03d}__{gougepatch_id}__Q{Qinv_quart}.csv\"\n",
    "df_gc = pd.read_csv(finame, index_col=0)\n",
    "df_gc_selected = df_gc[df_gc[\"Nvalidsensors\"] >= Nvalidsensors_thresh].copy()\n",
    "df_gc_selected.head()"
   ]
  },
  {
   "cell_type": "code",
   "execution_count": 5,
   "metadata": {},
   "outputs": [],
   "source": [
    "M0_mean = df_gc_selected.sort_values(by=\"M0\").M0\n",
    "Tw_mean = df_gc_selected.sort_values(by=\"M0\").Tw"
   ]
  },
  {
   "cell_type": "code",
   "execution_count": 6,
   "metadata": {},
   "outputs": [
    {
     "data": {
      "text/plain": [
       "event_id\n",
       "128    0.012927\n",
       "126    0.017021\n",
       "21     0.021466\n",
       "9      0.046991\n",
       "19     0.055755\n",
       "Name: M0, dtype: float64"
      ]
     },
     "execution_count": 6,
     "metadata": {},
     "output_type": "execute_result"
    }
   ],
   "source": [
    "M0_mean.head()"
   ]
  },
  {
   "cell_type": "code",
   "execution_count": 7,
   "metadata": {},
   "outputs": [
    {
     "data": {
      "text/plain": [
       "event_id\n",
       "128    2.231325\n",
       "126    1.991559\n",
       "21     2.309987\n",
       "9      2.346274\n",
       "19     2.484483\n",
       "Name: Tw, dtype: float64"
      ]
     },
     "execution_count": 7,
     "metadata": {},
     "output_type": "execute_result"
    }
   ],
   "source": [
    "Tw_mean.head()*1e6"
   ]
  },
  {
   "cell_type": "code",
   "execution_count": 8,
   "metadata": {},
   "outputs": [],
   "source": [
    "# # The variation of M0 from Qinv_quart 50 result\n",
    "# M0_mean = np.array([0.01303659, 0.01691624, 0.02163488, 0.05577009, 0.06540957,\n",
    "#        0.0684772 , 0.07657176, 0.18635364, 0.20211973, 0.26222699,\n",
    "#        0.27319155, 0.32852531, 0.34865222, 0.48165184, 0.48259824,\n",
    "#        0.48830061, 0.58415808, 0.5923466 , 0.69312544, 0.69794075,\n",
    "#        0.71835837, 0.73879836, 0.75248949, 0.75870786, 0.78072679,\n",
    "#        0.79024216, 0.80646432, 0.87277011, 0.90517182, 0.97249315,\n",
    "#        1.13026941, 1.23430449])"
   ]
  },
  {
   "cell_type": "markdown",
   "metadata": {},
   "source": [
    "# Synthesize the source time function\n",
    "\n",
    "We synthesize the source time function based on the data from the gouge event catalog.\n",
    "We select the three events, and use the seismic moment. Then, we compute the source duration by the scaling coefficient $T_R = cM_0^{\\alpha}$.\n"
   ]
  },
  {
   "cell_type": "code",
   "execution_count": 9,
   "metadata": {},
   "outputs": [],
   "source": [
    "gougeevent_ids = [24, 52, 129]\n",
    "M0_min = M0_mean.loc[gougeevent_ids[0]]\n",
    "M0_1 = M0_mean.loc[gougeevent_ids[1]] # np.median(M0_mean)\n",
    "M0_2 = M0_mean.loc[gougeevent_ids[2]]"
   ]
  },
  {
   "cell_type": "code",
   "execution_count": 10,
   "metadata": {},
   "outputs": [
    {
     "data": {
      "text/plain": [
       "(0.065639137, 0.48113795, 1.1312377)"
      ]
     },
     "execution_count": 10,
     "metadata": {},
     "output_type": "execute_result"
    }
   ],
   "source": [
    "M0_min, M0_1, M0_2"
   ]
  },
  {
   "cell_type": "code",
   "execution_count": 11,
   "metadata": {},
   "outputs": [
    {
     "name": "stdout",
     "output_type": "stream",
     "text": [
      "2.4645085\n"
     ]
    },
    {
     "data": {
      "text/plain": [
       "6.109552009158324e-06"
      ]
     },
     "execution_count": 11,
     "metadata": {},
     "output_type": "execute_result"
    }
   ],
   "source": [
    "# Tw_min = 2.5e-6 \n",
    "Tw_min = Tw_mean.loc[gougeevent_ids[0]] # use the real data as Tw min\n",
    "print(Tw_min*1e6)\n",
    "scaling_coef_c = Tw_min/(M0_min**(1/3))\n",
    "scaling_coef_c"
   ]
  },
  {
   "cell_type": "code",
   "execution_count": 12,
   "metadata": {},
   "outputs": [],
   "source": [
    "M0_try = [M0_min, M0_1, M0_2,]\n",
    "N_M0 = len(M0_try)\n",
    "Tw_try = []\n",
    "for M0 in M0_try:\n",
    "    Tw_try.append(scaling_coef_c * M0**(1/3))"
   ]
  },
  {
   "cell_type": "code",
   "execution_count": 13,
   "metadata": {},
   "outputs": [
    {
     "data": {
      "text/plain": [
       "[2.4645085e-06, 4.78739472967761e-06, 6.365912372997462e-06]"
      ]
     },
     "execution_count": 13,
     "metadata": {},
     "output_type": "execute_result"
    }
   ],
   "source": [
    "Tw_try"
   ]
  },
  {
   "cell_type": "code",
   "execution_count": 14,
   "metadata": {},
   "outputs": [],
   "source": [
    "# Read the color synchronize with the waveform plots\n",
    "# load color dictionary consistent to the plot of the repeated waveforms\n",
    "repeated_sensor_lcdict = \"OL08\" # the color dict is same for all the sensor although separately saved.\n",
    "with open(f'../../../ComputeScaling/data/01_plot_gougeevents/lc_dict_{gougepatch_id}_{repeated_sensor_lcdict}.pkl', 'rb') as fi:\n",
    "    lc_dict = pickle.load(fi)\n",
    "\n"
   ]
  },
  {
   "cell_type": "code",
   "execution_count": 15,
   "metadata": {},
   "outputs": [],
   "source": [
    "# cmap = sns.color_palette(\"viridis_r\", as_cmap=True)\n",
    "# skipcolor = 1\n",
    "# c_norm = mpl.colors.Normalize(vmin=0, vmax=N_M0+skipcolor)"
   ]
  },
  {
   "cell_type": "code",
   "execution_count": 16,
   "metadata": {},
   "outputs": [
    {
     "data": {
      "text/plain": [
       "1e-08"
      ]
     },
     "execution_count": 16,
     "metadata": {},
     "output_type": "execute_result"
    }
   ],
   "source": [
    "tvec = np.linspace(0, 10e-6, 1001) # time vector\n",
    "dt = tvec[1]-tvec[0]\n",
    "dt"
   ]
  },
  {
   "cell_type": "code",
   "execution_count": 17,
   "metadata": {},
   "outputs": [
    {
     "data": {
      "image/png": "[encoded data removed]",
      "text/plain": [
       "<Figure size 800x600 with 1 Axes>"
      ]
     },
     "metadata": {},
     "output_type": "display_data"
    }
   ],
   "source": [
    "fig, ax = plt.subplots(1, 1, figsize = (8, 6))\n",
    "\n",
    "troll = 2e-6 # roll the trace to insert zero before the onset of STF\n",
    "nroll = int(np.round(troll/dt))\n",
    "\n",
    "for i in range(N_M0):\n",
    "    tr_cos = stf_cosine(tvec, Tw_try[i], M0_try[i])\n",
    "    # tr_kupper = stf_kupper(tvec, Tw_try[i], M0_try[i])\n",
    "\n",
    "    ax.plot((tvec-troll) * 1e6, np.roll(tr_cos, nroll), \"-\", c=lc_dict[f\"fb03-{expr_id:03d}__{gougeevent_ids[i]:04d}\"]) #c=cmap(c_norm(i+skipcolor)))\n",
    "\n",
    "ax.set_xlabel(\"Time\")\n",
    "ax.get_yaxis().set_visible(False)\n",
    "ax.spines[['left', 'right', 'top']].set_visible(False)\n",
    "\n",
    "ax.set_ylim([-1e5, 0.6 * 1e6])\n",
    "\n",
    "fig.tight_layout()\n",
    "\n",
    "plt.savefig(\"./schematic_selfsimilar.eps\",)\n",
    "plt.savefig(\"./schematic_selfsimilar.png\", dpi=70)\n"
   ]
  },
  {
   "cell_type": "markdown",
   "metadata": {},
   "source": [
    "# Schematic of non-self-similar events\n",
    "\n",
    "**Update:** using weak scaling of Tw with the M0."
   ]
  },
  {
   "cell_type": "markdown",
   "metadata": {},
   "source": [
    "For the non-self-similar events, the M0 is scaled as $T_R = cM_0^{\\alpha}$."
   ]
  },
  {
   "cell_type": "code",
   "execution_count": null,
   "metadata": {},
   "outputs": [],
   "source": []
  },
  {
   "cell_type": "code",
   "execution_count": 18,
   "metadata": {},
   "outputs": [],
   "source": [
    "scaling_alpha = 0.04 #0.04 # estimation of log-linear fit\n",
    "M0_try_nonsim = [M0_min, M0_1, M0_2,] # same as the self-similar case\n",
    "assert(M0_try == M0_try_nonsim)\n",
    "N_M0 = len(M0_try_nonsim)\n",
    "Tw_try_nonsim = []\n",
    "\n",
    "scaling_coef_c_nonsim = Tw_min/(M0_min**(scaling_alpha))\n",
    "\n",
    "for M0 in M0_try_nonsim:\n",
    "    Tw_try_nonsim.append(scaling_coef_c_nonsim * M0**(scaling_alpha))"
   ]
  },
  {
   "cell_type": "code",
   "execution_count": 19,
   "metadata": {},
   "outputs": [
    {
     "data": {
      "text/plain": [
       "[0.065639137, 0.48113795, 1.1312377]"
      ]
     },
     "execution_count": 19,
     "metadata": {},
     "output_type": "execute_result"
    }
   ],
   "source": [
    "M0_try_nonsim"
   ]
  },
  {
   "cell_type": "code",
   "execution_count": 20,
   "metadata": {},
   "outputs": [
    {
     "data": {
      "text/plain": [
       "[2.4645085e-06, 2.6689140650730363e-06, 2.7617601618696718e-06]"
      ]
     },
     "execution_count": 20,
     "metadata": {},
     "output_type": "execute_result"
    }
   ],
   "source": [
    "Tw_try_nonsim"
   ]
  },
  {
   "cell_type": "code",
   "execution_count": 21,
   "metadata": {},
   "outputs": [
    {
     "data": {
      "image/png": "[encoded data removed]",
      "text/plain": [
       "<Figure size 800x600 with 1 Axes>"
      ]
     },
     "metadata": {},
     "output_type": "display_data"
    }
   ],
   "source": [
    "fig, ax = plt.subplots(1, 1, figsize = (8, 6))\n",
    "\n",
    "troll = 2e-6 # roll the trace to insert zero before the onset of STF\n",
    "nroll = int(np.round(troll/dt))\n",
    "\n",
    "# amplify the self-similar STF for ease of visualization \n",
    "selfsim_ampnorm = 1.0 #1.5 # update: use 1.0 to represent the same M0\n",
    "\n",
    "for i in range(N_M0):\n",
    "    \n",
    "    tr_cos = stf_cosine(tvec, Tw_try[i], M0_try[i])\n",
    "    tr_kupper = stf_kupper(tvec, Tw_try[i], M0_try[i])\n",
    "    \n",
    "    tr_cos_nonselfsim = stf_cosine(tvec, Tw_try_nonsim[i], M0_try_nonsim[i])\n",
    "    # tr_kupper_nonselfsim = stf_kupper(tvec, Tw_try_nonsim[i], M0_try_nonsim[i])\n",
    "    \n",
    "    ax.plot((tvec-troll) * 1e6, selfsim_ampnorm * np.roll(tr_cos, nroll), \"--\", c=[0.7, 0.7, 0.7], lw=1, zorder=-4)\n",
    "    ax.plot((tvec-troll) * 1e6, np.roll(tr_cos_nonselfsim, nroll), \"-\", c=lc_dict[f\"fb03-{expr_id:03d}__{gougeevent_ids[i]:04d}\"]) #c=cmap(c_norm(i+skipcolor)), zorder=1)\n",
    "\n",
    "ax.set_xlabel(\"Time\")\n",
    "# ax.get_yaxis().set_visible(False)\n",
    "ax.set_ylim([-1e5, 1e6])\n",
    "ax.spines[['left', 'right', 'top']].set_visible(False)\n",
    "\n",
    "fig.tight_layout()\n",
    "\n",
    "plt.savefig(\"./schematic_nonselfsimilar.eps\",)\n",
    "plt.savefig(\"./schematic_nonselfsimilar.png\", dpi=70)\n"
   ]
  },
  {
   "cell_type": "code",
   "execution_count": null,
   "metadata": {},
   "outputs": [],
   "source": []
  },
  {
   "cell_type": "code",
   "execution_count": null,
   "metadata": {},
   "outputs": [],
   "source": []
  }
 ],
 "metadata": {
  "kernelspec": {
   "display_name": "Python 3 (ipykernel)",
   "language": "python",
   "name": "python3"
  },
  "language_info": {
   "codemirror_mode": {
    "name": "ipython",
    "version": 3
   },
   "file_extension": ".py",
   "mimetype": "text/x-python",
   "name": "python",
   "nbconvert_exporter": "python",
   "pygments_lexer": "ipython3",
   "version": "3.12.9"
  }
 },
 "nbformat": 4,
 "nbformat_minor": 4
}

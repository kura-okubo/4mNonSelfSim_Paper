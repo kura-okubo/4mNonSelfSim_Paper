{
 "cells": [
  {
   "cell_type": "markdown",
   "metadata": {},
   "source": [
    "# Plot AE waveforms\n",
    "\n",
    "Plotting the AE waveforms with the sensor locations.\n",
    "The aim of plot is to show a set of waveforms corresponding to the figure for the strain and AE waveforms.\n",
    "\n",
    "2024.06.09 Kurama Okubo\n",
    "\n",
    "- 2024.09.02 update for gouge event 61\n",
    "- 2024.12.23 update for new catalog\n",
    "- 2025.1.22 Apply band-pass, instead of high-pass, with the one-way sos filter to avoid the acausal artifacts.\n",
    "- 2025.1.23 Plot the four sensor names.\n",
    "- 2025.2.24 Change the patch name from G3 to P3."
   ]
  },
  {
   "cell_type": "code",
   "execution_count": 18,
   "metadata": {},
   "outputs": [
    {
     "name": "stdout",
     "output_type": "stream",
     "text": [
      "The autoreload extension is already loaded. To reload it, use:\n",
      "  %reload_ext autoreload\n"
     ]
    }
   ],
   "source": [
    "import os\n",
    "import obspy\n",
    "from obspy import read, Stream, Trace\n",
    "from scipy import signal\n",
    "import matplotlib.pyplot as plt\n",
    "from matplotlib.cm import ScalarMappable\n",
    "import matplotlib as mpl\n",
    "%matplotlib inline\n",
    "import glob\n",
    "from glob import glob\n",
    "import numpy as np\n",
    "import pandas as pd\n",
    "import datetime\n",
    "from datetime import timedelta\n",
    "from tqdm import tqdm\n",
    "import warnings\n",
    "import time\n",
    "import pickle \n",
    "import seaborn as sns\n",
    "from scipy.optimize import minimize\n",
    "\n",
    "from obspy.signal.cross_correlation import correlate, xcorr_max\n",
    "\n",
    "from obspy.core.utcdatetime import UTCDateTime    \n",
    "\n",
    "%load_ext autoreload\n",
    "%autoreload 2\n",
    "\n",
    "plt.rcParams[\"font.family\"] = 'Arial'\n",
    "# plt.rcParams[\"font.sans-serif\"] = \"DejaVu Sans, Arial, Helvetica, Lucida Grande, Verdana, Geneva, Lucid, Avant Garde, sans-serif\"\n",
    "plt.rcParams[\"font.size\"] = 10\n",
    "plt.rcParams[\"xtick.direction\"] = \"in\"\n",
    "plt.rcParams[\"xtick.major.size\"] = 4.75\n",
    "plt.rcParams[\"xtick.major.width\"] = 0.5 #0.75\n",
    "plt.rcParams[\"xtick.minor.size\"] = 3\n",
    "plt.rcParams[\"xtick.minor.width\"] = 0.4\n",
    "plt.rcParams[\"xtick.minor.visible\"] = True\n",
    "\n",
    "plt.rcParams[\"ytick.direction\"] = \"in\"\n",
    "plt.rcParams[\"ytick.major.size\"] = 4.75\n",
    "plt.rcParams[\"ytick.major.width\"] = 0.5 #0.75\n",
    "plt.rcParams[\"ytick.minor.size\"] = 3\n",
    "plt.rcParams[\"ytick.minor.width\"] = 0.4\n",
    "plt.rcParams[\"ytick.minor.visible\"] = True\n",
    "\n",
    "plt.rcParams[\"savefig.transparent\"] = True\n",
    "\n",
    "plt.rcParams['axes.linewidth'] = 0.5\n",
    "os.environ['TZ'] = 'GMT' # change time zone to avoid confusion in unix_tvec conversion\n",
    "UTCDateTime.DEFAULT_PRECISION = 8 # increase the time precision\n"
   ]
  },
  {
   "cell_type": "code",
   "execution_count": 19,
   "metadata": {},
   "outputs": [],
   "source": [
    "# channel table\n",
    "channel_finame = '../../../Others/AEchanneltable/AEsensorlocation_onFB03_table.csv'\n",
    "\n",
    "# output datadir\n",
    "data_inputdir = \"../../../SourceInvFit/data/07_DATA_MTinversion\"\n",
    "\n",
    "# select balldrop calibration model\n",
    "balldrop_model=4 # 2 for the model only with SiTj, 4 for the SiTjbeta\n",
    "\n",
    "if balldrop_model==4:\n",
    "    aperturecorrection=True\n",
    "elif balldrop_model==2:\n",
    "    aperturecorrection=False\n",
    "else:\n",
    "    aperturecorrection=False\n",
    "    \n",
    "# Path for event location table\n",
    "datadir = f\"../../../SourceInvFit/data/06_2_assemble_gf_model{balldrop_model}\"\n",
    "\n",
    "# read foreshock or aftershock table\n",
    "\n",
    "# path for the source parameters\n",
    "# data_gougeeventsourceparm = \"../../EnergyBudget/data/gougeevent_sourceparameters.csv\""
   ]
  },
  {
   "cell_type": "code",
   "execution_count": 20,
   "metadata": {},
   "outputs": [],
   "source": [
    "figdir = \"../figure/\"\n",
    "if not os.path.exists(figdir):\n",
    "    os.makedirs(figdir)"
   ]
  },
  {
   "cell_type": "code",
   "execution_count": 21,
   "metadata": {},
   "outputs": [],
   "source": [
    "# Read Channel Index\n",
    "df_array = pd.read_csv(channel_finame)\n",
    "\n",
    "channel_loc={}\n",
    "\n",
    "for i in range(len(df_array)):\n",
    "    stnm = df_array.iloc[i].Instrument_Label\n",
    "    xtemp = df_array.iloc[i].North.astype('float')\n",
    "    ytemp = df_array.iloc[i].East.astype('float')\n",
    "    ztemp = df_array.iloc[i].Down.astype('float')\n",
    "    channel_loc[stnm] = [xtemp, ytemp, ztemp]\n",
    "    \n",
    "AEsensors = list(channel_loc.keys())\n",
    "# channel_loc"
   ]
  },
  {
   "cell_type": "code",
   "execution_count": null,
   "metadata": {},
   "outputs": [],
   "source": []
  },
  {
   "cell_type": "markdown",
   "metadata": {},
   "source": [
    "# Read the waveforms\n",
    "We read the waveforms compiled in `06_assemble_greensfunction_MTinv_removeresp`.\n",
    "We use the `stage 1`, where the instrumental response and gain correction by the ball drop were applied.\n"
   ]
  },
  {
   "cell_type": "code",
   "execution_count": null,
   "metadata": {},
   "outputs": [],
   "source": []
  },
  {
   "cell_type": "code",
   "execution_count": 22,
   "metadata": {},
   "outputs": [
    {
     "name": "stdout",
     "output_type": "stream",
     "text": [
      "start processing event fb03-087__0072.\n"
     ]
    }
   ],
   "source": [
    "gougeevent_id = 72 #30\n",
    "datacase = f\"fb03-087__{gougeevent_id:04d}\"\n",
    "    \n",
    "print(f\"start processing event {datacase}.\")\n",
    "\n",
    "# load event trace\n",
    "st_event = read(datadir + \"/{}_AEwaveform_forFig2.pickle\".format(datacase)) # this contains observation and green's function within a thresholded distance\n",
    "st_event_obs = st_event.select( location=\"stage1\" )\n",
    "\n"
   ]
  },
  {
   "cell_type": "code",
   "execution_count": 23,
   "metadata": {},
   "outputs": [
    {
     "data": {
      "text/plain": [
       "19 Trace(s) in Stream:\n",
       "FB.OL03.stage1.OZ | 2023-05-29T00:02:10.73444900Z - 2023-05-29T00:02:10.73475900Z | 10000000.0 Hz, 3101 samples\n",
       "FB.OL04.stage1.OZ | 2023-05-29T00:02:10.73444900Z - 2023-05-29T00:02:10.73475900Z | 10000000.0 Hz, 3101 samples\n",
       "FB.OL05.stage1.OZ | 2023-05-29T00:02:10.73444900Z - 2023-05-29T00:02:10.73475900Z | 10000000.0 Hz, 3101 samples\n",
       "FB.OL06.stage1.OZ | 2023-05-29T00:02:10.73444900Z - 2023-05-29T00:02:10.73475900Z | 10000000.0 Hz, 3101 samples\n",
       "FB.OL07.stage1.OZ | 2023-05-29T00:02:10.73444900Z - 2023-05-29T00:02:10.73475900Z | 10000000.0 Hz, 3101 samples\n",
       "FB.OL08.stage1.OZ | 2023-05-29T00:02:10.73444900Z - 2023-05-29T00:02:10.73475900Z | 10000000.0 Hz, 3101 samples\n",
       "FB.OL09.stage1.OZ | 2023-05-29T00:02:10.73444900Z - 2023-05-29T00:02:10.73475900Z | 10000000.0 Hz, 3101 samples\n",
       "FB.OL10.stage1.OZ | 2023-05-29T00:02:10.73444900Z - 2023-05-29T00:02:10.73475900Z | 10000000.0 Hz, 3101 samples\n",
       "FB.OL11.stage1.OZ | 2023-05-29T00:02:10.73444900Z - 2023-05-29T00:02:10.73475900Z | 10000000.0 Hz, 3101 samples\n",
       "FB.OL12.stage1.OZ | 2023-05-29T00:02:10.73444900Z - 2023-05-29T00:02:10.73475900Z | 10000000.0 Hz, 3101 samples\n",
       "FB.OL19.stage1.OZ | 2023-05-29T00:02:10.73444900Z - 2023-05-29T00:02:10.73475900Z | 10000000.0 Hz, 3101 samples\n",
       "FB.OL20.stage1.OZ | 2023-05-29T00:02:10.73444900Z - 2023-05-29T00:02:10.73475900Z | 10000000.0 Hz, 3101 samples\n",
       "FB.OL21.stage1.OZ | 2023-05-29T00:02:10.73444900Z - 2023-05-29T00:02:10.73475900Z | 10000000.0 Hz, 3101 samples\n",
       "FB.OL22.stage1.OZ | 2023-05-29T00:02:10.73444900Z - 2023-05-29T00:02:10.73475900Z | 10000000.0 Hz, 3101 samples\n",
       "FB.OL23.stage1.OZ | 2023-05-29T00:02:10.73444900Z - 2023-05-29T00:02:10.73475900Z | 10000000.0 Hz, 3101 samples\n",
       "FB.OL24.stage1.OZ | 2023-05-29T00:02:10.73444900Z - 2023-05-29T00:02:10.73475900Z | 10000000.0 Hz, 3101 samples\n",
       "FB.OL25.stage1.OZ | 2023-05-29T00:02:10.73444900Z - 2023-05-29T00:02:10.73475900Z | 10000000.0 Hz, 3101 samples\n",
       "FB.OL26.stage1.OZ | 2023-05-29T00:02:10.73444900Z - 2023-05-29T00:02:10.73475900Z | 10000000.0 Hz, 3101 samples\n",
       "FB.OL27.stage1.OZ | 2023-05-29T00:02:10.73444900Z - 2023-05-29T00:02:10.73475900Z | 10000000.0 Hz, 3101 samples"
      ]
     },
     "execution_count": 23,
     "metadata": {},
     "output_type": "execute_result"
    }
   ],
   "source": [
    "st_event_obs"
   ]
  },
  {
   "cell_type": "code",
   "execution_count": 24,
   "metadata": {},
   "outputs": [],
   "source": [
    "with open(data_inputdir+\"/GridSearch_param_{}_balldropmodel{}.pickle\".format(datacase, balldrop_model),\"rb\") as fo:\n",
    "    param = pickle.load(fo)"
   ]
  },
  {
   "cell_type": "code",
   "execution_count": 25,
   "metadata": {},
   "outputs": [],
   "source": [
    "# datacases_selected = ['fb03-087__0030',\n",
    "#  'fb03-087__0090',\n",
    "#  'fb03-087__0043',\n",
    "#  'fb03-087__0091',\n",
    "#  'fb03-087__0082',\n",
    "#  'fb03-087__0071',\n",
    "#  'fb03-087__0052',\n",
    "#  'fb03-087__0081',\n",
    "#  'fb03-087__0003',\n",
    "#  'fb03-087__0099',\n",
    "#  'fb03-087__0016',\n",
    "#  'fb03-087__0051',\n",
    "#  'fb03-087__0021',\n",
    "#  'fb03-087__0061',\n",
    "#  'fb03-087__0104']\n",
    "\n",
    "# cmap = sns.color_palette(\"viridis_r\", as_cmap=True)\n"
   ]
  },
  {
   "cell_type": "code",
   "execution_count": 26,
   "metadata": {},
   "outputs": [],
   "source": [
    "# # Color for the selected events\n",
    "# skipcolor = 8\n",
    "# c_norm = mpl.colors.Normalize(vmin=0, vmax=len(datacases_selected)+skipcolor)\n",
    "# lc_dict = dict()\n",
    "# for i, dd in enumerate(datacases_selected):\n",
    "#     lc_dict[dd] = cmap(c_norm(i+skipcolor))\n",
    "\n",
    "# lc_dict"
   ]
  },
  {
   "cell_type": "code",
   "execution_count": 27,
   "metadata": {},
   "outputs": [],
   "source": [
    "# load color dictionary consistent to the plot of the repeated waveforms\n",
    "gougepatch_id = \"G3\"\n",
    "repeated_sensor_lcdict = \"OL08\" # the color dict is same for all the sensor although separately saved.\n",
    "with open(f'../../../ComputeScaling/data/01_plot_gougeevents/lc_dict_{gougepatch_id}_{repeated_sensor_lcdict}.pkl', 'rb') as fi:\n",
    "    lc_dict = pickle.load(fi)"
   ]
  },
  {
   "cell_type": "code",
   "execution_count": 28,
   "metadata": {},
   "outputs": [
    {
     "data": {
      "text/plain": [
       "'fb03-087__0072'"
      ]
     },
     "execution_count": 28,
     "metadata": {},
     "output_type": "execute_result"
    }
   ],
   "source": [
    "datacase"
   ]
  },
  {
   "cell_type": "code",
   "execution_count": 29,
   "metadata": {},
   "outputs": [
    {
     "name": "stdout",
     "output_type": "stream",
     "text": [
      "6200\n"
     ]
    }
   ],
   "source": [
    "# Compute p wave arrival\n",
    "cp = param[\"cp\"]\n",
    "print(cp)\n",
    "faultwidth = 0.1 #[m]\n",
    "zs = 0.07 # vertical distance of sensor \n",
    "gouge_loc = 1.7465 # relocated hypocenter #1.75\n",
    "p_arriv_x = np.linspace(-0.6, 0.6, 101) + gouge_loc # relative location from source\n",
    "p_arriv_t = []\n",
    "for x in p_arriv_x:\n",
    "    llen = np.sqrt((x-gouge_loc)**2 + (faultwidth/2)**2)\n",
    "    rlen = np.sqrt(llen**2 + (zs)**2) # source distance\n",
    "    p_arriv_t.append(rlen/cp * 1e3)\n"
   ]
  },
  {
   "cell_type": "code",
   "execution_count": null,
   "metadata": {},
   "outputs": [],
   "source": []
  },
  {
   "cell_type": "code",
   "execution_count": null,
   "metadata": {},
   "outputs": [],
   "source": []
  },
  {
   "cell_type": "code",
   "execution_count": 30,
   "metadata": {},
   "outputs": [],
   "source": [
    "# Parameters for filtering\n",
    "# We use the same filter as the previously analyzed gouge events\n",
    "freqmin = 0.1e6 #0.06e6 # apply highpass\n",
    "freqmax = 1e6 # prefilter is applied when removing the instrumental response. pre_filt = (1e4, 2e4, 1e6, 2e6).\n",
    "butterworth_order = 3"
   ]
  },
  {
   "cell_type": "code",
   "execution_count": 31,
   "metadata": {},
   "outputs": [
    {
     "name": "stdout",
     "output_type": "stream",
     "text": [
      "OL03\n",
      "OL04\n",
      "OL05\n",
      "OL06\n",
      "OL07\n",
      "OL08\n",
      "OL09\n",
      "OL10\n",
      "OL11\n",
      "OL12\n",
      "OL19\n",
      "OL20\n",
      "OL21\n",
      "OL22\n",
      "OL23\n",
      "OL24\n",
      "OL25\n",
      "OL26\n",
      "OL27\n"
     ]
    },
    {
     "data": {
      "image/png": "[encoded data removed]",
      "text/plain": [
       "<Figure size 400x380 with 1 Axes>"
      ]
     },
     "metadata": {},
     "output_type": "display_data"
    }
   ],
   "source": [
    "fig, ax = plt.subplots(1, 1, figsize=(4.0, 3.8))\n",
    "\n",
    "tvec = st_event_obs[0].times()*1e3\n",
    "pretrigger = st_event_obs[0].stats.pretrigger\n",
    "maxdist = 800\n",
    "\n",
    "for i, tr_obs in enumerate(st_event_obs):\n",
    "    \n",
    "    stnm = tr_obs.stats.station\n",
    "    sensorloc = channel_loc[stnm]\n",
    "    sensorloc_x = sensorloc[0]/1e3\n",
    "    \n",
    "    print(stnm)\n",
    "\n",
    "    if stnm==\"OL08\":\n",
    "        lc = \"k\" #lc_dict[datacase]\n",
    "    else:\n",
    "        lc = \"k\"\n",
    "            \n",
    "    if (tr_obs.stats.dist > maxdist) : #skip sensors for visuallization\n",
    "        continue;\n",
    "        \n",
    "    # Apply high-pass filter\n",
    "    # using sos to minimize the numerical error of filter\n",
    "    sos = signal.butter(butterworth_order, [freqmin, freqmax], 'bandpass', fs=tr_obs.stats.sampling_rate, output='sos')\n",
    "    # sos = signal.butter(butterworth_order, [freqmin], 'highpass', fs=tr_obs.stats.sampling_rate, output='sos')\n",
    "    tr_obs_filtered = tr_obs.copy().taper(0.05)\n",
    "    # tr_obs_filtered.data = signal.sosfilt(sos, tr_obs_filtered.data)\n",
    "    # Apply the band-pass filter\n",
    "    b, a = signal.butter(butterworth_order, (freqmin, freqmax), 'bandpass', fs=tr_obs.stats.sampling_rate, output='ba')\n",
    "    # tr_obs_filtered.data = signal.filtfilt(b, a, tr_obs_filtered.data, method='gust') # using two-way filter Gustafsson’s method\n",
    "    tr_obs_filtered.data = signal.lfilter(b, a, tr_obs_filtered.data) # apply one-way filter to avoid acausal signal\n",
    "\n",
    "\n",
    "    ampnorm = 5.0e-3 #1.8e-3\n",
    "    \n",
    "    ax.plot(tvec-pretrigger, tr_obs_filtered.data/ampnorm + sensorloc_x, \"-\", lw=1, c=lc, zorder=2 )\n",
    "\n",
    "    # if stnm==\"OL08\":\n",
    "    if stnm in [\"OL07\", \"OL08\", \"OL22\", \"OL23\"]:\n",
    "        ax.text(0.002, sensorloc_x+0.01, f\"AS{stnm[2:]}\", c=lc)\n",
    "        \n",
    "# plot p wave arrival time with given gouge patch location\n",
    "ax.plot(p_arriv_t, p_arriv_x, \"--\", lw=1, c=\"gray\", zorder = 1 )\n",
    "    \n",
    "# ax.plot(0.01, gouge_loc, \"ko\")\n",
    "ax.text(0.068, 2.083, \"P-wave arrival time\\nassuming a P3 hypocenter\", fontsize=8.2)\n",
    "# ax.text(0.001, 2.075, \"P wave arrival time of\\nthe gouge patch at G3\", fontsize=9)\n",
    "\n",
    "# annotate the scale of velocity\n",
    "scale_x = 0.0125\n",
    "scale_y = 1.45 #33\n",
    "scale_amplitude = 0.5e-3 #[mm/s]\n",
    "ax.plot([scale_x, scale_x], np.array([-scale_amplitude/2, +scale_amplitude/2])/ampnorm+scale_y, \"k-\");\n",
    "ax.text(scale_x+0.002, scale_y, f\"{scale_amplitude*1e3:.1f} mm/s\", va=\"center\")\n",
    "\n",
    "# decoration of figure\n",
    "ax.set_xlim([0.0, 0.12])\n",
    "ax.set_ylim([1.2, 2.2])\n",
    "# ax.set_ylim([1.0, 2.4])\n",
    "\n",
    "ax.set_xlabel(\"Time [ms]\")\n",
    "ax.set_ylabel(\"Easting [m]\")\n",
    "\n",
    "# plot title for the reference\n",
    "ax.text(2e-3, 2.1, f\"GP event ID: {int(tr_obs_filtered.stats.dataindex.split('__')[-1])}\")\n",
    "\n",
    "ax.tick_params(axis='x', which='major', pad=5)\n",
    "fig.tight_layout()\n",
    "\n",
    "plt.savefig(figdir + \"/Fig2_waveform_{}.png\".format(datacase), dpi=70)\n",
    "plt.savefig(figdir + \"/Fig2_waveform_{}.eps\".format(datacase))"
   ]
  },
  {
   "cell_type": "code",
   "execution_count": null,
   "metadata": {},
   "outputs": [],
   "source": []
  },
  {
   "cell_type": "code",
   "execution_count": 32,
   "metadata": {},
   "outputs": [
    {
     "data": {
      "text/plain": [
       "{'OL01': [190.0, 50.0, 70.0],\n",
       " 'OL02': [410.0, 50.0, 70.0],\n",
       " 'OL03': [640.0, 50.0, 70.0],\n",
       " 'OL04': [910.0, 50.0, 70.0],\n",
       " 'OL05': [1160.0, 50.0, 70.0],\n",
       " 'OL06': [1370.0, 50.0, 70.0],\n",
       " 'OL07': [1660.0, 50.0, 70.0],\n",
       " 'OL08': [1910.0, 50.0, 70.0],\n",
       " 'OL09': [2160.0, 50.0, 70.0],\n",
       " 'OL10': [2410.0, 50.0, 70.0],\n",
       " 'OL11': [2650.0, 50.0, 70.0],\n",
       " 'OL12': [2910.0, 50.0, 70.0],\n",
       " 'OL13': [3160.0, 50.0, 70.0],\n",
       " 'OL14': [3410.0, 50.0, 70.0],\n",
       " 'OL15': [3660.0, 50.0, 70.0],\n",
       " 'OL16': [3910.0, 50.0, 70.0],\n",
       " 'OL17': [285.0, -50.0, 70.0],\n",
       " 'OL18': [535.0, -50.0, 70.0],\n",
       " 'OL19': [785.0, -50.0, 70.0],\n",
       " 'OL20': [1035.0, -50.0, 70.0],\n",
       " 'OL21': [1285.0, -50.0, 70.0],\n",
       " 'OL22': [1535.0, -50.0, 70.0],\n",
       " 'OL23': [1785.0, -50.0, 70.0],\n",
       " 'OL24': [2035.0, -50.0, 70.0],\n",
       " 'OL25': [2285.0, -50.0, 70.0],\n",
       " 'OL26': [2535.0, -50.0, 70.0],\n",
       " 'OL27': [2785.0, -50.0, 70.0],\n",
       " 'OL28': [3035.0, -50.0, 70.0],\n",
       " 'OL29': [3285.0, -50.0, 70.0],\n",
       " 'OL30': [3535.0, -50.0, 70.0],\n",
       " 'OL31': [3785.0, -50.0, 70.0],\n",
       " 'OL32': [4035.0, -50.0, 70.0]}"
      ]
     },
     "execution_count": 32,
     "metadata": {},
     "output_type": "execute_result"
    }
   ],
   "source": [
    "channel_loc"
   ]
  },
  {
   "cell_type": "code",
   "execution_count": 33,
   "metadata": {},
   "outputs": [
    {
     "data": {
      "text/plain": [
       "array([0.000e+00, 1.000e-04, 2.000e-04, ..., 3.098e-01, 3.099e-01,\n",
       "       3.100e-01])"
      ]
     },
     "execution_count": 33,
     "metadata": {},
     "output_type": "execute_result"
    }
   ],
   "source": [
    "tvec"
   ]
  },
  {
   "cell_type": "code",
   "execution_count": null,
   "metadata": {},
   "outputs": [],
   "source": []
  },
  {
   "cell_type": "code",
   "execution_count": 34,
   "metadata": {},
   "outputs": [
    {
     "data": {
      "text/plain": [
       "130.73454900000002"
      ]
     },
     "execution_count": 34,
     "metadata": {},
     "output_type": "execute_result"
    }
   ],
   "source": [
    "# Start time\n",
    "st_event_obs[0].stats.origintime"
   ]
  },
  {
   "cell_type": "code",
   "execution_count": null,
   "metadata": {},
   "outputs": [],
   "source": []
  },
  {
   "cell_type": "code",
   "execution_count": null,
   "metadata": {},
   "outputs": [],
   "source": []
  }
 ],
 "metadata": {
  "kernelspec": {
   "display_name": "Python 3 (ipykernel)",
   "language": "python",
   "name": "python3"
  },
  "language_info": {
   "codemirror_mode": {
    "name": "ipython",
    "version": 3
   },
   "file_extension": ".py",
   "mimetype": "text/x-python",
   "name": "python",
   "nbconvert_exporter": "python",
   "pygments_lexer": "ipython3",
   "version": "3.12.9"
  }
 },
 "nbformat": 4,
 "nbformat_minor": 4
}

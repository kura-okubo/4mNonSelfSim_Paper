{
 "cells": [
  {
   "cell_type": "markdown",
   "metadata": {},
   "source": [
    "# LaTeX table of dynamic rupture model parameters\n",
    "\n",
    "Generate the dynamic rupture model parameters.\n",
    "\n",
    "2025.3.3 Kurama Okubo\n",
    "\n",
    "- 2025.3.26 update for master table"
   ]
  },
  {
   "cell_type": "code",
   "execution_count": null,
   "metadata": {},
   "outputs": [],
   "source": [
    "import os\n",
    "import matplotlib.pyplot as plt\n",
    "from matplotlib.cm import ScalarMappable\n",
    "%matplotlib inline\n",
    "import numpy as np\n",
    "import pandas as pd\n",
    "from datetime import timedelta\n",
    "from tqdm import tqdm\n",
    "import warnings\n",
    "import time\n",
    "\n",
    "import scipy.integrate as integrate\n",
    "import seaborn as sns \n",
    "\n",
    "%load_ext autoreload\n",
    "%autoreload 2\n",
    "\n",
    "plt.rcParams[\"font.family\"] = 'Arial'\n",
    "# plt.rcParams[\"font.sans-serif\"] = \"DejaVu Sans, Arial, Helvetica, Lucida Grande, Verdana, Geneva, Lucid, Avant Garde, sans-serif\"\n",
    "plt.rcParams[\"font.size\"] = 11\n",
    "plt.rcParams[\"xtick.direction\"] = \"in\"\n",
    "plt.rcParams[\"xtick.major.size\"] = 4.75\n",
    "plt.rcParams[\"xtick.major.width\"] = 0.75\n",
    "plt.rcParams[\"xtick.minor.size\"] = 3\n",
    "plt.rcParams[\"xtick.minor.width\"] = 0.4\n",
    "plt.rcParams[\"xtick.minor.visible\"] = True\n",
    "\n",
    "plt.rcParams[\"ytick.direction\"] = \"in\"\n",
    "plt.rcParams[\"ytick.major.size\"] = 4.75\n",
    "plt.rcParams[\"ytick.major.width\"] = 0.75\n",
    "plt.rcParams[\"ytick.minor.size\"] = 3\n",
    "plt.rcParams[\"ytick.minor.width\"] = 0.4\n",
    "plt.rcParams[\"ytick.minor.visible\"] = True\n",
    "\n",
    "plt.rcParams[\"savefig.transparent\"] = True\n",
    "\n",
    "plt.rcParams['axes.linewidth'] = 0.75"
   ]
  },
  {
   "cell_type": "markdown",
   "metadata": {},
   "source": [
    "# Read the datasheet"
   ]
  },
  {
   "cell_type": "code",
   "execution_count": null,
   "metadata": {},
   "outputs": [],
   "source": []
  },
  {
   "cell_type": "code",
   "execution_count": null,
   "metadata": {},
   "outputs": [],
   "source": [
    "a_patch = 4.0e-3 # patch radius without margine\n",
    "rupturetype = \"pulse\" # \"crack\": without self-healing or \"pulse\": with self-healing\n",
    "p_dcscaleexp = 0.6 #0.55 #0.54 #0.56 #0.555  # #0.475 #0.55 #0.575 #0.65 #0.8 #0.65 #0.7\n",
    "\n",
    "IfInitparam = True # True to make the input files with the short time duration to output the initial condition\n",
    "\n",
    "casestudy_name = f\"a={a_patch*1e3:.2f}_ruptype={rupturetype:s}_pdcscaling={p_dcscaleexp:.3f}\"\n",
    "print(casestudy_name)"
   ]
  },
  {
   "cell_type": "code",
   "execution_count": null,
   "metadata": {},
   "outputs": [],
   "source": [
    "hat_sn_patch = 6e6\n",
    "hat_fr_patch =0.3\n",
    "stressbackground_beta = 0.35\n",
    "\n",
    "\n",
    "casename = casestudy_name+\"_sn={:.1f}MPa_hatfr={:.1f}_bgbeta={:.2f}\".format(hat_sn_patch/1e6, hat_fr_patch, stressbackground_beta)\n"
   ]
  },
  {
   "cell_type": "code",
   "execution_count": null,
   "metadata": {},
   "outputs": [],
   "source": [
    "df_dynparam = pd.read_csv(f\"../data/gouge_dynamicrupture_modelparam_{casename}_master.csv\", index_col=0)"
   ]
  },
  {
   "cell_type": "code",
   "execution_count": null,
   "metadata": {},
   "outputs": [],
   "source": [
    "target_events = [24, 50, 52, 72 ,129]"
   ]
  },
  {
   "cell_type": "code",
   "execution_count": null,
   "metadata": {},
   "outputs": [],
   "source": []
  },
  {
   "cell_type": "code",
   "execution_count": null,
   "metadata": {},
   "outputs": [],
   "source": [
    "df_dynparam_targets = df_dynparam.loc[df_dynparam.index.isin(target_events), :].copy()\n",
    "df_dynparam_targets.index = [f\"M{x}\" for x in df_dynparam_targets.index]"
   ]
  },
  {
   "cell_type": "code",
   "execution_count": null,
   "metadata": {},
   "outputs": [],
   "source": [
    "df_dynparam_targets"
   ]
  },
  {
   "cell_type": "markdown",
   "metadata": {},
   "source": [
    "# Compute additional values"
   ]
  },
  {
   "cell_type": "code",
   "execution_count": null,
   "metadata": {},
   "outputs": [],
   "source": [
    "# Compute actual stress drop\n",
    "df_dynparam_targets.loc[:, \"$\\\\Delta \\\\tau$\"] = df_dynparam_targets.apply(lambda x: x.delsig_withmargin_try * x.delsigma_factor, axis=1)\n",
    "\n",
    "# Ds\n",
    "hat_ds_factor_rapidnuc_patch = 5.5\n",
    "\n",
    "df_dynparam_targets.loc[:, \"$D_s$\"] = df_dynparam_targets.apply(lambda x: x.dc_try * hat_ds_factor_rapidnuc_patch, axis=1)\n"
   ]
  },
  {
   "cell_type": "code",
   "execution_count": null,
   "metadata": {},
   "outputs": [],
   "source": []
  },
  {
   "cell_type": "code",
   "execution_count": null,
   "metadata": {},
   "outputs": [],
   "source": []
  },
  {
   "cell_type": "markdown",
   "metadata": {},
   "source": [
    "# Reformat table for latex output"
   ]
  },
  {
   "cell_type": "code",
   "execution_count": null,
   "metadata": {},
   "outputs": [],
   "source": []
  },
  {
   "cell_type": "code",
   "execution_count": null,
   "metadata": {},
   "outputs": [],
   "source": [
    "df_dynparam_targets_selected = df_dynparam_targets[[\"M0_mean\", \"Tw_mean\", \"Mw_mean\", \"hat_sn_patch\", \"delsig_withmargin_try\", \"slip_try\", \"initialstress_fraction\", \n",
    "                                                    \"delsigma_factor\", \"tau_0_patch\", \"$\\\\Delta \\\\tau$\", \"fp_patch\", \"hat_fr\", \"dc_try\", \"$D_s$\",\n",
    "                                                    \"GIIC_patch\", \"rnuc_patch\"]].copy()"
   ]
  },
  {
   "cell_type": "code",
   "execution_count": null,
   "metadata": {},
   "outputs": [],
   "source": [
    "# df_dynparam_targets_selected.index.name = \"GP event ID\""
   ]
  },
  {
   "cell_type": "markdown",
   "metadata": {},
   "source": [
    "## Compute the additional values"
   ]
  },
  {
   "cell_type": "code",
   "execution_count": null,
   "metadata": {},
   "outputs": [],
   "source": []
  },
  {
   "cell_type": "code",
   "execution_count": null,
   "metadata": {},
   "outputs": [],
   "source": [
    "df_dynparam_targets_selected"
   ]
  },
  {
   "cell_type": "markdown",
   "metadata": {},
   "source": [
    "## Rename the columns"
   ]
  },
  {
   "cell_type": "code",
   "execution_count": null,
   "metadata": {},
   "outputs": [],
   "source": [
    "df_dynparam_targets_selected.rename(\n",
    "    columns={\"M0_mean\":\"$M_0^{\\\\text{obs}}$\", \n",
    "             \"Tw_mean\":\"$T_w^{\\\\text{obs}}$\",\n",
    "             \"Mw_mean\":\"$M_w^{\\\\text{obs}}$\",\n",
    "             \"hat_sn_patch\":\"$\\\\sigma_n^{\\\\text{PHC}}$\",\n",
    "             \"delsig_withmargin_try\": \"$\\\\Delta \\\\sigma_{\\\\text{ref}}$\",\n",
    "             \"slip_try\": \"$\\\\bar{u}_0$\",\n",
    "             \"initialstress_fraction\": \"$c$\",\n",
    "             \"delsigma_factor\": \"$s$\",\n",
    "             \"fp_patch\": \"$\\\\mu_s$\",\n",
    "             \"hat_fr\": \"$\\\\mu_d$\",\n",
    "             \"dc_try\": \"$D_c$\",\n",
    "             \"tau_0_patch\": \"$\\\\tau_0^{\\\\text{PHC}}$\",\n",
    "             \"GIIC_patch\": \"$G_{IIC}$\",\n",
    "             \"rnuc_patch\": \"$R_{c}$\",\n",
    "            },\n",
    "    inplace=True)"
   ]
  },
  {
   "cell_type": "code",
   "execution_count": null,
   "metadata": {},
   "outputs": [],
   "source": []
  },
  {
   "cell_type": "code",
   "execution_count": null,
   "metadata": {},
   "outputs": [],
   "source": [
    "df_dynparam_targets_selected"
   ]
  },
  {
   "cell_type": "markdown",
   "metadata": {},
   "source": [
    "# Dump the output"
   ]
  },
  {
   "cell_type": "markdown",
   "metadata": {},
   "source": [
    "## unit Convert "
   ]
  },
  {
   "cell_type": "code",
   "execution_count": null,
   "metadata": {},
   "outputs": [],
   "source": [
    "df_dynparam_targets_selected.columns"
   ]
  },
  {
   "cell_type": "code",
   "execution_count": null,
   "metadata": {},
   "outputs": [],
   "source": []
  },
  {
   "cell_type": "code",
   "execution_count": null,
   "metadata": {},
   "outputs": [],
   "source": [
    "df_dynparam_targets_selected[\"$T_w^{\\\\text{obs}}$\"]\n"
   ]
  },
  {
   "cell_type": "code",
   "execution_count": null,
   "metadata": {},
   "outputs": [],
   "source": []
  },
  {
   "cell_type": "code",
   "execution_count": null,
   "metadata": {},
   "outputs": [],
   "source": [
    "s2mus = lambda x: x*1e6\n",
    "Pa2MPa = lambda x: x/1e6\n",
    "m2um = lambda x: x*1e6\n"
   ]
  },
  {
   "cell_type": "code",
   "execution_count": null,
   "metadata": {},
   "outputs": [],
   "source": [
    "# Show GIIC with the power of 10\n",
    "def GIIC_latex_conv(x):\n",
    "    # ref: https://stackoverflow.com/a/59744605\n",
    "    sci_notation = \"{:.2e}\".format(x)\n",
    "    value, expscale = sci_notation.split(\"e\")\n",
    "    return \"${0} \\\\times 10^{{{1}}}$\".format(float(value), int(expscale))\n"
   ]
  },
  {
   "cell_type": "code",
   "execution_count": null,
   "metadata": {},
   "outputs": [],
   "source": [
    "x = 0.021406\n",
    "GIIC_latex_conv(x)"
   ]
  },
  {
   "cell_type": "code",
   "execution_count": null,
   "metadata": {},
   "outputs": [],
   "source": []
  },
  {
   "cell_type": "code",
   "execution_count": null,
   "metadata": {},
   "outputs": [],
   "source": [
    "# Unit conversion\n",
    "formatters_targets = {\"$M_0^{\\\\text{obs}}$\": lambda x: '%.2f' % x,\n",
    "                      \"$T_w^{\\\\text{obs}}$\": lambda x: '%.2f' % s2mus(x),\n",
    "                      \"$M_w^{\\\\text{obs}}$\": lambda x: '%.1f' % x,\n",
    "                      \"$\\\\sigma_n^{\\\\text{PHC}}$\": lambda x: '%.1f' % Pa2MPa(x),\n",
    "                      \"$\\\\Delta \\\\sigma_{\\\\text{ref}}$\": lambda x: '%.2f' % Pa2MPa(x),\n",
    "                      \"$\\\\bar{u}_0$\": lambda x: '%.2f' % m2um(x),\n",
    "                      \"$c$\": lambda x: '%.3f' % x,\n",
    "                      \"$s$\": lambda x: '%.3f' % x,\n",
    "                      \"$\\\\tau_0^{\\\\text{PHC}}$\":  lambda x: '%.2f' % Pa2MPa(x),\n",
    "                      \"$\\\\Delta \\\\tau$\":  lambda x: '%.2f' % Pa2MPa(x),\n",
    "                      \"$\\\\mu_s$\": lambda x: '%.2f' % x,\n",
    "                      \"$\\\\mu_d$\": lambda x: '%.1f' % x,\n",
    "                      \"$D_c$\": lambda x: '%.3f' % m2um(x),\n",
    "                      \"$D_s$\": lambda x: '%.3f' % m2um(x),\n",
    "                      \"$G_{IIC}$\": lambda x: '%.2f $\\\\times$ 10$^{{%d}}$' % (float(f\"{x:.2e}\".split(\"e\")[0]), float(f\"{x:.2e}\".split(\"e\")[1])) ,\n",
    "                      \"$R_{c}$\": lambda x: '%.2f' % x,\n",
    "                     }"
   ]
  },
  {
   "cell_type": "code",
   "execution_count": null,
   "metadata": {},
   "outputs": [],
   "source": []
  },
  {
   "cell_type": "code",
   "execution_count": null,
   "metadata": {},
   "outputs": [],
   "source": [
    "latextable_targets = df_dynparam_targets_selected.to_latex(header=True, column_format=f\"l\"+\"c\"*(len(df_dynparam_targets_selected.columns)), formatters= formatters_targets)\n"
   ]
  },
  {
   "cell_type": "code",
   "execution_count": null,
   "metadata": {},
   "outputs": [],
   "source": [
    "print(latextable_targets)"
   ]
  },
  {
   "cell_type": "code",
   "execution_count": null,
   "metadata": {},
   "outputs": [],
   "source": [
    "df_dynparam_targets_selected"
   ]
  },
  {
   "cell_type": "code",
   "execution_count": null,
   "metadata": {},
   "outputs": [],
   "source": []
  },
  {
   "cell_type": "code",
   "execution_count": null,
   "metadata": {},
   "outputs": [],
   "source": []
  }
 ],
 "metadata": {
  "kernelspec": {
   "display_name": "Python 3 (ipykernel)",
   "language": "python",
   "name": "python3"
  },
  "language_info": {
   "codemirror_mode": {
    "name": "ipython",
    "version": 3
   },
   "file_extension": ".py",
   "mimetype": "text/x-python",
   "name": "python",
   "nbconvert_exporter": "python",
   "pygments_lexer": "ipython3",
   "version": "3.12.9"
  }
 },
 "nbformat": 4,
 "nbformat_minor": 4
}

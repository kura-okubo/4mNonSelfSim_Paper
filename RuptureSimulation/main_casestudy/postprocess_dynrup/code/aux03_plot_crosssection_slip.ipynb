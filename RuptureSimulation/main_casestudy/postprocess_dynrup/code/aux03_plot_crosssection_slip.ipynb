{
 "cells": [
  {
   "cell_type": "markdown",
   "metadata": {},
   "source": [
    "# Plot cross-section profile of slip\n",
    "\n",
    "2025.3.24 Kurama Okubo"
   ]
  },
  {
   "cell_type": "code",
   "execution_count": null,
   "metadata": {},
   "outputs": [],
   "source": [
    "import os\n",
    "import matplotlib.pyplot as plt\n",
    "from matplotlib.cm import ScalarMappable\n",
    "import matplotlib.colors as colors\n",
    "import matplotlib as mpl\n",
    "\n",
    "%matplotlib inline\n",
    "import numpy as np\n",
    "import pandas as pd\n",
    "import datetime\n",
    "from datetime import timedelta\n",
    "from tqdm import tqdm\n",
    "import warnings\n",
    "import time\n",
    "\n",
    "from importParaviewColormap import importParaviewColormap\n",
    "import seaborn as sns\n",
    "from matplotlib.collections import LineCollection\n",
    "\n",
    "%load_ext autoreload\n",
    "%autoreload 2\n",
    "\n",
    "\n",
    "plt.rcParams[\"font.family\"] = 'Arial'\n",
    "# plt.rcParams[\"font.sans-serif\"] = \"DejaVu Sans, Arial, Helvetica, Lucida Grande, Verdana, Geneva, Lucid, Avant Garde, sans-serif\"\n",
    "plt.rcParams[\"font.size\"] = 10\n",
    "plt.rcParams[\"xtick.direction\"] = \"in\"\n",
    "plt.rcParams[\"xtick.major.size\"] = 4.75\n",
    "plt.rcParams[\"xtick.major.width\"] = 0.75\n",
    "plt.rcParams[\"xtick.minor.size\"] = 3\n",
    "plt.rcParams[\"xtick.minor.width\"] = 0.4\n",
    "plt.rcParams[\"xtick.minor.visible\"] = True\n",
    "\n",
    "plt.rcParams[\"ytick.direction\"] = \"in\"\n",
    "plt.rcParams[\"ytick.major.size\"] = 4.75\n",
    "plt.rcParams[\"ytick.major.width\"] = 0.75\n",
    "plt.rcParams[\"ytick.minor.size\"] = 3\n",
    "plt.rcParams[\"ytick.minor.width\"] = 0.4\n",
    "plt.rcParams[\"ytick.minor.visible\"] = True\n",
    "\n",
    "plt.rcParams[\"savefig.transparent\"] = True\n",
    "\n",
    "plt.rcParams['axes.linewidth'] = 0.75"
   ]
  },
  {
   "cell_type": "code",
   "execution_count": null,
   "metadata": {},
   "outputs": [],
   "source": [
    "figdir = \"../figure/aux03_cross-section\"\n",
    "if not os.path.exists(figdir):\n",
    "    os.makedirs(figdir)"
   ]
  },
  {
   "cell_type": "code",
   "execution_count": null,
   "metadata": {},
   "outputs": [],
   "source": []
  },
  {
   "cell_type": "code",
   "execution_count": null,
   "metadata": {},
   "outputs": [],
   "source": [
    "E = 96e9\n",
    "nu = 0.246 # metagabbro\n",
    "mu = E/(2*(1+nu))\n",
    "\n",
    "a_patch = 4.0e-3\n",
    "a_nuc = 2.5e-3 # nucleation radius \n",
    "\n",
    "nb_x_elements = 1024 #128 #1024\n",
    "nb_z_elements = 1024 #128 #1024\n",
    "\n",
    "\n",
    "Ifmasteroutput=True # add file key to the master output\n",
    "if Ifmasteroutput:\n",
    "    filekey = \"_master\"\n",
    "else:\n",
    "    filekey = \"\""
   ]
  },
  {
   "cell_type": "code",
   "execution_count": null,
   "metadata": {},
   "outputs": [],
   "source": [
    "# case study parameter casename\n",
    "\n",
    "a_patch = 4.0e-3\n",
    "a_nuc = 2.5e-3\n",
    "a_margin = 4.08e-3\n",
    "\n",
    "rupturetype = \"pulse\"\n",
    "pdcscaling = 0.60 #0.65\n",
    "bgbeta= 0.35 #0.4\n",
    "\n",
    "sig_n = 6e6\n",
    "\n",
    "IfBinaryOutput = True\n",
    "\n",
    "casestr_pulse = f\"a={a_patch*1e3:.2f}_ruptype={\"pulse\"}_pdcscaling={pdcscaling:.3f}_sn={sig_n/1e6:.1f}MPa_hatfr=0.3_bgbeta={bgbeta:.2f}\"\n",
    "casestr_crack = f\"a={a_patch*1e3:.2f}_ruptype={\"crack\"}_pdcscaling={pdcscaling:.3f}_sn={sig_n/1e6:.1f}MPa_hatfr=0.3_bgbeta={bgbeta:.2f}\"\n",
    "\n",
    "finame=f\"../../preprocess_modelsetup/data/gouge_dynamicrupture_modelparam_{casestr_pulse}{filekey}.csv\"\n",
    "\n",
    "# Read model parameters\n",
    "df_modelparam = pd.read_csv(finame, index_col=0)\n",
    "\n",
    "\n",
    "datadir_root = \"/Volumes/Okuboetal2025_masterHDD/RuptureSimulation/main_casestudy/build_hpcv62_mastercase_v3/simulations_main_casestudy_hpc_master\"\n"
   ]
  },
  {
   "cell_type": "code",
   "execution_count": null,
   "metadata": {},
   "outputs": [],
   "source": [
    "df_modelparam.head()"
   ]
  },
  {
   "cell_type": "code",
   "execution_count": null,
   "metadata": {},
   "outputs": [],
   "source": [
    "# Select gouge event id to plot the snapshots\n",
    "expr_id = 87\n",
    "gougeevent_id = 129 # 24, 50, 52, 72, 129"
   ]
  },
  {
   "cell_type": "code",
   "execution_count": null,
   "metadata": {},
   "outputs": [],
   "source": [
    "df_modelparam_selected = df_modelparam[df_modelparam.index == gougeevent_id]\n",
    "\n",
    "# if ifParamStudy:\n",
    "simulation_name_pulse = f\"fb03-{expr_id:03d}__{df_modelparam_selected.index[0]:04d}_{casestr_pulse}_{df_modelparam_selected.delsigma_factor.values[0]:.4f}\"\n",
    "simulation_name_crack = f\"fb03-{expr_id:03d}__{df_modelparam_selected.index[0]:04d}_{casestr_crack}_{df_modelparam_selected.delsigma_factor.values[0]:.4f}\"\n",
    "\n",
    "print(f\"Process {gougeevent_id}: {simulation_name_pulse} and {simulation_name_crack}\")\n"
   ]
  },
  {
   "cell_type": "code",
   "execution_count": null,
   "metadata": {},
   "outputs": [],
   "source": []
  },
  {
   "cell_type": "markdown",
   "metadata": {},
   "source": [
    "# Read profile\n",
    "\n",
    "We used `offset` and `count` to partially read binary file to increase the i/o speed."
   ]
  },
  {
   "cell_type": "code",
   "execution_count": null,
   "metadata": {},
   "outputs": [],
   "source": [
    "# time and coordinates are same for pulse and crack cases\n",
    "\n",
    "df_time = pd.read_csv(os.path.join(datadir_root,simulation_name_pulse+\".time\"), header=None, sep=' ', index_col=0)\n",
    "df_coord = pd.read_csv(os.path.join(datadir_root,simulation_name_pulse+\".coords\"), header=None, sep=' ', index_col=None)\n",
    "NT=len(df_time)\n"
   ]
  },
  {
   "cell_type": "code",
   "execution_count": null,
   "metadata": {},
   "outputs": [],
   "source": [
    "# location of the center of nucleation zone\n",
    "nuc_x = -(a_patch - a_nuc)\n",
    "nuc_z = 0\n",
    "\n",
    "xcoord = df_coord.loc[:,0].values\n",
    "zcoord = df_coord.loc[:,2].values\n",
    "\n",
    "x_length = xcoord.max()\n",
    "z_length = zcoord.max()\n",
    "\n",
    "# ref also: https://stackoverflow.com/a/35176314\n",
    "dgrid = (zcoord[1] - zcoord[0])\n",
    "print(f\"Grid size: {dgrid*1e3}[mm]\") \n",
    "\n",
    "X = xcoord.reshape(nb_x_elements,nb_z_elements).T- dgrid/2 - x_length/2\n",
    "Z = zcoord.reshape(nb_x_elements,nb_z_elements).T- dgrid/2 - z_length/2\n",
    "\n"
   ]
  },
  {
   "cell_type": "code",
   "execution_count": null,
   "metadata": {},
   "outputs": [],
   "source": []
  },
  {
   "cell_type": "code",
   "execution_count": null,
   "metadata": {},
   "outputs": [],
   "source": [
    "read_comp = 0 #0: Mode II direction, 1: normal (Mode I), 2:Mode III direction \n",
    "\n",
    "data_disp_all = dict()\n",
    "tplot_list = [0.6e-6, 1.0e-6, 1.6e-6, 6.0e-6] # plot time list\n",
    "\n",
    "for tplot in tplot_list:\n",
    "    \n",
    "    tind = np.where(df_time.values >= 0.99*tplot)[0][0] # search the time index of tplot\n",
    "    \n",
    "    Nchank = nb_x_elements * nb_z_elements\n",
    "    Noffset = Nchank * tind * np.dtype(np.float32).itemsize # skip untile the plot timing\n",
    "    \n",
    "    # read displacement\n",
    "    read_parameter = f\"top_disp_{read_comp}\" # select the parameter to read\n",
    "    if IfBinaryOutput:\n",
    "        disp_pulse = np.fromfile(os.path.join(datadir_root,simulation_name_pulse+f\"-DataFiles/{read_parameter}.out\"), dtype=\"float32\", offset=Noffset, count=Nchank)\n",
    "        disp_crack = np.fromfile(os.path.join(datadir_root,simulation_name_crack+f\"-DataFiles/{read_parameter}.out\"), dtype=\"float32\", offset=Noffset, count=Nchank)\n",
    "        # df_data_disp = pd.DataFrame(data=D.reshape((NT, -1)))\n",
    "    else:\n",
    "        warnings.warn(\"only binary output available in this notebook.\")\n",
    "        # df_data_disp = pd.read_csv(os.path.join(datadir_root,simulation_name_pulse+f\"-DataFiles/{read_parameter}.out\"), header=None, sep=' ', engine=\"c\")\n",
    "\n",
    "    data_disp_all[f\"{tplot*1e6}us_pulse\"] = disp_pulse \n",
    "    data_disp_all[f\"{tplot*1e6}us_crack\"] = disp_crack "
   ]
  },
  {
   "cell_type": "code",
   "execution_count": null,
   "metadata": {},
   "outputs": [],
   "source": []
  },
  {
   "cell_type": "markdown",
   "metadata": {},
   "source": [
    "# Plot cross-section"
   ]
  },
  {
   "cell_type": "code",
   "execution_count": null,
   "metadata": {},
   "outputs": [],
   "source": [
    "z_cross=0.0\n",
    "trac_z_ind = np.where(Z[:, 0] >= z_cross)[0][0]"
   ]
  },
  {
   "cell_type": "code",
   "execution_count": null,
   "metadata": {},
   "outputs": [],
   "source": [
    "value_factor_double = 2.0 # double the value for slip and slip velocity\n",
    "\n",
    "\n",
    "fig, ax = plt.subplots(1, 1, figsize=(4.5, 3.4))\n",
    "\n",
    "for i, tplot in enumerate(tplot_list):\n",
    "\n",
    "    disp_crosssec_crack = data_disp_all[f\"{tplot*1e6}us_crack\"].reshape(nb_x_elements,nb_z_elements).T[trac_z_ind, :] \n",
    "    disp_crosssec_pulse = data_disp_all[f\"{tplot*1e6}us_pulse\"].reshape(nb_x_elements,nb_z_elements).T[trac_z_ind, :] \n",
    "\n",
    "    if i==0:\n",
    "        label_c = \"without self-healing\"\n",
    "        label_p = \"with self-healing\"\n",
    "    else:\n",
    "        label_c = \"\"\n",
    "        label_p = \"\"\n",
    "        \n",
    "    ax.plot(X[0]*1e3, value_factor_double*disp_crosssec_pulse*1e6, c=\"crimson\", lw=1.5, label=label_p)\n",
    "    ax.plot(X[0]*1e3, value_factor_double*disp_crosssec_crack*1e6, c=\"k\", lw=1, ls=\"--\", label=label_c)\n",
    "    \n",
    "    ax.set_xlabel(\"x [mm]\")\n",
    "    ax.set_ylabel(r\"Slip [$\\mu$m]\")\n",
    "    ax.legend(loc=1)\n",
    "    \n",
    "    ax.set_xlim([-15, 15])\n",
    "    ax.set_ylim([-0.02, 0.8])\n",
    "\n",
    "ax.text(0.04, 0.925, f\"GP event M{gougeevent_id}\", transform=ax.transAxes)\n",
    "\n",
    "plt.tight_layout()\n",
    "plt.savefig(figdir + f\"/cross-section_disp_{simulation_name_pulse}.png\", dpi=80, bbox_inches=\"tight\")\n",
    "plt.savefig(figdir + f\"/cross-section_disp_{simulation_name_pulse}.eps\", bbox_inches=\"tight\")"
   ]
  },
  {
   "cell_type": "code",
   "execution_count": null,
   "metadata": {},
   "outputs": [],
   "source": []
  },
  {
   "cell_type": "markdown",
   "metadata": {},
   "source": [
    "# Plot shear stress"
   ]
  },
  {
   "cell_type": "code",
   "execution_count": null,
   "metadata": {},
   "outputs": [],
   "source": [
    "read_comp = 0 #0: Mode II direction, 1: normal (Mode I), 2:Mode III direction \n",
    "\n",
    "data_coh_all = dict()\n",
    "tplot_list = [0.3e-6, 6.0e-6] # plot time list\n",
    "\n",
    "for tplot in tplot_list:\n",
    "    \n",
    "    tind = np.where(df_time.values >= 0.99*tplot)[0][0] # search the time index of tplot\n",
    "    \n",
    "    Nchank = nb_x_elements * nb_z_elements\n",
    "    Noffset = Nchank * tind * np.dtype(np.float32).itemsize # skip untile the plot timing\n",
    "    \n",
    "    # read displacement\n",
    "    read_parameter = f\"cohesion_{read_comp}\" # select the parameter to read\n",
    "    if IfBinaryOutput:\n",
    "        coh_pulse = np.fromfile(os.path.join(datadir_root,simulation_name_pulse+f\"-DataFiles/{read_parameter}.out\"), dtype=\"float32\", offset=Noffset, count=Nchank)\n",
    "        coh_crack = np.fromfile(os.path.join(datadir_root,simulation_name_crack+f\"-DataFiles/{read_parameter}.out\"), dtype=\"float32\", offset=Noffset, count=Nchank)\n",
    "        # df_data_disp = pd.DataFrame(data=D.reshape((NT, -1)))\n",
    "    else:\n",
    "        warnings.warn(\"only binary output available in this notebook.\")\n",
    "        # df_data_disp = pd.read_csv(os.path.join(datadir_root,simulation_name_pulse+f\"-DataFiles/{read_parameter}.out\"), header=None, sep=' ', engine=\"c\")\n",
    "\n",
    "    data_coh_all[f\"{tplot*1e6}us_pulse\"] = coh_pulse \n",
    "    data_coh_all[f\"{tplot*1e6}us_crack\"] = coh_crack "
   ]
  },
  {
   "cell_type": "code",
   "execution_count": null,
   "metadata": {},
   "outputs": [],
   "source": []
  },
  {
   "cell_type": "code",
   "execution_count": null,
   "metadata": {},
   "outputs": [],
   "source": [
    "fig, ax = plt.subplots(1, 1, figsize=(4.5, 3.4))\n",
    "\n",
    "for i, tplot in enumerate(tplot_list):\n",
    "\n",
    "    coh_crosssec_crack = data_coh_all[f\"{tplot*1e6}us_crack\"].reshape(nb_x_elements,nb_z_elements).T[trac_z_ind, :] \n",
    "    coh_crosssec_pulse = data_coh_all[f\"{tplot*1e6}us_pulse\"].reshape(nb_x_elements,nb_z_elements).T[trac_z_ind, :] \n",
    "\n",
    "    if i==0:\n",
    "        label_c = \"without self-healing\"\n",
    "        label_p = \"with self-healing\"\n",
    "    else:\n",
    "        label_c = \"\"\n",
    "        label_p = \"\"\n",
    "        \n",
    "    ax.plot(X[0]*1e3, coh_crosssec_pulse/1e6, c=\"crimson\", lw=1.5, label=label_p)\n",
    "    ax.plot(X[0]*1e3, coh_crosssec_crack/1e6, c=\"k\", lw=1, ls=\"--\", label=label_c)\n",
    "    \n",
    "    ax.set_xlabel(\"x [mm]\")\n",
    "    ax.set_ylabel(r\"Shear stress [MPa]\")\n",
    "    ax.legend(loc=1)\n",
    "    \n",
    "    ax.set_xlim([-15, 15])\n",
    "    ax.set_ylim([-0.02, 7])\n",
    "\n",
    "ax.text(0.04, 0.925, f\"GP event M{gougeevent_id}\", transform=ax.transAxes)\n",
    "\n",
    "plt.tight_layout()\n",
    "plt.savefig(figdir + f\"/cross-section_shearstress_{simulation_name_pulse}.png\", dpi=80, bbox_inches=\"tight\")\n",
    "plt.savefig(figdir + f\"/cross-section_shearstress_{simulation_name_pulse}.eps\", bbox_inches=\"tight\")"
   ]
  },
  {
   "cell_type": "code",
   "execution_count": null,
   "metadata": {},
   "outputs": [],
   "source": []
  },
  {
   "cell_type": "code",
   "execution_count": null,
   "metadata": {},
   "outputs": [],
   "source": []
  },
  {
   "cell_type": "code",
   "execution_count": null,
   "metadata": {},
   "outputs": [],
   "source": []
  },
  {
   "cell_type": "code",
   "execution_count": null,
   "metadata": {},
   "outputs": [],
   "source": []
  }
 ],
 "metadata": {
  "kernelspec": {
   "display_name": "Python 3 (ipykernel)",
   "language": "python",
   "name": "python3"
  },
  "language_info": {
   "codemirror_mode": {
    "name": "ipython",
    "version": 3
   },
   "file_extension": ".py",
   "mimetype": "text/x-python",
   "name": "python",
   "nbconvert_exporter": "python",
   "pygments_lexer": "ipython3",
   "version": "3.12.9"
  }
 },
 "nbformat": 4,
 "nbformat_minor": 4
}

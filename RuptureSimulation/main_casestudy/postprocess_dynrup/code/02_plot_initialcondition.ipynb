{
 "cells": [
  {
   "cell_type": "markdown",
   "metadata": {},
   "source": [
    "# Plot the initial condition of the dynamic rupture simulation\n",
    "\n",
    "2024.6.23 Kurama Okubo\n",
    "\n",
    "<!-- - 2024.6.25 update for the full range of stress from zero to maximum.\n",
    "- 2024.07.10 update for the new long Ds parameters\n",
    "- 2024.09.04 update for the new event set\n",
    "- 2024.12.23 update for the new catalog -->\n",
    "\n",
    "- 2025.1.30 Clean up the notebook for the master plot."
   ]
  },
  {
   "cell_type": "code",
   "execution_count": 35,
   "metadata": {},
   "outputs": [
    {
     "name": "stdout",
     "output_type": "stream",
     "text": [
      "The autoreload extension is already loaded. To reload it, use:\n",
      "  %reload_ext autoreload\n"
     ]
    }
   ],
   "source": [
    "import os\n",
    "import matplotlib.pyplot as plt\n",
    "from matplotlib.cm import ScalarMappable\n",
    "import matplotlib.colors as colors\n",
    "import matplotlib as mpl\n",
    "\n",
    "%matplotlib inline\n",
    "import numpy as np\n",
    "import pandas as pd\n",
    "import datetime\n",
    "from datetime import timedelta\n",
    "from tqdm import tqdm\n",
    "import warnings\n",
    "import time\n",
    "\n",
    "import seaborn as sns\n",
    "from matplotlib.collections import LineCollection\n",
    "\n",
    "import pickle \n",
    "\n",
    "from mpl_toolkits.axes_grid1 import make_axes_locatable\n",
    "# from mpl_toolkits.axes_grid1.inset_locator import inset_axes # not compatible with bbox_inches=tight\n",
    "\n",
    "\n",
    "%load_ext autoreload\n",
    "%autoreload 2\n",
    "\n",
    "\n",
    "plt.rcParams[\"font.family\"] = 'Arial'\n",
    "# plt.rcParams[\"font.sans-serif\"] = \"DejaVu Sans, Arial, Helvetica, Lucida Grande, Verdana, Geneva, Lucid, Avant Garde, sans-serif\"\n",
    "plt.rcParams[\"font.size\"] = 10\n",
    "plt.rcParams[\"xtick.direction\"] = \"in\"\n",
    "plt.rcParams[\"xtick.major.size\"] = 4.75\n",
    "plt.rcParams[\"xtick.major.width\"] = 0.75\n",
    "plt.rcParams[\"xtick.minor.size\"] = 3\n",
    "plt.rcParams[\"xtick.minor.width\"] = 0.4\n",
    "plt.rcParams[\"xtick.minor.visible\"] = True\n",
    "\n",
    "plt.rcParams[\"ytick.direction\"] = \"in\"\n",
    "plt.rcParams[\"ytick.major.size\"] = 4.75\n",
    "plt.rcParams[\"ytick.major.width\"] = 0.75\n",
    "plt.rcParams[\"ytick.minor.size\"] = 3\n",
    "plt.rcParams[\"ytick.minor.width\"] = 0.4\n",
    "plt.rcParams[\"ytick.minor.visible\"] = True\n",
    "\n",
    "plt.rcParams[\"savefig.transparent\"] = True\n",
    "\n",
    "plt.rcParams['axes.linewidth'] = 0.75"
   ]
  },
  {
   "cell_type": "code",
   "execution_count": 36,
   "metadata": {},
   "outputs": [],
   "source": [
    "figdir = \"../figure/02_initialcondition\"\n",
    "if not os.path.exists(figdir):\n",
    "    os.makedirs(figdir)"
   ]
  },
  {
   "cell_type": "code",
   "execution_count": null,
   "metadata": {},
   "outputs": [],
   "source": []
  },
  {
   "cell_type": "code",
   "execution_count": 37,
   "metadata": {},
   "outputs": [],
   "source": [
    "E = 96e9\n",
    "nu = 0.246 # metagabbro\n",
    "mu = E/(2*(1+nu))\n",
    "\n",
    "a_patch = 4.0e-3\n",
    "a_nuc = 2.5e-3\n",
    "a_margin = 4.08e-3\n",
    "\n",
    "rupturetype = \"pulse\" # the initial model is same with both pulse and crack.\n",
    "pdcscaling= 0.6 #0.6 #0.65\n",
    "bgbeta= 0.35 #0.4\n",
    "# gammautry = 0.8\n",
    "\n",
    "sig_n = 6e6\n",
    "\n",
    "nb_x_elements = 1024 #128 #128 #128\n",
    "nb_z_elements = 1024 #128 #128 #128\n",
    "\n",
    "IfBinaryOutput = True\n",
    "\n",
    "Ifmasteroutput=True # add file key to the master output\n",
    "if Ifmasteroutput:\n",
    "    filekey = \"_master\"\n",
    "else:\n",
    "    filekey = \"\"\n",
    "\n",
    "    "
   ]
  },
  {
   "cell_type": "code",
   "execution_count": 38,
   "metadata": {},
   "outputs": [
    {
     "data": {
      "text/plain": [
       "'a=4.00_ruptype=pulse_pdcscaling=0.600_sn=6.0MPa_hatfr=0.3_bgbeta=0.35'"
      ]
     },
     "execution_count": 38,
     "metadata": {},
     "output_type": "execute_result"
    }
   ],
   "source": [
    "# case study parameter casename\n",
    "casestr = f\"a={a_patch*1e3:.2f}_ruptype={rupturetype}_pdcscaling={pdcscaling:.3f}_sn={sig_n/1e6:.1f}MPa_hatfr=0.3_bgbeta={bgbeta:.2f}\"\n",
    "\n",
    "# finame=f\"../../preprocess_modelsetup/data/gouge_dynamicrupture_modelparam_{casestr}.csv\"\n",
    "finame=f\"../../preprocess_modelsetup/data/gouge_dynamicrupture_modelparam_{casestr}{filekey}.csv\"\n",
    "\n",
    "# Read model parameters\n",
    "df_modelparam = pd.read_csv(finame, index_col=0)\n",
    "\n",
    "\n",
    "datadir_root = \"../../../uguca/build_v42_masterfitmodel/simulations_main_casestudy\"\n",
    "\n",
    "# datadir_root = \"/Volumes/4mGouge_WorkHDD/RuptureSimulation/build_hpcv41_newcatalog_master/simulations_main_casestudy_hpc\"\n",
    "datadir_root = \"/Volumes/Okuboetal2025_masterHDD/RuptureSimulation/main_casestudy/build_hpcv62_mastercase_v3/simulations_main_casestudy_hpc_master\"\n",
    "\n",
    "casestr"
   ]
  },
  {
   "cell_type": "code",
   "execution_count": 39,
   "metadata": {},
   "outputs": [
    {
     "data": {
      "text/plain": [
       "gougeevent_id\n",
       "4      0.600\n",
       "9      0.600\n",
       "18     0.600\n",
       "19     0.600\n",
       "20     0.600\n",
       "21     0.600\n",
       "24     0.695\n",
       "27     0.600\n",
       "31     0.600\n",
       "38     0.600\n",
       "40     0.600\n",
       "43     0.600\n",
       "44     0.600\n",
       "50     0.500\n",
       "52     0.460\n",
       "61     0.600\n",
       "62     0.600\n",
       "69     0.600\n",
       "72     0.430\n",
       "77     0.600\n",
       "85     0.600\n",
       "88     0.600\n",
       "89     0.600\n",
       "95     0.600\n",
       "99     0.600\n",
       "100    0.600\n",
       "109    0.600\n",
       "118    0.600\n",
       "120    0.600\n",
       "126    0.600\n",
       "128    0.600\n",
       "129    0.410\n",
       "131    0.600\n",
       "Name: delsigma_factor, dtype: float64"
      ]
     },
     "execution_count": 39,
     "metadata": {},
     "output_type": "execute_result"
    }
   ],
   "source": [
    "df_modelparam[\"delsigma_factor\"]"
   ]
  },
  {
   "cell_type": "code",
   "execution_count": 40,
   "metadata": {},
   "outputs": [],
   "source": [
    "# load color dictionary consistent to the plot of the repeated waveforms\n",
    "repeated_sensor_lcdict = \"OL08\" # the color dict is same for all the sensor although separately saved.\n",
    "gougepatch_id = \"G3\"\n",
    "with open(f'../../../../ComputeScaling/data/01_plot_gougeevents/lc_dict_{gougepatch_id}_{repeated_sensor_lcdict}.pkl', 'rb') as fi:\n",
    "    lc_dict = pickle.load(fi)"
   ]
  },
  {
   "cell_type": "markdown",
   "metadata": {},
   "source": [
    "# Read and compute the cross-section values\n",
    "\n",
    "To plot the cross-section, we read the gouge event cases from the output of numerical simulation and extract the profile of shear stress and normal stress."
   ]
  },
  {
   "cell_type": "code",
   "execution_count": 41,
   "metadata": {},
   "outputs": [
    {
     "name": "stdout",
     "output_type": "stream",
     "text": [
      "Process 72: fb03-087__0072_a=4.00_ruptype=pulse_pdcscaling=0.600_sn=6.0MPa_hatfr=0.3_bgbeta=0.35_0.4300_initcondition\n",
      "Grid size: 0.0390625[mm]\n"
     ]
    }
   ],
   "source": [
    "# read the time and coordinates\n",
    "expr_id = 87\n",
    "gougeevent_id = 72\n",
    "df_modelparam_selected = df_modelparam[df_modelparam.index == gougeevent_id]\n",
    "# simulation_name = f\"fb03-{expr_id:03d}__{df_modelparam_selected.index[0]:04d}_{casestr}\"\n",
    "simulation_name = f\"fb03-{expr_id:03d}__{df_modelparam_selected.index[0]:04d}_{casestr}_{df_modelparam_selected.delsigma_factor.values[0]:.4f}_initcondition\"\n",
    "print(f\"Process {gougeevent_id}: {simulation_name}\")\n",
    "\n",
    "df_time = pd.read_csv(os.path.join(datadir_root,simulation_name+\".time\"), header=None, sep=' ', index_col=0)\n",
    "df_coord = pd.read_csv(os.path.join(datadir_root,simulation_name+\".coords\"), header=None, sep=' ', index_col=None)\n",
    "NT=len(df_time)\n",
    "\n",
    "\n",
    "# location of the center of nucleation zone\n",
    "nuc_x = -(a_patch - a_nuc)\n",
    "nuc_z = 0\n",
    "\n",
    "xcoord = df_coord.loc[:,0].values\n",
    "zcoord = df_coord.loc[:,2].values\n",
    "\n",
    "x_length = xcoord.max()\n",
    "z_length = zcoord.max()\n",
    "\n",
    "# ref also: https://stackoverflow.com/a/35176314\n",
    "dgrid = (zcoord[1] - zcoord[0])\n",
    "print(f\"Grid size: {dgrid*1e3}[mm]\") \n",
    "\n",
    "X = xcoord.reshape(nb_x_elements,nb_z_elements).T- dgrid/2 - x_length/2\n",
    "Z = zcoord.reshape(nb_x_elements,nb_z_elements).T- dgrid/2 - z_length/2\n",
    "\n"
   ]
  },
  {
   "cell_type": "code",
   "execution_count": 42,
   "metadata": {},
   "outputs": [
    {
     "data": {
      "text/plain": [
       "gougeevent_id\n",
       "72    0.43\n",
       "Name: delsigma_factor, dtype: float64"
      ]
     },
     "execution_count": 42,
     "metadata": {},
     "output_type": "execute_result"
    }
   ],
   "source": [
    "df_modelparam_selected.delsigma_factor"
   ]
  },
  {
   "cell_type": "code",
   "execution_count": 43,
   "metadata": {},
   "outputs": [],
   "source": [
    "# gougeevent_ids = [30, 71, 3, 51, 104]\n",
    "gougeevent_ids = [24, 50, 52, 72, 129]"
   ]
  },
  {
   "cell_type": "code",
   "execution_count": 44,
   "metadata": {},
   "outputs": [
    {
     "data": {
      "text/plain": [
       "Index(['M0_mean', 'Tw_mean', 'Mw_mean', 'hat_sn_patch', 'hat_sn_background',\n",
       "       'delsig_withmargin_try', 'slip_try', 'initialstress_fraction',\n",
       "       'delsigma_factor', 'fp_patch', 'hat_fr', 'hat_fp_background',\n",
       "       'hat_fr_background', 'dc_try', 'hat_ds_factor_rapidnuc_nuc',\n",
       "       'hat_ds_factor_rapidnuc_patch', 'tau_c_nuc', 'tau_r_nuc', 'tau_c_patch',\n",
       "       'tau_r_patch', 'tau_c_background', 'tau_r_background', 'tau_0_nuc',\n",
       "       'tau_0_patch', 'tau_0_background', 'GIIC_nuc', 'GIIC_patch',\n",
       "       'GIIC_background', 'Sratio_nuc', 'Sratio_patch', 'Ainit_nuc',\n",
       "       'Ainit_patch', 'Anuc_nuc', 'Anuc_patch', 'rnuc_nuc', 'rnuc_patch'],\n",
       "      dtype='object')"
      ]
     },
     "execution_count": 44,
     "metadata": {},
     "output_type": "execute_result"
    }
   ],
   "source": [
    "df_modelparam_selected.columns"
   ]
  },
  {
   "cell_type": "code",
   "execution_count": 45,
   "metadata": {},
   "outputs": [
    {
     "name": "stdout",
     "output_type": "stream",
     "text": [
      "Process 24: fb03-087__0024_a=4.00_ruptype=pulse_pdcscaling=0.600_sn=6.0MPa_hatfr=0.3_bgbeta=0.35_0.6950_initcondition\n",
      "0\n",
      "Process 50: fb03-087__0050_a=4.00_ruptype=pulse_pdcscaling=0.600_sn=6.0MPa_hatfr=0.3_bgbeta=0.35_0.5000_initcondition\n",
      "0\n",
      "Process 52: fb03-087__0052_a=4.00_ruptype=pulse_pdcscaling=0.600_sn=6.0MPa_hatfr=0.3_bgbeta=0.35_0.4600_initcondition\n",
      "0\n",
      "Process 72: fb03-087__0072_a=4.00_ruptype=pulse_pdcscaling=0.600_sn=6.0MPa_hatfr=0.3_bgbeta=0.35_0.4300_initcondition\n",
      "0\n",
      "Process 129: fb03-087__0129_a=4.00_ruptype=pulse_pdcscaling=0.600_sn=6.0MPa_hatfr=0.3_bgbeta=0.35_0.4100_initcondition\n",
      "0\n"
     ]
    }
   ],
   "source": [
    "t_plot_target = 0.0\n",
    "\n",
    "crosssec_all = dict()\n",
    "\n",
    "for gougeevent_id in gougeevent_ids:\n",
    "    \n",
    "    # gougeevent_id = 30\n",
    "    df_modelparam_selected = df_modelparam[df_modelparam.index == gougeevent_id]\n",
    "    # simulation_name = f\"fb03-{expr_id:03d}__{df_modelparam_selected.index[0]:04d}_{casestr}\"\n",
    "    simulation_name = f\"fb03-{expr_id:03d}__{df_modelparam_selected.index[0]:04d}_{casestr}_{df_modelparam_selected.delsigma_factor.values[0]:.4f}_initcondition\"\n",
    "\n",
    "    print(f\"Process {gougeevent_id}: {simulation_name}\")\n",
    "\n",
    "    fp_patch = df_modelparam_selected[\"fp_patch\"].values[0]\n",
    "    fr_patch = df_modelparam_selected[\"hat_fr\"].values[0]\n",
    "    \n",
    "    hat_fp_background = df_modelparam_selected[\"hat_fp_background\"].values[0]\n",
    "    hat_fr_background = df_modelparam_selected[\"hat_fr_background\"].values[0]\n",
    "\n",
    "    read_comp = 0 #0: Mode II direction, 1: normal (Mode I), 2:Mode III direction \n",
    "\n",
    "    # read cohesion (shear traction)\n",
    "    read_parameter = f\"cohesion_{read_comp}\" # select the parameter to read\n",
    "    if IfBinaryOutput:\n",
    "        D = np.fromfile(os.path.join(datadir_root,simulation_name+f\"-DataFiles/{read_parameter}.out\"), dtype=\"float32\")\n",
    "        df_data_coh = pd.DataFrame(data=D.reshape((NT, -1)))\n",
    "    else:\n",
    "        df_data_coh = pd.read_csv(os.path.join(datadir_root,simulation_name+f\"-DataFiles/{read_parameter}.out\"), header=None, sep=' ', engine=\"c\")\n",
    "\n",
    "    # check if the grid size is consistent to the data shape\n",
    "    assert len(df_data_coh.columns) == len(xcoord)\n",
    "\n",
    "    read_comp = 1 #0: Mode II direction, 1: normal (Mode I), 2:Mode III direction \n",
    "\n",
    "    # read cohesion (shear traction)\n",
    "    read_parameter = f\"cohesion_{read_comp}\" # select the parameter to read\n",
    "    if IfBinaryOutput:\n",
    "        D = np.fromfile(os.path.join(datadir_root,simulation_name+f\"-DataFiles/{read_parameter}.out\"), dtype=\"float32\")\n",
    "        df_data_sn = pd.DataFrame(data=D.reshape((NT, -1)))\n",
    "    else:\n",
    "        df_data_sn = pd.read_csv(os.path.join(datadir_root,simulation_name+f\"-DataFiles/{read_parameter}.out\"), header=None, sep=' ', engine=\"c\")\n",
    "\n",
    "\n",
    "    # check if the grid size is consistent to the data shape\n",
    "    assert len(df_data_sn.columns) == len(xcoord)\n",
    "\n",
    "    \n",
    "    # Shear stress\n",
    "    # t_plot_target = t_plot_list[i]\n",
    "    t_plot_ind = np.where(df_time>=t_plot_target)[0][0]\n",
    "    print(t_plot_ind)\n",
    "    t_plot_true = df_time.iloc[t_plot_ind].values[0]\n",
    "\n",
    "    data_coh = df_data_coh.loc[t_plot_ind, :].copy().values\n",
    "    data_sn = df_data_sn.loc[t_plot_ind, :].copy().values\n",
    "\n",
    "    V_coh = data_coh.reshape(nb_x_elements,nb_z_elements).T\n",
    "    V_sn = data_sn.reshape(nb_x_elements,nb_z_elements).T\n",
    "\n",
    "    # Compute peak strength\n",
    "    # select the data within the patch\n",
    "    data_taup = np.zeros(len(data_sn))\n",
    "    data_taur = np.zeros(len(data_sn))\n",
    "    for i, (x0, z0) in enumerate(zip(xcoord, zcoord)):\n",
    "        if np.sqrt((x0- dgrid/2 - x_length/2)**2+(z0- dgrid/2 - z_length/2)**2) <= a_patch:\n",
    "            # within the patch\n",
    "            data_taup[i] = data_sn[i] * fp_patch # fp is same within the nucleation and patch regions\n",
    "            data_taur[i] = data_sn[i] * fr_patch # fr is same within the nucleation and patch regions\n",
    "        else:\n",
    "            data_taup[i] = data_sn[i] * hat_fp_background\n",
    "            data_taur[i] = data_sn[i] * hat_fr_background\n",
    "\n",
    "    V_taup = -data_taup.reshape(nb_x_elements,nb_z_elements).T\n",
    "    V_taur = -data_taur.reshape(nb_x_elements,nb_z_elements).T\n",
    "\n",
    "    data_coh = df_data_coh.loc[t_plot_ind, :].values\n",
    "    data_taup[data_taup==0] = 1e-6 # avoid zero division\n",
    "    data_cohovertaup = data_coh/(-data_taup)\n",
    "\n",
    "    V_cvt = data_cohovertaup.reshape(nb_x_elements,nb_z_elements).T\n",
    "\n",
    "    # search the cross_section\n",
    "    x_crosssec_ind = np.where(np.abs(Z[:, 0])<1e-9)[0][0]\n",
    "\n",
    "    # key_tr = f\"{df_modelparam_selected.index[0]}\"\n",
    "    key_tr = f\"fb03-087__{df_modelparam_selected.index[0]:04d}\"\n",
    "\n",
    "    crosssec_all[key_tr+\"_tau0\"] = V_coh[x_crosssec_ind, :]\n",
    "    crosssec_all[key_tr+\"_taup\"] = V_taup[x_crosssec_ind, :]\n",
    "    crosssec_all[key_tr+\"_taur\"] = V_taur[x_crosssec_ind, :]\n",
    "    crosssec_all[key_tr+\"_tau0overtaup\"] = V_cvt[x_crosssec_ind, :]\n",
    "    crosssec_all[key_tr+\"_sn\"] = V_sn[x_crosssec_ind, :]\n",
    "    \n",
    "    # save the fraction of initial shear stress to the peak friction\n",
    "    crosssec_all[key_tr+\"_V_coh\"] = V_coh\n",
    "    crosssec_all[key_tr+\"_V_cvt\"] = V_cvt\n",
    "\n",
    "\n",
    "crosssec_all[\"xvec\"] = X[0]\n"
   ]
  },
  {
   "cell_type": "code",
   "execution_count": 46,
   "metadata": {},
   "outputs": [
    {
     "data": {
      "text/plain": [
       "0.0"
      ]
     },
     "execution_count": 46,
     "metadata": {},
     "output_type": "execute_result"
    }
   ],
   "source": [
    "t_plot_true"
   ]
  },
  {
   "cell_type": "code",
   "execution_count": null,
   "metadata": {},
   "outputs": [],
   "source": []
  },
  {
   "cell_type": "markdown",
   "metadata": {},
   "source": [
    "## Compute the nucleation length to show the minimum shear stress\n",
    "\n",
    "We compute the minimum stress $\\tau_{nuc}^{min}$ which corresponds to the $A_{critical}$ with the same size of gouge patch such as:\n",
    "\n",
    "$$ A_c(\\tau_{nuc}^{min}) = A_{patch} $$ \n",
    "\n",
    "$$ A_{patch} = A_{init} \\left( \\dfrac{\\mu D_c^{min}}{\\tau_{nuc}^{min} - \\sigma_n f_r^{patch}} \\right) ^2, $$\n",
    "where we assume $\\tau_{s} \\sim \\tau_{0}$. $\\tau_{nuc}^{min}$ indicates $\\tau_{0}^{min}$ with which the critical nucleation size is equal to the patch size. \n",
    "Therefore,\n",
    "\n",
    "$$ \\tau_{nuc}^{min} = \\sqrt{\\dfrac{A_{init}}{A_{patch}}} \\mu D_c^{min} + \\sigma_n f_r^{patch} $$\n",
    "\n",
    "We used the minimum $D_c$ to compute this criteria. \n",
    "\n",
    "We compute the critical nucleation size of 3D fault with the linear slip weakening law From Galis et al. (2014) as follows:\n",
    "\n",
    "$$A_{init} = 1.75 S^{2.81} + 3.82 $$\n",
    "\n",
    "$$ A_{init} = A_i / L_{fric}^2 $$\n",
    "\n",
    "$$L_{fric} = \\mu D_c / (\\tau_s - \\tau_d) $$"
   ]
  },
  {
   "cell_type": "code",
   "execution_count": 47,
   "metadata": {},
   "outputs": [],
   "source": [
    "def compute_Sratio(taup, taur, tau0):\n",
    "    return (taup-tau0)/(tau0-taur)\n",
    "    \n",
    "def compute_Ainit(S):\n",
    "    return 1.75*(S**2.81) + 3.82\n",
    "\n",
    "def compute_Anuc(Ainit, mu, Dc, tptd):\n",
    "    return Ainit*((mu*Dc) / (tptd))**2"
   ]
  },
  {
   "cell_type": "code",
   "execution_count": 48,
   "metadata": {},
   "outputs": [],
   "source": [
    "gougeevent_id_minevent = 24\n",
    "df_modelparam_selected = df_modelparam[df_modelparam.index == gougeevent_id_minevent]\n"
   ]
  },
  {
   "cell_type": "code",
   "execution_count": 49,
   "metadata": {},
   "outputs": [
    {
     "name": "stdout",
     "output_type": "stream",
     "text": [
      "Ainit_patch:3.82776\n"
     ]
    }
   ],
   "source": [
    "Ainit_patch = compute_Ainit(df_modelparam_selected[\"Sratio_patch\"].values[0])\n",
    "print(f\"Ainit_patch:{Ainit_patch:.5f}\")"
   ]
  },
  {
   "cell_type": "code",
   "execution_count": 50,
   "metadata": {},
   "outputs": [
    {
     "name": "stdout",
     "output_type": "stream",
     "text": [
      "tau_min_nuc:1.937MPa\n"
     ]
    }
   ],
   "source": [
    "A_patch = np.pi * a_patch**2\n",
    "tau_r_min = df_modelparam_selected[\"hat_sn_patch\"].values[0] * df_modelparam_selected[\"hat_fr\"].values[0]\n",
    "tau_min_nuc = np.sqrt(Ainit_patch/A_patch) * mu * df_modelparam_selected[\"dc_try\"].values[0] + tau_r_min\n",
    "print(f\"tau_min_nuc:{tau_min_nuc/1e6:.3f}MPa\")"
   ]
  },
  {
   "cell_type": "code",
   "execution_count": null,
   "metadata": {},
   "outputs": [],
   "source": []
  },
  {
   "cell_type": "code",
   "execution_count": 51,
   "metadata": {},
   "outputs": [
    {
     "data": {
      "text/plain": [
       "[<matplotlib.lines.Line2D at 0x13f45fb60>]"
      ]
     },
     "execution_count": 51,
     "metadata": {},
     "output_type": "execute_result"
    },
    {
     "data": {
      "image/png": "[encoded data removed]",
      "text/plain": [
       "<Figure size 600x500 with 1 Axes>"
      ]
     },
     "metadata": {},
     "output_type": "display_data"
    }
   ],
   "source": [
    "fig, ax = plt.subplots(1, 1, figsize=(6, 5))\n",
    "\n",
    "\n",
    "for gougeevent_id in gougeevent_ids:\n",
    "    key_tr = f\"fb03-087__{gougeevent_id:04d}\"\n",
    "    \n",
    "    lc = lc_dict[key_tr]\n",
    "    ax.plot(crosssec_all[\"xvec\"]*1e3, crosssec_all[key_tr+\"_tau0\"]/1e6, ls=\"-\", marker=\".\", c=lc)\n",
    "    ax.plot(crosssec_all[\"xvec\"]*1e3, crosssec_all[key_tr+\"_taup\"]/1e6, ls=\"--\", c=lc)\n",
    "    ax.plot(crosssec_all[\"xvec\"]*1e3, crosssec_all[key_tr+\"_taur\"]/1e6, ls=\"--\", marker=\"+\", c=\"k\")\n",
    "    ax.plot(crosssec_all[\"xvec\"]*1e3, -crosssec_all[key_tr+\"_sn\"]/1e6, ls=\"--\", marker=\"\", c=\"g\")\n",
    "    \n",
    "ax.plot([-10, 10], [tau_min_nuc/1e6, tau_min_nuc/1e6], \"r-\") # minimum stress to cause the spontaneous rupture\n",
    "# ax.set_xlim([0, 4])"
   ]
  },
  {
   "cell_type": "code",
   "execution_count": null,
   "metadata": {},
   "outputs": [],
   "source": []
  },
  {
   "cell_type": "markdown",
   "metadata": {},
   "source": [
    "# Plot contour and cross-section profile"
   ]
  },
  {
   "cell_type": "code",
   "execution_count": 52,
   "metadata": {},
   "outputs": [
    {
     "data": {
      "text/plain": [
       "[24, 50, 52, 72, 129]"
      ]
     },
     "execution_count": 52,
     "metadata": {},
     "output_type": "execute_result"
    }
   ],
   "source": [
    "gougeevent_ids"
   ]
  },
  {
   "cell_type": "code",
   "execution_count": 53,
   "metadata": {},
   "outputs": [
    {
     "name": "stdout",
     "output_type": "stream",
     "text": [
      "[1.63134761, 1.1234049, 1.07633824, 0.964979935, 0.897392765] rnuc mean = 1.14mm\n"
     ]
    }
   ],
   "source": [
    "# Compute average of nucleation radius\n",
    "rnuc_patch_all = []\n",
    "for gougeevent_id in gougeevent_ids:\n",
    "    key_tr = f\"fb03-087__{gougeevent_id:04d}\"\n",
    "    rnuc_patch_all.append(df_modelparam.loc[gougeevent_id, :].rnuc_patch)\n",
    "    \n",
    "mean_rnuc_patch = np.mean(rnuc_patch_all)\n",
    "print(rnuc_patch_all, f\"rnuc mean = {mean_rnuc_patch:.2f}mm\")"
   ]
  },
  {
   "cell_type": "code",
   "execution_count": 54,
   "metadata": {},
   "outputs": [
    {
     "name": "stdout",
     "output_type": "stream",
     "text": [
      "Grid size:0.03906 mm, The grid size is at least 23.0 \n"
     ]
    }
   ],
   "source": [
    "# Show the grid resolution to the Rc\n",
    "print(f\"Grid size:{dgrid*1e3:.5f} mm, The grid size is at least {np.min(np.array(rnuc_patch_all)*1e-3/dgrid):.1f} \")"
   ]
  },
  {
   "cell_type": "code",
   "execution_count": 55,
   "metadata": {},
   "outputs": [
    {
     "data": {
      "text/plain": [
       "[1.63134761, 1.1234049, 1.07633824, 0.964979935, 0.897392765]"
      ]
     },
     "execution_count": 55,
     "metadata": {},
     "output_type": "execute_result"
    }
   ],
   "source": [
    "rnuc_patch_all"
   ]
  },
  {
   "cell_type": "code",
   "execution_count": 56,
   "metadata": {},
   "outputs": [
    {
     "data": {
      "text/plain": [
       "3.90625e-05"
      ]
     },
     "execution_count": 56,
     "metadata": {},
     "output_type": "execute_result"
    }
   ],
   "source": [
    "dgrid"
   ]
  },
  {
   "cell_type": "code",
   "execution_count": 57,
   "metadata": {},
   "outputs": [
    {
     "data": {
      "text/plain": [
       "Index(['M0_mean', 'Tw_mean', 'Mw_mean', 'hat_sn_patch', 'hat_sn_background',\n",
       "       'delsig_withmargin_try', 'slip_try', 'initialstress_fraction',\n",
       "       'delsigma_factor', 'fp_patch', 'hat_fr', 'hat_fp_background',\n",
       "       'hat_fr_background', 'dc_try', 'hat_ds_factor_rapidnuc_nuc',\n",
       "       'hat_ds_factor_rapidnuc_patch', 'tau_c_nuc', 'tau_r_nuc', 'tau_c_patch',\n",
       "       'tau_r_patch', 'tau_c_background', 'tau_r_background', 'tau_0_nuc',\n",
       "       'tau_0_patch', 'tau_0_background', 'GIIC_nuc', 'GIIC_patch',\n",
       "       'GIIC_background', 'Sratio_nuc', 'Sratio_patch', 'Ainit_nuc',\n",
       "       'Ainit_patch', 'Anuc_nuc', 'Anuc_patch', 'rnuc_nuc', 'rnuc_patch'],\n",
       "      dtype='object')"
      ]
     },
     "execution_count": 57,
     "metadata": {},
     "output_type": "execute_result"
    }
   ],
   "source": [
    "df_modelparam_selected.columns"
   ]
  },
  {
   "cell_type": "markdown",
   "metadata": {},
   "source": [
    "**Update:** we plot the figures horizontally for the master plot."
   ]
  },
  {
   "cell_type": "code",
   "execution_count": 58,
   "metadata": {
    "scrolled": true
   },
   "outputs": [
    {
     "data": {
      "image/png": "[encoded data removed]",
      "text/plain": [
       "<Figure size 800x320 with 4 Axes>"
      ]
     },
     "metadata": {},
     "output_type": "display_data"
    }
   ],
   "source": [
    "gougeevent_id_master = 72 #104 # all event shows same result as the value is normalized\n",
    "df_modelparam_selected = df_modelparam[df_modelparam.index == gougeevent_id_master]\n",
    "key_tr_master = f\"fb03-087__{gougeevent_id_master:04d}\"\n",
    "\n",
    "tau_0_patch = df_modelparam_selected['tau_0_patch'].values[0]\n",
    "tau_c_patch = df_modelparam_selected['tau_c_patch'].values[0]\n",
    "\n",
    "# ref: https://matplotlib.org/stable/gallery/axes_grid1/scatter_hist_locatable_axes.html\n",
    "fig, (ax, ax_crosssec) = plt.subplots(1, 2, figsize=(8.0, 3.2), gridspec_kw={'width_ratios': [1.07, 0.36]} )#(8, 7))\n",
    "\n",
    "\n",
    "#1. Plot 2D stress distribution\n",
    "divider = make_axes_locatable(ax)\n",
    "\n",
    "# ref: https://matplotlib.org/stable/gallery/axes_grid1/demo_colorbar_with_axes_divider.html\n",
    "cax1 = divider.append_axes(\"bottom\", size=\"7%\", pad=0.45)\n",
    "# cax1 = divider.append_axes(\"right\", size=\"7%\", pad=\"5%\")\n",
    "\n",
    "# to align the figure, we also divide the cross-section axis\n",
    "divider_crosssec = make_axes_locatable(ax_crosssec)\n",
    "\n",
    "cax2 = divider_crosssec.append_axes(\"bottom\", size=\"7%\", pad=0.45)\n",
    "cax2.axis(\"off\")\n",
    "\n",
    "# right\n",
    "# ax_crosssec = divider.append_axes(\"right\", 2.4, pad=\"5%\")\n",
    "\n",
    "vmin_eps = 1e-4 # to color the patch region where tau = 0.925tau_peak\n",
    "vmax_cvt = 1.02 # the range is upto 1.02 for the master model\n",
    "vmin_cvt = 0.925 - vmin_eps\n",
    "\n",
    "# ref: https://stackoverflow.com/a/18926541\n",
    "def truncate_colormap(cmap, minval=0.0, maxval=1.0, n=100):\n",
    "    new_cmap = colors.LinearSegmentedColormap.from_list(\n",
    "        'trunc({n},{a:.2f},{b:.2f})'.format(n=cmap.name, a=minval, b=maxval),\n",
    "        cmap(np.linspace(minval, maxval, n)))\n",
    "\n",
    "    return new_cmap\n",
    "\n",
    "# cmap = plt.get_cmap('inferno_r') To avoid the confusion with the snapshots of cohesion\n",
    "cmap = plt.get_cmap('PuBu')\n",
    "cmap_cvt = truncate_colormap(cmap, 0.1, 0.9)\n",
    "\n",
    "# background color\n",
    "# cmap_cvt.set_under([0.85, 0.85, 0.85],1.)\n",
    "# cmap_cvt.set_bad([0.8, 0.8, 0.8],1.)\n",
    "# cmap_cvt.set_under([0.96, 0.96, 0.96], 1.)\n",
    "cmap_cvt.set_under(\"w\", 1.)\n",
    "# cmap_cvt.set_bad([1, 1, 1],1.)\n",
    "\n",
    "h3 = ax.pcolormesh(X*1e3, Z*1e3, crosssec_all[key_tr_master+\"_V_coh\"]/tau_c_patch, norm=colors.Normalize(vmin=vmin_cvt, vmax=vmax_cvt), cmap=cmap_cvt, rasterized=True)\n",
    "\n",
    "ax.set_xlabel(\"x [mm]\")\n",
    "ax.tick_params(axis='x', pad=5)\n",
    "\n",
    "ax.set_ylabel(\"z [mm]\")\n",
    "ax.tick_params(axis='y', labelleft=True)\n",
    "\n",
    "ax.set_aspect('equal', 'box')\n",
    "\n",
    "xlimit=[-8, 8]\n",
    "ax.set_xlim(xlimit)\n",
    "ax.set_ylim(xlimit) # same as x limit\n",
    "\n",
    "ax.set_xticks(np.linspace(-8, 8, 5))\n",
    "ax.set_yticks(np.linspace(-8, 8, 5))\n",
    "   \n",
    "line_patch = plt.Circle((0, 0), a_patch*1e3, ec=[0.2, 0.2, 0.2], fill=False, ls=\"--\", lw=0.75)\n",
    "line_nuc = plt.Circle((nuc_x*1e3, nuc_z), a_nuc*1e3, ec=[0.2, 0.2, 0.2], fill=False, ls=\":\", lw=0.75)\n",
    "line_margin = plt.Circle((0, 0), a_margin*1e3, ec='w', fill=False, ls=\"--\")\n",
    "\n",
    "ax.add_patch(line_patch)\n",
    "ax.add_patch(line_nuc)\n",
    "ax.add_patch(line_margin)\n",
    "\n",
    "titlestr=f\"ID: {gougeevent_id_master}\"\n",
    "# ax.set_title(titlestr)\n",
    "\n",
    "# color bars\n",
    "# vel\n",
    "cticks = [0.001, 0.01, 0.1]\n",
    "cticklabels= [str(x) for x in cticks]\n",
    "\n",
    "# shear stress over the peak frictional strength\n",
    "cb_cvt = fig.colorbar(h3, cax=cax1, orientation=\"horizontal\", shrink=1.0, # ticks=[1, 1.1, 1.2],\n",
    "                     extend='min', extendrect=False, ticks=[0.95, 1.0])\n",
    "\n",
    "cb_cvt.set_label(r\"Initial shear stress $τ_0/τ_{\\mathrm{peak}}$\")\n",
    "\n",
    "# plot length scale\n",
    "# ax.plot([-a_patch*1e3, a_patch*1e3], [-6, -6], \"k-\")\n",
    "# ax.plot([-(a_nuc-nuc_x)*1e3, (a_nuc+nuc_x)*1e3], [-5, -5], \"g-\")\n",
    "ax.plot([(nuc_x-mean_rnuc_patch*1e-3)*1e3, (nuc_x+mean_rnuc_patch*1e-3)*1e3], [-4, -4], \"b-\")\n",
    "\n",
    "# Plot cross-section line\n",
    "ax.plot(xlimit, [0, 0], \"k--\", lw=0.75, zorder=2)\n",
    "\n",
    "rnuc_patch_all\n",
    "\n",
    "# ax.axis(\"off\")\n",
    "#--------------------#\n",
    "#2. Plot cross-section\n",
    "#--------------------#\n",
    "\n",
    "# Plot cross-section\n",
    "for gougeevent_id in gougeevent_ids:\n",
    "    key_tr = f\"fb03-087__{gougeevent_id:04d}\"\n",
    "    lc = lc_dict[key_tr]\n",
    "    ax_crosssec.plot(crosssec_all[\"xvec\"]*1e3, crosssec_all[key_tr+\"_tau0\"]/1e6, c=lc, lw=1, zorder=3)\n",
    "    \n",
    "    # isolate the background peak friction as this is similar for all the case\n",
    "    patch_inds = np.abs(crosssec_all[\"xvec\"])<=a_margin\n",
    "    \n",
    "    if gougeevent_id==129:\n",
    "        # plot entire peak friction\n",
    "        ax_crosssec.plot(crosssec_all[\"xvec\"]*1e3, crosssec_all[key_tr+\"_taup\"]/1e6, ls=\"--\", c=lc, lw=1) # marker=\"+\",\n",
    "    else:\n",
    "        # plot only inside the patch and margin\n",
    "        ax_crosssec.plot(crosssec_all[\"xvec\"][patch_inds]*1e3, crosssec_all[key_tr+\"_taup\"][patch_inds]/1e6, ls=\"--\", c=lc, lw=1) # marker=\"+\",\n",
    "\n",
    "    # Annotate the event IDs\n",
    "    ax_crosssec.text(-7.2, np.max(crosssec_all[key_tr+\"_taup\"])/1e6, f\"M{gougeevent_id:02d}\", c=lc, va=\"center\")\n",
    "    \n",
    "# plot residual friction level: it is set the same for all the events\n",
    "key_tr = f\"fb03-087__{gougeevent_id_master:04d}\"\n",
    "ax_crosssec.plot(crosssec_all[\"xvec\"]*1e3, crosssec_all[key_tr+\"_taur\"]/1e6, c=\"darkblue\", ls=\"dashdot\", lw=1.2, zorder=5)\n",
    "\n",
    "# plot normal stress\n",
    "ax_crosssec.plot(crosssec_all[\"xvec\"]*1e3, -crosssec_all[key_tr+\"_sn\"]/1e6, c=\"k\", ls=\"-\", lw=1, zorder=3)\n",
    "\n",
    "# plot minimum shear stress to cause the spontaneous rupture\n",
    "# ax_crosssec.plot(np.array([-a_patch, a_patch])*1e3 + [-tauminmargin, tauminmargin], np.array([tau_min_nuc, tau_min_nuc])/1e6, c=\"b\", ls=\"-\", lw=1, zorder=1)\n",
    "\n",
    "# ax_crosssec.plot(-7.7 , tau_min_nuc/1e6, c=\"r\", marker=\"<\", zorder=1) # skip plotting\n",
    "\n",
    "# ax_crosssec.axhline(1.0, ls=\"--\", c='gray', lw=1)\n",
    "\n",
    "# annotate texts\n",
    "text_x = 4.0\n",
    "ax.text(-5, -4, r\"$2R_c$\")\n",
    "ax_crosssec.text(text_x, 5, r\"$\\tau_0$ r$\\tau_{\\mathrm{peak}}$\")\n",
    "ax_crosssec.text(text_x, 4, r\"$\\sigma_n \\tau_{\\mathrm{residual}}$\")\n",
    "ax_crosssec.text(text_x, 3, r\"$\\Delta \\tau$\")\n",
    "ax_crosssec.text(text_x, 3, r\"$\\Delta \\tau^{\\text{out}}$\")\n",
    "\n",
    "ax_crosssec.set_xlim([-8, 8])\n",
    "ax_crosssec.set_ylim([0., 6.8])\n",
    "\n",
    "ax_crosssec.set_xlabel(\"x [mm]\")\n",
    "# ax_crosssec.set_ylabel(\"$τ_{yx}^{0}/τ_{yx}^p$\")\n",
    "# ax_crosssec.set_ylabel(\"$τ_{0} / τ_p$\")\n",
    "ax_crosssec.set_ylabel(\"Stress [MPa]\")\n",
    "\n",
    "\n",
    "# axs[1, 1].axis(\"off\")\n",
    "\n",
    "# fig.align_ylabels(axs[:, -1])\n",
    "\n",
    "# ax.spines['top'].set_visible(False)\n",
    "# ax.spines['right'].set_visible(False)\n",
    "fig.tight_layout() # this reset the figure margins\n",
    "\n",
    "plt.savefig(figdir + f\"/master_initialcondition_event{gougeevent_id_master:d}_crosssec_ele{nb_x_elements}_verticalcb{filekey}.png\", dpi=300, bbox_inches=\"tight\")\n",
    "plt.savefig(figdir + f\"/master_initialcondition_event{gougeevent_id_master:d}_crosssec_ele{nb_x_elements}_verticalcb{filekey}.eps\", bbox_inches=\"tight\")\n"
   ]
  },
  {
   "cell_type": "code",
   "execution_count": 70,
   "metadata": {},
   "outputs": [
    {
     "data": {
      "image/png": "[encoded data removed]",
      "text/plain": [
       "<Figure size 600x240 with 3 Axes>"
      ]
     },
     "metadata": {},
     "output_type": "display_data"
    }
   ],
   "source": [
    "gougeevent_id_master = 72 #104 # all event shows same result as the value is normalized\n",
    "df_modelparam_selected = df_modelparam[df_modelparam.index == gougeevent_id_master]\n",
    "key_tr_master = f\"fb03-087__{gougeevent_id_master:04d}\"\n",
    "\n",
    "tau_0_patch = df_modelparam_selected['tau_0_patch'].values[0]\n",
    "tau_c_patch = df_modelparam_selected['tau_c_patch'].values[0]\n",
    "\n",
    "# ref: https://matplotlib.org/stable/gallery/axes_grid1/scatter_hist_locatable_axes.html\n",
    "fig, (ax, ax_crosssec) = plt.subplots(1, 2, figsize=(6, 2.4), gridspec_kw={'width_ratios': [0.5, 0.5]} )#(8, 7))\n",
    "\n",
    "\n",
    "#1. Plot 2D stress distribution\n",
    "# divider = make_axes_locatable(ax)\n",
    "\n",
    "# ref: https://matplotlib.org/stable/gallery/axes_grid1/demo_colorbar_with_axes_divider.html\n",
    "# cax1 = divider.append_axes(\"bottom\", size=\"7%\", pad=0.45)\n",
    "# cax1 = divider.append_axes(\"right\", size=\"7%\", pad=\"5%\")\n",
    "\n",
    "# to align the figure, we also divide the cross-section axis\n",
    "# divider_crosssec = make_axes_locatable(ax_crosssec)\n",
    "\n",
    "# cax2 = divider_crosssec.append_axes(\"bottom\", size=\"7%\", pad=0.45)\n",
    "# cax2.axis(\"off\")\n",
    "\n",
    "# right\n",
    "# ax_crosssec = divider.append_axes(\"right\", 2.4, pad=\"5%\")\n",
    "\n",
    "vmin_eps = 1e-4 # to color the patch region where tau = 0.925tau_peak\n",
    "vmax_cvt = 1.02 # the range is upto 1.02 for the master model\n",
    "vmin_cvt = 0.925 - vmin_eps\n",
    "\n",
    "# ref: https://stackoverflow.com/a/18926541\n",
    "def truncate_colormap(cmap, minval=0.0, maxval=1.0, n=100):\n",
    "    new_cmap = colors.LinearSegmentedColormap.from_list(\n",
    "        'trunc({n},{a:.2f},{b:.2f})'.format(n=cmap.name, a=minval, b=maxval),\n",
    "        cmap(np.linspace(minval, maxval, n)))\n",
    "\n",
    "    return new_cmap\n",
    "\n",
    "# cmap = plt.get_cmap('inferno_r') To avoid the confusion with the snapshots of cohesion\n",
    "cmap = plt.get_cmap('PuBu')\n",
    "cmap_cvt = truncate_colormap(cmap, 0.1, 0.9)\n",
    "\n",
    "# background color\n",
    "# cmap_cvt.set_under([0.85, 0.85, 0.85],1.)\n",
    "# cmap_cvt.set_bad([0.8, 0.8, 0.8],1.)\n",
    "# cmap_cvt.set_under([0.96, 0.96, 0.96], 1.)\n",
    "cmap_cvt.set_under(\"w\", 1.)\n",
    "# cmap_cvt.set_bad([1, 1, 1],1.)\n",
    "\n",
    "h3 = ax.pcolormesh(X*1e3, Z*1e3, crosssec_all[key_tr_master+\"_V_coh\"]/tau_c_patch, norm=colors.Normalize(vmin=vmin_cvt, vmax=vmax_cvt), cmap=cmap_cvt, rasterized=True)\n",
    "\n",
    "ax.set_xlabel(\"x [mm]\")\n",
    "ax.tick_params(axis='x', pad=5)\n",
    "\n",
    "ax.set_ylabel(\"z [mm]\")\n",
    "ax.tick_params(axis='y', labelleft=True)\n",
    "\n",
    "ax.set_aspect('equal', 'box')\n",
    "\n",
    "xlimit=[-8, 8]\n",
    "ax.set_xlim(xlimit)\n",
    "ax.set_ylim(xlimit) # same as x limit\n",
    "\n",
    "ax.set_xticks(np.linspace(-8, 8, 5))\n",
    "ax.set_yticks(np.linspace(-8, 8, 5))\n",
    "   \n",
    "line_patch = plt.Circle((0, 0), a_patch*1e3, ec=[0.2, 0.2, 0.2], fill=False, ls=\"--\", lw=0.75)\n",
    "line_nuc = plt.Circle((nuc_x*1e3, nuc_z), a_nuc*1e3, ec=[0.2, 0.2, 0.2], fill=False, ls=\":\", lw=0.75)\n",
    "line_margin = plt.Circle((0, 0), a_margin*1e3, ec='w', fill=False, ls=\"--\")\n",
    "\n",
    "ax.add_patch(line_patch)\n",
    "ax.add_patch(line_nuc)\n",
    "# ax.add_patch(line_margin)\n",
    "\n",
    "titlestr=f\"ID: {gougeevent_id_master}\"\n",
    "# ax.set_title(titlestr)\n",
    "\n",
    "# color bars\n",
    "# vel\n",
    "cticks = [0.001, 0.01, 0.1]\n",
    "cticklabels= [str(x) for x in cticks]\n",
    "\n",
    "# shear stress over the peak frictional strength\n",
    "# set color bar inside the axis\n",
    "axins1 = fig.add_axes([0.26, .8, .18, .05])\n",
    "cb_cvt = fig.colorbar(h3, cax=axins1, orientation=\"horizontal\", shrink=1.0,\n",
    "                      extend='min', extendrect=False, ticks=[0.95, 1.0])\n",
    "cb_cvt.set_label(r\"$τ_0/τ_{\\mathrm{peak}}$\", ha=\"left\", labelpad=0)\n",
    "\n",
    "\n",
    "# cb_cvt = fig.colorbar(h3, cax=cax1, orientation=\"horizontal\", shrink=1.0, # ticks=[1, 1.1, 1.2],\n",
    "#                      extend='min', extendrect=False, ticks=[0.95, 1.0])\n",
    "\n",
    "# cb_cvt.set_label(\"Initial shear stress $τ_0/τ_{\\mathrm{peak}}$\")\n",
    "\n",
    "\n",
    "\n",
    "# plot length scale\n",
    "# ax.plot([-a_patch*1e3, a_patch*1e3], [-6, -6], \"k-\")\n",
    "# ax.plot([-(a_nuc-nuc_x)*1e3, (a_nuc+nuc_x)*1e3], [-5, -5], \"g-\")\n",
    "rnuc_scale_y = -5\n",
    "ax.plot([(nuc_x-mean_rnuc_patch*1e-3)*1e3, (nuc_x+mean_rnuc_patch*1e-3)*1e3], [rnuc_scale_y, rnuc_scale_y], \"k-\", lw=0.75, marker=\"|\")\n",
    "\n",
    "# Plot cross-section line\n",
    "ax.plot(xlimit, [0, 0], \"k--\", lw=0.75, zorder=2)\n",
    "\n",
    "rnuc_patch_all\n",
    "\n",
    "# ax.axis(\"off\")\n",
    "#--------------------#\n",
    "#2. Plot cross-section\n",
    "#--------------------#\n",
    "\n",
    "# Plot cross-section\n",
    "for gougeevent_id in gougeevent_ids:\n",
    "    key_tr = f\"fb03-087__{gougeevent_id:04d}\"\n",
    "    lc = lc_dict[key_tr]\n",
    "    ax_crosssec.plot(crosssec_all[\"xvec\"]*1e3, crosssec_all[key_tr+\"_tau0\"]/1e6, c=lc, lw=1, zorder=3)\n",
    "    \n",
    "    # isolate the background peak friction as this is similar for all the case\n",
    "    patch_inds = np.abs(crosssec_all[\"xvec\"])<=a_margin\n",
    "    \n",
    "    if gougeevent_id==129:\n",
    "        # plot entire peak friction\n",
    "        ax_crosssec.plot(crosssec_all[\"xvec\"]*1e3, crosssec_all[key_tr+\"_taup\"]/1e6, ls=\"--\", c=lc, lw=1) # marker=\"+\",\n",
    "    else:\n",
    "        # plot only inside the patch and margin\n",
    "        ax_crosssec.plot(crosssec_all[\"xvec\"][patch_inds]*1e3, crosssec_all[key_tr+\"_taup\"][patch_inds]/1e6, ls=\"--\", c=lc, lw=1) # marker=\"+\",\n",
    "\n",
    "    # Annotate the event IDs\n",
    "    ax_crosssec.text(-7.2, np.max(crosssec_all[key_tr+\"_taup\"])/1e6, f\"M{gougeevent_id:02d}\", c=lc, va=\"center\")\n",
    "    \n",
    "# plot residual friction level: it is set the same for all the events\n",
    "key_tr = f\"fb03-087__{gougeevent_id_master:04d}\"\n",
    "ax_crosssec.plot(crosssec_all[\"xvec\"]*1e3, crosssec_all[key_tr+\"_taur\"]/1e6, c=\"darkblue\", ls=\"dashdot\", lw=1.2, zorder=5)\n",
    "\n",
    "# plot normal stress\n",
    "ax_crosssec.plot(crosssec_all[\"xvec\"]*1e3, -crosssec_all[key_tr+\"_sn\"]/1e6, c=\"k\", ls=\"-\", lw=1, zorder=3)\n",
    "\n",
    "# plot minimum shear stress to cause the spontaneous rupture\n",
    "# ax_crosssec.plot(np.array([-a_patch, a_patch])*1e3 + [-tauminmargin, tauminmargin], np.array([tau_min_nuc, tau_min_nuc])/1e6, c=\"b\", ls=\"-\", lw=1, zorder=1)\n",
    "# ax_crosssec.plot(-7.7 , tau_min_nuc/1e6, c=\"r\", marker=\"<\", zorder=1) # skip plot critical size\n",
    "\n",
    "# ax_crosssec.axhline(1.0, ls=\"--\", c='gray', lw=1)\n",
    "\n",
    "# annotate texts\n",
    "text_x = 4.0\n",
    "ax.text(-2.5, -6.4, r\"$2R_c$\")\n",
    "ax_crosssec.text(text_x, 5, r\"$\\tau_0$ $\\tau_{\\mathrm{peak}}$\")\n",
    "ax_crosssec.text(text_x, 4, r\"$\\sigma_n \\tau_{\\mathrm{residual}}$\")\n",
    "ax_crosssec.text(text_x, 3, r\"$\\Delta \\tau$\")\n",
    "ax_crosssec.text(-text_x, 0.2, r\"$\\Delta \\tau^{\\text{out}}$\")\n",
    "\n",
    "ax_crosssec.set_xlim([-8, 8])\n",
    "ax_crosssec.set_ylim([0., 6.8])\n",
    "\n",
    "ax_crosssec.set_xlabel(\"x [mm]\")\n",
    "# ax_crosssec.set_ylabel(\"$τ_{yx}^{0}/τ_{yx}^p$\")\n",
    "# ax_crosssec.set_ylabel(\"$τ_{0} / τ_p$\")\n",
    "ax_crosssec.set_ylabel(\"Stress [MPa]\")\n",
    "\n",
    "\n",
    "# axs[1, 1].axis(\"off\")\n",
    "\n",
    "# fig.align_ylabels(axs[:, -1])\n",
    "\n",
    "# ax.spines['top'].set_visible(False)\n",
    "# ax.spines['right'].set_visible(False)\n",
    "# fig.tight_layout() # this reset the figure margins\n",
    "\n",
    "plt.savefig(figdir + f\"/master_initialcondition_event{gougeevent_id_master:d}_crosssec_ele{nb_x_elements}_horizcb_in{filekey}.png\", dpi=300, bbox_inches=\"tight\")\n",
    "plt.savefig(figdir + f\"/master_initialcondition_event{gougeevent_id_master:d}_crosssec_ele{nb_x_elements}_horizcb_in{filekey}.eps\", bbox_inches=\"tight\")\n"
   ]
  },
  {
   "cell_type": "code",
   "execution_count": null,
   "metadata": {},
   "outputs": [],
   "source": []
  },
  {
   "cell_type": "markdown",
   "metadata": {},
   "source": [
    "# Compute the stats of the cross-section\n",
    "\n",
    "We compute the stats of cross-section for the discussion. We evaluate $\\tau_p - \\tau_r$. However, it should be noted that the final stress with the self-healing friction is different from these stats, which will be evaluated in the different notebook."
   ]
  },
  {
   "cell_type": "code",
   "execution_count": null,
   "metadata": {},
   "outputs": [],
   "source": []
  },
  {
   "cell_type": "code",
   "execution_count": 60,
   "metadata": {},
   "outputs": [
    {
     "name": "stdout",
     "output_type": "stream",
     "text": [
      "Process 24: fb03-087__0024_a=4.00_ruptype=pulse_pdcscaling=0.600_sn=6.0MPa_hatfr=0.3_bgbeta=0.35\n",
      "Process 50: fb03-087__0050_a=4.00_ruptype=pulse_pdcscaling=0.600_sn=6.0MPa_hatfr=0.3_bgbeta=0.35\n",
      "Process 52: fb03-087__0052_a=4.00_ruptype=pulse_pdcscaling=0.600_sn=6.0MPa_hatfr=0.3_bgbeta=0.35\n",
      "Process 72: fb03-087__0072_a=4.00_ruptype=pulse_pdcscaling=0.600_sn=6.0MPa_hatfr=0.3_bgbeta=0.35\n",
      "Process 129: fb03-087__0129_a=4.00_ruptype=pulse_pdcscaling=0.600_sn=6.0MPa_hatfr=0.3_bgbeta=0.35\n"
     ]
    }
   ],
   "source": [
    "patch_inds = np.where(np.abs(crosssec_all[\"xvec\"]) < a_patch)\n",
    "patch_inds\n",
    "deltau_patch_all = []\n",
    "for gougeevent_id in gougeevent_ids:\n",
    "    \n",
    "    df_modelparam_selected = df_modelparam[df_modelparam.index == gougeevent_id]\n",
    "    simulation_name = f\"fb03-{expr_id:03d}__{df_modelparam_selected.index[0]:04d}_{casestr}\"\n",
    "    print(f\"Process {gougeevent_id}: {simulation_name}\")\n",
    "\n",
    "    # key_tr = f\"{df_modelparam_selected.index[0]}\"\n",
    "    key_tr = f\"fb03-087__{df_modelparam_selected.index[0]:04d}\"\n",
    "\n",
    "    tau0_cross = crosssec_all[key_tr+\"_tau0\"]\n",
    "    taup_cross = crosssec_all[key_tr+\"_taup\"]\n",
    "    taur_cross = crosssec_all[key_tr+\"_taur\"]\n",
    "    tau0_cross_patch_mean = np.mean(tau0_cross[patch_inds])\n",
    "    taup_cross_patch_mean = np.mean(taup_cross[patch_inds])\n",
    "    taur_cross_patch_mean = np.mean(taur_cross[patch_inds])\n",
    "    deltau_patch_all.append(tau0_cross_patch_mean - taur_cross_patch_mean)"
   ]
  },
  {
   "cell_type": "code",
   "execution_count": 61,
   "metadata": {},
   "outputs": [
    {
     "name": "stdout",
     "output_type": "stream",
     "text": [
      "patch tau0-taur = [0.32929675 1.1719035  1.562244   2.410913   3.1903665 ] MPa\n"
     ]
    }
   ],
   "source": [
    "print(\"patch tau0-taur =\", np.array(deltau_patch_all)/1e6, \"MPa\")"
   ]
  },
  {
   "cell_type": "code",
   "execution_count": 62,
   "metadata": {},
   "outputs": [
    {
     "name": "stdout",
     "output_type": "stream",
     "text": [
      "0.52\n"
     ]
    },
    {
     "data": {
      "text/plain": [
       "array([1.57912278, 0.44372254, 0.33285453, 0.21568592, 0.16299068])"
      ]
     },
     "execution_count": 62,
     "metadata": {},
     "output_type": "execute_result"
    }
   ],
   "source": [
    "# Evaluate negative stress drop\n",
    "sn_background = 2e6\n",
    "fp_background = 0.4\n",
    "barrier_delsig = (sn_background * fp_background) * (1-bgbeta)\n",
    "print(barrier_delsig/1e6)\n",
    "barrier_delsig / np.array(deltau_patch_all)"
   ]
  },
  {
   "cell_type": "code",
   "execution_count": 63,
   "metadata": {},
   "outputs": [
    {
     "data": {
      "text/plain": [
       "3.144532"
      ]
     },
     "execution_count": 63,
     "metadata": {},
     "output_type": "execute_result"
    }
   ],
   "source": [
    "3.144532"
   ]
  },
  {
   "cell_type": "code",
   "execution_count": 64,
   "metadata": {},
   "outputs": [
    {
     "data": {
      "text/plain": [
       "0.004"
      ]
     },
     "execution_count": 64,
     "metadata": {},
     "output_type": "execute_result"
    }
   ],
   "source": [
    "a_patch"
   ]
  },
  {
   "cell_type": "code",
   "execution_count": 65,
   "metadata": {},
   "outputs": [
    {
     "data": {
      "text/plain": [
       "[<matplotlib.lines.Line2D at 0x12c3c5070>]"
      ]
     },
     "execution_count": 65,
     "metadata": {},
     "output_type": "execute_result"
    },
    {
     "data": {
      "image/png": "[encoded data removed]",
      "text/plain": [
       "<Figure size 640x480 with 1 Axes>"
      ]
     },
     "metadata": {},
     "output_type": "display_data"
    }
   ],
   "source": [
    "plt.plot(crosssec_all[key_tr+\"_tau0\"]/1e6)"
   ]
  },
  {
   "cell_type": "code",
   "execution_count": 66,
   "metadata": {},
   "outputs": [
    {
     "data": {
      "text/plain": [
       "array([0.28, 0.28, 0.28, ..., 0.28, 0.28, 0.28], dtype=float32)"
      ]
     },
     "execution_count": 66,
     "metadata": {},
     "output_type": "execute_result"
    }
   ],
   "source": [
    "crosssec_all[key_tr+\"_tau0\"]/1e6"
   ]
  },
  {
   "cell_type": "code",
   "execution_count": 67,
   "metadata": {},
   "outputs": [
    {
     "data": {
      "text/plain": [
       "1.1386926899999998"
      ]
     },
     "execution_count": 67,
     "metadata": {},
     "output_type": "execute_result"
    }
   ],
   "source": [
    "mean_rnuc_patch"
   ]
  },
  {
   "cell_type": "code",
   "execution_count": 68,
   "metadata": {},
   "outputs": [
    {
     "data": {
      "text/plain": [
       "-0.0015"
      ]
     },
     "execution_count": 68,
     "metadata": {},
     "output_type": "execute_result"
    }
   ],
   "source": [
    "nuc_x"
   ]
  },
  {
   "cell_type": "code",
   "execution_count": null,
   "metadata": {},
   "outputs": [],
   "source": []
  }
 ],
 "metadata": {
  "kernelspec": {
   "display_name": "Python 3 (ipykernel)",
   "language": "python",
   "name": "python3"
  },
  "language_info": {
   "codemirror_mode": {
    "name": "ipython",
    "version": 3
   },
   "file_extension": ".py",
   "mimetype": "text/x-python",
   "name": "python",
   "nbconvert_exporter": "python",
   "pygments_lexer": "ipython3",
   "version": "3.12.9"
  }
 },
 "nbformat": 4,
 "nbformat_minor": 4
}

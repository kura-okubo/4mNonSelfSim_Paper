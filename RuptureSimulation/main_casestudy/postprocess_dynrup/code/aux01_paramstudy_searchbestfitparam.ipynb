{
 "cells": [
  {
   "cell_type": "markdown",
   "metadata": {},
   "source": [
    "# Dynamic rupture modeling of gouge patch: search best fit parameter\n",
    "\n",
    "In this notebook, we compute the best-fit source parameter obtained in the `aux01_compute_M0andSTF_paramstudy.py`.\n",
    "\n",
    "2025.2.3 Kurama Okubo\n"
   ]
  },
  {
   "cell_type": "code",
   "execution_count": null,
   "metadata": {},
   "outputs": [],
   "source": [
    "import os\n",
    "import shutil\n",
    "import matplotlib.pyplot as plt\n",
    "import matplotlib as mpl\n",
    "from matplotlib.cm import ScalarMappable\n",
    "%matplotlib inline\n",
    "import numpy as np\n",
    "import pandas as pd\n",
    "from datetime import timedelta\n",
    "from tqdm import tqdm\n",
    "import warnings\n",
    "import time\n",
    "from datetime import datetime\n",
    "\n",
    "import pickle\n",
    "\n",
    "from scipy.optimize import minimize\n",
    "\n",
    "from scipy.signal import freqz\n",
    "from scipy import signal\n",
    "\n",
    "import h5py\n",
    "import seaborn as sns\n",
    "\n",
    "from post_dynrup_func import *\n",
    "\n",
    "%load_ext autoreload\n",
    "%autoreload 2\n",
    "\n",
    "plt.rcParams[\"font.family\"] = 'Arial'\n",
    "# plt.rcParams[\"font.sans-serif\"] = \"DejaVu Sans, Arial, Helvetica, Lucida Grande, Verdana, Geneva, Lucid, Avant Garde, sans-serif\"\n",
    "plt.rcParams[\"font.size\"] = 10\n",
    "plt.rcParams[\"xtick.direction\"] = \"in\"\n",
    "plt.rcParams[\"xtick.major.size\"] = 4.75\n",
    "plt.rcParams[\"xtick.major.width\"] = 0.75\n",
    "plt.rcParams[\"xtick.minor.size\"] = 3\n",
    "plt.rcParams[\"xtick.minor.width\"] = 0.4\n",
    "plt.rcParams[\"xtick.minor.visible\"] = True\n",
    "\n",
    "plt.rcParams[\"ytick.direction\"] = \"in\"\n",
    "plt.rcParams[\"ytick.major.size\"] = 4.75\n",
    "plt.rcParams[\"ytick.major.width\"] = 0.75\n",
    "plt.rcParams[\"ytick.minor.size\"] = 3\n",
    "plt.rcParams[\"ytick.minor.width\"] = 0.4\n",
    "plt.rcParams[\"ytick.minor.visible\"] = True\n",
    "\n",
    "plt.rcParams[\"savefig.transparent\"] = False\n",
    "\n",
    "plt.rcParams['axes.linewidth'] = 0.75"
   ]
  },
  {
   "cell_type": "code",
   "execution_count": null,
   "metadata": {},
   "outputs": [],
   "source": [
    "figdir = \"../figure/aux01_paramstudy\"\n",
    "if not os.path.exists(figdir):\n",
    "    os.makedirs(figdir)"
   ]
  },
  {
   "cell_type": "code",
   "execution_count": null,
   "metadata": {},
   "outputs": [],
   "source": [
    "datadir = \"../data/aux01_paramstudy\"\n",
    "if not os.path.exists(datadir):\n",
    "    os.makedirs(datadir)"
   ]
  },
  {
   "cell_type": "markdown",
   "metadata": {},
   "source": [
    "# Read the parameter datasheet"
   ]
  },
  {
   "cell_type": "code",
   "execution_count": null,
   "metadata": {},
   "outputs": [],
   "source": [
    "E = 96e9\n",
    "nu = 0.246 # metagabbro\n",
    "mu = E/(2*(1+nu))\n",
    "\n",
    "a_patch = 4.0e-3\n",
    "rupturetype = \"pulse\"\n",
    "pdcscaling= 0.6 #0.54 #0.475 #0.5 #0.55 # 0.65\n",
    "bgbeta= 0.35 #0.4 #0.3 #0.5\n",
    "# gammautry = 0.8\n",
    "\n",
    "nb_x_elements = 1024 #128\n",
    "nb_z_elements = 1024 #128\n",
    "\n",
    "sig_n = 6e6\n",
    "\n",
    "IfBinaryOutput = True\n",
    "\n",
    "read_dumpedpickle = False # false if you first run the notebook"
   ]
  },
  {
   "cell_type": "code",
   "execution_count": null,
   "metadata": {},
   "outputs": [],
   "source": [
    "# case study parameter casename\n",
    "casestr = f\"a={a_patch*1e3:.2f}_ruptype={rupturetype}_pdcscaling={pdcscaling:.3f}_sn={sig_n/1e6:.1f}MPa_hatfr=0.3_bgbeta={bgbeta:.2f}\"\n",
    "\n",
    "# finame=f\"../../preprocess_modelsetup/data/gouge_dynamicrupture_modelparam_{casestr}.csv\"\n",
    "\n",
    "# # Read model parameters\n",
    "# df_modelparam = pd.read_csv(finame, index_col=0)\n",
    "\n",
    "# # datadir_root = \"../../../uguca/build_v42_masterfitmodel/simulations_main_casestudy\"\n",
    "\n",
    "# # datadir_root = \"/Volumes/4mGouge_WorkHDD/RuptureSimulation/build_hpcv15_neweventset_dt1e-8/simulations_main_casestudy_hpc\"\n",
    "# datadir_root = \"/Volumes/4mGouge_WorkHDD/RuptureSimulation/build_hpcv44_paramstudy_v2/simulations_main_casestudy_hpc_dev\"\n",
    "\n",
    "# casestr"
   ]
  },
  {
   "cell_type": "code",
   "execution_count": null,
   "metadata": {},
   "outputs": [],
   "source": []
  },
  {
   "cell_type": "code",
   "execution_count": null,
   "metadata": {},
   "outputs": [],
   "source": [
    "df_paramstudy_all = pd.read_csv(f\"../data/aux01_dynrup_paramstudy_{casestr}.csv\")\n"
   ]
  },
  {
   "cell_type": "code",
   "execution_count": null,
   "metadata": {},
   "outputs": [],
   "source": [
    "df_paramstudy_all.head()"
   ]
  },
  {
   "cell_type": "markdown",
   "metadata": {},
   "source": [
    "# Compute residuals\n",
    "\n",
    "We compute the residuals associated with the source parameters as follows:\n",
    "<!-- $$ res = \\dfrac{(M_0^{obs} - M_0^{model})^2}{M_0^{obs~2}} +  \\dfrac{(T_w^{obs} - T_w^{model})^2}{T_w^{obs~2}} $$ -->\n",
    "$$ res = \\dfrac{(M_0^{obs} - M_0^{model})^2}{\\sigma_{M_0}^{model~2}} +  \\dfrac{(T_w^{obs} - T_w^{model})^2}{\\sigma_{T_w}^{model~2}} $$"
   ]
  },
  {
   "cell_type": "code",
   "execution_count": null,
   "metadata": {},
   "outputs": [],
   "source": [
    "# Read event catalog to get the std of observation"
   ]
  },
  {
   "cell_type": "code",
   "execution_count": null,
   "metadata": {},
   "outputs": [],
   "source": [
    "df_events = pd.read_csv(\"../../../../GougeEventCatalog/data/gougeeventcatalog__fb03-087__G3__Q50.csv\", index_col=0)\n",
    "df_events.head()"
   ]
  },
  {
   "cell_type": "code",
   "execution_count": null,
   "metadata": {},
   "outputs": [],
   "source": []
  },
  {
   "cell_type": "code",
   "execution_count": null,
   "metadata": {},
   "outputs": [],
   "source": [
    "selectids_list = [24, 50, 52, 72, 129]"
   ]
  },
  {
   "cell_type": "code",
   "execution_count": null,
   "metadata": {},
   "outputs": [],
   "source": [
    "def compute_res(M0_obs, Tw_obs, M0_model, Tw_model, sig_M0, sig_Tw):\n",
    "    print(f\"M0 term:{(M0_obs-M0_model)**2/sig_M0**2:.3e},  Tw term:{(Tw_obs-Tw_model)**2/sig_Tw**2:.4e}\")\n",
    "    print(f\"Tw debug:{ (Tw_obs-Tw_model)**2:.4e}, {sig_Tw**2 }\")\n",
    "    return (M0_obs-M0_model)**2/sig_M0**2 + (Tw_obs-Tw_model)**2/sig_Tw**2 "
   ]
  },
  {
   "cell_type": "code",
   "execution_count": null,
   "metadata": {},
   "outputs": [],
   "source": [
    "# compute the variance of model source parameters\n",
    "for model_id in selectids_list:\n",
    "    df_case = df_paramstudy_all[df_paramstudy_all[\"model_id\"] == model_id]\n",
    "    if len(df_case) == 1:\n",
    "        M0_model_var = 1e-3*df_case[\"M0_model\"] # dummy number\n",
    "        Tw_model_var = 1e-9*df_case[\"Tw_model\"] # dummy number\n",
    "    else:\n",
    "        M0_model_var = np.var(df_case[\"M0_model\"], ddof=1)\n",
    "        Tw_model_var = np.var(df_case[\"Tw_model\"], ddof=1)\n",
    "        \n",
    "    df_paramstudy_all.loc[df_paramstudy_all[\"model_id\"]==model_id, \"M0_std\"] = np.sqrt(M0_model_var)\n",
    "    df_paramstudy_all.loc[df_paramstudy_all[\"model_id\"]==model_id, \"Tw_std\"] = np.sqrt(Tw_model_var)\n",
    "\n",
    "    # df_paramstudy_all.loc[df_paramstudy_all[\"model_id\"]==model_id, \"M0_std\"] = df_events.loc[model_id, \"M0_std\"]\n",
    "    # df_paramstudy_all.loc[df_paramstudy_all[\"model_id\"]==model_id, \"Tw_std\"] = df_events.loc[model_id, \"Tw_std\"]\n",
    "    "
   ]
  },
  {
   "cell_type": "code",
   "execution_count": null,
   "metadata": {},
   "outputs": [],
   "source": []
  },
  {
   "cell_type": "code",
   "execution_count": null,
   "metadata": {},
   "outputs": [],
   "source": [
    "df_paramstudy_all[\"res\"] = df_paramstudy_all.apply(lambda x: compute_res(x[\"M0_obs\"], x[\"Tw_obs\"], x[\"M0_model\"], x[\"Tw_model\"], x[\"M0_std\"],  x[\"Tw_std\"]), axis=1)"
   ]
  },
  {
   "cell_type": "code",
   "execution_count": null,
   "metadata": {},
   "outputs": [],
   "source": [
    "df_paramstudy_all"
   ]
  },
  {
   "cell_type": "code",
   "execution_count": null,
   "metadata": {},
   "outputs": [],
   "source": []
  },
  {
   "cell_type": "code",
   "execution_count": null,
   "metadata": {},
   "outputs": [],
   "source": []
  },
  {
   "cell_type": "code",
   "execution_count": null,
   "metadata": {},
   "outputs": [],
   "source": [
    "selectids_list = [24, 50, 52, 72, 129]\n",
    "# selectids_list = [50] #72, 129]\n"
   ]
  },
  {
   "cell_type": "code",
   "execution_count": null,
   "metadata": {},
   "outputs": [],
   "source": []
  },
  {
   "cell_type": "code",
   "execution_count": null,
   "metadata": {},
   "outputs": [],
   "source": [
    "fo = open(datadir+f\"/paramsearch_minres_{casestr}.txt\", \"w\")\n",
    "\n",
    "for model_id in selectids_list:\n",
    "    df_case = df_paramstudy_all[df_paramstudy_all[\"model_id\"] == model_id]\n",
    "\n",
    "    # find the minimum residual case\n",
    "    df_min = df_case.sort_values(by=\"res\").iloc[0]\n",
    "    minvalue = f\"{model_id}, {df_min['delsigma_factor']:.04f}, {df_min['res']:.3g}\"\n",
    "    print(minvalue)\n",
    "    fo.write(minvalue+\"\\n\")\n",
    "\n",
    "fo.close()"
   ]
  },
  {
   "cell_type": "code",
   "execution_count": null,
   "metadata": {},
   "outputs": [],
   "source": []
  },
  {
   "cell_type": "markdown",
   "metadata": {},
   "source": [
    "# Plot result"
   ]
  },
  {
   "cell_type": "code",
   "execution_count": null,
   "metadata": {},
   "outputs": [],
   "source": [
    "# load color dictionary consistent to the plot of the repeated waveforms\n",
    "repeated_sensor_lcdict = \"OL08\" # the color dict is same for all the sensor although separately saved.\n",
    "gougepatch_id = \"G3\"\n",
    "with open(f'../../../../ComputeScaling/data/01_plot_gougeevents/lc_dict_{gougepatch_id}_{repeated_sensor_lcdict}.pkl', 'rb') as fi:\n",
    "    lc_dict = pickle.load(fi)"
   ]
  },
  {
   "cell_type": "code",
   "execution_count": null,
   "metadata": {},
   "outputs": [],
   "source": [
    "# lc_dict"
   ]
  },
  {
   "cell_type": "code",
   "execution_count": null,
   "metadata": {},
   "outputs": [],
   "source": [
    "# selectids_list=[24]"
   ]
  },
  {
   "cell_type": "code",
   "execution_count": null,
   "metadata": {},
   "outputs": [],
   "source": [
    "fig, ax = plt.subplots(1, 1, figsize=(4.2, 3.5))\n",
    "\n",
    "markers=[\"o\", \"s\", \"v\", \"^\", \"d\"]\n",
    "for ii, model_id in enumerate(selectids_list):\n",
    "    df_case = df_paramstudy_all[df_paramstudy_all[\"model_id\"] == model_id]\n",
    "\n",
    "    ax.plot(df_case[\"delsigma_factor\"], df_case[\"res\"], marker=markers[ii], c=lc_dict[f\"fb03-087__{model_id:04d}\"],\n",
    "            label=f\"M{model_id}\", lw=1, ms=5)\n",
    "\n",
    "    df_min = df_case.sort_values(by=\"res\").iloc[0]\n",
    "    ax.plot(df_min[\"delsigma_factor\"], df_min[\"res\"], marker=\"o\", c=\"r\", mfc=\"None\", label=\"\")\n",
    "\n",
    "\n",
    "ax.set_xlabel(r\"$\\Delta \\sigma$ factor, $s$\")\n",
    "ax.set_ylabel(\"Residual\")\n",
    "# ax.set_xlim([0.35, 0.55])\n",
    "ax.set_ylim([-1, 15])\n",
    "ax.legend(loc=1)\n",
    "\n",
    "plt.tight_layout()\n",
    "\n",
    "plt.savefig(figdir+f\"/paramsearch_{casestr}.png\",  dpi=100)\n",
    "plt.savefig(figdir+f\"/paramsearch_{casestr}.eps\")\n"
   ]
  },
  {
   "cell_type": "code",
   "execution_count": null,
   "metadata": {},
   "outputs": [],
   "source": [
    "df_case"
   ]
  },
  {
   "cell_type": "code",
   "execution_count": null,
   "metadata": {},
   "outputs": [],
   "source": [
    "df_paramstudy_all"
   ]
  },
  {
   "cell_type": "code",
   "execution_count": null,
   "metadata": {},
   "outputs": [],
   "source": []
  },
  {
   "cell_type": "code",
   "execution_count": null,
   "metadata": {},
   "outputs": [],
   "source": []
  }
 ],
 "metadata": {
  "kernelspec": {
   "display_name": "Python 3 (ipykernel)",
   "language": "python",
   "name": "python3"
  },
  "language_info": {
   "codemirror_mode": {
    "name": "ipython",
    "version": 3
   },
   "file_extension": ".py",
   "mimetype": "text/x-python",
   "name": "python",
   "nbconvert_exporter": "python",
   "pygments_lexer": "ipython3",
   "version": "3.12.9"
  }
 },
 "nbformat": 4,
 "nbformat_minor": 4
}

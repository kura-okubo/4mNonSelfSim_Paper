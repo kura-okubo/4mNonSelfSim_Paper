{
 "cells": [
  {
   "cell_type": "markdown",
   "metadata": {},
   "source": [
    "# LaTeX table of dynamic rupture model result\n",
    "\n",
    "Generate the table of dynamic rupture model results.\n",
    "\n",
    "2025.4.1 Kurama Okubo\n"
   ]
  },
  {
   "cell_type": "code",
   "execution_count": 15,
   "metadata": {},
   "outputs": [
    {
     "name": "stdout",
     "output_type": "stream",
     "text": [
      "The autoreload extension is already loaded. To reload it, use:\n",
      "  %reload_ext autoreload\n"
     ]
    }
   ],
   "source": [
    "import os\n",
    "import matplotlib.pyplot as plt\n",
    "from matplotlib.cm import ScalarMappable\n",
    "%matplotlib inline\n",
    "import numpy as np\n",
    "import pandas as pd\n",
    "from datetime import timedelta\n",
    "from tqdm import tqdm\n",
    "import warnings\n",
    "import time\n",
    "\n",
    "import scipy.integrate as integrate\n",
    "import seaborn as sns \n",
    "\n",
    "%load_ext autoreload\n",
    "%autoreload 2\n",
    "\n",
    "plt.rcParams[\"font.family\"] = 'Arial'\n",
    "# plt.rcParams[\"font.sans-serif\"] = \"DejaVu Sans, Arial, Helvetica, Lucida Grande, Verdana, Geneva, Lucid, Avant Garde, sans-serif\"\n",
    "plt.rcParams[\"font.size\"] = 11\n",
    "plt.rcParams[\"xtick.direction\"] = \"in\"\n",
    "plt.rcParams[\"xtick.major.size\"] = 4.75\n",
    "plt.rcParams[\"xtick.major.width\"] = 0.75\n",
    "plt.rcParams[\"xtick.minor.size\"] = 3\n",
    "plt.rcParams[\"xtick.minor.width\"] = 0.4\n",
    "plt.rcParams[\"xtick.minor.visible\"] = True\n",
    "\n",
    "plt.rcParams[\"ytick.direction\"] = \"in\"\n",
    "plt.rcParams[\"ytick.major.size\"] = 4.75\n",
    "plt.rcParams[\"ytick.major.width\"] = 0.75\n",
    "plt.rcParams[\"ytick.minor.size\"] = 3\n",
    "plt.rcParams[\"ytick.minor.width\"] = 0.4\n",
    "plt.rcParams[\"ytick.minor.visible\"] = True\n",
    "\n",
    "plt.rcParams[\"savefig.transparent\"] = True\n",
    "\n",
    "plt.rcParams['axes.linewidth'] = 0.75"
   ]
  },
  {
   "cell_type": "code",
   "execution_count": null,
   "metadata": {},
   "outputs": [],
   "source": []
  },
  {
   "cell_type": "code",
   "execution_count": null,
   "metadata": {},
   "outputs": [],
   "source": []
  },
  {
   "cell_type": "markdown",
   "metadata": {},
   "source": [
    "# Result of dynamic rupture simulation"
   ]
  },
  {
   "cell_type": "code",
   "execution_count": 16,
   "metadata": {},
   "outputs": [
    {
     "name": "stdout",
     "output_type": "stream",
     "text": [
      "read dynamic rupture result:a=4.00_ruptype=pulse_pdcscaling=0.600_sn=6.0MPa_hatfr=0.3_bgbeta=0.35\n"
     ]
    }
   ],
   "source": [
    "# dynamic rupture parameters\n",
    "a_patch = 4.0e-3 # patch radius without margine\n",
    "rupturetype = \"pulse\" # \"crack\": without self-healing or \"pulse\": with self-healing\n",
    "p_dcscaleexp = 0.6 #0.55 #0.54 #0.56 #0.555  # #0.475 #0.55 #0.575 #0.65 #0.8 #0.65 #0.7\n",
    "bgbeta= 0.35 #0.4\n",
    "sig_n = 6e6\n",
    "    \n",
    "casestr = f\"a={a_patch*1e3:.2f}_ruptype={rupturetype}_pdcscaling={p_dcscaleexp:.3f}_sn={sig_n/1e6:.1f}MPa_hatfr=0.3_bgbeta={bgbeta:.2f}\"\n",
    "print(\"read dynamic rupture result:\"+casestr)\n",
    "# read STF best-fit associated with the dynamic rupture model\n",
    "df_dynrup_sourceparam = pd.read_csv(f\"../data/dynrup_bestfit_sourceparam_{casestr}_master.csv\", index_col=None)\n",
    "df_dynrup_sourceparam = df_dynrup_sourceparam.set_index(\"event_id\")\n",
    "df_dynrup_sourceparam.index = [f\"M{x}\" for x in df_dynrup_sourceparam.index]"
   ]
  },
  {
   "cell_type": "code",
   "execution_count": null,
   "metadata": {},
   "outputs": [],
   "source": []
  },
  {
   "cell_type": "code",
   "execution_count": null,
   "metadata": {},
   "outputs": [],
   "source": []
  },
  {
   "cell_type": "code",
   "execution_count": 17,
   "metadata": {},
   "outputs": [
    {
     "data": {
      "text/html": [
       "<div>\n",
       "<style scoped>\n",
       "    .dataframe tbody tr th:only-of-type {\n",
       "        vertical-align: middle;\n",
       "    }\n",
       "\n",
       "    .dataframe tbody tr th {\n",
       "        vertical-align: top;\n",
       "    }\n",
       "\n",
       "    .dataframe thead th {\n",
       "        text-align: right;\n",
       "    }\n",
       "</style>\n",
       "<table border=\"1\" class=\"dataframe\">\n",
       "  <thead>\n",
       "    <tr style=\"text-align: right;\">\n",
       "      <th></th>\n",
       "      <th>M0_rec</th>\n",
       "      <th>M0_bestfit</th>\n",
       "      <th>Tw_bestfit</th>\n",
       "      <th>Tshift_bestfit</th>\n",
       "    </tr>\n",
       "  </thead>\n",
       "  <tbody>\n",
       "    <tr>\n",
       "      <th>M24</th>\n",
       "      <td>0.064238</td>\n",
       "      <td>0.066640</td>\n",
       "      <td>0.000002</td>\n",
       "      <td>1.422658e-07</td>\n",
       "    </tr>\n",
       "    <tr>\n",
       "      <th>M50</th>\n",
       "      <td>0.300888</td>\n",
       "      <td>0.309173</td>\n",
       "      <td>0.000003</td>\n",
       "      <td>3.634125e-07</td>\n",
       "    </tr>\n",
       "    <tr>\n",
       "      <th>M52</th>\n",
       "      <td>0.454187</td>\n",
       "      <td>0.465928</td>\n",
       "      <td>0.000003</td>\n",
       "      <td>3.405351e-07</td>\n",
       "    </tr>\n",
       "    <tr>\n",
       "      <th>M72</th>\n",
       "      <td>0.806391</td>\n",
       "      <td>0.821574</td>\n",
       "      <td>0.000003</td>\n",
       "      <td>2.727666e-07</td>\n",
       "    </tr>\n",
       "    <tr>\n",
       "      <th>M129</th>\n",
       "      <td>1.146419</td>\n",
       "      <td>1.149405</td>\n",
       "      <td>0.000003</td>\n",
       "      <td>2.176500e-07</td>\n",
       "    </tr>\n",
       "  </tbody>\n",
       "</table>\n",
       "</div>"
      ],
      "text/plain": [
       "        M0_rec  M0_bestfit  Tw_bestfit  Tshift_bestfit\n",
       "M24   0.064238    0.066640    0.000002    1.422658e-07\n",
       "M50   0.300888    0.309173    0.000003    3.634125e-07\n",
       "M52   0.454187    0.465928    0.000003    3.405351e-07\n",
       "M72   0.806391    0.821574    0.000003    2.727666e-07\n",
       "M129  1.146419    1.149405    0.000003    2.176500e-07"
      ]
     },
     "execution_count": 17,
     "metadata": {},
     "output_type": "execute_result"
    }
   ],
   "source": [
    "df_dynrup_sourceparam"
   ]
  },
  {
   "cell_type": "code",
   "execution_count": 18,
   "metadata": {},
   "outputs": [],
   "source": [
    "# Extract M0 and Tw estimated by fitting cosine STF\n",
    "df_dynrup_sourceparam_selected = df_dynrup_sourceparam[[\"M0_bestfit\", \"Tw_bestfit\",]].copy()"
   ]
  },
  {
   "cell_type": "code",
   "execution_count": null,
   "metadata": {},
   "outputs": [],
   "source": []
  },
  {
   "cell_type": "code",
   "execution_count": 19,
   "metadata": {},
   "outputs": [],
   "source": [
    "df_dynrup_sourceparam_selected.rename(\n",
    "    columns={\"M0_bestfit\":\"$M_0^{\\\\text{model}}$\", \n",
    "             \"Tw_bestfit\":\"$T_w^{\\\\text{model}}$\",\n",
    "            },\n",
    "    inplace=True)"
   ]
  },
  {
   "cell_type": "code",
   "execution_count": 20,
   "metadata": {},
   "outputs": [
    {
     "data": {
      "text/html": [
       "<div>\n",
       "<style scoped>\n",
       "    .dataframe tbody tr th:only-of-type {\n",
       "        vertical-align: middle;\n",
       "    }\n",
       "\n",
       "    .dataframe tbody tr th {\n",
       "        vertical-align: top;\n",
       "    }\n",
       "\n",
       "    .dataframe thead th {\n",
       "        text-align: right;\n",
       "    }\n",
       "</style>\n",
       "<table border=\"1\" class=\"dataframe\">\n",
       "  <thead>\n",
       "    <tr style=\"text-align: right;\">\n",
       "      <th></th>\n",
       "      <th>$M_0^{\\text{model}}$</th>\n",
       "      <th>$T_w^{\\text{model}}$</th>\n",
       "    </tr>\n",
       "  </thead>\n",
       "  <tbody>\n",
       "    <tr>\n",
       "      <th>M24</th>\n",
       "      <td>0.066640</td>\n",
       "      <td>0.000002</td>\n",
       "    </tr>\n",
       "    <tr>\n",
       "      <th>M50</th>\n",
       "      <td>0.309173</td>\n",
       "      <td>0.000003</td>\n",
       "    </tr>\n",
       "    <tr>\n",
       "      <th>M52</th>\n",
       "      <td>0.465928</td>\n",
       "      <td>0.000003</td>\n",
       "    </tr>\n",
       "    <tr>\n",
       "      <th>M72</th>\n",
       "      <td>0.821574</td>\n",
       "      <td>0.000003</td>\n",
       "    </tr>\n",
       "    <tr>\n",
       "      <th>M129</th>\n",
       "      <td>1.149405</td>\n",
       "      <td>0.000003</td>\n",
       "    </tr>\n",
       "  </tbody>\n",
       "</table>\n",
       "</div>"
      ],
      "text/plain": [
       "      $M_0^{\\text{model}}$  $T_w^{\\text{model}}$\n",
       "M24               0.066640              0.000002\n",
       "M50               0.309173              0.000003\n",
       "M52               0.465928              0.000003\n",
       "M72               0.821574              0.000003\n",
       "M129              1.149405              0.000003"
      ]
     },
     "execution_count": 20,
     "metadata": {},
     "output_type": "execute_result"
    }
   ],
   "source": [
    "df_dynrup_sourceparam_selected"
   ]
  },
  {
   "cell_type": "markdown",
   "metadata": {},
   "source": [
    "## unit Convert "
   ]
  },
  {
   "cell_type": "code",
   "execution_count": 21,
   "metadata": {},
   "outputs": [],
   "source": [
    "s2mus = lambda x: x*1e6"
   ]
  },
  {
   "cell_type": "code",
   "execution_count": 22,
   "metadata": {},
   "outputs": [],
   "source": [
    "# Unit conversion\n",
    "formatters_targets = {\"$M_0^{\\\\text{model}}$\": lambda x: '%.2f' % x,\n",
    "                      \"$T_w^{\\\\text{model}}$\": lambda x: '%.2f' % s2mus(x),\n",
    "                     }"
   ]
  },
  {
   "cell_type": "code",
   "execution_count": 23,
   "metadata": {},
   "outputs": [],
   "source": [
    "latextable_sourceparam = df_dynrup_sourceparam_selected.to_latex(header=True, column_format=f\"l\"+\"c\"*(len(df_dynrup_sourceparam_selected.columns)), formatters= formatters_targets)\n"
   ]
  },
  {
   "cell_type": "code",
   "execution_count": 24,
   "metadata": {},
   "outputs": [
    {
     "name": "stdout",
     "output_type": "stream",
     "text": [
      "\\begin{tabular}{lcc}\n",
      "\\toprule\n",
      " & $M_0^{\\text{model}}$ & $T_w^{\\text{model}}$ \\\\\n",
      "\\midrule\n",
      "M24 & 0.07 & 2.47 \\\\\n",
      "M50 & 0.31 & 2.57 \\\\\n",
      "M52 & 0.47 & 2.59 \\\\\n",
      "M72 & 0.82 & 2.61 \\\\\n",
      "M129 & 1.15 & 2.63 \\\\\n",
      "\\bottomrule\n",
      "\\end{tabular}\n",
      "\n"
     ]
    }
   ],
   "source": [
    "print(latextable_sourceparam)"
   ]
  },
  {
   "cell_type": "code",
   "execution_count": null,
   "metadata": {},
   "outputs": [],
   "source": []
  },
  {
   "cell_type": "markdown",
   "metadata": {},
   "source": [
    "# Evaluate the difference between $M_0^{rec}$ and $M_0^{model}$\n",
    "\n",
    "We check if the $M_0$ obtained by the numerical integration of $\\dot{M}_0^{rec}$ is close to the cosine fit STF, $M_0^{model}$."
   ]
  },
  {
   "cell_type": "code",
   "execution_count": 25,
   "metadata": {},
   "outputs": [],
   "source": [
    "df_dynrup_sourceparam.loc[:, \"M0compare\",] = df_dynrup_sourceparam.apply(lambda x: x.M0_rec/x.M0_bestfit, axis=1 )"
   ]
  },
  {
   "cell_type": "code",
   "execution_count": 26,
   "metadata": {},
   "outputs": [
    {
     "data": {
      "text/html": [
       "<div>\n",
       "<style scoped>\n",
       "    .dataframe tbody tr th:only-of-type {\n",
       "        vertical-align: middle;\n",
       "    }\n",
       "\n",
       "    .dataframe tbody tr th {\n",
       "        vertical-align: top;\n",
       "    }\n",
       "\n",
       "    .dataframe thead th {\n",
       "        text-align: right;\n",
       "    }\n",
       "</style>\n",
       "<table border=\"1\" class=\"dataframe\">\n",
       "  <thead>\n",
       "    <tr style=\"text-align: right;\">\n",
       "      <th></th>\n",
       "      <th>M0_rec</th>\n",
       "      <th>M0_bestfit</th>\n",
       "      <th>Tw_bestfit</th>\n",
       "      <th>Tshift_bestfit</th>\n",
       "      <th>M0compare</th>\n",
       "    </tr>\n",
       "  </thead>\n",
       "  <tbody>\n",
       "    <tr>\n",
       "      <th>M24</th>\n",
       "      <td>0.064238</td>\n",
       "      <td>0.066640</td>\n",
       "      <td>0.000002</td>\n",
       "      <td>1.422658e-07</td>\n",
       "      <td>0.963962</td>\n",
       "    </tr>\n",
       "    <tr>\n",
       "      <th>M50</th>\n",
       "      <td>0.300888</td>\n",
       "      <td>0.309173</td>\n",
       "      <td>0.000003</td>\n",
       "      <td>3.634125e-07</td>\n",
       "      <td>0.973204</td>\n",
       "    </tr>\n",
       "    <tr>\n",
       "      <th>M52</th>\n",
       "      <td>0.454187</td>\n",
       "      <td>0.465928</td>\n",
       "      <td>0.000003</td>\n",
       "      <td>3.405351e-07</td>\n",
       "      <td>0.974800</td>\n",
       "    </tr>\n",
       "    <tr>\n",
       "      <th>M72</th>\n",
       "      <td>0.806391</td>\n",
       "      <td>0.821574</td>\n",
       "      <td>0.000003</td>\n",
       "      <td>2.727666e-07</td>\n",
       "      <td>0.981520</td>\n",
       "    </tr>\n",
       "    <tr>\n",
       "      <th>M129</th>\n",
       "      <td>1.146419</td>\n",
       "      <td>1.149405</td>\n",
       "      <td>0.000003</td>\n",
       "      <td>2.176500e-07</td>\n",
       "      <td>0.997402</td>\n",
       "    </tr>\n",
       "  </tbody>\n",
       "</table>\n",
       "</div>"
      ],
      "text/plain": [
       "        M0_rec  M0_bestfit  Tw_bestfit  Tshift_bestfit  M0compare\n",
       "M24   0.064238    0.066640    0.000002    1.422658e-07   0.963962\n",
       "M50   0.300888    0.309173    0.000003    3.634125e-07   0.973204\n",
       "M52   0.454187    0.465928    0.000003    3.405351e-07   0.974800\n",
       "M72   0.806391    0.821574    0.000003    2.727666e-07   0.981520\n",
       "M129  1.146419    1.149405    0.000003    2.176500e-07   0.997402"
      ]
     },
     "execution_count": 26,
     "metadata": {},
     "output_type": "execute_result"
    }
   ],
   "source": [
    "df_dynrup_sourceparam"
   ]
  },
  {
   "cell_type": "code",
   "execution_count": 27,
   "metadata": {},
   "outputs": [
    {
     "data": {
      "text/plain": [
       "M24     96.396214\n",
       "M50     97.320409\n",
       "M52     97.479954\n",
       "M72     98.152041\n",
       "M129    99.740161\n",
       "Name: M0compare, dtype: float64"
      ]
     },
     "execution_count": 27,
     "metadata": {},
     "output_type": "execute_result"
    }
   ],
   "source": [
    "df_dynrup_sourceparam.M0compare * 1e2"
   ]
  },
  {
   "cell_type": "markdown",
   "metadata": {},
   "source": [
    "The comparison indicates that the difference does not exceed 4%. Thus, the cosine fitting estimates are similar to the numerical integration of $\\dot{M}_0^{rec}$."
   ]
  }
 ],
 "metadata": {
  "kernelspec": {
   "display_name": "Python 3 (ipykernel)",
   "language": "python",
   "name": "python3"
  },
  "language_info": {
   "codemirror_mode": {
    "name": "ipython",
    "version": 3
   },
   "file_extension": ".py",
   "mimetype": "text/x-python",
   "name": "python",
   "nbconvert_exporter": "python",
   "pygments_lexer": "ipython3",
   "version": "3.12.10"
  }
 },
 "nbformat": 4,
 "nbformat_minor": 4
}

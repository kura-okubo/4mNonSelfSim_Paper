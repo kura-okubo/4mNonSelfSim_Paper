{
 "cells": [
  {
   "cell_type": "markdown",
   "metadata": {},
   "source": [
    "# Plot shear traction history\n",
    "\n",
    "2024.9.11 Kurama Okubo\n",
    "\n",
    "We computed the shear traction history in `03_plot_snapshots_mastercase.ipynb` to show the friction self-healing. In this notebook, we compare the traction obtained by the dynamic ruptur modeling with and without self-healing.\n",
    "\n",
    "- 2025.1.30 Clean up the notebook for the master plot."
   ]
  },
  {
   "cell_type": "code",
   "execution_count": null,
   "metadata": {},
   "outputs": [],
   "source": [
    "import os\n",
    "import matplotlib.pyplot as plt\n",
    "from matplotlib.cm import ScalarMappable\n",
    "import matplotlib.colors as colors\n",
    "import matplotlib as mpl\n",
    "\n",
    "%matplotlib inline\n",
    "import numpy as np\n",
    "import pandas as pd\n",
    "import datetime\n",
    "from datetime import timedelta\n",
    "from tqdm import tqdm\n",
    "import warnings\n",
    "import time\n",
    "\n",
    "from importParaviewColormap import importParaviewColormap\n",
    "import seaborn as sns\n",
    "from matplotlib.collections import LineCollection\n",
    "\n",
    "%load_ext autoreload\n",
    "%autoreload 2\n",
    "\n",
    "\n",
    "plt.rcParams[\"font.family\"] = 'Arial'\n",
    "# plt.rcParams[\"font.sans-serif\"] = \"DejaVu Sans, Arial, Helvetica, Lucida Grande, Verdana, Geneva, Lucid, Avant Garde, sans-serif\"\n",
    "plt.rcParams[\"font.size\"] = 10\n",
    "plt.rcParams[\"xtick.direction\"] = \"in\"\n",
    "plt.rcParams[\"xtick.major.size\"] = 4.75\n",
    "plt.rcParams[\"xtick.major.width\"] = 0.75\n",
    "plt.rcParams[\"xtick.minor.size\"] = 3\n",
    "plt.rcParams[\"xtick.minor.width\"] = 0.4\n",
    "plt.rcParams[\"xtick.minor.visible\"] = True\n",
    "\n",
    "plt.rcParams[\"ytick.direction\"] = \"in\"\n",
    "plt.rcParams[\"ytick.major.size\"] = 4.75\n",
    "plt.rcParams[\"ytick.major.width\"] = 0.75\n",
    "plt.rcParams[\"ytick.minor.size\"] = 3\n",
    "plt.rcParams[\"ytick.minor.width\"] = 0.4\n",
    "plt.rcParams[\"ytick.minor.visible\"] = True\n",
    "\n",
    "plt.rcParams[\"savefig.transparent\"] = True\n",
    "\n",
    "plt.rcParams['axes.linewidth'] = 0.75"
   ]
  },
  {
   "cell_type": "code",
   "execution_count": null,
   "metadata": {},
   "outputs": [],
   "source": [
    "figdir = \"../figure/04_tractionhistory\"\n",
    "if not os.path.exists(figdir):\n",
    "    os.makedirs(figdir)"
   ]
  },
  {
   "cell_type": "code",
   "execution_count": null,
   "metadata": {},
   "outputs": [],
   "source": []
  },
  {
   "cell_type": "code",
   "execution_count": null,
   "metadata": {},
   "outputs": [],
   "source": [
    "# case study parameter casename\n",
    "\n",
    "a_patch = 4.0e-3\n",
    "a_nuc = 2.5e-3\n",
    "a_margin = 4.08e-3\n",
    "\n",
    "# rupturetype = \"crack\"\n",
    "pdcscaling = 0.6 #0.65\n",
    "bgbeta=0.35\n",
    "\n",
    "nb_x_elements = 128 #1024\n",
    "nb_z_elements = 128 #1024\n",
    "\n",
    "IfBinaryOutput = True\n",
    "\n",
    "sig_n = 6e6\n",
    "\n",
    "casestr_pulse = f\"a={a_patch*1e3:.2f}_ruptype={'pulse'}_pdcscaling={pdcscaling:.3f}_sn={sig_n/1e6:.1f}MPa_hatfr=0.3_bgbeta={bgbeta:.2f}\"\n",
    "casestr_crack = f\"a={a_patch*1e3:.2f}_ruptype={'crack'}_pdcscaling={pdcscaling:.3f}_sn={sig_n/1e6:.1f}MPa_hatfr=0.3_bgbeta={bgbeta:.2f}\"\n",
    "\n",
    "Ifmasteroutput=True # add file key to the master output\n",
    "if Ifmasteroutput:\n",
    "    filekey = \"_master\"\n",
    "else:\n",
    "    filekey = \"\"\n",
    "    \n",
    "# Read model parameters\n",
    "df_modelparam = pd.read_csv(f\"../../preprocess_modelsetup/data/gouge_dynamicrupture_modelparam_{casestr_pulse}{filekey}.csv\", index_col=0)\n"
   ]
  },
  {
   "cell_type": "markdown",
   "metadata": {},
   "source": [
    "# Read data"
   ]
  },
  {
   "cell_type": "code",
   "execution_count": null,
   "metadata": {},
   "outputs": [],
   "source": [
    "gougeevent_id = 129\n",
    "traction_loc = [1.5e-3, 0.0e-3] # should be used as same location of 03_plot_snapshots_mastercase.ipynb"
   ]
  },
  {
   "cell_type": "code",
   "execution_count": null,
   "metadata": {},
   "outputs": [],
   "source": [
    "df_tractionhistory_pulse = pd.read_csv(f\"../data/tractionhistory_{gougeevent_id}_{casestr_pulse}_x{traction_loc[0]*1e3:.2f}mm_z{traction_loc[1]*1e3:.2f}mm{filekey}.csv\", index_col=0)\n",
    "df_tractionhistory_crack = pd.read_csv(f\"../data/tractionhistory_{gougeevent_id}_{casestr_crack}_x{traction_loc[0]*1e3:.2f}mm_z{traction_loc[1]*1e3:.2f}mm{filekey}.csv\", index_col=0)"
   ]
  },
  {
   "cell_type": "code",
   "execution_count": null,
   "metadata": {},
   "outputs": [],
   "source": []
  },
  {
   "cell_type": "markdown",
   "metadata": {},
   "source": [
    "# Plot comparison"
   ]
  },
  {
   "cell_type": "code",
   "execution_count": null,
   "metadata": {},
   "outputs": [],
   "source": [
    "df_tractionhistory_pulse"
   ]
  },
  {
   "cell_type": "code",
   "execution_count": null,
   "metadata": {},
   "outputs": [],
   "source": [
    "# lc = sns.color_palette(\"colorblind\", as_cmap=False)\n",
    "# lc"
   ]
  },
  {
   "cell_type": "code",
   "execution_count": null,
   "metadata": {},
   "outputs": [],
   "source": []
  },
  {
   "cell_type": "code",
   "execution_count": null,
   "metadata": {},
   "outputs": [],
   "source": [
    "df_modelparam.columns"
   ]
  },
  {
   "cell_type": "code",
   "execution_count": null,
   "metadata": {},
   "outputs": [],
   "source": [
    "df_event = df_modelparam.loc[gougeevent_id, :]"
   ]
  },
  {
   "cell_type": "code",
   "execution_count": null,
   "metadata": {},
   "outputs": [],
   "source": [
    "dc = df_event[\"dc_try\"]\n",
    "ds = df_event[\"hat_ds_factor_rapidnuc_patch\"]*dc\n",
    "print(dc*1e6, ds*1e6)"
   ]
  },
  {
   "cell_type": "code",
   "execution_count": null,
   "metadata": {},
   "outputs": [],
   "source": [
    "fig, ax = plt.subplots(1, 1, figsize=(2.7, 2.495))\n",
    "\n",
    "ax.plot(df_tractionhistory_crack[\"loc_slip\"]*1e6, df_tractionhistory_crack[\"loc_traction\"]/1e6, \"--\", c=\"k\", lw=1.0)\n",
    "ax.plot(df_tractionhistory_pulse[\"loc_slip\"]*1e6, df_tractionhistory_pulse[\"loc_traction\"]/1e6, \"-\", c=\"k\", zorder=2, lw=1.5)\n",
    "\n",
    "# add markers at the beginning and end of the time history\n",
    "slip_init = df_tractionhistory_pulse[\"loc_slip\"].iloc[0]\n",
    "slip_end = df_tractionhistory_pulse[\"loc_slip\"].iloc[-1]\n",
    "traction_init =  df_tractionhistory_pulse[\"loc_traction\"].iloc[0]\n",
    "traction_end =  df_tractionhistory_pulse[\"loc_traction\"].iloc[-1]\n",
    "\n",
    "ax.plot(np.array([slip_init, slip_end])*1e6, np.array([traction_init, traction_end])/1e6, \"o\", mfc=\"w\", mec=\"k\", zorder=3, markersize=4)\n",
    "\n",
    "ax.set_xlim([-0.02, 0.52])\n",
    "ax.set_ylim([0, 6.8]) # synchronize with the initial stress condition plot\n",
    "ax.set_xlabel(\"Slip [μm]\")\n",
    "ax.set_ylabel(\"Shear stress [MPa]\")\n",
    "\n",
    "# annotation\n",
    "dc_y = 1.5 \n",
    "ds_y = 1\n",
    "ax.plot([0, dc*1e6], [dc_y, dc_y], \"-\", marker=\"|\", c=\"k\" )\n",
    "ax.plot([0, ds*1e6], [ds_y, ds_y], \"-\", marker=\"|\", c=\"k\" )\n",
    "ax.text(0.18, ds_y-0.55, f\"{df_event['hat_ds_factor_rapidnuc_patch']} x $D_c$\", ha=\"center\")\n",
    "ax.text(0.03, dc_y+0.25, f\"$D_c$\", ha=\"center\")\n",
    "\n",
    "# annotate the location info\n",
    "loc_info_txt = '\\n'.join((f\"GP event ID: M{gougeevent_id}\",\n",
    "                          f\"(x, z) = ({traction_loc[0]*1e3:.1f}, {traction_loc[1]*1e3:.1g}) mm\"))\n",
    "ax.text(0.33, 0.95, loc_info_txt, transform=ax.transAxes, #fontsize=10,\n",
    "        verticalalignment='top', bbox=None)\n",
    "\n",
    "\n",
    "plt.tight_layout()\n",
    "plt.savefig(figdir + f\"/master_traction_history_comparison_{gougeevent_id}_x{traction_loc[0]*1e3:.2f}mm_z{traction_loc[1]*1e3:.2f}{filekey}mm.png\", dpi=300, bbox_inches=\"tight\")\n",
    "plt.savefig(figdir + f\"/master_traction_history_comparison_{gougeevent_id}_x{traction_loc[0]*1e3:.2f}mm_z{traction_loc[1]*1e3:.2f}{filekey}mm.pdf\", bbox_inches=\"tight\")\n",
    "\n",
    "# plt.close()\n",
    "# plt.clf()"
   ]
  },
  {
   "cell_type": "code",
   "execution_count": null,
   "metadata": {},
   "outputs": [],
   "source": [
    "df_tractionhistory_pulse[\"loc_slip\"].iloc[0]"
   ]
  },
  {
   "cell_type": "markdown",
   "metadata": {},
   "source": [
    "# Plot time-traction history"
   ]
  },
  {
   "cell_type": "code",
   "execution_count": null,
   "metadata": {},
   "outputs": [],
   "source": [
    "fig, ax = plt.subplots(1, 1, figsize=(5, 4.2))\n",
    "\n",
    "ax.plot(df_tractionhistory_crack[\"t\"]*1e6, df_tractionhistory_crack[\"loc_traction\"]/1e6, \"--\", c=\"k\", lw=1.0)\n",
    "ax.plot(df_tractionhistory_pulse[\"t\"]*1e6, df_tractionhistory_pulse[\"loc_traction\"]/1e6, \"-\", c=\"k\", zorder=2, lw=1.5)\n",
    "\n",
    "# add markers at the beginning and end of the time history\n",
    "t_init = df_tractionhistory_pulse[\"t\"].iloc[0]\n",
    "t_end = df_tractionhistory_pulse[\"t\"].iloc[-1]\n",
    "traction_init =  df_tractionhistory_pulse[\"loc_traction\"].iloc[0]\n",
    "traction_end =  df_tractionhistory_pulse[\"loc_traction\"].iloc[-1]\n",
    "\n",
    "ax.plot(np.array([t_init, t_end])*1e6, np.array([traction_init, traction_end])/1e6, \"o\", mfc=\"w\", mec=\"k\", zorder=3, markersize=4)\n",
    "\n",
    "ax.set_xlim([-0.5, 10])\n",
    "ax.set_ylim([0, 7])\n",
    "ax.set_xlabel(\"Time [μs]\")\n",
    "ax.set_ylabel(\"Shear stress [MPa]\")\n",
    "\n",
    "# annotation\n",
    "# dc_y = 1.5 \n",
    "# ds_y = 1\n",
    "# ax.plot([0, dc*1e6], [dc_y, dc_y], \"-\", marker=\"|\", c=\"k\" )\n",
    "# ax.plot([0, ds*1e6], [ds_y, ds_y], \"-\", marker=\"|\", c=\"k\" )\n",
    "# ax.text(0.18, ds_y-0.4, f\"{df_event['hat_ds_factor_rapidnuc_patch']} x $D_c$\")\n",
    "# ax.text(0.02, dc_y+0.3, f\"$D_c$\")\n",
    "\n",
    "plt.tight_layout()\n",
    "plt.savefig(figdir + f\"/master_time_traction_{gougeevent_id}_x{traction_loc[0]*1e3:.2f}mm_z{traction_loc[1]*1e3:.2f}{filekey}mm.png\", dpi=300, bbox_inches=\"tight\")\n",
    "plt.savefig(figdir + f\"/master_time_traction_{gougeevent_id}_x{traction_loc[0]*1e3:.2f}mm_z{traction_loc[1]*1e3:.2f}{filekey}mm.pdf\", bbox_inches=\"tight\")\n",
    "\n",
    "# plt.close()\n",
    "# plt.clf()"
   ]
  },
  {
   "cell_type": "code",
   "execution_count": null,
   "metadata": {},
   "outputs": [],
   "source": []
  },
  {
   "cell_type": "code",
   "execution_count": null,
   "metadata": {},
   "outputs": [],
   "source": []
  },
  {
   "cell_type": "code",
   "execution_count": null,
   "metadata": {},
   "outputs": [],
   "source": []
  }
 ],
 "metadata": {
  "kernelspec": {
   "display_name": "Python 3 (ipykernel)",
   "language": "python",
   "name": "python3"
  },
  "language_info": {
   "codemirror_mode": {
    "name": "ipython",
    "version": 3
   },
   "file_extension": ".py",
   "mimetype": "text/x-python",
   "name": "python",
   "nbconvert_exporter": "python",
   "pygments_lexer": "ipython3",
   "version": "3.12.9"
  }
 },
 "nbformat": 4,
 "nbformat_minor": 4
}

{
 "cells": [
  {
   "cell_type": "markdown",
   "metadata": {},
   "source": [
    "# Plot master STFs\n",
    "\n",
    "We plot the master figure of STF associated with the dynamic rupture simulation.\n",
    "\n",
    "2024.06.17 Kurama Okubo\n",
    "\n",
    "- 2024.08.01 update to compute the half maximum amplitude width\n",
    "- 2024.09.04 **Major update:** compute HMPW and plot the master figures for STFs.\n",
    "- 2024.09.14 update for the total length of zeropadded STF\n",
    "- 2025.1.31 Clean up the notebook for the master plot.\n",
    "- 2025.2.20 Update the STF time shift to be aligned to the snapshots\n",
    "- 2025.4.26 update with v65 datasets."
   ]
  },
  {
   "cell_type": "code",
   "execution_count": null,
   "metadata": {},
   "outputs": [],
   "source": [
    "import os\n",
    "import shutil\n",
    "import matplotlib.pyplot as plt\n",
    "import matplotlib as mpl\n",
    "from matplotlib.cm import ScalarMappable\n",
    "%matplotlib inline\n",
    "import numpy as np\n",
    "import pandas as pd\n",
    "from datetime import timedelta\n",
    "from tqdm import tqdm\n",
    "import warnings\n",
    "import time\n",
    "from datetime import datetime\n",
    "\n",
    "import pickle\n",
    "\n",
    "from scipy.optimize import minimize\n",
    "\n",
    "from scipy.signal import freqz\n",
    "from scipy import signal\n",
    "from scipy import integrate\n",
    "\n",
    "import h5py\n",
    "\n",
    "import seaborn as sns\n",
    "\n",
    "from post_dynrup_func import *\n",
    "\n",
    "%load_ext autoreload\n",
    "%autoreload 2\n",
    "\n",
    "plt.rcParams[\"font.family\"] = 'Arial'\n",
    "# plt.rcParams[\"font.sans-serif\"] = \"DejaVu Sans, Arial, Helvetica, Lucida Grande, Verdana, Geneva, Lucid, Avant Garde, sans-serif\"\n",
    "plt.rcParams[\"font.size\"] = 11\n",
    "plt.rcParams[\"xtick.direction\"] = \"in\"\n",
    "plt.rcParams[\"xtick.major.size\"] = 4.75\n",
    "plt.rcParams[\"xtick.major.width\"] = 0.75\n",
    "plt.rcParams[\"xtick.minor.size\"] = 3\n",
    "plt.rcParams[\"xtick.minor.width\"] = 0.4\n",
    "plt.rcParams[\"xtick.minor.visible\"] = True\n",
    "\n",
    "plt.rcParams[\"ytick.direction\"] = \"in\"\n",
    "plt.rcParams[\"ytick.major.size\"] = 4.75\n",
    "plt.rcParams[\"ytick.major.width\"] = 0.75\n",
    "plt.rcParams[\"ytick.minor.size\"] = 3\n",
    "plt.rcParams[\"ytick.minor.width\"] = 0.4\n",
    "plt.rcParams[\"ytick.minor.visible\"] = True\n",
    "\n",
    "plt.rcParams[\"savefig.transparent\"] = False\n",
    "\n",
    "plt.rcParams['axes.linewidth'] = 0.75"
   ]
  },
  {
   "cell_type": "code",
   "execution_count": null,
   "metadata": {},
   "outputs": [],
   "source": [
    "figdir = \"../figure/05_master_STF\"\n",
    "if not os.path.exists(figdir):\n",
    "    os.makedirs(figdir)"
   ]
  },
  {
   "cell_type": "markdown",
   "metadata": {},
   "source": [
    "# Read STF of dynamic rupture model"
   ]
  },
  {
   "cell_type": "code",
   "execution_count": null,
   "metadata": {},
   "outputs": [],
   "source": [
    "a_patch = 4.0e-3\n",
    "a_nuc = 2.5e-3\n",
    "a_margin = 4.08e-3\n",
    "\n",
    "rupturetype = \"pulse\"\n",
    "pdcscaling = 0.6 #0.65\n",
    "bgbeta= 0.35 #0.4\n",
    "\n",
    "sig_n = 6e6\n",
    "\n",
    "IfBinaryOutput = True\n",
    "\n",
    "nb_x_elements = 1024 #128 #128 #128\n",
    "\n",
    "casestr = f\"a={a_patch*1e3:.2f}_ruptype={rupturetype}_pdcscaling={pdcscaling:.3f}_sn={sig_n/1e6:.1f}MPa_hatfr=0.3_bgbeta={bgbeta:.2f}\"\n",
    "\n",
    "Ifmasteroutput=True # add file key to the master output\n",
    "if Ifmasteroutput:\n",
    "    filekey = \"_master\"\n",
    "else:\n",
    "    filekey = \"\""
   ]
  },
  {
   "cell_type": "code",
   "execution_count": null,
   "metadata": {
    "tags": []
   },
   "outputs": [],
   "source": [
    "finame=f\"../../preprocess_modelsetup/data/gouge_dynamicrupture_modelparam_{casestr}{filekey}.csv\"\n",
    "\n",
    "# Read model parameters\n",
    "df_modelparam = pd.read_csv(finame, index_col=0)"
   ]
  },
  {
   "cell_type": "code",
   "execution_count": null,
   "metadata": {},
   "outputs": [],
   "source": [
    "# read the STF processed in the previous notebook\n",
    "fo_dynrup = h5py.File(f\"../data/01_M0andSTF/DynrupModelData_{casestr}_{nb_x_elements}{filekey}.hdf5\", 'r+')\n",
    "\n",
    "tvec_dynrup = np.array(fo_dynrup[\"param/tvec_dynrup\"])"
   ]
  },
  {
   "cell_type": "code",
   "execution_count": null,
   "metadata": {},
   "outputs": [],
   "source": [
    "# read STF best-fit associated with the dynamic rupture model\n",
    "df_dynrupfitparam = pd.read_csv(f\"../data/dynrup_bestfit_sourceparam_{casestr}{filekey}.csv\", index_col=None)\n",
    "df_dynrupfitparam"
   ]
  },
  {
   "cell_type": "code",
   "execution_count": null,
   "metadata": {
    "tags": []
   },
   "outputs": [],
   "source": [
    "# load color dictionary consistent to the plot of the repeated waveforms\n",
    "repeated_sensor_lcdict = \"OL08\" # the color dict is same for all the sensor although separately saved.\n",
    "gougepatch_id = \"G3\"\n",
    "with open(f'../../../../ComputeScaling/data/01_plot_gougeevents/lc_dict_{gougepatch_id}_{repeated_sensor_lcdict}.pkl', 'rb') as fi:\n",
    "    lc_dict = pickle.load(fi)"
   ]
  },
  {
   "cell_type": "code",
   "execution_count": null,
   "metadata": {
    "tags": []
   },
   "outputs": [],
   "source": [
    "# lc_dict"
   ]
  },
  {
   "cell_type": "markdown",
   "metadata": {},
   "source": [
    "# Plot the STF\n",
    "\n",
    "For the clarity of the evolution of dynamic rupture model, we do not zero-pad the STF associated with the dynamic rupture model.\n",
    "We updated to shift the time using the onset of M129 to synchronize it to the snapshots."
   ]
  },
  {
   "cell_type": "code",
   "execution_count": null,
   "metadata": {},
   "outputs": [],
   "source": [
    "fo_dynrup.keys()"
   ]
  },
  {
   "cell_type": "code",
   "execution_count": null,
   "metadata": {},
   "outputs": [],
   "source": [
    "tvec_dynrup = np.array(fo_dynrup[\"param/tvec_dynrup\"])\n",
    "dt_dynrup = tvec_dynrup[1] - tvec_dynrup[0]"
   ]
  },
  {
   "cell_type": "code",
   "execution_count": null,
   "metadata": {},
   "outputs": [],
   "source": [
    "# tvec_dynrup"
   ]
  },
  {
   "cell_type": "code",
   "execution_count": null,
   "metadata": {},
   "outputs": [],
   "source": [
    "zerowin_pre = 3e-6\n",
    "zerowin_post = 3e-6"
   ]
  },
  {
   "cell_type": "code",
   "execution_count": null,
   "metadata": {},
   "outputs": [],
   "source": [
    "expr_id = 87\n",
    "model_ids = [24, 50, 52, 72, 129]"
   ]
  },
  {
   "cell_type": "code",
   "execution_count": null,
   "metadata": {},
   "outputs": [],
   "source": []
  },
  {
   "cell_type": "code",
   "execution_count": null,
   "metadata": {},
   "outputs": [],
   "source": [
    "t_plot_list = np.loadtxt(f\"../data/t_plot_list_{casestr}{filekey}.txt\", delimiter=',')\n",
    "t_plot_list"
   ]
  },
  {
   "cell_type": "code",
   "execution_count": null,
   "metadata": {},
   "outputs": [],
   "source": [
    "model_id_ref = 129 # align with this event for dynamic rupture model\n",
    "df_dynrupfitparam_select_ref = df_dynrupfitparam[df_dynrupfitparam[\"event_id\"]==model_id_ref]\n",
    "Tshift_bestfit_ref = df_dynrupfitparam_select_ref[\"Tshift_bestfit\"].values[0] # This is the onset of best-fit STF on the dynrup\n",
    "Tshift_bestfit_ref"
   ]
  },
  {
   "cell_type": "code",
   "execution_count": null,
   "metadata": {},
   "outputs": [],
   "source": [
    "fig, ax = plt.subplots(1, 1, figsize=(5.9, 5.4))\n",
    "\n",
    "# plot normalized STF in the inset\n",
    "ax_inset = fig.add_axes([0.62, .6, .25, .25])\n",
    "\n",
    "snapshot_gougeevent_id = 129\n",
    "\n",
    "for ii, model_id in enumerate(model_ids):\n",
    "\n",
    "    datacase = f\"fb03-087__{model_id:04d}\"\n",
    "\n",
    "    #-----------------#    \n",
    "    # plot synthetic\n",
    "    #-----------------#\n",
    "\n",
    "    df_modelparam_selected = df_modelparam[df_modelparam.index == model_id] # best-fit source param from observation\n",
    "    M0_mean = df_modelparam_selected[\"M0_mean\"].values[0]\n",
    "    Tw_mean = df_modelparam_selected[\"Tw_mean\"].values[0]\n",
    "       \n",
    "    # compute synthetic STF\n",
    "    tvec_syn = np.linspace(0, Tw_mean, int(Tw_mean/dt_dynrup))\n",
    "    dt_tvec_syn = tvec_syn[1]-tvec_syn[0]\n",
    "    STF_syn = stf_cosine(tvec_syn, Tw_mean, M0_mean)\n",
    "    # STF_syn = stf_kupper(tvec_syn, Tw_mean, M0_mean)\n",
    "\n",
    "    # zero-padding\n",
    "    tpre_syn = -np.arange(dt_tvec_syn, zerowin_pre, step=dt_tvec_syn)[::-1]\n",
    "    tpost_syn = np.arange(tvec_syn[-1]+dt_tvec_syn, tvec_syn[-1]+zerowin_post, step=dt_tvec_syn)\n",
    "    tvec_syn_padded = np.hstack([tpre_syn, tvec_syn, tpost_syn])\n",
    "    \n",
    "    post_add = 0\n",
    "    if np.mod(len(tvec_syn_padded), 2) == 1: # make the length to be even\n",
    "        # make tvec length as even\n",
    "        tvec_syn_padded = np.hstack([tvec_syn_padded, tvec_syn_padded[-1]+dt_tvec_syn])\n",
    "        post_add = 1\n",
    "    \n",
    "    STF_rec_padded = np.hstack([np.zeros(len(tpre_syn)), STF_syn, np.zeros(len(tpost_syn)+post_add)])\n",
    "\n",
    "    if model_id == snapshot_gougeevent_id:\n",
    "        labelsyn=\"Cosine STF based on observed\\nsource parameters\"\n",
    "    else:\n",
    "        labelsyn=None\n",
    "        \n",
    "    ax.plot((tvec_syn_padded + Tshift_bestfit_ref)*1e6, STF_rec_padded/1e6, ls=\":\", c=lc_dict[datacase], lw=1.5, label=labelsyn) # before alignment\n",
    "\n",
    "\n",
    "    #-----------------#    \n",
    "    # plot dynamic rupture model\n",
    "    #-----------------#    \n",
    "\n",
    "    df_dynrupfitparam_select = df_dynrupfitparam[df_dynrupfitparam[\"event_id\"]==model_id]\n",
    "    Tshift_bestfit = df_dynrupfitparam_select[\"Tshift_bestfit\"].values[0] # This is the onset of best-fit STF on the dynrup\n",
    "\n",
    "     # Plot dynamic rupture model\n",
    "    df_modelparam_selected = df_modelparam[df_modelparam.index == model_id]\n",
    "    simulation_name = f\"fb03-{expr_id:03d}__{df_modelparam_selected.index[0]:04d}_{casestr}\"\n",
    "    key_STF = f\"STF_rec_{simulation_name}\"\n",
    "    STF_rec = np.array(fo_dynrup[f'dynrup_{model_id:04d}/STF_rec'])\n",
    "    STF_max = np.max(STF_rec)\n",
    "    STF_maxarg = np.argmax(STF_rec)\n",
    "\n",
    "    if model_id == snapshot_gougeevent_id:\n",
    "        labeldynrup=\"Dynamic rupture model\"\n",
    "    else:\n",
    "        labeldynrup=None\n",
    "        \n",
    "    ax.plot((tvec_dynrup - Tshift_bestfit + Tshift_bestfit_ref)*1e6, STF_rec/1e6, \"-\", c=lc_dict[datacase], lw=1.5, zorder=3, label=labeldynrup)\n",
    "    # ax.plot((tvec_dynrup - 0 + Tshift_bestfit_ref)*1e6, STF_rec/1e6, \"-\", c=lc_dict[datacase], lw=1.5, zorder=3, label=labeldynrup)\n",
    "    \n",
    "    # Annotate snapshot timing\n",
    "    if (model_id==snapshot_gougeevent_id) & (rupturetype==\"pulse\"):\n",
    "        t_snapshots_dynrup = [Tshift_bestfit] # snap timing list after time shifted of the plot\n",
    "\n",
    "        for t_snap in t_plot_list:\n",
    "            t_snap_ind = np.where(tvec_dynrup >= t_snap)[0][0]\n",
    "    \n",
    "            # compute t_snap associated with the dynamic rupture model\n",
    "            t_snapshots_dynrup.append(tvec_dynrup[t_snap_ind]-Tshift_bestfit)\n",
    "            \n",
    "            ax.plot((tvec_dynrup[t_snap_ind]-Tshift_bestfit + Tshift_bestfit_ref)*1e6, STF_rec[t_snap_ind]/1e6, \"s\",\n",
    "                    mfc=\"w\", mec=\"k\", ms=5., zorder=5)\n",
    "\n",
    "    \n",
    "    #-----------------#    \n",
    "    # debug: plot best-fit STF of dynamic rupture model\n",
    "    #-----------------# \n",
    "    M0_bestfit = df_dynrupfitparam_select[\"M0_bestfit\"].values[0]\n",
    "    Tw_bestfit = df_dynrupfitparam_select[\"Tw_bestfit\"].values[0]\n",
    "       \n",
    "    # compute synthetic STF\n",
    "    tvec_dynrupbestfit = np.linspace(0, Tw_bestfit, int(Tw_mean/dt_dynrup))\n",
    "    dt_dynrupbestfit = tvec_dynrupbestfit[1]-tvec_dynrupbestfit[0]\n",
    "    STF_dynrupbestfit = stf_cosine(tvec_dynrupbestfit, Tw_bestfit, M0_bestfit)\n",
    "    # ax.plot((tvec_dynrupbestfit)*1e6, STF_dynrupbestfit/1e6, ls=\"-.\", c=lc_dict[datacase], lw=2.0) # before alignment\n",
    "\n",
    "    #-----------------#    \n",
    "    # plot normalized STF\n",
    "    #-----------------#\n",
    "\n",
    "    ax_inset.plot((tvec_dynrup - Tshift_bestfit + Tshift_bestfit_ref)*1e6, STF_rec/STF_max, \"-\", c=lc_dict[datacase], lw=1.5)\n",
    "\n",
    "\n",
    "# Annotate the event IDs\n",
    "\n",
    "annot_xfactor = [0.03, 0.02, 0.02, 0.02, 0.0]\n",
    "annot_yfactor = [0.95, 0.97, 0.97, 1.0, 0.97]\n",
    "annot_edge_t = [0.8, 0.85, 0.9, 0.93, 1]\n",
    "annot_locs = [(-0.8, 0.1), (-0.8, 0.15), (-0.8, 0.25), (-0.8, 0.27), (-0.8, 0.3)]\n",
    "\n",
    "for ii, model_id in enumerate(model_ids):\n",
    "\n",
    "    df_dynrupfitparam_select = df_dynrupfitparam[df_dynrupfitparam[\"event_id\"]==model_id]\n",
    "    Tshift_bestfit = df_dynrupfitparam_select[\"Tshift_bestfit\"].values[0] # This is the onset of best-fit STF on the dynrup\n",
    "    df_modelparam_selected = df_modelparam[df_modelparam.index == model_id]\n",
    "    simulation_name = f\"fb03-{expr_id:03d}__{df_modelparam_selected.index[0]:04d}_{casestr}\"\n",
    "    key_STF = f\"STF_rec_{simulation_name}\"\n",
    "    STF_rec = np.array(fo_dynrup[f'dynrup_{model_id:04d}/STF_rec'])\n",
    "    # ax.plot((tvec_dynrup - Tshift_bestfit + Tshift_bestfit_ref)*1e6, STF_rec/1e6, \"-\", c=lc_dict[datacase], lw=1.5, zorder=3, label=labeldynrup)\n",
    "\n",
    "    (a_xy, b_xy) = annot_locs[ii]\n",
    "    xy_annot_tind = np.where((tvec_dynrup - Tshift_bestfit + Tshift_bestfit_ref)*1e6 >= annot_edge_t[ii])[0][0]\n",
    "    xy_annot = ((1+annot_xfactor[ii])*annot_edge_t[ii], annot_yfactor[ii]*STF_rec[xy_annot_tind]/1e6)\n",
    "    xytext = (annot_edge_t[ii]+ a_xy, STF_rec[xy_annot_tind]/1e6 + b_xy)\n",
    "\n",
    "    ax.annotate(f\"M{model_id:g}\", xy=xy_annot, xytext=xytext,\n",
    "        arrowprops=dict(arrowstyle = '-', connectionstyle = 'arc3', lw=0.75), \n",
    "        horizontalalignment=\"left\", zorder=4, fontsize=11., c=\"k\")\n",
    "    \n",
    "\n",
    "\n",
    "\n",
    "        \n",
    "ax.set_xlabel(\"Time [μs]\")\n",
    "ax.set_ylabel(r\"$\\dot{M}_0(t)$ [MNm/s]\")\n",
    "\n",
    "ax.set_xlim([-1.4, 4.4])\n",
    "# ax.set_xlim([0, 10])\n",
    "ax.set_ylim([-0.05, 1.15])\n",
    "\n",
    "ax.grid(True, c=np.array([230, 230, 230])/255, lw=0.25, zorder=-1)\n",
    "ax.set_axisbelow('True')\n",
    "\n",
    "#https://stackoverflow.com/a/34576778\n",
    "# ax.legend(loc=2)\n",
    "handles, labels = ax.get_legend_handles_labels()\n",
    "ax.legend(handles[::-1], labels[::-1], loc='upper left', frameon=False)\n",
    "\n",
    "# inset\n",
    "ax_inset.set_xlim([-0.5, 3.5])\n",
    "ax_inset.set_ylim([-0.1, 1.1])\n",
    "ax_inset.set_yticks([0, 1])\n",
    "# ax_inset.set_xlabel(\"Time [μs]\")\n",
    "ax_inset.grid(True, c=np.array([230, 230, 230])/255, lw=0.25, zorder=-1)\n",
    "ax_inset.set_axisbelow('True')\n",
    "\n",
    "# plt.suptitle(f'Q{Qinv_quart} water-level={k_waterlevel:.2f}', y=0.98)\n",
    "# plt.tight_layout()\n",
    "\n",
    "plt.savefig(figdir + f\"/master_STFcomparison_{casestr}_{nb_x_elements}{filekey}.png\", dpi=300, bbox_inches=\"tight\")\n",
    "plt.savefig(figdir + f\"/master_STFcomparison_{casestr}_{nb_x_elements}{filekey}.eps\", bbox_inches=\"tight\")\n"
   ]
  },
  {
   "cell_type": "code",
   "execution_count": null,
   "metadata": {},
   "outputs": [],
   "source": [
    "xy_annot"
   ]
  },
  {
   "cell_type": "code",
   "execution_count": null,
   "metadata": {},
   "outputs": [],
   "source": [
    "t_plot_list"
   ]
  },
  {
   "cell_type": "code",
   "execution_count": null,
   "metadata": {},
   "outputs": [],
   "source": [
    "Tshift_bestfit"
   ]
  },
  {
   "cell_type": "code",
   "execution_count": null,
   "metadata": {},
   "outputs": [],
   "source": [
    "dt_dynrup"
   ]
  },
  {
   "cell_type": "code",
   "execution_count": null,
   "metadata": {},
   "outputs": [],
   "source": []
  }
 ],
 "metadata": {
  "kernelspec": {
   "display_name": "Python 3 (ipykernel)",
   "language": "python",
   "name": "python3"
  },
  "language_info": {
   "codemirror_mode": {
    "name": "ipython",
    "version": 3
   },
   "file_extension": ".py",
   "mimetype": "text/x-python",
   "name": "python",
   "nbconvert_exporter": "python",
   "pygments_lexer": "ipython3",
   "version": "3.12.10"
  }
 },
 "nbformat": 4,
 "nbformat_minor": 4
}

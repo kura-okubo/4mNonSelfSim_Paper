{
 "cells": [
  {
   "cell_type": "markdown",
   "metadata": {},
   "source": [
    "# Fitting the synthetic STF to evaluate the seismic moment and source duration\n",
    "\n",
    "We fit the synthetic STF to the preprocessed displacement pulse to evaluate the source parameters.\n",
    "\n",
    "2024.11.19 Kurama Okubo\n",
    "\n",
    "- 2024.11.25 update denoise method\n",
    "- 2025.2.6 update the Tw_init with iteration to avoid the local minimum."
   ]
  },
  {
   "cell_type": "code",
   "execution_count": 1,
   "metadata": {},
   "outputs": [],
   "source": [
    "import os\n",
    "import obspy\n",
    "from obspy import read, Stream, Trace\n",
    "from scipy import signal\n",
    "import matplotlib.pyplot as plt\n",
    "import matplotlib.ticker as mticker\n",
    "%matplotlib inline\n",
    "import glob\n",
    "from glob import glob\n",
    "import numpy as np\n",
    "import mpmath as mp\n",
    "import pandas as pd\n",
    "import datetime\n",
    "from datetime import timedelta\n",
    "from tqdm import tqdm\n",
    "import warnings\n",
    "\n",
    "from matplotlib import gridspec\n",
    "\n",
    "from scipy import interpolate\n",
    "from scipy.optimize import curve_fit  \n",
    "import matplotlib as mpl\n",
    "import pickle\n",
    "import copy\n",
    "\n",
    "import seaborn as sns \n",
    "from scipy.interpolate import LSQUnivariateSpline\n",
    "from scipy import integrate\n",
    "from scipy.interpolate import CubicSpline\n",
    "\n",
    "import h5py # store the STF in hdf5\n",
    "from scipy.optimize import minimize\n",
    "\n",
    "from STFfit_func import *\n",
    "\n",
    "plt.rcParams[\"font.family\"] = 'Arial'\n",
    "# plt.rcParams[\"font.sans-serif\"] = \"DejaVu Sans, Arial, Helvetica, Lucida Grande, Verdana, Geneva, Lucid, Avant Garde, sans-serif\"\n",
    "plt.rcParams[\"font.size\"] = 12\n",
    "plt.rcParams[\"xtick.direction\"] = \"in\"\n",
    "plt.rcParams[\"xtick.major.size\"] = 4.75\n",
    "plt.rcParams[\"xtick.major.width\"] = 0.75\n",
    "plt.rcParams[\"xtick.minor.size\"] = 3\n",
    "plt.rcParams[\"xtick.minor.width\"] = 0.4\n",
    "plt.rcParams[\"xtick.minor.visible\"] = True\n",
    "\n",
    "plt.rcParams[\"ytick.direction\"] = \"in\"\n",
    "plt.rcParams[\"ytick.major.size\"] = 4.75\n",
    "plt.rcParams[\"ytick.major.width\"] = 0.75\n",
    "plt.rcParams[\"ytick.minor.size\"] = 3\n",
    "plt.rcParams[\"ytick.minor.width\"] = 0.4\n",
    "plt.rcParams[\"ytick.minor.visible\"] = True\n",
    "\n",
    "plt.rcParams[\"savefig.transparent\"] = True\n",
    "plt.rcParams['axes.linewidth'] = 0.75\n",
    "\n",
    "from obspy.core.utcdatetime import UTCDateTime  \n",
    "os.environ['TZ'] = 'GMT' # change time zone to avoid confusion in unix_tvec conversion\n",
    "UTCDateTime.DEFAULT_PRECISION = 8"
   ]
  },
  {
   "cell_type": "code",
   "execution_count": 2,
   "metadata": {},
   "outputs": [],
   "source": [
    "dataoutdir = \"../data/04_STFfit\"\n",
    "if not os.path.exists(dataoutdir):\n",
    "    os.makedirs(dataoutdir)"
   ]
  },
  {
   "cell_type": "code",
   "execution_count": 3,
   "metadata": {},
   "outputs": [],
   "source": [
    "figdir = \"../figure/debug_04_STFfit/\"\n",
    "if not os.path.exists(figdir):\n",
    "    os.makedirs(figdir)"
   ]
  },
  {
   "cell_type": "markdown",
   "metadata": {},
   "source": [
    "# Read the STF"
   ]
  },
  {
   "cell_type": "code",
   "execution_count": 4,
   "metadata": {},
   "outputs": [],
   "source": [
    "gougepatch_id = \"G3\" # to set output filename\n",
    "denoise_method = \"detrend\"\n",
    "Qinv_quart = 50\n",
    "k_waterlevel = 0.3\n",
    "fo = h5py.File(f\"../data/03_computePdisp/STF_all_{gougepatch_id}_Q{Qinv_quart}_wlv_{k_waterlevel:.2f}_denoisemethod_{denoise_method.lower()}.hdf5\", 'r+')\n"
   ]
  },
  {
   "cell_type": "code",
   "execution_count": null,
   "metadata": {},
   "outputs": [],
   "source": []
  },
  {
   "cell_type": "code",
   "execution_count": 5,
   "metadata": {},
   "outputs": [],
   "source": [
    "# selected AE sensors for patch G3\n",
    "AEsensor_list = [\"OL23\", \"OL07\", \"OL08\", \"OL22\"] # update: we use 4 close sensors \"OL24\"] "
   ]
  },
  {
   "cell_type": "code",
   "execution_count": 6,
   "metadata": {},
   "outputs": [],
   "source": [
    "tvec = np.array(fo[f\"param/tvec_upsampled_margintrimmed\"])\n",
    "\n",
    "# pwin_pre = fo[f\"param\"].attrs[\"pwin_pre\"]\n",
    "dt_upsampled = fo[f\"param\"].attrs[\"dt_upsampled\"]\n",
    "pwin_pre = fo[f\"param\"].attrs[\"pwin_pre\"]\n",
    "pwin_len = fo[f\"param\"].attrs[\"pwin_len\"] \n"
   ]
  },
  {
   "cell_type": "code",
   "execution_count": null,
   "metadata": {},
   "outputs": [],
   "source": []
  },
  {
   "cell_type": "code",
   "execution_count": 7,
   "metadata": {},
   "outputs": [],
   "source": [
    "datacases = list(fo.keys())\n",
    "datacases.remove(\"param\")\n",
    "# datacases"
   ]
  },
  {
   "cell_type": "code",
   "execution_count": null,
   "metadata": {},
   "outputs": [],
   "source": []
  },
  {
   "cell_type": "markdown",
   "metadata": {},
   "source": [
    "## Read source parameters from full waveform fitting"
   ]
  },
  {
   "cell_type": "code",
   "execution_count": 8,
   "metadata": {},
   "outputs": [
    {
     "data": {
      "text/html": [
       "<div>\n",
       "<style scoped>\n",
       "    .dataframe tbody tr th:only-of-type {\n",
       "        vertical-align: middle;\n",
       "    }\n",
       "\n",
       "    .dataframe tbody tr th {\n",
       "        vertical-align: top;\n",
       "    }\n",
       "\n",
       "    .dataframe thead th {\n",
       "        text-align: right;\n",
       "    }\n",
       "</style>\n",
       "<table border=\"1\" class=\"dataframe\">\n",
       "  <thead>\n",
       "    <tr style=\"text-align: right;\">\n",
       "      <th></th>\n",
       "      <th>VR_P_best</th>\n",
       "      <th>M0_best</th>\n",
       "      <th>TR_best</th>\n",
       "      <th>rake_best</th>\n",
       "    </tr>\n",
       "  </thead>\n",
       "  <tbody>\n",
       "    <tr>\n",
       "      <th>fb03-087__0004</th>\n",
       "      <td>0.89</td>\n",
       "      <td>0.57</td>\n",
       "      <td>3.3</td>\n",
       "      <td>0</td>\n",
       "    </tr>\n",
       "    <tr>\n",
       "      <th>fb03-087__0009</th>\n",
       "      <td>0.73</td>\n",
       "      <td>0.05</td>\n",
       "      <td>3.1</td>\n",
       "      <td>0</td>\n",
       "    </tr>\n",
       "    <tr>\n",
       "      <th>fb03-087__0018</th>\n",
       "      <td>0.87</td>\n",
       "      <td>0.61</td>\n",
       "      <td>3.5</td>\n",
       "      <td>0</td>\n",
       "    </tr>\n",
       "    <tr>\n",
       "      <th>fb03-087__0019</th>\n",
       "      <td>0.79</td>\n",
       "      <td>0.05</td>\n",
       "      <td>3.1</td>\n",
       "      <td>0</td>\n",
       "    </tr>\n",
       "    <tr>\n",
       "      <th>fb03-087__0020</th>\n",
       "      <td>0.89</td>\n",
       "      <td>0.77</td>\n",
       "      <td>3.3</td>\n",
       "      <td>0</td>\n",
       "    </tr>\n",
       "  </tbody>\n",
       "</table>\n",
       "</div>"
      ],
      "text/plain": [
       "                VR_P_best  M0_best  TR_best  rake_best\n",
       "fb03-087__0004       0.89     0.57      3.3          0\n",
       "fb03-087__0009       0.73     0.05      3.1          0\n",
       "fb03-087__0018       0.87     0.61      3.5          0\n",
       "fb03-087__0019       0.79     0.05      3.1          0\n",
       "fb03-087__0020       0.89     0.77      3.3          0"
      ]
     },
     "execution_count": 8,
     "metadata": {},
     "output_type": "execute_result"
    }
   ],
   "source": [
    "# Path to the best fit source parameters\n",
    "bestfitsourceparam_finame = f\"../../SourceInvFit/data/datacsv/gridsearch_bestparam_M0andTR_fb03-087.csv\"\n",
    "\n",
    "df_bestparam = pd.read_csv(bestfitsourceparam_finame, index_col=0) # from waveform inversion\n",
    "datacases = df_bestparam.index\n",
    "df_bestparam.head()"
   ]
  },
  {
   "cell_type": "code",
   "execution_count": 9,
   "metadata": {},
   "outputs": [],
   "source": [
    "# # load color dictionary consistent to the plot of the repeated waveforms\n",
    "# repeated_sensor_lcdict = \"OL08\" # the color dict is same for all the sensor although separately saved.\n",
    "# with open(f'../../ComputeScaling/data/01_plot_gougeevents/lc_dict_{gougepatch_id}_{repeated_sensor_lcdict}.pkl', 'rb') as fi:\n",
    "#     lc_dict = pickle.load(fi)"
   ]
  },
  {
   "cell_type": "code",
   "execution_count": 10,
   "metadata": {},
   "outputs": [],
   "source": [
    "# Color for the all the events\n",
    "skipcolor = 10\n",
    "c_norm = mpl.colors.Normalize(vmin=0, vmax=len(datacases)+skipcolor)\n",
    "lc_all = dict()\n",
    "cmap = sns.color_palette(\"viridis_r\", as_cmap=True)\n",
    "\n",
    "for i, datacase in enumerate(datacases[::-1]):\n",
    "    lc_all[datacase] = cmap(c_norm(i+skipcolor))\n"
   ]
  },
  {
   "cell_type": "markdown",
   "metadata": {},
   "source": [
    "# Fit the STF to the displacement pulse\n",
    "\n",
    "The initial parameters are crucial for the convergence of the optimization. We use the half-maximum amplitude width evaluated by the LBA and the peak of STF as the initial $T_R$."
   ]
  },
  {
   "cell_type": "markdown",
   "metadata": {},
   "source": [
    "## 1. Without deconvolution of attenuation"
   ]
  },
  {
   "cell_type": "code",
   "execution_count": 11,
   "metadata": {},
   "outputs": [
    {
     "name": "stderr",
     "output_type": "stream",
     "text": [
      "100%|███████████████████████████████████████████| 44/44 [00:58<00:00,  1.33s/it]\n",
      "100%|███████████████████████████████████████████| 44/44 [01:00<00:00,  1.38s/it]\n",
      "100%|███████████████████████████████████████████| 44/44 [01:01<00:00,  1.41s/it]\n",
      "/var/folders/6n/nsqc1sbn1kn5ccc7y51plgz00000gn/T/ipykernel_69845/1433040553.py:78: OptimizeWarning: Initial guess is not within the specified bounds\n",
      "  res_test = minimize(compute_res, x0, args=(STF_sensor, dt_upsampled, pwin_pre, residu_win, stf_type, False),\n",
      "/var/folders/6n/nsqc1sbn1kn5ccc7y51plgz00000gn/T/ipykernel_69845/1433040553.py:85: OptimizeWarning: Initial guess is not within the specified bounds\n",
      "  res = minimize(compute_res, x0, args=(STF_sensor, dt_upsampled, pwin_pre, residu_win, stf_type, False),\n",
      "100%|███████████████████████████████████████████| 44/44 [01:10<00:00,  1.60s/it]\n"
     ]
    }
   ],
   "source": [
    "# fitting parameters\n",
    "# TR_init = 2.8e-6 # Initial condition: This needs to close to the bestfit solution   \n",
    "Tshift_init = 0.0\n",
    "bounds = [(0, 10), (1.0e-6, 10.0e-6), (-0.5e-6, 1e-6)]\n",
    "stf_type = \"cosine\" #\"kupper\" #\"cosine\"\n",
    "xatol = 1e-2 # 1e-8 \n",
    "fatol = 1e-2 # 1e-8 \n",
    "\n",
    "residu_win = [0.5, 0.25]\n",
    "\n",
    "# M0_init_factor = 0.8 # accounting for the effect of attenuation factor deconvolution\n",
    "# TR_init_factor = 0.8 # accounting for the effect of attenuation factor deconvolution\n",
    "\n",
    "TR_peakwinlen = 2.5e-6 #\n",
    "\n",
    "for stnm in AEsensor_list:\n",
    "    \n",
    "    figdir_sensor = f\"../figure/04_STFfit/noQcorr/{stnm}/{stf_type}/\"\n",
    "    \n",
    "    if not os.path.exists(figdir_sensor):\n",
    "        os.makedirs(figdir_sensor)\n",
    "\n",
    "    for datacase in tqdm(datacases):\n",
    "        gougeevent_id = int(datacase.split(\"__\")[1])\n",
    "        STF_sensor = np.array(fo[f\"{datacase}/{stnm}/noQcorr/M0dot\"])\n",
    "        LBA_amp = 0.0 # this is zero as STF is normalized by LBA\n",
    "        \n",
    "        # LBA_amp = fo[f\"{datacase}/{stnm}/noQcorr\"].attrs[\"LBA_amp\"] # this is zero as STF is normalized by LBA\n",
    "\n",
    "        # M0_wavfit = df_bestparam.loc[datacase, :][\"M0_best\"]\n",
    "\n",
    "        # TR_wavfit = df_bestparam.loc[datacase, :][\"TR_best\"]*1e-6*TR_init_factor\n",
    "        # # Set the TR init as the double of peak distance\n",
    "        # st_pmax = int(pwin_pre/dt_upsampled)\n",
    "        # et_pmax = st_pmax + int(TR_peakwinlen/dt_upsampled)\n",
    "        # pmax_ind = np.argmax(STF_sensor[st_pmax:et_pmax])\n",
    "        # TR_init = 2*(pmax_ind*dt_upsampled)\n",
    "        \n",
    "        # Set TR as the width of the half-maximum level between LBA and peak\n",
    "        st_pmax = int(pwin_pre/dt_upsampled)\n",
    "        et_pmax = st_pmax + int(TR_peakwinlen/dt_upsampled)\n",
    "        pmax = np.max(STF_sensor[st_pmax:et_pmax])\n",
    "        pmax_ind = st_pmax + np.argmax(STF_sensor[st_pmax:et_pmax])\n",
    "        halfamp = (LBA_amp + pmax)/2\n",
    "        \n",
    "        # search the half pulse width\n",
    "        halfamp_list = np.where(np.diff(np.sign(STF_sensor - halfamp)))[0]\n",
    "        \n",
    "        # for tiny events, skip if we cannot find the LHA or RHA due to low S/N\n",
    "        try:\n",
    "            LHA_ind = halfamp_list[np.where(halfamp_list - pmax_ind < 0)[0][-1]]\n",
    "            RHA_ind = halfamp_list[np.where(halfamp_list - pmax_ind > 0)[0][0]] # set HMPW just below the half-maximum amplitude\n",
    "            HMPW = tvec[RHA_ind] - tvec[LHA_ind]\n",
    "            TR_init = 2*HMPW\n",
    "        except:\n",
    "            TR_init = 2.0e-6 # case for HMPW not found\n",
    "            # print(f\"{stnm} {datacase} {LHA_ind} {RHA_ind} TR is set as {TR_init*1e6:.1f}μs\")\n",
    "            print(f\"{stnm} {datacase} TR is set as {TR_init*1e6:.1f}μs\")\n",
    "\n",
    "        # Set the M0 fit by 0.5*(TR_init*peak_amp)\n",
    "        M0_init = 0.5*pmax*TR_init\n",
    "        # print(M0_init)\n",
    "        # print(TR_init)\n",
    "\n",
    "        # optimize the model parameters\n",
    "        #https://docs.scipy.org/doc/scipy/reference/generated/scipy.optimize.minimize.html#scipy.optimize.minimize\n",
    " \n",
    "        # Update 2025.2.6: to avoid the jump in the residual during the grid search caused by the dependency of the initial value,\n",
    "        # we iterate to find the global minimum in the fitting.\n",
    "        TR_init_list = TR_init * np.linspace(1.0, 1.1, 3)\n",
    "        res_fun_all = []\n",
    "    \n",
    "        for TR_init_test in TR_init_list:\n",
    "            x0 = [M0_init, TR_init_test, Tshift_init]\n",
    "            # print(x0)\n",
    "            \n",
    "            # fit the synthetic STF to the dynamic rupture STF\n",
    "            res_test = minimize(compute_res, x0, args=(STF_sensor, dt_upsampled, pwin_pre, residu_win, stf_type, False), \n",
    "                           method='Nelder-Mead', bounds=bounds, options={\"return_all\": False, \"xatol\":xatol, \"fatol\":fatol, \"maxfev\":1000})\n",
    "            res_fun_all.append(res_test.fun)\n",
    "        \n",
    "        # use Tw_init with minimum residual \n",
    "        TR_init_best = TR_init_list[np.argmin(res_fun_all)]\n",
    "        x0 = [M0_init, TR_init_best, Tshift_init]\n",
    "        res = minimize(compute_res, x0, args=(STF_sensor, dt_upsampled, pwin_pre, residu_win, stf_type, False), \n",
    "                    method='Nelder-Mead', bounds=bounds, options={\"return_all\": False, \"xatol\":xatol, \"fatol\":fatol, \"maxfev\":1000})\n",
    "    \n",
    "        # x0 = [M0_init, TR_init, Tshift_init]\n",
    "        \n",
    "\n",
    "        # res = minimize(compute_res, x0, args=(STF_sensor, dt_upsampled, pwin_pre, residu_win, stf_type, False), \n",
    "        #                method='Nelder-Mead', bounds=bounds, options={\"return_all\": False, \"xatol\":xatol, \"fatol\":fatol, \"maxfev\":1000})\n",
    "\n",
    "        # debug plot\n",
    "        fig, ax = plt.subplots(1, 1, figsize=(6, 5))\n",
    "        datacase\n",
    "        ax.plot(tvec*1e6, STF_sensor/1e6, c=lc_all[datacase])\n",
    "        \n",
    "        # best-fit synthetic STF\n",
    "        M0_best, TR_best, tshift_best = res.x\n",
    "        tvec_syn = np.linspace(0, TR_best, int(TR_best/dt_upsampled))\n",
    "        \n",
    "        if stf_type==\"kupper\":\n",
    "            STF_bestfit = stf_kupper(tvec_syn, TR_best, M0_best)\n",
    "        elif stf_type==\"cosine\":\n",
    "            STF_bestfit = stf_cosine(tvec_syn, TR_best, M0_best)\n",
    "        else:\n",
    "            raise ValueError(\"stf_type not found\")\n",
    "\n",
    "        max_STF_bestfit = STF_bestfit.max()\n",
    "        error_fraction = res.fun/max_STF_bestfit\n",
    "\n",
    "        SNR_sensor = fo[f\"{datacase}/{stnm}/noQcorr\"].attrs[\"SNR_sensor\"] \n",
    "        ax.text(0.05, 0.6, f\"event ID:{gougeevent_id}\\n{res.success}\\n$M_0$={M0_best:.2f}Nm\\n$T_R$={TR_best*1e6:.2f}μs\\n$Tshift$={tshift_best*1e6:.2f}μs\\nRMSE={res.fun:.1f}Nm/s\\nerror={error_fraction*100:.2f}%\\nSNR={SNR_sensor:.1f}\", transform=ax.transAxes)\n",
    "        \n",
    "        \n",
    "        ax.plot((tvec_syn + pwin_pre + tshift_best)*1e6, STF_bestfit/1e6, c=\"r\")\n",
    "        ax.set_xlabel(\"Time [μs]\")\n",
    "\n",
    "        ylabelstr = r\"$\\mathrm{\\dot{M}_0}$\"\n",
    "        ax.set_ylabel(f\"{ylabelstr} [MNm/s]\")\n",
    "        ax.set_title(\"no Q correction\")\n",
    "        fig.tight_layout()\n",
    "\n",
    "        plt.savefig(figdir_sensor + f\"/debug_STFfit_{gougepatch_id}_{stnm}_{stf_type}_event{gougeevent_id}.png\", dpi=100)\n",
    "\n",
    "        plt.clf()\n",
    "        plt.close()\n",
    "\n",
    "        # store the data\n",
    "        if not stf_type in fo[f\"{datacase}/{stnm}/noQcorr\"].keys():\n",
    "            fo[f\"{datacase}/{stnm}/noQcorr\"].create_group(stf_type)\n",
    "            \n",
    "        fo[f\"{datacase}/{stnm}/noQcorr/{stf_type}\"].attrs[\"M0_best\"] = M0_best\n",
    "        fo[f\"{datacase}/{stnm}/noQcorr/{stf_type}\"].attrs[\"TR_best\"] = TR_best\n",
    "        fo[f\"{datacase}/{stnm}/noQcorr/{stf_type}\"].attrs[\"tshift_best\"] = tshift_best\n",
    "        fo[f\"{datacase}/{stnm}/noQcorr/{stf_type}\"].attrs[\"stf_type\"] = stf_type\n",
    "        fo[f\"{datacase}/{stnm}/noQcorr/{stf_type}\"].attrs[\"max_STF_bestfit\"] = max_STF_bestfit\n",
    "        fo[f\"{datacase}/{stnm}/noQcorr/{stf_type}\"].attrs[\"fitting_flag\"] = res.success\n",
    "        fo[f\"{datacase}/{stnm}/noQcorr/{stf_type}\"].attrs[\"RMSE\"] = res.fun\n",
    "        fo[f\"{datacase}/{stnm}/noQcorr/{stf_type}\"].attrs[\"error_fraction\"] = error_fraction\n"
   ]
  },
  {
   "cell_type": "code",
   "execution_count": null,
   "metadata": {},
   "outputs": [],
   "source": []
  },
  {
   "cell_type": "markdown",
   "metadata": {},
   "source": [
    "## 2. With deconvolution of the attenuation factor"
   ]
  },
  {
   "cell_type": "code",
   "execution_count": 12,
   "metadata": {},
   "outputs": [
    {
     "data": {
      "text/plain": [
       "'fb03-087__0111'"
      ]
     },
     "execution_count": 12,
     "metadata": {},
     "output_type": "execute_result"
    }
   ],
   "source": [
    "datacases[37]"
   ]
  },
  {
   "cell_type": "code",
   "execution_count": 13,
   "metadata": {},
   "outputs": [
    {
     "data": {
      "text/plain": [
       "<KeysViewHDF5 ['tvec_upsampled_margintrimmed']>"
      ]
     },
     "execution_count": 13,
     "metadata": {},
     "output_type": "execute_result"
    }
   ],
   "source": [
    "fo[f\"param\"].keys()"
   ]
  },
  {
   "cell_type": "code",
   "execution_count": 14,
   "metadata": {},
   "outputs": [
    {
     "name": "stderr",
     "output_type": "stream",
     "text": [
      "100%|███████████████████████████████████████████| 44/44 [00:16<00:00,  2.62it/s]\n",
      "100%|███████████████████████████████████████████| 44/44 [00:15<00:00,  2.80it/s]\n",
      "100%|███████████████████████████████████████████| 44/44 [00:14<00:00,  2.94it/s]\n",
      "100%|███████████████████████████████████████████| 44/44 [00:16<00:00,  2.67it/s]\n"
     ]
    }
   ],
   "source": [
    "# fitting parameters\n",
    "# TR_init = 2.8e-6 # Initial condition: This needs to close to the bestfit solution   \n",
    "Tshift_init = 0.0\n",
    "bounds = [(0, 10), (1.0e-6, 10.0e-6), (-0.5e-6, 1e-6)]\n",
    "stf_type = \"cosine\" #\"kupper\" #\"cosine\"\n",
    "xatol = 1e-2 #1e-8 #2 \n",
    "fatol = 1e-2 #1e-8 #2\n",
    "\n",
    "residu_win = [0.5, 0.25]\n",
    "\n",
    "# M0_init_factor = 0.8 # accounting for the effect of attenuation factor deconvolution\n",
    "# TR_init_factor = 0.8 # accounting for the effect of attenuation factor deconvolution\n",
    "\n",
    "TR_peakwinlen = 2.5e-6 #\n",
    "\n",
    "k_waterlevel = fo[f\"param\"].attrs[\"k_waterlevel\"] \n",
    "\n",
    "for stnm in AEsensor_list:\n",
    "    \n",
    "    figdir_sensor = f\"../figure/04_STFfit/Q{Qinv_quart}_{k_waterlevel:.2f}/{stnm}/{stf_type}/\"\n",
    "    \n",
    "    if not os.path.exists(figdir_sensor):\n",
    "        os.makedirs(figdir_sensor)\n",
    "\n",
    "    for datacase in tqdm(datacases):\n",
    "        gougeevent_id = int(datacase.split(\"__\")[1])\n",
    "        STF_sensor = np.array(fo[f\"{datacase}/{stnm}/Q{Qinv_quart}/M0dot\"])\n",
    "        LBA_amp = fo[f\"{datacase}/{stnm}/Q{Qinv_quart}\"].attrs[\"LBA_amp\"] # this is zero as STF is normalized by LBA\n",
    "\n",
    "        # M0_wavfit = df_bestparam.loc[datacase, :][\"M0_best\"]\n",
    "\n",
    "        # TR_wavfit = df_bestparam.loc[datacase, :][\"TR_best\"]*1e-6*TR_init_factor\n",
    "        # # Set the TR init as the double of peak distance\n",
    "        # st_pmax = int(pwin_pre/dt_upsampled)\n",
    "        # et_pmax = st_pmax + int(TR_peakwinlen/dt_upsampled)\n",
    "        # pmax_ind = np.argmax(STF_sensor[st_pmax:et_pmax])\n",
    "        # TR_init = 2*(pmax_ind*dt_upsampled)\n",
    "        \n",
    "        # Set TR as the width of the half-maximum level between LBA and peak\n",
    "        st_pmax = int(pwin_pre/dt_upsampled)\n",
    "        et_pmax = st_pmax + int(TR_peakwinlen/dt_upsampled)\n",
    "        pmax = np.max(STF_sensor[st_pmax:et_pmax])\n",
    "        pmax_ind = st_pmax + np.argmax(STF_sensor[st_pmax:et_pmax])\n",
    "        halfamp = (LBA_amp + pmax)/2\n",
    "        \n",
    "        # search the half pulse width\n",
    "        halfamp_list = np.where(np.diff(np.sign(STF_sensor - halfamp)))[0]\n",
    "        \n",
    "        # for tiny events, skip if we cannot find the LHA or RHA due to low S/N\n",
    "        try:\n",
    "            LHA_ind = halfamp_list[np.where(halfamp_list - pmax_ind < 0)[0][-1]]\n",
    "            RHA_ind = halfamp_list[np.where(halfamp_list - pmax_ind > 0)[0][0]] # set HMPW just below the half-maximum amplitude\n",
    "            HMPW = tvec[RHA_ind] - tvec[LHA_ind]\n",
    "            TR_init = 2*HMPW\n",
    "        except:\n",
    "            TR_init = 2.0e-6 # case for HMPW not found\n",
    "            print(f\"{stnm} {datacase} {LHA_ind} {RHA_ind} TR is set as {TR_init*1e6:.1f}μs\")\n",
    "\n",
    "        # Set the M0 fit by 0.5*(TR_init*peak_amp)\n",
    "        M0_init = 0.5*pmax*TR_init\n",
    "        # print(M0_init)\n",
    "        # print(TR_init)\n",
    "        x0 = [M0_init, TR_init, Tshift_init]\n",
    "        \n",
    "        # optimize the model parameters\n",
    "        #https://docs.scipy.org/doc/scipy/reference/generated/scipy.optimize.minimize.html#scipy.optimize.minimize\n",
    " \n",
    "        res = minimize(compute_res, x0, args=(STF_sensor, dt_upsampled, pwin_pre, residu_win, stf_type, False), \n",
    "                       method='Nelder-Mead', bounds=bounds, options={\"return_all\": False, \"xatol\":xatol, \"fatol\":fatol, \"maxfev\":1000})\n",
    "\n",
    "        # debug plot\n",
    "        fig, ax = plt.subplots(1, 1, figsize=(6, 5))\n",
    "        datacase\n",
    "        ax.plot(tvec*1e6, STF_sensor/1e6, c=lc_all[datacase])\n",
    "        \n",
    "        # best-fit synthetic STF\n",
    "        M0_best, TR_best, tshift_best = res.x\n",
    "        tvec_syn = np.linspace(0, TR_best, int(TR_best/dt_upsampled))\n",
    "        \n",
    "        if stf_type==\"kupper\":\n",
    "            STF_bestfit = stf_kupper(tvec_syn, TR_best, M0_best)\n",
    "        elif stf_type==\"cosine\":\n",
    "            STF_bestfit = stf_cosine(tvec_syn, TR_best, M0_best)\n",
    "        else:\n",
    "            raise ValueError(\"stf_type not found\")\n",
    "\n",
    "        max_STF_bestfit = STF_bestfit.max()\n",
    "        error_fraction = res.fun/max_STF_bestfit\n",
    "\n",
    "        SNR_sensor = fo[f\"{datacase}/{stnm}/Q{Qinv_quart}\"].attrs[\"SNR_sensor\"] \n",
    "        ax.text(0.05, 0.6, f\"event ID:{gougeevent_id}\\n{res.success}\\n$M_0$={M0_best:.2f}Nm\\n$T_R$={TR_best*1e6:.2f}μs\\n$Tshift$={tshift_best*1e6:.2f}μs\\nRMSE={res.fun:.1f}Nm/s\\nerror={error_fraction*100:.2f}%\\nSNR={SNR_sensor:.1f}\", transform=ax.transAxes)\n",
    "        \n",
    "        \n",
    "        ax.plot((tvec_syn + pwin_pre + tshift_best)*1e6, STF_bestfit/1e6, c=\"r\")\n",
    "        ax.set_xlabel(\"Time [μs]\")\n",
    "\n",
    "        ylabelstr = r\"$\\mathrm{\\dot{M}_0}$\"\n",
    "        ax.set_ylabel(f\"{ylabelstr} [MNm/s]\")\n",
    "        ax.set_title(f\"Q{Qinv_quart}\")\n",
    "\n",
    "        ax.set_xlim([10, 35])\n",
    "        \n",
    "        fig.tight_layout()\n",
    "\n",
    "        plt.savefig(figdir_sensor + f\"/debug_STFfit_{gougepatch_id}_{stnm}_{stf_type}_event{gougeevent_id}.png\", dpi=100)\n",
    "\n",
    "        plt.clf()\n",
    "        plt.close()\n",
    "\n",
    "        # store the data\n",
    "        if not stf_type in fo[f\"{datacase}/{stnm}/Q{Qinv_quart}\"].keys():\n",
    "            fo[f\"{datacase}/{stnm}/Q{Qinv_quart}\"].create_group(stf_type)\n",
    "            \n",
    "        fo[f\"{datacase}/{stnm}/Q{Qinv_quart}/{stf_type}\"].attrs[\"M0_best\"] = M0_best\n",
    "        fo[f\"{datacase}/{stnm}/Q{Qinv_quart}/{stf_type}\"].attrs[\"TR_best\"] = TR_best\n",
    "        fo[f\"{datacase}/{stnm}/Q{Qinv_quart}/{stf_type}\"].attrs[\"tshift_best\"] = tshift_best\n",
    "        fo[f\"{datacase}/{stnm}/Q{Qinv_quart}/{stf_type}\"].attrs[\"stf_type\"] = stf_type\n",
    "        fo[f\"{datacase}/{stnm}/Q{Qinv_quart}/{stf_type}\"].attrs[\"max_STF_bestfit\"] = max_STF_bestfit\n",
    "        fo[f\"{datacase}/{stnm}/Q{Qinv_quart}/{stf_type}\"].attrs[\"fitting_flag\"] = res.success\n",
    "        fo[f\"{datacase}/{stnm}/Q{Qinv_quart}/{stf_type}\"].attrs[\"RMSE\"] = res.fun\n",
    "        fo[f\"{datacase}/{stnm}/Q{Qinv_quart}/{stf_type}\"].attrs[\"error_fraction\"] = error_fraction\n"
   ]
  },
  {
   "cell_type": "code",
   "execution_count": 15,
   "metadata": {},
   "outputs": [],
   "source": [
    "# res"
   ]
  },
  {
   "cell_type": "code",
   "execution_count": null,
   "metadata": {},
   "outputs": [],
   "source": []
  },
  {
   "cell_type": "code",
   "execution_count": 16,
   "metadata": {},
   "outputs": [
    {
     "data": {
      "text/plain": [
       "6045.5077588924605"
      ]
     },
     "execution_count": 16,
     "metadata": {},
     "output_type": "execute_result"
    }
   ],
   "source": [
    "res.fun"
   ]
  },
  {
   "cell_type": "code",
   "execution_count": 17,
   "metadata": {},
   "outputs": [],
   "source": [
    "fo.close()"
   ]
  },
  {
   "cell_type": "code",
   "execution_count": null,
   "metadata": {},
   "outputs": [],
   "source": []
  },
  {
   "cell_type": "markdown",
   "metadata": {},
   "source": [
    "# Conclusion\n",
    "\n",
    "We computed the best-fit STF to the observed P wave pulse to evaluate the source parameters. We analyze the statistics of the source parameters in the next notebook."
   ]
  },
  {
   "cell_type": "code",
   "execution_count": null,
   "metadata": {},
   "outputs": [],
   "source": []
  }
 ],
 "metadata": {
  "kernelspec": {
   "display_name": "Python 3 (ipykernel)",
   "language": "python",
   "name": "python3"
  },
  "language_info": {
   "codemirror_mode": {
    "name": "ipython",
    "version": 3
   },
   "file_extension": ".py",
   "mimetype": "text/x-python",
   "name": "python",
   "nbconvert_exporter": "python",
   "pygments_lexer": "ipython3",
   "version": "3.12.9"
  }
 },
 "nbformat": 4,
 "nbformat_minor": 4
}

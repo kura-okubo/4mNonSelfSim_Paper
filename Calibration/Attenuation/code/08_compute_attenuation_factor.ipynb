{
 "cells": [
  {
   "cell_type": "markdown",
   "metadata": {},
   "source": [
    "# Plot surface effect; and compute attenuation factor $B(\\omega)$\n",
    "2021.10.05 Kurama Okubo\n",
    "\n",
    "Summary plots for the directionality of sensors including surface effect. This note book is modifed from `SensorCoupling_BallDrop/code/08_plot_surfaceeffect_result_Case2.ipynb`.\n",
    "\n",
    "- 2022.1.5 plot schematic\n",
    "- 2022.11.25 update for new ball-drop test\n",
    "- 2024.1.24 update for master plot; plotting Case 2 with the threshold of multiple P arrival with large incident angle.\n",
    "- 2024.7.17 update to compute attenuation factor B(ω).\n",
    "- 2024.7.18 update to apply smoothing on the spectra.\n",
    "- 2025.3.16 update for master plot. Clean up the notebook.\n"
   ]
  },
  {
   "cell_type": "code",
   "execution_count": 1,
   "metadata": {},
   "outputs": [],
   "source": [
    "import os\n",
    "import obspy\n",
    "from obspy import read, Stream, Trace\n",
    "from scipy import signal\n",
    "import scipy.io as sio\n",
    "import matplotlib.pyplot as plt\n",
    "import matplotlib.ticker as mticker\n",
    "%matplotlib inline\n",
    "import glob\n",
    "from glob import glob\n",
    "import numpy as np\n",
    "import mpmath as mp\n",
    "import pandas as pd\n",
    "import datetime\n",
    "from datetime import timedelta\n",
    "from tqdm import tqdm\n",
    "import warnings\n",
    "\n",
    "from matplotlib import gridspec\n",
    "from obspy.signal.cross_correlation import correlate, xcorr_max\n",
    "\n",
    "from scipy import interpolate\n",
    "from scipy.optimize import curve_fit  \n",
    "import matplotlib as mpl\n",
    "import pickle\n",
    "\n",
    "plt.rcParams[\"font.family\"] = 'Arial'\n",
    "# plt.rcParams[\"font.sans-serif\"] = \"DejaVu Sans, Arial, Helvetica, Lucida Grande, Verdana, Geneva, Lucid, Avant Garde, sans-serif\"\n",
    "plt.rcParams[\"font.size\"] = 9\n",
    "plt.rcParams[\"xtick.direction\"] = \"in\"\n",
    "plt.rcParams[\"xtick.major.size\"] = 4.75\n",
    "plt.rcParams[\"xtick.major.width\"] = 0.75\n",
    "plt.rcParams[\"xtick.minor.size\"] = 3\n",
    "plt.rcParams[\"xtick.minor.width\"] = 0.4\n",
    "plt.rcParams[\"xtick.minor.visible\"] = True\n",
    "\n",
    "plt.rcParams[\"ytick.direction\"] = \"in\"\n",
    "plt.rcParams[\"ytick.major.size\"] = 4.75\n",
    "plt.rcParams[\"ytick.major.width\"] = 0.75\n",
    "plt.rcParams[\"ytick.minor.size\"] = 3\n",
    "plt.rcParams[\"ytick.minor.width\"] = 0.4\n",
    "plt.rcParams[\"ytick.minor.visible\"] = True\n",
    "\n",
    "plt.rcParams[\"savefig.transparent\"] = True\n",
    "plt.rcParams['axes.linewidth'] = 0.75\n",
    "\n",
    "from obspy.core.utcdatetime import UTCDateTime  \n",
    "os.environ['TZ'] = 'GMT' # change time zone to avoid confusion in unix_tvec conversion\n",
    "UTCDateTime.DEFAULT_PRECISION = 8"
   ]
  },
  {
   "cell_type": "code",
   "execution_count": 2,
   "metadata": {},
   "outputs": [],
   "source": [
    "# Directory for picked waveforms\n",
    "rootdir = \"../../SensorCoupling_BallDrop/code/\"\n",
    "# bdwaveform_datadir = rootdir+\"../data/DATA_greencomparison\"\n",
    "bdwaveform_datadir = \"../data/DATA_greencomparison\" # use the longer pretrigger for observation noise\n",
    "\n",
    "# channel table\n",
    "channel_finame = '../../../Others/AEchanneltable/AEsensorlocation_onFB03_table.csv'\n",
    "\n",
    "# source location\n",
    "source_finame = rootdir+'../data/balldrop_events_isocoord.csv'"
   ]
  },
  {
   "cell_type": "code",
   "execution_count": 3,
   "metadata": {},
   "outputs": [],
   "source": [
    "figdir = \"../figure/debug_08_surfaceeffect_casestudy/Case2_schematic/\"\n",
    "if not os.path.exists(figdir):\n",
    "    os.makedirs(figdir)"
   ]
  },
  {
   "cell_type": "code",
   "execution_count": 4,
   "metadata": {},
   "outputs": [],
   "source": [
    "root=rootdir+\"../data/DATA_surfaceeffect_Aij_Case2/\" # read the coupling coefficient from the original datasheet"
   ]
  },
  {
   "cell_type": "code",
   "execution_count": 5,
   "metadata": {},
   "outputs": [
    {
     "name": "stdout",
     "output_type": "stream",
     "text": [
      "k_PAZ = 8.95 [V/(m/s)]\n"
     ]
    }
   ],
   "source": [
    "# read PAZ scaling factor as the gain k_{PAZ}\n",
    "# parameters for instrumental response removal\n",
    "PAZ_case = \"fronttop\"\n",
    "# D = sio.loadmat(\"../data/AE_resp_dataandcoef_{}.mat\".format(PAZ_case));\n",
    "D = sio.loadmat(rootdir+\"../../AEsensor_Calibration/AEsensor_Calibration_ARX/data/AE_resp_dataandcoef_{}.mat\".format(PAZ_case));\n",
    "poles = np.squeeze(D[\"p\"])\n",
    "zeros = np.squeeze(D[\"z\"])\n",
    "scale_fac = np.squeeze(D[\"k\"])\n",
    "u_normfact = np.squeeze(D[\"u_normfact\"]) # normalized factor during the estimation of poles and zeros. see the following cell of note.\n",
    "\n",
    "preamp = 40 #[dB]\n",
    "\n",
    "k_PAZ = scale_fac/10**(preamp/20)# scale_fac/u_normfact/10**(preamp/20) # we already scaled with u_normfact\n",
    "\n",
    "print(f\"k_PAZ = {k_PAZ:.2f} [V/(m/s)]\")"
   ]
  },
  {
   "cell_type": "code",
   "execution_count": 6,
   "metadata": {},
   "outputs": [
    {
     "data": {
      "text/plain": [
       "array(894.99095553)"
      ]
     },
     "execution_count": 6,
     "metadata": {},
     "output_type": "execute_result"
    }
   ],
   "source": [
    "scale_fac"
   ]
  },
  {
   "cell_type": "code",
   "execution_count": 7,
   "metadata": {},
   "outputs": [
    {
     "data": {
      "text/plain": [
       "'../../SensorCoupling_BallDrop/code/../data/DATA_surfaceeffect_Aij_Case2/directionality_indextable.csv'"
      ]
     },
     "execution_count": 7,
     "metadata": {},
     "output_type": "execute_result"
    }
   ],
   "source": [
    "root+\"directionality_indextable.csv\""
   ]
  },
  {
   "cell_type": "code",
   "execution_count": 8,
   "metadata": {},
   "outputs": [
    {
     "data": {
      "text/plain": [
       "7407731.167995515"
      ]
     },
     "execution_count": 8,
     "metadata": {},
     "output_type": "execute_result"
    }
   ],
   "source": [
    "scale_fac/u_normfact"
   ]
  },
  {
   "cell_type": "markdown",
   "metadata": {},
   "source": [
    "# Read the sensor coupling factor results"
   ]
  },
  {
   "cell_type": "code",
   "execution_count": 9,
   "metadata": {},
   "outputs": [],
   "source": [
    "# check if vectorization is done in a same order between model 1&2 and 3&4 in matlab code.\n",
    "df_index12 = pd.read_csv(root+\"directionality_indextable.csv\", header=None, names=[\"1\", \"2\"]) \n",
    "df_index34 = pd.read_csv(root+\"directionality_indextable_mix.csv\", header=None, names=[\"1\", \"2\"]) \n",
    "assert(df_index12 == df_index34).all().all()\n",
    "df_indextable = df_index12"
   ]
  },
  {
   "cell_type": "code",
   "execution_count": 10,
   "metadata": {},
   "outputs": [],
   "source": [
    "df_disttheta12 = pd.read_csv(root+\"directionality_distandtheta.csv\", header=None, names=[\"1\", \"2\", \"3\", \"4\", \"5\"]) \n",
    "df_disttheta34 = pd.read_csv(root+\"directionality_distandtheta_mix.csv\", header=None, names=[\"1\", \"2\", \"3\", \"4\", \"5\"]) \n",
    "assert(df_disttheta12 == df_disttheta34).all().all()\n",
    "df_disttheta = df_disttheta12\n",
    "df_disttheta.columns=[\"r\", \"l\", \"lr\", \"theta\", \"alpha\"]"
   ]
  },
  {
   "cell_type": "code",
   "execution_count": 11,
   "metadata": {},
   "outputs": [
    {
     "data": {
      "text/html": [
       "<div>\n",
       "<style scoped>\n",
       "    .dataframe tbody tr th:only-of-type {\n",
       "        vertical-align: middle;\n",
       "    }\n",
       "\n",
       "    .dataframe tbody tr th {\n",
       "        vertical-align: top;\n",
       "    }\n",
       "\n",
       "    .dataframe thead th {\n",
       "        text-align: right;\n",
       "    }\n",
       "</style>\n",
       "<table border=\"1\" class=\"dataframe\">\n",
       "  <thead>\n",
       "    <tr style=\"text-align: right;\">\n",
       "      <th></th>\n",
       "      <th>r</th>\n",
       "      <th>l</th>\n",
       "      <th>lr</th>\n",
       "      <th>theta</th>\n",
       "      <th>alpha</th>\n",
       "    </tr>\n",
       "  </thead>\n",
       "  <tbody>\n",
       "    <tr>\n",
       "      <th>0</th>\n",
       "      <td>93.621579</td>\n",
       "      <td>62.169124</td>\n",
       "      <td>0.664047</td>\n",
       "      <td>53.262291</td>\n",
       "      <td>25.740708</td>\n",
       "    </tr>\n",
       "    <tr>\n",
       "      <th>1</th>\n",
       "      <td>171.761462</td>\n",
       "      <td>156.850247</td>\n",
       "      <td>0.913186</td>\n",
       "      <td>73.424452</td>\n",
       "      <td>71.796081</td>\n",
       "    </tr>\n",
       "    <tr>\n",
       "      <th>2</th>\n",
       "      <td>212.802726</td>\n",
       "      <td>200.960195</td>\n",
       "      <td>0.944350</td>\n",
       "      <td>74.742677</td>\n",
       "      <td>-73.819626</td>\n",
       "    </tr>\n",
       "    <tr>\n",
       "      <th>3</th>\n",
       "      <td>111.094554</td>\n",
       "      <td>86.267027</td>\n",
       "      <td>0.776519</td>\n",
       "      <td>63.828102</td>\n",
       "      <td>-55.388858</td>\n",
       "    </tr>\n",
       "    <tr>\n",
       "      <th>4</th>\n",
       "      <td>98.005102</td>\n",
       "      <td>68.593003</td>\n",
       "      <td>0.699892</td>\n",
       "      <td>60.001722</td>\n",
       "      <td>44.409343</td>\n",
       "    </tr>\n",
       "    <tr>\n",
       "      <th>...</th>\n",
       "      <td>...</td>\n",
       "      <td>...</td>\n",
       "      <td>...</td>\n",
       "      <td>...</td>\n",
       "      <td>...</td>\n",
       "    </tr>\n",
       "    <tr>\n",
       "      <th>112</th>\n",
       "      <td>222.800359</td>\n",
       "      <td>211.518321</td>\n",
       "      <td>0.949363</td>\n",
       "      <td>77.558686</td>\n",
       "      <td>76.883564</td>\n",
       "    </tr>\n",
       "    <tr>\n",
       "      <th>113</th>\n",
       "      <td>122.474487</td>\n",
       "      <td>100.498756</td>\n",
       "      <td>0.820569</td>\n",
       "      <td>64.876031</td>\n",
       "      <td>58.840695</td>\n",
       "    </tr>\n",
       "    <tr>\n",
       "      <th>114</th>\n",
       "      <td>97.185390</td>\n",
       "      <td>67.416615</td>\n",
       "      <td>0.693691</td>\n",
       "      <td>54.090411</td>\n",
       "      <td>-32.275644</td>\n",
       "    </tr>\n",
       "    <tr>\n",
       "      <th>115</th>\n",
       "      <td>178.429258</td>\n",
       "      <td>164.124952</td>\n",
       "      <td>0.919832</td>\n",
       "      <td>73.391678</td>\n",
       "      <td>-71.896237</td>\n",
       "    </tr>\n",
       "    <tr>\n",
       "      <th>116</th>\n",
       "      <td>127.816274</td>\n",
       "      <td>106.943911</td>\n",
       "      <td>0.836700</td>\n",
       "      <td>66.483683</td>\n",
       "      <td>61.517814</td>\n",
       "    </tr>\n",
       "  </tbody>\n",
       "</table>\n",
       "<p>117 rows × 5 columns</p>\n",
       "</div>"
      ],
      "text/plain": [
       "              r           l        lr      theta      alpha\n",
       "0     93.621579   62.169124  0.664047  53.262291  25.740708\n",
       "1    171.761462  156.850247  0.913186  73.424452  71.796081\n",
       "2    212.802726  200.960195  0.944350  74.742677 -73.819626\n",
       "3    111.094554   86.267027  0.776519  63.828102 -55.388858\n",
       "4     98.005102   68.593003  0.699892  60.001722  44.409343\n",
       "..          ...         ...       ...        ...        ...\n",
       "112  222.800359  211.518321  0.949363  77.558686  76.883564\n",
       "113  122.474487  100.498756  0.820569  64.876031  58.840695\n",
       "114   97.185390   67.416615  0.693691  54.090411 -32.275644\n",
       "115  178.429258  164.124952  0.919832  73.391678 -71.896237\n",
       "116  127.816274  106.943911  0.836700  66.483683  61.517814\n",
       "\n",
       "[117 rows x 5 columns]"
      ]
     },
     "execution_count": 11,
     "metadata": {},
     "output_type": "execute_result"
    }
   ],
   "source": [
    "df_disttheta"
   ]
  },
  {
   "cell_type": "code",
   "execution_count": 12,
   "metadata": {},
   "outputs": [
    {
     "data": {
      "text/html": [
       "<div>\n",
       "<style scoped>\n",
       "    .dataframe tbody tr th:only-of-type {\n",
       "        vertical-align: middle;\n",
       "    }\n",
       "\n",
       "    .dataframe tbody tr th {\n",
       "        vertical-align: top;\n",
       "    }\n",
       "\n",
       "    .dataframe thead th {\n",
       "        text-align: right;\n",
       "    }\n",
       "</style>\n",
       "<table border=\"1\" class=\"dataframe\">\n",
       "  <thead>\n",
       "    <tr style=\"text-align: right;\">\n",
       "      <th></th>\n",
       "      <th>caseid</th>\n",
       "    </tr>\n",
       "  </thead>\n",
       "  <tbody>\n",
       "    <tr>\n",
       "      <th>0</th>\n",
       "      <td>OL01__BD_0220</td>\n",
       "    </tr>\n",
       "    <tr>\n",
       "      <th>1</th>\n",
       "      <td>OL01__BD_0340</td>\n",
       "    </tr>\n",
       "    <tr>\n",
       "      <th>2</th>\n",
       "      <td>OL02__BD_0220</td>\n",
       "    </tr>\n",
       "    <tr>\n",
       "      <th>3</th>\n",
       "      <td>OL02__BD_0340</td>\n",
       "    </tr>\n",
       "    <tr>\n",
       "      <th>4</th>\n",
       "      <td>OL02__BD_0460</td>\n",
       "    </tr>\n",
       "    <tr>\n",
       "      <th>...</th>\n",
       "      <td>...</td>\n",
       "    </tr>\n",
       "    <tr>\n",
       "      <th>112</th>\n",
       "      <td>OL31__BD_3580</td>\n",
       "    </tr>\n",
       "    <tr>\n",
       "      <th>113</th>\n",
       "      <td>OL31__BD_3700</td>\n",
       "    </tr>\n",
       "    <tr>\n",
       "      <th>114</th>\n",
       "      <td>OL31__BD_3820</td>\n",
       "    </tr>\n",
       "    <tr>\n",
       "      <th>115</th>\n",
       "      <td>OL31__BD_3940</td>\n",
       "    </tr>\n",
       "    <tr>\n",
       "      <th>116</th>\n",
       "      <td>OL32__BD_3940</td>\n",
       "    </tr>\n",
       "  </tbody>\n",
       "</table>\n",
       "<p>117 rows × 1 columns</p>\n",
       "</div>"
      ],
      "text/plain": [
       "            caseid\n",
       "0    OL01__BD_0220\n",
       "1    OL01__BD_0340\n",
       "2    OL02__BD_0220\n",
       "3    OL02__BD_0340\n",
       "4    OL02__BD_0460\n",
       "..             ...\n",
       "112  OL31__BD_3580\n",
       "113  OL31__BD_3700\n",
       "114  OL31__BD_3820\n",
       "115  OL31__BD_3940\n",
       "116  OL32__BD_3940\n",
       "\n",
       "[117 rows x 1 columns]"
      ]
     },
     "execution_count": 12,
     "metadata": {},
     "output_type": "execute_result"
    }
   ],
   "source": [
    "df_caseid = pd.read_csv(root+\"directionality_caseid.csv\", header=None, names=[\"caseid\"]) \n",
    "df_caseid"
   ]
  },
  {
   "cell_type": "code",
   "execution_count": 13,
   "metadata": {},
   "outputs": [
    {
     "data": {
      "text/html": [
       "<div>\n",
       "<style scoped>\n",
       "    .dataframe tbody tr th:only-of-type {\n",
       "        vertical-align: middle;\n",
       "    }\n",
       "\n",
       "    .dataframe tbody tr th {\n",
       "        vertical-align: top;\n",
       "    }\n",
       "\n",
       "    .dataframe thead th {\n",
       "        text-align: right;\n",
       "    }\n",
       "</style>\n",
       "<table border=\"1\" class=\"dataframe\">\n",
       "  <thead>\n",
       "    <tr style=\"text-align: right;\">\n",
       "      <th></th>\n",
       "      <th>model1</th>\n",
       "      <th>model2</th>\n",
       "      <th>model3</th>\n",
       "      <th>model4</th>\n",
       "    </tr>\n",
       "  </thead>\n",
       "  <tbody>\n",
       "    <tr>\n",
       "      <th>0</th>\n",
       "      <td>0.657634</td>\n",
       "      <td>0.409709</td>\n",
       "      <td>0.842890</td>\n",
       "      <td>0.463046</td>\n",
       "    </tr>\n",
       "    <tr>\n",
       "      <th>1</th>\n",
       "      <td>0.449326</td>\n",
       "      <td>0.319299</td>\n",
       "      <td>0.590592</td>\n",
       "      <td>0.393173</td>\n",
       "    </tr>\n",
       "    <tr>\n",
       "      <th>2</th>\n",
       "      <td>0.639104</td>\n",
       "      <td>0.539748</td>\n",
       "      <td>0.863618</td>\n",
       "      <td>0.706840</td>\n",
       "    </tr>\n",
       "    <tr>\n",
       "      <th>3</th>\n",
       "      <td>0.545452</td>\n",
       "      <td>0.427433</td>\n",
       "      <td>0.702905</td>\n",
       "      <td>0.570035</td>\n",
       "    </tr>\n",
       "    <tr>\n",
       "      <th>4</th>\n",
       "      <td>0.474209</td>\n",
       "      <td>0.436925</td>\n",
       "      <td>0.605564</td>\n",
       "      <td>0.632668</td>\n",
       "    </tr>\n",
       "  </tbody>\n",
       "</table>\n",
       "</div>"
      ],
      "text/plain": [
       "     model1    model2    model3    model4\n",
       "0  0.657634  0.409709  0.842890  0.463046\n",
       "1  0.449326  0.319299  0.590592  0.393173\n",
       "2  0.639104  0.539748  0.863618  0.706840\n",
       "3  0.545452  0.427433  0.702905  0.570035\n",
       "4  0.474209  0.436925  0.605564  0.632668"
      ]
     },
     "execution_count": 13,
     "metadata": {},
     "output_type": "execute_result"
    }
   ],
   "source": [
    "# read inversion results\n",
    "df_Si12 = pd.read_csv(root+\"directionality_Si.csv\", header=None, names=[\"model1\", \"model2\"]) \n",
    "df_Si34 = pd.read_csv(root+\"directionality_Si_mix.csv\", header=None, names=[\"model3\", \"model4\"]) \n",
    "df_Si = df_Si12.join(df_Si34)\n",
    "df_Si.head()"
   ]
  },
  {
   "cell_type": "code",
   "execution_count": 14,
   "metadata": {},
   "outputs": [
    {
     "data": {
      "text/html": [
       "<div>\n",
       "<style scoped>\n",
       "    .dataframe tbody tr th:only-of-type {\n",
       "        vertical-align: middle;\n",
       "    }\n",
       "\n",
       "    .dataframe tbody tr th {\n",
       "        vertical-align: top;\n",
       "    }\n",
       "\n",
       "    .dataframe thead th {\n",
       "        text-align: right;\n",
       "    }\n",
       "</style>\n",
       "<table border=\"1\" class=\"dataframe\">\n",
       "  <thead>\n",
       "    <tr style=\"text-align: right;\">\n",
       "      <th></th>\n",
       "      <th>model2</th>\n",
       "      <th>model4</th>\n",
       "    </tr>\n",
       "  </thead>\n",
       "  <tbody>\n",
       "    <tr>\n",
       "      <th>0</th>\n",
       "      <td>1.601549</td>\n",
       "      <td>1.828613</td>\n",
       "    </tr>\n",
       "    <tr>\n",
       "      <th>1</th>\n",
       "      <td>1.595717</td>\n",
       "      <td>1.783045</td>\n",
       "    </tr>\n",
       "    <tr>\n",
       "      <th>2</th>\n",
       "      <td>1.273095</td>\n",
       "      <td>1.398272</td>\n",
       "    </tr>\n",
       "    <tr>\n",
       "      <th>3</th>\n",
       "      <td>1.379806</td>\n",
       "      <td>1.450298</td>\n",
       "    </tr>\n",
       "    <tr>\n",
       "      <th>4</th>\n",
       "      <td>1.004612</td>\n",
       "      <td>1.047277</td>\n",
       "    </tr>\n",
       "  </tbody>\n",
       "</table>\n",
       "</div>"
      ],
      "text/plain": [
       "     model2    model4\n",
       "0  1.601549  1.828613\n",
       "1  1.595717  1.783045\n",
       "2  1.273095  1.398272\n",
       "3  1.379806  1.450298\n",
       "4  1.004612  1.047277"
      ]
     },
     "execution_count": 14,
     "metadata": {},
     "output_type": "execute_result"
    }
   ],
   "source": [
    "df_Tj12 = pd.read_csv(root+\"directionality_Tj.csv\", header=None, names=[\"model2\"]) \n",
    "df_Tj34 = pd.read_csv(root+\"directionality_Tj_mix.csv\", header=None, names=[\"model4\"]) \n",
    "df_Tj = df_Tj12.join(df_Tj34)\n",
    "df_Tj.head()"
   ]
  },
  {
   "cell_type": "code",
   "execution_count": 15,
   "metadata": {},
   "outputs": [
    {
     "data": {
      "text/html": [
       "<div>\n",
       "<style scoped>\n",
       "    .dataframe tbody tr th:only-of-type {\n",
       "        vertical-align: middle;\n",
       "    }\n",
       "\n",
       "    .dataframe tbody tr th {\n",
       "        vertical-align: top;\n",
       "    }\n",
       "\n",
       "    .dataframe thead th {\n",
       "        text-align: right;\n",
       "    }\n",
       "</style>\n",
       "<table border=\"1\" class=\"dataframe\">\n",
       "  <thead>\n",
       "    <tr style=\"text-align: right;\">\n",
       "      <th></th>\n",
       "      <th>model1</th>\n",
       "      <th>model2</th>\n",
       "      <th>model3</th>\n",
       "      <th>model4</th>\n",
       "    </tr>\n",
       "  </thead>\n",
       "  <tbody>\n",
       "    <tr>\n",
       "      <th>0</th>\n",
       "      <td>0.360640</td>\n",
       "      <td>0.361445</td>\n",
       "      <td>0.360543</td>\n",
       "      <td>0.360363</td>\n",
       "    </tr>\n",
       "    <tr>\n",
       "      <th>1</th>\n",
       "      <td>0.047677</td>\n",
       "      <td>0.047958</td>\n",
       "      <td>0.053411</td>\n",
       "      <td>0.054858</td>\n",
       "    </tr>\n",
       "    <tr>\n",
       "      <th>2</th>\n",
       "      <td>0.039738</td>\n",
       "      <td>0.034917</td>\n",
       "      <td>0.043633</td>\n",
       "      <td>0.036063</td>\n",
       "    </tr>\n",
       "    <tr>\n",
       "      <th>3</th>\n",
       "      <td>0.202196</td>\n",
       "      <td>0.178312</td>\n",
       "      <td>0.210701</td>\n",
       "      <td>0.178430</td>\n",
       "    </tr>\n",
       "    <tr>\n",
       "      <th>4</th>\n",
       "      <td>0.233676</td>\n",
       "      <td>0.258296</td>\n",
       "      <td>0.238012</td>\n",
       "      <td>0.256919</td>\n",
       "    </tr>\n",
       "    <tr>\n",
       "      <th>...</th>\n",
       "      <td>...</td>\n",
       "      <td>...</td>\n",
       "      <td>...</td>\n",
       "      <td>...</td>\n",
       "    </tr>\n",
       "    <tr>\n",
       "      <th>112</th>\n",
       "      <td>0.030014</td>\n",
       "      <td>0.028853</td>\n",
       "      <td>0.034073</td>\n",
       "      <td>0.030564</td>\n",
       "    </tr>\n",
       "    <tr>\n",
       "      <th>113</th>\n",
       "      <td>0.145387</td>\n",
       "      <td>0.135388</td>\n",
       "      <td>0.156056</td>\n",
       "      <td>0.137721</td>\n",
       "    </tr>\n",
       "    <tr>\n",
       "      <th>114</th>\n",
       "      <td>0.308770</td>\n",
       "      <td>0.319441</td>\n",
       "      <td>0.309951</td>\n",
       "      <td>0.316737</td>\n",
       "    </tr>\n",
       "    <tr>\n",
       "      <th>115</th>\n",
       "      <td>0.044649</td>\n",
       "      <td>0.045151</td>\n",
       "      <td>0.049939</td>\n",
       "      <td>0.052580</td>\n",
       "    </tr>\n",
       "    <tr>\n",
       "      <th>116</th>\n",
       "      <td>0.113268</td>\n",
       "      <td>0.119324</td>\n",
       "      <td>0.119324</td>\n",
       "      <td>0.119324</td>\n",
       "    </tr>\n",
       "  </tbody>\n",
       "</table>\n",
       "<p>117 rows × 4 columns</p>\n",
       "</div>"
      ],
      "text/plain": [
       "       model1    model2    model3    model4\n",
       "0    0.360640  0.361445  0.360543  0.360363\n",
       "1    0.047677  0.047958  0.053411  0.054858\n",
       "2    0.039738  0.034917  0.043633  0.036063\n",
       "3    0.202196  0.178312  0.210701  0.178430\n",
       "4    0.233676  0.258296  0.238012  0.256919\n",
       "..        ...       ...       ...       ...\n",
       "112  0.030014  0.028853  0.034073  0.030564\n",
       "113  0.145387  0.135388  0.156056  0.137721\n",
       "114  0.308770  0.319441  0.309951  0.316737\n",
       "115  0.044649  0.045151  0.049939  0.052580\n",
       "116  0.113268  0.119324  0.119324  0.119324\n",
       "\n",
       "[117 rows x 4 columns]"
      ]
     },
     "execution_count": 15,
     "metadata": {},
     "output_type": "execute_result"
    }
   ],
   "source": [
    "df_Akest12 = pd.read_csv(root+\"directionality_Akest.csv\", header=None, names=[\"model1\", \"model2\"]) \n",
    "df_Akest34 = pd.read_csv(root+\"directionality_Akest_mix.csv\", header=None, names=[\"model3\", \"model4\"]) \n",
    "df_Akest = df_Akest12.join(df_Akest34)\n",
    "df_Akest.apply(lambda x: x*1e3) # showing the amplitude in (mm/s)"
   ]
  },
  {
   "cell_type": "code",
   "execution_count": 16,
   "metadata": {},
   "outputs": [],
   "source": [
    "df_Aijobs = pd.read_csv(root+\"Aijobs.csv\", header=None) \n",
    "Aijobs = df_Aijobs.values\n",
    "Ns, Nb = Aijobs.shape"
   ]
  },
  {
   "cell_type": "markdown",
   "metadata": {},
   "source": [
    "**NOTE** The unit of residual is (m/s) as the Matlab's `lsqlin` and `lsqnonlin` outputs the vector of the residual of $Cx - d$."
   ]
  },
  {
   "cell_type": "code",
   "execution_count": 17,
   "metadata": {},
   "outputs": [
    {
     "data": {
      "text/plain": [
       "model1    0.083802\n",
       "model2    0.034177\n",
       "model3    0.077803\n",
       "model4    0.024954\n",
       "dtype: float64"
      ]
     },
     "execution_count": 17,
     "metadata": {},
     "output_type": "execute_result"
    }
   ],
   "source": [
    "df_res12 = pd.read_csv(root+\"directionality_residual.csv\", header=None, names=[\"model1\", \"model2\"]) \n",
    "df_res34 = pd.read_csv(root+\"directionality_residual_mix.csv\", header=None, names=[\"model3\", \"model4\"]) \n",
    "df_res = df_res12.join(df_res34)\n",
    "df_res.head()\n",
    "np.sqrt(np.square(df_res).sum(axis=0)) * 1e3 # [mm/s]"
   ]
  },
  {
   "cell_type": "code",
   "execution_count": null,
   "metadata": {},
   "outputs": [],
   "source": []
  },
  {
   "cell_type": "code",
   "execution_count": 18,
   "metadata": {},
   "outputs": [
    {
     "data": {
      "text/html": [
       "<div>\n",
       "<style scoped>\n",
       "    .dataframe tbody tr th:only-of-type {\n",
       "        vertical-align: middle;\n",
       "    }\n",
       "\n",
       "    .dataframe tbody tr th {\n",
       "        vertical-align: top;\n",
       "    }\n",
       "\n",
       "    .dataframe thead th {\n",
       "        text-align: right;\n",
       "    }\n",
       "</style>\n",
       "<table border=\"1\" class=\"dataframe\">\n",
       "  <thead>\n",
       "    <tr style=\"text-align: right;\">\n",
       "      <th></th>\n",
       "      <th>model3</th>\n",
       "      <th>model4</th>\n",
       "    </tr>\n",
       "  </thead>\n",
       "  <tbody>\n",
       "    <tr>\n",
       "      <th>0</th>\n",
       "      <td>3.739906</td>\n",
       "      <td>3.711051</td>\n",
       "    </tr>\n",
       "  </tbody>\n",
       "</table>\n",
       "</div>"
      ],
      "text/plain": [
       "     model3    model4\n",
       "0  3.739906  3.711051"
      ]
     },
     "execution_count": 18,
     "metadata": {},
     "output_type": "execute_result"
    }
   ],
   "source": [
    "# optimized source duration associated with the aperture effect term\n",
    "df_TR = pd.read_csv(root+\"directionality_TR_mix.csv\", header=None, names=[\"model3\",\"model4\"]) \n",
    "df_TR.apply(lambda x: x*1e6).head()"
   ]
  },
  {
   "cell_type": "code",
   "execution_count": 19,
   "metadata": {},
   "outputs": [
    {
     "data": {
      "text/html": [
       "<div>\n",
       "<style scoped>\n",
       "    .dataframe tbody tr th:only-of-type {\n",
       "        vertical-align: middle;\n",
       "    }\n",
       "\n",
       "    .dataframe tbody tr th {\n",
       "        vertical-align: top;\n",
       "    }\n",
       "\n",
       "    .dataframe thead th {\n",
       "        text-align: right;\n",
       "    }\n",
       "</style>\n",
       "<table border=\"1\" class=\"dataframe\">\n",
       "  <thead>\n",
       "    <tr style=\"text-align: right;\">\n",
       "      <th></th>\n",
       "      <th>model1</th>\n",
       "      <th>model2</th>\n",
       "      <th>model1c</th>\n",
       "      <th>model2c</th>\n",
       "      <th>model3</th>\n",
       "      <th>model4</th>\n",
       "      <th>model3c</th>\n",
       "      <th>model4c</th>\n",
       "    </tr>\n",
       "  </thead>\n",
       "  <tbody>\n",
       "    <tr>\n",
       "      <th>0</th>\n",
       "      <td>-2689.744438</td>\n",
       "      <td>-2835.618086</td>\n",
       "      <td>-2664.601581</td>\n",
       "      <td>-2675.618086</td>\n",
       "      <td>-2705.12464</td>\n",
       "      <td>-2907.217565</td>\n",
       "      <td>-2678.088495</td>\n",
       "      <td>-2738.982271</td>\n",
       "    </tr>\n",
       "  </tbody>\n",
       "</table>\n",
       "</div>"
      ],
      "text/plain": [
       "        model1       model2      model1c      model2c      model3  \\\n",
       "0 -2689.744438 -2835.618086 -2664.601581 -2675.618086 -2705.12464   \n",
       "\n",
       "        model4      model3c      model4c  \n",
       "0 -2907.217565 -2678.088495 -2738.982271  "
      ]
     },
     "execution_count": 19,
     "metadata": {},
     "output_type": "execute_result"
    }
   ],
   "source": [
    "df_AIC12 = pd.read_csv(root+\"directionality_AIC.csv\", header=None, names=[\"model1\", \"model2\", \"model1c\", \"model2c\"]) \n",
    "df_AIC34 = pd.read_csv(root+\"directionality_AIC_mix.csv\", header=None, names=[\"model3\", \"model4\", \"model3c\", \"model4c\"]) \n",
    "df_AIC = df_AIC12.join(df_AIC34)\n",
    "df_AIC.head()"
   ]
  },
  {
   "cell_type": "code",
   "execution_count": 20,
   "metadata": {},
   "outputs": [],
   "source": [
    "df_Aijsyn = pd.read_csv(root+\"Aijsyn.csv\", header=None) \n",
    "df_Aijobs = pd.read_csv(root+\"Aijobs.csv\", header=None) \n",
    "\n",
    "Aijsyn = df_Aijsyn.values\n",
    "Aijobs = df_Aijobs.values\n",
    "Aksyn = []\n",
    "Akobs = []\n",
    "for _, row in df_indextable.iterrows():\n",
    "    i = row['1']-1\n",
    "    j = row['2']-1\n",
    "    Aksyn.append(Aijsyn[i, j])\n",
    "    Akobs.append(Aijobs[i, j])"
   ]
  },
  {
   "cell_type": "code",
   "execution_count": 21,
   "metadata": {},
   "outputs": [],
   "source": [
    "# Read Channel Index\n",
    "df_array = pd.read_csv(channel_finame)\n",
    "\n",
    "channel_loc={}\n",
    "\n",
    "for i in range(len(df_array)):\n",
    "    stnm = df_array.iloc[i].Instrument_Label\n",
    "    xtemp = df_array.iloc[i].North.astype('float')\n",
    "    ytemp = df_array.iloc[i].East.astype('float')\n",
    "    ztemp = df_array.iloc[i].Down.astype('float')\n",
    "    channel_loc[stnm] = [xtemp, ytemp, ztemp]\n",
    "    \n",
    "AEsensors = list(channel_loc.keys())"
   ]
  },
  {
   "cell_type": "code",
   "execution_count": 22,
   "metadata": {},
   "outputs": [
    {
     "data": {
      "text/html": [
       "<div>\n",
       "<style scoped>\n",
       "    .dataframe tbody tr th:only-of-type {\n",
       "        vertical-align: middle;\n",
       "    }\n",
       "\n",
       "    .dataframe tbody tr th {\n",
       "        vertical-align: top;\n",
       "    }\n",
       "\n",
       "    .dataframe thead th {\n",
       "        text-align: right;\n",
       "    }\n",
       "</style>\n",
       "<table border=\"1\" class=\"dataframe\">\n",
       "  <thead>\n",
       "    <tr style=\"text-align: right;\">\n",
       "      <th></th>\n",
       "      <th>datacase</th>\n",
       "      <th>X</th>\n",
       "      <th>Y</th>\n",
       "      <th>Z</th>\n",
       "      <th>Er</th>\n",
       "    </tr>\n",
       "  </thead>\n",
       "  <tbody>\n",
       "    <tr>\n",
       "      <th>0</th>\n",
       "      <td>BD_0220</td>\n",
       "      <td>0.217</td>\n",
       "      <td>-0.006</td>\n",
       "      <td>0.0</td>\n",
       "      <td>3.247865e-08</td>\n",
       "    </tr>\n",
       "    <tr>\n",
       "      <th>1</th>\n",
       "      <td>BD_0340</td>\n",
       "      <td>0.339</td>\n",
       "      <td>0.001</td>\n",
       "      <td>0.0</td>\n",
       "      <td>9.053873e-08</td>\n",
       "    </tr>\n",
       "    <tr>\n",
       "      <th>2</th>\n",
       "      <td>BD_0460</td>\n",
       "      <td>0.458</td>\n",
       "      <td>0.001</td>\n",
       "      <td>0.0</td>\n",
       "      <td>1.271779e-07</td>\n",
       "    </tr>\n",
       "    <tr>\n",
       "      <th>3</th>\n",
       "      <td>BD_0580</td>\n",
       "      <td>0.578</td>\n",
       "      <td>0.004</td>\n",
       "      <td>0.0</td>\n",
       "      <td>1.662998e-09</td>\n",
       "    </tr>\n",
       "    <tr>\n",
       "      <th>4</th>\n",
       "      <td>BD_0700</td>\n",
       "      <td>0.698</td>\n",
       "      <td>0.000</td>\n",
       "      <td>0.0</td>\n",
       "      <td>1.096112e-08</td>\n",
       "    </tr>\n",
       "  </tbody>\n",
       "</table>\n",
       "</div>"
      ],
      "text/plain": [
       "  datacase      X      Y    Z            Er\n",
       "0  BD_0220  0.217 -0.006  0.0  3.247865e-08\n",
       "1  BD_0340  0.339  0.001  0.0  9.053873e-08\n",
       "2  BD_0460  0.458  0.001  0.0  1.271779e-07\n",
       "3  BD_0580  0.578  0.004  0.0  1.662998e-09\n",
       "4  BD_0700  0.698  0.000  0.0  1.096112e-08"
      ]
     },
     "execution_count": 22,
     "metadata": {},
     "output_type": "execute_result"
    }
   ],
   "source": [
    "# Read source location\n",
    "# NOTE: Aij is assembled with j sorted from BD-0223 to BD-2973.\n",
    "sourceloc_finame = rootdir+'../data/balldrop_locations.csv'#'../data/balldrop_events_isocoord.csv'\n",
    "df_location = pd.read_csv(sourceloc_finame, index_col=0)\n",
    "df_location.head()"
   ]
  },
  {
   "cell_type": "code",
   "execution_count": 23,
   "metadata": {},
   "outputs": [
    {
     "data": {
      "text/plain": [
       "(117, 32, 32)"
      ]
     },
     "execution_count": 23,
     "metadata": {},
     "output_type": "execute_result"
    }
   ],
   "source": [
    "# Compute constants\n",
    "Nd = len(df_indextable)\n",
    "Ns = df_indextable['1'].max()\n",
    "Nb = df_indextable['2'].max()\n",
    "Nd, Ns, Nb"
   ]
  },
  {
   "cell_type": "markdown",
   "metadata": {},
   "source": [
    "# Define the aperture effect factor"
   ]
  },
  {
   "cell_type": "code",
   "execution_count": 24,
   "metadata": {},
   "outputs": [],
   "source": [
    "# sensitivity of surface effect\n",
    "def incidentangle_scalingfactor_analytic(v, theta, TR, R):\n",
    "    if theta==0:\n",
    "        return 1.0\n",
    "    else:\n",
    "        va = v/np.sin(theta)\n",
    "        J1 = mp.besselj(1, (2*np.pi*R)/(va*TR))\n",
    "        return  ((va * TR)/(np.pi*R)) * J1"
   ]
  },
  {
   "cell_type": "code",
   "execution_count": 25,
   "metadata": {},
   "outputs": [],
   "source": [
    "v = 6200\n",
    "R = 6.35e-3 # 8.0e-3\n",
    "TR_model4 = df_TR[\"model4\"].values[0]\n",
    "theta_vec=np.linspace(0, 90, 101)\n",
    "\n",
    "kvec = np.array([incidentangle_scalingfactor_analytic(v, np.deg2rad(x), TR_model4, R) for x in theta_vec])"
   ]
  },
  {
   "cell_type": "code",
   "execution_count": 26,
   "metadata": {},
   "outputs": [],
   "source": [
    "# define freqband\n",
    "# freqmin = 0.01e6 \n",
    "# freqmax = 0.6e6 #1.0e6\n",
    "# freqband = '{:.0f}-{:.0f}'.format(freqmin/1e3, freqmax/1e3)\n",
    "vmean = 6200\n",
    "pwin_len_pre = 5e-3 #[ms]: buffer of p window length to estimate gain\n",
    "pwin_len = 15e-3 #[ms]: p window length to estimate gain\n",
    "dist_p_threshold = 200 #300 #[mm]: use tpick within this threshold, otherwise use theoretical p arrival \n"
   ]
  },
  {
   "cell_type": "code",
   "execution_count": 27,
   "metadata": {},
   "outputs": [],
   "source": [
    "# Set case id pairs"
   ]
  },
  {
   "cell_type": "code",
   "execution_count": 28,
   "metadata": {},
   "outputs": [],
   "source": [
    "# parse beteeen index i and j and caseid\n",
    "cij ={}\n",
    "\n",
    "for index, row in df_indextable.iterrows():\n",
    "    i, j = row\n",
    "    stcaseid = df_caseid.iloc[index].values[0]\n",
    "    stnm, caseid = stcaseid.split('__')\n",
    "    if not stcaseid in cij:\n",
    "        # append as new stcase\n",
    "        cij[stcaseid] = [i, j]"
   ]
  },
  {
   "cell_type": "code",
   "execution_count": 29,
   "metadata": {},
   "outputs": [
    {
     "data": {
      "text/html": [
       "<div>\n",
       "<style scoped>\n",
       "    .dataframe tbody tr th:only-of-type {\n",
       "        vertical-align: middle;\n",
       "    }\n",
       "\n",
       "    .dataframe tbody tr th {\n",
       "        vertical-align: top;\n",
       "    }\n",
       "\n",
       "    .dataframe thead th {\n",
       "        text-align: right;\n",
       "    }\n",
       "</style>\n",
       "<table border=\"1\" class=\"dataframe\">\n",
       "  <thead>\n",
       "    <tr style=\"text-align: right;\">\n",
       "      <th></th>\n",
       "      <th>1</th>\n",
       "      <th>2</th>\n",
       "    </tr>\n",
       "  </thead>\n",
       "  <tbody>\n",
       "    <tr>\n",
       "      <th>0</th>\n",
       "      <td>1</td>\n",
       "      <td>1</td>\n",
       "    </tr>\n",
       "    <tr>\n",
       "      <th>1</th>\n",
       "      <td>1</td>\n",
       "      <td>2</td>\n",
       "    </tr>\n",
       "    <tr>\n",
       "      <th>2</th>\n",
       "      <td>2</td>\n",
       "      <td>1</td>\n",
       "    </tr>\n",
       "    <tr>\n",
       "      <th>3</th>\n",
       "      <td>2</td>\n",
       "      <td>2</td>\n",
       "    </tr>\n",
       "    <tr>\n",
       "      <th>4</th>\n",
       "      <td>2</td>\n",
       "      <td>3</td>\n",
       "    </tr>\n",
       "    <tr>\n",
       "      <th>...</th>\n",
       "      <td>...</td>\n",
       "      <td>...</td>\n",
       "    </tr>\n",
       "    <tr>\n",
       "      <th>112</th>\n",
       "      <td>31</td>\n",
       "      <td>29</td>\n",
       "    </tr>\n",
       "    <tr>\n",
       "      <th>113</th>\n",
       "      <td>31</td>\n",
       "      <td>30</td>\n",
       "    </tr>\n",
       "    <tr>\n",
       "      <th>114</th>\n",
       "      <td>31</td>\n",
       "      <td>31</td>\n",
       "    </tr>\n",
       "    <tr>\n",
       "      <th>115</th>\n",
       "      <td>31</td>\n",
       "      <td>32</td>\n",
       "    </tr>\n",
       "    <tr>\n",
       "      <th>116</th>\n",
       "      <td>32</td>\n",
       "      <td>32</td>\n",
       "    </tr>\n",
       "  </tbody>\n",
       "</table>\n",
       "<p>117 rows × 2 columns</p>\n",
       "</div>"
      ],
      "text/plain": [
       "      1   2\n",
       "0     1   1\n",
       "1     1   2\n",
       "2     2   1\n",
       "3     2   2\n",
       "4     2   3\n",
       "..   ..  ..\n",
       "112  31  29\n",
       "113  31  30\n",
       "114  31  31\n",
       "115  31  32\n",
       "116  32  32\n",
       "\n",
       "[117 rows x 2 columns]"
      ]
     },
     "execution_count": 29,
     "metadata": {},
     "output_type": "execute_result"
    }
   ],
   "source": [
    "df_indextable"
   ]
  },
  {
   "cell_type": "code",
   "execution_count": 30,
   "metadata": {},
   "outputs": [
    {
     "data": {
      "text/plain": [
       "117"
      ]
     },
     "execution_count": 30,
     "metadata": {},
     "output_type": "execute_result"
    }
   ],
   "source": [
    "len(cij)"
   ]
  },
  {
   "cell_type": "code",
   "execution_count": 31,
   "metadata": {},
   "outputs": [
    {
     "data": {
      "text/plain": [
       "75.6445284922067"
      ]
     },
     "execution_count": 31,
     "metadata": {},
     "output_type": "execute_result"
    }
   ],
   "source": [
    "kk = 100\n",
    "df_disttheta[\"theta\"][kk]\n"
   ]
  },
  {
   "cell_type": "markdown",
   "metadata": {},
   "source": [
    "# Compute the spectrum of observation and synthetic P waveform"
   ]
  },
  {
   "cell_type": "markdown",
   "metadata": {},
   "source": [
    "## Example of processing\n",
    "We process an example of the pair to extract the meta data of the waveforms."
   ]
  },
  {
   "cell_type": "code",
   "execution_count": 32,
   "metadata": {},
   "outputs": [],
   "source": [
    "stnm_prelim = \"OL23\""
   ]
  },
  {
   "cell_type": "code",
   "execution_count": 33,
   "metadata": {},
   "outputs": [
    {
     "name": "stdout",
     "output_type": "stream",
     "text": [
      "OL23__BD_1420\n",
      "OL23__BD_2020\n",
      "OL23__BD_2140\n"
     ]
    }
   ],
   "source": [
    "finame = os.path.join(bdwaveform_datadir, \"{}_bdwaveform_longpretrig.pickle\".format(stnm_prelim)) \n",
    "st = read(finame, format=\"PICKLE\")\n",
    "\n",
    "# prefilitering traces\n",
    "# demean\n",
    "st.detrend(type='demean')\n",
    "#     # apply bandpass\n",
    "#     st.filter(\"bandpass\", freqmin=freqmin, freqmax=freqmax, corners=4, zerophase=True)    \n",
    "# apply taper\n",
    "st.taper(max_percentage=0.001)   \n",
    "\n",
    "# Select observation and synthetic\n",
    "st_obs = st.select(channel='OY')\n",
    "st_syn = st.select(channel='SY')\n",
    "\n",
    "# Extract the traces used in the Si inversion\n",
    "for i, tr_obs in enumerate(st_obs):\n",
    "    if tr_obs.stats.dataindex not in np.squeeze(df_caseid.values):\n",
    "        print(tr_obs.stats.dataindex)\n",
    "        st_obs.remove(tr_obs)\n",
    "\n"
   ]
  },
  {
   "cell_type": "code",
   "execution_count": 34,
   "metadata": {},
   "outputs": [],
   "source": [
    "# select observation trace\n",
    "tr_obs = st_obs[1]"
   ]
  },
  {
   "cell_type": "code",
   "execution_count": 35,
   "metadata": {},
   "outputs": [
    {
     "name": "stdout",
     "output_type": "stream",
     "text": [
      "[0.677283   0.61629965 0.63251183 0.57564999]\n"
     ]
    }
   ],
   "source": [
    "# Read amplitude correction factors\n",
    "\n",
    "dataindex = tr_obs.stats.dataindex\n",
    "tr_syn = list(filter(lambda tr: tr.stats.dataindex == dataindex, st_syn))[0]\n",
    "\n",
    "dist = tr_obs.stats.dist #[mm]\n",
    "\n",
    "if dist <= dist_p_threshold:\n",
    "    p_theoretical = tr_obs.stats.tpick\n",
    "else:\n",
    "    p_theoretical = dist/vmean\n",
    "\n",
    "tvec = np.array(range(0, tr_syn.stats.npts))*tr_syn.stats.delta*1e3 - tr_obs.stats.pretrigger #[ms]\n",
    "\n",
    "#---compute correction coefficient from Si, Tj and alpha(theta)---#\n",
    "amp_correction = np.zeros(4) # 4 models\n",
    "ii, jj = [cij[dataindex][0]-1, cij[dataindex][1]-1]\n",
    "kk = df_caseid.index[df_caseid.caseid == dataindex][0]\n",
    "\n",
    "Asyn = Aksyn[kk]\n",
    "\n",
    "# model 1: gain model\n",
    "Si1 = df_Si[\"model1\"][ii]\n",
    "amp_correction[0] = Si1\n",
    "\n",
    "# model 3: directionality-dominant\n",
    "Si3 = df_Si[\"model3\"][ii]\n",
    "theta3 = df_disttheta[\"theta\"][kk]\n",
    "#             alpha3 = model_bell(theta3, 1.0, a3, b3) # bell-shape \n",
    "#             amp_correction[1] = Si3*alpha3\n",
    "TR3 = df_TR[\"model3\"][0]\n",
    "k3 = incidentangle_scalingfactor_analytic(v, np.deg2rad(theta3), TR3, R)\n",
    "amp_correction[1] = Si3*k3\n",
    "#model 2: source impact-dominant\n",
    "Si2 = df_Si[\"model2\"][ii]\n",
    "Tj2 = df_Tj[\"model2\"][jj]\n",
    "amp_correction[2] = Si2*Tj2\n",
    "\n",
    "# model 4: mix model\n",
    "Si4 = df_Si[\"model4\"][ii]\n",
    "Tj4 = df_Tj[\"model4\"][jj]\n",
    "theta4 = df_disttheta[\"theta\"][kk]\n",
    "#             alpha4 = model_bell(theta4, 1.0, a4, b4) # bell-shape \n",
    "TR4 = df_TR[\"model4\"][0]\n",
    "k4 = incidentangle_scalingfactor_analytic(v, np.deg2rad(theta4), TR4, R)\n",
    "\n",
    "amp_correction[3] = Si4*Tj4*k4\n",
    "\n",
    "print(amp_correction)"
   ]
  },
  {
   "cell_type": "code",
   "execution_count": null,
   "metadata": {},
   "outputs": [],
   "source": []
  },
  {
   "cell_type": "code",
   "execution_count": 36,
   "metadata": {},
   "outputs": [],
   "source": [
    "st0 = tr_obs.stats.starttime\n",
    "pt = timedelta(milliseconds = tr_obs.stats.pretrigger)\n",
    "\n",
    "dist = tr_obs.stats.dist #[mm]\n",
    "\n",
    "if dist <= dist_p_threshold:\n",
    "    p_theoretical = tr_obs.stats.tpick\n",
    "else:\n",
    "    p_theoretical = dist/vmean\n",
    "\n",
    "starttime = st0+pt+(p_theoretical-pwin_len_pre)*1e-3\n",
    "endtime = st0+pt+(p_theoretical-pwin_len_pre+pwin_len)*1e-3\n",
    "\n",
    "tr_obs_trim = tr_obs.copy() # avoid error in multiple trim\n",
    "tr_obs_trim.trim(starttime, endtime, pad=True, fill_value=0.0)\n",
    "tr_obs_trim.data /= amp_correction[-1]\n",
    "\n",
    "# trim synthetic data\n",
    "tr_syn_trim = tr_syn.copy() # avoid error in multiple trim\n",
    "tr_syn_trim.trim(starttime, endtime, pad=True, fill_value=0.0)\n",
    "    \n",
    "# trim the observation noise\n",
    "noise_Pbackward = 2e-6\n",
    "noise_winlen = 15e-6 # [s]\n",
    "if p_theoretical*1e-3-noise_Pbackward < noise_winlen:\n",
    "    print(\"P_theoretical is smaller than noise winlen\")\n",
    "    \n",
    "tr_obs_noise = tr_obs.copy() # avoid error in multiple trim\n",
    "\n",
    "noise_end_time = st0+pt+p_theoretical*1e-3-noise_Pbackward\n",
    "noise_start_time = noise_end_time - noise_winlen\n",
    "\n",
    "tr_obs_noise.trim(noise_start_time, noise_end_time, pad=True, fill_value=0.0) # trim before the p wave window\n",
    "tr_obs_noise.data /= amp_correction[-1]\n",
    "\n"
   ]
  },
  {
   "cell_type": "code",
   "execution_count": 37,
   "metadata": {},
   "outputs": [
    {
     "data": {
      "text/plain": [
       "BIAX.OL23.1660.OY | 1970-01-01T00:00:00.00000000Z - 1970-01-01T00:00:00.00045000Z | 10000000.0 Hz, 4501 samples"
      ]
     },
     "execution_count": 37,
     "metadata": {},
     "output_type": "execute_result"
    }
   ],
   "source": [
    "tr_obs"
   ]
  },
  {
   "cell_type": "code",
   "execution_count": 38,
   "metadata": {},
   "outputs": [
    {
     "data": {
      "text/plain": [
       "BIAX.OL23.1660.OY | 1970-01-01T00:00:00.00007000Z - 1970-01-01T00:00:00.00008500Z | 10000000.0 Hz, 151 samples"
      ]
     },
     "execution_count": 38,
     "metadata": {},
     "output_type": "execute_result"
    }
   ],
   "source": [
    "tr_obs_trim"
   ]
  },
  {
   "cell_type": "code",
   "execution_count": 39,
   "metadata": {},
   "outputs": [
    {
     "data": {
      "text/plain": [
       "Text(0.5, 1.0, 'OL23__BD_1660')"
      ]
     },
     "execution_count": 39,
     "metadata": {},
     "output_type": "execute_result"
    },
    {
     "data": {
      "image/png": "[encoded data removed]",
      "text/plain": [
       "<Figure size 640x480 with 1 Axes>"
      ]
     },
     "metadata": {},
     "output_type": "display_data"
    }
   ],
   "source": [
    "# Check the trimming\n",
    "plt.plot(tr_obs.times()*1e6, tr_obs.data/amp_correction[-1], \"k-\", label=\"raw\")\n",
    "plt.plot((pt.microseconds+(p_theoretical-pwin_len_pre)*1e3) + tr_obs_trim.times()*1e6, tr_obs_trim.data, \"r--\", label=\"trimmed\")\n",
    "plt.xlim([60, 90])\n",
    "plt.ylim([-5e-4, 5e-4])\n",
    "plt.legend(loc=0)\n",
    "plt.title(f\"{tr_obs.stats.dataindex}\")"
   ]
  },
  {
   "cell_type": "code",
   "execution_count": null,
   "metadata": {},
   "outputs": [],
   "source": []
  },
  {
   "cell_type": "code",
   "execution_count": 40,
   "metadata": {},
   "outputs": [
    {
     "data": {
      "text/plain": [
       "BIAX.OL23.1660.OY | 1970-01-01T00:00:00.00005800Z - 1970-01-01T00:00:00.00007300Z | 10000000.0 Hz, 151 samples"
      ]
     },
     "execution_count": 40,
     "metadata": {},
     "output_type": "execute_result"
    }
   ],
   "source": [
    "## Preprocessing\n",
    "tr_obs_trim.detrend(type=\"linear\").taper(max_percentage = 0.05).detrend(type=\"demean\")\n",
    "tr_syn_trim.detrend(type=\"linear\").taper(max_percentage = 0.05).detrend(type=\"demean\")\n",
    "tr_obs_noise.detrend(type=\"linear\").taper(max_percentage = 0.05).detrend(type=\"demean\")"
   ]
  },
  {
   "cell_type": "code",
   "execution_count": 41,
   "metadata": {},
   "outputs": [
    {
     "data": {
      "text/plain": [
       "5"
      ]
     },
     "execution_count": 41,
     "metadata": {},
     "output_type": "execute_result"
    }
   ],
   "source": [
    "# Compute maximum cross-correlation function\n",
    "taper_percent = 0.5\n",
    "max_lag_shift = 30\n",
    "\n",
    "cc = correlate(tr_obs_trim.taper(max_percentage = taper_percent, type='hann'), tr_syn_trim.taper(max_percentage = taper_percent, type='hann'), max_lag_shift, demean=True, normalize='naive') # the order is 1. obs and 2. syn\n",
    "N_shift, _ = xcorr_max(cc,  abs_max=False)\n",
    "N_shift"
   ]
  },
  {
   "cell_type": "code",
   "execution_count": 42,
   "metadata": {},
   "outputs": [
    {
     "data": {
      "text/plain": [
       "<matplotlib.legend.Legend at 0x1527c5c10>"
      ]
     },
     "execution_count": 42,
     "metadata": {},
     "output_type": "execute_result"
    },
    {
     "data": {
      "image/png": "[encoded data removed]",
      "text/plain": [
       "<Figure size 640x480 with 1 Axes>"
      ]
     },
     "metadata": {},
     "output_type": "display_data"
    }
   ],
   "source": [
    "# Check if the max cc time shift works\n",
    "plt.plot(tr_obs_trim.times(), tr_obs_trim.data, \"k-\", label=\"observation\")\n",
    "plt.plot(tr_obs_trim.times(), tr_syn_trim.data, \"b--\", label=\"original\")\n",
    "plt.plot(tr_obs_trim.times(), np.roll(tr_syn_trim.data, N_shift), \"r-\", label=\"time shifted\")\n",
    "plt.plot(tr_obs_noise.times(), tr_obs_noise.data, \"-\", c=\"gray\", label=\"noise data\")\n",
    "# Compute RMSE\n",
    "RMSE = np.sqrt(np.mean(np.square(tr_obs_trim.data - np.roll(tr_syn_trim.data, N_shift))))\n",
    "plt.title(f\"{tr_obs_trim.stats.dataindex} RMSE={RMSE:.2g}\")\n",
    "plt.legend(loc=1)"
   ]
  },
  {
   "cell_type": "code",
   "execution_count": null,
   "metadata": {},
   "outputs": [],
   "source": []
  },
  {
   "cell_type": "markdown",
   "metadata": {},
   "source": [
    "## Apply smoothing on the spectra\n",
    "\n",
    "We follow Clarke et al. (2011) to apply the smoothing on the spectra. The function is implemented in MSNoise (https://github.com/ROBelgium/MSNoise/blob/5b12a782b67e9138898259f1729e1d805a6d7eb0/msnoise/s05compute_mwcs2.py#L252C20-L266C69).\n",
    "\n",
    "We convolve the hanning window on the spectra."
   ]
  },
  {
   "cell_type": "code",
   "execution_count": 43,
   "metadata": {},
   "outputs": [
    {
     "name": "stdout",
     "output_type": "stream",
     "text": [
      "151 151 256\n",
      "(1+0j)\n",
      "smoothing half win:117.1875kHz\n"
     ]
    }
   ],
   "source": [
    "NFFT = 2**8\n",
    "print(len(tr_obs_trim.times()), len(tr_obs_noise.times()), NFFT)\n",
    "smoothing_half_win = 3\n",
    "hanningwindow = signal.windows.hann(2*smoothing_half_win+1).astype('complex')\n",
    "hanningwindow /= smoothing_half_win #len(hanningwindow) # divide by half win so that the summation of window weights is unity\n",
    "print(np.sum(hanningwindow))\n",
    "\n",
    "# smoothing half width in frequency\n",
    "\n",
    "# Compute frequency vector for FFT\n",
    "Y_obs_freq = np.fft.rfftfreq(NFFT, d=tr_obs_trim.stats.delta)\n",
    "\n",
    "dfreq= Y_obs_freq[1] - Y_obs_freq[0]\n",
    "smooth_half_win_freq = smoothing_half_win * dfreq\n",
    "\n",
    "print(f\"smoothing half win:{smooth_half_win_freq/1e3}kHz\")"
   ]
  },
  {
   "cell_type": "code",
   "execution_count": 44,
   "metadata": {},
   "outputs": [
    {
     "data": {
      "text/plain": [
       "[<matplotlib.lines.Line2D at 0x15285c290>]"
      ]
     },
     "execution_count": 44,
     "metadata": {},
     "output_type": "execute_result"
    },
    {
     "data": {
      "image/png": "[encoded data removed]",
      "text/plain": [
       "<Figure size 640x480 with 1 Axes>"
      ]
     },
     "metadata": {},
     "output_type": "display_data"
    }
   ],
   "source": [
    "plt.plot(hanningwindow.real)"
   ]
  },
  {
   "cell_type": "code",
   "execution_count": null,
   "metadata": {},
   "outputs": [],
   "source": []
  },
  {
   "cell_type": "markdown",
   "metadata": {},
   "source": [
    "## Process all the pairs"
   ]
  },
  {
   "cell_type": "code",
   "execution_count": 45,
   "metadata": {},
   "outputs": [],
   "source": [
    "figdir_Bomega = \"../figure/p08_Bomega/\"\n",
    "if not os.path.exists(figdir_Bomega):\n",
    "    os.makedirs(figdir_Bomega)"
   ]
  },
  {
   "cell_type": "code",
   "execution_count": 46,
   "metadata": {},
   "outputs": [
    {
     "data": {
      "text/plain": [
       "256"
      ]
     },
     "execution_count": 46,
     "metadata": {},
     "output_type": "execute_result"
    }
   ],
   "source": [
    "2**8"
   ]
  },
  {
   "cell_type": "code",
   "execution_count": null,
   "metadata": {},
   "outputs": [],
   "source": []
  },
  {
   "cell_type": "code",
   "execution_count": 47,
   "metadata": {},
   "outputs": [
    {
     "name": "stdout",
     "output_type": "stream",
     "text": [
      "(1+0j)\n",
      "smoothing half win:117.1875kHz\n"
     ]
    },
    {
     "name": "stderr",
     "output_type": "stream",
     "text": [
      "  0%|                                                    | 0/32 [00:00<?, ?it/s]"
     ]
    },
    {
     "name": "stdout",
     "output_type": "stream",
     "text": [
      "OL01__BD_0460\n",
      "OL01__BD_0580\n",
      "noise margin: 59.99630502376315μs\n",
      "noise margin: 72.98638089529896μs\n"
     ]
    },
    {
     "name": "stderr",
     "output_type": "stream",
     "text": [
      "  3%|█▍                                          | 1/32 [00:00<00:16,  1.93it/s]"
     ]
    },
    {
     "name": "stdout",
     "output_type": "stream",
     "text": [
      "OL02__BD_0700\n",
      "noise margin: 79.32302024942828μs\n",
      "noise margin: 62.58638089529897μs\n",
      "noise margin: 61.10810544544971μs\n",
      "noise margin: 75.26185997775802μs\n"
     ]
    },
    {
     "name": "stderr",
     "output_type": "stream",
     "text": [
      "  6%|██▊                                         | 2/32 [00:01<00:25,  1.19it/s]"
     ]
    },
    {
     "name": "stdout",
     "output_type": "stream",
     "text": [
      "OL03__BD_0340\n",
      "OL03__BD_0940\n",
      "noise margin: 77.42898268206953μs\n",
      "noise margin: 61.86185997775803μs\n",
      "noise margin: 61.823890504497555μs\n",
      "noise margin: 76.68544110008874μs\n"
     ]
    },
    {
     "name": "stderr",
     "output_type": "stream",
     "text": [
      "  9%|████▏                                       | 3/32 [00:02<00:26,  1.09it/s]"
     ]
    },
    {
     "name": "stdout",
     "output_type": "stream",
     "text": [
      "OL04__BD_0580\n",
      "OL04__BD_1180\n",
      "noise margin: 81.90130831923413μs\n",
      "noise margin: 65.78544110008873μs\n",
      "noise margin: 60.15098390790163μs\n",
      "noise margin: 72.60561359167103μs\n"
     ]
    },
    {
     "name": "stderr",
     "output_type": "stream",
     "text": [
      " 12%|█████▌                                      | 4/32 [00:03<00:27,  1.04it/s]"
     ]
    },
    {
     "name": "stdout",
     "output_type": "stream",
     "text": [
      "OL05__BD_0820\n",
      "OL05__BD_0940\n",
      "OL05__BD_1420\n",
      "OL05__BD_1540\n",
      "noise margin: 66.70561359167104μs\n",
      "noise margin: 59.32747859147145μs\n",
      "noise margin: 71.68774822823397μs\n"
     ]
    },
    {
     "name": "stderr",
     "output_type": "stream",
     "text": [
      " 16%|██████▉                                     | 5/32 [00:04<00:24,  1.12it/s]"
     ]
    },
    {
     "name": "stdout",
     "output_type": "stream",
     "text": [
      "OL06__BD_1060\n",
      "OL06__BD_1660\n",
      "noise margin: 79.53308296313271μs\n",
      "noise margin: 62.687748228233986μs\n",
      "noise margin: 61.55865376599228μs\n",
      "noise margin: 76.10050424296259μs\n"
     ]
    },
    {
     "name": "stderr",
     "output_type": "stream",
     "text": [
      " 19%|████████▎                                   | 6/32 [00:05<00:24,  1.07it/s]"
     ]
    },
    {
     "name": "stdout",
     "output_type": "stream",
     "text": [
      "OL07__BD_1300\n",
      "OL07__BD_1420\n",
      "OL07__BD_1900\n",
      "OL07__BD_2020\n",
      "noise margin: 68.80050424296259μs\n",
      "noise margin: 59.17995438384326μs\n",
      "noise margin: 68.56088272258206μs\n"
     ]
    },
    {
     "name": "stderr",
     "output_type": "stream",
     "text": [
      " 22%|█████████▋                                  | 7/32 [00:06<00:22,  1.11it/s]"
     ]
    },
    {
     "name": "stdout",
     "output_type": "stream",
     "text": [
      "OL08__BD_1540\n",
      "OL08__BD_1660\n",
      "OL08__BD_2140\n",
      "OL08__BD_2260\n",
      "noise margin: 70.36088272258206μs\n",
      "noise margin: 59.39765980946528μs\n",
      "noise margin: 67.74806353277808μs\n"
     ]
    },
    {
     "name": "stderr",
     "output_type": "stream",
     "text": [
      " 25%|███████████                                 | 8/32 [00:07<00:21,  1.14it/s]"
     ]
    },
    {
     "name": "stdout",
     "output_type": "stream",
     "text": [
      "OL09__BD_1780\n",
      "OL09__BD_1900\n",
      "OL09__BD_2500\n",
      "noise margin: 71.34806353277807μs\n",
      "noise margin: 60.06486854309506μs\n",
      "noise margin: 66.47051401265357μs\n",
      "noise margin: 82.122361442164μs\n"
     ]
    },
    {
     "name": "stderr",
     "output_type": "stream",
     "text": [
      " 28%|████████████▍                               | 9/32 [00:08<00:21,  1.07it/s]"
     ]
    },
    {
     "name": "stdout",
     "output_type": "stream",
     "text": [
      "OL10__BD_2020\n",
      "OL10__BD_2140\n",
      "OL10__BD_2620\n",
      "OL10__BD_2740\n",
      "noise margin: 72.97051401265357μs\n",
      "noise margin: 60.179617698531914μs\n",
      "noise margin: 65.45690948096933μs\n"
     ]
    },
    {
     "name": "stderr",
     "output_type": "stream",
     "text": [
      " 31%|█████████████▍                             | 10/32 [00:08<00:19,  1.12it/s]"
     ]
    },
    {
     "name": "stdout",
     "output_type": "stream",
     "text": [
      "OL11__BD_2380\n",
      "OL11__BD_2980\n",
      "noise margin: 72.45690948096932μs\n",
      "noise margin: 60.1831582402777μs\n",
      "noise margin: 65.5017136344947μs\n",
      "noise margin: 81.82403244138997μs\n"
     ]
    },
    {
     "name": "stderr",
     "output_type": "stream",
     "text": [
      " 34%|██████████████▊                            | 11/32 [00:09<00:19,  1.06it/s]"
     ]
    },
    {
     "name": "stdout",
     "output_type": "stream",
     "text": [
      "OL12__BD_2620\n",
      "OL12__BD_3220\n",
      "noise margin: 75.70171363449471μs\n",
      "noise margin: 60.88956941962455μs\n",
      "noise margin: 62.90378053519929μs\n",
      "noise margin: 77.94668224522376μs\n"
     ]
    },
    {
     "name": "stderr",
     "output_type": "stream",
     "text": [
      " 38%|████████████████▏                          | 12/32 [00:11<00:19,  1.03it/s]"
     ]
    },
    {
     "name": "stdout",
     "output_type": "stream",
     "text": [
      "OL13__BD_2860\n",
      "OL13__BD_3460\n",
      "noise margin: 77.10378053519929μs\n",
      "noise margin: 61.938427712302804μs\n",
      "noise margin: 62.35209128140381μs\n",
      "noise margin: 77.15928057547474μs\n"
     ]
    },
    {
     "name": "stderr",
     "output_type": "stream",
     "text": [
      " 41%|█████████████████▍                         | 13/32 [00:12<00:19,  1.01s/it]"
     ]
    },
    {
     "name": "stdout",
     "output_type": "stream",
     "text": [
      "OL14__BD_3100\n",
      "OL14__BD_3700\n",
      "noise margin: 79.09297442739447μs\n",
      "noise margin: 62.559280575474745μs\n",
      "noise margin: 60.84800733330167μs\n",
      "noise margin: 75.78110836803808μs\n"
     ]
    },
    {
     "name": "stderr",
     "output_type": "stream",
     "text": [
      " 44%|██████████████████▊                        | 14/32 [00:13<00:18,  1.01s/it]"
     ]
    },
    {
     "name": "stdout",
     "output_type": "stream",
     "text": [
      "OL15__BD_3340\n",
      "OL15__BD_3940\n",
      "noise margin: 79.89429556020704μs\n",
      "noise margin: 63.98110836803809μs\n",
      "noise margin: 60.31513145651034μs\n",
      "noise margin: 74.03121930324279μs\n"
     ]
    },
    {
     "name": "stderr",
     "output_type": "stream",
     "text": [
      " 47%|████████████████████▏                      | 15/32 [00:14<00:17,  1.03s/it]"
     ]
    },
    {
     "name": "stdout",
     "output_type": "stream",
     "text": [
      "OL16__BD_3580\n",
      "noise margin: 81.68246908240056μs\n",
      "noise margin: 64.7312193032428μs\n",
      "noise margin: 59.90665359225387μs\n"
     ]
    },
    {
     "name": "stderr",
     "output_type": "stream",
     "text": [
      " 50%|█████████████████████▌                     | 16/32 [00:14<00:15,  1.05it/s]"
     ]
    },
    {
     "name": "stdout",
     "output_type": "stream",
     "text": [
      "OL17__BD_0580\n",
      "noise margin: 62.396305023763155μs\n",
      "noise margin: 61.28638089529898μs\n",
      "noise margin: 75.90810544544972μs\n"
     ]
    },
    {
     "name": "stderr",
     "output_type": "stream",
     "text": [
      " 53%|██████████████████████▊                    | 17/32 [00:15<00:13,  1.13it/s]"
     ]
    },
    {
     "name": "stdout",
     "output_type": "stream",
     "text": [
      "OL18__BD_0220\n",
      "OL18__BD_0820\n",
      "noise margin: 79.56169738480196μs\n",
      "noise margin: 64.00810544544971μs\n",
      "noise margin: 60.861859977758044μs\n",
      "noise margin: 74.62389050449754μs\n"
     ]
    },
    {
     "name": "stderr",
     "output_type": "stream",
     "text": [
      " 56%|████████████████████████▏                  | 18/32 [00:16<00:13,  1.04it/s]"
     ]
    },
    {
     "name": "stdout",
     "output_type": "stream",
     "text": [
      "OL19__BD_0460\n",
      "OL19__BD_1060\n",
      "OL19__BD_1180\n",
      "noise margin: 81.30465666734244μs\n",
      "noise margin: 64.82389050449754μs\n",
      "noise margin: 59.68544110008873μs\n",
      "noise margin: 72.75098390790163μs\n"
     ]
    },
    {
     "name": "stderr",
     "output_type": "stream",
     "text": [
      " 59%|█████████████████████████▌                 | 19/32 [00:17<00:13,  1.01s/it]"
     ]
    },
    {
     "name": "stdout",
     "output_type": "stream",
     "text": [
      "OL20__BD_0700\n",
      "OL20__BD_1300\n",
      "OL20__BD_1420\n",
      "noise margin: 82.69952124610104μs\n",
      "noise margin: 66.05098390790162μs\n",
      "noise margin: 59.20561359167103μs\n",
      "noise margin: 71.32747859147145μs\n"
     ]
    },
    {
     "name": "stderr",
     "output_type": "stream",
     "text": [
      " 62%|██████████████████████████▉                | 20/32 [00:19<00:12,  1.02s/it]"
     ]
    },
    {
     "name": "stdout",
     "output_type": "stream",
     "text": [
      "OL21__BD_0940\n",
      "OL21__BD_1540\n",
      "OL21__BD_1660\n",
      "noise margin: 84.08853580826114μs\n",
      "noise margin: 67.22747859147144μs\n",
      "noise margin: 59.087748228233984μs\n",
      "noise margin: 69.95865376599228μs\n"
     ]
    },
    {
     "name": "stderr",
     "output_type": "stream",
     "text": [
      " 66%|████████████████████████████▏              | 21/32 [00:20<00:11,  1.02s/it]"
     ]
    },
    {
     "name": "stdout",
     "output_type": "stream",
     "text": [
      "OL22__BD_1180\n",
      "OL22__BD_1780\n",
      "OL22__BD_1900\n",
      "noise margin: 85.21145978995449μs\n",
      "noise margin: 68.65865376599227μs\n",
      "noise margin: 58.600504242962586μs\n",
      "noise margin: 69.17995438384325μs\n"
     ]
    },
    {
     "name": "stderr",
     "output_type": "stream",
     "text": [
      " 69%|█████████████████████████████▌             | 22/32 [00:21<00:10,  1.03s/it]"
     ]
    },
    {
     "name": "stdout",
     "output_type": "stream",
     "text": [
      "OL23__BD_1420\n",
      "OL23__BD_2020\n",
      "OL23__BD_2140\n",
      "noise margin: 86.48580239320574μs\n",
      "noise margin: 69.97995438384325μs\n",
      "noise margin: 59.36088272258207μs\n",
      "noise margin: 68.09765980946528μs\n"
     ]
    },
    {
     "name": "stderr",
     "output_type": "stream",
     "text": [
      " 72%|██████████████████████████████▉            | 23/32 [00:22<00:09,  1.06s/it]"
     ]
    },
    {
     "name": "stdout",
     "output_type": "stream",
     "text": [
      "OL24__BD_1660\n",
      "OL24__BD_1780\n",
      "OL24__BD_2380\n",
      "noise margin: 70.79765980946527μs\n",
      "noise margin: 59.34806353277808μs\n",
      "noise margin: 66.06486854309507μs\n",
      "noise margin: 83.51766895932765μs\n"
     ]
    },
    {
     "name": "stderr",
     "output_type": "stream",
     "text": [
      " 75%|████████████████████████████████▎          | 24/32 [00:23<00:08,  1.05s/it]"
     ]
    },
    {
     "name": "stdout",
     "output_type": "stream",
     "text": [
      "OL25__BD_1900\n",
      "OL25__BD_2020\n",
      "OL25__BD_2620\n",
      "noise margin: 72.36486854309504μs\n",
      "noise margin: 59.87051401265357μs\n",
      "noise margin: 64.6796176985319μs\n",
      "noise margin: 82.42109284061671μs\n"
     ]
    },
    {
     "name": "stderr",
     "output_type": "stream",
     "text": [
      " 78%|█████████████████████████████████▌         | 25/32 [00:24<00:07,  1.05s/it]"
     ]
    },
    {
     "name": "stdout",
     "output_type": "stream",
     "text": [
      "OL26__BD_2260\n",
      "OL26__BD_2860\n",
      "noise margin: 74.47961769853191μs\n",
      "noise margin: 60.556909480969345μs\n",
      "noise margin: 64.18315824027769μs\n",
      "noise margin: 80.75192011463798μs\n"
     ]
    },
    {
     "name": "stderr",
     "output_type": "stream",
     "text": [
      " 81%|██████████████████████████████████▉        | 26/32 [00:25<00:06,  1.05s/it]"
     ]
    },
    {
     "name": "stdout",
     "output_type": "stream",
     "text": [
      "OL27__BD_2500\n",
      "OL27__BD_3100\n",
      "noise margin: 74.8831582402777μs\n",
      "noise margin: 60.601713634494715μs\n",
      "noise margin: 63.089569419624546μs\n",
      "noise margin: 79.41423005050065μs\n"
     ]
    },
    {
     "name": "stderr",
     "output_type": "stream",
     "text": [
      " 84%|████████████████████████████████████▎      | 27/32 [00:26<00:05,  1.07s/it]"
     ]
    },
    {
     "name": "stdout",
     "output_type": "stream",
     "text": [
      "OL28__BD_2740\n",
      "OL28__BD_3340\n",
      "noise margin: 76.38956941962455μs\n",
      "noise margin: 61.603780535199284μs\n",
      "noise margin: 61.438427712302804μs\n",
      "noise margin: 77.46105486959131μs\n"
     ]
    },
    {
     "name": "stderr",
     "output_type": "stream",
     "text": [
      " 88%|█████████████████████████████████████▋     | 28/32 [00:27<00:04,  1.07s/it]"
     ]
    },
    {
     "name": "stdout",
     "output_type": "stream",
     "text": [
      "OL29__BD_2980\n",
      "OL29__BD_3580\n",
      "noise margin: 78.60146235854438μs\n",
      "noise margin: 62.65209128140382μs\n",
      "noise margin: 61.85928057547475μs\n",
      "noise margin: 76.74800733330169μs\n"
     ]
    },
    {
     "name": "stderr",
     "output_type": "stream",
     "text": [
      " 91%|██████████████████████████████████████▉    | 29/32 [00:28<00:03,  1.06s/it]"
     ]
    },
    {
     "name": "stdout",
     "output_type": "stream",
     "text": [
      "OL30__BD_3220\n",
      "OL30__BD_3820\n",
      "noise margin: 79.38624945999604μs\n",
      "noise margin: 63.34800733330168μs\n",
      "noise margin: 60.181108368038096μs\n",
      "noise margin: 74.71513145651035μs\n"
     ]
    },
    {
     "name": "stderr",
     "output_type": "stream",
     "text": [
      " 94%|████████████████████████████████████████▎  | 30/32 [00:29<00:02,  1.05s/it]"
     ]
    },
    {
     "name": "stdout",
     "output_type": "stream",
     "text": [
      "OL31__BD_3460\n",
      "noise margin: 80.93554178486096μs\n",
      "noise margin: 65.11513145651033μs\n",
      "noise margin: 60.831219303242804μs\n",
      "noise margin: 74.20665359225387μs\n"
     ]
    },
    {
     "name": "stderr",
     "output_type": "stream",
     "text": [
      " 97%|█████████████████████████████████████████▋ | 31/32 [00:30<00:01,  1.06s/it]"
     ]
    },
    {
     "name": "stdout",
     "output_type": "stream",
     "text": [
      "OL32__BD_3700\n",
      "OL32__BD_3820\n",
      "noise margin: 65.50665359225387μs\n"
     ]
    },
    {
     "name": "stderr",
     "output_type": "stream",
     "text": [
      "100%|███████████████████████████████████████████| 32/32 [00:30<00:00,  1.03it/s]\n"
     ]
    }
   ],
   "source": [
    "ampfactor_comparison = np.zeros((0, 4))\n",
    "trcount = 0\n",
    "theta_evalerr = np.zeros(Nd)\n",
    "err_evalerr = np.zeros(Nd)\n",
    "\n",
    "pwin_len_margin = 3e-6 # to avoid the discontinuity due to the roll time shift\n",
    "\n",
    "# NFFT = 2**8 # defined above\n",
    "noise_Pbackward = 5e-6\n",
    "noise_winlen = 15e-6 # [s]\n",
    "# smoothing_half_win = 3  # defined above\n",
    "\n",
    "Bomega_all = dict()\n",
    "taper_percent = 0.5 #0.1\n",
    "max_lag_shift = 30\n",
    "\n",
    "# centralize the STF to avoid asymmetric taper\n",
    "centralize_loc = (pwin_len*1e-3) / 2 + pwin_len_margin\n",
    "\n",
    "hanningwindow = signal.windows.hann(2*smoothing_half_win+1).astype('complex')\n",
    "hanningwindow /= smoothing_half_win #len(hanningwindow) # divide by half win so that the summation of window weights is unity\n",
    "print(np.sum(hanningwindow))\n",
    "\n",
    "# smoothing half width in frequency\n",
    "\n",
    "dfreq= Y_obs_freq[1] - Y_obs_freq[0]\n",
    "smooth_half_win_freq = smoothing_half_win * dfreq\n",
    "print(f\"smoothing half win:{smooth_half_win_freq/1e3}kHz\")\n",
    "\n",
    "for stnm in tqdm(AEsensors):\n",
    "# for stnm in tqdm(AEsensors[19:20]):\n",
    "    # stnm = AEsensors[11]\n",
    "    finame = os.path.join(bdwaveform_datadir, \"{}_bdwaveform_longpretrig.pickle\".format(stnm)) \n",
    "    st = read(finame, format=\"PICKLE\")\n",
    "\n",
    "    # prefilitering traces\n",
    "    # demean\n",
    "#     st.detrend(type='demean')\n",
    "#     # apply bandpass\n",
    "#     st.filter(\"bandpass\", freqmin=freqmin, freqmax=freqmax, corners=4, zerophase=True)     # NO FILTER for the analysis of attenuation\n",
    "    # apply taper\n",
    "#     st.taper(max_percentage=0.001)   \n",
    "\n",
    "    # Select observation and synthetic\n",
    "    st_obs = st.select(channel='OY')\n",
    "    st_syn = st.select(channel='SY')\n",
    "    \n",
    "    # Extract the traces used in the Si inversion\n",
    "    for i, tr_obs in enumerate(st_obs):\n",
    "        if tr_obs.stats.dataindex not in np.squeeze(df_caseid.values):\n",
    "            print(tr_obs.stats.dataindex)\n",
    "            st_obs.remove(tr_obs)\n",
    "    \n",
    "    for i, tr_obs in enumerate(st_obs):\n",
    "\n",
    "            dataindex = tr_obs.stats.dataindex\n",
    "            tr_syn = list(filter(lambda tr: tr.stats.dataindex == dataindex, st_syn))[0]\n",
    "\n",
    "            dist = tr_obs.stats.dist #[mm]\n",
    "\n",
    "            if dist <= dist_p_threshold:\n",
    "                p_theoretical = tr_obs.stats.tpick\n",
    "            else:\n",
    "                p_theoretical = dist/vmean\n",
    "\n",
    "            tvec = np.array(range(0, tr_syn.stats.npts))*tr_syn.stats.delta*1e3 - tr_obs.stats.pretrigger #[ms]\n",
    "\n",
    "            #---compute correction coefficient from Si, Tj and alpha(theta)---#\n",
    "            amp_correction = np.zeros(4) # 4 models\n",
    "            ii, jj = [cij[dataindex][0]-1, cij[dataindex][1]-1]\n",
    "            kk = df_caseid.index[df_caseid.caseid == dataindex][0]\n",
    "\n",
    "            Asyn = Aksyn[kk]\n",
    "\n",
    "            # model 1: gain model\n",
    "            Si1 = df_Si[\"model1\"][ii]\n",
    "            amp_correction[0] = Si1\n",
    "\n",
    "            # model 3: directionality-dominant\n",
    "            Si3 = df_Si[\"model3\"][ii]\n",
    "            theta3 = df_disttheta[\"theta\"][kk]\n",
    "#             alpha3 = model_bell(theta3, 1.0, a3, b3) # bell-shape \n",
    "#             amp_correction[1] = Si3*alpha3\n",
    "            TR3 = df_TR[\"model3\"][0]\n",
    "            k3 = incidentangle_scalingfactor_analytic(v, np.deg2rad(theta3), TR3, R)\n",
    "            amp_correction[1] = Si3*k3\n",
    "            #model 2: source impact-dominant\n",
    "            Si2 = df_Si[\"model2\"][ii]\n",
    "            Tj2 = df_Tj[\"model2\"][jj]\n",
    "            amp_correction[2] = Si2*Tj2\n",
    "            \n",
    "            # model 4: mix model\n",
    "            Si4 = df_Si[\"model4\"][ii]\n",
    "            Tj4 = df_Tj[\"model4\"][jj]\n",
    "            theta4 = df_disttheta[\"theta\"][kk]\n",
    "#             alpha4 = model_bell(theta4, 1.0, a4, b4) # bell-shape \n",
    "            TR4 = df_TR[\"model4\"][0]\n",
    "            k4 = incidentangle_scalingfactor_analytic(v, np.deg2rad(theta4), TR4, R)\n",
    "\n",
    "            amp_correction[3] = Si4*Tj4*k4\n",
    "\n",
    "#             print((Si4, Tj4, k4))\n",
    "            ampfactor_comparison = np.vstack((ampfactor_comparison, [df_disttheta[\"theta\"][kk], \n",
    "                            amp_correction[3]/amp_correction[0],  amp_correction[3]/amp_correction[1], amp_correction[3]/amp_correction[2]]))\n",
    "    \n",
    "            #---------------------------------------------------------------------------------#\n",
    "#             print(dataindex+\":\"+str(amp_correction))\n",
    "#             # plot synthetic waveform\n",
    "#             p0 = axs[i, 0].plot(tvec, 1e3*tr_syn.data, 'r-', label='syn', zorder=2)\n",
    "#             axs[i, 1].plot(tvec, 1e3*tr_syn.data, 'r-', label='syn', zorder=2)\n",
    "\n",
    "#             axs[i, 0].plot(tvec, 1e3*tr_obs.data/amp_correction[-1], \"k-\", lw=1.5, label=xcase[-1]) # use the best model with model 4\n",
    "#             axs[i, 1].plot(tvec, 1e3*tr_obs.data/amp_correction[-1], \"k-\", lw=1.5, label=xcase[-1])\n",
    "\n",
    "            #---------------------------------------------------------------------------------#\n",
    "            #===Compute B(omega)===#\n",
    "            #---------------------------------------------------------------------------------#\n",
    "\n",
    "            st0 = tr_obs.stats.starttime\n",
    "            pt = timedelta(milliseconds = tr_obs.stats.pretrigger)\n",
    "\n",
    "            dist = tr_obs.stats.dist #[mm]\n",
    "\n",
    "            if dist <= dist_p_threshold:\n",
    "                p_theoretical = tr_obs.stats.tpick\n",
    "            else:\n",
    "                p_theoretical = dist/vmean\n",
    "\n",
    "            # trim Pwave\n",
    "            starttime = st0+pt+(p_theoretical-pwin_len_pre)*1e-3 - pwin_len_margin\n",
    "            endtime = st0+pt+(p_theoretical-pwin_len_pre+pwin_len)*1e-3 + pwin_len_margin\n",
    "\n",
    "            tr_obs_trim = tr_obs.copy() # avoid error in multiple trim\n",
    "            tr_obs_trim.trim(starttime, endtime, pad=True, fill_value=0.0)\n",
    "            tr_obs_trim.data /= amp_correction[-1]\n",
    "\n",
    "            # trim synthetic data\n",
    "            tr_syn_trim = tr_syn.copy() # avoid error in multiple trim\n",
    "            tr_syn_trim.trim(starttime, endtime, pad=True, fill_value=0.0)\n",
    "\n",
    "            # trim the observation noise\n",
    "\n",
    "            print(f\"noise margin: {((tr_obs.stats.pretrigger+p_theoretical)*1e-3-noise_Pbackward)*1e6}μs\")\n",
    "            if ((tr_obs.stats.pretrigger+p_theoretical)*1e-3-noise_Pbackward)*1e6 < noise_winlen:\n",
    "                print(\"P_theoretical is smaller than noise winlen\")\n",
    "\n",
    "            tr_obs_noise = tr_obs.copy() # avoid error in multiple trim\n",
    "\n",
    "            noise_end_time = st0+pt+p_theoretical*1e-3-noise_Pbackward\n",
    "            noise_start_time = noise_end_time - noise_winlen # synchronize the window length with the P wave pulse\n",
    "\n",
    "            tr_obs_noise.trim(noise_start_time, noise_end_time, pad=True, fill_value=0.0) # trim before the p wave window\n",
    "            tr_obs_noise.data /= amp_correction[-1]\n",
    "\n",
    "            # preprocessing the traces\n",
    "#             tr_obs_trim.detrend(type=\"demean\").detrend(type=\"linear\").taper(max_percentage = 0.05).detrend(type=\"demean\")\n",
    "#             tr_syn_trim.detrend(type=\"demean\").detrend(type=\"linear\").taper(max_percentage = 0.05).detrend(type=\"demean\")\n",
    "#             tr_obs_noise.detrend(type=\"demean\").detrend(type=\"linear\").taper(max_percentage = 0.05).detrend(type=\"demean\")\n",
    "            \n",
    "#             tr_obs_trim.detrend(type=\"demean\").detrend(type=\"linear\").taper(max_percentage = 0.05).detrend(type=\"demean\").detrend(type=\"linear\")\n",
    "#             tr_syn_trim.detrend(type=\"demean\").detrend(type=\"linear\").taper(max_percentage = 0.05).detrend(type=\"demean\").detrend(type=\"linear\")\n",
    "#             tr_obs_noise.detrend(type=\"demean\").detrend(type=\"linear\").taper(max_percentage = 0.05).detrend(type=\"demean\").detrend(type=\"linear\")\n",
    "            \n",
    "            # detrend by the first 5 microsec\n",
    "            noise_npts = int(5e-6*tr_obs_trim.stats.sampling_rate)\n",
    "            for tr in [tr_obs_trim, tr_syn_trim, ]:\n",
    "                kp = np.polyfit(tr.times()[:noise_npts], tr.data[:noise_npts], 1)\n",
    "                tr.data -= np.polyval(kp, tr.times())\n",
    "#                 tr.taper(max_percentage = taper_percent, type='hann') # apply taper after time shifted\n",
    "            \n",
    "            # for noise, detrend by the entire signal\n",
    "            for tr in [tr_obs_noise]:\n",
    "                kp = np.polyfit(tr.times()[:], tr.data[:], 1)\n",
    "                tr.data -= np.polyval(kp, tr.times())\n",
    "                tr.taper(max_percentage = taper_percent, type='hann')\n",
    "                      \n",
    "            #---Update: compute RMSE at max cc--#\n",
    "            # 1. shift the trace at maximum correlation function\n",
    "            cc = correlate(tr_obs_trim.copy().taper(max_percentage = taper_percent).data, tr_syn_trim.copy().taper(max_percentage = taper_percent).data, max_lag_shift, demean=False, normalize='naive') # the order is 1. obs and 2. syn\n",
    "            N_shift, _ = xcorr_max(cc,  abs_max=False)\n",
    "            #-----------------------------------#\n",
    "            tr_syn_trim_shifted = tr_syn_trim.copy()\n",
    "            tr_syn_trim_shifted.data = np.roll(tr_syn_trim.data, N_shift)# assuming the time shift is not large\n",
    "            \n",
    "            # time shift to centralize the trace\n",
    "#             t_syn_center = (tr_syn_trim_shifted.times()[np.argmin(tr_syn_trim_shifted.data)] + tr_syn_trim_shifted.times()[np.argmax(tr_syn_trim_shifted.data)])/2\n",
    "            t_syn_center = (tr_syn_trim_shifted.times()[np.argmax(tr_syn_trim_shifted.data)])\n",
    "            Ncentralize = int((t_syn_center - centralize_loc)/tr_syn_trim_shifted.stats.delta) # The P-wave pulse was centered within a symmetric time window for analysis.\n",
    "            for tr in [tr_obs_trim, tr_syn_trim_shifted, tr_syn_trim]:\n",
    "                tr.data = np.roll(tr.data, -Ncentralize)\n",
    "                \n",
    "            # trim the margin\n",
    "            st0_margin = tr_obs_trim.stats.starttime\n",
    "            starttime_margin = st0_margin + pwin_len_margin\n",
    "            endtime_margin = st0_margin + pwin_len_margin + pwin_len*1e-3\n",
    "\n",
    "            for tr in [tr_obs_trim, tr_syn_trim_shifted, tr_syn_trim]:\n",
    "                tr.trim(starttime_margin, endtime_margin)\n",
    "                # print(f\"data length:{tr.stats.dataindex} {tr.stats.npts}\")\n",
    "            \n",
    "            # apply tapering\n",
    "            tr_obs_trim_raw = tr_obs_trim.copy()\n",
    "            for tr in [tr_obs_trim, tr_syn_trim, tr_syn_trim_shifted, tr_syn_trim]:\n",
    "                tr.taper(max_percentage = taper_percent, type='hann')\n",
    "            \n",
    "            # compute RMSE\n",
    "            RMSE = np.sqrt(np.mean(np.square(tr_obs_trim.data - np.roll(tr_syn_trim_shifted.data, N_shift))))\n",
    "            # compute VR\n",
    "            VRtmp1 = np.linalg.norm(tr_obs_trim.data - tr_syn_trim_shifted.data, axis=0, ord=2) ** 2 \n",
    "            VRtmp2 = np.linalg.norm(tr_obs_trim.data, axis=0, ord=2)**2 # scalled by the observation\n",
    "            VR = 1.0 - VRtmp1/VRtmp2\n",
    "            \n",
    "            # Compute FFT\n",
    "            Y_obs = np.fft.rfft(tr_obs_trim.data, n=NFFT)\n",
    "            Y_syn = np.fft.rfft(tr_syn_trim_shifted.data, n=NFFT)\n",
    "            Y_obs_noise = np.fft.rfft(tr_obs_noise.data, n=NFFT)\n",
    "\n",
    "            Y_obs_freq = np.fft.rfftfreq(NFFT, d=tr_obs_trim.stats.delta)\n",
    "            Y_syn_freq = np.fft.rfftfreq(NFFT, d=tr_syn_trim_shifted.stats.delta)\n",
    "            Y_obs_noise_freq = np.fft.rfftfreq(NFFT, d=tr_obs_noise.stats.delta)\n",
    "\n",
    "            # Apply smoothing\n",
    "            # ref: https://github.com/ROBelgium/MSNoise/blob/master/msnoise/s05compute_mwcs2.py#L92\n",
    "            Y_obs_smoothed = signal.convolve(Y_obs, hanningwindow.real, \"same\")\n",
    "            Y_syn_smoothed = signal.convolve(Y_syn, hanningwindow.real, \"same\")\n",
    "            Y_obs_noise_smoothed = signal.convolve(Y_obs_noise, hanningwindow.real, \"same\")\n",
    "\n",
    "\n",
    "            # compute B(omega)\n",
    "            B_attenu = Y_obs/Y_syn\n",
    "            Battenu_smoothed = Y_obs_smoothed/Y_syn_smoothed\n",
    "\n",
    "#             # Compute maximum cross-correlation function\n",
    "#             signal.correlate(tr_obs_trim.data, tr_syn_trim.data)\n",
    "            \n",
    "            # plot figure for debugging\n",
    "            fig, [ax1, ax2] = plt.subplots(1, 2, figsize=(7.5, 3.58)) #figsize=(9, 4))\n",
    "            \n",
    "            # plot P waveform\n",
    "            ax1.plot(tr_obs_trim.times()*1e6, tr_obs_trim.data*1e3, \"k-\", label=\"observation\")\n",
    "            ax1.plot(tr_obs_trim.times()*1e6, tr_obs_trim_raw.data*1e3, \"k:\", label=\"observation no taper\")\n",
    "            ax1.plot(tr_syn_trim.times()*1e6, tr_syn_trim.data*1e3, \"r:\", label=\"synthetic\")\n",
    "#             ax1.plot(tr_syn_trim.times()*1e6 + N_shift*tr_syn_trim.stats.delta*1e6, tr_syn_trim.data*1e3, \"r--\", label=\"synthetic max. cc\")\n",
    "            ax1.plot(tr_syn_trim_shifted.times()*1e6, tr_syn_trim_shifted.data*1e3, \"r-\", label=\"synthetic shifted\")\n",
    "            ax1.plot(tr_obs_noise.times()*1e6, tr_obs_noise.data*1e3, \"--\", c=\"gray\", label=\"noise\")\n",
    "            ax1.set_xlabel(\"Time [μs]\")\n",
    "            ax1.set_ylabel(\"Velocity [mm/s]\")\n",
    "            ax1.set_title(tr_obs_trim.stats.dataindex)\n",
    "            ax1.set_xlim([0.0, 15])\n",
    "\n",
    "            ylimit_wf_p = np.array([-Asyn, Asyn])*3e3\n",
    "\n",
    "            ax1.set_ylim(ylimit_wf_p)\n",
    "#             ax1.set_ylim([-0.05, 0.05])\n",
    "            \n",
    "            \n",
    "            ax1.text(0.36, 0.05, f\"RMSE={RMSE*1e3:.3f}mm/s, VR={VR:.3f}\\nNshift={N_shift}, Ncenter={Ncentralize}\", transform = ax1.transAxes)\n",
    "            \n",
    "            # plot P wave spectra\n",
    "            amp0 = np.max(np.abs(Y_obs)) # normalize the dB by the maximum of observation\n",
    "            ax2.semilogx(Y_obs_freq/1e6,  20 * np.log10(np.abs(Y_obs)/amp0), \"b.--\", label=\"observation\")\n",
    "            ax2.semilogx(Y_syn_freq/1e6,  20 * np.log10(np.abs(Y_syn)/amp0), \"r.--\", label=\"synthetic\")\n",
    "            ax2.semilogx(Y_obs_noise_freq/1e6,  20 * np.log10(np.abs(Y_obs_noise)/amp0),  \"k.--\", label=\"observation noise\")\n",
    "            ax2.semilogx(Y_obs_freq/1e6,  20 * np.log10(np.abs(B_attenu)), \"g.--\", label=\"B(ω)\")\n",
    "\n",
    "            \n",
    "            amp0_smoothed = np.max(np.abs(Y_obs_smoothed))\n",
    "            ax2.semilogx(Y_obs_freq/1e6,  20 * np.log10(np.abs(Y_obs_smoothed)/amp0_smoothed), \"b.-\", label=\"\")\n",
    "            ax2.semilogx(Y_syn_freq/1e6,  20 * np.log10(np.abs(Y_syn_smoothed)/amp0_smoothed), \"r.-\", label=\"\")\n",
    "            ax2.semilogx(Y_obs_freq/1e6,  20 * np.log10(np.abs(Battenu_smoothed)), \"g.-\", label=\"\")\n",
    "            ax2.semilogx(Y_obs_noise_freq/1e6,  20 * np.log10(np.abs(Y_obs_noise_smoothed)/amp0_smoothed),  \"k.-\", label=\"\")\n",
    "            \n",
    "            ax2.set_xlabel(\"Frequency [MHz]\")\n",
    "            ax2.set_ylabel(\"Amplitude [dB]\")\n",
    "\n",
    "            ax2.set_xlim([0.02, 2])\n",
    "            ax2.set_ylim([-100, 20])\n",
    "            ax2.grid(True, c=np.array([230, 230, 230])/255, lw=0.25, which=\"both\",)\n",
    "            ax2.legend(loc=3, fontsize=9, ncol=2)\n",
    "            ax2.xaxis.set_major_formatter(mticker.FormatStrFormatter('%.1f'))\n",
    "\n",
    "            plt.tight_layout()\n",
    "#             plt.savefig(\"../figure/velocityspectra.png\", dpi=300)\n",
    "#             plt.savefig(\"../figure/velocityspectra.eps\")\n",
    "\n",
    "            plt.savefig(figdir_Bomega+\"/computeBomega_{}.png\".format(dataindex), format=\"png\", dpi=70, bbox_inches=\"tight\")\n",
    "    \n",
    "            # dump the data\n",
    "        \n",
    "            Bomega_all[f\"{dataindex}_dist\"] = tr_obs.stats.dist\n",
    "            Bomega_all[f\"{dataindex}_VR\"] = VR\n",
    "            Bomega_all[f\"{dataindex}_RMSE\"] = RMSE\n",
    "            Bomega_all[f\"{dataindex}_Y_obs\"] = Y_obs\n",
    "            Bomega_all[f\"{dataindex}_Y_syn\"] = Y_syn\n",
    "            Bomega_all[f\"{dataindex}_Y_obs_noise\"] = Y_obs_noise\n",
    "\n",
    "            Bomega_all[f\"{dataindex}_Battenu\"] = B_attenu\n",
    "            Bomega_all[f\"{dataindex}_Battenu_smoothed\"] = Battenu_smoothed\n",
    "             \n",
    "            plt.clf()\n",
    "            plt.close()\n",
    "        \n",
    "        \n",
    "Bomega_all[\"NFFT\"] = NFFT\n",
    "Bomega_all[\"dt\"] = tr_obs_trim.stats.delta\n",
    "Bomega_all[\"noise_Pbackward\"] = noise_Pbackward\n",
    "Bomega_all[\"noise_winlen\"] = NFFT\n",
    "Bomega_all[\"smoothing_half_win\"] = smoothing_half_win\n",
    "Bomega_all[\"smooth_half_win_freq\"] = smooth_half_win_freq\n",
    "Bomega_all[\"taper_percent\"] = taper_percent\n"
   ]
  },
  {
   "cell_type": "code",
   "execution_count": 48,
   "metadata": {},
   "outputs": [],
   "source": [
    "with open('../data/Bomega_all.pickle', mode='wb') as fo:\n",
    "    pickle.dump(Bomega_all, fo)"
   ]
  },
  {
   "cell_type": "code",
   "execution_count": 49,
   "metadata": {},
   "outputs": [
    {
     "data": {
      "text/plain": [
       "0.015"
      ]
     },
     "execution_count": 49,
     "metadata": {},
     "output_type": "execute_result"
    }
   ],
   "source": [
    "pwin_len"
   ]
  },
  {
   "cell_type": "markdown",
   "metadata": {},
   "source": [
    "# Plot figure on the representative source-station pair and attenuation"
   ]
  },
  {
   "cell_type": "code",
   "execution_count": 50,
   "metadata": {},
   "outputs": [],
   "source": [
    "selected_BDid = '0820' # balldrop id for master plot"
   ]
  },
  {
   "cell_type": "code",
   "execution_count": 51,
   "metadata": {},
   "outputs": [
    {
     "name": "stdout",
     "output_type": "stream",
     "text": [
      "(1+0j)\n",
      "smoothing half win:117.1875kHz\n"
     ]
    },
    {
     "name": "stderr",
     "output_type": "stream",
     "text": [
      "  0%|                                                     | 0/1 [00:00<?, ?it/s]"
     ]
    },
    {
     "name": "stdout",
     "output_type": "stream",
     "text": [
      "OL20__BD_0700\n",
      "OL20__BD_1300\n",
      "OL20__BD_1420\n",
      "[0. 0. 0. 0.]\n",
      "noise margin: 82.69952124610104μs\n",
      "Ncentralize for OL20__BD_0820: -13\n",
      "data length:OL20__BD_0820 151\n",
      "data length:OL20__BD_0820 151\n",
      "data length:OL20__BD_0820 151\n",
      "freq normalized at 100000.0Hz\n"
     ]
    },
    {
     "name": "stderr",
     "output_type": "stream",
     "text": [
      "The PostScript backend does not support transparency; partially transparent artists will be rendered opaque.\n",
      "100%|█████████████████████████████████████████████| 1/1 [00:00<00:00,  1.95it/s]\n"
     ]
    },
    {
     "data": {
      "image/png": "[encoded data removed]",
      "text/plain": [
       "<Figure size 600x287 with 2 Axes>"
      ]
     },
     "metadata": {},
     "output_type": "display_data"
    }
   ],
   "source": [
    "ampfactor_comparison = np.zeros((0, 4))\n",
    "trcount = 0\n",
    "theta_evalerr = np.zeros(Nd)\n",
    "err_evalerr = np.zeros(Nd)\n",
    "\n",
    "pwin_len_margin = 3e-6 # to avoid the discontinuity due to the roll time shift\n",
    "\n",
    "NFFT = 2**8\n",
    "noise_Pbackward = 5e-6\n",
    "noise_winlen = 15e-6 # [s]\n",
    "smoothing_half_win = 3\n",
    "\n",
    "Bomega_all = dict()\n",
    "taper_percent = 0.5 #0.1\n",
    "max_lag_shift = 30\n",
    "\n",
    "# centralize the STF to avoid asymmetric taper\n",
    "centralize_loc = (pwin_len*1e-3) / 2 + pwin_len_margin\n",
    "\n",
    "hanningwindow = signal.windows.hann(2*smoothing_half_win+1).astype('complex')\n",
    "hanningwindow /= smoothing_half_win #len(hanningwindow) # divide by half win so that the summation of window weights is unity\n",
    "print(np.sum(hanningwindow))\n",
    "\n",
    "# smoothing half width in frequency\n",
    "\n",
    "dfreq= Y_obs_freq[1] - Y_obs_freq[0]\n",
    "smooth_half_win_freq = smoothing_half_win * dfreq\n",
    "print(f\"smoothing half win:{smooth_half_win_freq/1e3}kHz\")\n",
    "\n",
    "# for stnm in tqdm(AEsensors):\n",
    "for stnm in tqdm(AEsensors[19:20]):\n",
    "    # stnm = AEsensors[11]\n",
    "    finame = os.path.join(bdwaveform_datadir, \"{}_bdwaveform_longpretrig.pickle\".format(stnm)) \n",
    "    st = read(finame, format=\"PICKLE\")\n",
    "\n",
    "    # prefilitering traces\n",
    "    # demean\n",
    "#     st.detrend(type='demean')\n",
    "#     # apply bandpass\n",
    "#     st.filter(\"bandpass\", freqmin=freqmin, freqmax=freqmax, corners=4, zerophase=True)     # NO FILTER for the analysis of attenuation\n",
    "    # apply taper\n",
    "#     st.taper(max_percentage=0.001)   \n",
    "\n",
    "    # Select observation and synthetic\n",
    "    st_obs = st.select(channel='OY')\n",
    "    st_syn = st.select(channel='SY')\n",
    "    \n",
    "    # Extract the traces used in the Si inversion\n",
    "    for i, tr_obs in enumerate(st_obs):\n",
    "        if tr_obs.stats.dataindex not in np.squeeze(df_caseid.values):\n",
    "            print(tr_obs.stats.dataindex)\n",
    "            st_obs.remove(tr_obs)\n",
    "    \n",
    "    for i, tr_obs in enumerate(st_obs):\n",
    "        \n",
    "            if tr_obs.stats.location != selected_BDid:\n",
    "                continue\n",
    "                    \n",
    "            dataindex = tr_obs.stats.dataindex\n",
    "            tr_syn = list(filter(lambda tr: tr.stats.dataindex == dataindex, st_syn))[0]\n",
    "\n",
    "            dist = tr_obs.stats.dist #[mm]\n",
    "\n",
    "            if dist <= dist_p_threshold:\n",
    "                p_theoretical = tr_obs.stats.tpick\n",
    "            else:\n",
    "                p_theoretical = dist/vmean\n",
    "\n",
    "            tvec = np.array(range(0, tr_syn.stats.npts))*tr_syn.stats.delta*1e3 - tr_obs.stats.pretrigger #[ms]\n",
    "\n",
    "            #---compute correction coefficient from Si, Tj and alpha(theta)---#\n",
    "            amp_correction = np.zeros(4) # 4 models\n",
    "            print(amp_correction)\n",
    "            ii, jj = [cij[dataindex][0]-1, cij[dataindex][1]-1]\n",
    "            kk = df_caseid.index[df_caseid.caseid == dataindex][0]\n",
    "\n",
    "            Asyn = Aksyn[kk]\n",
    "\n",
    "            # model 1: gain model\n",
    "            Si1 = df_Si[\"model1\"][ii]\n",
    "            amp_correction[0] = Si1\n",
    "\n",
    "            # model 3: directionality-dominant\n",
    "            Si3 = df_Si[\"model3\"][ii]\n",
    "            theta3 = df_disttheta[\"theta\"][kk]\n",
    "#             alpha3 = model_bell(theta3, 1.0, a3, b3) # bell-shape \n",
    "#             amp_correction[1] = Si3*alpha3\n",
    "            TR3 = df_TR[\"model3\"][0]\n",
    "            k3 = incidentangle_scalingfactor_analytic(v, np.deg2rad(theta3), TR3, R)\n",
    "            amp_correction[1] = Si3*k3\n",
    "            #model 2: source impact-dominant\n",
    "            Si2 = df_Si[\"model2\"][ii]\n",
    "            Tj2 = df_Tj[\"model2\"][jj]\n",
    "            amp_correction[2] = Si2*Tj2\n",
    "            \n",
    "            # model 4: mix model\n",
    "            Si4 = df_Si[\"model4\"][ii]\n",
    "            Tj4 = df_Tj[\"model4\"][jj]\n",
    "            theta4 = df_disttheta[\"theta\"][kk]\n",
    "#             alpha4 = model_bell(theta4, 1.0, a4, b4) # bell-shape \n",
    "            TR4 = df_TR[\"model4\"][0]\n",
    "            k4 = incidentangle_scalingfactor_analytic(v, np.deg2rad(theta4), TR4, R)\n",
    "\n",
    "            amp_correction[3] = Si4*Tj4*k4\n",
    "\n",
    "#             print((Si4, Tj4, k4))\n",
    "            ampfactor_comparison = np.vstack((ampfactor_comparison, [df_disttheta[\"theta\"][kk], \n",
    "                            amp_correction[3]/amp_correction[0],  amp_correction[3]/amp_correction[1], amp_correction[3]/amp_correction[2]]))\n",
    "    \n",
    "            #---------------------------------------------------------------------------------#\n",
    "#             print(dataindex+\":\"+str(amp_correction))\n",
    "#             # plot synthetic waveform\n",
    "#             p0 = axs[i, 0].plot(tvec, 1e3*tr_syn.data, 'r-', label='syn', zorder=2)\n",
    "#             axs[i, 1].plot(tvec, 1e3*tr_syn.data, 'r-', label='syn', zorder=2)\n",
    "\n",
    "#             axs[i, 0].plot(tvec, 1e3*tr_obs.data/amp_correction[-1], \"k-\", lw=1.5, label=xcase[-1]) # use the best model with model 4\n",
    "#             axs[i, 1].plot(tvec, 1e3*tr_obs.data/amp_correction[-1], \"k-\", lw=1.5, label=xcase[-1])\n",
    "\n",
    "            #---------------------------------------------------------------------------------#\n",
    "            #===Compute B(omega)===#\n",
    "            #---------------------------------------------------------------------------------#\n",
    "\n",
    "            st0 = tr_obs.stats.starttime\n",
    "            pt = timedelta(milliseconds = tr_obs.stats.pretrigger)\n",
    "\n",
    "            dist = tr_obs.stats.dist #[mm]\n",
    "\n",
    "            if dist <= dist_p_threshold:\n",
    "                p_theoretical = tr_obs.stats.tpick\n",
    "            else:\n",
    "                p_theoretical = dist/vmean\n",
    "\n",
    "            # trim Pwave\n",
    "            starttime = st0+pt+(p_theoretical-pwin_len_pre)*1e-3 - pwin_len_margin\n",
    "            endtime = st0+pt+(p_theoretical-pwin_len_pre+pwin_len)*1e-3 + pwin_len_margin\n",
    "\n",
    "            tr_obs_trim = tr_obs.copy() # avoid error in multiple trim\n",
    "            tr_obs_trim.trim(starttime, endtime, pad=True, fill_value=0.0)\n",
    "            tr_obs_trim.data /= amp_correction[-1]\n",
    "\n",
    "            # trim synthetic data\n",
    "            tr_syn_trim = tr_syn.copy() # avoid error in multiple trim\n",
    "            tr_syn_trim.trim(starttime, endtime, pad=True, fill_value=0.0)\n",
    "\n",
    "            # trim the observation noise\n",
    "\n",
    "            print(f\"noise margin: {((tr_obs.stats.pretrigger+p_theoretical)*1e-3-noise_Pbackward)*1e6}μs\")\n",
    "            if ((tr_obs.stats.pretrigger+p_theoretical)*1e-3-noise_Pbackward)*1e6 < noise_winlen:\n",
    "                print(\"P_theoretical is smaller than noise winlen\")\n",
    "\n",
    "            tr_obs_noise = tr_obs.copy() # avoid error in multiple trim\n",
    "\n",
    "            noise_end_time = st0+pt+p_theoretical*1e-3-noise_Pbackward\n",
    "            noise_start_time = noise_end_time - noise_winlen\n",
    "\n",
    "            tr_obs_noise.trim(noise_start_time, noise_end_time, pad=True, fill_value=0.0) # trim before the p wave window\n",
    "            tr_obs_noise.data /= amp_correction[-1]\n",
    "\n",
    "            # preprocessing the traces\n",
    "#             tr_obs_trim.detrend(type=\"demean\").detrend(type=\"linear\").taper(max_percentage = 0.05).detrend(type=\"demean\")\n",
    "#             tr_syn_trim.detrend(type=\"demean\").detrend(type=\"linear\").taper(max_percentage = 0.05).detrend(type=\"demean\")\n",
    "#             tr_obs_noise.detrend(type=\"demean\").detrend(type=\"linear\").taper(max_percentage = 0.05).detrend(type=\"demean\")\n",
    "            \n",
    "#             tr_obs_trim.detrend(type=\"demean\").detrend(type=\"linear\").taper(max_percentage = 0.05).detrend(type=\"demean\").detrend(type=\"linear\")\n",
    "#             tr_syn_trim.detrend(type=\"demean\").detrend(type=\"linear\").taper(max_percentage = 0.05).detrend(type=\"demean\").detrend(type=\"linear\")\n",
    "#             tr_obs_noise.detrend(type=\"demean\").detrend(type=\"linear\").taper(max_percentage = 0.05).detrend(type=\"demean\").detrend(type=\"linear\")\n",
    "            \n",
    "            # remove offset and detrend by the first 5 microsec\n",
    "            noise_npts = int(5e-6*tr_obs_trim.stats.sampling_rate)\n",
    "            for tr in [tr_obs_trim, tr_syn_trim, ]:\n",
    "                kp = np.polyfit(tr.times()[:noise_npts], tr.data[:noise_npts], 1)\n",
    "                tr.data -= np.polyval(kp, tr.times())\n",
    "#                 tr.taper(max_percentage = taper_percent, type='hann') # apply taper after time shifted\n",
    "            \n",
    "            # for noise, detrend by the entire signal\n",
    "            for tr in [tr_obs_noise]:\n",
    "                kp = np.polyfit(tr.times()[:], tr.data[:], 1)\n",
    "                tr.data -= np.polyval(kp, tr.times())\n",
    "                tr.taper(max_percentage = taper_percent, type='hann')\n",
    "                      \n",
    "            #---Update: compute RMSE at max cc--#\n",
    "            # 1. shift the trace at maximum correlation function\n",
    "            cc = correlate(tr_obs_trim.copy().taper(max_percentage = taper_percent).data, tr_syn_trim.copy().taper(max_percentage = taper_percent).data, max_lag_shift, demean=False, normalize='naive') # the order is 1. obs and 2. syn\n",
    "            N_shift, _ = xcorr_max(cc,  abs_max=False)\n",
    "            #-----------------------------------#\n",
    "            tr_syn_trim_shifted = tr_syn_trim.copy()\n",
    "            tr_syn_trim_shifted.data = np.roll(tr_syn_trim.data, N_shift)# the discontinuity is trimmed by the margin\n",
    "            \n",
    "            # time shift to centralize the trace\n",
    "#             t_syn_center = (tr_syn_trim_shifted.times()[np.argmin(tr_syn_trim_shifted.data)] + tr_syn_trim_shifted.times()[np.argmax(tr_syn_trim_shifted.data)])/2\n",
    "            t_syn_center = (tr_syn_trim_shifted.times()[np.argmax(tr_syn_trim_shifted.data)])\n",
    "            Ncentralize = int((t_syn_center - centralize_loc)/tr_syn_trim_shifted.stats.delta)\n",
    "            for tr in [tr_obs_trim, tr_syn_trim_shifted, ]:\n",
    "                tr.data = np.roll(tr.data, -Ncentralize)\n",
    "            \n",
    "            print(f\"Ncentralize for {tr_obs_trim.stats.dataindex}: {Ncentralize}\")\n",
    "            \n",
    "            # trim the margin\n",
    "            st0_margin = tr_obs_trim.stats.starttime\n",
    "            starttime_margin = st0_margin + pwin_len_margin\n",
    "            endtime_margin = st0_margin + pwin_len_margin + pwin_len*1e-3\n",
    "\n",
    "            for tr in [tr_obs_trim, tr_syn_trim_shifted, tr_syn_trim]:\n",
    "                tr.trim(starttime_margin, endtime_margin)\n",
    "                print(f\"data length:{tr.stats.dataindex} {tr.stats.npts}\")\n",
    "            \n",
    "            # apply tapering\n",
    "            for tr in [tr_obs_trim, tr_syn_trim_shifted, tr_syn_trim]:\n",
    "                tr.taper(max_percentage = taper_percent, type='hann')\n",
    "            \n",
    "            # compute RMSE\n",
    "            RMSE = np.sqrt(np.mean(np.square(tr_obs_trim.data - np.roll(tr_syn_trim_shifted.data, N_shift))))\n",
    "            # compute VR\n",
    "            VRtmp1 = np.linalg.norm(tr_obs_trim.data - tr_syn_trim_shifted.data, axis=0, ord=2) ** 2 \n",
    "            VRtmp2 = np.linalg.norm(tr_obs_trim.data, axis=0, ord=2)**2 # scalled by the observation\n",
    "            VR = 1.0 - VRtmp1/VRtmp2\n",
    "            \n",
    "            # Compute FFT\n",
    "            Y_obs = np.fft.rfft(tr_obs_trim.data, n=NFFT)\n",
    "            Y_syn = np.fft.rfft(tr_syn_trim_shifted.data, n=NFFT)\n",
    "            Y_obs_noise = np.fft.rfft(tr_obs_noise.data, n=NFFT)\n",
    "\n",
    "            Y_obs_freq = np.fft.rfftfreq(NFFT, d=tr_obs_trim.stats.delta)\n",
    "            Y_syn_freq = np.fft.rfftfreq(NFFT, d=tr_syn_trim_shifted.stats.delta)\n",
    "            Y_obs_noise_freq = np.fft.rfftfreq(NFFT, d=tr_obs_noise.stats.delta)\n",
    "\n",
    "            # Apply smoothing\n",
    "            # ref: https://github.com/ROBelgium/MSNoise/blob/master/msnoise/s05compute_mwcs2.py#L92\n",
    "            Y_obs_smoothed = signal.convolve(Y_obs, hanningwindow.real, \"same\")\n",
    "            Y_syn_smoothed = signal.convolve(Y_syn, hanningwindow.real, \"same\")\n",
    "            Y_obs_noise_smoothed = signal.convolve(Y_obs_noise, hanningwindow.real, \"same\")\n",
    "\n",
    "\n",
    "            # compute B(omega)\n",
    "            B_attenu = Y_obs/Y_syn\n",
    "            Battenu_smoothed = Y_obs_smoothed/Y_syn_smoothed\n",
    "\n",
    "#             # Compute maximum cross-correlation function\n",
    "#             signal.correlate(tr_obs_trim.data, tr_syn_trim.data)\n",
    "\n",
    "            #--------------------------#\n",
    "            # plot figure for master plot\n",
    "            #--------------------------#\n",
    "            fig, [ax1, ax2] = plt.subplots(1, 2, figsize=(6., 2.87))#figsize=(9, 4.3))\n",
    "            \n",
    "            # plot P waveform\n",
    "            ax1.plot(tr_obs_trim.times()*1e6, tr_obs_trim.data*1e3, \"k-\", label=\"Observation\", lw=1.0, zorder=2)\n",
    "#             ax1.plot(tr_syn_trim.times()*1e6, tr_syn_trim.data*1e3, \"r-\", label=\"syn.\", lw=1.0)\n",
    "            \n",
    "            # plot the shfted trace\n",
    "#             ax1.plot(tr_syn_trim.times()*1e6, np.roll(tr_syn_trim.data, N_shift)*1e3, \"r-\", label=\"syn.\")\n",
    "            ax1.plot(tr_syn_trim_shifted.times()*1e6, tr_syn_trim_shifted.data*1e3, \"r-\", label=\"Model without attenuation\", zorder=3)\n",
    "            ax1.plot(tr_obs_noise.times()*1e6, tr_obs_noise.data*1e3, \"--\", c=\"gray\", label=\"Noise\", lw=1.0, zorder=1)\n",
    "\n",
    "            ax1.set_xlabel(\"Time [μs]\")\n",
    "            ax1.set_ylabel(\"Velocity [mm/s]\")\n",
    "\n",
    "            # ax1.set_title(f\"AS{tr_obs.stats.station[2:]} {tr_obs.stats.dataindex[6:]} VR={VR:.2f} N_shift={N_shift}\")\n",
    "            bd_loc = int(tr_obs.stats.dataindex[6:].split(\"_\")[1])\n",
    "            ax1.set_title(f\"AS{tr_obs.stats.station[2:]} ball-drop at {bd_loc:.0f} mm VR={VR:.2f}\", fontsize=10.)\n",
    "#             ax2.set_xlim([0.0, 20])\n",
    "            \n",
    "            ylimit_wf_p = np.array([-Asyn, Asyn])*3e3\n",
    "\n",
    "            ax1.set_xlim([0.0, 15])\n",
    "        \n",
    "#             ax1.set_ylim(ylimit_wf_p)\n",
    "            ax1.set_ylim([-0.05, 0.05])\n",
    "    \n",
    "            # plot tukey taper window\n",
    "            taperwindow = signal.windows.hann(tr_obs_trim.stats.npts) # taper with 0.5 is equivalent to hanning window\n",
    "            taperwindow_scale = 0.04\n",
    "            ax1.plot(tr_obs_trim.times()*1e6, taperwindow*taperwindow_scale, \"g:\", label=\"\", lw=1)\n",
    "        \n",
    "            ax1.legend(loc=3, fontsize=8.6)\n",
    "            \n",
    "            # annotate info\n",
    "#             ax1.text(6.0, -0.11, f\"source distance = {tr_obs_trim.stats.dist:.1f}mm\\nincident angle    = {theta4:.0f}°\")\n",
    "#             ax1.text(5.5, -0.09, f\"source distance = {tr_obs_trim.stats.dist:.1f}mm\")\n",
    "        \n",
    "            # plot P wave spectra\n",
    "#             amp0 = np.max(np.abs(Y_obs)) # normalize the dB by the maximum of observation\n",
    "#             ax2.semilogx(Y_obs_freq/1e6,  20 * np.log10(np.abs(Y_obs)/amp0), \"k.--\", label=\"\", lw=1.0)\n",
    "#             ax2.semilogx(Y_syn_freq/1e6,  20 * np.log10(np.abs(Y_syn)/amp0), \"r.--\", label=\"\", lw=1.0)\n",
    "#             ax2.semilogx(Y_obs_freq/1e6,  20 * np.log10(np.abs(B_attenu)), \"g.--\", label=\"B(ω)\")\n",
    "#             ax2.semilogx(Y_obs_noise_freq/1e6,  20 * np.log10(np.abs(Y_obs_noise)/amp0),  \".--\", c=\"gray\",label=\"\", lw=1.0)\n",
    "            \n",
    "#             amp0_smoothed = np.max(np.abs(Y_obs_smoothed))\n",
    "            # normalize the amplitude at 100kHz\n",
    "            amp0_freq = 100e3\n",
    "            print(f\"freq normalized at {amp0_freq}Hz\")\n",
    "            amp0_smoothed = np.interp(amp0_freq, Y_obs_freq, np.abs(Y_obs_smoothed))\n",
    "        \n",
    "            ax2.semilogx(Y_obs_freq/1e6,  20 * np.log10(np.abs(Y_obs_smoothed)/amp0_smoothed), \"k.-\", label=\"obs.\", lw=1.0, zorder=2)\n",
    "            ax2.semilogx(Y_syn_freq/1e6,  20 * np.log10(np.abs(Y_syn_smoothed)/amp0_smoothed), \"rd-\", label=\"syn.\", lw=1.0, ms=3.2, zorder=3)\n",
    "#             ax2.semilogx(Y_obs_freq/1e6,  20 * np.log10(np.abs(Battenu_smoothed)), \".-\", c=\"g\", label=\"\")\n",
    "            ax2.semilogx(Y_obs_noise_freq/1e6,  20 * np.log10(np.abs(Y_obs_noise_smoothed)/amp0_smoothed),  \"^--\", c=\"gray\", label=\"noise\", lw=1.0, ms=3, zorder=1)\n",
    "            \n",
    "            ax2.set_xlabel(\"Frequency [MHz]\")\n",
    "            ax2.set_ylabel(\"Amplitude [dB]\")\n",
    "\n",
    "            ax2.set_xlim([0.06, 2])\n",
    "            ax2.set_ylim([-60, 20])\n",
    "            ax2.grid(True, c=np.array([230, 230, 230])/255, lw=0.25, which=\"major\",)\n",
    "            ax2.set_axisbelow(True)\n",
    "            # ax2.legend(loc=1, fontsize=9)\n",
    "\n",
    "            ax2.xaxis.set_major_formatter(mticker.FormatStrFormatter('%.1f'))\n",
    "            # ax2.ticklabel_format(style='plain', axis='x')\n",
    "\n",
    "            # plot sensor natural frequency\n",
    "#             f_naturalfreq = 1e6 / 1e6\n",
    "#             ax2.axvline()\n",
    "            plt.subplots_adjust(wspace=1.0)\n",
    "\n",
    "            plt.tight_layout()\n",
    "#             plt.savefig(\"../figure/velocityspectra.png\", dpi=300)\n",
    "#             plt.savefig(\"../figure/velocityspectra.eps\")\n",
    "\n",
    "            plt.savefig(figdir_Bomega+\"/FigS_master_computeBomega_{}_window.png\".format(dataindex), format=\"png\", dpi=70, bbox_inches=\"tight\")\n",
    "            plt.savefig(figdir_Bomega+\"/FigS_master_computeBomega_{}_window.eps\".format(dataindex), format=\"eps\", bbox_inches=\"tight\")\n",
    "\n",
    "            # dump the data\n",
    "        \n",
    "            # Bomega_all[f\"{dataindex}_dist\"] = tr_obs.stats.dist\n",
    "            # Bomega_all[f\"{dataindex}_Y_obs\"] = Y_obs\n",
    "            # Bomega_all[f\"{dataindex}_Y_syn\"] = Y_syn\n",
    "            # Bomega_all[f\"{dataindex}_Y_obs_noise\"] = Y_obs_noise\n",
    "\n",
    "            # Bomega_all[f\"{dataindex}_Battenu\"] = B_attenu\n",
    "            # Bomega_all[f\"{dataindex}_Battenu_smoothed\"] = Battenu_smoothed\n",
    "            "
   ]
  },
  {
   "cell_type": "code",
   "execution_count": null,
   "metadata": {},
   "outputs": [],
   "source": []
  },
  {
   "cell_type": "markdown",
   "metadata": {},
   "source": [
    "# Plot the waveform with P window"
   ]
  },
  {
   "cell_type": "code",
   "execution_count": 52,
   "metadata": {},
   "outputs": [
    {
     "name": "stdout",
     "output_type": "stream",
     "text": [
      "(1+0j)\n",
      "smoothing half win:117.1875kHz\n"
     ]
    },
    {
     "name": "stderr",
     "output_type": "stream",
     "text": [
      "  0%|                                                     | 0/1 [00:00<?, ?it/s]"
     ]
    },
    {
     "name": "stdout",
     "output_type": "stream",
     "text": [
      "OL20__BD_0700\n",
      "OL20__BD_1300\n",
      "OL20__BD_1420\n"
     ]
    },
    {
     "name": "stderr",
     "output_type": "stream",
     "text": [
      "The PostScript backend does not support transparency; partially transparent artists will be rendered opaque.\n",
      "100%|█████████████████████████████████████████████| 1/1 [00:00<00:00,  3.97it/s]\n"
     ]
    },
    {
     "data": {
      "image/png": "[encoded data removed]",
      "text/plain": [
       "<Figure size 800x280 with 1 Axes>"
      ]
     },
     "metadata": {},
     "output_type": "display_data"
    }
   ],
   "source": [
    "ampfactor_comparison = np.zeros((0, 4))\n",
    "trcount = 0\n",
    "theta_evalerr = np.zeros(Nd)\n",
    "err_evalerr = np.zeros(Nd)\n",
    "\n",
    "vp = 6200\n",
    "vs = 3600\n",
    "\n",
    "hanningwindow = signal.windows.hann(2*smoothing_half_win+1).astype('complex')\n",
    "hanningwindow /= smoothing_half_win #len(hanningwindow) # divide by half win so that the summation of window weights is unity\n",
    "print(np.sum(hanningwindow))\n",
    "\n",
    "# smoothing half width in frequency\n",
    "\n",
    "dfreq= Y_obs_freq[1] - Y_obs_freq[0]\n",
    "smooth_half_win_freq = smoothing_half_win * dfreq\n",
    "print(f\"smoothing half win:{smooth_half_win_freq/1e3}kHz\")\n",
    "\n",
    "\n",
    "# for stnm in tqdm(AEsensors):\n",
    "for stnm in tqdm(AEsensors[19:20]):\n",
    "    # stnm = AEsensors[11]\n",
    "    finame = os.path.join(bdwaveform_datadir, \"{}_bdwaveform_longpretrig.pickle\".format(stnm)) \n",
    "    st = read(finame, format=\"PICKLE\")\n",
    "\n",
    "    # prefilitering traces\n",
    "    # demean\n",
    "#     st.detrend(type='demean')\n",
    "#     # apply bandpass\n",
    "#     st.filter(\"bandpass\", freqmin=freqmin, freqmax=freqmax, corners=4, zerophase=True)     # NO FILTER for the analysis of attenuation\n",
    "    # apply taper\n",
    "#     st.taper(max_percentage=0.001)   \n",
    "\n",
    "    # Select observation and synthetic\n",
    "    st_obs = st.select(channel='OY')\n",
    "    st_syn = st.select(channel='SY')\n",
    "    \n",
    "    # Extract the traces used in the Si inversion\n",
    "    for i, tr_obs in enumerate(st_obs):\n",
    "        if tr_obs.stats.dataindex not in np.squeeze(df_caseid.values):\n",
    "            print(tr_obs.stats.dataindex)\n",
    "            st_obs.remove(tr_obs)\n",
    "    \n",
    "    for i, tr_obs in enumerate(st_obs):\n",
    "            \n",
    "            if tr_obs.stats.location != selected_BDid:\n",
    "                continue\n",
    "            \n",
    "            dataindex = tr_obs.stats.dataindex\n",
    "            tr_syn = list(filter(lambda tr: tr.stats.dataindex == dataindex, st_syn))[0]\n",
    "\n",
    "            dist = tr_obs.stats.dist #[mm]\n",
    "\n",
    "            if dist <= dist_p_threshold:\n",
    "                p_theoretical = tr_obs.stats.tpick\n",
    "            else:\n",
    "                p_theoretical = dist/vmean\n",
    "\n",
    "            tvec = np.array(range(0, tr_syn.stats.npts))*tr_syn.stats.delta*1e3 - tr_obs.stats.pretrigger #[ms]\n",
    "\n",
    "            #---compute correction coefficient from Si, Tj and alpha(theta)---#\n",
    "            amp_correction = np.zeros(4) # 4 models\n",
    "            ii, jj = [cij[dataindex][0]-1, cij[dataindex][1]-1]\n",
    "            kk = df_caseid.index[df_caseid.caseid == dataindex][0]\n",
    "\n",
    "            Asyn = Aksyn[kk]\n",
    "\n",
    "            # model 1: gain model\n",
    "            Si1 = df_Si[\"model1\"][ii]\n",
    "            amp_correction[0] = Si1\n",
    "\n",
    "            # model 3: directionality-dominant\n",
    "            Si3 = df_Si[\"model3\"][ii]\n",
    "            theta3 = df_disttheta[\"theta\"][kk]\n",
    "#             alpha3 = model_bell(theta3, 1.0, a3, b3) # bell-shape \n",
    "#             amp_correction[1] = Si3*alpha3\n",
    "            TR3 = df_TR[\"model3\"][0]\n",
    "            k3 = incidentangle_scalingfactor_analytic(v, np.deg2rad(theta3), TR3, R)\n",
    "            amp_correction[1] = Si3*k3\n",
    "            #model 2: source impact-dominant\n",
    "            Si2 = df_Si[\"model2\"][ii]\n",
    "            Tj2 = df_Tj[\"model2\"][jj]\n",
    "            amp_correction[2] = Si2*Tj2\n",
    "            \n",
    "            # model 4: mix model\n",
    "            Si4 = df_Si[\"model4\"][ii]\n",
    "            Tj4 = df_Tj[\"model4\"][jj]\n",
    "            theta4 = df_disttheta[\"theta\"][kk]\n",
    "#             alpha4 = model_bell(theta4, 1.0, a4, b4) # bell-shape \n",
    "            TR4 = df_TR[\"model4\"][0]\n",
    "            k4 = incidentangle_scalingfactor_analytic(v, np.deg2rad(theta4), TR4, R)\n",
    "\n",
    "            amp_correction[3] = Si4*Tj4*k4\n",
    "\n",
    "#             print((Si4, Tj4, k4))\n",
    "            ampfactor_comparison = np.vstack((ampfactor_comparison, [df_disttheta[\"theta\"][kk], \n",
    "                            amp_correction[3]/amp_correction[0],  amp_correction[3]/amp_correction[1], amp_correction[3]/amp_correction[2]]))\n",
    "    \n",
    "            #---------------------------------------------------------------------------------#\n",
    "\n",
    "            # remove offset and detrend by the first 5 microsec\n",
    "            st0 = tr_obs.stats.starttime\n",
    "            pt = timedelta(milliseconds = tr_obs.stats.pretrigger)\n",
    "\n",
    "            dist = tr_obs.stats.dist #[mm]\n",
    "\n",
    "            if dist <= dist_p_threshold:\n",
    "                p_theoretical = tr_obs.stats.tpick\n",
    "            else:\n",
    "                p_theoretical = dist/vmean\n",
    "\n",
    "            # trim Pwave\n",
    "            starttime = st0+pt+(p_theoretical-pwin_len_pre)*1e-3 - pwin_len_margin\n",
    "            st_P = int(starttime.microsecond*1e-6/tr_obs.stats.delta)\n",
    "            noise_npts = int(5e-6*tr_obs.stats.sampling_rate)\n",
    "            for tr in [tr_obs, tr_syn]:\n",
    "                kp = np.polyfit(tr.times()[st_P:st_P+noise_npts], tr.data[st_P:st_P+noise_npts], 1)\n",
    "                tr.data -= np.polyval(kp, tr.times())\n",
    "\n",
    "            # Deprecated: Apply bandpass-filter to mitigate the numerical noise in synthetics\n",
    "            # just for the sake of ease in visuallization, we apply band-pass filter\n",
    "            freqmin = 0.06e6\n",
    "            freqmax = 1e6\n",
    "            sos = signal.butter(3, [freqmin, freqmax], 'bandpass', fs=tr_obs.stats.sampling_rate, output='sos')\n",
    "            tr_syn_filtered = tr_syn.copy()\n",
    "            tr_obs_filtered = tr_obs.copy()\n",
    "#             tr_syn_filtered.filter(\"bandpass\", freqmin=freqmin, freqmax=freqmax, corners=3, zerophase=False)    \n",
    "#             tr_obs_filtered.filter(\"bandpass\", freqmin=freqmin, freqmax=freqmax, corners=3, zerophase=False)    \n",
    "#             tr_syn_filtered.data = signal.sosfilt(sos, tr_syn_filtered.data)\n",
    "#             tr_obs_filtered.data = signal.sosfilt(sos, tr_obs_filtered.data)\n",
    "\n",
    "            fig, ax = plt.subplots(1, 1, figsize=(8, 2.8)) #2.8))\n",
    "            \n",
    "#             ax.plot(tvec, 1e3*tr_obs_filtered.data/amp_correction[-1], \"k-\", label=\"obs.\", lw=1.0)\n",
    "#             ax.plot(tvec, 1e3*tr_syn_filtered.data, 'r-', label=\"syn.\", lw=1.0)\n",
    "\n",
    "            # plot raw data\n",
    "            ax.plot(tvec, 1e3*tr_obs.data/amp_correction[-1], \"k-\", label=\"obs.\", lw=1.0)\n",
    "            ax.plot(tvec+N_shift*tr_syn.stats.delta*1e3, 1e3*tr_syn.data, 'r-', label=\"syn.\", lw=1.0)\n",
    "          \n",
    "            ax.set_xlabel(\"Time [ms]\")\n",
    "            ax.set_ylabel(\"Velocity [mm/s]\")\n",
    "            \n",
    "            ax.set_xlim([0, 0.08]) #[0.035, 0.05])\n",
    "#             ax.set_xlim([0.04, 0.06])\n",
    "            \n",
    "#             ax1.set_ylim(ylimit_wf_p)\n",
    "            ylimit = [-0.25, 0.25]\n",
    "            ax.set_ylim(ylimit)\n",
    "#             ax.set_ylim([-0.001, 0.001])\n",
    "    \n",
    "            #----------------------------------#\n",
    "            # annotate arrival times and window\n",
    "            #----------------------------------#\n",
    "\n",
    "            dist = tr_obs_filtered.stats.dist\n",
    "            tp = dist/vp\n",
    "            ts = dist/vs\n",
    "            if dist <= dist_p_threshold:\n",
    "                p_theoretical = tr_obs.stats.tpick\n",
    "            else:\n",
    "                p_theoretical = dist/vmean\n",
    "                \n",
    "#             ax.plot(tr_obs_trim_PLT.stats.dist/param[\"cp\"], arrivaltime_y-i, \"v\", ms=5.5, mec=\"k\", mfc=\"w\")\n",
    "#     ax.plot(tr_obs_trim_PLT.stats.dist/param[\"cs\"], arrivaltime_y-i, \"s\", ms=5, mec=\"k\", mfc=\"w\")\n",
    "#             ax.plot(tp, 0.3, \"v\", ms=5.5, mec=\"k\", mfc=\"w\")\n",
    "            ax.plot(ts, 0.1, \"s\", ms=5, mec=\"k\", mfc=\"w\")\n",
    "#             ax.text(tp, 0.35, \"P\", ha=\"center\")\n",
    "            ax.text(ts, 0.125, \"S\", ha=\"center\")\n",
    "            \n",
    "            # trimmed windows\n",
    "            \n",
    "            st0 = tr_obs.stats.starttime\n",
    "            pt = timedelta(milliseconds = tr_obs.stats.pretrigger)\n",
    "            \n",
    "            centralize_tshift = Ncentralize * tr_obs.stats.delta # observed and synthetic waveforms are shifted to centralize the first peak\n",
    "            p_starttime = (p_theoretical-pwin_len_pre)*1e-3 + centralize_tshift\n",
    "            p_endtime = (p_theoretical-pwin_len_pre+pwin_len)*1e-3 + centralize_tshift\n",
    "            \n",
    "            bar_y = 0.06\n",
    "            ax.plot(np.array([p_starttime, p_endtime])*1e3, np.array([bar_y, bar_y]), \"k-\", marker=\"|\" )\n",
    "            ax.text((p_starttime+p_endtime)*1e3/2, 0.09, \"P\", ha=\"center\")\n",
    "#             ax.plot((p_starttime+p_endtime)*1e3/2, 0.175, \"o\")\n",
    "#             ax.axhline(0.04)\n",
    "\n",
    "            # trim synthetic data\n",
    "            tr_syn_trim = tr_syn.copy() # avoid error in multiple trim\n",
    "            tr_syn_trim.trim(starttime, endtime, pad=True, fill_value=0.0)\n",
    "\n",
    "            # trim the observation noise\n",
    "            noise_start_time = p_starttime - noise_winlen\n",
    "            noise_end_time = p_theoretical*1e-3-noise_Pbackward\n",
    "            \n",
    "            bar_y_noise = -0.05\n",
    "            ax.plot(np.array([noise_start_time, noise_end_time])*1e3, np.array([bar_y_noise, bar_y_noise]), \"k-\", marker=\"|\" )\n",
    "            ax.text((noise_start_time+noise_end_time)*1e3/2, -0.11, \"background noise\", ha=\"center\")\n",
    "            \n",
    "            ax.set_title(f\"AS{tr_obs.stats.station[2:]} {tr_obs.stats.dataindex[6:]}\")\n",
    "            \n",
    "            ax.legend(loc=2)\n",
    "            ax.text(0.0025, -0.2, f\"source distance = {tr_obs_trim.stats.dist:.1f}mm\")\n",
    "\n",
    "            \n",
    "            plt.tight_layout()\n",
    "\n",
    "\n",
    "            plt.savefig(figdir_Bomega+\"/trace_master_computeBomega_{}.png\".format(dataindex), format=\"png\", dpi=150, bbox_inches=\"tight\")\n",
    "            plt.savefig(figdir_Bomega+\"/trace_master_computeBomega_{}.eps\".format(dataindex), format=\"eps\", bbox_inches=\"tight\")\n",
    "\n"
   ]
  },
  {
   "cell_type": "code",
   "execution_count": null,
   "metadata": {},
   "outputs": [],
   "source": []
  },
  {
   "cell_type": "code",
   "execution_count": null,
   "metadata": {},
   "outputs": [],
   "source": []
  }
 ],
 "metadata": {
  "kernelspec": {
   "display_name": "Python 3 (ipykernel)",
   "language": "python",
   "name": "python3"
  },
  "language_info": {
   "codemirror_mode": {
    "name": "ipython",
    "version": 3
   },
   "file_extension": ".py",
   "mimetype": "text/x-python",
   "name": "python",
   "nbconvert_exporter": "python",
   "pygments_lexer": "ipython3",
   "version": "3.12.9"
  }
 },
 "nbformat": 4,
 "nbformat_minor": 4
}

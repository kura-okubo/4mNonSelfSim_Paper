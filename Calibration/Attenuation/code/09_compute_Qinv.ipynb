{
 "cells": [
  {
   "cell_type": "markdown",
   "metadata": {},
   "source": [
    "# Compute $Q^{-1}$ of 4 meter rock specimen \n",
    "\n",
    "To analyze the effect of attenuation on the source time function pulse, we compute the frequency-dependent $Q^{-1}(\\omega)$.\n",
    "\n",
    "2024.07.17 Kurama Okubo\n",
    "\n",
    "- 2024.07.22 update to count how many pairs we removed due to $|B|>1$.\n",
    "- 2025.03.16 update for master plot"
   ]
  },
  {
   "cell_type": "code",
   "execution_count": null,
   "metadata": {},
   "outputs": [],
   "source": [
    "import os\n",
    "import obspy\n",
    "from obspy import read, Stream, Trace\n",
    "from scipy import signal\n",
    "import scipy.io as sio\n",
    "import matplotlib.pyplot as plt\n",
    "import matplotlib.ticker as mticker\n",
    "%matplotlib inline\n",
    "import glob\n",
    "from glob import glob\n",
    "import numpy as np\n",
    "import mpmath as mp\n",
    "import pandas as pd\n",
    "import datetime\n",
    "from datetime import timedelta\n",
    "from tqdm import tqdm\n",
    "import warnings\n",
    "\n",
    "from matplotlib import gridspec\n",
    "\n",
    "from scipy import interpolate\n",
    "from scipy.optimize import curve_fit  \n",
    "import matplotlib as mpl\n",
    "import pickle\n",
    "\n",
    "import seaborn as sns \n",
    "from scipy.interpolate import CubicSpline\n",
    "\n",
    "\n",
    "plt.rcParams[\"font.family\"] = 'Arial'\n",
    "# plt.rcParams[\"font.sans-serif\"] = \"DejaVu Sans, Arial, Helvetica, Lucida Grande, Verdana, Geneva, Lucid, Avant Garde, sans-serif\"\n",
    "plt.rcParams[\"font.size\"] = 10\n",
    "plt.rcParams[\"xtick.direction\"] = \"in\"\n",
    "plt.rcParams[\"xtick.major.size\"] = 4.75\n",
    "plt.rcParams[\"xtick.major.width\"] = 0.75\n",
    "plt.rcParams[\"xtick.minor.size\"] = 3\n",
    "plt.rcParams[\"xtick.minor.width\"] = 0.4\n",
    "plt.rcParams[\"xtick.minor.visible\"] = True\n",
    "\n",
    "plt.rcParams[\"ytick.direction\"] = \"in\"\n",
    "plt.rcParams[\"ytick.major.size\"] = 4.75\n",
    "plt.rcParams[\"ytick.major.width\"] = 0.75\n",
    "plt.rcParams[\"ytick.minor.size\"] = 3\n",
    "plt.rcParams[\"ytick.minor.width\"] = 0.4\n",
    "plt.rcParams[\"ytick.minor.visible\"] = True\n",
    "\n",
    "plt.rcParams[\"savefig.transparent\"] = True\n",
    "plt.rcParams['axes.linewidth'] = 0.75\n",
    "\n",
    "from obspy.core.utcdatetime import UTCDateTime  \n",
    "os.environ['TZ'] = 'GMT' # change time zone to avoid confusion in unix_tvec conversion\n",
    "UTCDateTime.DEFAULT_PRECISION = 8"
   ]
  },
  {
   "cell_type": "markdown",
   "metadata": {},
   "source": [
    "# Method to compute $Q^{-1}(\\omega)$\n",
    "\n",
    "$$ y(\\omega) = s(\\omega)G(\\omega; \\mathbf{x}) \\exp{\\left( - \\dfrac{\\omega t}{2 Q(\\omega)} \\right) }  $$\n",
    "\n",
    "Thus, \n",
    "\n",
    "$$ \\log \\left| \\dfrac{y(\\omega)}{s(\\omega)G(\\omega; \\mathbf{x})} \\right| = - \\dfrac{\\omega t}{2 Q(\\omega)}, $$\n",
    "\n",
    "where $t$ is the travel time, and for P wave pulse we assume $t = r/v_p$, $r=|\\mathbf{x}|$. The Green's function is numerically computed for the relative location from source to the receiver at $\\mathbf{x}$.\n",
    "\n",
    "Therefore,\n",
    "$$  Q(\\omega) = - \\dfrac{\\omega t}{2 \\ln \\left| \\dfrac{y(\\omega)}{s(\\omega)G(\\omega; \\mathbf{x})} \\right|} $$\n",
    "\n",
    "$$  Q^{-1}(f) = - \\dfrac{1}{\\pi f t}  \\ln \\left| \\dfrac{y(f)}{s(f)G(f; \\mathbf{x})} \\right| $$\n",
    "\n",
    "We plot the right side for each balldrop-AE sensor pair, and stack them to obtain the averaged $Q^{-1}(\\omega)$.\n",
    "\n",
    "We denote $\\dfrac{y(\\omega)}{s(\\omega)G(\\omega; \\mathbf{x})}  = B(\\omega)$, which is computed in the previous notebook `08_plot_surfaceeffect_result_Case2.ipynb`.\n",
    "\n",
    "\n",
    "## remove the negative $Q^{-1}(\\omega)$ due to the noise of spectrum \n",
    "Due to the noise of spectra, sometimes $|B(\\omega)|$ becomes greater than 1, which is not appropriate as the observation is amplified by $|B(\\omega)|$. Therefore, we use the $Q^{-1}(\\omega)$ only with $|B(\\omega)|<1$ to obtain the stacked attenuation factor."
   ]
  },
  {
   "cell_type": "code",
   "execution_count": null,
   "metadata": {},
   "outputs": [],
   "source": [
    "figdir = \"../figure/09_Qinv/\"\n",
    "if not os.path.exists(figdir):\n",
    "    os.makedirs(figdir)"
   ]
  },
  {
   "cell_type": "markdown",
   "metadata": {},
   "source": [
    "# Compute the attenuation factor"
   ]
  },
  {
   "cell_type": "code",
   "execution_count": null,
   "metadata": {},
   "outputs": [],
   "source": [
    "# load B(omega)\n",
    "with open('../data/Bomega_all.pickle', mode='rb') as fi:\n",
    "    Bomega_all = pickle.load(fi)\n"
   ]
  },
  {
   "cell_type": "code",
   "execution_count": null,
   "metadata": {},
   "outputs": [],
   "source": [
    "Bomega_keys = list(Bomega_all)"
   ]
  },
  {
   "cell_type": "code",
   "execution_count": null,
   "metadata": {},
   "outputs": [],
   "source": [
    "Bomega_keys\n",
    "\n",
    "datacases=[]\n",
    "for key in Bomega_all:\n",
    "    if (\"BD\" in key) & (key[:13] not in datacases):\n",
    "        datacases.append(key[:13])"
   ]
  },
  {
   "cell_type": "code",
   "execution_count": null,
   "metadata": {},
   "outputs": [],
   "source": [
    "Ncases = len(datacases)\n",
    "print(f\"Ncases: {Ncases}\")\n",
    "vp = 6200 #[m/s]\n",
    "\n",
    "NFFT = Bomega_all[\"NFFT\"]\n",
    "dt = Bomega_all[\"dt\"]\n",
    "freq = np.fft.rfftfreq(NFFT, dt)\n",
    "\n",
    "Qinv_all = np.zeros((Ncases, len(freq)-1), float) # we avoid f=0"
   ]
  },
  {
   "cell_type": "code",
   "execution_count": null,
   "metadata": {},
   "outputs": [],
   "source": [
    "np.log(np.e)"
   ]
  },
  {
   "cell_type": "code",
   "execution_count": null,
   "metadata": {},
   "outputs": [],
   "source": [
    "VR_threshold = 0.95\n",
    "const_Bover1 = np.nan #0.96 #np.nan #0.99 #np.nan # skip the value when B(omega)>1\n",
    "\n",
    "count_pairs_VRthresh = 0\n",
    "dist_pairs_VRthresh = []\n",
    "\n",
    "for i, dataindex in enumerate(datacases):\n",
    "    # i = 0\n",
    "    # dataindex = datacases[i]\n",
    "\n",
    "    dist = Bomega_all[f\"{dataindex}_dist\"]\n",
    "    VR = Bomega_all[f\"{dataindex}_VR\"]\n",
    "    if VR<VR_threshold:\n",
    "        continue\n",
    "    else:\n",
    "        count_pairs_VRthresh += 1\n",
    "        dist_pairs_VRthresh.append(dist)\n",
    "\n",
    "    tt = dist*1e-3/vp # [s]\n",
    "#     print(tt*1e6)\n",
    "\n",
    "    Battenu = Bomega_all[f\"{dataindex}_Battenu\"]\n",
    "    Battenu_smoothed = Bomega_all[f\"{dataindex}_Battenu_smoothed\"]\n",
    "    \n",
    "    # remove the inconsistent data with B(omega)\n",
    "    \n",
    "    # compute to align a given resp\n",
    "    # const_Bover1_byQ = np.exp(5e-3 * -np.pi * 2e5 * tt)\n",
    "    \n",
    "    # Battenu[np.abs(Battenu)>1] = const_Bover1 # const_Bover1_byQ  #const_Bover1\n",
    "    Battenu_smoothed[np.abs(Battenu_smoothed)>1] =  const_Bover1 #const_Bover1_byQ # const_Bover1\n",
    "    \n",
    "#     Qinv_all[i, :] = -(1/(np.pi*freq[1:]*tt)) * np.log(np.abs(Battenu[1:]))\n",
    "    Qinv_all[i, :] = -(1/(np.pi *freq[1:]*tt)) * np.log(np.abs(Battenu_smoothed[1:]))\n",
    "#     print(np.sign(np.log(np.abs(Battenu[1:]))))"
   ]
  },
  {
   "cell_type": "code",
   "execution_count": null,
   "metadata": {},
   "outputs": [],
   "source": [
    "print(f\"Number of pairs: {count_pairs_VRthresh}/{len(datacases)}\")\n",
    "\n",
    "print(f\"Distance of pairs: {np.mean(dist_pairs_VRthresh)} ± {np.std(dist_pairs_VRthresh)}mm\")\n"
   ]
  },
  {
   "cell_type": "code",
   "execution_count": null,
   "metadata": {},
   "outputs": [],
   "source": [
    "Battenu_smoothed"
   ]
  },
  {
   "cell_type": "code",
   "execution_count": null,
   "metadata": {},
   "outputs": [],
   "source": [
    "# count the non-nan values\n",
    "print(Qinv_all.shape)\n",
    "np.count_nonzero(~np.isnan(Qinv_all), axis=0)\n"
   ]
  },
  {
   "cell_type": "code",
   "execution_count": null,
   "metadata": {},
   "outputs": [],
   "source": []
  },
  {
   "cell_type": "code",
   "execution_count": null,
   "metadata": {},
   "outputs": [],
   "source": []
  },
  {
   "cell_type": "code",
   "execution_count": null,
   "metadata": {},
   "outputs": [],
   "source": [
    "# plot figure for debugging\n",
    "fig, ax = plt.subplots(1, 1, figsize=(8, 6))\n",
    "\n",
    "for i, dataindex in enumerate(datacases):\n",
    "    \n",
    "    dist = Bomega_all[f\"{dataindex}_dist\"]\n",
    "#     if dist > 90:\n",
    "#         continue\n",
    "    \n",
    "    ax.loglog(freq[1:]*1e-6, Qinv_all[i, :], \"o\",)# c=\"gray\", ms=3) # low VR cases are not plotted in log\n",
    "#     ax.plot(freq[1:]*1e-6, Qinv_all[i, :], \"o\",)# c=\"gray\", ms=3)\n",
    "    \n",
    "# plot P waveform\n",
    "ax.set_xlim([0.06,1.])\n",
    "# ax.set_ylim([1e-4, 1])\n",
    "# ax.set_ylim([-0.1, 0.1])\n",
    "\n",
    "ax.grid(True, c=np.array([230, 230, 230])/255, lw=0.25, which=\"both\",)\n",
    "\n",
    "# plot constant B slope f^{-1}\n",
    "\n",
    "constB_k = 1e3\n",
    "constB = constB_k*freq[1:]**(-1)\n",
    "ax.plot(freq[1:]*1e-6, constB, \"k--\")\n",
    "\n",
    "# ax.legend(loc=0)\n",
    "\n",
    "ax.set_xlabel(\"Frequency [MHz]\")\n",
    "ax.set_ylabel(\"Attenuation, Q$^{-1}$\")"
   ]
  },
  {
   "cell_type": "markdown",
   "metadata": {},
   "source": [
    "# Compute stacked $Q^{-1}$\n",
    "\n",
    "We compute the statistics of the data to obtain the quartile of $Q^{-1}$ and get the median curve, which is used to compute the attenuation factor."
   ]
  },
  {
   "cell_type": "code",
   "execution_count": null,
   "metadata": {},
   "outputs": [],
   "source": [
    "# Store the data to dataframe\n",
    "# df_Qinv = pd.DataFrame(data=Qinv_all, index=datacases, columns=freq[1:])\n",
    "\n",
    "df_Qinv = pd.DataFrame(columns=[\"dataindex\", \"freq\", \"Qinv\", \"distance[mm]\"])\n",
    "\n",
    "for i, dataindex in enumerate(datacases):\n",
    "    # i = 0\n",
    "    # dataindex = datacases[i]\n",
    "\n",
    "    dist = Bomega_all[f\"{dataindex}_dist\"]\n",
    "    VR = Bomega_all[f\"{dataindex}_VR\"]\n",
    "    \n",
    "    if VR<VR_threshold:\n",
    "        continue\n",
    "        \n",
    "    tt = dist*1e-3/vp # [s]\n",
    "    #     print(tt*1e6)\n",
    "\n",
    "    Battenu = Bomega_all[f\"{dataindex}_Battenu\"]\n",
    "    Battenu_smoothed = Bomega_all[f\"{dataindex}_Battenu_smoothed\"]\n",
    "\n",
    "    # remove the inconsistent data with B(omega)<1\n",
    "    Battenu[np.abs(Battenu)>1] = const_Bover1\n",
    "    Battenu_smoothed[np.abs(Battenu_smoothed)>1] = const_Bover1\n",
    "\n",
    "    #     Qinv_all[i, :] = -(1/(np.pi*freq[1:]*tt)) * np.log(np.abs(Battenu[1:]))\n",
    "    Qinv_tmp= -(1/(np.pi*freq[1:]*tt)) * np.log(np.abs(Battenu_smoothed[1:]))\n",
    "    #     print(np.sign(np.log(np.abs(Battenu[1:]))))\n",
    "\n",
    "    data = {\"freq\":freq[1:]/1e6, \"Qinv\":Qinv_tmp}\n",
    "\n",
    "    df_tmp = pd.DataFrame.from_dict(data)\n",
    "    df_tmp.loc[:, \"dataindex\"] = dataindex\n",
    "    df_tmp.loc[:, \"distance[mm]\"] = dist\n",
    "    df_tmp.loc[:, \"VR\"] = VR\n",
    "\n",
    "    if not df_Qinv.empty:\n",
    "        df_Qinv = pd.concat([df_Qinv, df_tmp], ignore_index=True)\n",
    "    else:\n",
    "        df_Qinv = df_tmp"
   ]
  },
  {
   "cell_type": "code",
   "execution_count": null,
   "metadata": {},
   "outputs": [],
   "source": [
    "Npair_valid_all = np.zeros((len(freq[1:]), 2)) # count the number where |B(ω)| <= 1\n",
    "for i, f in enumerate(freq[1:]/1e6):\n",
    "    df_tmp = df_Qinv[df_Qinv[\"freq\"]==f]\n",
    "    Nnan = df_tmp[\"Qinv\"].isna().sum()\n",
    "    Npair_valid = count_pairs_VRthresh-Nnan\n",
    "    Npair_valid_all[i, :] = [f, Npair_valid]\n",
    "#     print(f, Nnan, )"
   ]
  },
  {
   "cell_type": "code",
   "execution_count": null,
   "metadata": {},
   "outputs": [],
   "source": [
    "fig, ax = plt.subplots(1, 1, figsize=(8, 6))\n",
    "# ax.bar(x[:-1], y, width=np.diff(x), log=True,ec=\"k\", align=\"edge\")\n",
    "ax.plot(Npair_valid_all[:, 0], Npair_valid_all[:, 1], \"o\")\n",
    "ax.set_xscale('log')"
   ]
  },
  {
   "cell_type": "code",
   "execution_count": null,
   "metadata": {},
   "outputs": [],
   "source": [
    "print(f\"Maximum removal at {Npair_valid_all[2, 0]}MHz is {count_pairs_VRthresh -  Npair_valid_all[2, 1]}\")"
   ]
  },
  {
   "cell_type": "code",
   "execution_count": null,
   "metadata": {},
   "outputs": [],
   "source": [
    "# Npair_valid_all"
   ]
  },
  {
   "cell_type": "code",
   "execution_count": null,
   "metadata": {},
   "outputs": [],
   "source": [
    "Npair_valid_all.shape"
   ]
  },
  {
   "cell_type": "code",
   "execution_count": null,
   "metadata": {},
   "outputs": [],
   "source": [
    "# Number of nan due to B(omega)>1\n",
    "np.sum(np.isnan(df_Qinv[\"Qinv\"]))"
   ]
  },
  {
   "cell_type": "code",
   "execution_count": null,
   "metadata": {},
   "outputs": [],
   "source": [
    "len(df_Qinv)/128"
   ]
  },
  {
   "cell_type": "code",
   "execution_count": null,
   "metadata": {},
   "outputs": [],
   "source": [
    "freq"
   ]
  },
  {
   "cell_type": "code",
   "execution_count": null,
   "metadata": {},
   "outputs": [],
   "source": [
    "df_Qinv"
   ]
  },
  {
   "cell_type": "code",
   "execution_count": null,
   "metadata": {},
   "outputs": [],
   "source": [
    "df_Qinv.Qinv.min()"
   ]
  },
  {
   "cell_type": "code",
   "execution_count": null,
   "metadata": {},
   "outputs": [],
   "source": [
    "df_Qinv[\"distance[mm]\"].max()"
   ]
  },
  {
   "cell_type": "code",
   "execution_count": null,
   "metadata": {},
   "outputs": [],
   "source": [
    "# compute quartiles of Qinv\n",
    "\n",
    "# .quantile([0.25, 0.5, 0.75])\n",
    "qinv_25 = np.zeros(len(freq[1:]))\n",
    "qinv_50 = np.zeros(len(freq[1:]))\n",
    "qinv_75 = np.zeros(len(freq[1:]))\n",
    "\n",
    "for i, f in enumerate(freq[1:]):\n",
    "    [qinv_25[i], qinv_50[i], qinv_75[i]] = df_Qinv[df_Qinv[\"freq\"] == f/1e6][\"Qinv\"].quantile([0.25, 0.5, 0.75])"
   ]
  },
  {
   "cell_type": "code",
   "execution_count": null,
   "metadata": {},
   "outputs": [],
   "source": [
    "data = {\"freq\": freq[1:]/1e6, \"Qinv_25\": qinv_25, \"Qinv_50\": qinv_50, \"Qinv_75\": qinv_75}\n",
    "df_Qinv_quantile = pd.DataFrame.from_dict(data)\n",
    "df_Qinv_quantile"
   ]
  },
  {
   "cell_type": "code",
   "execution_count": null,
   "metadata": {},
   "outputs": [],
   "source": [
    "df_Qinv[df_Qinv[\"freq\"] == f/1e6][\"Qinv\"]"
   ]
  },
  {
   "cell_type": "code",
   "execution_count": null,
   "metadata": {},
   "outputs": [],
   "source": [
    "df_Qinv[\"freq\"] - f"
   ]
  },
  {
   "cell_type": "code",
   "execution_count": null,
   "metadata": {},
   "outputs": [],
   "source": [
    "df_Qinv[\"freq\"] - f"
   ]
  },
  {
   "cell_type": "code",
   "execution_count": null,
   "metadata": {},
   "outputs": [],
   "source": [
    "lc = sns.color_palette(\"colorblind\")\n",
    "lc"
   ]
  },
  {
   "cell_type": "code",
   "execution_count": null,
   "metadata": {},
   "outputs": [],
   "source": [
    "np.random.seed(20240718)\n",
    "fig, ax = plt.subplots(1, 1, figsize=(4.7, 4.2))\n",
    "\n",
    "# ax.grid(True)\n",
    "# ax.set_axisbelow(True)\n",
    "\n",
    "js = 4\n",
    "\n",
    "sns.stripplot(x=\"freq\", y=\"Qinv\", data=df_Qinv, jitter=False, native_scale=True, log_scale=True, color=\"k\", size=js,\n",
    "              zorder=1, legend=None, ax=ax, alpha=0.1)\n",
    "\n",
    "sns.boxplot(x=\"freq\", y=\"Qinv\", data=df_Qinv, showfliers=False,  ax=ax, log_scale=True, native_scale=True, width=6, \n",
    "            zorder=2, linewidth=.75, linecolor=\"k\", fill=True, color=lc[1])\n",
    "\n",
    "\n",
    "# ax.plot(df_Qinv_quantile.freq, df_Qinv_quantile.Qinv_25, \"-\", c=\"b\", lw=0.75)\n",
    "ax.plot(df_Qinv_quantile.freq, df_Qinv_quantile.Qinv_50, \"k--\", lw=1.0, zorder=4)\n",
    "# ax.plot(df_Qinv_quantile.freq, df_Qinv_quantile.Qinv_75, \"-\", c=\"r\", lw=0.75)\n",
    "\n",
    "for patch in ax.patches:\n",
    "    r, g, b, a = patch.get_facecolor()\n",
    "    patch.set_facecolor((r, g, b, 1.0))\n",
    "\n",
    "ax.set_xlabel(\"Frequency [MHz]\")\n",
    "ax.set_ylabel(\"Attenuation, $Q_p^{-1}$\")\n",
    "\n",
    "# ax.set_xscale('log')\n",
    "# ax.set_yscale('log')\n",
    "\n",
    "# reference curve of f^{-1}\n",
    "constB_k = 7e3\n",
    "constB = constB_k*freq[1:]**(-1)\n",
    "# ax.plot(freq[1:]*1e-6, constB, \"k--\")\n",
    "\n",
    "ax.set_xlim([0.06,1.])\n",
    "# ax.set_xlim([1e-3 ,1.])\n",
    "ax.set_ylim([1e-4, 1])\n",
    "\n",
    "ax.xaxis.set_major_formatter(mticker.FormatStrFormatter('%.1f'))\n",
    "ax.yaxis.set_major_formatter(mticker.FormatStrFormatter('%.1g'))\n",
    "\n",
    "\n",
    "ax.grid(True, c=np.array([230, 230, 230])/255, lw=0.25, which=\"both\",)\n",
    "ax.set_axisbelow(True)\n",
    "plt.tight_layout()\n",
    "\n",
    "plt.savefig(figdir+\"/Qinv_stats.png\", format=\"png\", dpi=70, bbox_inches=\"tight\")\n",
    "plt.savefig(figdir+\"/Qinv_stats.pdf\", format=\"pdf\", bbox_inches=\"tight\") # keep transparency\n"
   ]
  },
  {
   "cell_type": "code",
   "execution_count": null,
   "metadata": {},
   "outputs": [],
   "source": [
    "df_Qinv_quantile.to_csv(\"../data/df_Qinv_quantile.csv\")"
   ]
  },
  {
   "cell_type": "code",
   "execution_count": null,
   "metadata": {},
   "outputs": [],
   "source": []
  },
  {
   "cell_type": "markdown",
   "metadata": {},
   "source": [
    "## Search min and max Q"
   ]
  },
  {
   "cell_type": "code",
   "execution_count": null,
   "metadata": {},
   "outputs": [],
   "source": [
    "# bounds the frequency range to evaluate the min and max Q\n",
    "inds_freqrange = np.where((0.1 < df_Qinv_quantile[\"freq\"]) & (df_Qinv_quantile[\"freq\"] < 1.0))[0]"
   ]
  },
  {
   "cell_type": "code",
   "execution_count": null,
   "metadata": {},
   "outputs": [],
   "source": [
    "Qinv_argmax = df_Qinv_quantile[\"Qinv_50\"][inds_freqrange].idxmax()\n",
    "Q_min = 1/df_Qinv_quantile[\"Qinv_50\"][inds_freqrange].max() # inverse of Qinv\n",
    "Q_min_freq = df_Qinv_quantile[\"freq\"].loc[Qinv_argmax]\n",
    "\n",
    "Qinv_argmin = df_Qinv_quantile[\"Qinv_50\"][inds_freqrange].idxmin()\n",
    "Q_max = 1/df_Qinv_quantile[\"Qinv_50\"][inds_freqrange].min()\n",
    "Q_max_freq = df_Qinv_quantile[\"freq\"].loc[Qinv_argmin]\n"
   ]
  },
  {
   "cell_type": "code",
   "execution_count": null,
   "metadata": {},
   "outputs": [],
   "source": [
    "# Plot min and max Q\n",
    "fig, ax = plt.subplots(1, 1, figsize=(6., 5))\n",
    "\n",
    "ax.semilogx(df_Qinv_quantile[\"freq\"], df_Qinv_quantile[\"Qinv_50\"], \"k-\")\n",
    "\n",
    "ax.set_xlabel(\"Frequency [MHz]\")\n",
    "ax.set_ylabel(\"Attenuation, Q$^{-1}$\")\n",
    "\n",
    "ax.plot(Q_min_freq, 1/Q_min, \"bs\")\n",
    "ax.plot(Q_max_freq, 1/Q_max, \"ro\")\n",
    "ax.text(Q_min_freq, 1/Q_min, f\"Qmin={Q_min:.2f}  \", ha=\"right\")\n",
    "ax.text(Q_max_freq, 1/Q_max, f\"Qmax={Q_max:.2f}  \", ha=\"right\", va=\"top\")\n",
    "print(f\"Qmin: {Q_min:.2f} at {Q_min_freq*1e3} kHz\")\n",
    "print(f\"Qmax: {Q_max:.2f} at {Q_max_freq*1e3} kHz\")\n",
    "# ax.set_xscale('log')\n",
    "# ax.set_yscale('log')\n",
    "\n",
    "# reference curve of f^{-1}\n",
    "constB_k = 7e3\n",
    "constB = constB_k*freq[1:]**(-1)\n",
    "# ax.plot(freq[1:]*1e-6, constB, \"k--\")\n",
    "\n",
    "ax.set_xlim([0.06,1.])\n",
    "# ax.set_xlim([1e-3 ,1.])\n",
    "# ax.set_ylim([1e-4, 1])\n",
    "\n",
    "\n"
   ]
  },
  {
   "cell_type": "code",
   "execution_count": null,
   "metadata": {},
   "outputs": [],
   "source": []
  },
  {
   "cell_type": "code",
   "execution_count": null,
   "metadata": {},
   "outputs": [],
   "source": []
  },
  {
   "cell_type": "markdown",
   "metadata": {},
   "source": [
    "## Compute $B(\\omega)$\n",
    "\n",
    "we compute $ \\exp \\left( {-\\dfrac{\\pi f t}{Q(f)}} \\right) $ as the attenuation factor."
   ]
  },
  {
   "cell_type": "code",
   "execution_count": null,
   "metadata": {},
   "outputs": [],
   "source": [
    "Bf = np.zeros((len(freq[1:]), 3))\n",
    "dist_gouge = 185.1e-3 # gouge event distance\n",
    "tt = dist_gouge/vp\n",
    "\n",
    "for i, f in enumerate(freq[1:]):\n",
    "    \n",
    "    Bf[i, 0] = np.exp(-np.pi*f*tt*df_Qinv_quantile[df_Qinv_quantile[\"freq\"]==f/1e6].Qinv_25.values[0])\n",
    "    Bf[i, 1] = np.exp(-np.pi*f*tt*df_Qinv_quantile[df_Qinv_quantile[\"freq\"]==f/1e6].Qinv_50.values[0])\n",
    "    Bf[i, 2] = np.exp(-np.pi*f*tt*df_Qinv_quantile[df_Qinv_quantile[\"freq\"]==f/1e6].Qinv_75.values[0])"
   ]
  },
  {
   "cell_type": "code",
   "execution_count": null,
   "metadata": {},
   "outputs": [],
   "source": []
  },
  {
   "cell_type": "code",
   "execution_count": null,
   "metadata": {},
   "outputs": [],
   "source": [
    "fig, ax = plt.subplots(1, 1, figsize=(6., 5))\n",
    "\n",
    "ax.loglog(df_Qinv_quantile.freq,Bf[:,0], \"b.-\", zorder=4, label=\"low\")\n",
    "ax.loglog(df_Qinv_quantile.freq,Bf[:,1], \"k.-\", zorder=4, label=\"median\")\n",
    "ax.loglog(df_Qinv_quantile.freq,Bf[:,2], \"r.-\", zorder=4, label=\"high\")\n",
    "\n",
    "ax.set_xlabel(\"Frequency [MHz]\")\n",
    "ax.set_ylabel(\"$B(f)$\")\n",
    "\n",
    "# ax.set_xscale('log')\n",
    "# ax.set_yscale('log')\n",
    "\n",
    "# reference curve of f^{-1}\n",
    "constB_k = 7e3\n",
    "constB = constB_k*freq[1:]**(-1)\n",
    "# ax.plot(freq[1:]*1e-6, constB, \"k--\")\n",
    "\n",
    "\n",
    "ax.set_xlim([0.06,1.])\n",
    "# ax.set_xlim([1e-3 ,1.])\n",
    "ax.set_ylim([1e-2, 1e1])\n",
    "ax.legend(loc=0)\n",
    "# ax.set_ylim([-0.1, 0.1])\n",
    "\n",
    "ax.grid(True, c=np.array([230, 230, 230])/255, lw=0.25, which=\"both\",)\n"
   ]
  },
  {
   "cell_type": "code",
   "execution_count": null,
   "metadata": {},
   "outputs": [],
   "source": [
    "20*np.log10(np.abs(Bf[:,0]))"
   ]
  },
  {
   "cell_type": "markdown",
   "metadata": {},
   "source": [
    "# compute the cut-off level (-3dB)"
   ]
  },
  {
   "cell_type": "code",
   "execution_count": null,
   "metadata": {},
   "outputs": [],
   "source": [
    "flatlevel_inds = np.where( (0.2 < freq[1:]/1e6) & (freq[1:]/1e6 < 0.3) )\n",
    "cutoff_dB = np.zeros((3, 2))\n",
    "\n",
    "freq_q = np.logspace(-1, 0, 201)\n",
    "\n",
    "for i in range(3):\n",
    "    Bf_tr_dB = 20*np.log10(np.abs(Bf[:,i]))\n",
    "    flatlevel = np.mean(Bf_tr_dB[flatlevel_inds])\n",
    "    print(flatlevel)\n",
    "    cutoff_level = flatlevel - 3.0\n",
    "    \n",
    "    # interpolate the B(omega)\n",
    "    Bf_tr_interp = np.interp(freq_q, df_Qinv_quantile.freq, Bf_tr_dB)\n",
    "    \n",
    "    cutoff_ind = np.where(Bf_tr_interp < cutoff_level)[0][0]\n",
    "    cutoff_dB[i, :] = [freq_q[cutoff_ind], Bf_tr_interp[cutoff_ind]]\n",
    "    "
   ]
  },
  {
   "cell_type": "code",
   "execution_count": null,
   "metadata": {},
   "outputs": [],
   "source": [
    "cutoff_dB"
   ]
  },
  {
   "cell_type": "code",
   "execution_count": null,
   "metadata": {},
   "outputs": [],
   "source": [
    "df_Qinv_quantile.freq"
   ]
  },
  {
   "cell_type": "code",
   "execution_count": null,
   "metadata": {},
   "outputs": [],
   "source": [
    "cutoff_dB"
   ]
  },
  {
   "cell_type": "code",
   "execution_count": null,
   "metadata": {},
   "outputs": [],
   "source": [
    "np.where(Bf_tr_dB < cutoff_level)[0][0]"
   ]
  },
  {
   "cell_type": "code",
   "execution_count": null,
   "metadata": {},
   "outputs": [],
   "source": []
  },
  {
   "cell_type": "code",
   "execution_count": null,
   "metadata": {},
   "outputs": [],
   "source": [
    "# plot in dB\n",
    "fig, ax = plt.subplots(1, 1, figsize=(6.5, 5))\n",
    "\n",
    "ax.semilogx(df_Qinv_quantile.freq, 20*np.log10(np.abs(Bf[:,0])), \"b-\", zorder=4, label=\"low attenuation\")\n",
    "ax.semilogx(df_Qinv_quantile.freq, 20*np.log10(np.abs(Bf[:,1])), \"k-\", zorder=4, label=\"median attenuation\")\n",
    "ax.semilogx(df_Qinv_quantile.freq, 20*np.log10(np.abs(Bf[:,2])), \"r-\", zorder=4, label=\"high attenuation\")\n",
    "\n",
    "ax.semilogx(cutoff_dB[0, 0], cutoff_dB[0, 1], \"bs\")\n",
    "ax.semilogx(cutoff_dB[1, 0], cutoff_dB[1, 1], \"ks\")\n",
    "ax.semilogx(cutoff_dB[2, 0], cutoff_dB[2, 1], \"rs\")\n",
    "\n",
    "ax.set_xlabel(\"Frequency [MHz]\")\n",
    "ax.set_ylabel(\"$|B(\\\\omega)| [dB]$\")\n",
    "\n",
    "# ax.set_xscale('log')\n",
    "# ax.set_yscale('log')\n",
    "\n",
    "# reference curve of f^{-1}\n",
    "constB_k = 7e3\n",
    "constB = constB_k*freq[1:]**(-1)\n",
    "# ax.plot(freq[1:]*1e-6, constB, \"k--\")\n",
    "\n",
    "\n",
    "ax.set_xlim([0.06,1.])\n",
    "# ax.set_xlim([1e-3 ,1.])\n",
    "ax.set_ylim([-30, 10])\n",
    "ax.legend(loc=0)\n",
    "# ax.set_ylim([-0.1, 0.1])\n",
    "\n",
    "ax.grid(True, c=np.array([230, 230, 230])/255, lw=0.25, which=\"both\",)\n",
    "\n",
    "plt.tight_layout()\n",
    "\n",
    "plt.savefig(figdir+\"/Bomega_dB.png\", format=\"png\", dpi=70, bbox_inches=\"tight\")\n",
    "# plt.savefig(figdir+\"/Bomega_dB.pdf\", format=\"eps\", bbox_inches=\"tight\")\n"
   ]
  },
  {
   "cell_type": "code",
   "execution_count": null,
   "metadata": {},
   "outputs": [],
   "source": [
    "cutoff_dB"
   ]
  },
  {
   "cell_type": "markdown",
   "metadata": {},
   "source": [
    "### Impulse response with the $Q^{-1}$ model"
   ]
  },
  {
   "cell_type": "code",
   "execution_count": null,
   "metadata": {},
   "outputs": [],
   "source": [
    "def get_Qinv(freq, fq, Qinv):\n",
    "    # interpolate the Q from the Qinv data\n",
    "    cs = CubicSpline(fq, Qinv)\n",
    "    \n",
    "    Qinv_interp = np.zeros(len(freq))\n",
    "    for i, ff in enumerate(freq):\n",
    "        if ff<fq[0]:\n",
    "            Qinv_interp[i] = Qinv[0] # extrapolate the minimum frequency Qinv\n",
    "        elif ff>fq[-1]:\n",
    "            Qinv_interp[i] = Qinv[-1] # extrapolate the maximum frequency Qinv\n",
    "        else:\n",
    "            Qinv_interp[i] = cs(ff)  \n",
    "                \n",
    "    return Qinv_interp"
   ]
  },
  {
   "cell_type": "code",
   "execution_count": null,
   "metadata": {},
   "outputs": [],
   "source": []
  },
  {
   "cell_type": "code",
   "execution_count": null,
   "metadata": {},
   "outputs": [],
   "source": [
    "Npos = 301 \n",
    "fmin = 0#df_Qinv_quantile.freq.values[0]*1e6\n",
    "fmax = 20e6 #df_Qinv_quantile.freq.values[-1]*1e6\n",
    "freqsyn = np.linspace(0, fmax, Npos)\n",
    "delta_f_syn = freqsyn[1]-freqsyn[0]\n",
    "delta_f_syn\n"
   ]
  },
  {
   "cell_type": "code",
   "execution_count": null,
   "metadata": {},
   "outputs": [],
   "source": [
    "Qinvsyn_25 = get_Qinv(freqsyn, df_Qinv_quantile.freq.values*1e6, df_Qinv_quantile[\"Qinv_25\"].values)\n",
    "Qinvsyn_50 = get_Qinv(freqsyn, df_Qinv_quantile.freq.values*1e6, df_Qinv_quantile[\"Qinv_50\"].values)\n",
    "Qinvsyn_75 = get_Qinv(freqsyn, df_Qinv_quantile.freq.values*1e6, df_Qinv_quantile[\"Qinv_75\"].values)"
   ]
  },
  {
   "cell_type": "code",
   "execution_count": null,
   "metadata": {},
   "outputs": [],
   "source": [
    "# check the interpolation\n",
    "fig, ax = plt.subplots(1, 1, figsize=(6.5, 5))\n",
    "\n",
    "\n",
    "ax.plot(df_Qinv_quantile.freq, df_Qinv_quantile.Qinv_25, \"k--\", zorder=2)\n",
    "ax.plot(df_Qinv_quantile.freq, df_Qinv_quantile.Qinv_50, \"k--\", zorder=2)\n",
    "ax.plot(df_Qinv_quantile.freq, df_Qinv_quantile.Qinv_75, \"k--\", zorder=2)\n",
    "\n",
    "ax.plot(freqsyn/1e6, Qinvsyn_25, \"g-\", zorder=1)\n",
    "ax.plot(freqsyn/1e6, Qinvsyn_50, \"b-\", zorder=1)\n",
    "ax.plot(freqsyn/1e6, Qinvsyn_75, \"r-\", zorder=1)\n",
    "\n",
    "\n",
    "ax.set_xscale('log')\n",
    "ax.set_yscale('log')\n",
    "\n",
    "ax.set_xlabel(\"Frequency [MHz]\")\n",
    "ax.set_ylabel(\"Attenuation, Q$^{-1}$\")\n",
    "\n",
    "# ax.set_xscale('log')\n",
    "# ax.set_yscale('log')\n",
    "\n",
    "# reference curve of f^{-1}\n",
    "constB_k = 7e3\n",
    "constB = constB_k*freq[1:]**(-1)\n",
    "# ax.plot(freq[1:]*1e-6, constB, \"k--\")\n",
    "\n",
    "\n",
    "ax.set_xlim([1e-3,5.])\n",
    "# ax.set_xlim([1e-3 ,1.])\n",
    "ax.set_ylim([6e-4, 1])\n",
    "\n",
    "# ax.set_ylim([-0.1, 0.1])\n",
    "\n",
    "ax.grid(True, c=np.array([230, 230, 230])/255, lw=0.25, which=\"both\",)\n"
   ]
  },
  {
   "cell_type": "code",
   "execution_count": null,
   "metadata": {},
   "outputs": [],
   "source": [
    "# compute attenuation factor\n",
    "Bfsyn = np.zeros((len(freqsyn), 3))\n",
    "dist_gouge = 185.1e-3 # gouge event distance\n",
    "tt = dist_gouge/vp\n",
    "\n",
    "for i, ff in enumerate(freqsyn):\n",
    "    \n",
    "    Bfsyn[i, 0] = np.exp(-np.pi*ff*tt*Qinvsyn_25[i])\n",
    "    Bfsyn[i, 1] = np.exp(-np.pi*ff*tt*Qinvsyn_50[i])\n",
    "    Bfsyn[i, 2] = np.exp(-np.pi*ff*tt*Qinvsyn_75[i])\n"
   ]
  },
  {
   "cell_type": "code",
   "execution_count": null,
   "metadata": {},
   "outputs": [],
   "source": [
    "# Nrfft = 2*10\n",
    "\n",
    "y_25 = np.fft.irfft(Bfsyn[:,0])\n",
    "y_50 = np.fft.irfft(Bfsyn[:,1])\n",
    "y_75 = np.fft.irfft(Bfsyn[:,2])\n",
    "\n",
    "\n",
    "Ntrace = 2*(Npos-1)\n",
    "assert len(y_25) == Ntrace\n",
    "\n",
    "dt = 1/(Ntrace*delta_f_syn)\n",
    "tvec = np.arange(0, Ntrace, step=1)*dt\n",
    "\n",
    "# nyquist is 5MHz."
   ]
  },
  {
   "cell_type": "code",
   "execution_count": null,
   "metadata": {},
   "outputs": [],
   "source": []
  },
  {
   "cell_type": "code",
   "execution_count": null,
   "metadata": {},
   "outputs": [],
   "source": [
    "dt"
   ]
  },
  {
   "cell_type": "code",
   "execution_count": null,
   "metadata": {},
   "outputs": [],
   "source": [
    "plt.plot(tvec*1e6, y_25/np.max(y_25), \".b-\")\n",
    "plt.plot(tvec*1e6, y_50/np.max(y_50), \".k-\")\n",
    "plt.plot(tvec*1e6, y_75/np.max(y_75), \".g-\")\n",
    "\n",
    "# plt.plot(tvec*1e6, y_25[::-1], \"xb\")\n",
    "# plt.plot(tvec*1e6, y_50[::-1], \"xk\")\n",
    "# plt.plot(tvec*1e6, y_75[::-1], \"xg\")\n",
    "\n",
    "plt.xlim(0, 4)\n",
    "plt.xlabel(\"Time [μs]\")"
   ]
  },
  {
   "cell_type": "markdown",
   "metadata": {},
   "source": [
    "The figure above is the impulse response of the Qmodel. We further analyze this with the Futterman function.\n"
   ]
  },
  {
   "cell_type": "code",
   "execution_count": null,
   "metadata": {},
   "outputs": [],
   "source": [
    "Qp = 50\n",
    "tt_lab = 200e-3/6200\n",
    "tt_lin2016 = 14e3/5000\n",
    "tstar_lab = tt_lab/Qp\n",
    "tstar_lin2016 = tt_lin2016/Qp"
   ]
  },
  {
   "cell_type": "code",
   "execution_count": null,
   "metadata": {},
   "outputs": [],
   "source": [
    "tstar_lab"
   ]
  },
  {
   "cell_type": "code",
   "execution_count": null,
   "metadata": {},
   "outputs": [],
   "source": [
    "tstar_lin2016"
   ]
  },
  {
   "cell_type": "code",
   "execution_count": null,
   "metadata": {},
   "outputs": [],
   "source": [
    "tstar_lab/tstar_lin2016 # this indicates the scaling of Futterman function pulse width"
   ]
  },
  {
   "cell_type": "markdown",
   "metadata": {},
   "source": [
    "The pulse width of Fig. 10b is ~0.2s. $0.2*1e-5$ = 2μs, which is comparable to the figure above. Thus, the scaling is reasonable."
   ]
  },
  {
   "cell_type": "code",
   "execution_count": null,
   "metadata": {},
   "outputs": [],
   "source": []
  },
  {
   "cell_type": "code",
   "execution_count": null,
   "metadata": {},
   "outputs": [],
   "source": []
  }
 ],
 "metadata": {
  "kernelspec": {
   "display_name": "Python 3 (ipykernel)",
   "language": "python",
   "name": "python3"
  },
  "language_info": {
   "codemirror_mode": {
    "name": "ipython",
    "version": 3
   },
   "file_extension": ".py",
   "mimetype": "text/x-python",
   "name": "python",
   "nbconvert_exporter": "python",
   "pygments_lexer": "ipython3",
   "version": "3.12.10"
  }
 },
 "nbformat": 4,
 "nbformat_minor": 4
}

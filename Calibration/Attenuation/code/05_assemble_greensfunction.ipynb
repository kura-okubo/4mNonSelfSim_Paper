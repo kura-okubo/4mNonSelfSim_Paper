{
 "cells": [
  {
   "cell_type": "markdown",
   "metadata": {},
   "source": [
    "# Assemble green function with ball drop observation\n",
    "2021.05.09 Kurama Okubo\n",
    "\n",
    "- 2022.11.23 update for new ball-drop test \n",
    "- 2024.1.24 update for master plot\n",
    "- 2024.7.17 update for the evaluation of attenuation factor (large Qp and Qs)\n",
    "- 2025.3.16 update for master plot"
   ]
  },
  {
   "cell_type": "markdown",
   "metadata": {},
   "source": [
    "## Work flow\n",
    "\n",
    "1. Read isocoord pickle associated with stations\n",
    "2. Read meta data\n",
    "3. Read synthetic waveform\n",
    "4. Preprocess (scaling with M0: scaling factor used in OpenSWPC; convert from disp to vel; time shift + zero padding)\n",
    "4. Save pickle"
   ]
  },
  {
   "cell_type": "code",
   "execution_count": 2,
   "metadata": {},
   "outputs": [],
   "source": [
    "import os\n",
    "import obspy\n",
    "from obspy import read, Stream, Trace\n",
    "from scipy import signal\n",
    "import matplotlib.pyplot as plt\n",
    "%matplotlib inline\n",
    "import glob\n",
    "from glob import glob\n",
    "import numpy as np\n",
    "import pandas as pd\n",
    "import datetime\n",
    "from datetime import timedelta\n",
    "from tqdm import tqdm\n",
    "import warnings\n",
    "\n",
    "from obspy.core.utcdatetime import UTCDateTime  \n",
    "os.environ['TZ'] = 'GMT' # change time zone to avoid confusion in unix_tvec conversion\n",
    "UTCDateTime.DEFAULT_PRECISION = 8"
   ]
  },
  {
   "cell_type": "code",
   "execution_count": 3,
   "metadata": {},
   "outputs": [],
   "source": [
    "#Parameters\n",
    "rootdir = \"../../SensorCoupling_BallDrop/code/\"\n",
    "\n",
    "simulationtitle = 'balltest_sidecoord_segment_test' # simulation title used in Input.inf of OpenSWPC\n",
    "fi_hetzsourceprm = './04_numericalmodeling_waveform/4m_sidecoord_v01_Qp10000_Qs10000_v2_airQ10/out/stf_greenstf_prm.dat'\n",
    "\n",
    "vmean = 6200"
   ]
  },
  {
   "cell_type": "code",
   "execution_count": 11,
   "metadata": {},
   "outputs": [],
   "source": [
    "# Path for event location table\n",
    "\n",
    "eventloc_table = rootdir+\"../data/balldrop_locations.csv\"\n",
    "\n",
    "# pickle event waveform directory\n",
    "eventdatadir = '../data/DATA_isocoord' # use the one with large pretrigger\n",
    "\n",
    "# greens function data directory \n",
    "# greendatadir = rootdir+'./04_numericalmodeling_waveform/4m_sidecoord_v01_Qp200_Qs80_v2/out/green/OL00'\n",
    "greendatadir = './04_numericalmodeling_waveform/4m_sidecoord_v01_Qp10000_Qs10000_v2_airQ10/out/green/OL00'\n",
    "\n",
    "# output datadir\n",
    "outputdir = \"../data/DATA_greencomparison\"\n",
    "\n",
    "# channel table\n",
    "channel_finame = '../../../Others/AEchanneltable/AEsensorlocation_onFB03_table.csv'\n"
   ]
  },
  {
   "cell_type": "code",
   "execution_count": 12,
   "metadata": {},
   "outputs": [],
   "source": [
    "if not os.path.exists(outputdir):\n",
    "    os.makedirs(outputdir)"
   ]
  },
  {
   "cell_type": "code",
   "execution_count": 13,
   "metadata": {},
   "outputs": [
    {
     "data": {
      "text/html": [
       "<div>\n",
       "<style scoped>\n",
       "    .dataframe tbody tr th:only-of-type {\n",
       "        vertical-align: middle;\n",
       "    }\n",
       "\n",
       "    .dataframe tbody tr th {\n",
       "        vertical-align: top;\n",
       "    }\n",
       "\n",
       "    .dataframe thead th {\n",
       "        text-align: right;\n",
       "    }\n",
       "</style>\n",
       "<table border=\"1\" class=\"dataframe\">\n",
       "  <thead>\n",
       "    <tr style=\"text-align: right;\">\n",
       "      <th></th>\n",
       "      <th>index</th>\n",
       "      <th>gid</th>\n",
       "    </tr>\n",
       "  </thead>\n",
       "  <tbody>\n",
       "    <tr>\n",
       "      <th>0</th>\n",
       "      <td>OL01__BD_0220</td>\n",
       "      <td>0</td>\n",
       "    </tr>\n",
       "    <tr>\n",
       "      <th>1</th>\n",
       "      <td>OL01__BD_0340</td>\n",
       "      <td>1</td>\n",
       "    </tr>\n",
       "    <tr>\n",
       "      <th>2</th>\n",
       "      <td>OL01__BD_0460</td>\n",
       "      <td>2</td>\n",
       "    </tr>\n",
       "    <tr>\n",
       "      <th>3</th>\n",
       "      <td>OL01__BD_0580</td>\n",
       "      <td>3</td>\n",
       "    </tr>\n",
       "    <tr>\n",
       "      <th>4</th>\n",
       "      <td>OL02__BD_0220</td>\n",
       "      <td>4</td>\n",
       "    </tr>\n",
       "  </tbody>\n",
       "</table>\n",
       "</div>"
      ],
      "text/plain": [
       "           index  gid\n",
       "0  OL01__BD_0220    0\n",
       "1  OL01__BD_0340    1\n",
       "2  OL01__BD_0460    2\n",
       "3  OL01__BD_0580    3\n",
       "4  OL02__BD_0220    4"
      ]
     },
     "execution_count": 13,
     "metadata": {},
     "output_type": "execute_result"
    }
   ],
   "source": [
    "# read gindex table\n",
    "df_gindextable = pd.read_csv(rootdir+\"../data/gindex_table.csv\", index_col=0)\n",
    "df_gindextable.head()"
   ]
  },
  {
   "cell_type": "code",
   "execution_count": 14,
   "metadata": {},
   "outputs": [
    {
     "data": {
      "text/html": [
       "<div>\n",
       "<style scoped>\n",
       "    .dataframe tbody tr th:only-of-type {\n",
       "        vertical-align: middle;\n",
       "    }\n",
       "\n",
       "    .dataframe tbody tr th {\n",
       "        vertical-align: top;\n",
       "    }\n",
       "\n",
       "    .dataframe thead th {\n",
       "        text-align: right;\n",
       "    }\n",
       "</style>\n",
       "<table border=\"1\" class=\"dataframe\">\n",
       "  <thead>\n",
       "    <tr style=\"text-align: right;\">\n",
       "      <th></th>\n",
       "      <th>OL</th>\n",
       "      <th>datacase</th>\n",
       "      <th>xs</th>\n",
       "      <th>ys</th>\n",
       "      <th>zs</th>\n",
       "      <th>xi</th>\n",
       "      <th>eta</th>\n",
       "      <th>zeta</th>\n",
       "      <th>dist</th>\n",
       "      <th>xi1</th>\n",
       "      <th>eta1</th>\n",
       "      <th>zeta1</th>\n",
       "    </tr>\n",
       "  </thead>\n",
       "  <tbody>\n",
       "    <tr>\n",
       "      <th>OL01__BD_0220</th>\n",
       "      <td>OL01</td>\n",
       "      <td>BD_0220</td>\n",
       "      <td>0.19</td>\n",
       "      <td>0.05</td>\n",
       "      <td>0.07</td>\n",
       "      <td>0.217</td>\n",
       "      <td>-0.006</td>\n",
       "      <td>0.0</td>\n",
       "      <td>0.093622</td>\n",
       "      <td>0.027</td>\n",
       "      <td>-0.056</td>\n",
       "      <td>0</td>\n",
       "    </tr>\n",
       "    <tr>\n",
       "      <th>OL01__BD_0340</th>\n",
       "      <td>OL01</td>\n",
       "      <td>BD_0340</td>\n",
       "      <td>0.19</td>\n",
       "      <td>0.05</td>\n",
       "      <td>0.07</td>\n",
       "      <td>0.339</td>\n",
       "      <td>0.001</td>\n",
       "      <td>0.0</td>\n",
       "      <td>0.171761</td>\n",
       "      <td>0.149</td>\n",
       "      <td>-0.049</td>\n",
       "      <td>0</td>\n",
       "    </tr>\n",
       "    <tr>\n",
       "      <th>OL01__BD_0460</th>\n",
       "      <td>OL01</td>\n",
       "      <td>BD_0460</td>\n",
       "      <td>0.19</td>\n",
       "      <td>0.05</td>\n",
       "      <td>0.07</td>\n",
       "      <td>0.458</td>\n",
       "      <td>0.001</td>\n",
       "      <td>0.0</td>\n",
       "      <td>0.281292</td>\n",
       "      <td>0.268</td>\n",
       "      <td>-0.049</td>\n",
       "      <td>0</td>\n",
       "    </tr>\n",
       "    <tr>\n",
       "      <th>OL01__BD_0580</th>\n",
       "      <td>OL01</td>\n",
       "      <td>BD_0580</td>\n",
       "      <td>0.19</td>\n",
       "      <td>0.05</td>\n",
       "      <td>0.07</td>\n",
       "      <td>0.578</td>\n",
       "      <td>0.004</td>\n",
       "      <td>0.0</td>\n",
       "      <td>0.396938</td>\n",
       "      <td>0.388</td>\n",
       "      <td>-0.046</td>\n",
       "      <td>0</td>\n",
       "    </tr>\n",
       "    <tr>\n",
       "      <th>OL02__BD_0220</th>\n",
       "      <td>OL02</td>\n",
       "      <td>BD_0220</td>\n",
       "      <td>0.41</td>\n",
       "      <td>0.05</td>\n",
       "      <td>0.07</td>\n",
       "      <td>0.217</td>\n",
       "      <td>-0.006</td>\n",
       "      <td>0.0</td>\n",
       "      <td>0.212803</td>\n",
       "      <td>-0.193</td>\n",
       "      <td>-0.056</td>\n",
       "      <td>0</td>\n",
       "    </tr>\n",
       "  </tbody>\n",
       "</table>\n",
       "</div>"
      ],
      "text/plain": [
       "                 OL datacase    xs    ys    zs     xi    eta  zeta      dist  \\\n",
       "OL01__BD_0220  OL01  BD_0220  0.19  0.05  0.07  0.217 -0.006   0.0  0.093622   \n",
       "OL01__BD_0340  OL01  BD_0340  0.19  0.05  0.07  0.339  0.001   0.0  0.171761   \n",
       "OL01__BD_0460  OL01  BD_0460  0.19  0.05  0.07  0.458  0.001   0.0  0.281292   \n",
       "OL01__BD_0580  OL01  BD_0580  0.19  0.05  0.07  0.578  0.004   0.0  0.396938   \n",
       "OL02__BD_0220  OL02  BD_0220  0.41  0.05  0.07  0.217 -0.006   0.0  0.212803   \n",
       "\n",
       "                 xi1   eta1  zeta1  \n",
       "OL01__BD_0220  0.027 -0.056      0  \n",
       "OL01__BD_0340  0.149 -0.049      0  \n",
       "OL01__BD_0460  0.268 -0.049      0  \n",
       "OL01__BD_0580  0.388 -0.046      0  \n",
       "OL02__BD_0220 -0.193 -0.056      0  "
      ]
     },
     "execution_count": 14,
     "metadata": {},
     "output_type": "execute_result"
    }
   ],
   "source": [
    "# read observation casename  table\n",
    "df_iso_all = pd.read_csv(rootdir+\"../data/balldrop_events_isocoord.csv\", index_col=0)\n",
    "df_iso_all.head()"
   ]
  },
  {
   "cell_type": "code",
   "execution_count": 15,
   "metadata": {},
   "outputs": [],
   "source": [
    "# Read Channel Index\n",
    "df_array = pd.read_csv(channel_finame)\n",
    "\n",
    "channel_loc={}\n",
    "\n",
    "for i in range(len(df_array)):\n",
    "    stnm = df_array.iloc[i].Instrument_Label\n",
    "    xtemp = df_array.iloc[i].North.astype('float')\n",
    "    ytemp = df_array.iloc[i].East.astype('float')\n",
    "    ztemp = df_array.iloc[i].Down.astype('float')\n",
    "    channel_loc[stnm] = [xtemp, ytemp, ztemp]\n",
    "    \n",
    "AEsensors = list(channel_loc.keys())"
   ]
  },
  {
   "cell_type": "code",
   "execution_count": 16,
   "metadata": {},
   "outputs": [
    {
     "data": {
      "text/html": [
       "<div>\n",
       "<style scoped>\n",
       "    .dataframe tbody tr th:only-of-type {\n",
       "        vertical-align: middle;\n",
       "    }\n",
       "\n",
       "    .dataframe tbody tr th {\n",
       "        vertical-align: top;\n",
       "    }\n",
       "\n",
       "    .dataframe thead th {\n",
       "        text-align: right;\n",
       "    }\n",
       "</style>\n",
       "<table border=\"1\" class=\"dataframe\">\n",
       "  <thead>\n",
       "    <tr style=\"text-align: right;\">\n",
       "      <th></th>\n",
       "      <th>OL</th>\n",
       "      <th>datacase</th>\n",
       "      <th>xs</th>\n",
       "      <th>ys</th>\n",
       "      <th>zs</th>\n",
       "      <th>xi</th>\n",
       "      <th>eta</th>\n",
       "      <th>zeta</th>\n",
       "      <th>dist</th>\n",
       "      <th>xi1</th>\n",
       "      <th>eta1</th>\n",
       "      <th>zeta1</th>\n",
       "    </tr>\n",
       "  </thead>\n",
       "  <tbody>\n",
       "    <tr>\n",
       "      <th>OL02__BD_0220</th>\n",
       "      <td>OL02</td>\n",
       "      <td>BD_0220</td>\n",
       "      <td>0.41</td>\n",
       "      <td>0.05</td>\n",
       "      <td>0.07</td>\n",
       "      <td>0.217</td>\n",
       "      <td>-0.006</td>\n",
       "      <td>0.0</td>\n",
       "      <td>0.212803</td>\n",
       "      <td>-0.193</td>\n",
       "      <td>-0.056</td>\n",
       "      <td>0</td>\n",
       "    </tr>\n",
       "    <tr>\n",
       "      <th>OL02__BD_0340</th>\n",
       "      <td>OL02</td>\n",
       "      <td>BD_0340</td>\n",
       "      <td>0.41</td>\n",
       "      <td>0.05</td>\n",
       "      <td>0.07</td>\n",
       "      <td>0.339</td>\n",
       "      <td>0.001</td>\n",
       "      <td>0.0</td>\n",
       "      <td>0.111095</td>\n",
       "      <td>-0.071</td>\n",
       "      <td>-0.049</td>\n",
       "      <td>0</td>\n",
       "    </tr>\n",
       "    <tr>\n",
       "      <th>OL02__BD_0460</th>\n",
       "      <td>OL02</td>\n",
       "      <td>BD_0460</td>\n",
       "      <td>0.41</td>\n",
       "      <td>0.05</td>\n",
       "      <td>0.07</td>\n",
       "      <td>0.458</td>\n",
       "      <td>0.001</td>\n",
       "      <td>0.0</td>\n",
       "      <td>0.098005</td>\n",
       "      <td>0.048</td>\n",
       "      <td>-0.049</td>\n",
       "      <td>0</td>\n",
       "    </tr>\n",
       "    <tr>\n",
       "      <th>OL02__BD_0580</th>\n",
       "      <td>OL02</td>\n",
       "      <td>BD_0580</td>\n",
       "      <td>0.41</td>\n",
       "      <td>0.05</td>\n",
       "      <td>0.07</td>\n",
       "      <td>0.578</td>\n",
       "      <td>0.004</td>\n",
       "      <td>0.0</td>\n",
       "      <td>0.187723</td>\n",
       "      <td>0.168</td>\n",
       "      <td>-0.046</td>\n",
       "      <td>0</td>\n",
       "    </tr>\n",
       "    <tr>\n",
       "      <th>OL02__BD_0700</th>\n",
       "      <td>OL02</td>\n",
       "      <td>BD_0700</td>\n",
       "      <td>0.41</td>\n",
       "      <td>0.05</td>\n",
       "      <td>0.07</td>\n",
       "      <td>0.698</td>\n",
       "      <td>0.000</td>\n",
       "      <td>0.0</td>\n",
       "      <td>0.300573</td>\n",
       "      <td>0.288</td>\n",
       "      <td>-0.050</td>\n",
       "      <td>0</td>\n",
       "    </tr>\n",
       "  </tbody>\n",
       "</table>\n",
       "</div>"
      ],
      "text/plain": [
       "                 OL datacase    xs    ys    zs     xi    eta  zeta      dist  \\\n",
       "OL02__BD_0220  OL02  BD_0220  0.41  0.05  0.07  0.217 -0.006   0.0  0.212803   \n",
       "OL02__BD_0340  OL02  BD_0340  0.41  0.05  0.07  0.339  0.001   0.0  0.111095   \n",
       "OL02__BD_0460  OL02  BD_0460  0.41  0.05  0.07  0.458  0.001   0.0  0.098005   \n",
       "OL02__BD_0580  OL02  BD_0580  0.41  0.05  0.07  0.578  0.004   0.0  0.187723   \n",
       "OL02__BD_0700  OL02  BD_0700  0.41  0.05  0.07  0.698  0.000   0.0  0.300573   \n",
       "\n",
       "                 xi1   eta1  zeta1  \n",
       "OL02__BD_0220 -0.193 -0.056      0  \n",
       "OL02__BD_0340 -0.071 -0.049      0  \n",
       "OL02__BD_0460  0.048 -0.049      0  \n",
       "OL02__BD_0580  0.168 -0.046      0  \n",
       "OL02__BD_0700  0.288 -0.050      0  "
      ]
     },
     "execution_count": 16,
     "metadata": {},
     "output_type": "execute_result"
    }
   ],
   "source": [
    "df_iso_all[df_iso_all.OL == 'OL02']"
   ]
  },
  {
   "cell_type": "code",
   "execution_count": 17,
   "metadata": {},
   "outputs": [
    {
     "name": "stdout",
     "output_type": "stream",
     "text": [
      "T0=0.0us, Tc6.66us, hertz_fmax=56.19N, fz=0.000208\n"
     ]
    }
   ],
   "source": [
    "# Read OpenSWPC output for Hertzian source parameter\n",
    "df_hertzprm = pd.read_csv(fi_hetzsourceprm, skipinitialspace=True)\n",
    "\n",
    "print(f'T0={df_hertzprm[\"T0\"].values[0]*1e6:.1f}us, Tc{df_hertzprm[\"tc\"].values[0]*1e6:.2f}us, hertz_fmax={df_hertzprm[\"hertz_fmax\"].values[0]:.2f}N, fz={df_hertzprm[\"fz\"].values[0]:.6f}')"
   ]
  },
  {
   "cell_type": "code",
   "execution_count": 18,
   "metadata": {},
   "outputs": [
    {
     "data": {
      "text/html": [
       "<div>\n",
       "<style scoped>\n",
       "    .dataframe tbody tr th:only-of-type {\n",
       "        vertical-align: middle;\n",
       "    }\n",
       "\n",
       "    .dataframe tbody tr th {\n",
       "        vertical-align: top;\n",
       "    }\n",
       "\n",
       "    .dataframe thead th {\n",
       "        text-align: right;\n",
       "    }\n",
       "</style>\n",
       "<table border=\"1\" class=\"dataframe\">\n",
       "  <thead>\n",
       "    <tr style=\"text-align: right;\">\n",
       "      <th></th>\n",
       "      <th>T0</th>\n",
       "      <th>tc</th>\n",
       "      <th>hertz_fmax</th>\n",
       "      <th>fz</th>\n",
       "    </tr>\n",
       "  </thead>\n",
       "  <tbody>\n",
       "    <tr>\n",
       "      <th>0</th>\n",
       "      <td>0.0</td>\n",
       "      <td>0.000007</td>\n",
       "      <td>56.1889</td>\n",
       "      <td>0.000208</td>\n",
       "    </tr>\n",
       "  </tbody>\n",
       "</table>\n",
       "</div>"
      ],
      "text/plain": [
       "    T0        tc  hertz_fmax        fz\n",
       "0  0.0  0.000007     56.1889  0.000208"
      ]
     },
     "execution_count": 18,
     "metadata": {},
     "output_type": "execute_result"
    }
   ],
   "source": [
    "df_hertzprm"
   ]
  },
  {
   "cell_type": "code",
   "execution_count": 19,
   "metadata": {},
   "outputs": [
    {
     "data": {
      "text/plain": [
       "0    0.0\n",
       "Name: T0, dtype: float64"
      ]
     },
     "execution_count": 19,
     "metadata": {},
     "output_type": "execute_result"
    }
   ],
   "source": [
    "df_hertzprm[\"T0\"]*1e6"
   ]
  },
  {
   "cell_type": "markdown",
   "metadata": {},
   "source": [
    "## Assemble observation and synthetic waveform"
   ]
  },
  {
   "cell_type": "code",
   "execution_count": 26,
   "metadata": {},
   "outputs": [
    {
     "name": "stderr",
     "output_type": "stream",
     "text": [
      "  6%|██▊                                         | 2/32 [00:00<00:01, 18.51it/s]"
     ]
    },
    {
     "name": "stdout",
     "output_type": "stream",
     "text": [
      "OL01_bdwaveform.pickle already exists. skip this case.\n",
      "OL02_bdwaveform.pickle already exists. skip this case.\n",
      "OL03_bdwaveform.pickle already exists. skip this case.\n",
      "OL04_bdwaveform.pickle already exists. skip this case.\n",
      "OL05_bdwaveform.pickle already exists. skip this case.\n"
     ]
    },
    {
     "name": "stderr",
     "output_type": "stream",
     "text": [
      " 25%|███████████                                 | 8/32 [00:00<00:00, 25.74it/s]"
     ]
    },
    {
     "name": "stdout",
     "output_type": "stream",
     "text": [
      "OL06_bdwaveform.pickle already exists. skip this case.\n",
      "OL07_bdwaveform.pickle already exists. skip this case.\n",
      "OL08_bdwaveform.pickle already exists. skip this case.\n",
      "OL09_bdwaveform.pickle already exists. skip this case.\n",
      "OL10_bdwaveform.pickle already exists. skip this case.\n",
      "OL11_bdwaveform.pickle already exists. skip this case.\n"
     ]
    },
    {
     "name": "stderr",
     "output_type": "stream",
     "text": [
      " 47%|████████████████████▏                      | 15/32 [00:00<00:00, 29.80it/s]"
     ]
    },
    {
     "name": "stdout",
     "output_type": "stream",
     "text": [
      "OL12_bdwaveform.pickle already exists. skip this case.\n",
      "OL13_bdwaveform.pickle already exists. skip this case.\n",
      "OL14_bdwaveform.pickle already exists. skip this case.\n",
      "OL15_bdwaveform.pickle already exists. skip this case.\n",
      "OL16_bdwaveform.pickle already exists. skip this case.\n",
      "OL17_bdwaveform.pickle already exists. skip this case.\n",
      "OL18_bdwaveform.pickle already exists. skip this case.\n",
      "OL19_bdwaveform.pickle already exists. skip this case.\n"
     ]
    },
    {
     "name": "stderr",
     "output_type": "stream",
     "text": [
      " 72%|██████████████████████████████▉            | 23/32 [00:00<00:00, 29.94it/s]"
     ]
    },
    {
     "name": "stdout",
     "output_type": "stream",
     "text": [
      "OL20_bdwaveform.pickle already exists. skip this case.\n",
      "OL21_bdwaveform.pickle already exists. skip this case.\n",
      "OL22_bdwaveform.pickle already exists. skip this case.\n",
      "OL23_bdwaveform.pickle already exists. skip this case.\n",
      "OL24_bdwaveform.pickle already exists. skip this case.\n",
      "OL25_bdwaveform.pickle already exists. skip this case.\n"
     ]
    },
    {
     "name": "stderr",
     "output_type": "stream",
     "text": [
      "100%|███████████████████████████████████████████| 32/32 [00:01<00:00, 29.93it/s]"
     ]
    },
    {
     "name": "stdout",
     "output_type": "stream",
     "text": [
      "OL26_bdwaveform.pickle already exists. skip this case.\n",
      "OL27_bdwaveform.pickle already exists. skip this case.\n",
      "OL28_bdwaveform.pickle already exists. skip this case.\n",
      "OL29_bdwaveform.pickle already exists. skip this case.\n",
      "OL30_bdwaveform.pickle already exists. skip this case.\n",
      "OL31_bdwaveform.pickle already exists. skip this case.\n",
      "OL32_bdwaveform.pickle already exists. skip this case.\n"
     ]
    },
    {
     "name": "stderr",
     "output_type": "stream",
     "text": [
      "\n"
     ]
    }
   ],
   "source": [
    "# Read observation\n",
    "for stnm in tqdm(AEsensors):\n",
    "# stnm = AEsensors[8]\n",
    "\n",
    "    foname = os.path.join(outputdir, \"{}_bdwaveform_longpretrig.pickle\".format(stnm)) \n",
    "\n",
    "    if os.path.exists(foname):\n",
    "        print(\"{}_bdwaveform.pickle already exists. skip this case.\".format(stnm))\n",
    "#         continue\n",
    "\n",
    "    df_iso_st = df_iso_all[df_iso_all.OL==stnm]\n",
    "    xlimit = [-0.5, 3]\n",
    "    ylimit = [-1.0, 1.0]\n",
    "\n",
    "    st_eventsta = Stream()\n",
    "\n",
    "    #---Start assembling each balldrop event---#\n",
    "    for dataind in df_iso_st.index:\n",
    "        #---Read observation data---#\n",
    "        tr_obs_trim = read(eventdatadir+\"/obs_isocoord_{}.pickle\".format(dataind))[0]\n",
    "        tr_obs_trim.stats.dataindex = dataind\n",
    "        # rename channel\n",
    "        tr_obs_trim.stats.network = 'BIAX' # 'OY': Observatoin in Y direction\n",
    "        tr_obs_trim.stats.channel = 'OY' # 'OY': Observatoin in Y direction\n",
    "        st_eventsta.append(tr_obs_trim)\n",
    "\n",
    "\n",
    "    for tr_obstmp in st_eventsta:\n",
    "        #---Read synthetic data---#\n",
    "        dataind = tr_obstmp.stats.dataindex\n",
    "\n",
    "        OL, datacase = dataind.split('__')\n",
    "\n",
    "        # read synthetic green's function\n",
    "        gid = df_gindextable[df_gindextable['index'] == dataind]['gid'].values[0]\n",
    "\n",
    "        finame_syn = '{}/{}__{:08d}__OL00__z__fy___.sac'.format(greendatadir, simulationtitle, gid) #y coordinate is corresponding to the perpendicular to the fault surface\n",
    "        tr_syn = read(finame_syn, format=\"SAC\")[0]\n",
    "\n",
    "        # restore stats\n",
    "        tr_syn.stats.network = 'OpenSWPC'\n",
    "        tr_syn.stats.station = OL\n",
    "        tr_syn.stats.location = tr_obstmp.stats.location\n",
    "        tr_syn.stats.channel = 'SY' # NOTE: The original name 'G_Vz_fy_' is misleading; The output of green function in OpenSWPC is not in velocity, but displacement.\n",
    "        tr_syn.stats.dataindex = dataind\n",
    "        tr_syn.stats.fz_hetzscale = df_hertzprm['fz'].values[0]\n",
    "\n",
    "        # rescale source scaling and convert from nm to m\n",
    "        tr_syn.data = tr_syn.data*tr_syn.stats.fz_hetzscale/1e9\n",
    "\n",
    "        # store the displacement data for the gain comparison\n",
    "        tr_syn.data_disp = tr_syn.data\n",
    "        # convert from displacement to velocity\n",
    "        tr_syn.differentiate() # NOTE: obspy differentiate uses delta in stats for differentiation.\n",
    "\n",
    "        # manipulate start and endtime\n",
    "        # 1. zero pad pretriger and windowlen\n",
    "        # 2. change starttime\n",
    "\n",
    "        T0 = df_hertzprm['T0'].values[0] # Origin time used in OpenSWPC\n",
    "\n",
    "        st_tmp = tr_syn.stats.starttime\n",
    "        pt = timedelta(milliseconds = tr_obstmp.stats.pretrigger)\n",
    "        wt = timedelta(milliseconds = tr_obstmp.stats.windowlen)\n",
    "        ot = timedelta(milliseconds = T0)\n",
    "\n",
    "        starttime_tmp = st_tmp+ot-pt\n",
    "        endtime_tmp = st_tmp+ot+wt\n",
    "\n",
    "        tr_syn_trim = tr_syn.copy() # avoid error in multiple trim\n",
    "        tr_syn_trim.trim(starttime_tmp, endtime_tmp, pad=True, fill_value=0.0)\n",
    "        \n",
    "        tr_syn_trim.stats.starttime =  tr_obstmp.stats.starttime\n",
    "        \n",
    "        st_eventsta.append(tr_syn_trim)\n",
    "\n",
    "    # Save Stream containing a set of balldrop observatoin and synthetic waveform\n",
    "    if not os.path.exists(outputdir):\n",
    "        os.makedirs(outputdir) \n",
    "        \n",
    "    st_eventsta.write(foname, format=\"pickle\")"
   ]
  },
  {
   "cell_type": "code",
   "execution_count": 27,
   "metadata": {},
   "outputs": [
    {
     "data": {
      "text/plain": [
       "12 Trace(s) in Stream:\n",
       "BIAX.OL13.2860.OY     | 1970-01-01T00:00:00.00000000Z - 1970-01-01T00:00:00.00045000Z | 10000000.0 Hz, 4501 samples\n",
       "BIAX.OL13.2980.OY     | 1970-01-01T00:00:00.00000000Z - 1970-01-01T00:00:00.00045000Z | 10000000.0 Hz, 4501 samples\n",
       "BIAX.OL13.3100.OY     | 1970-01-01T00:00:00.00000000Z - 1970-01-01T00:00:00.00045000Z | 10000000.0 Hz, 4501 samples\n",
       "BIAX.OL13.3220.OY     | 1970-01-01T00:00:00.00000000Z - 1970-01-01T00:00:00.00045000Z | 10000000.0 Hz, 4501 samples\n",
       "BIAX.OL13.3340.OY     | 1970-01-01T00:00:00.00000000Z - 1970-01-01T00:00:00.00045000Z | 10000000.0 Hz, 4501 samples\n",
       "BIAX.OL13.3460.OY     | 1970-01-01T00:00:00.00000000Z - 1970-01-01T00:00:00.00045000Z | 10000000.0 Hz, 4501 samples\n",
       "OpenSWPC.OL13.2860.SY | 1970-01-01T00:00:00.00000000Z - 1970-01-01T00:00:00.00045000Z | 10000000.0 Hz, 4501 samples\n",
       "OpenSWPC.OL13.2980.SY | 1970-01-01T00:00:00.00000000Z - 1970-01-01T00:00:00.00045000Z | 10000000.0 Hz, 4501 samples\n",
       "OpenSWPC.OL13.3100.SY | 1970-01-01T00:00:00.00000000Z - 1970-01-01T00:00:00.00045000Z | 10000000.0 Hz, 4501 samples\n",
       "OpenSWPC.OL13.3220.SY | 1970-01-01T00:00:00.00000000Z - 1970-01-01T00:00:00.00045000Z | 10000000.0 Hz, 4501 samples\n",
       "OpenSWPC.OL13.3340.SY | 1970-01-01T00:00:00.00000000Z - 1970-01-01T00:00:00.00045000Z | 10000000.0 Hz, 4501 samples\n",
       "OpenSWPC.OL13.3460.SY | 1970-01-01T00:00:00.00000000Z - 1970-01-01T00:00:00.00045000Z | 10000000.0 Hz, 4501 samples"
      ]
     },
     "execution_count": 27,
     "metadata": {},
     "output_type": "execute_result"
    }
   ],
   "source": [
    "# check comparison\n",
    "\n",
    "finame = os.path.join(outputdir, \"{}_bdwaveform_longpretrig.pickle\".format(AEsensors[12])) \n",
    "st = read(finame)\n",
    "st"
   ]
  },
  {
   "cell_type": "code",
   "execution_count": 28,
   "metadata": {},
   "outputs": [],
   "source": [
    "tr_obs = st.select(network=\"BIAX\", location='3100')[0]\n",
    "tr_syn = st.select(network=\"OpenSWPC\", location='3100')[0] "
   ]
  },
  {
   "cell_type": "code",
   "execution_count": 29,
   "metadata": {},
   "outputs": [
    {
     "data": {
      "text/plain": [
       "         network: BIAX\n",
       "         station: OL13\n",
       "        location: 3100\n",
       "         channel: OY\n",
       "       starttime: 1970-01-01T00:00:00.00000000Z\n",
       "         endtime: 1970-01-01T00:00:00.00045000Z\n",
       "   sampling_rate: 10000000.0\n",
       "           delta: 1e-07\n",
       "            npts: 4501\n",
       "           calib: 1.0\n",
       "         _format: PICKLE\n",
       "       dataindex: OL13__BD_3100\n",
       "            dist: 108.28665661105246\n",
       "            eta1: -0.051\n",
       "          i_iter: 1\n",
       "      origintime: 0.0845615722876972\n",
       "      pretrigger: 0.05\n",
       "      processing: ['ObsPy 1.4.1: trim(endtime=UTCDateTime(1970, 1, 1, 0, 0, 0, 485)::fill_value=0.0::nearest_sample=True::pad=True::starttime=UTCDateTime(1970, 1, 1, 0, 0, 0, 35))']\n",
       "           tpick: 0.016938427712302806\n",
       "       windowlen: 0.4\n",
       "             xi1: -0.065\n",
       "           zeta1: 0"
      ]
     },
     "execution_count": 29,
     "metadata": {},
     "output_type": "execute_result"
    }
   ],
   "source": [
    "tr_obs.stats"
   ]
  },
  {
   "cell_type": "code",
   "execution_count": 30,
   "metadata": {},
   "outputs": [
    {
     "data": {
      "text/plain": [
       "<matplotlib.legend.Legend at 0x1620e82c0>"
      ]
     },
     "execution_count": 30,
     "metadata": {},
     "output_type": "execute_result"
    },
    {
     "data": {
      "image/png": "[encoded data removed]",
      "text/plain": [
       "<Figure size 800x300 with 1 Axes>"
      ]
     },
     "metadata": {},
     "output_type": "display_data"
    }
   ],
   "source": [
    "tvec = tr_syn.times() * 1e3\n",
    "\n",
    "xlimit = [0, 0.2] #[-1.5, 20.5]\n",
    "ylimit = [-1.2, 1.2]\n",
    "fig, ax = plt.subplots(1, 1, figsize=(8, 3))\n",
    "\n",
    "ax.plot(tvec, tr_obs.data*1e3, 'k-', label=\"observation\")\n",
    "ax.plot(tvec, tr_syn.data*1e3, 'r-', label=\"synthetic\")\n",
    "ax.axvline(tr_obs_trim.stats.tpick, c = 'b', ls = '--')\n",
    "ax.set_xlabel(\"Time [ms]\")\n",
    "ax.set_ylabel(\"Velocity [mm/s]\")\n",
    "ax.set_xlim(xlimit)\n",
    "ax.set_ylim(ylimit)\n",
    "ax.legend()"
   ]
  },
  {
   "cell_type": "code",
   "execution_count": 31,
   "metadata": {},
   "outputs": [
    {
     "data": {
      "image/png": "[encoded data removed]",
      "text/plain": [
       "<Figure size 800x250 with 1 Axes>"
      ]
     },
     "metadata": {},
     "output_type": "display_data"
    },
    {
     "data": {
      "image/png": "[encoded data removed]",
      "text/plain": [
       "<Figure size 800x250 with 1 Axes>"
      ]
     },
     "execution_count": 31,
     "metadata": {},
     "output_type": "execute_result"
    }
   ],
   "source": [
    "tr_syn_trim.plot()"
   ]
  },
  {
   "cell_type": "code",
   "execution_count": null,
   "metadata": {},
   "outputs": [],
   "source": []
  }
 ],
 "metadata": {
  "kernelspec": {
   "display_name": "Python 3 (ipykernel)",
   "language": "python",
   "name": "python3"
  },
  "language_info": {
   "codemirror_mode": {
    "name": "ipython",
    "version": 3
   },
   "file_extension": ".py",
   "mimetype": "text/x-python",
   "name": "python",
   "nbconvert_exporter": "python",
   "pygments_lexer": "ipython3",
   "version": "3.12.9"
  }
 },
 "nbformat": 4,
 "nbformat_minor": 4
}

{
 "cells": [
  {
   "cell_type": "markdown",
   "metadata": {},
   "source": [
    "# Assemble green function with ball drop observation\n",
    "2021.05.09 Kurama Okubo\n",
    "\n",
    "- 2022.11.23 update for new ball-drop test \n",
    "- 2024.1.24 update for master plot\n",
    "- 2024.7.17 update for the evaluation of attenuation factor (large Qp and Qs)\n",
    "- 2025.3.16 update for master plot"
   ]
  },
  {
   "cell_type": "markdown",
   "metadata": {},
   "source": [
    "## Work flow\n",
    "\n",
    "1. Read isocoord pickle associated with stations\n",
    "2. Read meta data\n",
    "3. Read synthetic waveform\n",
    "4. Preprocess (scaling with M0: scaling factor used in OpenSWPC; convert from disp to vel; time shift + zero padding)\n",
    "4. Save pickle"
   ]
  },
  {
   "cell_type": "code",
   "execution_count": null,
   "metadata": {},
   "outputs": [],
   "source": [
    "import os\n",
    "import obspy\n",
    "from obspy import read, Stream, Trace\n",
    "from scipy import signal\n",
    "import matplotlib.pyplot as plt\n",
    "%matplotlib inline\n",
    "import glob\n",
    "from glob import glob\n",
    "import numpy as np\n",
    "import pandas as pd\n",
    "import datetime\n",
    "from datetime import timedelta\n",
    "from tqdm import tqdm\n",
    "import warnings\n",
    "\n",
    "from obspy.core.utcdatetime import UTCDateTime  \n",
    "os.environ['TZ'] = 'GMT' # change time zone to avoid confusion in unix_tvec conversion\n",
    "UTCDateTime.DEFAULT_PRECISION = 8"
   ]
  },
  {
   "cell_type": "code",
   "execution_count": null,
   "metadata": {},
   "outputs": [],
   "source": [
    "#Parameters\n",
    "rootdir = \"../../SensorCoupling_BallDrop/code/\"\n",
    "\n",
    "simulationtitle = 'balltest_sidecoord_segment_test' # simulation title used in Input.inf of OpenSWPC\n",
    "fi_hetzsourceprm = './04_numericalmodeling_waveform/4m_sidecoord_v01_Qp10000_Qs10000_v2_airQ10/out/stf_greenstf_prm.dat'\n",
    "\n",
    "vmean = 6200"
   ]
  },
  {
   "cell_type": "code",
   "execution_count": null,
   "metadata": {},
   "outputs": [],
   "source": [
    "# Path for event location table\n",
    "\n",
    "eventloc_table = rootdir+\"../data/balldrop_locations.csv\"\n",
    "\n",
    "# pickle event waveform directory\n",
    "eventdatadir = '../data/DATA_isocoord' # use the one with large pretrigger\n",
    "\n",
    "# greens function data directory \n",
    "# greendatadir = rootdir+'./04_numericalmodeling_waveform/4m_sidecoord_v01_Qp200_Qs80_v2/out/green/OL00'\n",
    "greendatadir = './04_numericalmodeling_waveform/4m_sidecoord_v01_Qp10000_Qs10000_v2_airQ10/out/green/OL00'\n",
    "\n",
    "# output datadir\n",
    "outputdir = \"../data/bkcheck_DATA_greencomparison\"\n",
    "\n",
    "# channel table\n",
    "channel_finame = '../../../Others/AEchanneltable/AEsensorlocation_onFB03_table.csv'\n"
   ]
  },
  {
   "cell_type": "code",
   "execution_count": null,
   "metadata": {},
   "outputs": [],
   "source": [
    "if not os.path.exists(outputdir):\n",
    "    os.makedirs(outputdir)"
   ]
  },
  {
   "cell_type": "code",
   "execution_count": null,
   "metadata": {},
   "outputs": [],
   "source": [
    "# read gindex table\n",
    "df_gindextable = pd.read_csv(rootdir+\"../data/gindex_table.csv\", index_col=0)\n",
    "df_gindextable.head()"
   ]
  },
  {
   "cell_type": "code",
   "execution_count": null,
   "metadata": {},
   "outputs": [],
   "source": [
    "# read observation casename  table\n",
    "df_iso_all = pd.read_csv(rootdir+\"../data/balldrop_events_isocoord.csv\", index_col=0)\n",
    "df_iso_all.head()"
   ]
  },
  {
   "cell_type": "code",
   "execution_count": null,
   "metadata": {},
   "outputs": [],
   "source": [
    "# Read Channel Index\n",
    "df_array = pd.read_csv(channel_finame)\n",
    "\n",
    "channel_loc={}\n",
    "\n",
    "for i in range(len(df_array)):\n",
    "    stnm = df_array.iloc[i].Instrument_Label\n",
    "    xtemp = df_array.iloc[i].North.astype('float')\n",
    "    ytemp = df_array.iloc[i].East.astype('float')\n",
    "    ztemp = df_array.iloc[i].Down.astype('float')\n",
    "    channel_loc[stnm] = [xtemp, ytemp, ztemp]\n",
    "    \n",
    "AEsensors = list(channel_loc.keys())"
   ]
  },
  {
   "cell_type": "code",
   "execution_count": null,
   "metadata": {},
   "outputs": [],
   "source": [
    "df_iso_all[df_iso_all.OL == 'OL02']"
   ]
  },
  {
   "cell_type": "code",
   "execution_count": null,
   "metadata": {},
   "outputs": [],
   "source": [
    "# Read OpenSWPC output for Hertzian source parameter\n",
    "df_hertzprm = pd.read_csv(fi_hetzsourceprm, skipinitialspace=True)\n",
    "\n",
    "print(f'T0={df_hertzprm[\"T0\"].values[0]*1e6:.1f}us, Tc{df_hertzprm[\"tc\"].values[0]*1e6:.2f}us, hertz_fmax={df_hertzprm[\"hertz_fmax\"].values[0]:.2f}N, fz={df_hertzprm[\"fz\"].values[0]:.6f}')"
   ]
  },
  {
   "cell_type": "code",
   "execution_count": null,
   "metadata": {},
   "outputs": [],
   "source": [
    "df_hertzprm"
   ]
  },
  {
   "cell_type": "code",
   "execution_count": null,
   "metadata": {},
   "outputs": [],
   "source": [
    "df_hertzprm[\"T0\"]*1e6"
   ]
  },
  {
   "cell_type": "markdown",
   "metadata": {},
   "source": [
    "## Assemble observation and synthetic waveform"
   ]
  },
  {
   "cell_type": "code",
   "execution_count": null,
   "metadata": {},
   "outputs": [],
   "source": [
    "# Read observation\n",
    "for stnm in tqdm(AEsensors):\n",
    "# stnm = AEsensors[8]\n",
    "\n",
    "    foname = os.path.join(outputdir, \"{}_bdwaveform_longpretrig.pickle\".format(stnm)) \n",
    "\n",
    "    if os.path.exists(foname):\n",
    "        print(\"{}_bdwaveform.pickle already exists. skip this case.\".format(stnm))\n",
    "#         continue\n",
    "\n",
    "    df_iso_st = df_iso_all[df_iso_all.OL==stnm]\n",
    "    xlimit = [-0.5, 3]\n",
    "    ylimit = [-1.0, 1.0]\n",
    "\n",
    "    st_eventsta = Stream()\n",
    "\n",
    "    #---Start assembling each balldrop event---#\n",
    "    for dataind in df_iso_st.index:\n",
    "        #---Read observation data---#\n",
    "        tr_obs_trim = read(eventdatadir+\"/obs_isocoord_{}.pickle\".format(dataind))[0]\n",
    "        tr_obs_trim.stats.dataindex = dataind\n",
    "        # rename channel\n",
    "        tr_obs_trim.stats.network = 'BIAX' # 'OY': Observatoin in Y direction\n",
    "        tr_obs_trim.stats.channel = 'OY' # 'OY': Observatoin in Y direction\n",
    "        st_eventsta.append(tr_obs_trim)\n",
    "\n",
    "\n",
    "    for tr_obstmp in st_eventsta:\n",
    "        #---Read synthetic data---#\n",
    "        dataind = tr_obstmp.stats.dataindex\n",
    "\n",
    "        OL, datacase = dataind.split('__')\n",
    "\n",
    "        # read synthetic green's function\n",
    "        gid = df_gindextable[df_gindextable['index'] == dataind]['gid'].values[0]\n",
    "\n",
    "        finame_syn = '{}/{}__{:08d}__OL00__z__fy___.sac'.format(greendatadir, simulationtitle, gid) #y coordinate is corresponding to the perpendicular to the fault surface\n",
    "        tr_syn = read(finame_syn, format=\"SAC\")[0]\n",
    "\n",
    "        # restore stats\n",
    "        tr_syn.stats.network = 'OpenSWPC'\n",
    "        tr_syn.stats.station = OL\n",
    "        tr_syn.stats.location = tr_obstmp.stats.location\n",
    "        tr_syn.stats.channel = 'SY' # NOTE: The original name 'G_Vz_fy_' is misleading; The output of green function in OpenSWPC is not in velocity, but displacement.\n",
    "        tr_syn.stats.dataindex = dataind\n",
    "        tr_syn.stats.fz_hetzscale = df_hertzprm['fz'].values[0]\n",
    "\n",
    "        # rescale source scaling and convert from nm to m\n",
    "        tr_syn.data = tr_syn.data*tr_syn.stats.fz_hetzscale/1e9\n",
    "\n",
    "        # store the displacement data for the gain comparison\n",
    "        tr_syn.data_disp = tr_syn.data\n",
    "        # convert from displacement to velocity\n",
    "        tr_syn.differentiate() # NOTE: obspy differentiate uses delta in stats for differentiation.\n",
    "\n",
    "        # manipulate start and endtime\n",
    "        # 1. zero pad pretriger and windowlen\n",
    "        # 2. change starttime\n",
    "\n",
    "        T0 = df_hertzprm['T0'].values[0] # Origin time used in OpenSWPC\n",
    "\n",
    "        st_tmp = tr_syn.stats.starttime\n",
    "        pt = timedelta(milliseconds = tr_obstmp.stats.pretrigger)\n",
    "        wt = timedelta(milliseconds = tr_obstmp.stats.windowlen)\n",
    "        ot = timedelta(milliseconds = T0)\n",
    "\n",
    "        starttime_tmp = st_tmp+ot-pt\n",
    "        endtime_tmp = st_tmp+ot+wt\n",
    "\n",
    "        tr_syn_trim = tr_syn.copy() # avoid error in multiple trim\n",
    "        tr_syn_trim.trim(starttime_tmp, endtime_tmp, pad=True, fill_value=0.0)\n",
    "        \n",
    "        tr_syn_trim.stats.starttime =  tr_obstmp.stats.starttime\n",
    "        \n",
    "        st_eventsta.append(tr_syn_trim)\n",
    "\n",
    "    # Save Stream containing a set of balldrop observatoin and synthetic waveform\n",
    "    if not os.path.exists(outputdir):\n",
    "        os.makedirs(outputdir) \n",
    "        \n",
    "    st_eventsta.write(foname, format=\"pickle\")"
   ]
  },
  {
   "cell_type": "code",
   "execution_count": null,
   "metadata": {},
   "outputs": [],
   "source": [
    "# check comparison\n",
    "\n",
    "finame = os.path.join(outputdir, \"{}_bdwaveform_longpretrig.pickle\".format(AEsensors[12])) \n",
    "st = read(finame)\n",
    "st"
   ]
  },
  {
   "cell_type": "code",
   "execution_count": null,
   "metadata": {},
   "outputs": [],
   "source": [
    "tr_obs = st.select(network=\"BIAX\", location='3100')[0]\n",
    "tr_syn = st.select(network=\"OpenSWPC\", location='3100')[0] "
   ]
  },
  {
   "cell_type": "code",
   "execution_count": null,
   "metadata": {},
   "outputs": [],
   "source": [
    "tr_obs.stats"
   ]
  },
  {
   "cell_type": "code",
   "execution_count": null,
   "metadata": {},
   "outputs": [],
   "source": [
    "tvec = tr_syn.times() * 1e3\n",
    "\n",
    "xlimit = [0, 0.2] #[-1.5, 20.5]\n",
    "ylimit = [-1.2, 1.2]\n",
    "fig, ax = plt.subplots(1, 1, figsize=(8, 3))\n",
    "\n",
    "ax.plot(tvec, tr_obs.data*1e3, 'k-', label=\"observation\")\n",
    "ax.plot(tvec, tr_syn.data*1e3, 'r-', label=\"synthetic\")\n",
    "ax.axvline(tr_obs_trim.stats.tpick, c = 'b', ls = '--')\n",
    "ax.set_xlabel(\"Time [ms]\")\n",
    "ax.set_ylabel(\"Velocity [mm/s]\")\n",
    "ax.set_xlim(xlimit)\n",
    "ax.set_ylim(ylimit)\n",
    "ax.legend()"
   ]
  },
  {
   "cell_type": "code",
   "execution_count": null,
   "metadata": {},
   "outputs": [],
   "source": [
    "tr_syn_trim.plot()"
   ]
  },
  {
   "cell_type": "code",
   "execution_count": null,
   "metadata": {},
   "outputs": [],
   "source": []
  }
 ],
 "metadata": {
  "kernelspec": {
   "display_name": "Python 3 (ipykernel)",
   "language": "python",
   "name": "python3"
  },
  "language_info": {
   "codemirror_mode": {
    "name": "ipython",
    "version": 3
   },
   "file_extension": ".py",
   "mimetype": "text/x-python",
   "name": "python",
   "nbconvert_exporter": "python",
   "pygments_lexer": "ipython3",
   "version": "3.12.9"
  }
 },
 "nbformat": 4,
 "nbformat_minor": 4
}

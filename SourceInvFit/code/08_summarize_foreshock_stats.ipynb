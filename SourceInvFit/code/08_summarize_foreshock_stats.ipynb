{
 "cells": [
  {
   "cell_type": "markdown",
   "metadata": {},
   "source": [
    "# Summarize the \n",
    "\n",
    "Process the result of grid search inversion and summarize the source properties of gouge-patch source.\n",
    "\n",
    "2023.10.23 Kurama Okubo\n",
    "\n",
    "2024.02.09 update for master plot: update M0hat and M0\n",
    "\n",
    "2024.10.31 update for the merged catalog.\n",
    "\n",
    "NOTE: We use the VR from the P window. The result of VR for PS is identical to the P because we set `alpha_p=1.0`, `alpha_s=0.0` in the grid search."
   ]
  },
  {
   "cell_type": "code",
   "execution_count": 45,
   "metadata": {},
   "outputs": [
    {
     "name": "stdout",
     "output_type": "stream",
     "text": [
      "The autoreload extension is already loaded. To reload it, use:\n",
      "  %reload_ext autoreload\n"
     ]
    }
   ],
   "source": [
    "import os\n",
    "import obspy\n",
    "from obspy import read, Stream, Trace\n",
    "from scipy import signal\n",
    "import matplotlib.pyplot as plt\n",
    "from matplotlib.cm import ScalarMappable\n",
    "%matplotlib inline\n",
    "import glob\n",
    "from glob import glob\n",
    "import numpy as np\n",
    "import pandas as pd\n",
    "import datetime\n",
    "from datetime import timedelta\n",
    "from tqdm import tqdm\n",
    "import warnings\n",
    "import time\n",
    "\n",
    "from multiprocessing import Pool, cpu_count\n",
    "from obspy.signal.cross_correlation import correlate, xcorr_max\n",
    "\n",
    "from itertools import combinations\n",
    "\n",
    "from scipy.spatial.distance import euclidean, correlation\n",
    "\n",
    "%load_ext autoreload\n",
    "%autoreload 2\n",
    "\n",
    "from AEevents_Gridsearch_PS_func import *\n",
    "from AEevents_plot_func import *\n",
    "\n",
    "plt.rcParams[\"font.family\"] = 'Arial'\n",
    "# plt.rcParams[\"font.sans-serif\"] = \"DejaVu Sans, Arial, Helvetica, Lucida Grande, Verdana, Geneva, Lucid, Avant Garde, sans-serif\"\n",
    "plt.rcParams[\"font.size\"] = 12\n",
    "plt.rcParams[\"xtick.direction\"] = \"in\"\n",
    "plt.rcParams[\"xtick.major.size\"] = 4.75\n",
    "plt.rcParams[\"xtick.major.width\"] = 0.75\n",
    "plt.rcParams[\"xtick.minor.size\"] = 3\n",
    "plt.rcParams[\"xtick.minor.width\"] = 0.4\n",
    "plt.rcParams[\"xtick.minor.visible\"] = True\n",
    "\n",
    "plt.rcParams[\"ytick.direction\"] = \"in\"\n",
    "plt.rcParams[\"ytick.major.size\"] = 4.75\n",
    "plt.rcParams[\"ytick.major.width\"] = 0.75\n",
    "plt.rcParams[\"ytick.minor.size\"] = 3\n",
    "plt.rcParams[\"ytick.minor.width\"] = 0.4\n",
    "plt.rcParams[\"ytick.minor.visible\"] = True\n",
    "\n",
    "plt.rcParams[\"savefig.transparent\"] = True\n",
    "\n",
    "plt.rcParams['axes.linewidth'] = 0.75\n",
    "os.environ['TZ'] = 'GMT' # change time zone to avoid confusion in unix_tvec conversion\n",
    "UTCDateTime.DEFAULT_PRECISION = 8 # increase the time precision\n"
   ]
  },
  {
   "cell_type": "code",
   "execution_count": 46,
   "metadata": {},
   "outputs": [],
   "source": [
    "# datadir\n",
    "data_inputdir = \"../data/07_DATA_MTinversion\"\n",
    "\n",
    "figdir = \"../figure/08_summary_VR\"\n",
    "if not os.path.exists(figdir):\n",
    "    os.makedirs(figdir)"
   ]
  },
  {
   "cell_type": "code",
   "execution_count": 47,
   "metadata": {},
   "outputs": [],
   "source": [
    "expr_id = 87\n",
    "# event_ids = [3, 16, 17, 30, 51, 52, 58, 61, 77, 91, 99, 106, 21, 32, 35, 67, 90, 97, 104, \\\n",
    "#             24, 36, 41, 43, 46, 70, 71, 81 ,82] # Ordinary, x=1750, rupturetype all (1, 2, and 3) # excluded 37 due to low S/N\n",
    "\n",
    "event_ids = [4,   9,  18,  19,  20,  21,  24,  27,  30,  31,  37,  38,  40,\n",
    "        43,  44,  49,  50,  52,  55,  59,  61,  62,  69,  72,  75,\n",
    "        76,  77,  81,  85,  88,  89,  95,  99, 100, 102, 109, 110, 111,\n",
    "       118, 120, 126, 128, 129, 131] # excluded 45 (old id:37) due to low S/N \n",
    "\n",
    "datacase_list = [\"fb03-{:03d}__{:04d}\".format(expr_id, x) for x in event_ids]\n",
    "\n"
   ]
  },
  {
   "cell_type": "code",
   "execution_count": 48,
   "metadata": {},
   "outputs": [],
   "source": [
    "balldrop_model=4 # 2 for the model only with SiTj, 4 for the SiTjbeta\n",
    "\n",
    "df_VR_all = pd.read_csv(data_inputdir+\"/MTinv_gridsearch_{}_balldropmodel{}.csv\".format(datacase_list[11], balldrop_model), index_col=0)"
   ]
  },
  {
   "cell_type": "code",
   "execution_count": 49,
   "metadata": {},
   "outputs": [
    {
     "data": {
      "text/html": [
       "<div>\n",
       "<style scoped>\n",
       "    .dataframe tbody tr th:only-of-type {\n",
       "        vertical-align: middle;\n",
       "    }\n",
       "\n",
       "    .dataframe tbody tr th {\n",
       "        vertical-align: top;\n",
       "    }\n",
       "\n",
       "    .dataframe thead th {\n",
       "        text-align: right;\n",
       "    }\n",
       "</style>\n",
       "<table border=\"1\" class=\"dataframe\">\n",
       "  <thead>\n",
       "    <tr style=\"text-align: right;\">\n",
       "      <th></th>\n",
       "      <th>Mw</th>\n",
       "      <th>M0hat</th>\n",
       "      <th>M0</th>\n",
       "      <th>rake</th>\n",
       "      <th>TR</th>\n",
       "      <th>VR_P</th>\n",
       "      <th>VR_S</th>\n",
       "      <th>VR_PS</th>\n",
       "      <th>VR_sensors</th>\n",
       "      <th>Nsensor</th>\n",
       "    </tr>\n",
       "  </thead>\n",
       "  <tbody>\n",
       "    <tr>\n",
       "      <th>0</th>\n",
       "      <td>-8.070000</td>\n",
       "      <td>0.001000</td>\n",
       "      <td>0.000707</td>\n",
       "      <td>0</td>\n",
       "      <td>0.000001</td>\n",
       "      <td>-0.001394</td>\n",
       "      <td>0.008967</td>\n",
       "      <td>-0.001394</td>\n",
       "      <td>('OL07', 'OL08', 'OL23', 'OL22')</td>\n",
       "      <td>6</td>\n",
       "    </tr>\n",
       "    <tr>\n",
       "      <th>0</th>\n",
       "      <td>-8.047993</td>\n",
       "      <td>0.001079</td>\n",
       "      <td>0.000763</td>\n",
       "      <td>0</td>\n",
       "      <td>0.000001</td>\n",
       "      <td>-0.001504</td>\n",
       "      <td>0.009666</td>\n",
       "      <td>-0.001504</td>\n",
       "      <td>('OL07', 'OL08', 'OL23', 'OL22')</td>\n",
       "      <td>6</td>\n",
       "    </tr>\n",
       "    <tr>\n",
       "      <th>0</th>\n",
       "      <td>-8.025986</td>\n",
       "      <td>0.001164</td>\n",
       "      <td>0.000823</td>\n",
       "      <td>0</td>\n",
       "      <td>0.000001</td>\n",
       "      <td>-0.001623</td>\n",
       "      <td>0.010418</td>\n",
       "      <td>-0.001623</td>\n",
       "      <td>('OL07', 'OL08', 'OL23', 'OL22')</td>\n",
       "      <td>6</td>\n",
       "    </tr>\n",
       "    <tr>\n",
       "      <th>0</th>\n",
       "      <td>-8.003979</td>\n",
       "      <td>0.001256</td>\n",
       "      <td>0.000888</td>\n",
       "      <td>0</td>\n",
       "      <td>0.000001</td>\n",
       "      <td>-0.001751</td>\n",
       "      <td>0.011227</td>\n",
       "      <td>-0.001751</td>\n",
       "      <td>('OL07', 'OL08', 'OL23', 'OL22')</td>\n",
       "      <td>6</td>\n",
       "    </tr>\n",
       "    <tr>\n",
       "      <th>0</th>\n",
       "      <td>-7.981973</td>\n",
       "      <td>0.001355</td>\n",
       "      <td>0.000958</td>\n",
       "      <td>0</td>\n",
       "      <td>0.000001</td>\n",
       "      <td>-0.001890</td>\n",
       "      <td>0.012099</td>\n",
       "      <td>-0.001890</td>\n",
       "      <td>('OL07', 'OL08', 'OL23', 'OL22')</td>\n",
       "      <td>6</td>\n",
       "    </tr>\n",
       "    <tr>\n",
       "      <th>...</th>\n",
       "      <td>...</td>\n",
       "      <td>...</td>\n",
       "      <td>...</td>\n",
       "      <td>...</td>\n",
       "      <td>...</td>\n",
       "      <td>...</td>\n",
       "      <td>...</td>\n",
       "      <td>...</td>\n",
       "      <td>...</td>\n",
       "      <td>...</td>\n",
       "    </tr>\n",
       "    <tr>\n",
       "      <th>0</th>\n",
       "      <td>-5.957341</td>\n",
       "      <td>1.475668</td>\n",
       "      <td>1.043455</td>\n",
       "      <td>0</td>\n",
       "      <td>0.000004</td>\n",
       "      <td>-3.670861</td>\n",
       "      <td>-22.973856</td>\n",
       "      <td>-3.670861</td>\n",
       "      <td>('OL07', 'OL08', 'OL23', 'OL22')</td>\n",
       "      <td>6</td>\n",
       "    </tr>\n",
       "    <tr>\n",
       "      <th>0</th>\n",
       "      <td>-5.935334</td>\n",
       "      <td>1.592205</td>\n",
       "      <td>1.125859</td>\n",
       "      <td>0</td>\n",
       "      <td>0.000004</td>\n",
       "      <td>-4.707284</td>\n",
       "      <td>-27.284354</td>\n",
       "      <td>-4.707284</td>\n",
       "      <td>('OL07', 'OL08', 'OL23', 'OL22')</td>\n",
       "      <td>6</td>\n",
       "    </tr>\n",
       "    <tr>\n",
       "      <th>0</th>\n",
       "      <td>-5.913327</td>\n",
       "      <td>1.717946</td>\n",
       "      <td>1.214771</td>\n",
       "      <td>0</td>\n",
       "      <td>0.000004</td>\n",
       "      <td>-5.948121</td>\n",
       "      <td>-32.345090</td>\n",
       "      <td>-5.948121</td>\n",
       "      <td>('OL07', 'OL08', 'OL23', 'OL22')</td>\n",
       "      <td>6</td>\n",
       "    </tr>\n",
       "    <tr>\n",
       "      <th>0</th>\n",
       "      <td>-5.891320</td>\n",
       "      <td>1.853616</td>\n",
       "      <td>1.310704</td>\n",
       "      <td>0</td>\n",
       "      <td>0.000004</td>\n",
       "      <td>-7.429639</td>\n",
       "      <td>-38.282600</td>\n",
       "      <td>-7.429639</td>\n",
       "      <td>('OL07', 'OL08', 'OL23', 'OL22')</td>\n",
       "      <td>6</td>\n",
       "    </tr>\n",
       "    <tr>\n",
       "      <th>0</th>\n",
       "      <td>-5.869313</td>\n",
       "      <td>2.000000</td>\n",
       "      <td>1.414214</td>\n",
       "      <td>0</td>\n",
       "      <td>0.000004</td>\n",
       "      <td>-9.194271</td>\n",
       "      <td>-45.244458</td>\n",
       "      <td>-9.194271</td>\n",
       "      <td>('OL07', 'OL08', 'OL23', 'OL22')</td>\n",
       "      <td>6</td>\n",
       "    </tr>\n",
       "  </tbody>\n",
       "</table>\n",
       "<p>3131 rows × 10 columns</p>\n",
       "</div>"
      ],
      "text/plain": [
       "          Mw     M0hat        M0  rake        TR      VR_P       VR_S  \\\n",
       "0  -8.070000  0.001000  0.000707     0  0.000001 -0.001394   0.008967   \n",
       "0  -8.047993  0.001079  0.000763     0  0.000001 -0.001504   0.009666   \n",
       "0  -8.025986  0.001164  0.000823     0  0.000001 -0.001623   0.010418   \n",
       "0  -8.003979  0.001256  0.000888     0  0.000001 -0.001751   0.011227   \n",
       "0  -7.981973  0.001355  0.000958     0  0.000001 -0.001890   0.012099   \n",
       "..       ...       ...       ...   ...       ...       ...        ...   \n",
       "0  -5.957341  1.475668  1.043455     0  0.000004 -3.670861 -22.973856   \n",
       "0  -5.935334  1.592205  1.125859     0  0.000004 -4.707284 -27.284354   \n",
       "0  -5.913327  1.717946  1.214771     0  0.000004 -5.948121 -32.345090   \n",
       "0  -5.891320  1.853616  1.310704     0  0.000004 -7.429639 -38.282600   \n",
       "0  -5.869313  2.000000  1.414214     0  0.000004 -9.194271 -45.244458   \n",
       "\n",
       "       VR_PS                        VR_sensors  Nsensor  \n",
       "0  -0.001394  ('OL07', 'OL08', 'OL23', 'OL22')        6  \n",
       "0  -0.001504  ('OL07', 'OL08', 'OL23', 'OL22')        6  \n",
       "0  -0.001623  ('OL07', 'OL08', 'OL23', 'OL22')        6  \n",
       "0  -0.001751  ('OL07', 'OL08', 'OL23', 'OL22')        6  \n",
       "0  -0.001890  ('OL07', 'OL08', 'OL23', 'OL22')        6  \n",
       "..       ...                               ...      ...  \n",
       "0  -3.670861  ('OL07', 'OL08', 'OL23', 'OL22')        6  \n",
       "0  -4.707284  ('OL07', 'OL08', 'OL23', 'OL22')        6  \n",
       "0  -5.948121  ('OL07', 'OL08', 'OL23', 'OL22')        6  \n",
       "0  -7.429639  ('OL07', 'OL08', 'OL23', 'OL22')        6  \n",
       "0  -9.194271  ('OL07', 'OL08', 'OL23', 'OL22')        6  \n",
       "\n",
       "[3131 rows x 10 columns]"
      ]
     },
     "execution_count": 49,
     "metadata": {},
     "output_type": "execute_result"
    }
   ],
   "source": [
    "df_VR_all"
   ]
  },
  {
   "cell_type": "code",
   "execution_count": null,
   "metadata": {},
   "outputs": [],
   "source": []
  },
  {
   "cell_type": "code",
   "execution_count": 14,
   "metadata": {},
   "outputs": [
    {
     "name": "stderr",
     "output_type": "stream",
     "text": [
      "100%|█████████████████████████████████████████| 101/101 [00:01<00:00, 63.08it/s]\n"
     ]
    },
    {
     "name": "stdout",
     "output_type": "stream",
     "text": [
      "fb03-087__0004 best M0:0.568[J], best TR:3.300[us]\n"
     ]
    },
    {
     "name": "stderr",
     "output_type": "stream",
     "text": [
      "100%|█████████████████████████████████████████| 101/101 [00:01<00:00, 53.73it/s]\n"
     ]
    },
    {
     "name": "stdout",
     "output_type": "stream",
     "text": [
      "fb03-087__0009 best M0:0.046[J], best TR:3.100[us]\n"
     ]
    },
    {
     "name": "stderr",
     "output_type": "stream",
     "text": [
      "100%|█████████████████████████████████████████| 101/101 [00:01<00:00, 61.56it/s]\n"
     ]
    },
    {
     "name": "stdout",
     "output_type": "stream",
     "text": [
      "fb03-087__0018 best M0:0.613[J], best TR:3.500[us]\n"
     ]
    },
    {
     "name": "stderr",
     "output_type": "stream",
     "text": [
      "100%|█████████████████████████████████████████| 101/101 [00:01<00:00, 64.45it/s]\n"
     ]
    },
    {
     "name": "stdout",
     "output_type": "stream",
     "text": [
      "fb03-087__0019 best M0:0.050[J], best TR:3.100[us]\n"
     ]
    },
    {
     "name": "stderr",
     "output_type": "stream",
     "text": [
      "100%|█████████████████████████████████████████| 101/101 [00:01<00:00, 62.08it/s]\n"
     ]
    },
    {
     "name": "stdout",
     "output_type": "stream",
     "text": [
      "fb03-087__0020 best M0:0.770[J], best TR:3.300[us]\n"
     ]
    },
    {
     "name": "stderr",
     "output_type": "stream",
     "text": [
      "100%|█████████████████████████████████████████| 101/101 [00:01<00:00, 64.90it/s]\n"
     ]
    },
    {
     "name": "stdout",
     "output_type": "stream",
     "text": [
      "fb03-087__0021 best M0:0.023[J], best TR:3.000[us]\n"
     ]
    },
    {
     "name": "stderr",
     "output_type": "stream",
     "text": [
      "100%|█████████████████████████████████████████| 101/101 [00:01<00:00, 56.02it/s]\n"
     ]
    },
    {
     "name": "stdout",
     "output_type": "stream",
     "text": [
      "fb03-087__0024 best M0:0.063[J], best TR:3.100[us]\n"
     ]
    },
    {
     "name": "stderr",
     "output_type": "stream",
     "text": [
      "100%|█████████████████████████████████████████| 101/101 [00:01<00:00, 64.45it/s]\n"
     ]
    },
    {
     "name": "stdout",
     "output_type": "stream",
     "text": [
      "fb03-087__0027 best M0:0.770[J], best TR:3.300[us]\n"
     ]
    },
    {
     "name": "stderr",
     "output_type": "stream",
     "text": [
      "100%|█████████████████████████████████████████| 101/101 [00:01<00:00, 61.74it/s]\n"
     ]
    },
    {
     "name": "stdout",
     "output_type": "stream",
     "text": [
      "fb03-087__0030 best M0:0.058[J], best TR:3.300[us]\n"
     ]
    },
    {
     "name": "stderr",
     "output_type": "stream",
     "text": [
      "100%|█████████████████████████████████████████| 101/101 [00:01<00:00, 62.00it/s]\n"
     ]
    },
    {
     "name": "stdout",
     "output_type": "stream",
     "text": [
      "fb03-087__0031 best M0:0.896[J], best TR:3.200[us]\n"
     ]
    },
    {
     "name": "stderr",
     "output_type": "stream",
     "text": [
      "100%|█████████████████████████████████████████| 101/101 [00:01<00:00, 64.55it/s]\n"
     ]
    },
    {
     "name": "stdout",
     "output_type": "stream",
     "text": [
      "fb03-087__0037 best M0:0.025[J], best TR:3.800[us]\n"
     ]
    },
    {
     "name": "stderr",
     "output_type": "stream",
     "text": [
      "100%|█████████████████████████████████████████| 101/101 [00:01<00:00, 63.28it/s]\n"
     ]
    },
    {
     "name": "stdout",
     "output_type": "stream",
     "text": [
      "fb03-087__0038 best M0:0.287[J], best TR:2.800[us]\n"
     ]
    },
    {
     "name": "stderr",
     "output_type": "stream",
     "text": [
      "100%|█████████████████████████████████████████| 101/101 [00:01<00:00, 63.87it/s]\n"
     ]
    },
    {
     "name": "stdout",
     "output_type": "stream",
     "text": [
      "fb03-087__0040 best M0:0.246[J], best TR:2.800[us]\n"
     ]
    },
    {
     "name": "stderr",
     "output_type": "stream",
     "text": [
      "100%|█████████████████████████████████████████| 101/101 [00:01<00:00, 64.22it/s]\n"
     ]
    },
    {
     "name": "stdout",
     "output_type": "stream",
     "text": [
      "fb03-087__0043 best M0:0.196[J], best TR:3.200[us]\n"
     ]
    },
    {
     "name": "stderr",
     "output_type": "stream",
     "text": [
      "100%|█████████████████████████████████████████| 101/101 [00:01<00:00, 62.05it/s]\n"
     ]
    },
    {
     "name": "stdout",
     "output_type": "stream",
     "text": [
      "fb03-087__0044 best M0:0.068[J], best TR:3.200[us]\n"
     ]
    },
    {
     "name": "stderr",
     "output_type": "stream",
     "text": [
      "100%|█████████████████████████████████████████| 101/101 [00:01<00:00, 64.06it/s]\n"
     ]
    },
    {
     "name": "stdout",
     "output_type": "stream",
     "text": [
      "fb03-087__0049 best M0:0.040[J], best TR:2.900[us]\n"
     ]
    },
    {
     "name": "stderr",
     "output_type": "stream",
     "text": [
      "100%|█████████████████████████████████████████| 101/101 [00:01<00:00, 63.93it/s]\n"
     ]
    },
    {
     "name": "stdout",
     "output_type": "stream",
     "text": [
      "fb03-087__0050 best M0:0.334[J], best TR:3.500[us]\n"
     ]
    },
    {
     "name": "stderr",
     "output_type": "stream",
     "text": [
      "100%|█████████████████████████████████████████| 101/101 [00:01<00:00, 64.16it/s]\n"
     ]
    },
    {
     "name": "stdout",
     "output_type": "stream",
     "text": [
      "fb03-087__0052 best M0:0.452[J], best TR:3.400[us]\n"
     ]
    },
    {
     "name": "stderr",
     "output_type": "stream",
     "text": [
      "100%|█████████████████████████████████████████| 101/101 [00:01<00:00, 63.96it/s]\n"
     ]
    },
    {
     "name": "stdout",
     "output_type": "stream",
     "text": [
      "fb03-087__0055 best M0:0.360[J], best TR:3.300[us]\n"
     ]
    },
    {
     "name": "stderr",
     "output_type": "stream",
     "text": [
      "100%|█████████████████████████████████████████| 101/101 [00:01<00:00, 64.21it/s]\n"
     ]
    },
    {
     "name": "stdout",
     "output_type": "stream",
     "text": [
      "fb03-087__0059 best M0:0.079[J], best TR:3.600[us]\n"
     ]
    },
    {
     "name": "stderr",
     "output_type": "stream",
     "text": [
      "100%|█████████████████████████████████████████| 101/101 [00:01<00:00, 63.06it/s]\n"
     ]
    },
    {
     "name": "stdout",
     "output_type": "stream",
     "text": [
      "fb03-087__0061 best M0:0.714[J], best TR:3.300[us]\n"
     ]
    },
    {
     "name": "stderr",
     "output_type": "stream",
     "text": [
      "100%|█████████████████████████████████████████| 101/101 [00:01<00:00, 64.45it/s]\n"
     ]
    },
    {
     "name": "stdout",
     "output_type": "stream",
     "text": [
      "fb03-087__0062 best M0:0.568[J], best TR:3.300[us]\n"
     ]
    },
    {
     "name": "stderr",
     "output_type": "stream",
     "text": [
      "100%|█████████████████████████████████████████| 101/101 [00:01<00:00, 63.85it/s]\n"
     ]
    },
    {
     "name": "stdout",
     "output_type": "stream",
     "text": [
      "fb03-087__0069 best M0:0.334[J], best TR:2.900[us]\n"
     ]
    },
    {
     "name": "stderr",
     "output_type": "stream",
     "text": [
      "100%|█████████████████████████████████████████| 101/101 [00:01<00:00, 62.30it/s]\n"
     ]
    },
    {
     "name": "stdout",
     "output_type": "stream",
     "text": [
      "fb03-087__0072 best M0:0.770[J], best TR:3.300[us]\n"
     ]
    },
    {
     "name": "stderr",
     "output_type": "stream",
     "text": [
      "100%|█████████████████████████████████████████| 101/101 [00:01<00:00, 64.15it/s]\n"
     ]
    },
    {
     "name": "stdout",
     "output_type": "stream",
     "text": [
      "fb03-087__0075 best M0:0.287[J], best TR:3.000[us]\n"
     ]
    },
    {
     "name": "stderr",
     "output_type": "stream",
     "text": [
      "100%|█████████████████████████████████████████| 101/101 [00:01<00:00, 63.89it/s]\n"
     ]
    },
    {
     "name": "stdout",
     "output_type": "stream",
     "text": [
      "fb03-087__0076 best M0:0.360[J], best TR:2.800[us]\n"
     ]
    },
    {
     "name": "stderr",
     "output_type": "stream",
     "text": [
      "100%|█████████████████████████████████████████| 101/101 [00:01<00:00, 64.15it/s]\n"
     ]
    },
    {
     "name": "stdout",
     "output_type": "stream",
     "text": [
      "fb03-087__0077 best M0:0.568[J], best TR:3.000[us]\n"
     ]
    },
    {
     "name": "stderr",
     "output_type": "stream",
     "text": [
      "100%|█████████████████████████████████████████| 101/101 [00:01<00:00, 64.32it/s]\n"
     ]
    },
    {
     "name": "stdout",
     "output_type": "stream",
     "text": [
      "fb03-087__0081 best M0:0.054[J], best TR:3.100[us]\n"
     ]
    },
    {
     "name": "stderr",
     "output_type": "stream",
     "text": [
      "100%|█████████████████████████████████████████| 101/101 [00:01<00:00, 63.37it/s]\n"
     ]
    },
    {
     "name": "stdout",
     "output_type": "stream",
     "text": [
      "fb03-087__0085 best M0:0.526[J], best TR:2.900[us]\n"
     ]
    },
    {
     "name": "stderr",
     "output_type": "stream",
     "text": [
      "100%|█████████████████████████████████████████| 101/101 [00:01<00:00, 64.11it/s]\n"
     ]
    },
    {
     "name": "stdout",
     "output_type": "stream",
     "text": [
      "fb03-087__0088 best M0:0.967[J], best TR:3.100[us]\n"
     ]
    },
    {
     "name": "stderr",
     "output_type": "stream",
     "text": [
      "100%|█████████████████████████████████████████| 101/101 [00:01<00:00, 64.73it/s]\n"
     ]
    },
    {
     "name": "stdout",
     "output_type": "stream",
     "text": [
      "fb03-087__0089 best M0:0.526[J], best TR:3.300[us]\n"
     ]
    },
    {
     "name": "stderr",
     "output_type": "stream",
     "text": [
      "100%|█████████████████████████████████████████| 101/101 [00:01<00:00, 63.80it/s]\n"
     ]
    },
    {
     "name": "stdout",
     "output_type": "stream",
     "text": [
      "fb03-087__0095 best M0:0.770[J], best TR:3.400[us]\n"
     ]
    },
    {
     "name": "stderr",
     "output_type": "stream",
     "text": [
      "100%|█████████████████████████████████████████| 101/101 [00:01<00:00, 64.41it/s]\n"
     ]
    },
    {
     "name": "stdout",
     "output_type": "stream",
     "text": [
      "fb03-087__0099 best M0:0.613[J], best TR:3.600[us]\n"
     ]
    },
    {
     "name": "stderr",
     "output_type": "stream",
     "text": [
      "100%|█████████████████████████████████████████| 101/101 [00:01<00:00, 64.07it/s]\n"
     ]
    },
    {
     "name": "stdout",
     "output_type": "stream",
     "text": [
      "fb03-087__0100 best M0:0.452[J], best TR:3.100[us]\n"
     ]
    },
    {
     "name": "stderr",
     "output_type": "stream",
     "text": [
      "100%|█████████████████████████████████████████| 101/101 [00:01<00:00, 64.28it/s]\n"
     ]
    },
    {
     "name": "stdout",
     "output_type": "stream",
     "text": [
      "fb03-087__0102 best M0:0.099[J], best TR:3.300[us]\n"
     ]
    },
    {
     "name": "stderr",
     "output_type": "stream",
     "text": [
      "100%|█████████████████████████████████████████| 101/101 [00:01<00:00, 64.34it/s]\n"
     ]
    },
    {
     "name": "stdout",
     "output_type": "stream",
     "text": [
      "fb03-087__0109 best M0:0.419[J], best TR:3.000[us]\n"
     ]
    },
    {
     "name": "stderr",
     "output_type": "stream",
     "text": [
      "100%|█████████████████████████████████████████| 101/101 [00:01<00:00, 62.11it/s]\n"
     ]
    },
    {
     "name": "stdout",
     "output_type": "stream",
     "text": [
      "fb03-087__0110 best M0:0.058[J], best TR:3.700[us]\n"
     ]
    },
    {
     "name": "stderr",
     "output_type": "stream",
     "text": [
      "100%|█████████████████████████████████████████| 101/101 [00:01<00:00, 64.97it/s]\n"
     ]
    },
    {
     "name": "stdout",
     "output_type": "stream",
     "text": [
      "fb03-087__0111 best M0:0.452[J], best TR:3.000[us]\n"
     ]
    },
    {
     "name": "stderr",
     "output_type": "stream",
     "text": [
      "100%|█████████████████████████████████████████| 101/101 [00:01<00:00, 64.66it/s]\n"
     ]
    },
    {
     "name": "stdout",
     "output_type": "stream",
     "text": [
      "fb03-087__0118 best M0:0.099[J], best TR:2.800[us]\n"
     ]
    },
    {
     "name": "stderr",
     "output_type": "stream",
     "text": [
      "100%|█████████████████████████████████████████| 101/101 [00:01<00:00, 63.49it/s]\n"
     ]
    },
    {
     "name": "stdout",
     "output_type": "stream",
     "text": [
      "fb03-087__0120 best M0:0.568[J], best TR:3.400[us]\n"
     ]
    },
    {
     "name": "stderr",
     "output_type": "stream",
     "text": [
      "100%|█████████████████████████████████████████| 101/101 [00:01<00:00, 64.20it/s]\n"
     ]
    },
    {
     "name": "stdout",
     "output_type": "stream",
     "text": [
      "fb03-087__0126 best M0:0.023[J], best TR:2.800[us]\n"
     ]
    },
    {
     "name": "stderr",
     "output_type": "stream",
     "text": [
      "100%|█████████████████████████████████████████| 101/101 [00:01<00:00, 64.26it/s]\n"
     ]
    },
    {
     "name": "stdout",
     "output_type": "stream",
     "text": [
      "fb03-087__0128 best M0:0.015[J], best TR:3.100[us]\n"
     ]
    },
    {
     "name": "stderr",
     "output_type": "stream",
     "text": [
      "100%|█████████████████████████████████████████| 101/101 [00:01<00:00, 63.83it/s]\n"
     ]
    },
    {
     "name": "stdout",
     "output_type": "stream",
     "text": [
      "fb03-087__0129 best M0:0.967[J], best TR:3.300[us]\n"
     ]
    },
    {
     "name": "stderr",
     "output_type": "stream",
     "text": [
      "100%|█████████████████████████████████████████| 101/101 [00:01<00:00, 64.31it/s]\n"
     ]
    },
    {
     "name": "stdout",
     "output_type": "stream",
     "text": [
      "fb03-087__0131 best M0:0.661[J], best TR:2.700[us]\n"
     ]
    }
   ],
   "source": [
    "df_bestparam = pd.DataFrame(columns=['VR_P_best', 'M0_best', 'TR_best', 'rake_best'])\n",
    "\n",
    "for datacase in datacase_list:\n",
    "#datacase = datacase_list[5]\n",
    "\n",
    "    # read the MT grid search csv\n",
    "    df_VR_all = pd.read_csv(data_inputdir+\"/MTinv_gridsearch_{}_balldropmodel{}.csv\".format(datacase, balldrop_model), index_col=0)\n",
    "\n",
    "    # load grid search parameters\n",
    "    with open(data_inputdir+\"/GridSearch_param_{}_balldropmodel{}.pickle\".format(datacase, balldrop_model),\"rb\") as fo:\n",
    "        param = pickle.load(fo)\n",
    "\n",
    "    # parse M0_range and TR_range\n",
    "    M0_range = np.unique(df_VR_all[\"M0\"])\n",
    "    TR_range = np.unique(df_VR_all[\"TR\"])\n",
    "\n",
    "    zc_P = np.zeros((len(M0_range), len(TR_range)))\n",
    "    zc_S = np.zeros((len(M0_range), len(TR_range)))\n",
    "    zc_PS = np.zeros((len(M0_range), len(TR_range)))\n",
    "\n",
    "    for i, M0_try in enumerate(tqdm(M0_range)): # loop by M0\n",
    "        for j, TR_try in enumerate(TR_range):\n",
    "\n",
    "            df_select = df_VR_all[(df_VR_all[\"M0\"] == M0_try) & (df_VR_all[\"TR\"] == TR_try)]\n",
    "\n",
    "            imax_P = df_select[\"VR_P\"].argmax()\n",
    "            imax_S = df_select[\"VR_S\"].argmax()\n",
    "            imax_PS = df_select[\"VR_PS\"].argmax()\n",
    "\n",
    "            VR_P_max = df_select.iloc[imax_P][\"VR_P\"]\n",
    "            VR_S_max = df_select.iloc[imax_S][\"VR_S\"]\n",
    "            VR_PS_max = df_select.iloc[imax_PS][\"VR_PS\"]\n",
    "\n",
    "            zc_P[i, j] =  VR_P_max\n",
    "            zc_S[i, j] =  VR_S_max\n",
    "            zc_PS[i, j] =  VR_PS_max\n",
    "\n",
    "    # extract best VR parameters\n",
    "    max_M0_P, max_TR_P = np.unravel_index(zc_P.argmax(), zc_P.shape)\n",
    "    best_M0_P = M0_range[max_M0_P]\n",
    "    best_TR_P = TR_range[max_TR_P]\n",
    "    df_best_P = df_VR_all[(df_VR_all[\"M0\"] == best_M0_P) & (df_VR_all[\"TR\"] == best_TR_P)]\n",
    "    print(f\"{datacase} best M0:{best_M0_P:.3f}[J], best TR:{best_TR_P*1e6:.3f}[us]\")\n",
    "\n",
    "    # Plot VR contour\n",
    "    fig, ax = plt.subplots(1, 1, figsize=(8, 6))\n",
    "\n",
    "    cmap=\"viridis\"\n",
    "\n",
    "    vmax_P = df_best_P[\"VR_P\"].values[0] #0.6\n",
    "    vmin_P = 0.8*vmax_P\n",
    "    Nlevel = np.hstack([-np.inf, np.linspace(vmin_P, vmax_P, 201)])\n",
    "\n",
    "    h3 = ax.contourf(M0_range, TR_range*1e6, zc_P.transpose(), Nlevel, vmin=vmin_P, vmax=vmax_P, cmap=cmap)\n",
    "    for c in h3.collections:\n",
    "        c.set_rasterized(True)\n",
    "        \n",
    "#     ax.set_title(f\"P window used: best VR:{vmax_P:.2f}\\n\"+f\"{datacase} best M0:{best_M0_P:.3f}[J], best TR:{best_TR_P*1e6:.1f}[us]\", fontsize=12)\n",
    "    gougeevent_id = int(datacase.split(\"__\")[1])\n",
    "    ylabelstr = \"$\\mathrm{M_0}$\"\n",
    "    title_str = f\"Event ID:{gougeevent_id:d}\\nmax VR:{vmax_P:.2f} {ylabelstr:s}:{best_M0_P:.2f} Nm $T_R$:{best_TR_P*1e6:.1f} μs\"\n",
    "    ax.set_title(title_str, fontsize=12)\n",
    "#     contour_level_P = [contour_coef*np.max(zc_P)]\n",
    "    ax.plot(best_M0_P, best_TR_P*1e6, \"+\", ms=15, c=\"k\", markeredgewidth=2)\n",
    "    \n",
    "    cb_P = fig.colorbar(ScalarMappable(norm=h3.norm, cmap=h3.cmap), ax=ax, \n",
    "       ticks=np.linspace(vmin_P, vmax_P, 5), orientation=\"horizontal\")\n",
    "    cb_P.set_label(\"VR\")\n",
    "\n",
    "    ax.set_aspect(1.0/ax.get_data_ratio(), adjustable='box')\n",
    "    plot_twincbar(cb_P, vmax_P)\n",
    "\n",
    "    ax.set_xscale('log')\n",
    "    ax.set_xlim([1e-3, 1.2])\n",
    "    ax.set_xlabel(\"M0 [J]\") \n",
    "    ax.set_aspect(1.0, adjustable='box')\n",
    "    ax.xaxis.set_label_coords(0.5, -0.07)\n",
    "\n",
    "    # ax.set_xlabel(\"M0 [J]\") \n",
    "    ax.set_ylabel(\"Source duration [μs]\") \n",
    "\n",
    "    # plt.tight_layout()\n",
    "    plt.savefig(figdir + \"/VR_P_{}_fix_ccshift.jpg\".format(datacase), dpi=80, bbox_inches=\"tight\")\n",
    "    plt.savefig(figdir + \"/VR_P_{}_fix_ccshift.pdf\".format(datacase), bbox_inches=\"tight\")\n",
    "    \n",
    "    # concat the best M0 and TR datasheet\n",
    "    \n",
    "    df_bestparam = pd.concat([df_bestparam, pd.DataFrame([[vmax_P, best_M0_P, best_TR_P*1e6, 0]],\n",
    "                                           columns=['VR_P_best', 'M0_best', 'TR_best', 'rake_best'], index=[datacase])])\n",
    "\n",
    "    plt.clf()\n",
    "    plt.close()"
   ]
  },
  {
   "cell_type": "code",
   "execution_count": 15,
   "metadata": {},
   "outputs": [
    {
     "data": {
      "text/plain": [
       "(0.00070711, 1.41421356)"
      ]
     },
     "execution_count": 15,
     "metadata": {},
     "output_type": "execute_result"
    }
   ],
   "source": [
    "M0_range.min(), M0_range.max()"
   ]
  },
  {
   "cell_type": "code",
   "execution_count": 16,
   "metadata": {},
   "outputs": [
    {
     "data": {
      "text/html": [
       "<div>\n",
       "<style scoped>\n",
       "    .dataframe tbody tr th:only-of-type {\n",
       "        vertical-align: middle;\n",
       "    }\n",
       "\n",
       "    .dataframe tbody tr th {\n",
       "        vertical-align: top;\n",
       "    }\n",
       "\n",
       "    .dataframe thead th {\n",
       "        text-align: right;\n",
       "    }\n",
       "</style>\n",
       "<table border=\"1\" class=\"dataframe\">\n",
       "  <thead>\n",
       "    <tr style=\"text-align: right;\">\n",
       "      <th></th>\n",
       "      <th>Mw</th>\n",
       "      <th>M0hat</th>\n",
       "      <th>M0</th>\n",
       "      <th>rake</th>\n",
       "      <th>TR</th>\n",
       "      <th>VR_P</th>\n",
       "      <th>VR_S</th>\n",
       "      <th>VR_PS</th>\n",
       "      <th>VR_sensors</th>\n",
       "      <th>Nsensor</th>\n",
       "    </tr>\n",
       "  </thead>\n",
       "  <tbody>\n",
       "    <tr>\n",
       "      <th>0</th>\n",
       "      <td>-6.089382</td>\n",
       "      <td>0.935248</td>\n",
       "      <td>0.661321</td>\n",
       "      <td>0</td>\n",
       "      <td>0.000003</td>\n",
       "      <td>0.852948</td>\n",
       "      <td>-1.145193</td>\n",
       "      <td>0.852948</td>\n",
       "      <td>('OL07', 'OL08', 'OL23', 'OL22')</td>\n",
       "      <td>6</td>\n",
       "    </tr>\n",
       "  </tbody>\n",
       "</table>\n",
       "</div>"
      ],
      "text/plain": [
       "         Mw     M0hat        M0  rake        TR      VR_P      VR_S     VR_PS  \\\n",
       "0 -6.089382  0.935248  0.661321     0  0.000003  0.852948 -1.145193  0.852948   \n",
       "\n",
       "                         VR_sensors  Nsensor  \n",
       "0  ('OL07', 'OL08', 'OL23', 'OL22')        6  "
      ]
     },
     "execution_count": 16,
     "metadata": {},
     "output_type": "execute_result"
    }
   ],
   "source": [
    "df_best_P"
   ]
  },
  {
   "cell_type": "code",
   "execution_count": 17,
   "metadata": {},
   "outputs": [
    {
     "data": {
      "text/html": [
       "<div>\n",
       "<style scoped>\n",
       "    .dataframe tbody tr th:only-of-type {\n",
       "        vertical-align: middle;\n",
       "    }\n",
       "\n",
       "    .dataframe tbody tr th {\n",
       "        vertical-align: top;\n",
       "    }\n",
       "\n",
       "    .dataframe thead th {\n",
       "        text-align: right;\n",
       "    }\n",
       "</style>\n",
       "<table border=\"1\" class=\"dataframe\">\n",
       "  <thead>\n",
       "    <tr style=\"text-align: right;\">\n",
       "      <th></th>\n",
       "      <th>VR_P_best</th>\n",
       "      <th>M0_best</th>\n",
       "      <th>TR_best</th>\n",
       "      <th>rake_best</th>\n",
       "    </tr>\n",
       "  </thead>\n",
       "  <tbody>\n",
       "    <tr>\n",
       "      <th>fb03-087__0004</th>\n",
       "      <td>0.892496</td>\n",
       "      <td>0.568056</td>\n",
       "      <td>3.3</td>\n",
       "      <td>0</td>\n",
       "    </tr>\n",
       "    <tr>\n",
       "      <th>fb03-087__0009</th>\n",
       "      <td>0.730114</td>\n",
       "      <td>0.046244</td>\n",
       "      <td>3.1</td>\n",
       "      <td>0</td>\n",
       "    </tr>\n",
       "    <tr>\n",
       "      <th>fb03-087__0018</th>\n",
       "      <td>0.866794</td>\n",
       "      <td>0.612917</td>\n",
       "      <td>3.5</td>\n",
       "      <td>0</td>\n",
       "    </tr>\n",
       "    <tr>\n",
       "      <th>fb03-087__0019</th>\n",
       "      <td>0.789837</td>\n",
       "      <td>0.049896</td>\n",
       "      <td>3.1</td>\n",
       "      <td>0</td>\n",
       "    </tr>\n",
       "    <tr>\n",
       "      <th>fb03-087__0020</th>\n",
       "      <td>0.890390</td>\n",
       "      <td>0.769897</td>\n",
       "      <td>3.3</td>\n",
       "      <td>0</td>\n",
       "    </tr>\n",
       "    <tr>\n",
       "      <th>fb03-087__0021</th>\n",
       "      <td>0.880472</td>\n",
       "      <td>0.023332</td>\n",
       "      <td>3.0</td>\n",
       "      <td>0</td>\n",
       "    </tr>\n",
       "    <tr>\n",
       "      <th>fb03-087__0024</th>\n",
       "      <td>0.836420</td>\n",
       "      <td>0.062675</td>\n",
       "      <td>3.1</td>\n",
       "      <td>0</td>\n",
       "    </tr>\n",
       "    <tr>\n",
       "      <th>fb03-087__0027</th>\n",
       "      <td>0.906336</td>\n",
       "      <td>0.769897</td>\n",
       "      <td>3.3</td>\n",
       "      <td>0</td>\n",
       "    </tr>\n",
       "    <tr>\n",
       "      <th>fb03-087__0030</th>\n",
       "      <td>0.587996</td>\n",
       "      <td>0.058087</td>\n",
       "      <td>3.3</td>\n",
       "      <td>0</td>\n",
       "    </tr>\n",
       "    <tr>\n",
       "      <th>fb03-087__0031</th>\n",
       "      <td>0.897995</td>\n",
       "      <td>0.896300</td>\n",
       "      <td>3.2</td>\n",
       "      <td>0</td>\n",
       "    </tr>\n",
       "    <tr>\n",
       "      <th>fb03-087__0037</th>\n",
       "      <td>0.405848</td>\n",
       "      <td>0.025175</td>\n",
       "      <td>3.8</td>\n",
       "      <td>0</td>\n",
       "    </tr>\n",
       "    <tr>\n",
       "      <th>fb03-087__0038</th>\n",
       "      <td>0.865795</td>\n",
       "      <td>0.286615</td>\n",
       "      <td>2.8</td>\n",
       "      <td>0</td>\n",
       "    </tr>\n",
       "    <tr>\n",
       "      <th>fb03-087__0040</th>\n",
       "      <td>0.900633</td>\n",
       "      <td>0.246194</td>\n",
       "      <td>2.8</td>\n",
       "      <td>0</td>\n",
       "    </tr>\n",
       "    <tr>\n",
       "      <th>fb03-087__0043</th>\n",
       "      <td>0.815750</td>\n",
       "      <td>0.195996</td>\n",
       "      <td>3.2</td>\n",
       "      <td>0</td>\n",
       "    </tr>\n",
       "    <tr>\n",
       "      <th>fb03-087__0044</th>\n",
       "      <td>0.848300</td>\n",
       "      <td>0.067624</td>\n",
       "      <td>3.2</td>\n",
       "      <td>0</td>\n",
       "    </tr>\n",
       "    <tr>\n",
       "      <th>fb03-087__0049</th>\n",
       "      <td>0.310806</td>\n",
       "      <td>0.039722</td>\n",
       "      <td>2.9</td>\n",
       "      <td>0</td>\n",
       "    </tr>\n",
       "    <tr>\n",
       "      <th>fb03-087__0050</th>\n",
       "      <td>0.890044</td>\n",
       "      <td>0.333672</td>\n",
       "      <td>3.5</td>\n",
       "      <td>0</td>\n",
       "    </tr>\n",
       "    <tr>\n",
       "      <th>fb03-087__0052</th>\n",
       "      <td>0.882727</td>\n",
       "      <td>0.452231</td>\n",
       "      <td>3.4</td>\n",
       "      <td>0</td>\n",
       "    </tr>\n",
       "    <tr>\n",
       "      <th>fb03-087__0055</th>\n",
       "      <td>0.910772</td>\n",
       "      <td>0.360022</td>\n",
       "      <td>3.3</td>\n",
       "      <td>0</td>\n",
       "    </tr>\n",
       "    <tr>\n",
       "      <th>fb03-087__0059</th>\n",
       "      <td>0.774193</td>\n",
       "      <td>0.078727</td>\n",
       "      <td>3.6</td>\n",
       "      <td>0</td>\n",
       "    </tr>\n",
       "    <tr>\n",
       "      <th>fb03-087__0061</th>\n",
       "      <td>0.908786</td>\n",
       "      <td>0.713547</td>\n",
       "      <td>3.3</td>\n",
       "      <td>0</td>\n",
       "    </tr>\n",
       "    <tr>\n",
       "      <th>fb03-087__0062</th>\n",
       "      <td>0.887526</td>\n",
       "      <td>0.568056</td>\n",
       "      <td>3.3</td>\n",
       "      <td>0</td>\n",
       "    </tr>\n",
       "    <tr>\n",
       "      <th>fb03-087__0069</th>\n",
       "      <td>0.908269</td>\n",
       "      <td>0.333672</td>\n",
       "      <td>2.9</td>\n",
       "      <td>0</td>\n",
       "    </tr>\n",
       "    <tr>\n",
       "      <th>fb03-087__0072</th>\n",
       "      <td>0.920180</td>\n",
       "      <td>0.769897</td>\n",
       "      <td>3.3</td>\n",
       "      <td>0</td>\n",
       "    </tr>\n",
       "    <tr>\n",
       "      <th>fb03-087__0075</th>\n",
       "      <td>0.770050</td>\n",
       "      <td>0.286615</td>\n",
       "      <td>3.0</td>\n",
       "      <td>0</td>\n",
       "    </tr>\n",
       "    <tr>\n",
       "      <th>fb03-087__0076</th>\n",
       "      <td>0.577367</td>\n",
       "      <td>0.360022</td>\n",
       "      <td>2.8</td>\n",
       "      <td>0</td>\n",
       "    </tr>\n",
       "    <tr>\n",
       "      <th>fb03-087__0077</th>\n",
       "      <td>0.823080</td>\n",
       "      <td>0.568056</td>\n",
       "      <td>3.0</td>\n",
       "      <td>0</td>\n",
       "    </tr>\n",
       "    <tr>\n",
       "      <th>fb03-087__0081</th>\n",
       "      <td>0.592223</td>\n",
       "      <td>0.053836</td>\n",
       "      <td>3.1</td>\n",
       "      <td>0</td>\n",
       "    </tr>\n",
       "    <tr>\n",
       "      <th>fb03-087__0085</th>\n",
       "      <td>0.900232</td>\n",
       "      <td>0.526479</td>\n",
       "      <td>2.9</td>\n",
       "      <td>0</td>\n",
       "    </tr>\n",
       "    <tr>\n",
       "      <th>fb03-087__0088</th>\n",
       "      <td>0.830550</td>\n",
       "      <td>0.967082</td>\n",
       "      <td>3.1</td>\n",
       "      <td>0</td>\n",
       "    </tr>\n",
       "    <tr>\n",
       "      <th>fb03-087__0089</th>\n",
       "      <td>0.900060</td>\n",
       "      <td>0.526479</td>\n",
       "      <td>3.3</td>\n",
       "      <td>0</td>\n",
       "    </tr>\n",
       "    <tr>\n",
       "      <th>fb03-087__0095</th>\n",
       "      <td>0.882051</td>\n",
       "      <td>0.769897</td>\n",
       "      <td>3.4</td>\n",
       "      <td>0</td>\n",
       "    </tr>\n",
       "    <tr>\n",
       "      <th>fb03-087__0099</th>\n",
       "      <td>0.800306</td>\n",
       "      <td>0.612917</td>\n",
       "      <td>3.6</td>\n",
       "      <td>0</td>\n",
       "    </tr>\n",
       "    <tr>\n",
       "      <th>fb03-087__0100</th>\n",
       "      <td>0.767454</td>\n",
       "      <td>0.452231</td>\n",
       "      <td>3.1</td>\n",
       "      <td>0</td>\n",
       "    </tr>\n",
       "    <tr>\n",
       "      <th>fb03-087__0102</th>\n",
       "      <td>0.690219</td>\n",
       "      <td>0.098890</td>\n",
       "      <td>3.3</td>\n",
       "      <td>0</td>\n",
       "    </tr>\n",
       "    <tr>\n",
       "      <th>fb03-087__0109</th>\n",
       "      <td>0.697676</td>\n",
       "      <td>0.419131</td>\n",
       "      <td>3.0</td>\n",
       "      <td>0</td>\n",
       "    </tr>\n",
       "    <tr>\n",
       "      <th>fb03-087__0110</th>\n",
       "      <td>0.317373</td>\n",
       "      <td>0.058087</td>\n",
       "      <td>3.7</td>\n",
       "      <td>0</td>\n",
       "    </tr>\n",
       "    <tr>\n",
       "      <th>fb03-087__0111</th>\n",
       "      <td>0.689922</td>\n",
       "      <td>0.452231</td>\n",
       "      <td>3.0</td>\n",
       "      <td>0</td>\n",
       "    </tr>\n",
       "    <tr>\n",
       "      <th>fb03-087__0118</th>\n",
       "      <td>0.841278</td>\n",
       "      <td>0.098890</td>\n",
       "      <td>2.8</td>\n",
       "      <td>0</td>\n",
       "    </tr>\n",
       "    <tr>\n",
       "      <th>fb03-087__0120</th>\n",
       "      <td>0.805739</td>\n",
       "      <td>0.568056</td>\n",
       "      <td>3.4</td>\n",
       "      <td>0</td>\n",
       "    </tr>\n",
       "    <tr>\n",
       "      <th>fb03-087__0126</th>\n",
       "      <td>0.879290</td>\n",
       "      <td>0.023332</td>\n",
       "      <td>2.8</td>\n",
       "      <td>0</td>\n",
       "    </tr>\n",
       "    <tr>\n",
       "      <th>fb03-087__0128</th>\n",
       "      <td>0.837102</td>\n",
       "      <td>0.014788</td>\n",
       "      <td>3.1</td>\n",
       "      <td>0</td>\n",
       "    </tr>\n",
       "    <tr>\n",
       "      <th>fb03-087__0129</th>\n",
       "      <td>0.875194</td>\n",
       "      <td>0.967082</td>\n",
       "      <td>3.3</td>\n",
       "      <td>0</td>\n",
       "    </tr>\n",
       "    <tr>\n",
       "      <th>fb03-087__0131</th>\n",
       "      <td>0.852948</td>\n",
       "      <td>0.661321</td>\n",
       "      <td>2.7</td>\n",
       "      <td>0</td>\n",
       "    </tr>\n",
       "  </tbody>\n",
       "</table>\n",
       "</div>"
      ],
      "text/plain": [
       "                VR_P_best   M0_best  TR_best rake_best\n",
       "fb03-087__0004   0.892496  0.568056      3.3         0\n",
       "fb03-087__0009   0.730114  0.046244      3.1         0\n",
       "fb03-087__0018   0.866794  0.612917      3.5         0\n",
       "fb03-087__0019   0.789837  0.049896      3.1         0\n",
       "fb03-087__0020   0.890390  0.769897      3.3         0\n",
       "fb03-087__0021   0.880472  0.023332      3.0         0\n",
       "fb03-087__0024   0.836420  0.062675      3.1         0\n",
       "fb03-087__0027   0.906336  0.769897      3.3         0\n",
       "fb03-087__0030   0.587996  0.058087      3.3         0\n",
       "fb03-087__0031   0.897995  0.896300      3.2         0\n",
       "fb03-087__0037   0.405848  0.025175      3.8         0\n",
       "fb03-087__0038   0.865795  0.286615      2.8         0\n",
       "fb03-087__0040   0.900633  0.246194      2.8         0\n",
       "fb03-087__0043   0.815750  0.195996      3.2         0\n",
       "fb03-087__0044   0.848300  0.067624      3.2         0\n",
       "fb03-087__0049   0.310806  0.039722      2.9         0\n",
       "fb03-087__0050   0.890044  0.333672      3.5         0\n",
       "fb03-087__0052   0.882727  0.452231      3.4         0\n",
       "fb03-087__0055   0.910772  0.360022      3.3         0\n",
       "fb03-087__0059   0.774193  0.078727      3.6         0\n",
       "fb03-087__0061   0.908786  0.713547      3.3         0\n",
       "fb03-087__0062   0.887526  0.568056      3.3         0\n",
       "fb03-087__0069   0.908269  0.333672      2.9         0\n",
       "fb03-087__0072   0.920180  0.769897      3.3         0\n",
       "fb03-087__0075   0.770050  0.286615      3.0         0\n",
       "fb03-087__0076   0.577367  0.360022      2.8         0\n",
       "fb03-087__0077   0.823080  0.568056      3.0         0\n",
       "fb03-087__0081   0.592223  0.053836      3.1         0\n",
       "fb03-087__0085   0.900232  0.526479      2.9         0\n",
       "fb03-087__0088   0.830550  0.967082      3.1         0\n",
       "fb03-087__0089   0.900060  0.526479      3.3         0\n",
       "fb03-087__0095   0.882051  0.769897      3.4         0\n",
       "fb03-087__0099   0.800306  0.612917      3.6         0\n",
       "fb03-087__0100   0.767454  0.452231      3.1         0\n",
       "fb03-087__0102   0.690219  0.098890      3.3         0\n",
       "fb03-087__0109   0.697676  0.419131      3.0         0\n",
       "fb03-087__0110   0.317373  0.058087      3.7         0\n",
       "fb03-087__0111   0.689922  0.452231      3.0         0\n",
       "fb03-087__0118   0.841278  0.098890      2.8         0\n",
       "fb03-087__0120   0.805739  0.568056      3.4         0\n",
       "fb03-087__0126   0.879290  0.023332      2.8         0\n",
       "fb03-087__0128   0.837102  0.014788      3.1         0\n",
       "fb03-087__0129   0.875194  0.967082      3.3         0\n",
       "fb03-087__0131   0.852948  0.661321      2.7         0"
      ]
     },
     "execution_count": 17,
     "metadata": {},
     "output_type": "execute_result"
    }
   ],
   "source": [
    "df_bestparam"
   ]
  },
  {
   "cell_type": "code",
   "execution_count": null,
   "metadata": {},
   "outputs": [],
   "source": []
  },
  {
   "cell_type": "code",
   "execution_count": 18,
   "metadata": {},
   "outputs": [],
   "source": [
    "df_bestparam.to_csv(f\"../data/datacsv/gridsearch_bestparam_M0andTR_{datacase.split('__')[0]}.csv\", float_format='%8.2f')"
   ]
  },
  {
   "cell_type": "code",
   "execution_count": 19,
   "metadata": {},
   "outputs": [
    {
     "name": "stdout",
     "output_type": "stream",
     "text": [
      "median of best M0: 0.36 [J]\n",
      "median with removing small events M0rem: 0.8827 [J]\n"
     ]
    }
   ],
   "source": [
    "print(f\"median of best M0: {np.round(df_bestparam['M0_best'].median(), 4)} [J]\")\n",
    "print(f\"median with removing small events M0rem: {np.round(df_bestparam[df_bestparam['M0_best'] > 0.3].median()[0], 4)} [J]\")"
   ]
  },
  {
   "cell_type": "code",
   "execution_count": 20,
   "metadata": {},
   "outputs": [
    {
     "data": {
      "text/plain": [
       "-6.149457605146139"
      ]
     },
     "execution_count": 20,
     "metadata": {},
     "output_type": "execute_result"
    }
   ],
   "source": [
    "M02Mw(0.76)"
   ]
  },
  {
   "cell_type": "markdown",
   "metadata": {},
   "source": [
    "# Plot histogram of best M0"
   ]
  },
  {
   "cell_type": "code",
   "execution_count": 55,
   "metadata": {},
   "outputs": [
    {
     "data": {
      "image/png": "[encoded data removed]",
      "text/plain": [
       "<Figure size 700x600 with 1 Axes>"
      ]
     },
     "metadata": {},
     "output_type": "display_data"
    }
   ],
   "source": [
    "fig, ax = plt.subplots(1, 1, figsize=(7, 6))\n",
    "bins = np.logspace(np.log10(0.006), np.log10(2.0), 21) \n",
    "\n",
    "# bins=10\n",
    "\n",
    "ax.hist(df_bestparam[\"M0_best\"], bins=bins, rwidth=0.9, ec='k')\n",
    "\n",
    "ax.set_xscale('log')\n",
    "ax.set_xlabel(\"M0 [J]\") \n",
    "ax.set_ylabel(\"Count\") \n",
    "ax.set_xlim([0.006, 2.0])\n",
    "ax.set_ylim([0, 12]) \n",
    "ax.set_title(f\"fb03-{expr_id:03d}: Total event number: {len(event_ids)}\")\n",
    "\n",
    "fig.tight_layout()\n",
    "plt.savefig(figdir + f\"/hist_eventmagnitude_fb03-{expr_id:03d}.jpg\", dpi=80, bbox_inches=\"tight\")"
   ]
  },
  {
   "cell_type": "code",
   "execution_count": null,
   "metadata": {},
   "outputs": [],
   "source": []
  }
 ],
 "metadata": {
  "kernelspec": {
   "display_name": "Python 3 (ipykernel)",
   "language": "python",
   "name": "python3"
  },
  "language_info": {
   "codemirror_mode": {
    "name": "ipython",
    "version": 3
   },
   "file_extension": ".py",
   "mimetype": "text/x-python",
   "name": "python",
   "nbconvert_exporter": "python",
   "pygments_lexer": "ipython3",
   "version": "3.8.12"
  }
 },
 "nbformat": 4,
 "nbformat_minor": 4
}

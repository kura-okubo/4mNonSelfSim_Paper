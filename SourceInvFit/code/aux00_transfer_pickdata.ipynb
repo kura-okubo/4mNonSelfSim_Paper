{
 "cells": [
  {
   "cell_type": "markdown",
   "metadata": {},
   "source": [
    "# Transfer the pick data\n",
    "\n",
    "As we reorder the gouge event catalog when merging the main set of events and the tiny events, we transfer the pick files of the P wave first arrivals.\n",
    "\n",
    "2024.10.30 Kurama Okubo"
   ]
  },
  {
   "cell_type": "code",
   "execution_count": 1,
   "metadata": {},
   "outputs": [],
   "source": [
    "import os\n",
    "import shutil\n",
    "\n",
    "import glob\n",
    "import pandas as pd"
   ]
  },
  {
   "cell_type": "code",
   "execution_count": 2,
   "metadata": {},
   "outputs": [
    {
     "data": {
      "text/html": [
       "<div>\n",
       "<style scoped>\n",
       "    .dataframe tbody tr th:only-of-type {\n",
       "        vertical-align: middle;\n",
       "    }\n",
       "\n",
       "    .dataframe tbody tr th {\n",
       "        vertical-align: top;\n",
       "    }\n",
       "\n",
       "    .dataframe thead th {\n",
       "        text-align: right;\n",
       "    }\n",
       "</style>\n",
       "<table border=\"1\" class=\"dataframe\">\n",
       "  <thead>\n",
       "    <tr style=\"text-align: right;\">\n",
       "      <th></th>\n",
       "      <th>expr_id</th>\n",
       "      <th>event_id</th>\n",
       "      <th>gouge_loc</th>\n",
       "      <th>picktime</th>\n",
       "      <th>eventtype</th>\n",
       "      <th>rup_type</th>\n",
       "      <th>gougeevent_id</th>\n",
       "      <th>doublecheck</th>\n",
       "      <th>old_gougeevent_id</th>\n",
       "    </tr>\n",
       "  </thead>\n",
       "  <tbody>\n",
       "    <tr>\n",
       "      <th>0</th>\n",
       "      <td>fb03-087</td>\n",
       "      <td>2</td>\n",
       "      <td>2.75</td>\n",
       "      <td>41.02500</td>\n",
       "      <td>LFE</td>\n",
       "      <td>2</td>\n",
       "      <td>0</td>\n",
       "      <td>1</td>\n",
       "      <td>0</td>\n",
       "    </tr>\n",
       "    <tr>\n",
       "      <th>1</th>\n",
       "      <td>fb03-087</td>\n",
       "      <td>3</td>\n",
       "      <td>1.25</td>\n",
       "      <td>42.46400</td>\n",
       "      <td>LFE</td>\n",
       "      <td>1</td>\n",
       "      <td>1</td>\n",
       "      <td>1</td>\n",
       "      <td>1</td>\n",
       "    </tr>\n",
       "    <tr>\n",
       "      <th>2</th>\n",
       "      <td>fb03-087</td>\n",
       "      <td>3</td>\n",
       "      <td>1.25</td>\n",
       "      <td>42.46450</td>\n",
       "      <td>Ordinary</td>\n",
       "      <td>1</td>\n",
       "      <td>2</td>\n",
       "      <td>1</td>\n",
       "      <td>2</td>\n",
       "    </tr>\n",
       "    <tr>\n",
       "      <th>3</th>\n",
       "      <td>fb03-087</td>\n",
       "      <td>3</td>\n",
       "      <td>3.25</td>\n",
       "      <td>42.46790</td>\n",
       "      <td>Ordinary</td>\n",
       "      <td>1</td>\n",
       "      <td>3</td>\n",
       "      <td>1</td>\n",
       "      <td>212</td>\n",
       "    </tr>\n",
       "    <tr>\n",
       "      <th>4</th>\n",
       "      <td>fb03-087</td>\n",
       "      <td>3</td>\n",
       "      <td>1.75</td>\n",
       "      <td>42.47475</td>\n",
       "      <td>Ordinary</td>\n",
       "      <td>1</td>\n",
       "      <td>4</td>\n",
       "      <td>1</td>\n",
       "      <td>3</td>\n",
       "    </tr>\n",
       "  </tbody>\n",
       "</table>\n",
       "</div>"
      ],
      "text/plain": [
       "    expr_id  event_id  gouge_loc  picktime eventtype  rup_type  gougeevent_id  \\\n",
       "0  fb03-087         2       2.75  41.02500       LFE         2              0   \n",
       "1  fb03-087         3       1.25  42.46400       LFE         1              1   \n",
       "2  fb03-087         3       1.25  42.46450  Ordinary         1              2   \n",
       "3  fb03-087         3       3.25  42.46790  Ordinary         1              3   \n",
       "4  fb03-087         3       1.75  42.47475  Ordinary         1              4   \n",
       "\n",
       "   doublecheck  old_gougeevent_id  \n",
       "0            1                  0  \n",
       "1            1                  1  \n",
       "2            1                  2  \n",
       "3            1                212  \n",
       "4            1                  3  "
      ]
     },
     "execution_count": 2,
     "metadata": {},
     "output_type": "execute_result"
    }
   ],
   "source": [
    "# Read new merged catalog of the gouge events\n",
    "\n",
    "df_event = pd.read_csv(\"../../Experiments/DetectEvent/data/p06_visual_pick_gougeevents_merged.csv\", header=4, \n",
    "            names=[\"expr_id\", \"event_id\", \"gouge_loc\", \"picktime\", \"eventtype\", \"rup_type\", \"gougeevent_id\",\n",
    "                   \"doublecheck\", \"old_gougeevent_id\"])\n",
    "\n",
    "df_event.head()"
   ]
  },
  {
   "cell_type": "code",
   "execution_count": 3,
   "metadata": {},
   "outputs": [],
   "source": [
    "# filter the event type\n",
    "df_event_filtered = df_event[(df_event[\"eventtype\"]==\"Ordinary\") & (df_event[\"gouge_loc\"]==1.75)]"
   ]
  },
  {
   "cell_type": "code",
   "execution_count": 4,
   "metadata": {},
   "outputs": [
    {
     "data": {
      "text/html": [
       "<div>\n",
       "<style scoped>\n",
       "    .dataframe tbody tr th:only-of-type {\n",
       "        vertical-align: middle;\n",
       "    }\n",
       "\n",
       "    .dataframe tbody tr th {\n",
       "        vertical-align: top;\n",
       "    }\n",
       "\n",
       "    .dataframe thead th {\n",
       "        text-align: right;\n",
       "    }\n",
       "</style>\n",
       "<table border=\"1\" class=\"dataframe\">\n",
       "  <thead>\n",
       "    <tr style=\"text-align: right;\">\n",
       "      <th></th>\n",
       "      <th>expr_id</th>\n",
       "      <th>event_id</th>\n",
       "      <th>gouge_loc</th>\n",
       "      <th>picktime</th>\n",
       "      <th>eventtype</th>\n",
       "      <th>rup_type</th>\n",
       "      <th>gougeevent_id</th>\n",
       "      <th>doublecheck</th>\n",
       "      <th>old_gougeevent_id</th>\n",
       "    </tr>\n",
       "  </thead>\n",
       "  <tbody>\n",
       "    <tr>\n",
       "      <th>4</th>\n",
       "      <td>fb03-087</td>\n",
       "      <td>3</td>\n",
       "      <td>1.75</td>\n",
       "      <td>42.47475</td>\n",
       "      <td>Ordinary</td>\n",
       "      <td>1</td>\n",
       "      <td>4</td>\n",
       "      <td>1</td>\n",
       "      <td>3</td>\n",
       "    </tr>\n",
       "    <tr>\n",
       "      <th>9</th>\n",
       "      <td>fb03-087</td>\n",
       "      <td>5</td>\n",
       "      <td>1.75</td>\n",
       "      <td>47.66270</td>\n",
       "      <td>Ordinary</td>\n",
       "      <td>1</td>\n",
       "      <td>9</td>\n",
       "      <td>1</td>\n",
       "      <td>201</td>\n",
       "    </tr>\n",
       "    <tr>\n",
       "      <th>18</th>\n",
       "      <td>fb03-087</td>\n",
       "      <td>8</td>\n",
       "      <td>1.75</td>\n",
       "      <td>56.72700</td>\n",
       "      <td>Ordinary</td>\n",
       "      <td>1</td>\n",
       "      <td>18</td>\n",
       "      <td>1</td>\n",
       "      <td>16</td>\n",
       "    </tr>\n",
       "    <tr>\n",
       "      <th>19</th>\n",
       "      <td>fb03-087</td>\n",
       "      <td>9</td>\n",
       "      <td>1.75</td>\n",
       "      <td>59.10315</td>\n",
       "      <td>Ordinary</td>\n",
       "      <td>1</td>\n",
       "      <td>19</td>\n",
       "      <td>1</td>\n",
       "      <td>202</td>\n",
       "    </tr>\n",
       "    <tr>\n",
       "      <th>20</th>\n",
       "      <td>fb03-087</td>\n",
       "      <td>9</td>\n",
       "      <td>1.75</td>\n",
       "      <td>59.10350</td>\n",
       "      <td>Ordinary</td>\n",
       "      <td>1</td>\n",
       "      <td>20</td>\n",
       "      <td>1</td>\n",
       "      <td>17</td>\n",
       "    </tr>\n",
       "  </tbody>\n",
       "</table>\n",
       "</div>"
      ],
      "text/plain": [
       "     expr_id  event_id  gouge_loc  picktime eventtype  rup_type  \\\n",
       "4   fb03-087         3       1.75  42.47475  Ordinary         1   \n",
       "9   fb03-087         5       1.75  47.66270  Ordinary         1   \n",
       "18  fb03-087         8       1.75  56.72700  Ordinary         1   \n",
       "19  fb03-087         9       1.75  59.10315  Ordinary         1   \n",
       "20  fb03-087         9       1.75  59.10350  Ordinary         1   \n",
       "\n",
       "    gougeevent_id  doublecheck  old_gougeevent_id  \n",
       "4               4            1                  3  \n",
       "9               9            1                201  \n",
       "18             18            1                 16  \n",
       "19             19            1                202  \n",
       "20             20            1                 17  "
      ]
     },
     "execution_count": 4,
     "metadata": {},
     "output_type": "execute_result"
    }
   ],
   "source": [
    "df_event_filtered.head()"
   ]
  },
  {
   "cell_type": "code",
   "execution_count": 5,
   "metadata": {},
   "outputs": [
    {
     "data": {
      "text/plain": [
       "array([  4,   9,  18,  19,  20,  21,  24,  27,  30,  31,  37,  38,  40,\n",
       "        43,  44,  45,  49,  50,  52,  55,  59,  61,  62,  69,  72,  75,\n",
       "        76,  77,  81,  85,  88,  89,  95,  99, 100, 102, 109, 110, 111,\n",
       "       118, 120, 126, 128, 129, 131])"
      ]
     },
     "execution_count": 5,
     "metadata": {},
     "output_type": "execute_result"
    }
   ],
   "source": [
    "# dump gougeevent id\n",
    "df_event_filtered.gougeevent_id.values\n"
   ]
  },
  {
   "cell_type": "code",
   "execution_count": 6,
   "metadata": {},
   "outputs": [],
   "source": [
    "arrivalpick_root = \"../data/AElocation/arrivalpick/\"\n",
    "if not os.path.exists(arrivalpick_root):\n",
    "    os.makedirs(arrivalpick_root)"
   ]
  },
  {
   "cell_type": "markdown",
   "metadata": {},
   "source": [
    "# 1. transfer the arrival pick\n",
    "We transfer the pick file made by `01_AE_locateevent_GUI.py`."
   ]
  },
  {
   "cell_type": "code",
   "execution_count": 7,
   "metadata": {},
   "outputs": [],
   "source": [
    "pickdir_main = \"../../../4mBIAX_Paper/Processing/SourceInversion/data/AElocation/arrivalpick\"\n",
    "pickdir_tiny = \"../../../4mBIAX_Paper/Processing/AnalyzeTinyEvents/waveforms_inversion/data/AElocation/arrivalpick\"\n",
    "\n",
    "new_events = [] # We added new events for the merged catalog, which we need to pick.\n",
    "\n",
    "for i, row in df_event_filtered.iterrows():\n",
    "    # row = df_event_filtered.iloc[10]\n",
    "    old_id = row.old_gougeevent_id\n",
    "    new_id = row.gougeevent_id\n",
    "    \n",
    "    if old_id < 200:\n",
    "        # main event set\n",
    "        srcdir = pickdir_main+f\"/{old_id:04d}\"\n",
    "    else:\n",
    "        # tiny event set\n",
    "        srcdir = pickdir_tiny+f\"/{old_id-201:04d}\"\n",
    "    \n",
    "    # if the file is not found, those events have been newly added to the merged catalog.\n",
    "    \n",
    "    if not os.path.exists(srcdir):\n",
    "        new_events.append(new_id)\n",
    "        \n",
    "    # copy the folder and rename\n",
    "    else:\n",
    "        new_pickdir = f\"../data/AElocation/arrivalpick/{new_id:04d}\"\n",
    "        if not os.path.exists(new_pickdir):\n",
    "            os.makedirs(new_pickdir)\n",
    "        for fi in glob.glob(srcdir+\"/*.pickle\"):\n",
    "            shutil.copyfile(fi, new_pickdir+f\"/{os.path.basename(fi).replace(f'{old_id:04d}', f'{new_id:04d}')}\")\n",
    "\n",
    "# glob.glob(pickdir_main+\"/*\")\n",
    "#"
   ]
  },
  {
   "cell_type": "code",
   "execution_count": 8,
   "metadata": {},
   "outputs": [
    {
     "name": "stdout",
     "output_type": "stream",
     "text": [
      "new events to be picked are follows: [30, 45, 59, 75, 76, 77]\n"
     ]
    }
   ],
   "source": [
    "print(\"new events to be picked are follows:\", new_events)"
   ]
  },
  {
   "cell_type": "markdown",
   "metadata": {},
   "source": [
    "# Transfer the repick file\n",
    "We also transfer the repick files."
   ]
  },
  {
   "cell_type": "code",
   "execution_count": 9,
   "metadata": {},
   "outputs": [],
   "source": [
    "repickdir_main = \"../../../4mBIAX_Paper/Processing/SourceInversion/data/AElocation/relocation\"\n",
    "repickdir_tiny = \"../../../4mBIAX_Paper/Processing/AnalyzeTinyEvents/waveforms_inversion/data/AElocation/relocation\"\n",
    "\n",
    "new_events = [] # We added new events for the merged catalog, which we need to pick.\n",
    "\n",
    "for i, row in df_event_filtered.iterrows():\n",
    "    # row = df_event_filtered.iloc[10]\n",
    "    old_id = row.old_gougeevent_id\n",
    "    new_id = row.gougeevent_id\n",
    "    \n",
    "    if old_id < 200:\n",
    "        # main event set\n",
    "        srcdir = repickdir_main+f\"/{old_id:04d}\"\n",
    "    else:\n",
    "        # tiny event set\n",
    "        srcdir = repickdir_tiny+f\"/{old_id:04d}\"\n",
    "    \n",
    "    # if the file is not found, those events have been newly added to the merged catalog.\n",
    "    \n",
    "    if not os.path.exists(srcdir):\n",
    "        new_events.append(new_id)\n",
    "        \n",
    "    # copy the folder and rename\n",
    "    else:\n",
    "        new_pickdir = f\"../data/AElocation/relocation/{new_id:04d}\"\n",
    "        if not os.path.exists(new_pickdir):\n",
    "            os.makedirs(new_pickdir)\n",
    "        for fi in glob.glob(srcdir+\"/*.pickle\"):\n",
    "            shutil.copyfile(fi, new_pickdir+f\"/{os.path.basename(fi).replace(f'{old_id:04d}', f'{new_id:04d}')}\")\n",
    "\n",
    "# glob.glob(pickdir_main+\"/*\")\n",
    "#"
   ]
  },
  {
   "cell_type": "code",
   "execution_count": null,
   "metadata": {},
   "outputs": [],
   "source": []
  },
  {
   "cell_type": "code",
   "execution_count": null,
   "metadata": {},
   "outputs": [],
   "source": []
  },
  {
   "cell_type": "code",
   "execution_count": null,
   "metadata": {},
   "outputs": [],
   "source": []
  }
 ],
 "metadata": {
  "kernelspec": {
   "display_name": "Python 3 (ipykernel)",
   "language": "python",
   "name": "python3"
  },
  "language_info": {
   "codemirror_mode": {
    "name": "ipython",
    "version": 3
   },
   "file_extension": ".py",
   "mimetype": "text/x-python",
   "name": "python",
   "nbconvert_exporter": "python",
   "pygments_lexer": "ipython3",
   "version": "3.8.12"
  }
 },
 "nbformat": 4,
 "nbformat_minor": 4
}

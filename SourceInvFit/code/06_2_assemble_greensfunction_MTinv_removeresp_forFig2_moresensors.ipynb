{
 "cells": [
  {
   "cell_type": "markdown",
   "metadata": {},
   "source": [
    "# Assemble green function with AE event:  remove response\n",
    "2022.02.15 Kurama Okubo\n",
    "\n",
    "2022.05.08 update for fb03-045\n",
    "\n",
    "2022.07.29 update for removal response using PAZ\n",
    "\n",
    "2022.12.05 update for removal response with preamp, AE sensor and the source factor obtained from the ball drop.\n",
    "\n",
    "2023.07.24 update for fb03-087\n",
    "\n",
    "2023.10.22 update for fb03-087 multiple events\n",
    "\n",
    "2024.2.6 update for master plot: replaced the ball drop gain model to model 4 including the aperture effect\n",
    "\n",
    "2024.6.9 update save different stream with more sensors.\n",
    "\n",
    "2024.10.31 update for the merged catalog"
   ]
  },
  {
   "cell_type": "markdown",
   "metadata": {},
   "source": [
    "## Work flow\n",
    "\n",
    "1. Read isocoord pickle associated with stations\n",
    "2. Read meta data\n",
    "3. Read synthetic waveform\n",
    "4. Preprocess (unscale using gain to the observation **& remove response**)\n",
    "4. Save pickle"
   ]
  },
  {
   "cell_type": "code",
   "execution_count": null,
   "metadata": {},
   "outputs": [],
   "source": [
    "import os\n",
    "import obspy\n",
    "from obspy import read, Stream, Trace\n",
    "from obspy.signal.invsim import paz_to_freq_resp\n",
    "\n",
    "from scipy import signal\n",
    "import scipy.io as sio\n",
    "import matplotlib.pyplot as plt\n",
    "%matplotlib inline\n",
    "import glob\n",
    "from glob import glob\n",
    "import numpy as np\n",
    "import pandas as pd\n",
    "import datetime\n",
    "from datetime import timedelta\n",
    "from tqdm import tqdm\n",
    "import warnings\n",
    "\n",
    "%load_ext autoreload\n",
    "%autoreload 2\n",
    "\n",
    "from remove_resp_digitalfilt import *\n",
    "\n",
    "os.environ['TZ'] = 'GMT' # change time zone to avoid confusion in unix_tvec conversion\n",
    "\n",
    "plt.rcParams[\"font.family\"] = 'Arial'\n",
    "# plt.rcParams[\"font.sans-serif\"] = \"DejaVu Sans, Arial, Helvetica, Lucida Grande, Verdana, Geneva, Lucid, Avant Garde, sans-serif\"\n",
    "plt.rcParams[\"font.size\"] = 12\n",
    "plt.rcParams[\"xtick.direction\"] = \"in\"\n",
    "plt.rcParams[\"xtick.major.size\"] = 5\n",
    "plt.rcParams[\"xtick.major.width\"] = 0.5\n",
    "plt.rcParams[\"xtick.minor.size\"] = 2\n",
    "plt.rcParams[\"xtick.minor.width\"] = 1\n",
    "plt.rcParams[\"xtick.minor.visible\"] = True\n",
    "\n",
    "\n",
    "plt.rcParams[\"ytick.direction\"] = \"in\"\n",
    "plt.rcParams[\"ytick.major.size\"] = 5\n",
    "plt.rcParams[\"ytick.major.width\"] = 0.5\n",
    "plt.rcParams[\"ytick.minor.size\"] = 2\n",
    "plt.rcParams[\"ytick.minor.width\"] = 1\n",
    "plt.rcParams[\"ytick.minor.visible\"] = True\n",
    "\n",
    "    \n",
    "os.environ['TZ'] = 'GMT' # change time zone to avoid confusion in unix_tvec conversion\n",
    "\n",
    "from obspy.core.utcdatetime import UTCDateTime  \n",
    "UTCDateTime.DEFAULT_PRECISION = 8 # increase the time precision\n"
   ]
  },
  {
   "cell_type": "code",
   "execution_count": null,
   "metadata": {},
   "outputs": [],
   "source": [
    "#Parameters\n",
    "simulationtitle = 'MTinv_fb03-087' # to read sac, set simulation title used in Input.inf of OpenSWPC\n",
    "\n",
    "balldrop_model=4 # 2 for the model only with SiTj, 4 for the SiTjbeta\n",
    "\n",
    "# rootdir for removal resp analysis\n",
    "rootdir = \"./\"\n",
    "# Sensor gain\n",
    "fi_balldropgain = rootdir+f'../../Calibration/SensorCoupling_BallDrop/data/DATA_surfaceeffect_Aij_Case2/master_gain_model{balldrop_model}.csv'\n",
    "# fi_balldropgain = rootdir+f'../data/resp/master_gain_model3.csv' # debug\n",
    "fi_AEresp = rootdir+'../../Calibration/AEsensor_Calibration/AEsensor_Calibration_ARX/data/AE_resp_dataandcoef_fronttop.mat'\n",
    "# fi_AEresp = rootdir+'../data/resp/debug_AE_resp_dataandcoef_fronttop.mat' # debug\n",
    "fi_preamp = rootdir+'../data/resp/preamp_mistras_resp.mat'\n",
    "figdir = \"../figure\"\n",
    "\n",
    "fontsize = 12\n",
    "vmean = 6200\n",
    "fs = 1e7; # sampling frequency\n",
    "\n",
    "# Pre-amplification\n",
    "preamp_dB = 40 # [dB]\n",
    "preamp_V = 10 ** (preamp_dB/20)\n",
    "preamp_V"
   ]
  },
  {
   "cell_type": "markdown",
   "metadata": {},
   "source": [
    "# Test of removal response using metal block test\n",
    "We first test to remove the response using metal block data.\n",
    "The coefficients of PAZ are estimated using matlab code."
   ]
  },
  {
   "cell_type": "code",
   "execution_count": null,
   "metadata": {},
   "outputs": [],
   "source": [
    "D = sio.loadmat(fi_AEresp);\n",
    "D.keys()"
   ]
  },
  {
   "cell_type": "code",
   "execution_count": null,
   "metadata": {},
   "outputs": [],
   "source": [
    "np.squeeze(D[\"u_input_raw\"])"
   ]
  },
  {
   "cell_type": "code",
   "execution_count": null,
   "metadata": {},
   "outputs": [],
   "source": [
    "# compile trace\n",
    "st_mb = Stream()\n",
    "tr_u = Trace()\n",
    "tr_u.stats.starttime = datetime.datetime(2022,7,29)\n",
    "tr_u.stats.sampling_rate = fs\n",
    "tr_u.stats.network = \"N\"\n",
    "tr_u.stats.station = \"IN\"\n",
    "tr_u.stats.channel = \"Z\"\n",
    "tr_u.data = np.squeeze(D[\"u_input_raw\"])\n",
    "\n",
    "tr_y = tr_u.copy()\n",
    "tr_y.stats.station = \"OUT\"\n",
    "tr_y.stats.channel = \"Z\"\n",
    "tr_y.data = np.squeeze(D[\"y_output_raw\"])\n"
   ]
  },
  {
   "cell_type": "code",
   "execution_count": null,
   "metadata": {},
   "outputs": [],
   "source": [
    "tr_y.stats"
   ]
  },
  {
   "cell_type": "code",
   "execution_count": null,
   "metadata": {},
   "outputs": [],
   "source": [
    "# remove response using the function\n",
    "poles_AE = np.squeeze(D[\"p\"])\n",
    "zeros_AE = np.squeeze(D[\"z\"])\n",
    "scale_fac_AE = np.squeeze(D[\"k\"])\n",
    "u_normfact_AE = np.squeeze(D[\"u_normfact\"])\n",
    "pre_filt = (1e4, 2e4, 1e6, 2e6)\n",
    "water_level = 60\n",
    "\n",
    "# debug\n",
    "# scale_fac_AE /= u_normfact_AE\n",
    "\n",
    "tr_removed = remove_resp_digitalfilt(tr_y, poles_AE, zeros_AE, scale_fac_AE, pre_filt=pre_filt, water_level=60, zero_mean=True,\n",
    "    taper=True, taper_fraction=0.05, detrend=True, debug=False)"
   ]
  },
  {
   "cell_type": "code",
   "execution_count": null,
   "metadata": {},
   "outputs": [],
   "source": [
    "freqmin = 6e4\n",
    "freqmax = 3e5\n",
    "\n",
    "tr_u_filtered = tr_u.copy().filter(\"bandpass\", freqmin=freqmin, freqmax=freqmax, corners=3, zerophase=True)\n",
    "tr_inv_filtered = tr_removed.copy().filter(\"bandpass\", freqmin=freqmin, freqmax=freqmax, corners=3, zerophase=True)\n",
    "tr_y_filtered =  tr_y.copy().filter(\"bandpass\", freqmin=freqmin, freqmax=freqmax, corners=3, zerophase=True)"
   ]
  },
  {
   "cell_type": "code",
   "execution_count": null,
   "metadata": {},
   "outputs": [],
   "source": [
    "fig, ax = plt.subplots(1, 1, figsize=(6, 3))\n",
    "tvec = tr_u_filtered.times()*1e6\n",
    "ax.plot(tvec, tr_u_filtered.data, \"k-\", label=\"LDV\")\n",
    "ax.plot(tvec, tr_inv_filtered.data, \"r-\", label=\"inverted\")\n",
    "# ax.plot(tvec, tr_y_filtered.data/5e4, \"b--\", label=\"inverted\")\n",
    "ax.set_xlim([0, 100])\n",
    "\n"
   ]
  },
  {
   "cell_type": "code",
   "execution_count": null,
   "metadata": {},
   "outputs": [],
   "source": [
    "freqmin = 1e4\n",
    "freqmax = 2e5\n",
    "freqmax_high = 4e5\n",
    "\n",
    "fig, axs = plt.subplots(3, 2, figsize=(16, 10))\n",
    "tvec = tr_u_filtered.times()*1e6\n",
    "\n",
    "axs[0,0].plot(tvec, tr_u.data*1e3, \"k-\", label=\"Raw LDV unfiltered\")\n",
    "axs[0,0].set_ylim([-0.6, 0.6])\n",
    "axs[0,0].set_ylabel(\"mm/s\")\n",
    "\n",
    "axs[0,1].plot(tvec, tr_y.data, \"r-\", label=\"Raw AE sensor unfiltered\")\n",
    "axs[0,1].set_ylim([-5.0, 5.0])\n",
    "axs[0,1].set_ylabel(\"Volt [V]\")\n",
    "\n",
    "axs[1,0].plot(tvec, tr_u.copy().filter(\"bandpass\", freqmin=freqmin, freqmax=freqmax, corners=3, zerophase=True).data*1e3, \"k-\", label=f\"LDV {int(freqmin/1e3)}kHz-{int(freqmax/1e3)}kHz\")\n",
    "axs[1,0].set_ylim([-0.1, 0.1])\n",
    "axs[1,0].set_ylabel(\"mm/s\")\n",
    "\n",
    "axs[1,1].plot(tvec, tr_removed.copy().filter(\"bandpass\", freqmin=freqmin, freqmax=freqmax, corners=3, zerophase=True).data*1e3, \"r-\",\n",
    "                                          label=f\"{int(freqmin/1e3)}kHz-{int(freqmax/1e3)}kHz after AE response removed\")\n",
    "axs[1,1].set_ylim([-0.1, 0.1])\n",
    "axs[1,1].set_ylabel(\"mm/s\")\n",
    "\n",
    "axs[2,0].plot(tvec, tr_u.copy().filter(\"bandpass\", freqmin=freqmin, freqmax=freqmax, corners=3, zerophase=True).data*1e3, \"k-\", label=f\"LDV {int(freqmin/1e3)}kHz-{int(freqmax/1e3)}kHz\")\n",
    "axs[2,0].plot(tvec, tr_removed.copy().filter(\"bandpass\", freqmin=freqmin, freqmax=freqmax, corners=3, zerophase=True).data*1e3, \"r-\",label=f\"{int(freqmin/1e3)}kHz-{int(freqmax/1e3)}kHz after AE response removed\")\n",
    "axs[2,0].set_ylim([-0.1, 0.1])\n",
    "axs[2,0].set_ylabel(\"mm/s\")\n",
    "\n",
    "axs[2,1].plot(tvec, tr_u.copy().filter(\"bandpass\", freqmin=freqmin, freqmax=freqmax_high, corners=3, zerophase=True).data*1e3, \"k-\", label=f\"LDV  {int(freqmin/1e3)}kHz-{int(freqmax_high/1e3)}kHz\")\n",
    "axs[2,1].plot(tvec, tr_removed.copy().filter(\"bandpass\", freqmin=freqmin, freqmax=freqmax_high, corners=3, zerophase=True).data*1e3, \"r-\",label=f\" {int(freqmin/1e3)}kHz-{int(freqmax_high/1e3)}kHz after AE response removed\")\n",
    "axs[2,1].set_ylim([-0.2, 0.2])\n",
    "axs[2,1].set_ylabel(\"mm/s\")\n",
    "\n",
    "\n",
    "for ax_h in axs:\n",
    "    for ax in ax_h:\n",
    "        ax.legend(loc=1)\n",
    "        ax.set_xlim([0, 100])\n",
    "        \n",
    "plt.tight_layout()\n",
    "# plt.savefig(figdir+\"/LDVandAE_comparison.png\", dpi=300)\n"
   ]
  },
  {
   "cell_type": "markdown",
   "metadata": {},
   "source": [
    "## Plot poles and zeros"
   ]
  },
  {
   "cell_type": "code",
   "execution_count": null,
   "metadata": {},
   "outputs": [],
   "source": [
    "fig, ax = plt.subplots(1, 1, figsize=(8, 6))\n",
    "\n",
    "poles_AE.size, np.count_nonzero(zeros_AE)\n",
    "\n",
    "ax.scatter([np.real(x) for x in zeros_AE], [np.imag(x) for x in zeros_AE], label=\"zeros\",\n",
    "           marker=\"x\", c=\"r\")\n",
    "ax.scatter([np.real(x) for x in poles_AE], [np.imag(x) for x in poles_AE], label=\"poles\",\n",
    "           marker=\"o\", fc=\"None\", ec=\"k\")\n",
    "ax.set_xlim([-1.2, 1.2])\n",
    "ax.set_ylim([-1.2, 1.2])\n",
    "ax.set_aspect('equal')\n",
    "ax.legend(loc=1)\n",
    "ax.set_title(f\"Npoles:{poles_AE.size} Nzeros:{np.count_nonzero(zeros_AE)}\")"
   ]
  },
  {
   "cell_type": "markdown",
   "metadata": {},
   "source": [
    "# Bode plot"
   ]
  },
  {
   "cell_type": "code",
   "execution_count": null,
   "metadata": {},
   "outputs": [],
   "source": [
    "_, freqs, freq_domain_taper, data_after_freqtapered, freq_response_forward, freq_response = remove_resp_digitalfilt(tr_y, poles_AE, zeros_AE, scale_fac_AE, pre_filt=pre_filt, water_level=60, zero_mean=True,\n",
    "    taper=True, taper_fraction=0.05, detrend=True, debug=True)"
   ]
  },
  {
   "cell_type": "code",
   "execution_count": null,
   "metadata": {},
   "outputs": [],
   "source": [
    "len(freqs)"
   ]
  },
  {
   "cell_type": "code",
   "execution_count": null,
   "metadata": {},
   "outputs": [],
   "source": [
    "# compute G from just dividing y from u\n",
    "from obspy.signal.util import _npts2nfft\n",
    "nfft = _npts2nfft(tr_y.stats.npts)\n",
    "U = np.fft.rfft(tr_u.data, n=nfft)\n",
    "Y = np.fft.rfft(tr_y.data, n=nfft)\n",
    "g_freqs = np.fft.rfftfreq(nfft, d=1/fs)\n",
    "g_est = Y/U"
   ]
  },
  {
   "cell_type": "code",
   "execution_count": null,
   "metadata": {},
   "outputs": [],
   "source": [
    "fig, axs = plt.subplots(2, 1, figsize=(8, 6))\n",
    "xlimit = [10e3, 5e6]\n",
    "\n",
    "axs[0].grid(True, which=\"both\", ls=\"-\", alpha=0.2)\n",
    "\n",
    "axs[0].semilogx(g_freqs, 20 * np.log10(abs(g_est)), \"k-\", label=\"Estimated with Y/U\")\n",
    "axs[0].semilogx(freqs, 20 * np.log10(abs(freq_response_forward)), \"r-\", label=\"Modeled with Poles and Zeros\")\n",
    "\n",
    "axs[0].set_xlabel(\"Frequency [Hz]\")\n",
    "axs[0].set_ylabel(\"Amplitude [dB]\")\n",
    "axs[0].set_xlim(xlimit)\n",
    "axs[0].set_ylim([40, 100])\n",
    "axs[0].legend(loc=3)\n",
    "\n",
    "\n",
    "# angles_gest = np.unwrap(np.angle(g_est)) # unwrap the angle to make it continuous; not applied for this figure\n",
    "# angles_paz = np.unwrap(np.angle(freq_response_forward))\n",
    "angles_gest = np.angle(g_est)\n",
    "angles_paz = np.angle(freq_response_forward)\n",
    "\n",
    "axs[1].grid(True, which=\"both\", ls=\"-\", alpha=0.2)\n",
    "\n",
    "axs[1].semilogx(g_freqs, np.rad2deg(angles_gest), 'k', label=\"Estimated with Y/U\")\n",
    "axs[1].semilogx(freqs, np.rad2deg(angles_paz), 'r', label=\"Modeled with Poles and Zeros\")\n",
    "\n",
    "axs[1].set_xlabel(\"Frequency [Hz]\")\n",
    "axs[1].set_ylabel('Phase [deg]')\n",
    "axs[1].set_ylim([-180, 180])\n",
    "axs[1].set_yticks([-180, -90, 0, 90, 180])\n",
    "axs[1].set_xlim(xlimit)\n",
    "axs[1].legend(loc=3)\n",
    "\n",
    "plt.tight_layout()\n",
    "# plt.savefig(figdir+\"/AEsensor_bode.png\", dpi=300)\n"
   ]
  },
  {
   "cell_type": "code",
   "execution_count": null,
   "metadata": {},
   "outputs": [],
   "source": [
    "ax"
   ]
  },
  {
   "cell_type": "markdown",
   "metadata": {},
   "source": [
    "# Read gain factor obtained from ball drop test"
   ]
  },
  {
   "cell_type": "code",
   "execution_count": null,
   "metadata": {},
   "outputs": [],
   "source": [
    "df_gain = pd.read_csv(fi_balldropgain, index_col=0)\n",
    "df_gain.loc[df_gain['AEsensor'] == \"OL01\"][\"gainfactor\"].values # this includes 40dB of pre-amplification\n",
    "df_gain"
   ]
  },
  {
   "cell_type": "code",
   "execution_count": null,
   "metadata": {},
   "outputs": [],
   "source": [
    "df_gain[df_gain[\"AEsensor\"] == \"OL03\"][\"gainfactor\"].values[0]"
   ]
  },
  {
   "cell_type": "markdown",
   "metadata": {},
   "source": [
    "# Read response of preamp filter"
   ]
  },
  {
   "cell_type": "code",
   "execution_count": null,
   "metadata": {},
   "outputs": [],
   "source": [
    "A = sio.loadmat(fi_preamp);\n",
    "print(A.keys())\n",
    "\n",
    "tvec = np.squeeze(A[\"tvec\"]) # PAZ of the model for G20/G40\n",
    "u_input_40 = np.squeeze(A[\"u_input_40\"]) # PAZ of the model for G20/G40\n",
    "y_output_20 = np.squeeze(A[\"y_output_20\"]) # PAZ of the model for G20/G40\n",
    "y_output_60 = np.squeeze(A[\"y_output_60\"]) # PAZ of the model for G20/G40\n",
    "\n",
    "PAZ_param = dict()\n",
    "\n",
    "M20 = A[\"PAZ20\"] # PAZ of the model for G20/G40\n",
    "PAZ_param[\"p_20\"] = np.squeeze(M20['p'][0][0])\n",
    "PAZ_param[\"z_20\"] = np.squeeze(M20['z'][0][0])\n",
    "PAZ_param[\"k_20\"] = np.squeeze(M20['k'][0][0])\n",
    "\n",
    "M60 = A[\"PAZ60\"] # PAZ of the model for G60/G40\n",
    "PAZ_param[\"p_60\"] = np.squeeze(M60['p'][0][0])\n",
    "PAZ_param[\"z_60\"] = np.squeeze(M60['z'][0][0])\n",
    "PAZ_param[\"k_60\"] = np.squeeze(M60['k'][0][0])\n"
   ]
  },
  {
   "cell_type": "code",
   "execution_count": null,
   "metadata": {},
   "outputs": [],
   "source": [
    "# pickle event waveform directory\n",
    "eventdatadir ='../data/04_2_AE_obs_isocoord_forFig2'\n",
    "\n",
    "# greens function data directory \n",
    "\n",
    "greendatadir =  rootdir+'./05_numericalsimulation/case_gougepatch_fb03-087_cluster_cp6200_cs3600_v7_mergedcatalog/out/green/S00'\n",
    "\n",
    "# output datadir\n",
    "outputdir = f\"../data/06_2_assemble_gf_model{balldrop_model}\"\n",
    "\n",
    "# channel table\n",
    "channel_finame = '../../Others/AEchanneltable/AEsensorlocation_onFB03_table.csv'\n"
   ]
  },
  {
   "cell_type": "code",
   "execution_count": null,
   "metadata": {},
   "outputs": [],
   "source": [
    "if not os.path.exists(outputdir):\n",
    "    os.makedirs(outputdir)"
   ]
  },
  {
   "cell_type": "code",
   "execution_count": null,
   "metadata": {},
   "outputs": [],
   "source": [
    "# read gindex table\n",
    "df_gindextable = pd.read_csv(\"../data/datacsv/gindex_table.csv\", index_col=0)\n",
    "df_gindextable"
   ]
  },
  {
   "cell_type": "code",
   "execution_count": null,
   "metadata": {},
   "outputs": [],
   "source": [
    "# read observation casename  table\n",
    "df_iso_all = pd.read_csv(\"../data/datacsv/AEevents_isocoord_forFig2.csv\", index_col=0)\n",
    "# reassemble event id \n",
    "event_cases = np.unique(df_iso_all[\"datacase\"])\n",
    "df_iso_all.head()"
   ]
  },
  {
   "cell_type": "code",
   "execution_count": null,
   "metadata": {},
   "outputs": [],
   "source": [
    "event_cases"
   ]
  },
  {
   "cell_type": "code",
   "execution_count": null,
   "metadata": {},
   "outputs": [],
   "source": [
    "# Read Channel Index\n",
    "df_array = pd.read_csv(channel_finame)\n",
    "\n",
    "channel_loc={}\n",
    "\n",
    "for i in range(len(df_array)):\n",
    "    stnm = df_array.iloc[i].Instrument_Label\n",
    "    xtemp = df_array.iloc[i].North.astype('float')\n",
    "    ytemp = df_array.iloc[i].East.astype('float')\n",
    "    ztemp = df_array.iloc[i].Down.astype('float')\n",
    "    channel_loc[stnm] = [xtemp, ytemp, ztemp]\n",
    "    \n",
    "AEsensors = list(channel_loc.keys())"
   ]
  },
  {
   "cell_type": "markdown",
   "metadata": {},
   "source": [
    "## Assemble observation and synthetic waveform"
   ]
  },
  {
   "cell_type": "code",
   "execution_count": null,
   "metadata": {},
   "outputs": [],
   "source": []
  },
  {
   "cell_type": "code",
   "execution_count": null,
   "metadata": {},
   "outputs": [],
   "source": [
    "# Read observation\n",
    "pre_filt = (1e4, 2e4, 1e6, 2e6) # prefilter for the remove_resp\n",
    "water_level = 60 # waterlevel [dB] for the remove_resp\n",
    "\n",
    "for event_case in tqdm(event_cases):\n",
    "# event_case = event_cases[1]\n",
    "\n",
    "    foname = os.path.join(outputdir, \"{}_AEwaveform_forFig2.pickle\".format(event_case)) \n",
    "\n",
    "    # if os.path.exists(foname):\n",
    "    #     print(\"{}_bdwaveform.pickle already exists. skip this case.\".format(event_case))\n",
    "    #     continue\n",
    "\n",
    "    df_iso_st = df_iso_all[df_iso_all.datacase==event_case]\n",
    "    xlimit = [-0.5, 3]\n",
    "    ylimit = [-1.0, 1.0]\n",
    "\n",
    "    # if not df_iso_st:\n",
    "    #     print(\"{}_bdwaveform.pickle already exists. skip this case.\".format(stnm))\n",
    "    #     continue\n",
    "\n",
    "    df_iso_st\n",
    "\n",
    "    st_eventsta = Stream()\n",
    "\n",
    "    #---Start assembling each AE event---#\n",
    "    for dataind in df_iso_st.index:\n",
    "        #---Read observation data---#\n",
    "        stnm, runID, event_id = dataind.split('__')\n",
    "\n",
    "        tr_obs_trim = read(eventdatadir+\"/obs_isocoord_{}_forFig2.pickle\".format(dataind))[0]\n",
    "        tr_obs_trim.stats.dataindex = dataind\n",
    "        # rename channel\n",
    "        tr_obs_trim.stats.channel = 'OZ' # 'OZ: Observatoin in Z direction with sidecoord_seg\n",
    "\n",
    "        #--------------------------------------------------#\n",
    "        #---Remove the instrumental response---#\n",
    "        #--------------------------------------------------#\n",
    "        # Stage 3: deconvolve preamp filter (G60/G40)\n",
    "        # Stage 2: deconvolve AE sensor + preamp +40dB\n",
    "        # Stage 1: rescale with the ball-drop calibration: NOTE: the aperture effect should be removed during the waveform fitting\n",
    "        \n",
    "        # Stage 3:\n",
    "        if preamp_dB == 60:\n",
    "            tr_stage3 = remove_resp_digitalfilt(tr_obs_trim, PAZ_param[\"p_60\"], PAZ_param[\"z_60\"], PAZ_param[\"k_60\"],\n",
    "                                            pre_filt=pre_filt, water_level=water_level, zero_mean=True, taper=True, taper_fraction=0.05, detrend=True, debug=False)\n",
    "        elif preamp_dB == 20:\n",
    "            tr_stage3 = remove_resp_digitalfilt(tr_obs_trim, PAZ_param[\"p_20\"], PAZ_param[\"z_20\"], PAZ_param[\"k_20\"],\n",
    "                                            pre_filt=pre_filt, water_level=water_level, zero_mean=True, taper=True, taper_fraction=0.05, detrend=True, debug=False)\n",
    "            \n",
    "        else:\n",
    "            # no application for stage 3\n",
    "            tr_stage3 = tr_obs_trim\n",
    "            \n",
    "        # Stage 2:\n",
    "        tr_stage2 = remove_resp_digitalfilt(tr_stage3, poles_AE, zeros_AE, scale_fac_AE, # update: u_normfact is already included in scale_fac_AE\n",
    "                                            pre_filt=pre_filt, water_level=water_level, zero_mean=True, taper=True, taper_fraction=0.05, detrend=True, debug=False)\n",
    "        \n",
    "        # Stage 1: \n",
    "        tr_stage1 = tr_stage2.copy()\n",
    "        sensorgain = df_gain[df_gain[\"AEsensor\"] == stnm][\"gainfactor\"].values[0]\n",
    "        print(sensorgain)\n",
    "        tr_stage1.data = tr_stage2.data/sensorgain\n",
    "        tr_stage1.stats.location=\"stage1\"\n",
    "        st_eventsta.append(tr_stage1)\n",
    "\n",
    "        \n",
    "        # append to event stream both with and without instrumental response removal\n",
    "        tr_obs_trim_raw = tr_obs_trim.copy()\n",
    "        tr_obs_trim_raw.stats.location=\"raw\"\n",
    "        st_eventsta.append(tr_obs_trim_raw)\n",
    "\n",
    "        tr_obs_trim_stage3 = tr_stage3.copy()\n",
    "        tr_obs_trim_stage3.stats.location=\"stage3\"\n",
    "        st_eventsta.append(tr_obs_trim_stage3)\n",
    "\n",
    "        tr_obs_trim_stage2 = tr_stage2.copy()\n",
    "        tr_obs_trim_stage2.stats.location=\"stage2\"\n",
    "        st_eventsta.append(tr_obs_trim_stage2)\n",
    "        #--------------------------------------------------#\n",
    "\n",
    "        # Skip the synthetic green's functions\n",
    "#         #---read green's tensor---#\n",
    "#         # read synthetic green's function\n",
    "#         gid = df_gindextable[df_gindextable['index'] == dataind]['gid'].values[0]\n",
    "#         finame_syn = '{}/{}__{:08d}__S00__z__m*__.sac'.format(greendatadir, simulationtitle, gid) # Green's tensor in [nm/s]\n",
    "#         print(finame_syn, gid)\n",
    "#         trs_syn = read(finame_syn, format=\"SAC\")\n",
    "\n",
    "#         # restore stats\n",
    "#         for tr_syn in trs_syn:\n",
    "#             tr_syn.stats.network = 'OL'\n",
    "#             tr_syn.stats.station = stnm\n",
    "#             tr_syn.stats.location = 'GF'\n",
    "#         #     tr_syn.stats.channel = '' \n",
    "#             tr_syn.stats.dataindex = dataind\n",
    "\n",
    "#             # rescale source scaling and convert from nm to m\n",
    "#             tr_syn.data = tr_syn.data/1e9\n",
    "#             # manipulate start and endtime\n",
    "#             # 1. zero pad pretriger and windowlen\n",
    "#             # 2. change starttime\n",
    "\n",
    "#             T0 = 0.0 # Origin time used in OpenSWPC\n",
    "\n",
    "#             st_tmp = tr_syn.stats.starttime\n",
    "#             pt = timedelta(milliseconds = tr_obs_trim.stats.pretrigger)\n",
    "#             wt = timedelta(milliseconds = tr_obs_trim.stats.windowlen)\n",
    "#             ot = timedelta(milliseconds = T0)\n",
    "\n",
    "#             starttime_tmp = st_tmp+ot-pt\n",
    "#             endtime_tmp = st_tmp+ot+wt\n",
    "\n",
    "#             tr_syn_trim = tr_syn.copy() # avoid error in multiple trim\n",
    "#             tr_syn_trim.trim(starttime_tmp, endtime_tmp, pad=True, fill_value=0.0)\n",
    "#             tr_syn_trim.stats.starttime =  tr_obs_trim.stats.starttime\n",
    "\n",
    "#             st_eventsta.append(tr_syn_trim)\n",
    "\n",
    "    # Save Stream containing a set of observation and synthetic waveform\n",
    "    if not os.path.exists(outputdir):\n",
    "        os.makedirs(outputdir) \n",
    "    st_eventsta.write(foname, format=\"pickle\")"
   ]
  },
  {
   "cell_type": "code",
   "execution_count": null,
   "metadata": {},
   "outputs": [],
   "source": [
    "tr_stage2.plot()"
   ]
  },
  {
   "cell_type": "code",
   "execution_count": null,
   "metadata": {},
   "outputs": [],
   "source": [
    "# print(st_eventsta.__str__(extended=True))"
   ]
  },
  {
   "cell_type": "code",
   "execution_count": null,
   "metadata": {},
   "outputs": [],
   "source": [
    "event_case"
   ]
  },
  {
   "cell_type": "code",
   "execution_count": null,
   "metadata": {},
   "outputs": [],
   "source": [
    "# plot comparison with and without instrumental response removal\n",
    "event_case = \"fb03-087__0072\"\n",
    "stnm = \"OL07\"\n",
    "finame = os.path.join(outputdir, \"{}_AEwaveform_forFig2.pickle\".format(event_case)) \n",
    "st_event = read(finame) # this contains observation and green's function within a thresholded distance\n",
    "tr_wrem = st_event.select(station=stnm, location=\"stage1\", channel=\"OZ\")[0]\n",
    "tr_norem = st_event.select(station=stnm, location=\"raw\", channel=\"OZ\")[0]"
   ]
  },
  {
   "cell_type": "code",
   "execution_count": null,
   "metadata": {},
   "outputs": [],
   "source": [
    "print(st_event.__str__(extended=True))"
   ]
  },
  {
   "cell_type": "code",
   "execution_count": null,
   "metadata": {},
   "outputs": [],
   "source": [
    "print(st_event.__str__(extended=True))"
   ]
  },
  {
   "cell_type": "code",
   "execution_count": null,
   "metadata": {},
   "outputs": [],
   "source": [
    "# stnm_list = np.unique([tr.stats.station for tr in st_event])\n",
    "# manually rearrange with distance from source\n",
    "stnm_list = [\"OL24\", \"OL08\", \"OL23\", \"OL07\", \"OL22\", \"OL06\"]\n"
   ]
  },
  {
   "cell_type": "code",
   "execution_count": null,
   "metadata": {},
   "outputs": [],
   "source": [
    "pretrigger = tr_wrem.stats"
   ]
  },
  {
   "cell_type": "code",
   "execution_count": null,
   "metadata": {},
   "outputs": [],
   "source": [
    "Nsensor = len(stnm_list)\n",
    "fig, axs = plt.subplots(Nsensor, 1, figsize=(12, 9), sharex=True)\n",
    "\n",
    "freqmin = 6e4\n",
    "freqmax = 6e5\n",
    "xlimit = [0, 0.1]\n",
    "ylimits =[0.2, 0.2, 0.4, 0.4, 0.2, 0.1] \n",
    "scale_fac = 5000 # emperical scaling factor; which is estimated from ball drop test\n",
    "\n",
    "for i, stnm in enumerate(stnm_list):\n",
    "\n",
    "    tr_wrem = st_event.select(station=stnm, location=\"stage1\", channel=\"OZ\")[0]\n",
    "    tr_norem = st_event.select(station=stnm, location=\"raw\", channel=\"OZ\")[0]\n",
    "\n",
    "    # apply bandpass filter\n",
    "\n",
    "    tr_wrem_filtered = tr_wrem.copy().filter(\"bandpass\", freqmin=freqmin, freqmax=freqmax, corners=2, zerophase=True)\n",
    "    tr_norem_filtered = tr_norem.copy().filter(\"bandpass\", freqmin=freqmin, freqmax=freqmax, corners=2, zerophase=True)\n",
    "\n",
    "    # 1. plot entire trace\n",
    "    tvec = (tr_wrem_filtered.times())*1e3 - tr_wrem_filtered.stats.pretrigger\n",
    "    axs[i].plot(tvec, tr_norem_filtered.data*1e3/scale_fac, \"k-\")\n",
    "    axs[i].plot(tvec, tr_wrem_filtered.data*1e3, \"r-\")\n",
    "    axs[i].set_xlim(xlimit)\n",
    "\n",
    "    # set ylim\n",
    "    fs = tr_wrem_filtered.stats.delta \n",
    "    tmax_ind = np.min(np.where(tvec>xlimit[1]))\n",
    "    ylim_amp_filt = 1.2*np.maximum(np.max(np.abs(tr_norem_filtered.data[:tmax_ind]*1e3)), np.max(np.abs(tr_wrem_filtered.data[:tmax_ind]*1e3)))\n",
    "#     axs[i].set_ylim([-ylim_amp_filt, ylim_amp_filt])\n",
    "    axs[i].set_ylim([-ylimits[i], ylimits[i]])\n",
    "    print([-ylimits[i], ylimits[i]])\n",
    "    axs[i].text(0.01, 0.8, f\"{stnm}\", transform=axs[i].transAxes)\n",
    "\n",
    "axs[0].set_title(r\"Event {}  Bandpass filtered: {:.0f}-{:.0f}kHz\".format(event_case, freqmin/1e3, freqmax/1e3))\n",
    "fig.text(0.0, 0.5, 'Velocity [mm/s]', va='center', rotation='vertical')\n",
    "\n",
    "axs[-1].set_xlabel(\"Time [ms]\")\n",
    "\n",
    "axs[0].legend([\"raw unscaled\", \"instrumental response removed\"], bbox_to_anchor=(1.01, 1.0), loc=\"upper left\")\n",
    "\n",
    "plt.tight_layout()\n",
    "plt.savefig(figdir+\"/comparison_response_removal_event{}_forFig2.png\".format(event_case), dpi=300)\n",
    "\n",
    "        "
   ]
  },
  {
   "cell_type": "code",
   "execution_count": null,
   "metadata": {},
   "outputs": [],
   "source": [
    "tr_obs_trim.stats.starttime"
   ]
  },
  {
   "cell_type": "code",
   "execution_count": null,
   "metadata": {},
   "outputs": [],
   "source": []
  },
  {
   "cell_type": "code",
   "execution_count": null,
   "metadata": {},
   "outputs": [],
   "source": []
  }
 ],
 "metadata": {
  "kernelspec": {
   "display_name": "Python 3 (ipykernel)",
   "language": "python",
   "name": "python3"
  },
  "language_info": {
   "codemirror_mode": {
    "name": "ipython",
    "version": 3
   },
   "file_extension": ".py",
   "mimetype": "text/x-python",
   "name": "python",
   "nbconvert_exporter": "python",
   "pygments_lexer": "ipython3",
   "version": "3.12.9"
  }
 },
 "nbformat": 4,
 "nbformat_minor": 4
}

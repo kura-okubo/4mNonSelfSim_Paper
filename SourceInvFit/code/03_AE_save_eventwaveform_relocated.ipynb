{
 "cells": [
  {
   "cell_type": "markdown",
   "id": "609c7fea",
   "metadata": {},
   "source": [
    "# Save events of AEs\n",
    "\n",
    "- Load the waveform from the pick and location output and save into pickle.\n",
    "\n",
    "- upddated: use relocated file\n",
    "\n",
    "- 2023.10.22 update for fb03-087\n",
    "- 2024.10.31 update for the merged catalog"
   ]
  },
  {
   "cell_type": "code",
   "execution_count": 1,
   "id": "eeaed4c5",
   "metadata": {},
   "outputs": [],
   "source": [
    "import os\n",
    "import obspy\n",
    "from obspy import read, Stream, Trace\n",
    "from scipy import signal\n",
    "import matplotlib.pyplot as plt\n",
    "import glob\n",
    "from glob import glob\n",
    "import numpy as np\n",
    "import pandas as pd\n",
    "import datetime\n",
    "from datetime import timedelta\n",
    "from tqdm import tqdm\n",
    "import pickle\n",
    "import warnings\n",
    "from obspy.core.utcdatetime import UTCDateTime    \n",
    "from matplotlib import cm\n",
    "import matplotlib as mpl\n",
    "import itertools\n",
    "import mpl_interactions.ipyplot as iplt\n",
    "import scipy.io as sio\n",
    "\n",
    "%matplotlib ipympl\n",
    "\n",
    "%load_ext autoreload\n",
    "%autoreload 2\n",
    "\n",
    "from IPython import display\n",
    "import time\n",
    "\n",
    "from AE_compute_location_func import store_trace\n",
    "\n",
    "plt.rcParams[\"font.family\"] = \"Arial\"\n",
    "plt.rcParams[\"font.size\"] = 12\n",
    "os.environ['TZ'] = 'GMT' # change time zone to avoid confusion in unix_tvec conversion\n",
    "\n",
    "UTCDateTime.DEFAULT_PRECISION = 8 # increase the time precision\n"
   ]
  },
  {
   "cell_type": "code",
   "execution_count": 2,
   "id": "fa203de5",
   "metadata": {},
   "outputs": [],
   "source": [
    "figdir = \"../figure/AElocation\"\n",
    "if not os.path.exists(figdir):\n",
    "    os.makedirs(figdir)"
   ]
  },
  {
   "cell_type": "code",
   "execution_count": 3,
   "id": "23468bb9",
   "metadata": {},
   "outputs": [],
   "source": [
    "# Directory for picked waveforms\n",
    "datadir = \"../data/AElocation\"\n",
    "\n",
    "# Data outputdir\n",
    "outdir = \"../data/03_AEobs_waveform\"\n",
    "\n",
    "# channel table\n",
    "channel_finame = '../../Others/AEchanneltable/AEsensorlocation_onFB03_table.csv'\n",
    "\n",
    "if not os.path.exists(outdir):\n",
    "    os.makedirs(outdir)\n",
    "    \n",
    "csvdir =  \"../data/datacsv\"\n",
    "if not os.path.exists(csvdir):\n",
    "    os.makedirs(csvdir)"
   ]
  },
  {
   "cell_type": "code",
   "execution_count": 4,
   "id": "53604fc3",
   "metadata": {},
   "outputs": [],
   "source": [
    "# Paramters\n",
    "fs      = 10e6 #[Hz] Sampling frequency of data\n",
    "Nsensor = 32 # Number of sensors\n",
    "st_stats = UTCDateTime(2023, 5, 29) # starttime for the stats of trace: used to synchronize the data. Should be same with picking script.\n",
    "expr_id= 87 # casename of experiment\n",
    "\n",
    "ev_twinlen = 0.4e-3 #[s] window length of event\n",
    "ev_pretrigger = 0.1e-3 #[s] duration of pretrigger\n",
    "\n",
    "ev_twinlen_k = np.round(ev_twinlen*fs)"
   ]
  },
  {
   "cell_type": "markdown",
   "id": "4fc2af9c",
   "metadata": {},
   "source": [
    "## Read channel array"
   ]
  },
  {
   "cell_type": "code",
   "execution_count": 5,
   "id": "d745ed4e",
   "metadata": {},
   "outputs": [],
   "source": [
    "df_array = pd.read_csv(channel_finame)\n",
    "\n",
    "channel_loc={}\n",
    "\n",
    "for i in range(len(df_array)):\n",
    "    stnm = df_array.iloc[i].Instrument_Label\n",
    "    xtemp = df_array.iloc[i].North.astype('float')\n",
    "    ytemp = df_array.iloc[i].East.astype('float')\n",
    "    ztemp = df_array.iloc[i].Down.astype('float')\n",
    "    channel_loc[stnm] = [xtemp, ytemp, ztemp]\n",
    "    \n",
    "Nsensor = len(channel_loc)\n",
    "# channel_loc"
   ]
  },
  {
   "cell_type": "markdown",
   "id": "03f7fc95-f145-42d8-9fcb-bf05f629b96a",
   "metadata": {},
   "source": [
    "## Read catalog"
   ]
  },
  {
   "cell_type": "code",
   "execution_count": 6,
   "id": "42300375-15bc-48dd-8f84-797bc9403ca4",
   "metadata": {},
   "outputs": [
    {
     "data": {
      "text/html": [
       "<div>\n",
       "<style scoped>\n",
       "    .dataframe tbody tr th:only-of-type {\n",
       "        vertical-align: middle;\n",
       "    }\n",
       "\n",
       "    .dataframe tbody tr th {\n",
       "        vertical-align: top;\n",
       "    }\n",
       "\n",
       "    .dataframe thead th {\n",
       "        text-align: right;\n",
       "    }\n",
       "</style>\n",
       "<table border=\"1\" class=\"dataframe\">\n",
       "  <thead>\n",
       "    <tr style=\"text-align: right;\">\n",
       "      <th></th>\n",
       "      <th>expr_id</th>\n",
       "      <th>event_id</th>\n",
       "      <th>event_loc</th>\n",
       "      <th>picktime</th>\n",
       "      <th>event_type</th>\n",
       "      <th>rupturetype</th>\n",
       "      <th>gougeevent_id</th>\n",
       "      <th>doublecheck</th>\n",
       "      <th>old_gougeevent_id</th>\n",
       "    </tr>\n",
       "  </thead>\n",
       "  <tbody>\n",
       "    <tr>\n",
       "      <th>0</th>\n",
       "      <td>fb03-087</td>\n",
       "      <td>2</td>\n",
       "      <td>2.75</td>\n",
       "      <td>41.02500</td>\n",
       "      <td>LFE</td>\n",
       "      <td>2</td>\n",
       "      <td>0</td>\n",
       "      <td>1</td>\n",
       "      <td>0</td>\n",
       "    </tr>\n",
       "    <tr>\n",
       "      <th>1</th>\n",
       "      <td>fb03-087</td>\n",
       "      <td>3</td>\n",
       "      <td>1.25</td>\n",
       "      <td>42.46400</td>\n",
       "      <td>LFE</td>\n",
       "      <td>1</td>\n",
       "      <td>1</td>\n",
       "      <td>1</td>\n",
       "      <td>1</td>\n",
       "    </tr>\n",
       "    <tr>\n",
       "      <th>2</th>\n",
       "      <td>fb03-087</td>\n",
       "      <td>3</td>\n",
       "      <td>1.25</td>\n",
       "      <td>42.46450</td>\n",
       "      <td>Ordinary</td>\n",
       "      <td>1</td>\n",
       "      <td>2</td>\n",
       "      <td>1</td>\n",
       "      <td>2</td>\n",
       "    </tr>\n",
       "    <tr>\n",
       "      <th>3</th>\n",
       "      <td>fb03-087</td>\n",
       "      <td>3</td>\n",
       "      <td>3.25</td>\n",
       "      <td>42.46790</td>\n",
       "      <td>Ordinary</td>\n",
       "      <td>1</td>\n",
       "      <td>3</td>\n",
       "      <td>1</td>\n",
       "      <td>212</td>\n",
       "    </tr>\n",
       "    <tr>\n",
       "      <th>4</th>\n",
       "      <td>fb03-087</td>\n",
       "      <td>3</td>\n",
       "      <td>1.75</td>\n",
       "      <td>42.47475</td>\n",
       "      <td>Ordinary</td>\n",
       "      <td>1</td>\n",
       "      <td>4</td>\n",
       "      <td>1</td>\n",
       "      <td>3</td>\n",
       "    </tr>\n",
       "  </tbody>\n",
       "</table>\n",
       "</div>"
      ],
      "text/plain": [
       "    expr_id  event_id  event_loc  picktime event_type  rupturetype  \\\n",
       "0  fb03-087         2       2.75  41.02500        LFE            2   \n",
       "1  fb03-087         3       1.25  42.46400        LFE            1   \n",
       "2  fb03-087         3       1.25  42.46450   Ordinary            1   \n",
       "3  fb03-087         3       3.25  42.46790   Ordinary            1   \n",
       "4  fb03-087         3       1.75  42.47475   Ordinary            1   \n",
       "\n",
       "   gougeevent_id  doublecheck  old_gougeevent_id  \n",
       "0              0            1                  0  \n",
       "1              1            1                  1  \n",
       "2              2            1                  2  \n",
       "3              3            1                212  \n",
       "4              4            1                  3  "
      ]
     },
     "execution_count": 6,
     "metadata": {},
     "output_type": "execute_result"
    }
   ],
   "source": [
    "# Read picked catalog\n",
    "# Read the csv pick datasheet\n",
    "fi_catalog=\"../../Experiments/DetectEvent/data/p06_visual_pick_gougeevents_merged.csv\"\n",
    "columns = [\"expr_id\", \"event_id\", \"event_loc\", \"picktime\", \"event_type\", \"rupturetype\", \"gougeevent_id\", \"doublecheck\", \"old_gougeevent_id\"]\n",
    "df_catalog = pd.read_csv(fi_catalog, skiprows=5, names=columns)\n",
    "df_expr = df_catalog[(df_catalog[\"expr_id\"]==f\"fb03-{expr_id:03d}\")]\n",
    "df_expr.head()"
   ]
  },
  {
   "cell_type": "markdown",
   "id": "71f1072c",
   "metadata": {},
   "source": [
    "# Read location and pick time\n",
    "\n",
    "skip the event if the time window is too close (overlapped) because they are identical events."
   ]
  },
  {
   "cell_type": "code",
   "execution_count": 7,
   "id": "36e5741b",
   "metadata": {},
   "outputs": [
    {
     "name": "stdout",
     "output_type": "stream",
     "text": [
      "start processing event 0004\n"
     ]
    },
    {
     "name": "stderr",
     "output_type": "stream",
     "text": [
      "100%|████████████████████████████████████████████| 32/32 [00:00<00:00, 12204.94it/s]"
     ]
    },
    {
     "name": "stdout",
     "output_type": "stream",
     "text": [
      "[[42.47477226]]\n",
      "start processing event 0009\n"
     ]
    },
    {
     "name": "stderr",
     "output_type": "stream",
     "text": [
      "\n",
      "100%|████████████████████████████████████████████| 32/32 [00:00<00:00, 23444.14it/s]"
     ]
    },
    {
     "name": "stdout",
     "output_type": "stream",
     "text": [
      "[[47.66269341]]\n",
      "start processing event 0018\n"
     ]
    },
    {
     "name": "stderr",
     "output_type": "stream",
     "text": [
      "\n",
      "100%|████████████████████████████████████████████| 32/32 [00:00<00:00, 25276.41it/s]"
     ]
    },
    {
     "name": "stdout",
     "output_type": "stream",
     "text": [
      "[[56.72704421]]\n",
      "start processing event 0019\n"
     ]
    },
    {
     "name": "stderr",
     "output_type": "stream",
     "text": [
      "\n",
      "100%|████████████████████████████████████████████| 32/32 [00:00<00:00, 25579.90it/s]"
     ]
    },
    {
     "name": "stdout",
     "output_type": "stream",
     "text": [
      "[[59.10317481]]\n",
      "start processing event 0020\n"
     ]
    },
    {
     "name": "stderr",
     "output_type": "stream",
     "text": [
      "\n",
      "100%|████████████████████████████████████████████| 32/32 [00:00<00:00, 23460.54it/s]"
     ]
    },
    {
     "name": "stdout",
     "output_type": "stream",
     "text": [
      "[[59.10352595]]\n",
      "start processing event 0021\n"
     ]
    },
    {
     "name": "stderr",
     "output_type": "stream",
     "text": [
      "\n",
      "100%|████████████████████████████████████████████| 32/32 [00:00<00:00, 24577.50it/s]"
     ]
    },
    {
     "name": "stdout",
     "output_type": "stream",
     "text": [
      "[[63.75229995]]\n",
      "start processing event 0024\n"
     ]
    },
    {
     "name": "stderr",
     "output_type": "stream",
     "text": [
      "\n",
      "100%|████████████████████████████████████████████| 32/32 [00:00<00:00, 25575.02it/s]"
     ]
    },
    {
     "name": "stdout",
     "output_type": "stream",
     "text": [
      "[[66.18694386]]\n",
      "start processing event 0027\n"
     ]
    },
    {
     "name": "stderr",
     "output_type": "stream",
     "text": [
      "\n",
      "100%|████████████████████████████████████████████| 32/32 [00:00<00:00, 24372.20it/s]"
     ]
    },
    {
     "name": "stdout",
     "output_type": "stream",
     "text": [
      "[[76.01847775]]\n",
      "start processing event 0030\n"
     ]
    },
    {
     "name": "stderr",
     "output_type": "stream",
     "text": [
      "\n",
      "100%|████████████████████████████████████████████| 32/32 [00:00<00:00, 21066.98it/s]"
     ]
    },
    {
     "name": "stdout",
     "output_type": "stream",
     "text": [
      "[[79.31984989]]\n",
      "start processing event 0031\n"
     ]
    },
    {
     "name": "stderr",
     "output_type": "stream",
     "text": [
      "\n",
      "100%|████████████████████████████████████████████| 32/32 [00:00<00:00, 26016.23it/s]"
     ]
    },
    {
     "name": "stdout",
     "output_type": "stream",
     "text": [
      "[[79.32009303]]\n",
      "start processing event 0037\n"
     ]
    },
    {
     "name": "stderr",
     "output_type": "stream",
     "text": [
      "\n",
      "100%|████████████████████████████████████████████| 32/32 [00:00<00:00, 26102.24it/s]"
     ]
    },
    {
     "name": "stdout",
     "output_type": "stream",
     "text": [
      "[[85.98748076]]\n",
      "start processing event 0038\n"
     ]
    },
    {
     "name": "stderr",
     "output_type": "stream",
     "text": [
      "\n",
      "100%|████████████████████████████████████████████| 32/32 [00:00<00:00, 26122.56it/s]"
     ]
    },
    {
     "name": "stdout",
     "output_type": "stream",
     "text": [
      "[[85.98854365]]\n",
      "start processing event 0040\n"
     ]
    },
    {
     "name": "stderr",
     "output_type": "stream",
     "text": [
      "\n",
      "100%|████████████████████████████████████████████| 32/32 [00:00<00:00, 21813.38it/s]"
     ]
    },
    {
     "name": "stdout",
     "output_type": "stream",
     "text": [
      "[[91.3008389]]\n",
      "start processing event 0043\n"
     ]
    },
    {
     "name": "stderr",
     "output_type": "stream",
     "text": [
      "\n",
      "100%|████████████████████████████████████████████| 32/32 [00:00<00:00, 25134.41it/s]"
     ]
    },
    {
     "name": "stdout",
     "output_type": "stream",
     "text": [
      "[[91.31113376]]\n",
      "start processing event 0044\n"
     ]
    },
    {
     "name": "stderr",
     "output_type": "stream",
     "text": [
      "\n",
      "100%|████████████████████████████████████████████| 32/32 [00:00<00:00, 19253.73it/s]"
     ]
    },
    {
     "name": "stdout",
     "output_type": "stream",
     "text": [
      "[[94.40733748]]\n",
      "start processing event 0049\n"
     ]
    },
    {
     "name": "stderr",
     "output_type": "stream",
     "text": [
      "\n",
      "100%|████████████████████████████████████████████| 32/32 [00:00<00:00, 25682.69it/s]"
     ]
    },
    {
     "name": "stdout",
     "output_type": "stream",
     "text": [
      "[[100.59554237]]\n",
      "start processing event 0050\n"
     ]
    },
    {
     "name": "stderr",
     "output_type": "stream",
     "text": [
      "\n",
      "100%|████████████████████████████████████████████| 32/32 [00:00<00:00, 24595.52it/s]"
     ]
    },
    {
     "name": "stdout",
     "output_type": "stream",
     "text": [
      "[[100.5958589]]\n",
      "start processing event 0052\n"
     ]
    },
    {
     "name": "stderr",
     "output_type": "stream",
     "text": [
      "\n",
      "100%|████████████████████████████████████████████| 32/32 [00:00<00:00, 26016.23it/s]"
     ]
    },
    {
     "name": "stdout",
     "output_type": "stream",
     "text": [
      "[[100.60336415]]\n",
      "start processing event 0055\n"
     ]
    },
    {
     "name": "stderr",
     "output_type": "stream",
     "text": [
      "\n",
      "100%|████████████████████████████████████████████| 32/32 [00:00<00:00, 25970.92it/s]"
     ]
    },
    {
     "name": "stdout",
     "output_type": "stream",
     "text": [
      "[[108.95682766]]\n",
      "start processing event 0059\n"
     ]
    },
    {
     "name": "stderr",
     "output_type": "stream",
     "text": [
      "\n",
      "100%|████████████████████████████████████████████| 32/32 [00:00<00:00, 26209.28it/s]"
     ]
    },
    {
     "name": "stdout",
     "output_type": "stream",
     "text": [
      "[[116.23727944]]\n",
      "start processing event 0061\n"
     ]
    },
    {
     "name": "stderr",
     "output_type": "stream",
     "text": [
      "\n",
      "100%|████████████████████████████████████████████| 32/32 [00:00<00:00, 25707.28it/s]"
     ]
    },
    {
     "name": "stdout",
     "output_type": "stream",
     "text": [
      "[[116.24031616]]\n",
      "start processing event 0062\n"
     ]
    },
    {
     "name": "stderr",
     "output_type": "stream",
     "text": [
      "\n",
      "100%|████████████████████████████████████████████| 32/32 [00:00<00:00, 23950.34it/s]"
     ]
    },
    {
     "name": "stdout",
     "output_type": "stream",
     "text": [
      "[[120.7783635]]\n",
      "start processing event 0069\n"
     ]
    },
    {
     "name": "stderr",
     "output_type": "stream",
     "text": [
      "\n",
      "100%|████████████████████████████████████████████| 32/32 [00:00<00:00, 10759.80it/s]"
     ]
    },
    {
     "name": "stdout",
     "output_type": "stream",
     "text": [
      "[[123.92171733]]\n",
      "start processing event 0072\n"
     ]
    },
    {
     "name": "stderr",
     "output_type": "stream",
     "text": [
      "\n",
      "100%|████████████████████████████████████████████| 32/32 [00:00<00:00, 19463.13it/s]"
     ]
    },
    {
     "name": "stdout",
     "output_type": "stream",
     "text": [
      "[[130.7345489]]\n",
      "start processing event 0075\n"
     ]
    },
    {
     "name": "stderr",
     "output_type": "stream",
     "text": [
      "\n",
      "100%|████████████████████████████████████████████| 32/32 [00:00<00:00, 26530.49it/s]"
     ]
    },
    {
     "name": "stdout",
     "output_type": "stream",
     "text": [
      "[[138.54831321]]\n",
      "start processing event 0076\n"
     ]
    },
    {
     "name": "stderr",
     "output_type": "stream",
     "text": [
      "\n",
      "100%|████████████████████████████████████████████| 32/32 [00:00<00:00, 26102.24it/s]"
     ]
    },
    {
     "name": "stdout",
     "output_type": "stream",
     "text": [
      "[[138.54952552]]\n",
      "start processing event 0077\n"
     ]
    },
    {
     "name": "stderr",
     "output_type": "stream",
     "text": [
      "\n",
      "100%|████████████████████████████████████████████| 32/32 [00:00<00:00, 26168.40it/s]"
     ]
    },
    {
     "name": "stdout",
     "output_type": "stream",
     "text": [
      "[[138.55082272]]\n",
      "start processing event 0081\n"
     ]
    },
    {
     "name": "stderr",
     "output_type": "stream",
     "text": [
      "\n",
      "100%|████████████████████████████████████████████| 32/32 [00:00<00:00, 11184.81it/s]"
     ]
    },
    {
     "name": "stdout",
     "output_type": "stream",
     "text": [
      "[[146.53695619]]\n",
      "start processing event 0085\n"
     ]
    },
    {
     "name": "stderr",
     "output_type": "stream",
     "text": [
      "\n",
      "100%|████████████████████████████████████████████| 32/32 [00:00<00:00, 21841.78it/s]"
     ]
    },
    {
     "name": "stdout",
     "output_type": "stream",
     "text": [
      "[[151.699233]]\n",
      "start processing event 0088\n"
     ]
    },
    {
     "name": "stderr",
     "output_type": "stream",
     "text": [
      "\n",
      "100%|████████████████████████████████████████████| 32/32 [00:00<00:00, 25623.85it/s]"
     ]
    },
    {
     "name": "stdout",
     "output_type": "stream",
     "text": [
      "[[161.09723646]]\n",
      "start processing event 0089\n"
     ]
    },
    {
     "name": "stderr",
     "output_type": "stream",
     "text": [
      "\n",
      "100%|████████████████████████████████████████████| 32/32 [00:00<00:00, 26001.11it/s]"
     ]
    },
    {
     "name": "stdout",
     "output_type": "stream",
     "text": [
      "[[161.12012935]]\n",
      "start processing event 0095\n"
     ]
    },
    {
     "name": "stderr",
     "output_type": "stream",
     "text": [
      "\n",
      "100%|████████████████████████████████████████████| 32/32 [00:00<00:00, 26234.90it/s]"
     ]
    },
    {
     "name": "stdout",
     "output_type": "stream",
     "text": [
      "[[167.28680558]]\n",
      "start processing event 0099\n"
     ]
    },
    {
     "name": "stderr",
     "output_type": "stream",
     "text": [
      "\n",
      "100%|████████████████████████████████████████████| 32/32 [00:00<00:00, 26270.84it/s]"
     ]
    },
    {
     "name": "stdout",
     "output_type": "stream",
     "text": [
      "[[175.38555241]]\n",
      "start processing event 0100\n"
     ]
    },
    {
     "name": "stderr",
     "output_type": "stream",
     "text": [
      "\n",
      "100%|████████████████████████████████████████████| 32/32 [00:00<00:00, 25771.45it/s]"
     ]
    },
    {
     "name": "stdout",
     "output_type": "stream",
     "text": [
      "[[175.39123172]]\n",
      "start processing event 0102\n"
     ]
    },
    {
     "name": "stderr",
     "output_type": "stream",
     "text": [
      "\n",
      "100%|████████████████████████████████████████████| 32/32 [00:00<00:00, 24649.72it/s]"
     ]
    },
    {
     "name": "stdout",
     "output_type": "stream",
     "text": [
      "[[178.95463471]]\n",
      "start processing event 0109\n"
     ]
    },
    {
     "name": "stderr",
     "output_type": "stream",
     "text": [
      "\n",
      "100%|████████████████████████████████████████████| 32/32 [00:00<00:00, 26646.36it/s]"
     ]
    },
    {
     "name": "stdout",
     "output_type": "stream",
     "text": [
      "[[190.16055048]]\n",
      "start processing event 0110\n"
     ]
    },
    {
     "name": "stderr",
     "output_type": "stream",
     "text": [
      "\n",
      "100%|████████████████████████████████████████████| 32/32 [00:00<00:00, 26400.03it/s]"
     ]
    },
    {
     "name": "stdout",
     "output_type": "stream",
     "text": [
      "[[193.77200751]]\n",
      "start processing event 0111\n"
     ]
    },
    {
     "name": "stderr",
     "output_type": "stream",
     "text": [
      "\n",
      "100%|████████████████████████████████████████████| 32/32 [00:00<00:00, 26535.73it/s]"
     ]
    },
    {
     "name": "stdout",
     "output_type": "stream",
     "text": [
      "[[193.78424901]]\n",
      "start processing event 0118\n"
     ]
    },
    {
     "name": "stderr",
     "output_type": "stream",
     "text": [
      "\n",
      "100%|████████████████████████████████████████████| 32/32 [00:00<00:00, 26535.73it/s]"
     ]
    },
    {
     "name": "stdout",
     "output_type": "stream",
     "text": [
      "[[211.10241937]]\n",
      "start processing event 0120\n"
     ]
    },
    {
     "name": "stderr",
     "output_type": "stream",
     "text": [
      "\n",
      "100%|████████████████████████████████████████████| 32/32 [00:00<00:00, 26275.98it/s]"
     ]
    },
    {
     "name": "stdout",
     "output_type": "stream",
     "text": [
      "[[225.89071842]]\n",
      "start processing event 0126\n"
     ]
    },
    {
     "name": "stderr",
     "output_type": "stream",
     "text": [
      "\n",
      "100%|████████████████████████████████████████████| 32/32 [00:00<00:00, 26337.86it/s]"
     ]
    },
    {
     "name": "stdout",
     "output_type": "stream",
     "text": [
      "[[235.63152471]]\n",
      "start processing event 0128\n"
     ]
    },
    {
     "name": "stderr",
     "output_type": "stream",
     "text": [
      "\n",
      "100%|████████████████████████████████████████████| 32/32 [00:00<00:00, 26577.77it/s]"
     ]
    },
    {
     "name": "stdout",
     "output_type": "stream",
     "text": [
      "[[241.51293952]]\n",
      "start processing event 0129\n"
     ]
    },
    {
     "name": "stderr",
     "output_type": "stream",
     "text": [
      "\n",
      "100%|████████████████████████████████████████████| 32/32 [00:00<00:00, 26441.63it/s]"
     ]
    },
    {
     "name": "stdout",
     "output_type": "stream",
     "text": [
      "[[245.07106458]]\n",
      "start processing event 0131\n"
     ]
    },
    {
     "name": "stderr",
     "output_type": "stream",
     "text": [
      "\n",
      "100%|████████████████████████████████████████████| 32/32 [00:00<00:00, 25975.95it/s]"
     ]
    },
    {
     "name": "stdout",
     "output_type": "stream",
     "text": [
      "[[248.90204364]]\n"
     ]
    },
    {
     "name": "stderr",
     "output_type": "stream",
     "text": [
      "\n"
     ]
    }
   ],
   "source": [
    "df_event = pd.DataFrame(columns=[\"gougeevent_id\", \"stickslip_id\", \"exprID\", \"origin_time\", \"X\", \"Y\", \"V\", \"Vs\", \"dx_best\", \"dy_best\"])\n",
    "\n",
    "pickdir_list = sorted(glob(os.path.join(datadir, \"relocation/*\")))\n",
    "origintime_prev = 0\n",
    "\n",
    "for pickdir in pickdir_list:\n",
    "    \n",
    "    foreshock_id = int(os.path.basename(pickdir))\n",
    "    stickslipevent_id = df_expr[df_expr[\"gougeevent_id\"]==foreshock_id][\"event_id\"].values[0] # event_id of stick-slip\n",
    "\n",
    "    \n",
    "    finame_loc = os.path.join(pickdir, \"eventloc__fb03-{:03d}__{:04d}.pickle\".format(expr_id, foreshock_id))\n",
    "    if os.path.exists(finame_loc):\n",
    "        print(f\"start processing event {foreshock_id:04d}\")\n",
    "        with open(finame_loc, \"rb\") as fi:\n",
    "            tpick_reloc = pickle.load(fi)\n",
    "    else:\n",
    "        continue #skipping this event because no pick file found.\n",
    "\n",
    "#     finame_pick = os.path.join(pickdir, \"tpick__fb03-{:03d}__{:04d}.pickle\".format(expr_id, foreshock_id))\n",
    "#     if os.path.exists(finame_pick):\n",
    "#         with open(finame_pick, \"rb\") as fi:\n",
    "#             tpick = pickle.load(fi)\n",
    "\n",
    "    \n",
    "    # skip if origin time is too close to the previous event\n",
    "    if np.abs(origintime_prev - tpick_reloc[\"origin_abs_t\"]) < 0.1e-3: # less than 0.1 millisecond\n",
    "        origintime_prev = tpick_reloc[\"origin_abs_t\"]\n",
    "        print(\"skip because the origintime is too close\")\n",
    "        continue\n",
    "        \n",
    "    # append to dataframe\n",
    "    df_event = pd.concat([df_event, pd.DataFrame(data={\n",
    "                                             \"gougeevent_id\":[foreshock_id],\n",
    "                                             \"stickslip_id\":[stickslipevent_id],\n",
    "                                             \"exprID\":[f\"fb03-{expr_id:03d}\"],\n",
    "                                             \"origin_time\":[tpick_reloc[\"origin_abs_t\"][0][0]],\n",
    "                                             \"X\": [tpick_reloc[\"X\"]],\n",
    "                                             \"Y\": [tpick_reloc[\"Y\"]],\n",
    "                                             \"V\": [tpick_reloc[\"V\"]],\n",
    "                                             \"Vs\": [tpick_reloc[\"Vs\"]],\n",
    "                                             \"dx_best\": [tpick_reloc[\"dx_best\"]],\n",
    "                                             \"dy_best\": [tpick_reloc[\"dy_best\"]],\n",
    "                                            })])\n",
    "\n",
    "    # compute tpick from origin time\n",
    "    tpick_rel = tpick_reloc[\"tpick_rel\"] # updated relative tpick during relocation process\n",
    "    \n",
    "#     for key in tpick:\n",
    "#         tpick_rel[key] = ( tpick_loc[\"init_abs_t\"] + tpick[key]*1e-3 ) - tpick_loc[\"origin_abs_t\"]# tpick is in ms.\n",
    "\n",
    "    # read waveform\n",
    "    \n",
    "    # read waveform\n",
    "    data_rootdir = f\"/Volumes/4mGouge_WorkHDD/FB03data/4mBIAX_paper_tmp/p03_eventdata_FB03_{expr_id:03d}/\"\n",
    "    fname = f\"eventdata_FB03_087_event{stickslipevent_id:02d}\"\n",
    "\n",
    "    D = sio.loadmat(data_rootdir+fname)\n",
    "\n",
    "    # read data\n",
    "    print(tpick_reloc[\"origin_abs_t\"])\n",
    "    read_starttime = tpick_reloc[\"origin_abs_t\"] - D[\"Tstart\"] - ev_pretrigger\n",
    "    init_k = int(read_starttime*fs) # trim start time from picktime - pretrig\n",
    "    datmat = D['AEdatmat'][init_k:int(init_k+ev_twinlen_k), :]\n",
    "\n",
    "#     read_init_t = tpick_reloc[\"origin_abs_t\"] - ev_pretrigger #[s]\n",
    "#     datmat,tmat,Ch_info=SBENCHreader(read_init_t, ev_pretrigger+ev_twinlen, pname, runID, pretrigger=False)\n",
    "\n",
    "    st_obs = store_trace(datmat, fs, st_stats, tpick_reloc[\"origin_abs_t\"] - ev_pretrigger)\n",
    "    st_obs.channel_loc = channel_loc\n",
    "\n",
    "    # store metadata\n",
    "    st_obs.pretrigger = ev_pretrigger\n",
    "    st_obs.eventloc = tpick_reloc\n",
    "    st_obs.tpick_rel = tpick_rel\n",
    "    st_obs.st_stats = st_stats\n",
    "    st_obs.runID = f\"fb03-{expr_id:03d}\"\n",
    "\n",
    "    foname = os.path.join(outdir, \"obs_waveform_event__fb03-{:03d}__{:04d}.pickle\".format(expr_id, foreshock_id))\n",
    "    st_obs.write(foname, format=\"PICKLE\")\n",
    "    # update origintime\n",
    "    origintime_prev = tpick_reloc[\"origin_abs_t\"]"
   ]
  },
  {
   "cell_type": "code",
   "execution_count": 8,
   "id": "bedf22cb-ce81-4f35-b86e-15837bf7a198",
   "metadata": {},
   "outputs": [
    {
     "data": {
      "text/html": [
       "<div>\n",
       "<style scoped>\n",
       "    .dataframe tbody tr th:only-of-type {\n",
       "        vertical-align: middle;\n",
       "    }\n",
       "\n",
       "    .dataframe tbody tr th {\n",
       "        vertical-align: top;\n",
       "    }\n",
       "\n",
       "    .dataframe thead th {\n",
       "        text-align: right;\n",
       "    }\n",
       "</style>\n",
       "<table border=\"1\" class=\"dataframe\">\n",
       "  <thead>\n",
       "    <tr style=\"text-align: right;\">\n",
       "      <th></th>\n",
       "      <th>gougeevent_id</th>\n",
       "      <th>stickslip_id</th>\n",
       "      <th>exprID</th>\n",
       "      <th>origin_time</th>\n",
       "      <th>X</th>\n",
       "      <th>Y</th>\n",
       "      <th>V</th>\n",
       "      <th>Vs</th>\n",
       "      <th>dx_best</th>\n",
       "      <th>dy_best</th>\n",
       "    </tr>\n",
       "  </thead>\n",
       "  <tbody>\n",
       "    <tr>\n",
       "      <th>0</th>\n",
       "      <td>4</td>\n",
       "      <td>3</td>\n",
       "      <td>fb03-087</td>\n",
       "      <td>42.474772</td>\n",
       "      <td>1.7475</td>\n",
       "      <td>0.00505</td>\n",
       "      <td>6200</td>\n",
       "      <td>3600</td>\n",
       "      <td>0.0000</td>\n",
       "      <td>-0.0002</td>\n",
       "    </tr>\n",
       "    <tr>\n",
       "      <th>0</th>\n",
       "      <td>9</td>\n",
       "      <td>5</td>\n",
       "      <td>fb03-087</td>\n",
       "      <td>47.662693</td>\n",
       "      <td>1.7425</td>\n",
       "      <td>0.00375</td>\n",
       "      <td>6200</td>\n",
       "      <td>3600</td>\n",
       "      <td>0.0000</td>\n",
       "      <td>0.0000</td>\n",
       "    </tr>\n",
       "    <tr>\n",
       "      <th>0</th>\n",
       "      <td>18</td>\n",
       "      <td>8</td>\n",
       "      <td>fb03-087</td>\n",
       "      <td>56.727044</td>\n",
       "      <td>1.7460</td>\n",
       "      <td>0.00375</td>\n",
       "      <td>6200</td>\n",
       "      <td>3600</td>\n",
       "      <td>0.0000</td>\n",
       "      <td>0.0000</td>\n",
       "    </tr>\n",
       "    <tr>\n",
       "      <th>0</th>\n",
       "      <td>19</td>\n",
       "      <td>9</td>\n",
       "      <td>fb03-087</td>\n",
       "      <td>59.103175</td>\n",
       "      <td>1.7425</td>\n",
       "      <td>0.00300</td>\n",
       "      <td>6200</td>\n",
       "      <td>3600</td>\n",
       "      <td>0.0000</td>\n",
       "      <td>0.0000</td>\n",
       "    </tr>\n",
       "    <tr>\n",
       "      <th>0</th>\n",
       "      <td>20</td>\n",
       "      <td>9</td>\n",
       "      <td>fb03-087</td>\n",
       "      <td>59.103526</td>\n",
       "      <td>1.7460</td>\n",
       "      <td>0.00325</td>\n",
       "      <td>6200</td>\n",
       "      <td>3600</td>\n",
       "      <td>0.0000</td>\n",
       "      <td>0.0010</td>\n",
       "    </tr>\n",
       "    <tr>\n",
       "      <th>0</th>\n",
       "      <td>21</td>\n",
       "      <td>10</td>\n",
       "      <td>fb03-087</td>\n",
       "      <td>63.752300</td>\n",
       "      <td>1.7470</td>\n",
       "      <td>0.00425</td>\n",
       "      <td>6200</td>\n",
       "      <td>3600</td>\n",
       "      <td>0.0000</td>\n",
       "      <td>0.0000</td>\n",
       "    </tr>\n",
       "    <tr>\n",
       "      <th>0</th>\n",
       "      <td>24</td>\n",
       "      <td>11</td>\n",
       "      <td>fb03-087</td>\n",
       "      <td>66.186944</td>\n",
       "      <td>1.7420</td>\n",
       "      <td>0.00425</td>\n",
       "      <td>6200</td>\n",
       "      <td>3600</td>\n",
       "      <td>0.0000</td>\n",
       "      <td>0.0000</td>\n",
       "    </tr>\n",
       "    <tr>\n",
       "      <th>0</th>\n",
       "      <td>27</td>\n",
       "      <td>14</td>\n",
       "      <td>fb03-087</td>\n",
       "      <td>76.018478</td>\n",
       "      <td>1.7460</td>\n",
       "      <td>0.00245</td>\n",
       "      <td>6200</td>\n",
       "      <td>3600</td>\n",
       "      <td>0.0000</td>\n",
       "      <td>0.0002</td>\n",
       "    </tr>\n",
       "    <tr>\n",
       "      <th>0</th>\n",
       "      <td>30</td>\n",
       "      <td>15</td>\n",
       "      <td>fb03-087</td>\n",
       "      <td>79.319850</td>\n",
       "      <td>1.7505</td>\n",
       "      <td>0.01000</td>\n",
       "      <td>6200</td>\n",
       "      <td>3600</td>\n",
       "      <td>0.0000</td>\n",
       "      <td>0.0000</td>\n",
       "    </tr>\n",
       "    <tr>\n",
       "      <th>0</th>\n",
       "      <td>31</td>\n",
       "      <td>15</td>\n",
       "      <td>fb03-087</td>\n",
       "      <td>79.320093</td>\n",
       "      <td>1.7445</td>\n",
       "      <td>0.00695</td>\n",
       "      <td>6200</td>\n",
       "      <td>3600</td>\n",
       "      <td>0.0000</td>\n",
       "      <td>-0.0008</td>\n",
       "    </tr>\n",
       "    <tr>\n",
       "      <th>0</th>\n",
       "      <td>37</td>\n",
       "      <td>17</td>\n",
       "      <td>fb03-087</td>\n",
       "      <td>85.987481</td>\n",
       "      <td>1.7545</td>\n",
       "      <td>0.00275</td>\n",
       "      <td>6200</td>\n",
       "      <td>3600</td>\n",
       "      <td>0.0000</td>\n",
       "      <td>0.0000</td>\n",
       "    </tr>\n",
       "    <tr>\n",
       "      <th>0</th>\n",
       "      <td>38</td>\n",
       "      <td>17</td>\n",
       "      <td>fb03-087</td>\n",
       "      <td>85.988544</td>\n",
       "      <td>1.7440</td>\n",
       "      <td>0.00050</td>\n",
       "      <td>6200</td>\n",
       "      <td>3600</td>\n",
       "      <td>0.0000</td>\n",
       "      <td>-0.0020</td>\n",
       "    </tr>\n",
       "    <tr>\n",
       "      <th>0</th>\n",
       "      <td>40</td>\n",
       "      <td>18</td>\n",
       "      <td>fb03-087</td>\n",
       "      <td>91.300839</td>\n",
       "      <td>1.7450</td>\n",
       "      <td>-0.00190</td>\n",
       "      <td>6200</td>\n",
       "      <td>3600</td>\n",
       "      <td>0.0000</td>\n",
       "      <td>0.0006</td>\n",
       "    </tr>\n",
       "    <tr>\n",
       "      <th>0</th>\n",
       "      <td>43</td>\n",
       "      <td>18</td>\n",
       "      <td>fb03-087</td>\n",
       "      <td>91.311134</td>\n",
       "      <td>1.7490</td>\n",
       "      <td>0.00425</td>\n",
       "      <td>6200</td>\n",
       "      <td>3600</td>\n",
       "      <td>-0.0005</td>\n",
       "      <td>0.0000</td>\n",
       "    </tr>\n",
       "    <tr>\n",
       "      <th>0</th>\n",
       "      <td>44</td>\n",
       "      <td>19</td>\n",
       "      <td>fb03-087</td>\n",
       "      <td>94.407337</td>\n",
       "      <td>1.7420</td>\n",
       "      <td>-0.00125</td>\n",
       "      <td>6200</td>\n",
       "      <td>3600</td>\n",
       "      <td>0.0000</td>\n",
       "      <td>0.0000</td>\n",
       "    </tr>\n",
       "    <tr>\n",
       "      <th>0</th>\n",
       "      <td>49</td>\n",
       "      <td>21</td>\n",
       "      <td>fb03-087</td>\n",
       "      <td>100.595542</td>\n",
       "      <td>1.7420</td>\n",
       "      <td>0.00325</td>\n",
       "      <td>6200</td>\n",
       "      <td>3600</td>\n",
       "      <td>0.0000</td>\n",
       "      <td>0.0000</td>\n",
       "    </tr>\n",
       "    <tr>\n",
       "      <th>0</th>\n",
       "      <td>50</td>\n",
       "      <td>21</td>\n",
       "      <td>fb03-087</td>\n",
       "      <td>100.595859</td>\n",
       "      <td>1.7475</td>\n",
       "      <td>0.00225</td>\n",
       "      <td>6200</td>\n",
       "      <td>3600</td>\n",
       "      <td>0.0000</td>\n",
       "      <td>0.0000</td>\n",
       "    </tr>\n",
       "    <tr>\n",
       "      <th>0</th>\n",
       "      <td>52</td>\n",
       "      <td>21</td>\n",
       "      <td>fb03-087</td>\n",
       "      <td>100.603364</td>\n",
       "      <td>1.7445</td>\n",
       "      <td>0.00535</td>\n",
       "      <td>6200</td>\n",
       "      <td>3600</td>\n",
       "      <td>0.0000</td>\n",
       "      <td>-0.0004</td>\n",
       "    </tr>\n",
       "    <tr>\n",
       "      <th>0</th>\n",
       "      <td>55</td>\n",
       "      <td>23</td>\n",
       "      <td>fb03-087</td>\n",
       "      <td>108.956828</td>\n",
       "      <td>1.7520</td>\n",
       "      <td>0.00175</td>\n",
       "      <td>6200</td>\n",
       "      <td>3600</td>\n",
       "      <td>0.0000</td>\n",
       "      <td>0.0000</td>\n",
       "    </tr>\n",
       "    <tr>\n",
       "      <th>0</th>\n",
       "      <td>59</td>\n",
       "      <td>25</td>\n",
       "      <td>fb03-087</td>\n",
       "      <td>116.237279</td>\n",
       "      <td>1.7420</td>\n",
       "      <td>0.00375</td>\n",
       "      <td>6200</td>\n",
       "      <td>3600</td>\n",
       "      <td>0.0000</td>\n",
       "      <td>0.0000</td>\n",
       "    </tr>\n",
       "    <tr>\n",
       "      <th>0</th>\n",
       "      <td>61</td>\n",
       "      <td>25</td>\n",
       "      <td>fb03-087</td>\n",
       "      <td>116.240316</td>\n",
       "      <td>1.7465</td>\n",
       "      <td>0.00350</td>\n",
       "      <td>6200</td>\n",
       "      <td>3600</td>\n",
       "      <td>0.0000</td>\n",
       "      <td>0.0010</td>\n",
       "    </tr>\n",
       "    <tr>\n",
       "      <th>0</th>\n",
       "      <td>62</td>\n",
       "      <td>26</td>\n",
       "      <td>fb03-087</td>\n",
       "      <td>120.778363</td>\n",
       "      <td>1.7465</td>\n",
       "      <td>0.00525</td>\n",
       "      <td>6200</td>\n",
       "      <td>3600</td>\n",
       "      <td>0.0000</td>\n",
       "      <td>0.0000</td>\n",
       "    </tr>\n",
       "    <tr>\n",
       "      <th>0</th>\n",
       "      <td>69</td>\n",
       "      <td>27</td>\n",
       "      <td>fb03-087</td>\n",
       "      <td>123.921717</td>\n",
       "      <td>1.7445</td>\n",
       "      <td>0.00030</td>\n",
       "      <td>6200</td>\n",
       "      <td>3600</td>\n",
       "      <td>0.0000</td>\n",
       "      <td>0.0008</td>\n",
       "    </tr>\n",
       "    <tr>\n",
       "      <th>0</th>\n",
       "      <td>72</td>\n",
       "      <td>29</td>\n",
       "      <td>fb03-087</td>\n",
       "      <td>130.734549</td>\n",
       "      <td>1.7465</td>\n",
       "      <td>0.00500</td>\n",
       "      <td>6200</td>\n",
       "      <td>3600</td>\n",
       "      <td>0.0000</td>\n",
       "      <td>0.0000</td>\n",
       "    </tr>\n",
       "    <tr>\n",
       "      <th>0</th>\n",
       "      <td>75</td>\n",
       "      <td>31</td>\n",
       "      <td>fb03-087</td>\n",
       "      <td>138.548313</td>\n",
       "      <td>1.7460</td>\n",
       "      <td>-0.00075</td>\n",
       "      <td>6200</td>\n",
       "      <td>3600</td>\n",
       "      <td>0.0000</td>\n",
       "      <td>0.0000</td>\n",
       "    </tr>\n",
       "    <tr>\n",
       "      <th>0</th>\n",
       "      <td>76</td>\n",
       "      <td>31</td>\n",
       "      <td>fb03-087</td>\n",
       "      <td>138.549526</td>\n",
       "      <td>1.7450</td>\n",
       "      <td>0.00125</td>\n",
       "      <td>6200</td>\n",
       "      <td>3600</td>\n",
       "      <td>0.0000</td>\n",
       "      <td>0.0000</td>\n",
       "    </tr>\n",
       "    <tr>\n",
       "      <th>0</th>\n",
       "      <td>77</td>\n",
       "      <td>31</td>\n",
       "      <td>fb03-087</td>\n",
       "      <td>138.550823</td>\n",
       "      <td>1.7470</td>\n",
       "      <td>0.00450</td>\n",
       "      <td>6200</td>\n",
       "      <td>3600</td>\n",
       "      <td>0.0000</td>\n",
       "      <td>0.0000</td>\n",
       "    </tr>\n",
       "    <tr>\n",
       "      <th>0</th>\n",
       "      <td>81</td>\n",
       "      <td>33</td>\n",
       "      <td>fb03-087</td>\n",
       "      <td>146.536956</td>\n",
       "      <td>1.7405</td>\n",
       "      <td>0.00225</td>\n",
       "      <td>6200</td>\n",
       "      <td>3600</td>\n",
       "      <td>0.0000</td>\n",
       "      <td>0.0000</td>\n",
       "    </tr>\n",
       "    <tr>\n",
       "      <th>0</th>\n",
       "      <td>85</td>\n",
       "      <td>34</td>\n",
       "      <td>fb03-087</td>\n",
       "      <td>151.699233</td>\n",
       "      <td>1.7430</td>\n",
       "      <td>-0.00275</td>\n",
       "      <td>6200</td>\n",
       "      <td>3600</td>\n",
       "      <td>0.0000</td>\n",
       "      <td>0.0000</td>\n",
       "    </tr>\n",
       "    <tr>\n",
       "      <th>0</th>\n",
       "      <td>88</td>\n",
       "      <td>35</td>\n",
       "      <td>fb03-087</td>\n",
       "      <td>161.097236</td>\n",
       "      <td>1.7470</td>\n",
       "      <td>0.00525</td>\n",
       "      <td>6200</td>\n",
       "      <td>3600</td>\n",
       "      <td>0.0000</td>\n",
       "      <td>0.0000</td>\n",
       "    </tr>\n",
       "    <tr>\n",
       "      <th>0</th>\n",
       "      <td>89</td>\n",
       "      <td>35</td>\n",
       "      <td>fb03-087</td>\n",
       "      <td>161.120129</td>\n",
       "      <td>1.7460</td>\n",
       "      <td>0.00225</td>\n",
       "      <td>6200</td>\n",
       "      <td>3600</td>\n",
       "      <td>0.0000</td>\n",
       "      <td>0.0000</td>\n",
       "    </tr>\n",
       "    <tr>\n",
       "      <th>0</th>\n",
       "      <td>95</td>\n",
       "      <td>37</td>\n",
       "      <td>fb03-087</td>\n",
       "      <td>167.286806</td>\n",
       "      <td>1.7460</td>\n",
       "      <td>0.00525</td>\n",
       "      <td>6200</td>\n",
       "      <td>3600</td>\n",
       "      <td>0.0000</td>\n",
       "      <td>0.0000</td>\n",
       "    </tr>\n",
       "    <tr>\n",
       "      <th>0</th>\n",
       "      <td>99</td>\n",
       "      <td>39</td>\n",
       "      <td>fb03-087</td>\n",
       "      <td>175.385552</td>\n",
       "      <td>1.7460</td>\n",
       "      <td>0.00375</td>\n",
       "      <td>6200</td>\n",
       "      <td>3600</td>\n",
       "      <td>0.0000</td>\n",
       "      <td>0.0000</td>\n",
       "    </tr>\n",
       "    <tr>\n",
       "      <th>0</th>\n",
       "      <td>100</td>\n",
       "      <td>39</td>\n",
       "      <td>fb03-087</td>\n",
       "      <td>175.391232</td>\n",
       "      <td>1.7455</td>\n",
       "      <td>0.00350</td>\n",
       "      <td>6200</td>\n",
       "      <td>3600</td>\n",
       "      <td>0.0000</td>\n",
       "      <td>0.0000</td>\n",
       "    </tr>\n",
       "    <tr>\n",
       "      <th>0</th>\n",
       "      <td>102</td>\n",
       "      <td>40</td>\n",
       "      <td>fb03-087</td>\n",
       "      <td>178.954635</td>\n",
       "      <td>1.7465</td>\n",
       "      <td>0.00300</td>\n",
       "      <td>6200</td>\n",
       "      <td>3600</td>\n",
       "      <td>0.0000</td>\n",
       "      <td>0.0000</td>\n",
       "    </tr>\n",
       "    <tr>\n",
       "      <th>0</th>\n",
       "      <td>109</td>\n",
       "      <td>42</td>\n",
       "      <td>fb03-087</td>\n",
       "      <td>190.160550</td>\n",
       "      <td>1.7465</td>\n",
       "      <td>0.00635</td>\n",
       "      <td>6200</td>\n",
       "      <td>3600</td>\n",
       "      <td>0.0000</td>\n",
       "      <td>-0.0004</td>\n",
       "    </tr>\n",
       "    <tr>\n",
       "      <th>0</th>\n",
       "      <td>110</td>\n",
       "      <td>43</td>\n",
       "      <td>fb03-087</td>\n",
       "      <td>193.772008</td>\n",
       "      <td>1.7550</td>\n",
       "      <td>0.00100</td>\n",
       "      <td>6200</td>\n",
       "      <td>3600</td>\n",
       "      <td>0.0000</td>\n",
       "      <td>0.0000</td>\n",
       "    </tr>\n",
       "    <tr>\n",
       "      <th>0</th>\n",
       "      <td>111</td>\n",
       "      <td>43</td>\n",
       "      <td>fb03-087</td>\n",
       "      <td>193.784249</td>\n",
       "      <td>1.7455</td>\n",
       "      <td>0.00500</td>\n",
       "      <td>6200</td>\n",
       "      <td>3600</td>\n",
       "      <td>0.0000</td>\n",
       "      <td>0.0000</td>\n",
       "    </tr>\n",
       "    <tr>\n",
       "      <th>0</th>\n",
       "      <td>118</td>\n",
       "      <td>46</td>\n",
       "      <td>fb03-087</td>\n",
       "      <td>211.102419</td>\n",
       "      <td>1.7430</td>\n",
       "      <td>-0.00150</td>\n",
       "      <td>6200</td>\n",
       "      <td>3600</td>\n",
       "      <td>0.0000</td>\n",
       "      <td>0.0000</td>\n",
       "    </tr>\n",
       "    <tr>\n",
       "      <th>0</th>\n",
       "      <td>120</td>\n",
       "      <td>49</td>\n",
       "      <td>fb03-087</td>\n",
       "      <td>225.890718</td>\n",
       "      <td>1.7470</td>\n",
       "      <td>0.00400</td>\n",
       "      <td>6200</td>\n",
       "      <td>3600</td>\n",
       "      <td>0.0000</td>\n",
       "      <td>0.0000</td>\n",
       "    </tr>\n",
       "    <tr>\n",
       "      <th>0</th>\n",
       "      <td>126</td>\n",
       "      <td>52</td>\n",
       "      <td>fb03-087</td>\n",
       "      <td>235.631525</td>\n",
       "      <td>1.7440</td>\n",
       "      <td>-0.00050</td>\n",
       "      <td>6200</td>\n",
       "      <td>3600</td>\n",
       "      <td>0.0000</td>\n",
       "      <td>0.0000</td>\n",
       "    </tr>\n",
       "    <tr>\n",
       "      <th>0</th>\n",
       "      <td>128</td>\n",
       "      <td>53</td>\n",
       "      <td>fb03-087</td>\n",
       "      <td>241.512940</td>\n",
       "      <td>1.7480</td>\n",
       "      <td>0.00625</td>\n",
       "      <td>6200</td>\n",
       "      <td>3600</td>\n",
       "      <td>0.0000</td>\n",
       "      <td>0.0000</td>\n",
       "    </tr>\n",
       "    <tr>\n",
       "      <th>0</th>\n",
       "      <td>129</td>\n",
       "      <td>54</td>\n",
       "      <td>fb03-087</td>\n",
       "      <td>245.071065</td>\n",
       "      <td>1.7435</td>\n",
       "      <td>0.00125</td>\n",
       "      <td>6200</td>\n",
       "      <td>3600</td>\n",
       "      <td>0.0000</td>\n",
       "      <td>0.0000</td>\n",
       "    </tr>\n",
       "    <tr>\n",
       "      <th>0</th>\n",
       "      <td>131</td>\n",
       "      <td>55</td>\n",
       "      <td>fb03-087</td>\n",
       "      <td>248.902044</td>\n",
       "      <td>1.7430</td>\n",
       "      <td>0.00000</td>\n",
       "      <td>6200</td>\n",
       "      <td>3600</td>\n",
       "      <td>0.0000</td>\n",
       "      <td>0.0000</td>\n",
       "    </tr>\n",
       "  </tbody>\n",
       "</table>\n",
       "</div>"
      ],
      "text/plain": [
       "  gougeevent_id stickslip_id    exprID  origin_time       X        Y     V  \\\n",
       "0             4            3  fb03-087    42.474772  1.7475  0.00505  6200   \n",
       "0             9            5  fb03-087    47.662693  1.7425  0.00375  6200   \n",
       "0            18            8  fb03-087    56.727044  1.7460  0.00375  6200   \n",
       "0            19            9  fb03-087    59.103175  1.7425  0.00300  6200   \n",
       "0            20            9  fb03-087    59.103526  1.7460  0.00325  6200   \n",
       "0            21           10  fb03-087    63.752300  1.7470  0.00425  6200   \n",
       "0            24           11  fb03-087    66.186944  1.7420  0.00425  6200   \n",
       "0            27           14  fb03-087    76.018478  1.7460  0.00245  6200   \n",
       "0            30           15  fb03-087    79.319850  1.7505  0.01000  6200   \n",
       "0            31           15  fb03-087    79.320093  1.7445  0.00695  6200   \n",
       "0            37           17  fb03-087    85.987481  1.7545  0.00275  6200   \n",
       "0            38           17  fb03-087    85.988544  1.7440  0.00050  6200   \n",
       "0            40           18  fb03-087    91.300839  1.7450 -0.00190  6200   \n",
       "0            43           18  fb03-087    91.311134  1.7490  0.00425  6200   \n",
       "0            44           19  fb03-087    94.407337  1.7420 -0.00125  6200   \n",
       "0            49           21  fb03-087   100.595542  1.7420  0.00325  6200   \n",
       "0            50           21  fb03-087   100.595859  1.7475  0.00225  6200   \n",
       "0            52           21  fb03-087   100.603364  1.7445  0.00535  6200   \n",
       "0            55           23  fb03-087   108.956828  1.7520  0.00175  6200   \n",
       "0            59           25  fb03-087   116.237279  1.7420  0.00375  6200   \n",
       "0            61           25  fb03-087   116.240316  1.7465  0.00350  6200   \n",
       "0            62           26  fb03-087   120.778363  1.7465  0.00525  6200   \n",
       "0            69           27  fb03-087   123.921717  1.7445  0.00030  6200   \n",
       "0            72           29  fb03-087   130.734549  1.7465  0.00500  6200   \n",
       "0            75           31  fb03-087   138.548313  1.7460 -0.00075  6200   \n",
       "0            76           31  fb03-087   138.549526  1.7450  0.00125  6200   \n",
       "0            77           31  fb03-087   138.550823  1.7470  0.00450  6200   \n",
       "0            81           33  fb03-087   146.536956  1.7405  0.00225  6200   \n",
       "0            85           34  fb03-087   151.699233  1.7430 -0.00275  6200   \n",
       "0            88           35  fb03-087   161.097236  1.7470  0.00525  6200   \n",
       "0            89           35  fb03-087   161.120129  1.7460  0.00225  6200   \n",
       "0            95           37  fb03-087   167.286806  1.7460  0.00525  6200   \n",
       "0            99           39  fb03-087   175.385552  1.7460  0.00375  6200   \n",
       "0           100           39  fb03-087   175.391232  1.7455  0.00350  6200   \n",
       "0           102           40  fb03-087   178.954635  1.7465  0.00300  6200   \n",
       "0           109           42  fb03-087   190.160550  1.7465  0.00635  6200   \n",
       "0           110           43  fb03-087   193.772008  1.7550  0.00100  6200   \n",
       "0           111           43  fb03-087   193.784249  1.7455  0.00500  6200   \n",
       "0           118           46  fb03-087   211.102419  1.7430 -0.00150  6200   \n",
       "0           120           49  fb03-087   225.890718  1.7470  0.00400  6200   \n",
       "0           126           52  fb03-087   235.631525  1.7440 -0.00050  6200   \n",
       "0           128           53  fb03-087   241.512940  1.7480  0.00625  6200   \n",
       "0           129           54  fb03-087   245.071065  1.7435  0.00125  6200   \n",
       "0           131           55  fb03-087   248.902044  1.7430  0.00000  6200   \n",
       "\n",
       "     Vs  dx_best  dy_best  \n",
       "0  3600   0.0000  -0.0002  \n",
       "0  3600   0.0000   0.0000  \n",
       "0  3600   0.0000   0.0000  \n",
       "0  3600   0.0000   0.0000  \n",
       "0  3600   0.0000   0.0010  \n",
       "0  3600   0.0000   0.0000  \n",
       "0  3600   0.0000   0.0000  \n",
       "0  3600   0.0000   0.0002  \n",
       "0  3600   0.0000   0.0000  \n",
       "0  3600   0.0000  -0.0008  \n",
       "0  3600   0.0000   0.0000  \n",
       "0  3600   0.0000  -0.0020  \n",
       "0  3600   0.0000   0.0006  \n",
       "0  3600  -0.0005   0.0000  \n",
       "0  3600   0.0000   0.0000  \n",
       "0  3600   0.0000   0.0000  \n",
       "0  3600   0.0000   0.0000  \n",
       "0  3600   0.0000  -0.0004  \n",
       "0  3600   0.0000   0.0000  \n",
       "0  3600   0.0000   0.0000  \n",
       "0  3600   0.0000   0.0010  \n",
       "0  3600   0.0000   0.0000  \n",
       "0  3600   0.0000   0.0008  \n",
       "0  3600   0.0000   0.0000  \n",
       "0  3600   0.0000   0.0000  \n",
       "0  3600   0.0000   0.0000  \n",
       "0  3600   0.0000   0.0000  \n",
       "0  3600   0.0000   0.0000  \n",
       "0  3600   0.0000   0.0000  \n",
       "0  3600   0.0000   0.0000  \n",
       "0  3600   0.0000   0.0000  \n",
       "0  3600   0.0000   0.0000  \n",
       "0  3600   0.0000   0.0000  \n",
       "0  3600   0.0000   0.0000  \n",
       "0  3600   0.0000   0.0000  \n",
       "0  3600   0.0000  -0.0004  \n",
       "0  3600   0.0000   0.0000  \n",
       "0  3600   0.0000   0.0000  \n",
       "0  3600   0.0000   0.0000  \n",
       "0  3600   0.0000   0.0000  \n",
       "0  3600   0.0000   0.0000  \n",
       "0  3600   0.0000   0.0000  \n",
       "0  3600   0.0000   0.0000  \n",
       "0  3600   0.0000   0.0000  "
      ]
     },
     "execution_count": 8,
     "metadata": {},
     "output_type": "execute_result"
    }
   ],
   "source": [
    "df_event"
   ]
  },
  {
   "cell_type": "code",
   "execution_count": 9,
   "id": "166d993b",
   "metadata": {},
   "outputs": [],
   "source": [
    "df_event.to_csv(os.path.join(csvdir, \"AE_obs_location.csv\"), index=False, float_format='%12.8f')"
   ]
  },
  {
   "cell_type": "code",
   "execution_count": 10,
   "id": "3bc96bba",
   "metadata": {},
   "outputs": [
    {
     "data": {
      "text/plain": [
       "'../data/datacsv'"
      ]
     },
     "execution_count": 10,
     "metadata": {},
     "output_type": "execute_result"
    }
   ],
   "source": [
    "csvdir"
   ]
  },
  {
   "cell_type": "markdown",
   "id": "5d843c52",
   "metadata": {},
   "source": [
    "**Next:**  map to isocoord and compute green's function."
   ]
  },
  {
   "cell_type": "markdown",
   "id": "3c43fa7e",
   "metadata": {},
   "source": [
    "# read the saved data"
   ]
  },
  {
   "cell_type": "code",
   "execution_count": 11,
   "id": "b7b43d7c",
   "metadata": {},
   "outputs": [],
   "source": [
    "st1= read(os.path.join(outdir, \"obs_waveform_event__fb03-087__0062.pickle\"), format=\"PICKLE\")"
   ]
  },
  {
   "cell_type": "code",
   "execution_count": 12,
   "id": "b9860d93",
   "metadata": {
    "scrolled": true
   },
   "outputs": [
    {
     "data": {
      "text/plain": [
       "[<matplotlib.lines.Line2D at 0x7f7e11962a60>]"
      ]
     },
     "execution_count": 12,
     "metadata": {},
     "output_type": "execute_result"
    },
    {
     "data": {
      "application/vnd.jupyter.widget-view+json": {
       "model_id": "26598fe02f9c4250a48d8e153b37de80",
       "version_major": 2,
       "version_minor": 0
      },
      "image/png": "[encoded data removed]",
      "text/html": [
       "\n",
       "            <div style=\"display: inline-block;\">\n",
       "                <div class=\"jupyter-widgets widget-label\" style=\"text-align: center;\">\n",
       "                    Figure\n",
       "                </div>\n",
       "                <img src='data:image/png;base64,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' width=800.0/>\n",
       "            </div>\n",
       "        "
      ],
      "text/plain": [
       "Canvas(toolbar=Toolbar(toolitems=[('Home', 'Reset original view', 'home', 'home'), ('Back', 'Back to previous …"
      ]
     },
     "metadata": {},
     "output_type": "display_data"
    }
   ],
   "source": [
    "fig, ax = plt.subplots(figsize=(8,3))\n",
    "tvec = st1[8].times()*1e3\n",
    "ax.plot(tvec, st1[7].data, \"k-\")\n",
    "\n",
    "\n",
    "# ax.set_xlim([1, 1.1])"
   ]
  },
  {
   "cell_type": "code",
   "execution_count": null,
   "id": "d428aa8d",
   "metadata": {},
   "outputs": [],
   "source": []
  },
  {
   "cell_type": "code",
   "execution_count": null,
   "id": "a989102f",
   "metadata": {},
   "outputs": [],
   "source": []
  }
 ],
 "metadata": {
  "kernelspec": {
   "display_name": "Python 3 (ipykernel)",
   "language": "python",
   "name": "python3"
  },
  "language_info": {
   "codemirror_mode": {
    "name": "ipython",
    "version": 3
   },
   "file_extension": ".py",
   "mimetype": "text/x-python",
   "name": "python",
   "nbconvert_exporter": "python",
   "pygments_lexer": "ipython3",
   "version": "3.8.12"
  }
 },
 "nbformat": 4,
 "nbformat_minor": 5
}

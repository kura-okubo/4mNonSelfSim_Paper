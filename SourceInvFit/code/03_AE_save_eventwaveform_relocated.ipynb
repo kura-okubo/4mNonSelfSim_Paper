{
 "cells": [
  {
   "cell_type": "markdown",
   "id": "609c7fea",
   "metadata": {},
   "source": [
    "# Save events of AEs\n",
    "\n",
    "- Load the waveform from the pick and location output and save into pickle.\n",
    "\n",
    "- upddated: use relocated file\n",
    "\n",
    "- 2023.10.22 update for fb03-087\n",
    "- 2024.10.31 update for the merged catalog"
   ]
  },
  {
   "cell_type": "code",
   "execution_count": 1,
   "id": "eeaed4c5",
   "metadata": {},
   "outputs": [],
   "source": [
    "import os\n",
    "import obspy\n",
    "from obspy import read, Stream, Trace\n",
    "from scipy import signal\n",
    "import matplotlib.pyplot as plt\n",
    "import glob\n",
    "from glob import glob\n",
    "import numpy as np\n",
    "import pandas as pd\n",
    "import datetime\n",
    "from datetime import timedelta\n",
    "from tqdm import tqdm\n",
    "import pickle\n",
    "import warnings\n",
    "from obspy.core.utcdatetime import UTCDateTime    \n",
    "from matplotlib import cm\n",
    "import matplotlib as mpl\n",
    "import scipy.io as sio\n",
    "\n",
    "%matplotlib inline\n",
    "\n",
    "%load_ext autoreload\n",
    "%autoreload 2\n",
    "\n",
    "import time\n",
    "\n",
    "from AE_compute_location_func import store_trace\n",
    "\n",
    "plt.rcParams[\"font.family\"] = \"Arial\"\n",
    "plt.rcParams[\"font.size\"] = 12\n",
    "os.environ['TZ'] = 'GMT' # change time zone to avoid confusion in unix_tvec conversion\n",
    "\n",
    "UTCDateTime.DEFAULT_PRECISION = 8 # increase the time precision\n"
   ]
  },
  {
   "cell_type": "code",
   "execution_count": 2,
   "id": "fa203de5",
   "metadata": {},
   "outputs": [],
   "source": [
    "figdir = \"../figure/AElocation\"\n",
    "if not os.path.exists(figdir):\n",
    "    os.makedirs(figdir)"
   ]
  },
  {
   "cell_type": "code",
   "execution_count": 3,
   "id": "23468bb9",
   "metadata": {},
   "outputs": [],
   "source": [
    "# Directory for picked waveforms\n",
    "datadir = \"../data/AElocation\"\n",
    "\n",
    "# Data outputdir\n",
    "outdir = \"../data/03_AEobs_waveform\"\n",
    "\n",
    "# channel table\n",
    "channel_finame = '../../Others/AEchanneltable/AEsensorlocation_onFB03_table.csv'\n",
    "\n",
    "if not os.path.exists(outdir):\n",
    "    os.makedirs(outdir)\n",
    "    \n",
    "csvdir =  \"../data/datacsv\"\n",
    "if not os.path.exists(csvdir):\n",
    "    os.makedirs(csvdir)"
   ]
  },
  {
   "cell_type": "code",
   "execution_count": 4,
   "id": "53604fc3",
   "metadata": {},
   "outputs": [],
   "source": [
    "# Paramters\n",
    "fs      = 10e6 #[Hz] Sampling frequency of data\n",
    "Nsensor = 32 # Number of sensors\n",
    "st_stats = UTCDateTime(2023, 5, 29) # starttime for the stats of trace: used to synchronize the data. Should be same with picking script.\n",
    "expr_id= 87 # casename of experiment\n",
    "\n",
    "ev_twinlen = 0.4e-3 #[s] window length of event\n",
    "ev_pretrigger = 0.1e-3 #[s] duration of pretrigger\n",
    "\n",
    "ev_twinlen_k = np.round(ev_twinlen*fs)"
   ]
  },
  {
   "cell_type": "markdown",
   "id": "4fc2af9c",
   "metadata": {},
   "source": [
    "## Read channel array"
   ]
  },
  {
   "cell_type": "code",
   "execution_count": 5,
   "id": "d745ed4e",
   "metadata": {},
   "outputs": [],
   "source": [
    "df_array = pd.read_csv(channel_finame)\n",
    "\n",
    "channel_loc={}\n",
    "\n",
    "for i in range(len(df_array)):\n",
    "    stnm = df_array.iloc[i].Instrument_Label\n",
    "    xtemp = df_array.iloc[i].North.astype('float')\n",
    "    ytemp = df_array.iloc[i].East.astype('float')\n",
    "    ztemp = df_array.iloc[i].Down.astype('float')\n",
    "    channel_loc[stnm] = [xtemp, ytemp, ztemp]\n",
    "    \n",
    "Nsensor = len(channel_loc)\n",
    "# channel_loc"
   ]
  },
  {
   "cell_type": "markdown",
   "id": "03f7fc95-f145-42d8-9fcb-bf05f629b96a",
   "metadata": {},
   "source": [
    "## Read catalog"
   ]
  },
  {
   "cell_type": "code",
   "execution_count": 6,
   "id": "42300375-15bc-48dd-8f84-797bc9403ca4",
   "metadata": {},
   "outputs": [
    {
     "data": {
      "text/html": [
       "<div>\n",
       "<style scoped>\n",
       "    .dataframe tbody tr th:only-of-type {\n",
       "        vertical-align: middle;\n",
       "    }\n",
       "\n",
       "    .dataframe tbody tr th {\n",
       "        vertical-align: top;\n",
       "    }\n",
       "\n",
       "    .dataframe thead th {\n",
       "        text-align: right;\n",
       "    }\n",
       "</style>\n",
       "<table border=\"1\" class=\"dataframe\">\n",
       "  <thead>\n",
       "    <tr style=\"text-align: right;\">\n",
       "      <th></th>\n",
       "      <th>expr_id</th>\n",
       "      <th>event_id</th>\n",
       "      <th>event_loc</th>\n",
       "      <th>picktime</th>\n",
       "      <th>event_type</th>\n",
       "      <th>rupturetype</th>\n",
       "      <th>gougeevent_id</th>\n",
       "      <th>doublecheck</th>\n",
       "      <th>old_gougeevent_id</th>\n",
       "    </tr>\n",
       "  </thead>\n",
       "  <tbody>\n",
       "    <tr>\n",
       "      <th>0</th>\n",
       "      <td>fb03-087</td>\n",
       "      <td>2</td>\n",
       "      <td>2.75</td>\n",
       "      <td>41.02500</td>\n",
       "      <td>LFE</td>\n",
       "      <td>2</td>\n",
       "      <td>0</td>\n",
       "      <td>1</td>\n",
       "      <td>0</td>\n",
       "    </tr>\n",
       "    <tr>\n",
       "      <th>1</th>\n",
       "      <td>fb03-087</td>\n",
       "      <td>3</td>\n",
       "      <td>1.25</td>\n",
       "      <td>42.46400</td>\n",
       "      <td>LFE</td>\n",
       "      <td>1</td>\n",
       "      <td>1</td>\n",
       "      <td>1</td>\n",
       "      <td>1</td>\n",
       "    </tr>\n",
       "    <tr>\n",
       "      <th>2</th>\n",
       "      <td>fb03-087</td>\n",
       "      <td>3</td>\n",
       "      <td>1.25</td>\n",
       "      <td>42.46450</td>\n",
       "      <td>Ordinary</td>\n",
       "      <td>1</td>\n",
       "      <td>2</td>\n",
       "      <td>1</td>\n",
       "      <td>2</td>\n",
       "    </tr>\n",
       "    <tr>\n",
       "      <th>3</th>\n",
       "      <td>fb03-087</td>\n",
       "      <td>3</td>\n",
       "      <td>3.25</td>\n",
       "      <td>42.46790</td>\n",
       "      <td>Ordinary</td>\n",
       "      <td>1</td>\n",
       "      <td>3</td>\n",
       "      <td>1</td>\n",
       "      <td>212</td>\n",
       "    </tr>\n",
       "    <tr>\n",
       "      <th>4</th>\n",
       "      <td>fb03-087</td>\n",
       "      <td>3</td>\n",
       "      <td>1.75</td>\n",
       "      <td>42.47475</td>\n",
       "      <td>Ordinary</td>\n",
       "      <td>1</td>\n",
       "      <td>4</td>\n",
       "      <td>1</td>\n",
       "      <td>3</td>\n",
       "    </tr>\n",
       "  </tbody>\n",
       "</table>\n",
       "</div>"
      ],
      "text/plain": [
       "    expr_id  event_id  event_loc  picktime event_type  rupturetype  \\\n",
       "0  fb03-087         2       2.75  41.02500        LFE            2   \n",
       "1  fb03-087         3       1.25  42.46400        LFE            1   \n",
       "2  fb03-087         3       1.25  42.46450   Ordinary            1   \n",
       "3  fb03-087         3       3.25  42.46790   Ordinary            1   \n",
       "4  fb03-087         3       1.75  42.47475   Ordinary            1   \n",
       "\n",
       "   gougeevent_id  doublecheck  old_gougeevent_id  \n",
       "0              0            1                  0  \n",
       "1              1            1                  1  \n",
       "2              2            1                  2  \n",
       "3              3            1                212  \n",
       "4              4            1                  3  "
      ]
     },
     "execution_count": 6,
     "metadata": {},
     "output_type": "execute_result"
    }
   ],
   "source": [
    "# Read picked catalog\n",
    "# Read the csv pick datasheet\n",
    "fi_catalog=\"../../Experiments/DetectEvent/data/p06_visual_pick_gougeevents_merged.csv\"\n",
    "columns = [\"expr_id\", \"event_id\", \"event_loc\", \"picktime\", \"event_type\", \"rupturetype\", \"gougeevent_id\", \"doublecheck\", \"old_gougeevent_id\"]\n",
    "df_catalog = pd.read_csv(fi_catalog, skiprows=5, names=columns)\n",
    "df_expr = df_catalog[(df_catalog[\"expr_id\"]==f\"fb03-{expr_id:03d}\")]\n",
    "df_expr.head()"
   ]
  },
  {
   "cell_type": "markdown",
   "id": "71f1072c",
   "metadata": {},
   "source": [
    "# Read location and pick time\n",
    "\n",
    "skip the event if the time window is too close (overlapped) because they are identical events."
   ]
  },
  {
   "cell_type": "code",
   "execution_count": 16,
   "id": "36e5741b",
   "metadata": {},
   "outputs": [
    {
     "name": "stdout",
     "output_type": "stream",
     "text": [
      "start processing event 0004\n",
      "[[42.47477226]]\n"
     ]
    },
    {
     "name": "stderr",
     "output_type": "stream",
     "text": [
      "100%|████████████████████████████████████████| 32/32 [00:00<00:00, 39028.13it/s]"
     ]
    },
    {
     "name": "stdout",
     "output_type": "stream",
     "text": [
      "start processing event 0009\n"
     ]
    },
    {
     "name": "stderr",
     "output_type": "stream",
     "text": [
      "\n"
     ]
    },
    {
     "name": "stdout",
     "output_type": "stream",
     "text": [
      "[[47.66269341]]\n"
     ]
    },
    {
     "name": "stderr",
     "output_type": "stream",
     "text": [
      "100%|████████████████████████████████████████| 32/32 [00:00<00:00, 40500.22it/s]"
     ]
    },
    {
     "name": "stdout",
     "output_type": "stream",
     "text": [
      "start processing event 0018\n"
     ]
    },
    {
     "name": "stderr",
     "output_type": "stream",
     "text": [
      "\n"
     ]
    },
    {
     "name": "stdout",
     "output_type": "stream",
     "text": [
      "[[56.72704421]]\n"
     ]
    },
    {
     "name": "stderr",
     "output_type": "stream",
     "text": [
      "100%|████████████████████████████████████████| 32/32 [00:00<00:00, 41656.65it/s]"
     ]
    },
    {
     "name": "stdout",
     "output_type": "stream",
     "text": [
      "start processing event 0019\n"
     ]
    },
    {
     "name": "stderr",
     "output_type": "stream",
     "text": [
      "\n"
     ]
    },
    {
     "name": "stdout",
     "output_type": "stream",
     "text": [
      "[[59.10317481]]\n"
     ]
    },
    {
     "name": "stderr",
     "output_type": "stream",
     "text": [
      "100%|████████████████████████████████████████| 32/32 [00:00<00:00, 40672.04it/s]"
     ]
    },
    {
     "name": "stdout",
     "output_type": "stream",
     "text": [
      "start processing event 0020\n"
     ]
    },
    {
     "name": "stderr",
     "output_type": "stream",
     "text": [
      "\n"
     ]
    },
    {
     "name": "stdout",
     "output_type": "stream",
     "text": [
      "[[59.10352595]]\n"
     ]
    },
    {
     "name": "stderr",
     "output_type": "stream",
     "text": [
      "100%|████████████████████████████████████████| 32/32 [00:00<00:00, 39709.39it/s]"
     ]
    },
    {
     "name": "stdout",
     "output_type": "stream",
     "text": [
      "start processing event 0021\n"
     ]
    },
    {
     "name": "stderr",
     "output_type": "stream",
     "text": [
      "\n"
     ]
    },
    {
     "name": "stdout",
     "output_type": "stream",
     "text": [
      "[[63.75229995]]\n"
     ]
    },
    {
     "name": "stderr",
     "output_type": "stream",
     "text": [
      "100%|████████████████████████████████████████| 32/32 [00:00<00:00, 41171.08it/s]"
     ]
    },
    {
     "name": "stdout",
     "output_type": "stream",
     "text": [
      "start processing event 0024\n"
     ]
    },
    {
     "name": "stderr",
     "output_type": "stream",
     "text": [
      "\n"
     ]
    },
    {
     "name": "stdout",
     "output_type": "stream",
     "text": [
      "[[66.18694386]]\n"
     ]
    },
    {
     "name": "stderr",
     "output_type": "stream",
     "text": [
      "100%|████████████████████████████████████████| 32/32 [00:00<00:00, 41247.00it/s]"
     ]
    },
    {
     "name": "stdout",
     "output_type": "stream",
     "text": [
      "start processing event 0027\n"
     ]
    },
    {
     "name": "stderr",
     "output_type": "stream",
     "text": [
      "\n"
     ]
    },
    {
     "name": "stdout",
     "output_type": "stream",
     "text": [
      "[[76.01847775]]\n"
     ]
    },
    {
     "name": "stderr",
     "output_type": "stream",
     "text": [
      "100%|████████████████████████████████████████| 32/32 [00:00<00:00, 41082.87it/s]"
     ]
    },
    {
     "name": "stdout",
     "output_type": "stream",
     "text": [
      "start processing event 0030\n"
     ]
    },
    {
     "name": "stderr",
     "output_type": "stream",
     "text": [
      "\n"
     ]
    },
    {
     "name": "stdout",
     "output_type": "stream",
     "text": [
      "[[79.31984989]]\n"
     ]
    },
    {
     "name": "stderr",
     "output_type": "stream",
     "text": [
      "100%|████████████████████████████████████████| 32/32 [00:00<00:00, 38054.36it/s]"
     ]
    },
    {
     "name": "stdout",
     "output_type": "stream",
     "text": [
      "start processing event 0031\n"
     ]
    },
    {
     "name": "stderr",
     "output_type": "stream",
     "text": [
      "\n"
     ]
    },
    {
     "name": "stdout",
     "output_type": "stream",
     "text": [
      "[[79.32009303]]\n"
     ]
    },
    {
     "name": "stderr",
     "output_type": "stream",
     "text": [
      "100%|████████████████████████████████████████| 32/32 [00:00<00:00, 20216.56it/s]"
     ]
    },
    {
     "name": "stdout",
     "output_type": "stream",
     "text": [
      "start processing event 0037\n"
     ]
    },
    {
     "name": "stderr",
     "output_type": "stream",
     "text": [
      "\n"
     ]
    },
    {
     "name": "stdout",
     "output_type": "stream",
     "text": [
      "[[85.98748076]]\n"
     ]
    },
    {
     "name": "stderr",
     "output_type": "stream",
     "text": [
      "100%|████████████████████████████████████████| 32/32 [00:00<00:00, 40354.10it/s]"
     ]
    },
    {
     "name": "stdout",
     "output_type": "stream",
     "text": [
      "start processing event 0038\n"
     ]
    },
    {
     "name": "stderr",
     "output_type": "stream",
     "text": [
      "\n"
     ]
    },
    {
     "name": "stdout",
     "output_type": "stream",
     "text": [
      "[[85.98854365]]\n"
     ]
    },
    {
     "name": "stderr",
     "output_type": "stream",
     "text": [
      "100%|████████████████████████████████████████| 32/32 [00:00<00:00, 34195.60it/s]"
     ]
    },
    {
     "name": "stdout",
     "output_type": "stream",
     "text": [
      "start processing event 0040\n"
     ]
    },
    {
     "name": "stderr",
     "output_type": "stream",
     "text": [
      "\n"
     ]
    },
    {
     "name": "stdout",
     "output_type": "stream",
     "text": [
      "[[91.3008389]]\n"
     ]
    },
    {
     "name": "stderr",
     "output_type": "stream",
     "text": [
      "100%|████████████████████████████████████████| 32/32 [00:00<00:00, 39768.22it/s]"
     ]
    },
    {
     "name": "stdout",
     "output_type": "stream",
     "text": [
      "start processing event 0043\n"
     ]
    },
    {
     "name": "stderr",
     "output_type": "stream",
     "text": [
      "\n"
     ]
    },
    {
     "name": "stdout",
     "output_type": "stream",
     "text": [
      "[[91.31113376]]\n"
     ]
    },
    {
     "name": "stderr",
     "output_type": "stream",
     "text": [
      "100%|████████████████████████████████████████| 32/32 [00:00<00:00, 40709.05it/s]"
     ]
    },
    {
     "name": "stdout",
     "output_type": "stream",
     "text": [
      "start processing event 0044\n"
     ]
    },
    {
     "name": "stderr",
     "output_type": "stream",
     "text": [
      "\n"
     ]
    },
    {
     "name": "stdout",
     "output_type": "stream",
     "text": [
      "[[94.40733748]]\n"
     ]
    },
    {
     "name": "stderr",
     "output_type": "stream",
     "text": [
      "100%|████████████████████████████████████████| 32/32 [00:00<00:00, 40808.07it/s]"
     ]
    },
    {
     "name": "stdout",
     "output_type": "stream",
     "text": [
      "start processing event 0049\n"
     ]
    },
    {
     "name": "stderr",
     "output_type": "stream",
     "text": [
      "\n"
     ]
    },
    {
     "name": "stdout",
     "output_type": "stream",
     "text": [
      "[[100.59554237]]\n"
     ]
    },
    {
     "name": "stderr",
     "output_type": "stream",
     "text": [
      "100%|████████████████████████████████████████| 32/32 [00:00<00:00, 35283.31it/s]"
     ]
    },
    {
     "name": "stdout",
     "output_type": "stream",
     "text": [
      "start processing event 0050\n"
     ]
    },
    {
     "name": "stderr",
     "output_type": "stream",
     "text": [
      "\n"
     ]
    },
    {
     "name": "stdout",
     "output_type": "stream",
     "text": [
      "[[100.5958589]]\n"
     ]
    },
    {
     "name": "stderr",
     "output_type": "stream",
     "text": [
      "100%|████████████████████████████████████████| 32/32 [00:00<00:00, 39452.59it/s]"
     ]
    },
    {
     "name": "stdout",
     "output_type": "stream",
     "text": [
      "start processing event 0052\n"
     ]
    },
    {
     "name": "stderr",
     "output_type": "stream",
     "text": [
      "\n"
     ]
    },
    {
     "name": "stdout",
     "output_type": "stream",
     "text": [
      "[[100.60336415]]\n"
     ]
    },
    {
     "name": "stderr",
     "output_type": "stream",
     "text": [
      "100%|████████████████████████████████████████| 32/32 [00:00<00:00, 40005.28it/s]"
     ]
    },
    {
     "name": "stdout",
     "output_type": "stream",
     "text": [
      "start processing event 0055\n"
     ]
    },
    {
     "name": "stderr",
     "output_type": "stream",
     "text": [
      "\n"
     ]
    },
    {
     "name": "stdout",
     "output_type": "stream",
     "text": [
      "[[108.95682766]]\n"
     ]
    },
    {
     "name": "stderr",
     "output_type": "stream",
     "text": [
      "100%|████████████████████████████████████████| 32/32 [00:00<00:00, 41361.40it/s]"
     ]
    },
    {
     "name": "stdout",
     "output_type": "stream",
     "text": [
      "start processing event 0059\n"
     ]
    },
    {
     "name": "stderr",
     "output_type": "stream",
     "text": [
      "\n"
     ]
    },
    {
     "name": "stdout",
     "output_type": "stream",
     "text": [
      "[[116.23727944]]\n"
     ]
    },
    {
     "name": "stderr",
     "output_type": "stream",
     "text": [
      "100%|████████████████████████████████████████| 32/32 [00:00<00:00, 40257.27it/s]"
     ]
    },
    {
     "name": "stdout",
     "output_type": "stream",
     "text": [
      "start processing event 0061\n"
     ]
    },
    {
     "name": "stderr",
     "output_type": "stream",
     "text": [
      "\n"
     ]
    },
    {
     "name": "stdout",
     "output_type": "stream",
     "text": [
      "[[116.24031616]]\n"
     ]
    },
    {
     "name": "stderr",
     "output_type": "stream",
     "text": [
      "100%|████████████████████████████████████████| 32/32 [00:00<00:00, 41463.62it/s]"
     ]
    },
    {
     "name": "stdout",
     "output_type": "stream",
     "text": [
      "start processing event 0062\n"
     ]
    },
    {
     "name": "stderr",
     "output_type": "stream",
     "text": [
      "\n"
     ]
    },
    {
     "name": "stdout",
     "output_type": "stream",
     "text": [
      "[[120.7783635]]\n"
     ]
    },
    {
     "name": "stderr",
     "output_type": "stream",
     "text": [
      "100%|█████████████████████████████████████████| 32/32 [00:00<00:00, 7712.78it/s]"
     ]
    },
    {
     "name": "stdout",
     "output_type": "stream",
     "text": [
      "start processing event 0069\n"
     ]
    },
    {
     "name": "stderr",
     "output_type": "stream",
     "text": [
      "\n"
     ]
    },
    {
     "name": "stdout",
     "output_type": "stream",
     "text": [
      "[[123.92171733]]\n"
     ]
    },
    {
     "name": "stderr",
     "output_type": "stream",
     "text": [
      "100%|████████████████████████████████████████| 32/32 [00:00<00:00, 41234.33it/s]"
     ]
    },
    {
     "name": "stdout",
     "output_type": "stream",
     "text": [
      "start processing event 0072\n"
     ]
    },
    {
     "name": "stderr",
     "output_type": "stream",
     "text": [
      "\n"
     ]
    },
    {
     "name": "stdout",
     "output_type": "stream",
     "text": [
      "[[130.7345489]]\n"
     ]
    },
    {
     "name": "stderr",
     "output_type": "stream",
     "text": [
      "100%|████████████████████████████████████████| 32/32 [00:00<00:00, 40970.00it/s]"
     ]
    },
    {
     "name": "stdout",
     "output_type": "stream",
     "text": [
      "start processing event 0075\n"
     ]
    },
    {
     "name": "stderr",
     "output_type": "stream",
     "text": [
      "\n"
     ]
    },
    {
     "name": "stdout",
     "output_type": "stream",
     "text": [
      "[[138.54831321]]\n"
     ]
    },
    {
     "name": "stderr",
     "output_type": "stream",
     "text": [
      "100%|████████████████████████████████████████| 32/32 [00:00<00:00, 41020.09it/s]"
     ]
    },
    {
     "name": "stdout",
     "output_type": "stream",
     "text": [
      "start processing event 0076\n"
     ]
    },
    {
     "name": "stderr",
     "output_type": "stream",
     "text": [
      "\n"
     ]
    },
    {
     "name": "stdout",
     "output_type": "stream",
     "text": [
      "[[138.54952552]]\n"
     ]
    },
    {
     "name": "stderr",
     "output_type": "stream",
     "text": [
      "100%|████████████████████████████████████████| 32/32 [00:00<00:00, 40647.40it/s]"
     ]
    },
    {
     "name": "stdout",
     "output_type": "stream",
     "text": [
      "start processing event 0077\n"
     ]
    },
    {
     "name": "stderr",
     "output_type": "stream",
     "text": [
      "\n"
     ]
    },
    {
     "name": "stdout",
     "output_type": "stream",
     "text": [
      "[[138.55082272]]\n"
     ]
    },
    {
     "name": "stderr",
     "output_type": "stream",
     "text": [
      "100%|████████████████████████████████████████| 32/32 [00:00<00:00, 41438.01it/s]"
     ]
    },
    {
     "name": "stdout",
     "output_type": "stream",
     "text": [
      "start processing event 0081\n"
     ]
    },
    {
     "name": "stderr",
     "output_type": "stream",
     "text": [
      "\n"
     ]
    },
    {
     "name": "stdout",
     "output_type": "stream",
     "text": [
      "[[146.53695619]]\n"
     ]
    },
    {
     "name": "stderr",
     "output_type": "stream",
     "text": [
      "100%|████████████████████████████████████████| 32/32 [00:00<00:00, 41386.90it/s]"
     ]
    },
    {
     "name": "stdout",
     "output_type": "stream",
     "text": [
      "start processing event 0085\n"
     ]
    },
    {
     "name": "stderr",
     "output_type": "stream",
     "text": [
      "\n"
     ]
    },
    {
     "name": "stdout",
     "output_type": "stream",
     "text": [
      "[[151.699233]]\n"
     ]
    },
    {
     "name": "stderr",
     "output_type": "stream",
     "text": [
      "100%|████████████████████████████████████████| 32/32 [00:00<00:00, 41082.87it/s]"
     ]
    },
    {
     "name": "stdout",
     "output_type": "stream",
     "text": [
      "start processing event 0088\n"
     ]
    },
    {
     "name": "stderr",
     "output_type": "stream",
     "text": [
      "\n"
     ]
    },
    {
     "name": "stdout",
     "output_type": "stream",
     "text": [
      "[[161.09723646]]\n"
     ]
    },
    {
     "name": "stderr",
     "output_type": "stream",
     "text": [
      "100%|████████████████████████████████████████| 32/32 [00:00<00:00, 40970.00it/s]"
     ]
    },
    {
     "name": "stdout",
     "output_type": "stream",
     "text": [
      "start processing event 0089\n"
     ]
    },
    {
     "name": "stderr",
     "output_type": "stream",
     "text": [
      "\n"
     ]
    },
    {
     "name": "stdout",
     "output_type": "stream",
     "text": [
      "[[161.12012935]]\n"
     ]
    },
    {
     "name": "stderr",
     "output_type": "stream",
     "text": [
      "100%|████████████████████████████████████████| 32/32 [00:00<00:00, 41605.00it/s]"
     ]
    },
    {
     "name": "stdout",
     "output_type": "stream",
     "text": [
      "start processing event 0095\n"
     ]
    },
    {
     "name": "stderr",
     "output_type": "stream",
     "text": [
      "\n"
     ]
    },
    {
     "name": "stdout",
     "output_type": "stream",
     "text": [
      "[[167.28680558]]\n"
     ]
    },
    {
     "name": "stderr",
     "output_type": "stream",
     "text": [
      "100%|████████████████████████████████████████| 32/32 [00:00<00:00, 39697.64it/s]"
     ]
    },
    {
     "name": "stdout",
     "output_type": "stream",
     "text": [
      "start processing event 0099\n"
     ]
    },
    {
     "name": "stderr",
     "output_type": "stream",
     "text": [
      "\n"
     ]
    },
    {
     "name": "stdout",
     "output_type": "stream",
     "text": [
      "[[175.38555241]]\n"
     ]
    },
    {
     "name": "stderr",
     "output_type": "stream",
     "text": [
      "100%|████████████████████████████████████████| 32/32 [00:00<00:00, 40770.88it/s]"
     ]
    },
    {
     "name": "stdout",
     "output_type": "stream",
     "text": [
      "start processing event 0100\n"
     ]
    },
    {
     "name": "stderr",
     "output_type": "stream",
     "text": [
      "\n"
     ]
    },
    {
     "name": "stdout",
     "output_type": "stream",
     "text": [
      "[[175.39123172]]\n"
     ]
    },
    {
     "name": "stderr",
     "output_type": "stream",
     "text": [
      "100%|████████████████████████████████████████| 32/32 [00:00<00:00, 41247.00it/s]"
     ]
    },
    {
     "name": "stdout",
     "output_type": "stream",
     "text": [
      "start processing event 0102\n"
     ]
    },
    {
     "name": "stderr",
     "output_type": "stream",
     "text": [
      "\n"
     ]
    },
    {
     "name": "stdout",
     "output_type": "stream",
     "text": [
      "[[178.95463471]]\n"
     ]
    },
    {
     "name": "stderr",
     "output_type": "stream",
     "text": [
      "100%|████████████████████████████████████████| 32/32 [00:00<00:00, 41617.90it/s]"
     ]
    },
    {
     "name": "stdout",
     "output_type": "stream",
     "text": [
      "start processing event 0109\n"
     ]
    },
    {
     "name": "stderr",
     "output_type": "stream",
     "text": [
      "\n"
     ]
    },
    {
     "name": "stdout",
     "output_type": "stream",
     "text": [
      "[[190.16055048]]\n"
     ]
    },
    {
     "name": "stderr",
     "output_type": "stream",
     "text": [
      "100%|████████████████████████████████████████| 32/32 [00:00<00:00, 41133.23it/s]"
     ]
    },
    {
     "name": "stdout",
     "output_type": "stream",
     "text": [
      "start processing event 0110\n"
     ]
    },
    {
     "name": "stderr",
     "output_type": "stream",
     "text": [
      "\n"
     ]
    },
    {
     "name": "stdout",
     "output_type": "stream",
     "text": [
      "[[193.77200751]]\n"
     ]
    },
    {
     "name": "stderr",
     "output_type": "stream",
     "text": [
      "100%|████████████████████████████████████████| 32/32 [00:00<00:00, 41020.09it/s]"
     ]
    },
    {
     "name": "stdout",
     "output_type": "stream",
     "text": [
      "start processing event 0111\n"
     ]
    },
    {
     "name": "stderr",
     "output_type": "stream",
     "text": [
      "\n"
     ]
    },
    {
     "name": "stdout",
     "output_type": "stream",
     "text": [
      "[[193.78424901]]\n"
     ]
    },
    {
     "name": "stderr",
     "output_type": "stream",
     "text": [
      "100%|████████████████████████████████████████| 32/32 [00:00<00:00, 40257.27it/s]"
     ]
    },
    {
     "name": "stdout",
     "output_type": "stream",
     "text": [
      "start processing event 0118\n"
     ]
    },
    {
     "name": "stderr",
     "output_type": "stream",
     "text": [
      "\n"
     ]
    },
    {
     "name": "stdout",
     "output_type": "stream",
     "text": [
      "[[211.10241937]]\n"
     ]
    },
    {
     "name": "stderr",
     "output_type": "stream",
     "text": [
      "100%|████████████████████████████████████████| 32/32 [00:00<00:00, 41450.81it/s]"
     ]
    },
    {
     "name": "stdout",
     "output_type": "stream",
     "text": [
      "start processing event 0120\n"
     ]
    },
    {
     "name": "stderr",
     "output_type": "stream",
     "text": [
      "\n"
     ]
    },
    {
     "name": "stdout",
     "output_type": "stream",
     "text": [
      "[[225.89071842]]\n"
     ]
    },
    {
     "name": "stderr",
     "output_type": "stream",
     "text": [
      "100%|████████████████████████████████████████| 32/32 [00:00<00:00, 40659.72it/s]"
     ]
    },
    {
     "name": "stdout",
     "output_type": "stream",
     "text": [
      "start processing event 0126\n"
     ]
    },
    {
     "name": "stderr",
     "output_type": "stream",
     "text": [
      "\n"
     ]
    },
    {
     "name": "stdout",
     "output_type": "stream",
     "text": [
      "[[235.63152471]]\n"
     ]
    },
    {
     "name": "stderr",
     "output_type": "stream",
     "text": [
      "100%|████████████████████████████████████████| 32/32 [00:00<00:00, 41438.01it/s]"
     ]
    },
    {
     "name": "stdout",
     "output_type": "stream",
     "text": [
      "start processing event 0128\n"
     ]
    },
    {
     "name": "stderr",
     "output_type": "stream",
     "text": [
      "\n"
     ]
    },
    {
     "name": "stdout",
     "output_type": "stream",
     "text": [
      "[[241.51293952]]\n"
     ]
    },
    {
     "name": "stderr",
     "output_type": "stream",
     "text": [
      "100%|████████████████████████████████████████| 32/32 [00:00<00:00, 41297.76it/s]"
     ]
    },
    {
     "name": "stdout",
     "output_type": "stream",
     "text": [
      "start processing event 0129\n"
     ]
    },
    {
     "name": "stderr",
     "output_type": "stream",
     "text": [
      "\n"
     ]
    },
    {
     "name": "stdout",
     "output_type": "stream",
     "text": [
      "[[245.07106458]]\n"
     ]
    },
    {
     "name": "stderr",
     "output_type": "stream",
     "text": [
      "100%|████████████████████████████████████████| 32/32 [00:00<00:00, 41617.90it/s]"
     ]
    },
    {
     "name": "stdout",
     "output_type": "stream",
     "text": [
      "start processing event 0131\n"
     ]
    },
    {
     "name": "stderr",
     "output_type": "stream",
     "text": [
      "\n"
     ]
    },
    {
     "name": "stdout",
     "output_type": "stream",
     "text": [
      "[[248.90204364]]\n"
     ]
    },
    {
     "name": "stderr",
     "output_type": "stream",
     "text": [
      "100%|████████████████████████████████████████| 32/32 [00:00<00:00, 41297.76it/s]\n"
     ]
    }
   ],
   "source": [
    "df_event = pd.DataFrame(columns=[\"gougeevent_id\", \"stickslip_id\", \"exprID\", \"origin_time\", \"X\", \"Y\", \"V\", \"Vs\", \"dx_best\", \"dy_best\"])\n",
    "\n",
    "pickdir_list = sorted(glob(os.path.join(datadir, \"relocation/*\")))\n",
    "origintime_prev = 0\n",
    "\n",
    "for pickdir in pickdir_list:\n",
    "    \n",
    "    foreshock_id = int(os.path.basename(pickdir))\n",
    "    stickslipevent_id = df_expr[df_expr[\"gougeevent_id\"]==foreshock_id][\"event_id\"].values[0] # event_id of stick-slip\n",
    "\n",
    "    \n",
    "    finame_loc = os.path.join(pickdir, \"eventloc__fb03-{:03d}__{:04d}.pickle\".format(expr_id, foreshock_id))\n",
    "    if os.path.exists(finame_loc):\n",
    "        print(f\"start processing event {foreshock_id:04d}\")\n",
    "        with open(finame_loc, \"rb\") as fi:\n",
    "            tpick_reloc = pickle.load(fi)\n",
    "    else:\n",
    "        continue #skipping this event because no pick file found.\n",
    "\n",
    "#     finame_pick = os.path.join(pickdir, \"tpick__fb03-{:03d}__{:04d}.pickle\".format(expr_id, foreshock_id))\n",
    "#     if os.path.exists(finame_pick):\n",
    "#         with open(finame_pick, \"rb\") as fi:\n",
    "#             tpick = pickle.load(fi)\n",
    "\n",
    "    \n",
    "    # skip if origin time is too close to the previous event\n",
    "    if np.abs(origintime_prev - tpick_reloc[\"origin_abs_t\"]) < 0.1e-3: # less than 0.1 millisecond\n",
    "        origintime_prev = tpick_reloc[\"origin_abs_t\"]\n",
    "        print(\"skip because the origintime is too close\")\n",
    "        continue\n",
    "        \n",
    "    # append to dataframe\n",
    "    df_event_tmp = pd.DataFrame(data={\n",
    "                                     \"gougeevent_id\":[foreshock_id],\n",
    "                                     \"stickslip_id\":[stickslipevent_id],\n",
    "                                     \"exprID\":[f\"fb03-{expr_id:03d}\"],\n",
    "                                     \"origin_time\":[tpick_reloc[\"origin_abs_t\"][0][0]],\n",
    "                                     \"X\": [tpick_reloc[\"X\"]],\n",
    "                                     \"Y\": [tpick_reloc[\"Y\"]],\n",
    "                                     \"V\": [tpick_reloc[\"V\"]],\n",
    "                                     \"Vs\": [tpick_reloc[\"Vs\"]],\n",
    "                                     \"dx_best\": [tpick_reloc[\"dx_best\"]],\n",
    "                                     \"dy_best\": [tpick_reloc[\"dy_best\"]],\n",
    "                                    })\n",
    "    if not df_event.empty:\n",
    "        df_event = pd.concat([df_event, df_event_tmp])\n",
    "    else:\n",
    "        df_event = df_event_tmp\n",
    "\n",
    "    # compute tpick from origin time\n",
    "    tpick_rel = tpick_reloc[\"tpick_rel\"] # updated relative tpick during relocation process\n",
    "    \n",
    "#     for key in tpick:\n",
    "#         tpick_rel[key] = ( tpick_loc[\"init_abs_t\"] + tpick[key]*1e-3 ) - tpick_loc[\"origin_abs_t\"]# tpick is in ms.\n",
    "\n",
    "    # read waveform\n",
    "    \n",
    "    # read waveform\n",
    "    data_rootdir = f\"/Volumes/Okuboetal2025_masterHDD/4mBIAX_eventdata_master/p03_eventdata_FB03_{expr_id:03d}/\"\n",
    "    fname = f\"eventdata_FB03_087_event{stickslipevent_id:02d}\"\n",
    "\n",
    "    D = sio.loadmat(data_rootdir+fname)\n",
    "\n",
    "    # read data\n",
    "    print(tpick_reloc[\"origin_abs_t\"])\n",
    "    read_starttime = tpick_reloc[\"origin_abs_t\"] - D[\"Tstart\"] - ev_pretrigger\n",
    "    init_k = int(np.squeeze(read_starttime*fs)) # trim start time from picktime - pretrig\n",
    "    datmat = D['AEdatmat'][init_k:int(init_k+ev_twinlen_k), :]\n",
    "\n",
    "#     read_init_t = tpick_reloc[\"origin_abs_t\"] - ev_pretrigger #[s]\n",
    "#     datmat,tmat,Ch_info=SBENCHreader(read_init_t, ev_pretrigger+ev_twinlen, pname, runID, pretrigger=False)\n",
    "\n",
    "    st_obs = store_trace(datmat, fs, st_stats, tpick_reloc[\"origin_abs_t\"] - ev_pretrigger)\n",
    "    st_obs.channel_loc = channel_loc\n",
    "\n",
    "    # store metadata\n",
    "    st_obs.pretrigger = ev_pretrigger\n",
    "    st_obs.eventloc = tpick_reloc\n",
    "    st_obs.tpick_rel = tpick_rel\n",
    "    st_obs.st_stats = st_stats\n",
    "    st_obs.runID = f\"fb03-{expr_id:03d}\"\n",
    "\n",
    "    foname = os.path.join(outdir, \"obs_waveform_event__fb03-{:03d}__{:04d}.pickle\".format(expr_id, foreshock_id))\n",
    "    st_obs.write(foname, format=\"PICKLE\")\n",
    "    # update origintime\n",
    "    origintime_prev = tpick_reloc[\"origin_abs_t\"]"
   ]
  },
  {
   "cell_type": "code",
   "execution_count": null,
   "id": "bedf22cb-ce81-4f35-b86e-15837bf7a198",
   "metadata": {},
   "outputs": [],
   "source": [
    "df_event"
   ]
  },
  {
   "cell_type": "code",
   "execution_count": 9,
   "id": "166d993b",
   "metadata": {},
   "outputs": [],
   "source": [
    "df_event.to_csv(os.path.join(csvdir, \"AE_obs_location.csv\"), index=False, float_format='%12.8f')"
   ]
  },
  {
   "cell_type": "code",
   "execution_count": 10,
   "id": "3bc96bba",
   "metadata": {},
   "outputs": [
    {
     "data": {
      "text/plain": [
       "'../data/datacsv'"
      ]
     },
     "execution_count": 10,
     "metadata": {},
     "output_type": "execute_result"
    }
   ],
   "source": [
    "csvdir"
   ]
  },
  {
   "cell_type": "markdown",
   "id": "5d843c52",
   "metadata": {},
   "source": [
    "**Next:**  map to isocoord and compute green's function."
   ]
  },
  {
   "cell_type": "markdown",
   "id": "3c43fa7e",
   "metadata": {},
   "source": [
    "# read the saved data"
   ]
  },
  {
   "cell_type": "code",
   "execution_count": 11,
   "id": "b7b43d7c",
   "metadata": {},
   "outputs": [],
   "source": [
    "st1= read(os.path.join(outdir, \"obs_waveform_event__fb03-087__0062.pickle\"), format=\"PICKLE\")"
   ]
  },
  {
   "cell_type": "code",
   "execution_count": 12,
   "id": "b9860d93",
   "metadata": {
    "scrolled": true
   },
   "outputs": [
    {
     "data": {
      "text/plain": [
       "[<matplotlib.lines.Line2D at 0x1673cbd40>]"
      ]
     },
     "execution_count": 12,
     "metadata": {},
     "output_type": "execute_result"
    },
    {
     "data": {
      "image/png": "[encoded data removed]",
      "text/plain": [
       "<Figure size 800x300 with 1 Axes>"
      ]
     },
     "metadata": {},
     "output_type": "display_data"
    }
   ],
   "source": [
    "fig, ax = plt.subplots(figsize=(8,3))\n",
    "tvec = st1[8].times()*1e3\n",
    "ax.plot(tvec, st1[7].data, \"k-\")\n",
    "\n",
    "\n",
    "# ax.set_xlim([1, 1.1])"
   ]
  },
  {
   "cell_type": "code",
   "execution_count": null,
   "id": "d428aa8d",
   "metadata": {},
   "outputs": [],
   "source": []
  },
  {
   "cell_type": "code",
   "execution_count": null,
   "id": "a989102f",
   "metadata": {},
   "outputs": [],
   "source": []
  }
 ],
 "metadata": {
  "kernelspec": {
   "display_name": "Python 3 (ipykernel)",
   "language": "python",
   "name": "python3"
  },
  "language_info": {
   "codemirror_mode": {
    "name": "ipython",
    "version": 3
   },
   "file_extension": ".py",
   "mimetype": "text/x-python",
   "name": "python",
   "nbconvert_exporter": "python",
   "pygments_lexer": "ipython3",
   "version": "3.12.9"
  }
 },
 "nbformat": 4,
 "nbformat_minor": 5
}

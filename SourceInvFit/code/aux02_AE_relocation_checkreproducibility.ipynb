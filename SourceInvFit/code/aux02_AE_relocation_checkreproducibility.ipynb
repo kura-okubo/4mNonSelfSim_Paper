{
 "cells": [
  {
   "cell_type": "markdown",
   "id": "609c7fea",
   "metadata": {},
   "source": [
    "# Check reproducibility of the relocated files\n",
    "\n",
    "Check the consistency between the transferred + newly added relocated files and the recreated files.\n",
    "\n",
    "2024.10.31 Kurama Okubo"
   ]
  },
  {
   "cell_type": "code",
   "execution_count": 1,
   "id": "47aa982d-9eaf-43ae-b52d-d3969f1638d0",
   "metadata": {},
   "outputs": [],
   "source": [
    "import os\n",
    "from glob import glob\n",
    "import pickle"
   ]
  },
  {
   "cell_type": "code",
   "execution_count": 2,
   "id": "1567b443-c46e-4f6f-b2cd-1eea5cea92ac",
   "metadata": {},
   "outputs": [
    {
     "name": "stdout",
     "output_type": "stream",
     "text": [
      "All the repicked file is successfully recreated. We can use the original one in ../data/AElocation/relocation.\n"
     ]
    }
   ],
   "source": [
    "eventlist = glob(\"../data/AElocation/relocation/*\")\n",
    "\n",
    "for i in range(len(eventlist)):\n",
    "    main_reloc_path = eventlist[i]\n",
    "    event_id = int(os.path.basename(main_reloc_path))\n",
    "    \n",
    "    with open(main_reloc_path+f\"/eventloc__fb03-087__{event_id:04d}.pickle\", \"rb\") as fi:\n",
    "        tpick_main = pickle.load(fi)\n",
    "    \n",
    "    # load recreated file\n",
    "    with open(f\"../data/AElocation/relocation_rep/{event_id:04d}/eventloc__fb03-087__{event_id:04d}.pickle\", \"rb\") as fi:\n",
    "        tpick_rep = pickle.load(fi)\n",
    "    \n",
    "    assert tpick_main == tpick_rep\n",
    "\n",
    "print(\"All the repicked file is successfully recreated. We can use the original one in ../data/AElocation/relocation.\")"
   ]
  },
  {
   "cell_type": "code",
   "execution_count": null,
   "id": "a2975ce5-4e2b-41ed-8c08-960c8b87068b",
   "metadata": {},
   "outputs": [],
   "source": []
  }
 ],
 "metadata": {
  "kernelspec": {
   "display_name": "Python 3 (ipykernel)",
   "language": "python",
   "name": "python3"
  },
  "language_info": {
   "codemirror_mode": {
    "name": "ipython",
    "version": 3
   },
   "file_extension": ".py",
   "mimetype": "text/x-python",
   "name": "python",
   "nbconvert_exporter": "python",
   "pygments_lexer": "ipython3",
   "version": "3.12.9"
  }
 },
 "nbformat": 4,
 "nbformat_minor": 5
}

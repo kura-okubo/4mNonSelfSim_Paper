{
 "cells": [
  {
   "cell_type": "markdown",
   "metadata": {},
   "source": [
    "# Plot comparison between $M_0$ and Local cumulative slip and the slip velocity\n",
    "\n",
    "Plot the comparison between the magnitude and the local cumulative slip.\n",
    "\n",
    "2025.01.28 Kurama Okubo\n",
    "\n",
    "- 2025.03.19 update for master plot"
   ]
  },
  {
   "cell_type": "code",
   "execution_count": 1,
   "metadata": {},
   "outputs": [],
   "source": [
    "import os\n",
    "import matplotlib.pyplot as plt\n",
    "from matplotlib.cm import ScalarMappable\n",
    "import matplotlib as mpl\n",
    "import matplotlib.ticker as mticker\n",
    "\n",
    "%matplotlib inline\n",
    "import numpy as np\n",
    "import pandas as pd\n",
    "import datetime\n",
    "from datetime import timedelta\n",
    "from tqdm import tqdm\n",
    "import warnings\n",
    "import time\n",
    "import pickle \n",
    "import seaborn as sns\n",
    "import copy\n",
    "\n",
    "import scipy.io as sio\n",
    "from scipy.signal import decimate\n",
    "\n",
    "%load_ext autoreload\n",
    "%autoreload 2\n",
    "\n",
    "plt.rcParams[\"font.family\"] = 'Arial'\n",
    "# plt.rcParams[\"font.sans-serif\"] = \"DejaVu Sans, Arial, Helvetica, Lucida Grande, Verdana, Geneva, Lucid, Avant Garde, sans-serif\"\n",
    "plt.rcParams[\"font.size\"] = 10\n",
    "plt.rcParams[\"xtick.direction\"] = \"in\"\n",
    "plt.rcParams[\"xtick.major.size\"] = 4.75\n",
    "plt.rcParams[\"xtick.major.width\"] = 0.75\n",
    "plt.rcParams[\"xtick.minor.size\"] = 3\n",
    "plt.rcParams[\"xtick.minor.width\"] = 0.4\n",
    "plt.rcParams[\"xtick.minor.visible\"] = True\n",
    "\n",
    "plt.rcParams[\"ytick.direction\"] = \"in\"\n",
    "plt.rcParams[\"ytick.major.size\"] = 4.75\n",
    "plt.rcParams[\"ytick.major.width\"] = 0.75\n",
    "plt.rcParams[\"ytick.minor.size\"] = 3\n",
    "plt.rcParams[\"ytick.minor.width\"] = 0.4\n",
    "plt.rcParams[\"ytick.minor.visible\"] = True\n",
    "\n",
    "plt.rcParams[\"savefig.transparent\"] = False #True\n"
   ]
  },
  {
   "cell_type": "code",
   "execution_count": null,
   "metadata": {},
   "outputs": [],
   "source": []
  },
  {
   "cell_type": "code",
   "execution_count": 2,
   "metadata": {},
   "outputs": [],
   "source": [
    "figdir = \"../figure/05_M0andslip_slipvel_masterplot/\"\n",
    "if not os.path.exists(figdir):\n",
    "    os.makedirs(figdir)\n"
   ]
  },
  {
   "cell_type": "markdown",
   "metadata": {},
   "source": [
    "# List of plots\n",
    "1. 16 slip sensors with the timing of gouge event\n",
    "2. Time history of the slip at gouge patch\n",
    "3. Scatter plot of M0 vs cumulative local slip"
   ]
  },
  {
   "cell_type": "code",
   "execution_count": null,
   "metadata": {},
   "outputs": [],
   "source": []
  },
  {
   "cell_type": "code",
   "execution_count": 3,
   "metadata": {},
   "outputs": [],
   "source": [
    "expr_id = 87"
   ]
  },
  {
   "cell_type": "markdown",
   "metadata": {},
   "source": [
    "# Load the event catalog"
   ]
  },
  {
   "cell_type": "code",
   "execution_count": 4,
   "metadata": {},
   "outputs": [],
   "source": [
    "df_gougeevent = pd.read_csv(f\"../data/localslip_and_slipvel_fb03-{expr_id:03d}.csv\")"
   ]
  },
  {
   "cell_type": "code",
   "execution_count": 5,
   "metadata": {},
   "outputs": [
    {
     "data": {
      "text/html": [
       "<div>\n",
       "<style scoped>\n",
       "    .dataframe tbody tr th:only-of-type {\n",
       "        vertical-align: middle;\n",
       "    }\n",
       "\n",
       "    .dataframe tbody tr th {\n",
       "        vertical-align: top;\n",
       "    }\n",
       "\n",
       "    .dataframe thead th {\n",
       "        text-align: right;\n",
       "    }\n",
       "</style>\n",
       "<table border=\"1\" class=\"dataframe\">\n",
       "  <thead>\n",
       "    <tr style=\"text-align: right;\">\n",
       "      <th></th>\n",
       "      <th>event_id</th>\n",
       "      <th>location</th>\n",
       "      <th>event_onset_time</th>\n",
       "      <th>stickslip_id</th>\n",
       "      <th>event_label</th>\n",
       "      <th>Q_correction_quart</th>\n",
       "      <th>Nvalidsensors</th>\n",
       "      <th>M0</th>\n",
       "      <th>M0_std</th>\n",
       "      <th>Mw</th>\n",
       "      <th>Tw</th>\n",
       "      <th>Tw_std</th>\n",
       "      <th>cumulativelocalslip[mm]</th>\n",
       "      <th>localslipvelocity[mm/s]</th>\n",
       "    </tr>\n",
       "  </thead>\n",
       "  <tbody>\n",
       "    <tr>\n",
       "      <th>0</th>\n",
       "      <td>4</td>\n",
       "      <td>1.75</td>\n",
       "      <td>42.474772</td>\n",
       "      <td>3</td>\n",
       "      <td>A</td>\n",
       "      <td>50</td>\n",
       "      <td>4</td>\n",
       "      <td>0.592607</td>\n",
       "      <td>0.178671</td>\n",
       "      <td>-6.218156</td>\n",
       "      <td>0.000003</td>\n",
       "      <td>1.530315e-07</td>\n",
       "      <td>0.021109</td>\n",
       "      <td>1.134615</td>\n",
       "    </tr>\n",
       "    <tr>\n",
       "      <th>1</th>\n",
       "      <td>9</td>\n",
       "      <td>1.75</td>\n",
       "      <td>47.662693</td>\n",
       "      <td>5</td>\n",
       "      <td>F</td>\n",
       "      <td>50</td>\n",
       "      <td>4</td>\n",
       "      <td>0.046991</td>\n",
       "      <td>0.007419</td>\n",
       "      <td>-6.951990</td>\n",
       "      <td>0.000002</td>\n",
       "      <td>3.643121e-07</td>\n",
       "      <td>0.001041</td>\n",
       "      <td>1.723430</td>\n",
       "    </tr>\n",
       "    <tr>\n",
       "      <th>2</th>\n",
       "      <td>18</td>\n",
       "      <td>1.75</td>\n",
       "      <td>56.727044</td>\n",
       "      <td>8</td>\n",
       "      <td>F</td>\n",
       "      <td>50</td>\n",
       "      <td>4</td>\n",
       "      <td>0.755830</td>\n",
       "      <td>0.192507</td>\n",
       "      <td>-6.147717</td>\n",
       "      <td>0.000003</td>\n",
       "      <td>3.100882e-07</td>\n",
       "      <td>0.002639</td>\n",
       "      <td>2.894185</td>\n",
       "    </tr>\n",
       "    <tr>\n",
       "      <th>3</th>\n",
       "      <td>19</td>\n",
       "      <td>1.75</td>\n",
       "      <td>59.103175</td>\n",
       "      <td>9</td>\n",
       "      <td>F</td>\n",
       "      <td>50</td>\n",
       "      <td>4</td>\n",
       "      <td>0.055755</td>\n",
       "      <td>0.016951</td>\n",
       "      <td>-6.902476</td>\n",
       "      <td>0.000002</td>\n",
       "      <td>2.699155e-07</td>\n",
       "      <td>0.001132</td>\n",
       "      <td>2.434580</td>\n",
       "    </tr>\n",
       "    <tr>\n",
       "      <th>4</th>\n",
       "      <td>20</td>\n",
       "      <td>1.75</td>\n",
       "      <td>59.103526</td>\n",
       "      <td>9</td>\n",
       "      <td>F</td>\n",
       "      <td>50</td>\n",
       "      <td>4</td>\n",
       "      <td>0.865466</td>\n",
       "      <td>0.210250</td>\n",
       "      <td>-6.108500</td>\n",
       "      <td>0.000003</td>\n",
       "      <td>1.352659e-07</td>\n",
       "      <td>0.002116</td>\n",
       "      <td>3.092838</td>\n",
       "    </tr>\n",
       "  </tbody>\n",
       "</table>\n",
       "</div>"
      ],
      "text/plain": [
       "   event_id  location  event_onset_time  stickslip_id event_label  \\\n",
       "0         4      1.75         42.474772             3           A   \n",
       "1         9      1.75         47.662693             5           F   \n",
       "2        18      1.75         56.727044             8           F   \n",
       "3        19      1.75         59.103175             9           F   \n",
       "4        20      1.75         59.103526             9           F   \n",
       "\n",
       "   Q_correction_quart  Nvalidsensors        M0    M0_std        Mw        Tw  \\\n",
       "0                  50              4  0.592607  0.178671 -6.218156  0.000003   \n",
       "1                  50              4  0.046991  0.007419 -6.951990  0.000002   \n",
       "2                  50              4  0.755830  0.192507 -6.147717  0.000003   \n",
       "3                  50              4  0.055755  0.016951 -6.902476  0.000002   \n",
       "4                  50              4  0.865466  0.210250 -6.108500  0.000003   \n",
       "\n",
       "         Tw_std  cumulativelocalslip[mm]  localslipvelocity[mm/s]  \n",
       "0  1.530315e-07                 0.021109                 1.134615  \n",
       "1  3.643121e-07                 0.001041                 1.723430  \n",
       "2  3.100882e-07                 0.002639                 2.894185  \n",
       "3  2.699155e-07                 0.001132                 2.434580  \n",
       "4  1.352659e-07                 0.002116                 3.092838  "
      ]
     },
     "execution_count": 5,
     "metadata": {},
     "output_type": "execute_result"
    }
   ],
   "source": [
    "df_gougeevent.head()"
   ]
  },
  {
   "cell_type": "code",
   "execution_count": 6,
   "metadata": {},
   "outputs": [],
   "source": [
    "df_gougeevent_foreshock = df_gougeevent[df_gougeevent[\"event_label\"]==\"F\"]"
   ]
  },
  {
   "cell_type": "code",
   "execution_count": null,
   "metadata": {},
   "outputs": [],
   "source": []
  },
  {
   "cell_type": "markdown",
   "metadata": {},
   "source": [
    "# 1. Plot space and slip"
   ]
  },
  {
   "cell_type": "code",
   "execution_count": 7,
   "metadata": {},
   "outputs": [
    {
     "data": {
      "text/html": [
       "<svg  width=\"550\" height=\"55\"><rect x=\"0\" y=\"0\" width=\"55\" height=\"55\" style=\"fill:#0173b2;stroke-width:2;stroke:rgb(255,255,255)\"/><rect x=\"55\" y=\"0\" width=\"55\" height=\"55\" style=\"fill:#de8f05;stroke-width:2;stroke:rgb(255,255,255)\"/><rect x=\"110\" y=\"0\" width=\"55\" height=\"55\" style=\"fill:#029e73;stroke-width:2;stroke:rgb(255,255,255)\"/><rect x=\"165\" y=\"0\" width=\"55\" height=\"55\" style=\"fill:#d55e00;stroke-width:2;stroke:rgb(255,255,255)\"/><rect x=\"220\" y=\"0\" width=\"55\" height=\"55\" style=\"fill:#cc78bc;stroke-width:2;stroke:rgb(255,255,255)\"/><rect x=\"275\" y=\"0\" width=\"55\" height=\"55\" style=\"fill:#ca9161;stroke-width:2;stroke:rgb(255,255,255)\"/><rect x=\"330\" y=\"0\" width=\"55\" height=\"55\" style=\"fill:#fbafe4;stroke-width:2;stroke:rgb(255,255,255)\"/><rect x=\"385\" y=\"0\" width=\"55\" height=\"55\" style=\"fill:#949494;stroke-width:2;stroke:rgb(255,255,255)\"/><rect x=\"440\" y=\"0\" width=\"55\" height=\"55\" style=\"fill:#ece133;stroke-width:2;stroke:rgb(255,255,255)\"/><rect x=\"495\" y=\"0\" width=\"55\" height=\"55\" style=\"fill:#56b4e9;stroke-width:2;stroke:rgb(255,255,255)\"/></svg>"
      ],
      "text/plain": [
       "[(0.00392156862745098, 0.45098039215686275, 0.6980392156862745),\n",
       " (0.8705882352941177, 0.5607843137254902, 0.0196078431372549),\n",
       " (0.00784313725490196, 0.6196078431372549, 0.45098039215686275),\n",
       " (0.8352941176470589, 0.3686274509803922, 0.0),\n",
       " (0.8, 0.47058823529411764, 0.7372549019607844),\n",
       " (0.792156862745098, 0.5686274509803921, 0.3803921568627451),\n",
       " (0.984313725490196, 0.6862745098039216, 0.8941176470588236),\n",
       " (0.5803921568627451, 0.5803921568627451, 0.5803921568627451),\n",
       " (0.9254901960784314, 0.8823529411764706, 0.2),\n",
       " (0.33725490196078434, 0.7058823529411765, 0.9137254901960784)]"
      ]
     },
     "execution_count": 7,
     "metadata": {},
     "output_type": "execute_result"
    }
   ],
   "source": [
    "lc = sns.color_palette(\"colorblind\", as_cmap=False)\n",
    "lc"
   ]
  },
  {
   "cell_type": "code",
   "execution_count": 8,
   "metadata": {},
   "outputs": [],
   "source": [
    "figdir_space = \"../figure/05_M0andslip_slipvel_masterplot/spatialslip_M0\"\n",
    "if not os.path.exists(figdir_space):\n",
    "    os.makedirs(figdir_space)\n",
    "    "
   ]
  },
  {
   "cell_type": "code",
   "execution_count": null,
   "metadata": {},
   "outputs": [],
   "source": []
  },
  {
   "cell_type": "markdown",
   "metadata": {},
   "source": [
    "## Plot representive event"
   ]
  },
  {
   "cell_type": "code",
   "execution_count": 9,
   "metadata": {},
   "outputs": [
    {
     "data": {
      "image/png": "[encoded data removed]",
      "text/plain": [
       "<Figure size 450x300 with 1 Axes>"
      ]
     },
     "metadata": {},
     "output_type": "display_data"
    }
   ],
   "source": [
    "# for ind, df_event in df_gougeevent_foreshock.iterrows():\n",
    "masterevent_id = 129\n",
    "df_event = df_gougeevent_foreshock[df_gougeevent_foreshock[\"event_id\"]==masterevent_id].iloc[0]\n",
    "stickslip_id = df_event.stickslip_id\n",
    "gougeevent_id = df_event.event_id\n",
    "\n",
    "finame_mat = f\"../data/p01_slipandslipvel/FB03-{expr_id:03d}_slipvelocity_event{stickslip_id:03d}.mat\"\n",
    "V = sio.loadmat(finame_mat, squeeze_me=True)\n",
    "\n",
    "# find the closest time of the onset of gouge event\n",
    "tvec = V[\"Tstart\"] + V['tmat_slip_event']\n",
    "t_gougeevent_ind = np.where(tvec >= df_event[\"event_onset_time\"])[0][0]\n",
    "\n",
    "fig, ax = plt.subplots(1, 1, figsize=(4.5, 3.))\n",
    "\n",
    "ax.plot(V['Disp_x']*1e-3, V['Dmat_event_filtered'][t_gougeevent_ind, :]*1e3, \"k-\", marker=\"o\", ms=4, lw=1)\n",
    "\n",
    "# plot the slip before and after the gouge event\n",
    "t_backward = [2e-3, 6e-3, 15e-3, 25e-3]\n",
    "for tb in t_backward:\n",
    "    tb_ind = np.where(tvec >= df_event[\"event_onset_time\"]-tb)[0][0]\n",
    "    ax.plot(V['Disp_x']*1e-3, V['Dmat_event_filtered'][tb_ind, :]*1e3, \"-\", c=[0.6, 0.6, 0.6], marker=\"o\", ms=4, lw=1)\n",
    "\n",
    "\n",
    "# plot gouge event and cumulative local slip\n",
    "ax.plot(df_event.location, df_event[\"cumulativelocalslip[mm]\"]*1e3, \"*\", mec=\"k\", mfc=lc[8], ms=16)\n",
    "# axhline\n",
    "ax.axhline(df_event[\"cumulativelocalslip[mm]\"]*1e3, c=\"k\", ls=\"--\", zorder=-1)\n",
    "\n",
    "annottxt = f\"gouge event ID:{gougeevent_id}\\n$M_0$: {df_event['M0']:4.2f} Nm\\nCumulative local slip: {df_event['cumulativelocalslip[mm]']*1e3:4.2f} μm\"\n",
    "ax.text(0.97, 0.76, annottxt, transform=ax.transAxes, ha=\"right\")\n",
    "\n",
    "ax.set_xlim(0, 4.1)\n",
    "\n",
    "if df_event['cumulativelocalslip[mm]'] *1e3 > 10:\n",
    "    ymax = 40\n",
    "else:\n",
    "    ymax = 10\n",
    "    \n",
    "ax.set_ylim(-0.5, ymax)\n",
    "\n",
    "ax.set_xlabel(\"Distance from western edge of fault [m]\")\n",
    "ax.set_ylabel(\"Cumulative slip [μm]\")\n",
    "\n",
    "plt.tight_layout()\n",
    "\n",
    "# plt.savefig(figdir_space+f\"/cumulativeslip_fb03-{expr_id:03d}_{gougeevent_id}.png\", format=\"png\", dpi=80)\n",
    "plt.savefig(figdir_space+f\"/FigS_cumulativeslip_fb03-{expr_id:03d}_{gougeevent_id}.eps\")\n",
    "\n",
    "# plt.clf()\n",
    "# plt.close()"
   ]
  },
  {
   "cell_type": "markdown",
   "metadata": {},
   "source": [
    "## Plot all the gouge event"
   ]
  },
  {
   "cell_type": "code",
   "execution_count": 10,
   "metadata": {},
   "outputs": [],
   "source": [
    "for ind, df_event in df_gougeevent_foreshock.iterrows():\n",
    "    \n",
    "    # df_event = df_gougeevent_foreshock[df_gougeevent_foreshock[\"event_id\"]==masterevent_id].iloc[0]\n",
    "    stickslip_id = df_event.stickslip_id\n",
    "    gougeevent_id = df_event.event_id\n",
    "\n",
    "    finame_mat = f\"../data/p01_slipandslipvel/FB03-{expr_id:03d}_slipvelocity_event{stickslip_id:03d}.mat\"\n",
    "    V = sio.loadmat(finame_mat, squeeze_me=True)\n",
    "    \n",
    "    # find the closest time of the onset of gouge event\n",
    "    tvec = V[\"Tstart\"] + V['tmat_slip_event']\n",
    "    t_gougeevent_ind = np.where(tvec >= df_event[\"event_onset_time\"])[0][0]\n",
    "    \n",
    "    fig, ax = plt.subplots(1, 1, figsize=(4.5, 3.))\n",
    "    \n",
    "    ax.plot(V['Disp_x']*1e-3, V['Dmat_event_filtered'][t_gougeevent_ind, :]*1e3, \"k-\", marker=\"o\", ms=4, lw=1)\n",
    "    \n",
    "    # plot the slip before and after the gouge event\n",
    "    t_backward = [2e-3, 4e-6, 6e-3, 10e-3]\n",
    "    for tb in t_backward:\n",
    "        tb_ind = np.where(tvec >= df_event[\"event_onset_time\"]-tb)[0][0]\n",
    "        ax.plot(V['Disp_x']*1e-3, V['Dmat_event_filtered'][tb_ind, :]*1e3, \"-\", c=[0.6, 0.6, 0.6], marker=\"o\", ms=4, lw=1)\n",
    "    \n",
    "    \n",
    "    # plot gouge event and cumulative local slip\n",
    "    ax.plot(df_event.location, df_event[\"cumulativelocalslip[mm]\"]*1e3, \"*\", mec=\"k\", mfc=lc[8], ms=16)\n",
    "    # axhline\n",
    "    ax.axhline(df_event[\"cumulativelocalslip[mm]\"]*1e3, c=\"k\", ls=\"--\", zorder=-1)\n",
    "    \n",
    "    annottxt = f\"gouge event ID:{gougeevent_id}\\n$M_0$: {df_event['M0']:4.2f} Nm\\nCumulative local slip: {df_event['cumulativelocalslip[mm]']*1e3:4.2f} μm\"\n",
    "    ax.text(0.85, 0.76, annottxt, transform=ax.transAxes, ha=\"right\")\n",
    "    \n",
    "    ax.set_xlim(0, 4.1)\n",
    "    \n",
    "    if df_event['cumulativelocalslip[mm]'] *1e3 > 10:\n",
    "        ymax = 40\n",
    "    else:\n",
    "        ymax = 10\n",
    "        \n",
    "    ax.set_ylim(-0.5, ymax)\n",
    "    \n",
    "    ax.set_xlabel(\"Distance from western edge of fault [m]\")\n",
    "    ax.set_ylabel(\"Cumulative slip [μm]\")\n",
    "    \n",
    "    plt.tight_layout()\n",
    "    \n",
    "    plt.savefig(figdir_space+f\"/cumulativeslip_fb03-{expr_id:03d}_{gougeevent_id}.jpg\", format=\"jpg\", dpi=80)\n",
    "    # plt.savefig(figdir_space+f\"/cumulativeslip_fb03-{expr_id:03d}_{gougeevent_id}.pdf\")\n",
    "    \n",
    "    plt.clf()\n",
    "    plt.close()"
   ]
  },
  {
   "cell_type": "code",
   "execution_count": null,
   "metadata": {},
   "outputs": [],
   "source": []
  },
  {
   "cell_type": "markdown",
   "metadata": {},
   "source": [
    "# 2. Plot time history of cumulative slip"
   ]
  },
  {
   "cell_type": "code",
   "execution_count": 11,
   "metadata": {},
   "outputs": [],
   "source": [
    "figdir_tr = \"../figure/05_M0andslip_slipvel_masterplot/debug_timehistory_cumulativeslip\"\n",
    "if not os.path.exists(figdir_tr):\n",
    "    os.makedirs(figdir_tr)\n",
    "    "
   ]
  },
  {
   "cell_type": "code",
   "execution_count": 12,
   "metadata": {},
   "outputs": [],
   "source": [
    "for ind, df_event in df_gougeevent_foreshock.iterrows():\n",
    "    # masterevent_id = 129\n",
    "    # df_event = df_gougeevent_foreshock[df_gougeevent_foreshock[\"event_id\"]==masterevent_id].iloc[0]\n",
    "    stickslip_id = df_event.stickslip_id\n",
    "    gougeevent_id = df_event.event_id\n",
    "    \n",
    "    finame_mat = f\"../data/p01_slipandslipvel/FB03-{expr_id:03d}_slipvelocity_event{stickslip_id:03d}.mat\"\n",
    "    V = sio.loadmat(finame_mat, squeeze_me=True)\n",
    "    \n",
    "    # find the closest time of the onset of gouge event\n",
    "    tvec = V[\"Tstart\"] + V['tmat_slip_event']\n",
    "    \n",
    "    finame_tr = f\"../data/p02_slipinterpolation/FB03-087_slip_and_slipvel_atgouge_gougeevent{gougeevent_id:03d}.mat\"\n",
    "    \n",
    "    W = sio.loadmat(finame_tr, squeeze_me=True)\n",
    "    \n",
    "    fig, ax = plt.subplots(1, 1, figsize=(4.5, 3.))\n",
    "    ax.plot(W['tr_tmat'] - V[\"Tstart\"], W['tr_slip_gouge']*1e3, \"k-\")\n",
    "    \n",
    "    # plot gouge event and cumulative local slip\n",
    "    ax.plot(df_event.event_onset_time - V[\"Tstart\"], df_event[\"cumulativelocalslip[mm]\"]*1e3, \"*\", mec=\"k\", mfc=lc[8], ms=16)\n",
    "    # axhline\n",
    "    ax.axhline(df_event[\"cumulativelocalslip[mm]\"]*1e3, c=\"k\", ls=\"--\", zorder=-1)\n",
    "    \n",
    "    annottxt = f\"gouge event ID:{gougeevent_id}\\n$M_0$: {df_event['M0']:4.2f} Nm\\nCumulative local slip: {df_event['cumulativelocalslip[mm]']*1e3:4.2f} μm\"\n",
    "    ax.text(0.9, 0.3, annottxt, transform=ax.transAxes, ha=\"right\")\n",
    "    \n",
    "    ax.set_ylim(-2, 40)\n",
    "\n",
    "    ax.set_xlabel(\"Time [s]\")\n",
    "    ax.set_ylabel(\"Cumulative slip [μm]\")\n",
    "   \n",
    "    plt.tight_layout()\n",
    "    \n",
    "    # plt.savefig(figdir_tr+f\"/cumulativeslip_fb03-{expr_id:03d}_{gougeevent_id}.png\", format=\"png\", dpi=80)\n",
    "    plt.savefig(figdir_tr+f\"/timehistory_cumulativeslip_fb03-{expr_id:03d}_{gougeevent_id}.pdf\")\n",
    "    \n",
    "    plt.clf()\n",
    "    plt.close()"
   ]
  },
  {
   "cell_type": "code",
   "execution_count": null,
   "metadata": {},
   "outputs": [],
   "source": []
  },
  {
   "cell_type": "markdown",
   "metadata": {},
   "source": [
    "# 3. Scatter plot of M0 vs cumulative local slip"
   ]
  },
  {
   "cell_type": "code",
   "execution_count": 13,
   "metadata": {},
   "outputs": [],
   "source": [
    "figdir_master = \"../figure/05_M0andslip_slipvel_masterplot/master_scatter\"\n",
    "if not os.path.exists(figdir_master):\n",
    "    os.makedirs(figdir_master)\n",
    "    "
   ]
  },
  {
   "cell_type": "code",
   "execution_count": 14,
   "metadata": {},
   "outputs": [
    {
     "name": "stdout",
     "output_type": "stream",
     "text": [
      "Number of foreshocks: 21\n"
     ]
    }
   ],
   "source": [
    "# select the foreshocks with the valid sensors\n",
    "Nvalidsensor_thresh = 4\n",
    "df_gf_thresh = df_gougeevent_foreshock[df_gougeevent_foreshock[\"Nvalidsensors\"]>=Nvalidsensor_thresh]\n",
    "\n",
    "# remove the event 126 as it is on the measurement limitation\n",
    "measurementlimit_list = [126]\n",
    "df_gf_thresh_measurementlimit = df_gf_thresh[df_gf_thresh[\"event_id\"].isin(measurementlimit_list)]\n",
    "df_gf_thresh_droplimevent = df_gf_thresh[~(df_gf_thresh[\"event_id\"].isin(measurementlimit_list))]\n",
    "\n",
    "Nevent = len(df_gf_thresh)\n",
    "\n",
    "print(f\"Number of foreshocks: {Nevent}\")"
   ]
  },
  {
   "cell_type": "code",
   "execution_count": 15,
   "metadata": {},
   "outputs": [
    {
     "data": {
      "text/html": [
       "<div>\n",
       "<style scoped>\n",
       "    .dataframe tbody tr th:only-of-type {\n",
       "        vertical-align: middle;\n",
       "    }\n",
       "\n",
       "    .dataframe tbody tr th {\n",
       "        vertical-align: top;\n",
       "    }\n",
       "\n",
       "    .dataframe thead th {\n",
       "        text-align: right;\n",
       "    }\n",
       "</style>\n",
       "<table border=\"1\" class=\"dataframe\">\n",
       "  <thead>\n",
       "    <tr style=\"text-align: right;\">\n",
       "      <th></th>\n",
       "      <th>event_id</th>\n",
       "      <th>location</th>\n",
       "      <th>event_onset_time</th>\n",
       "      <th>stickslip_id</th>\n",
       "      <th>event_label</th>\n",
       "      <th>Q_correction_quart</th>\n",
       "      <th>Nvalidsensors</th>\n",
       "      <th>M0</th>\n",
       "      <th>M0_std</th>\n",
       "      <th>Mw</th>\n",
       "      <th>Tw</th>\n",
       "      <th>Tw_std</th>\n",
       "      <th>cumulativelocalslip[mm]</th>\n",
       "      <th>localslipvelocity[mm/s]</th>\n",
       "    </tr>\n",
       "  </thead>\n",
       "  <tbody>\n",
       "    <tr>\n",
       "      <th>40</th>\n",
       "      <td>126</td>\n",
       "      <td>1.75</td>\n",
       "      <td>235.63152</td>\n",
       "      <td>52</td>\n",
       "      <td>F</td>\n",
       "      <td>50</td>\n",
       "      <td>4</td>\n",
       "      <td>0.017021</td>\n",
       "      <td>0.002538</td>\n",
       "      <td>-7.246006</td>\n",
       "      <td>0.000002</td>\n",
       "      <td>2.955030e-07</td>\n",
       "      <td>0.006714</td>\n",
       "      <td>1.132211</td>\n",
       "    </tr>\n",
       "  </tbody>\n",
       "</table>\n",
       "</div>"
      ],
      "text/plain": [
       "    event_id  location  event_onset_time  stickslip_id event_label  \\\n",
       "40       126      1.75         235.63152            52           F   \n",
       "\n",
       "    Q_correction_quart  Nvalidsensors        M0    M0_std        Mw        Tw  \\\n",
       "40                  50              4  0.017021  0.002538 -7.246006  0.000002   \n",
       "\n",
       "          Tw_std  cumulativelocalslip[mm]  localslipvelocity[mm/s]  \n",
       "40  2.955030e-07                 0.006714                 1.132211  "
      ]
     },
     "execution_count": 15,
     "metadata": {},
     "output_type": "execute_result"
    }
   ],
   "source": [
    "df_gf_thresh_measurementlimit"
   ]
  },
  {
   "cell_type": "code",
   "execution_count": 16,
   "metadata": {},
   "outputs": [
    {
     "data": {
      "text/html": [
       "<svg  width=\"495\" height=\"55\"><rect x=\"0\" y=\"0\" width=\"55\" height=\"55\" style=\"fill:#e41a1c;stroke-width:2;stroke:rgb(255,255,255)\"/><rect x=\"55\" y=\"0\" width=\"55\" height=\"55\" style=\"fill:#377eb8;stroke-width:2;stroke:rgb(255,255,255)\"/><rect x=\"110\" y=\"0\" width=\"55\" height=\"55\" style=\"fill:#4daf4a;stroke-width:2;stroke:rgb(255,255,255)\"/><rect x=\"165\" y=\"0\" width=\"55\" height=\"55\" style=\"fill:#984ea3;stroke-width:2;stroke:rgb(255,255,255)\"/><rect x=\"220\" y=\"0\" width=\"55\" height=\"55\" style=\"fill:#ff7f00;stroke-width:2;stroke:rgb(255,255,255)\"/><rect x=\"275\" y=\"0\" width=\"55\" height=\"55\" style=\"fill:#ffff33;stroke-width:2;stroke:rgb(255,255,255)\"/><rect x=\"330\" y=\"0\" width=\"55\" height=\"55\" style=\"fill:#a65628;stroke-width:2;stroke:rgb(255,255,255)\"/><rect x=\"385\" y=\"0\" width=\"55\" height=\"55\" style=\"fill:#f781bf;stroke-width:2;stroke:rgb(255,255,255)\"/><rect x=\"440\" y=\"0\" width=\"55\" height=\"55\" style=\"fill:#999999;stroke-width:2;stroke:rgb(255,255,255)\"/></svg>"
      ],
      "text/plain": [
       "[(0.8941176470588236, 0.10196078431372549, 0.10980392156862745),\n",
       " (0.21568627450980393, 0.49411764705882355, 0.7215686274509804),\n",
       " (0.30196078431372547, 0.6862745098039216, 0.2901960784313726),\n",
       " (0.596078431372549, 0.3058823529411765, 0.6392156862745098),\n",
       " (1.0, 0.4980392156862745, 0.0),\n",
       " (1.0, 1.0, 0.2),\n",
       " (0.6509803921568628, 0.33725490196078434, 0.1568627450980392),\n",
       " (0.9686274509803922, 0.5058823529411764, 0.7490196078431373),\n",
       " (0.6, 0.6, 0.6)]"
      ]
     },
     "execution_count": 16,
     "metadata": {},
     "output_type": "execute_result"
    }
   ],
   "source": [
    "scatter_mc = sns.color_palette(\"Set1\")\n",
    "scatter_mc"
   ]
  },
  {
   "cell_type": "code",
   "execution_count": 17,
   "metadata": {},
   "outputs": [],
   "source": [
    "def M02Mw(M0):\n",
    "    return (np.log10(M0) - 9.1) * 2.0 / 3.0 # synchronized with OpenSWPC : moment_magnitude ( m0 )\n",
    "\n",
    "def Mw2M0(Mw):\n",
    "    return 10**( 1.5 * Mw + 9.05) # synchronized with OpenSWPC : seismic_moment ( mw )\n",
    "   "
   ]
  },
  {
   "cell_type": "markdown",
   "metadata": {},
   "source": [
    "### Compute log fitting\n",
    "As the M0 has the std, we set Y as M0 and invert it to get the logarithmic slope.\n",
    "\n",
    "$$\\log M_0 = c_0 + c_1 \\log \\delta $$\n",
    "$$  \\delta = 10 ^{-\\frac{c_0}{c_1}} M_0 ^{\\frac{1}{c_1}}  $$\n",
    "\n",
    "**NOTE:** Due to the outliers, the fitting is apart from the majority of events. Thus, we do not use the fitting values, but just refer the order of magnitude in the exponential scaling between $M_0$ and $\\delta$."
   ]
  },
  {
   "cell_type": "code",
   "execution_count": 18,
   "metadata": {},
   "outputs": [
    {
     "name": "stdout",
     "output_type": "stream",
     "text": [
      "delta is propotional to M0^1.592\n"
     ]
    }
   ],
   "source": [
    "X = np.log10(df_gf_thresh[\"cumulativelocalslip[mm]\"].values*1e3)\n",
    "Y = np.log10(df_gf_thresh[\"M0\"].values)\n",
    "\n",
    "res = np.polynomial.polynomial.polyfit(X, Y, 1)\n",
    "\n",
    "print(f\"delta is propotional to M0^{1/res[1]:.3f}\")\n",
    "M0_fit = np.logspace(-2, np.log10(5))\n",
    "cumslip_fit = 10**(-res[0]/res[1]) * (M0_fit ** (1/res[1]))\n",
    "\n",
    "Xfit = np.linspace(0, 1, 10)\n",
    "Yfit = np.polynomial.polynomial.polyval(Xfit, res)"
   ]
  },
  {
   "cell_type": "code",
   "execution_count": null,
   "metadata": {},
   "outputs": [],
   "source": []
  },
  {
   "cell_type": "code",
   "execution_count": 19,
   "metadata": {},
   "outputs": [
    {
     "data": {
      "text/plain": [
       "[<matplotlib.lines.Line2D at 0x142cc56d0>]"
      ]
     },
     "execution_count": 19,
     "metadata": {},
     "output_type": "execute_result"
    },
    {
     "data": {
      "image/png": "[encoded data removed]",
      "text/plain": [
       "<Figure size 640x480 with 1 Axes>"
      ]
     },
     "metadata": {},
     "output_type": "display_data"
    }
   ],
   "source": [
    "plt.plot(X, Y, \"o\")\n",
    "plt.plot(Xfit, Yfit)"
   ]
  },
  {
   "cell_type": "code",
   "execution_count": null,
   "metadata": {},
   "outputs": [],
   "source": []
  },
  {
   "cell_type": "code",
   "execution_count": 20,
   "metadata": {},
   "outputs": [],
   "source": [
    "# manual fitting\n",
    "M0_fit_manual = M0_fit\n",
    "cumslip_fit_manual_expscaling = 0.3\n",
    "cumslip_fit_manual_intercept = 2.5\n",
    "cumslip_fit_manual = cumslip_fit_manual_intercept * M0_fit_manual ** cumslip_fit_manual_expscaling"
   ]
  },
  {
   "cell_type": "code",
   "execution_count": null,
   "metadata": {},
   "outputs": [],
   "source": []
  },
  {
   "cell_type": "code",
   "execution_count": 21,
   "metadata": {},
   "outputs": [
    {
     "data": {
      "image/png": "[encoded data removed]",
      "text/plain": [
       "<Figure size 450x450 with 2 Axes>"
      ]
     },
     "metadata": {},
     "output_type": "display_data"
    }
   ],
   "source": [
    "fig, ax = plt.subplots(1, 1, figsize=(4.5, 4.5))\n",
    "mainmarkersize=7\n",
    "\n",
    "# Compute standard error\n",
    "standarderror_factor = np.sqrt(Nvalidsensor_thresh)\n",
    "\n",
    "# # plot foreshocks\n",
    "ax.errorbar(df_gf_thresh[\"M0\"].values, df_gf_thresh[\"cumulativelocalslip[mm]\"].values*1e3, xerr=df_gf_thresh[\"M0_std\"].values/standarderror_factor,\n",
    "           capsize=0, fmt=\"o\", markersize=mainmarkersize, color=scatter_mc[0], lw=1, markeredgecolor = \"k\", label=\"Foreshocks\", zorder=3)\n",
    "\n",
    "\n",
    "# plot fit curve\n",
    "# ax.plot(M0_fit, cumslip_fit, \"k--\")\n",
    "Plotfitslope = True #True\n",
    "\n",
    "if Plotfitslope:\n",
    "    ax.plot(M0_fit_manual, cumslip_fit_manual, \"k--\", lw=1.0)\n",
    "    annottxt = r\"$\\delta \\propto M_0^{{{:.1f}}}$\".format(cumslip_fit_manual_expscaling)\n",
    "    ax.text(0.46, 0.25, annottxt, transform=ax.transAxes)\n",
    "\n",
    "# ax.errorbar(df_gf_thresh_droplimevent[\"M0\"].values, df_gf_thresh_droplimevent[\"cumulativelocalslip[mm]\"].values*1e3, xerr=df_gf_thresh_droplimevent[\"M0_std\"].values,\n",
    "#            capsize=0, fmt=\"o\", markersize=mainmarkersize, color=scatter_mc[0], lw=1, markeredgecolor = \"k\", label=\"Foreshocks\", zorder=3)\n",
    "\n",
    "# plot measurement limitation\n",
    "# ax.errorbar(df_gf_thresh_measurementlimit[\"M0\"].values, df_gf_thresh_measurementlimit[\"cumulativelocalslip[mm]\"].values*1e3, xerr=df_gf_thresh_measurementlimit[\"M0_std\"].values,\n",
    "#            capsize=0, fmt=\"x\", markersize=mainmarkersize, color=\"gray\", lw=1, ls=\":\", markeredgecolor = \"k\", label=\"\", zorder=3, alpha=1.0)\n",
    "\n",
    "\n",
    "\n",
    "ax.set_xscale('log')\n",
    "ax.set_yscale('log')\n",
    "\n",
    "\n",
    "xlimit_scaling = [5e-3, 7]\n",
    "\n",
    "ax.set_xlim(xlimit_scaling)\n",
    "ax.set_ylim([0.5, 10])\n",
    "\n",
    "# ax.set_yticks([2, 3, ])\n",
    "# ax.set_yticklabels([2, 3, ])\n",
    "\n",
    "ax.set_xlabel(\"$M_0$ [Nm]\")\n",
    "ax.set_ylabel(\"Cumulative local slip [μm]\")\n",
    "\n",
    "ax.grid(True, c=np.array([230, 230, 230])/255, lw=0.25, zorder=-1)\n",
    "ax.set_axisbelow('True')\n",
    "# ax.legend(loc=3)\n",
    "\n",
    "\n",
    "\n",
    "#-----------------------#\n",
    "#--- plot double axis---#\n",
    "#-----------------------#\n",
    "\n",
    "# https://pythonmatplotlibtips.blogspot.com/2018/01/add-second-x-axis-below-first-x-axis-python-matplotlib-pyplot.html\n",
    "ax2 = ax.twiny()\n",
    "ax2.set_xlabel(\"$M_w$\")\n",
    "ax2.set_xlim([M02Mw(xlimit_scaling[0]), M02Mw(xlimit_scaling[1])]) # synchronize with the first axis\n",
    "\n",
    "# major tick\n",
    "newlabel = np.array([-7.5, -7, -6.5, -6.0,])\n",
    "ax2.minorticks_on()\n",
    "ax2.set_xticks(newlabel)\n",
    "\n",
    "ax.grid(True, c=np.array([230, 230, 230])/255, lw=0.25, zorder=-1)\n",
    "ax.set_axisbelow('True')\n",
    "\n",
    "ax.xaxis.set_major_formatter(mticker.FormatStrFormatter('%.2g'))\n",
    "ax.yaxis.set_major_formatter(mticker.FormatStrFormatter('%.0f'))\n",
    "\n",
    "# plt.suptitle(f'Q{Qinv_quart} water-level={k_waterlevel:.2f}', y=0.98)\n",
    "plt.tight_layout()\n",
    "\n",
    "plt.savefig(figdir_master+f\"/FigS_M0_cumulativeslip_fb03-{expr_id:03d}_fitcurve{Plotfitslope}.png\", format=\"png\", dpi=70)\n",
    "plt.savefig(figdir_master+f\"/FigS_M0_cumulativeslip_fb03-{expr_id:03d}_fitcurve{Plotfitslope}.eps\")\n"
   ]
  },
  {
   "cell_type": "code",
   "execution_count": 22,
   "metadata": {},
   "outputs": [
    {
     "data": {
      "text/plain": [
       "2.6692309291272"
      ]
     },
     "execution_count": 22,
     "metadata": {},
     "output_type": "execute_result"
    }
   ],
   "source": [
    "df_gf_thresh[\"cumulativelocalslip[mm]\"].mean() * 1e3"
   ]
  },
  {
   "cell_type": "code",
   "execution_count": 23,
   "metadata": {},
   "outputs": [
    {
     "name": "stdout",
     "output_type": "stream",
     "text": [
      "1.9660262247299998 2.7417775060311\n"
     ]
    }
   ],
   "source": [
    "# compute quartile of cumulative local slip\n",
    "cumds_1 = df_gf_thresh[\"cumulativelocalslip[mm]\"].quantile(0.25) * 1e3\n",
    "cumds_3 = df_gf_thresh[\"cumulativelocalslip[mm]\"].quantile(0.75) * 1e3\n",
    "print(cumds_1, cumds_3)"
   ]
  },
  {
   "cell_type": "code",
   "execution_count": 30,
   "metadata": {},
   "outputs": [
    {
     "data": {
      "text/plain": [
       "21"
      ]
     },
     "execution_count": 30,
     "metadata": {},
     "output_type": "execute_result"
    }
   ],
   "source": [
    "len(df_gf_thresh)"
   ]
  },
  {
   "cell_type": "markdown",
   "metadata": {},
   "source": [
    "# Plot correlation to the local slip velocity"
   ]
  },
  {
   "cell_type": "code",
   "execution_count": 24,
   "metadata": {},
   "outputs": [
    {
     "data": {
      "text/html": [
       "<div>\n",
       "<style scoped>\n",
       "    .dataframe tbody tr th:only-of-type {\n",
       "        vertical-align: middle;\n",
       "    }\n",
       "\n",
       "    .dataframe tbody tr th {\n",
       "        vertical-align: top;\n",
       "    }\n",
       "\n",
       "    .dataframe thead th {\n",
       "        text-align: right;\n",
       "    }\n",
       "</style>\n",
       "<table border=\"1\" class=\"dataframe\">\n",
       "  <thead>\n",
       "    <tr style=\"text-align: right;\">\n",
       "      <th></th>\n",
       "      <th>event_id</th>\n",
       "      <th>location</th>\n",
       "      <th>event_onset_time</th>\n",
       "      <th>stickslip_id</th>\n",
       "      <th>event_label</th>\n",
       "      <th>Q_correction_quart</th>\n",
       "      <th>Nvalidsensors</th>\n",
       "      <th>M0</th>\n",
       "      <th>M0_std</th>\n",
       "      <th>Mw</th>\n",
       "      <th>Tw</th>\n",
       "      <th>Tw_std</th>\n",
       "      <th>cumulativelocalslip[mm]</th>\n",
       "      <th>localslipvelocity[mm/s]</th>\n",
       "    </tr>\n",
       "  </thead>\n",
       "  <tbody>\n",
       "    <tr>\n",
       "      <th>0</th>\n",
       "      <td>4</td>\n",
       "      <td>1.75</td>\n",
       "      <td>42.474772</td>\n",
       "      <td>3</td>\n",
       "      <td>A</td>\n",
       "      <td>50</td>\n",
       "      <td>4</td>\n",
       "      <td>0.592607</td>\n",
       "      <td>0.178671</td>\n",
       "      <td>-6.218156</td>\n",
       "      <td>0.000003</td>\n",
       "      <td>1.530315e-07</td>\n",
       "      <td>0.021109</td>\n",
       "      <td>1.134615</td>\n",
       "    </tr>\n",
       "    <tr>\n",
       "      <th>1</th>\n",
       "      <td>9</td>\n",
       "      <td>1.75</td>\n",
       "      <td>47.662693</td>\n",
       "      <td>5</td>\n",
       "      <td>F</td>\n",
       "      <td>50</td>\n",
       "      <td>4</td>\n",
       "      <td>0.046991</td>\n",
       "      <td>0.007419</td>\n",
       "      <td>-6.951990</td>\n",
       "      <td>0.000002</td>\n",
       "      <td>3.643121e-07</td>\n",
       "      <td>0.001041</td>\n",
       "      <td>1.723430</td>\n",
       "    </tr>\n",
       "    <tr>\n",
       "      <th>2</th>\n",
       "      <td>18</td>\n",
       "      <td>1.75</td>\n",
       "      <td>56.727044</td>\n",
       "      <td>8</td>\n",
       "      <td>F</td>\n",
       "      <td>50</td>\n",
       "      <td>4</td>\n",
       "      <td>0.755830</td>\n",
       "      <td>0.192507</td>\n",
       "      <td>-6.147717</td>\n",
       "      <td>0.000003</td>\n",
       "      <td>3.100882e-07</td>\n",
       "      <td>0.002639</td>\n",
       "      <td>2.894185</td>\n",
       "    </tr>\n",
       "    <tr>\n",
       "      <th>3</th>\n",
       "      <td>19</td>\n",
       "      <td>1.75</td>\n",
       "      <td>59.103175</td>\n",
       "      <td>9</td>\n",
       "      <td>F</td>\n",
       "      <td>50</td>\n",
       "      <td>4</td>\n",
       "      <td>0.055755</td>\n",
       "      <td>0.016951</td>\n",
       "      <td>-6.902476</td>\n",
       "      <td>0.000002</td>\n",
       "      <td>2.699155e-07</td>\n",
       "      <td>0.001132</td>\n",
       "      <td>2.434580</td>\n",
       "    </tr>\n",
       "    <tr>\n",
       "      <th>4</th>\n",
       "      <td>20</td>\n",
       "      <td>1.75</td>\n",
       "      <td>59.103526</td>\n",
       "      <td>9</td>\n",
       "      <td>F</td>\n",
       "      <td>50</td>\n",
       "      <td>4</td>\n",
       "      <td>0.865466</td>\n",
       "      <td>0.210250</td>\n",
       "      <td>-6.108500</td>\n",
       "      <td>0.000003</td>\n",
       "      <td>1.352659e-07</td>\n",
       "      <td>0.002116</td>\n",
       "      <td>3.092838</td>\n",
       "    </tr>\n",
       "  </tbody>\n",
       "</table>\n",
       "</div>"
      ],
      "text/plain": [
       "   event_id  location  event_onset_time  stickslip_id event_label  \\\n",
       "0         4      1.75         42.474772             3           A   \n",
       "1         9      1.75         47.662693             5           F   \n",
       "2        18      1.75         56.727044             8           F   \n",
       "3        19      1.75         59.103175             9           F   \n",
       "4        20      1.75         59.103526             9           F   \n",
       "\n",
       "   Q_correction_quart  Nvalidsensors        M0    M0_std        Mw        Tw  \\\n",
       "0                  50              4  0.592607  0.178671 -6.218156  0.000003   \n",
       "1                  50              4  0.046991  0.007419 -6.951990  0.000002   \n",
       "2                  50              4  0.755830  0.192507 -6.147717  0.000003   \n",
       "3                  50              4  0.055755  0.016951 -6.902476  0.000002   \n",
       "4                  50              4  0.865466  0.210250 -6.108500  0.000003   \n",
       "\n",
       "         Tw_std  cumulativelocalslip[mm]  localslipvelocity[mm/s]  \n",
       "0  1.530315e-07                 0.021109                 1.134615  \n",
       "1  3.643121e-07                 0.001041                 1.723430  \n",
       "2  3.100882e-07                 0.002639                 2.894185  \n",
       "3  2.699155e-07                 0.001132                 2.434580  \n",
       "4  1.352659e-07                 0.002116                 3.092838  "
      ]
     },
     "execution_count": 24,
     "metadata": {},
     "output_type": "execute_result"
    }
   ],
   "source": [
    "df_gougeevent.head()"
   ]
  },
  {
   "cell_type": "code",
   "execution_count": 25,
   "metadata": {},
   "outputs": [],
   "source": [
    "df_gougeevent_foreshock_thresh = df_gougeevent[(df_gougeevent[\"event_label\"]==\"F\") & (df_gougeevent[\"Nvalidsensors\"]>=Nvalidsensor_thresh) ]\n",
    "df_gougeevent_aftershock_thresh = df_gougeevent[(df_gougeevent[\"event_label\"]==\"A\") & (df_gougeevent[\"Nvalidsensors\"]>=Nvalidsensor_thresh) ]"
   ]
  },
  {
   "cell_type": "code",
   "execution_count": 26,
   "metadata": {},
   "outputs": [],
   "source": [
    "# df_gougeevent_foreshock_thresh"
   ]
  },
  {
   "cell_type": "code",
   "execution_count": 27,
   "metadata": {},
   "outputs": [],
   "source": [
    "# df_gougeevent_aftershock_thresh"
   ]
  },
  {
   "cell_type": "code",
   "execution_count": 28,
   "metadata": {},
   "outputs": [
    {
     "name": "stderr",
     "output_type": "stream",
     "text": [
      "The PostScript backend does not support transparency; partially transparent artists will be rendered opaque.\n"
     ]
    },
    {
     "data": {
      "image/png": "[encoded data removed]",
      "text/plain": [
       "<Figure size 550x540 with 2 Axes>"
      ]
     },
     "metadata": {},
     "output_type": "display_data"
    }
   ],
   "source": [
    "fig, ax = plt.subplots(1, 1, figsize=(5.5, 5.4))\n",
    "\n",
    "mc = sns.color_palette(\"colorblind\", as_cmap=True)\n",
    "mt = [\"s\", \"d\", \"v\", \"^\"]\n",
    "ms = 20\n",
    "\n",
    "\n",
    "ax.errorbar(df_gougeevent_foreshock_thresh[\"M0\"].values,  df_gougeevent_foreshock_thresh[\"localslipvelocity[mm/s]\"].values, xerr=df_gougeevent_foreshock_thresh[\"M0_std\"].values/standarderror_factor,\n",
    "           capsize=0, fmt=\"o\", markersize=mainmarkersize, color=scatter_mc[0], lw=1, markeredgecolor = \"k\", label=\"Foreshocks\", zorder=4)\n",
    "\n",
    "ax.errorbar(df_gougeevent_aftershock_thresh[\"M0\"].values,  df_gougeevent_aftershock_thresh[\"localslipvelocity[mm/s]\"].values, xerr=df_gougeevent_aftershock_thresh[\"M0_std\"].values/standarderror_factor,\n",
    "           capsize=0, fmt=\"v\", markersize=mainmarkersize, color=scatter_mc[1], lw=1, markeredgecolor = \"k\", label=\"Aftershocks\", zorder=3)\n",
    "\n",
    "\n",
    "\n",
    "ax.set_xscale('log')\n",
    "ax.set_yscale('log')\n",
    "\n",
    "\n",
    "# xlimit_scaling = [5e-3, 7]\n",
    "\n",
    "ax.set_xlim(xlimit_scaling)\n",
    "ax.set_ylim([0.05, 10])\n",
    "\n",
    "ax.legend(loc=3)\n",
    "\n",
    "ax.set_xlabel(\"$M_0$ [Nm]\")\n",
    "ax.set_ylabel(\"Local slip velocity [mm/s]\")\n",
    "\n",
    "ax.grid(True, c=np.array([230, 230, 230])/255, lw=0.25, zorder=-1)\n",
    "ax.set_axisbelow('True')\n",
    "\n",
    "#-----------------------#\n",
    "#--- plot double axis---#\n",
    "#-----------------------#\n",
    "\n",
    "# https://pythonmatplotlibtips.blogspot.com/2018/01/add-second-x-axis-below-first-x-axis-python-matplotlib-pyplot.html\n",
    "ax2 = ax.twiny()\n",
    "ax2.set_xlabel(\"$M_w$\")\n",
    "ax2.set_xlim([M02Mw(xlimit_scaling[0]), M02Mw(xlimit_scaling[1])]) # synchronize with the first axis\n",
    "\n",
    "# major tick\n",
    "newlabel = np.array([-7.5, -7, -6.5, -6.0,])\n",
    "ax2.minorticks_on()\n",
    "ax2.set_xticks(newlabel)\n",
    "\n",
    "ax.grid(True, c=np.array([230, 230, 230])/255, lw=0.25, zorder=-1)\n",
    "ax.set_axisbelow('True')\n",
    "\n",
    "ax.xaxis.set_major_formatter(mticker.FormatStrFormatter('%.2g'))\n",
    "ax.yaxis.set_major_formatter(mticker.FormatStrFormatter('%.2g'))\n",
    "\n",
    "# plt.suptitle(f'Q{Qinv_quart} water-level={k_waterlevel:.2f}', y=0.98)\n",
    "plt.tight_layout()\n",
    "\n",
    "plt.savefig(figdir_master+f\"/M0_slipvel_fb03-{expr_id:03d}.png\", format=\"png\", dpi=70)\n",
    "plt.savefig(figdir_master+f\"/M0_slipvel_fb03-{expr_id:03d}.eps\")\n"
   ]
  },
  {
   "cell_type": "markdown",
   "metadata": {},
   "source": [
    "Note that the one aftershocks with negative slip velocity is clipped."
   ]
  },
  {
   "cell_type": "code",
   "execution_count": null,
   "metadata": {},
   "outputs": [],
   "source": []
  }
 ],
 "metadata": {
  "kernelspec": {
   "display_name": "Python 3 (ipykernel)",
   "language": "python",
   "name": "python3"
  },
  "language_info": {
   "codemirror_mode": {
    "name": "ipython",
    "version": 3
   },
   "file_extension": ".py",
   "mimetype": "text/x-python",
   "name": "python",
   "nbconvert_exporter": "python",
   "pygments_lexer": "ipython3",
   "version": "3.12.9"
  }
 },
 "nbformat": 4,
 "nbformat_minor": 4
}

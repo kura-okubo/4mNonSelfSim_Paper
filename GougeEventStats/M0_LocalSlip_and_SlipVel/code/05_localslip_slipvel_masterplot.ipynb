{
 "cells": [
  {
   "cell_type": "markdown",
   "metadata": {},
   "source": [
    "# Plot comparison between $M_0$ and Local cumulative slip and the slip velocity\n",
    "\n",
    "Plot the comparison between the magnitude and the local cumulative slip.\n",
    "\n",
    "2025.01.28 Kurama Okubo\n",
    "\n",
    "- 2025.03.19 update for master plot"
   ]
  },
  {
   "cell_type": "code",
   "execution_count": null,
   "metadata": {},
   "outputs": [],
   "source": [
    "import os\n",
    "import matplotlib.pyplot as plt\n",
    "from matplotlib.cm import ScalarMappable\n",
    "import matplotlib as mpl\n",
    "import matplotlib.ticker as mticker\n",
    "\n",
    "%matplotlib inline\n",
    "import numpy as np\n",
    "import pandas as pd\n",
    "import datetime\n",
    "from datetime import timedelta\n",
    "from tqdm import tqdm\n",
    "import warnings\n",
    "import time\n",
    "import pickle \n",
    "import seaborn as sns\n",
    "import copy\n",
    "\n",
    "import scipy.io as sio\n",
    "from scipy.signal import decimate\n",
    "\n",
    "%load_ext autoreload\n",
    "%autoreload 2\n",
    "\n",
    "plt.rcParams[\"font.family\"] = 'Arial'\n",
    "# plt.rcParams[\"font.sans-serif\"] = \"DejaVu Sans, Arial, Helvetica, Lucida Grande, Verdana, Geneva, Lucid, Avant Garde, sans-serif\"\n",
    "plt.rcParams[\"font.size\"] = 10\n",
    "plt.rcParams[\"xtick.direction\"] = \"in\"\n",
    "plt.rcParams[\"xtick.major.size\"] = 4.75\n",
    "plt.rcParams[\"xtick.major.width\"] = 0.75\n",
    "plt.rcParams[\"xtick.minor.size\"] = 3\n",
    "plt.rcParams[\"xtick.minor.width\"] = 0.4\n",
    "plt.rcParams[\"xtick.minor.visible\"] = True\n",
    "\n",
    "plt.rcParams[\"ytick.direction\"] = \"in\"\n",
    "plt.rcParams[\"ytick.major.size\"] = 4.75\n",
    "plt.rcParams[\"ytick.major.width\"] = 0.75\n",
    "plt.rcParams[\"ytick.minor.size\"] = 3\n",
    "plt.rcParams[\"ytick.minor.width\"] = 0.4\n",
    "plt.rcParams[\"ytick.minor.visible\"] = True\n",
    "\n",
    "plt.rcParams[\"savefig.transparent\"] = False #True\n"
   ]
  },
  {
   "cell_type": "code",
   "execution_count": null,
   "metadata": {},
   "outputs": [],
   "source": []
  },
  {
   "cell_type": "code",
   "execution_count": null,
   "metadata": {},
   "outputs": [],
   "source": [
    "figdir = \"../figure/05_M0andslip_slipvel_masterplot/\"\n",
    "if not os.path.exists(figdir):\n",
    "    os.makedirs(figdir)\n"
   ]
  },
  {
   "cell_type": "markdown",
   "metadata": {},
   "source": [
    "# List of plots\n",
    "1. 16 slip sensors with the timing of gouge event\n",
    "2. Time history of the slip at gouge patch\n",
    "3. Scatter plot of M0 vs cumulative local slip"
   ]
  },
  {
   "cell_type": "code",
   "execution_count": null,
   "metadata": {},
   "outputs": [],
   "source": []
  },
  {
   "cell_type": "code",
   "execution_count": null,
   "metadata": {},
   "outputs": [],
   "source": [
    "expr_id = 87"
   ]
  },
  {
   "cell_type": "markdown",
   "metadata": {},
   "source": [
    "# Load the event catalog"
   ]
  },
  {
   "cell_type": "code",
   "execution_count": null,
   "metadata": {},
   "outputs": [],
   "source": [
    "df_gougeevent = pd.read_csv(f\"../data/localslip_and_slipvel_fb03-{expr_id:03d}.csv\")"
   ]
  },
  {
   "cell_type": "code",
   "execution_count": null,
   "metadata": {},
   "outputs": [],
   "source": [
    "df_gougeevent.head()"
   ]
  },
  {
   "cell_type": "code",
   "execution_count": null,
   "metadata": {},
   "outputs": [],
   "source": [
    "df_gougeevent_foreshock = df_gougeevent[df_gougeevent[\"event_label\"]==\"F\"]"
   ]
  },
  {
   "cell_type": "code",
   "execution_count": null,
   "metadata": {},
   "outputs": [],
   "source": []
  },
  {
   "cell_type": "markdown",
   "metadata": {},
   "source": [
    "# 1. Plot space and slip"
   ]
  },
  {
   "cell_type": "code",
   "execution_count": null,
   "metadata": {},
   "outputs": [],
   "source": [
    "lc = sns.color_palette(\"colorblind\", as_cmap=False)\n",
    "lc"
   ]
  },
  {
   "cell_type": "code",
   "execution_count": null,
   "metadata": {},
   "outputs": [],
   "source": [
    "figdir_space = \"../figure/05_M0andslip_slipvel_masterplot/spatialslip_M0\"\n",
    "if not os.path.exists(figdir_space):\n",
    "    os.makedirs(figdir_space)\n",
    "    "
   ]
  },
  {
   "cell_type": "code",
   "execution_count": null,
   "metadata": {},
   "outputs": [],
   "source": []
  },
  {
   "cell_type": "markdown",
   "metadata": {},
   "source": [
    "## Plot representive event"
   ]
  },
  {
   "cell_type": "code",
   "execution_count": null,
   "metadata": {},
   "outputs": [],
   "source": [
    "# for ind, df_event in df_gougeevent_foreshock.iterrows():\n",
    "masterevent_id = 129\n",
    "df_event = df_gougeevent_foreshock[df_gougeevent_foreshock[\"event_id\"]==masterevent_id].iloc[0]\n",
    "stickslip_id = df_event.stickslip_id\n",
    "gougeevent_id = df_event.event_id\n",
    "\n",
    "finame_mat = f\"../data/p01_slipandslipvel/FB03-{expr_id:03d}_slipvelocity_event{stickslip_id:03d}.mat\"\n",
    "V = sio.loadmat(finame_mat, squeeze_me=True)\n",
    "\n",
    "# find the closest time of the onset of gouge event\n",
    "tvec = V[\"Tstart\"] + V['tmat_slip_event']\n",
    "t_gougeevent_ind = np.where(tvec >= df_event[\"event_onset_time\"])[0][0]\n",
    "\n",
    "fig, ax = plt.subplots(1, 1, figsize=(4.5, 3.))\n",
    "\n",
    "ax.plot(V['Disp_x']*1e-3, V['Dmat_event_filtered'][t_gougeevent_ind, :]*1e3, \"k-\", marker=\"o\", ms=4, lw=1)\n",
    "\n",
    "# plot the slip before and after the gouge event\n",
    "t_backward = [2e-3, 6e-3, 15e-3, 25e-3]\n",
    "for tb in t_backward:\n",
    "    tb_ind = np.where(tvec >= df_event[\"event_onset_time\"]-tb)[0][0]\n",
    "    ax.plot(V['Disp_x']*1e-3, V['Dmat_event_filtered'][tb_ind, :]*1e3, \"-\", c=[0.6, 0.6, 0.6], marker=\"o\", ms=4, lw=1)\n",
    "\n",
    "\n",
    "# plot gouge event and cumulative local slip\n",
    "ax.plot(df_event.location, df_event[\"cumulativelocalslip[mm]\"]*1e3, \"*\", mec=\"k\", mfc=lc[8], ms=16)\n",
    "# axhline\n",
    "ax.axhline(df_event[\"cumulativelocalslip[mm]\"]*1e3, c=\"k\", ls=\"--\", zorder=-1)\n",
    "\n",
    "annottxt = f\"gouge event ID:{gougeevent_id}\\n$M_0$: {df_event['M0']:4.2f} Nm\\nCumulative local slip: {df_event['cumulativelocalslip[mm]']*1e3:4.2f} μm\"\n",
    "ax.text(0.97, 0.76, annottxt, transform=ax.transAxes, ha=\"right\")\n",
    "\n",
    "ax.set_xlim(0, 4.1)\n",
    "\n",
    "if df_event['cumulativelocalslip[mm]'] *1e3 > 10:\n",
    "    ymax = 40\n",
    "else:\n",
    "    ymax = 10\n",
    "    \n",
    "ax.set_ylim(-0.5, ymax)\n",
    "\n",
    "ax.set_xlabel(\"Distance from western edge of fault [m]\")\n",
    "ax.set_ylabel(\"Cumulative slip [μm]\")\n",
    "\n",
    "plt.tight_layout()\n",
    "\n",
    "# plt.savefig(figdir_space+f\"/cumulativeslip_fb03-{expr_id:03d}_{gougeevent_id}.png\", format=\"png\", dpi=80)\n",
    "plt.savefig(figdir_space+f\"/FigS_cumulativeslip_fb03-{expr_id:03d}_{gougeevent_id}.eps\")\n",
    "\n",
    "# plt.clf()\n",
    "# plt.close()"
   ]
  },
  {
   "cell_type": "markdown",
   "metadata": {},
   "source": [
    "## Plot all the gouge event"
   ]
  },
  {
   "cell_type": "code",
   "execution_count": null,
   "metadata": {},
   "outputs": [],
   "source": [
    "for ind, df_event in df_gougeevent_foreshock.iterrows():\n",
    "    \n",
    "    # df_event = df_gougeevent_foreshock[df_gougeevent_foreshock[\"event_id\"]==masterevent_id].iloc[0]\n",
    "    stickslip_id = df_event.stickslip_id\n",
    "    gougeevent_id = df_event.event_id\n",
    "\n",
    "    finame_mat = f\"../data/p01_slipandslipvel/FB03-{expr_id:03d}_slipvelocity_event{stickslip_id:03d}.mat\"\n",
    "    V = sio.loadmat(finame_mat, squeeze_me=True)\n",
    "    \n",
    "    # find the closest time of the onset of gouge event\n",
    "    tvec = V[\"Tstart\"] + V['tmat_slip_event']\n",
    "    t_gougeevent_ind = np.where(tvec >= df_event[\"event_onset_time\"])[0][0]\n",
    "    \n",
    "    fig, ax = plt.subplots(1, 1, figsize=(4.5, 3.))\n",
    "    \n",
    "    ax.plot(V['Disp_x']*1e-3, V['Dmat_event_filtered'][t_gougeevent_ind, :]*1e3, \"k-\", marker=\"o\", ms=4, lw=1)\n",
    "    \n",
    "    # plot the slip before and after the gouge event\n",
    "    t_backward = [2e-3, 4e-6, 6e-3, 10e-3]\n",
    "    for tb in t_backward:\n",
    "        tb_ind = np.where(tvec >= df_event[\"event_onset_time\"]-tb)[0][0]\n",
    "        ax.plot(V['Disp_x']*1e-3, V['Dmat_event_filtered'][tb_ind, :]*1e3, \"-\", c=[0.6, 0.6, 0.6], marker=\"o\", ms=4, lw=1)\n",
    "    \n",
    "    \n",
    "    # plot gouge event and cumulative local slip\n",
    "    ax.plot(df_event.location, df_event[\"cumulativelocalslip[mm]\"]*1e3, \"*\", mec=\"k\", mfc=lc[8], ms=16)\n",
    "    # axhline\n",
    "    ax.axhline(df_event[\"cumulativelocalslip[mm]\"]*1e3, c=\"k\", ls=\"--\", zorder=-1)\n",
    "    \n",
    "    annottxt = f\"gouge event ID:{gougeevent_id}\\n$M_0$: {df_event['M0']:4.2f} Nm\\nCumulative local slip: {df_event['cumulativelocalslip[mm]']*1e3:4.2f} μm\"\n",
    "    ax.text(0.85, 0.76, annottxt, transform=ax.transAxes, ha=\"right\")\n",
    "    \n",
    "    ax.set_xlim(0, 4.1)\n",
    "    \n",
    "    if df_event['cumulativelocalslip[mm]'] *1e3 > 10:\n",
    "        ymax = 40\n",
    "    else:\n",
    "        ymax = 10\n",
    "        \n",
    "    ax.set_ylim(-0.5, ymax)\n",
    "    \n",
    "    ax.set_xlabel(\"Distance from western edge of fault [m]\")\n",
    "    ax.set_ylabel(\"Cumulative slip [μm]\")\n",
    "    \n",
    "    plt.tight_layout()\n",
    "    \n",
    "    plt.savefig(figdir_space+f\"/cumulativeslip_fb03-{expr_id:03d}_{gougeevent_id}.jpg\", format=\"jpg\", dpi=80)\n",
    "    # plt.savefig(figdir_space+f\"/cumulativeslip_fb03-{expr_id:03d}_{gougeevent_id}.pdf\")\n",
    "    \n",
    "    plt.clf()\n",
    "    plt.close()"
   ]
  },
  {
   "cell_type": "code",
   "execution_count": null,
   "metadata": {},
   "outputs": [],
   "source": []
  },
  {
   "cell_type": "markdown",
   "metadata": {},
   "source": [
    "# 2. Plot time history of cumulative slip"
   ]
  },
  {
   "cell_type": "code",
   "execution_count": null,
   "metadata": {},
   "outputs": [],
   "source": [
    "figdir_tr = \"../figure/05_M0andslip_slipvel_masterplot/debug_timehistory_cumulativeslip\"\n",
    "if not os.path.exists(figdir_tr):\n",
    "    os.makedirs(figdir_tr)\n",
    "    "
   ]
  },
  {
   "cell_type": "code",
   "execution_count": null,
   "metadata": {},
   "outputs": [],
   "source": [
    "for ind, df_event in df_gougeevent_foreshock.iterrows():\n",
    "    # masterevent_id = 129\n",
    "    # df_event = df_gougeevent_foreshock[df_gougeevent_foreshock[\"event_id\"]==masterevent_id].iloc[0]\n",
    "    stickslip_id = df_event.stickslip_id\n",
    "    gougeevent_id = df_event.event_id\n",
    "    \n",
    "    finame_mat = f\"../data/p01_slipandslipvel/FB03-{expr_id:03d}_slipvelocity_event{stickslip_id:03d}.mat\"\n",
    "    V = sio.loadmat(finame_mat, squeeze_me=True)\n",
    "    \n",
    "    # find the closest time of the onset of gouge event\n",
    "    tvec = V[\"Tstart\"] + V['tmat_slip_event']\n",
    "    \n",
    "    finame_tr = f\"../data/p02_slipinterpolation/FB03-087_slip_and_slipvel_atgouge_gougeevent{gougeevent_id:03d}.mat\"\n",
    "    \n",
    "    W = sio.loadmat(finame_tr, squeeze_me=True)\n",
    "    \n",
    "    fig, ax = plt.subplots(1, 1, figsize=(4.5, 3.))\n",
    "    ax.plot(W['tr_tmat'] - V[\"Tstart\"], W['tr_slip_gouge']*1e3, \"k-\")\n",
    "    \n",
    "    # plot gouge event and cumulative local slip\n",
    "    ax.plot(df_event.event_onset_time - V[\"Tstart\"], df_event[\"cumulativelocalslip[mm]\"]*1e3, \"*\", mec=\"k\", mfc=lc[8], ms=16)\n",
    "    # axhline\n",
    "    ax.axhline(df_event[\"cumulativelocalslip[mm]\"]*1e3, c=\"k\", ls=\"--\", zorder=-1)\n",
    "    \n",
    "    annottxt = f\"gouge event ID:{gougeevent_id}\\n$M_0$: {df_event['M0']:4.2f} Nm\\nCumulative local slip: {df_event['cumulativelocalslip[mm]']*1e3:4.2f} μm\"\n",
    "    ax.text(0.9, 0.3, annottxt, transform=ax.transAxes, ha=\"right\")\n",
    "    \n",
    "    ax.set_ylim(-2, 40)\n",
    "\n",
    "    ax.set_xlabel(\"Time [s]\")\n",
    "    ax.set_ylabel(\"Cumulative slip [μm]\")\n",
    "   \n",
    "    plt.tight_layout()\n",
    "    \n",
    "    # plt.savefig(figdir_tr+f\"/cumulativeslip_fb03-{expr_id:03d}_{gougeevent_id}.png\", format=\"png\", dpi=80)\n",
    "    plt.savefig(figdir_tr+f\"/timehistory_cumulativeslip_fb03-{expr_id:03d}_{gougeevent_id}.pdf\")\n",
    "    \n",
    "    plt.clf()\n",
    "    plt.close()"
   ]
  },
  {
   "cell_type": "code",
   "execution_count": null,
   "metadata": {},
   "outputs": [],
   "source": []
  },
  {
   "cell_type": "markdown",
   "metadata": {},
   "source": [
    "# 3. Scatter plot of M0 vs cumulative local slip"
   ]
  },
  {
   "cell_type": "code",
   "execution_count": null,
   "metadata": {},
   "outputs": [],
   "source": [
    "figdir_master = \"../figure/05_M0andslip_slipvel_masterplot/master_scatter\"\n",
    "if not os.path.exists(figdir_master):\n",
    "    os.makedirs(figdir_master)\n",
    "    "
   ]
  },
  {
   "cell_type": "code",
   "execution_count": null,
   "metadata": {},
   "outputs": [],
   "source": [
    "# select the foreshocks with the valid sensors\n",
    "Nvalidsensor_thresh = 4\n",
    "df_gf_thresh = df_gougeevent_foreshock[df_gougeevent_foreshock[\"Nvalidsensors\"]>=Nvalidsensor_thresh]\n",
    "\n",
    "# remove the event 126 as it is on the measurement limitation\n",
    "measurementlimit_list = [126]\n",
    "df_gf_thresh_measurementlimit = df_gf_thresh[df_gf_thresh[\"event_id\"].isin(measurementlimit_list)]\n",
    "df_gf_thresh_droplimevent = df_gf_thresh[~(df_gf_thresh[\"event_id\"].isin(measurementlimit_list))]\n",
    "\n",
    "Nevent = len(df_gf_thresh)\n",
    "\n",
    "print(f\"Number of foreshocks: {Nevent}\")"
   ]
  },
  {
   "cell_type": "code",
   "execution_count": null,
   "metadata": {},
   "outputs": [],
   "source": [
    "df_gf_thresh_measurementlimit"
   ]
  },
  {
   "cell_type": "code",
   "execution_count": null,
   "metadata": {},
   "outputs": [],
   "source": [
    "scatter_mc = sns.color_palette(\"Set1\")\n",
    "scatter_mc"
   ]
  },
  {
   "cell_type": "code",
   "execution_count": null,
   "metadata": {},
   "outputs": [],
   "source": [
    "def M02Mw(M0):\n",
    "    return (np.log10(M0) - 9.1) * 2.0 / 3.0 # synchronized with OpenSWPC : moment_magnitude ( m0 )\n",
    "\n",
    "def Mw2M0(Mw):\n",
    "    return 10**( 1.5 * Mw + 9.05) # synchronized with OpenSWPC : seismic_moment ( mw )\n",
    "   "
   ]
  },
  {
   "cell_type": "markdown",
   "metadata": {},
   "source": [
    "### Compute log fitting\n",
    "As the M0 has the std, we set Y as M0 and invert it to get the logarithmic slope.\n",
    "\n",
    "$$\\log M_0 = c_0 + c_1 \\log \\delta $$\n",
    "$$  \\delta = 10 ^{-\\frac{c_0}{c_1}} M_0 ^{\\frac{1}{c_1}}  $$\n",
    "\n",
    "**NOTE:** Due to the outliers, the fitting is apart from the majority of events. Thus, we do not use the fitting values, but just refer the order of magnitude in the exponential scaling between $M_0$ and $\\delta$."
   ]
  },
  {
   "cell_type": "code",
   "execution_count": null,
   "metadata": {},
   "outputs": [],
   "source": [
    "X = np.log10(df_gf_thresh[\"cumulativelocalslip[mm]\"].values*1e3)\n",
    "Y = np.log10(df_gf_thresh[\"M0\"].values)\n",
    "\n",
    "res = np.polynomial.polynomial.polyfit(X, Y, 1)\n",
    "\n",
    "print(f\"delta is propotional to M0^{1/res[1]:.3f}\")\n",
    "M0_fit = np.logspace(-2, np.log10(5))\n",
    "cumslip_fit = 10**(-res[0]/res[1]) * (M0_fit ** (1/res[1]))\n",
    "\n",
    "Xfit = np.linspace(0, 1, 10)\n",
    "Yfit = np.polynomial.polynomial.polyval(Xfit, res)"
   ]
  },
  {
   "cell_type": "code",
   "execution_count": null,
   "metadata": {},
   "outputs": [],
   "source": []
  },
  {
   "cell_type": "code",
   "execution_count": null,
   "metadata": {},
   "outputs": [],
   "source": [
    "plt.plot(X, Y, \"o\")\n",
    "plt.plot(Xfit, Yfit)"
   ]
  },
  {
   "cell_type": "code",
   "execution_count": null,
   "metadata": {},
   "outputs": [],
   "source": []
  },
  {
   "cell_type": "code",
   "execution_count": null,
   "metadata": {},
   "outputs": [],
   "source": [
    "# manual fitting\n",
    "M0_fit_manual = M0_fit\n",
    "cumslip_fit_manual_expscaling = 0.3\n",
    "cumslip_fit_manual_intercept = 2.5\n",
    "cumslip_fit_manual = cumslip_fit_manual_intercept * M0_fit_manual ** cumslip_fit_manual_expscaling"
   ]
  },
  {
   "cell_type": "code",
   "execution_count": null,
   "metadata": {},
   "outputs": [],
   "source": []
  },
  {
   "cell_type": "code",
   "execution_count": null,
   "metadata": {},
   "outputs": [],
   "source": [
    "fig, ax = plt.subplots(1, 1, figsize=(4.5, 4.5))\n",
    "mainmarkersize=7\n",
    "\n",
    "# Compute standard error\n",
    "standarderror_factor = np.sqrt(Nvalidsensor_thresh)\n",
    "\n",
    "# # plot foreshocks\n",
    "ax.errorbar(df_gf_thresh[\"M0\"].values, df_gf_thresh[\"cumulativelocalslip[mm]\"].values*1e3, xerr=df_gf_thresh[\"M0_std\"].values/standarderror_factor,\n",
    "           capsize=0, fmt=\"o\", markersize=mainmarkersize, color=scatter_mc[0], lw=1, markeredgecolor = \"k\", label=\"Foreshocks\", zorder=3)\n",
    "\n",
    "\n",
    "# plot fit curve\n",
    "# ax.plot(M0_fit, cumslip_fit, \"k--\")\n",
    "Plotfitslope = True #True\n",
    "\n",
    "if Plotfitslope:\n",
    "    ax.plot(M0_fit_manual, cumslip_fit_manual, \"k--\", lw=1.0)\n",
    "    annottxt = r\"$\\delta \\propto M_0^{{{:.1f}}}$\".format(cumslip_fit_manual_expscaling)\n",
    "    ax.text(0.46, 0.25, annottxt, transform=ax.transAxes)\n",
    "\n",
    "# ax.errorbar(df_gf_thresh_droplimevent[\"M0\"].values, df_gf_thresh_droplimevent[\"cumulativelocalslip[mm]\"].values*1e3, xerr=df_gf_thresh_droplimevent[\"M0_std\"].values,\n",
    "#            capsize=0, fmt=\"o\", markersize=mainmarkersize, color=scatter_mc[0], lw=1, markeredgecolor = \"k\", label=\"Foreshocks\", zorder=3)\n",
    "\n",
    "# plot measurement limitation\n",
    "# ax.errorbar(df_gf_thresh_measurementlimit[\"M0\"].values, df_gf_thresh_measurementlimit[\"cumulativelocalslip[mm]\"].values*1e3, xerr=df_gf_thresh_measurementlimit[\"M0_std\"].values,\n",
    "#            capsize=0, fmt=\"x\", markersize=mainmarkersize, color=\"gray\", lw=1, ls=\":\", markeredgecolor = \"k\", label=\"\", zorder=3, alpha=1.0)\n",
    "\n",
    "\n",
    "\n",
    "ax.set_xscale('log')\n",
    "ax.set_yscale('log')\n",
    "\n",
    "\n",
    "xlimit_scaling = [5e-3, 7]\n",
    "\n",
    "ax.set_xlim(xlimit_scaling)\n",
    "ax.set_ylim([0.5, 10])\n",
    "\n",
    "# ax.set_yticks([2, 3, ])\n",
    "# ax.set_yticklabels([2, 3, ])\n",
    "\n",
    "ax.set_xlabel(\"$M_0$ [Nm]\")\n",
    "ax.set_ylabel(\"Cumulative local slip [μm]\")\n",
    "\n",
    "# ax.grid(True, c=np.array([230, 230, 230])/255, lw=0.25, zorder=-1)\n",
    "# ax.set_axisbelow('True')\n",
    "# ax.legend(loc=3)\n",
    "\n",
    "\n",
    "\n",
    "#-----------------------#\n",
    "#--- plot double axis---#\n",
    "#-----------------------#\n",
    "\n",
    "# https://pythonmatplotlibtips.blogspot.com/2018/01/add-second-x-axis-below-first-x-axis-python-matplotlib-pyplot.html\n",
    "ax2 = ax.twiny()\n",
    "ax2.set_xlabel(\"$M_w$\")\n",
    "ax2.set_xlim([M02Mw(xlimit_scaling[0]), M02Mw(xlimit_scaling[1])]) # synchronize with the first axis\n",
    "\n",
    "# major tick\n",
    "newlabel = np.array([-7.5, -7, -6.5, -6.0,])\n",
    "ax2.minorticks_on()\n",
    "ax2.set_xticks(newlabel)\n",
    "\n",
    "# ax.grid(True, c=np.array([230, 230, 230])/255, lw=0.25, zorder=-1)\n",
    "# ax.set_axisbelow('True')\n",
    "\n",
    "ax.xaxis.set_major_formatter(mticker.FormatStrFormatter('%.2g'))\n",
    "ax.yaxis.set_major_formatter(mticker.FormatStrFormatter('%.0f'))\n",
    "\n",
    "# plt.suptitle(f'Q{Qinv_quart} water-level={k_waterlevel:.2f}', y=0.98)\n",
    "plt.tight_layout()\n",
    "\n",
    "plt.savefig(figdir_master+f\"/FigS_M0_cumulativeslip_fb03-{expr_id:03d}_fitcurve{Plotfitslope}.png\", format=\"png\", dpi=70)\n",
    "plt.savefig(figdir_master+f\"/FigS_M0_cumulativeslip_fb03-{expr_id:03d}_fitcurve{Plotfitslope}.eps\")\n"
   ]
  },
  {
   "cell_type": "code",
   "execution_count": null,
   "metadata": {},
   "outputs": [],
   "source": [
    "df_gf_thresh[\"cumulativelocalslip[mm]\"].mean() * 1e3"
   ]
  },
  {
   "cell_type": "code",
   "execution_count": null,
   "metadata": {},
   "outputs": [],
   "source": [
    "# compute quartile of cumulative local slip\n",
    "cumds_1 = df_gf_thresh[\"cumulativelocalslip[mm]\"].quantile(0.25) * 1e3\n",
    "cumds_3 = df_gf_thresh[\"cumulativelocalslip[mm]\"].quantile(0.75) * 1e3\n",
    "print(cumds_1, cumds_3)"
   ]
  },
  {
   "cell_type": "code",
   "execution_count": null,
   "metadata": {},
   "outputs": [],
   "source": [
    "len(df_gf_thresh)"
   ]
  },
  {
   "cell_type": "markdown",
   "metadata": {},
   "source": [
    "# Plot correlation to the local slip velocity"
   ]
  },
  {
   "cell_type": "code",
   "execution_count": null,
   "metadata": {},
   "outputs": [],
   "source": [
    "df_gougeevent.head()"
   ]
  },
  {
   "cell_type": "code",
   "execution_count": null,
   "metadata": {},
   "outputs": [],
   "source": [
    "df_gougeevent_foreshock_thresh = df_gougeevent[(df_gougeevent[\"event_label\"]==\"F\") & (df_gougeevent[\"Nvalidsensors\"]>=Nvalidsensor_thresh) ]\n",
    "df_gougeevent_aftershock_thresh = df_gougeevent[(df_gougeevent[\"event_label\"]==\"A\") & (df_gougeevent[\"Nvalidsensors\"]>=Nvalidsensor_thresh) ]"
   ]
  },
  {
   "cell_type": "code",
   "execution_count": null,
   "metadata": {},
   "outputs": [],
   "source": [
    "# df_gougeevent_foreshock_thresh"
   ]
  },
  {
   "cell_type": "code",
   "execution_count": null,
   "metadata": {},
   "outputs": [],
   "source": [
    "# df_gougeevent_aftershock_thresh"
   ]
  },
  {
   "cell_type": "code",
   "execution_count": null,
   "metadata": {},
   "outputs": [],
   "source": [
    "fig, ax = plt.subplots(1, 1, figsize=(5.5, 5.4))\n",
    "\n",
    "mc = sns.color_palette(\"colorblind\", as_cmap=True)\n",
    "mt = [\"s\", \"d\", \"v\", \"^\"]\n",
    "ms = 20\n",
    "\n",
    "\n",
    "ax.errorbar(df_gougeevent_foreshock_thresh[\"M0\"].values,  df_gougeevent_foreshock_thresh[\"localslipvelocity[mm/s]\"].values, xerr=df_gougeevent_foreshock_thresh[\"M0_std\"].values/standarderror_factor,\n",
    "           capsize=0, fmt=\"o\", markersize=mainmarkersize, color=scatter_mc[0], lw=1, markeredgecolor = \"k\", label=\"Foreshocks\", zorder=4)\n",
    "\n",
    "ax.errorbar(df_gougeevent_aftershock_thresh[\"M0\"].values,  df_gougeevent_aftershock_thresh[\"localslipvelocity[mm/s]\"].values, xerr=df_gougeevent_aftershock_thresh[\"M0_std\"].values/standarderror_factor,\n",
    "           capsize=0, fmt=\"v\", markersize=mainmarkersize, color=scatter_mc[1], lw=1, markeredgecolor = \"k\", label=\"Aftershocks\", zorder=3)\n",
    "\n",
    "\n",
    "\n",
    "ax.set_xscale('log')\n",
    "ax.set_yscale('log')\n",
    "\n",
    "\n",
    "# xlimit_scaling = [5e-3, 7]\n",
    "\n",
    "ax.set_xlim(xlimit_scaling)\n",
    "ax.set_ylim([0.05, 10])\n",
    "\n",
    "ax.legend(loc=3)\n",
    "\n",
    "ax.set_xlabel(\"$M_0$ [Nm]\")\n",
    "ax.set_ylabel(\"Local slip velocity [mm/s]\")\n",
    "\n",
    "# ax.grid(True, c=np.array([230, 230, 230])/255, lw=0.25, zorder=-1)\n",
    "# ax.set_axisbelow('True')\n",
    "\n",
    "#-----------------------#\n",
    "#--- plot double axis---#\n",
    "#-----------------------#\n",
    "\n",
    "# https://pythonmatplotlibtips.blogspot.com/2018/01/add-second-x-axis-below-first-x-axis-python-matplotlib-pyplot.html\n",
    "ax2 = ax.twiny()\n",
    "ax2.set_xlabel(\"$M_w$\")\n",
    "ax2.set_xlim([M02Mw(xlimit_scaling[0]), M02Mw(xlimit_scaling[1])]) # synchronize with the first axis\n",
    "\n",
    "# major tick\n",
    "newlabel = np.array([-7.5, -7, -6.5, -6.0,])\n",
    "ax2.minorticks_on()\n",
    "ax2.set_xticks(newlabel)\n",
    "\n",
    "# ax.grid(True, c=np.array([230, 230, 230])/255, lw=0.25, zorder=-1)\n",
    "# ax.set_axisbelow('True')\n",
    "\n",
    "ax.xaxis.set_major_formatter(mticker.FormatStrFormatter('%.2g'))\n",
    "ax.yaxis.set_major_formatter(mticker.FormatStrFormatter('%.2g'))\n",
    "\n",
    "# plt.suptitle(f'Q{Qinv_quart} water-level={k_waterlevel:.2f}', y=0.98)\n",
    "plt.tight_layout()\n",
    "\n",
    "plt.savefig(figdir_master+f\"/M0_slipvel_fb03-{expr_id:03d}.png\", format=\"png\", dpi=70)\n",
    "plt.savefig(figdir_master+f\"/M0_slipvel_fb03-{expr_id:03d}.eps\")\n"
   ]
  },
  {
   "cell_type": "markdown",
   "metadata": {},
   "source": [
    "Note that the one aftershocks with negative slip velocity is clipped."
   ]
  },
  {
   "cell_type": "code",
   "execution_count": null,
   "metadata": {},
   "outputs": [],
   "source": []
  }
 ],
 "metadata": {
  "kernelspec": {
   "display_name": "Python 3 (ipykernel)",
   "language": "python",
   "name": "python3"
  },
  "language_info": {
   "codemirror_mode": {
    "name": "ipython",
    "version": 3
   },
   "file_extension": ".py",
   "mimetype": "text/x-python",
   "name": "python",
   "nbconvert_exporter": "python",
   "pygments_lexer": "ipython3",
   "version": "3.12.10"
  }
 },
 "nbformat": 4,
 "nbformat_minor": 4
}

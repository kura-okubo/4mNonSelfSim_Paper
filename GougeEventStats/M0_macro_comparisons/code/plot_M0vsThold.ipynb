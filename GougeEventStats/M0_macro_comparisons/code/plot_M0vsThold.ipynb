{
 "cells": [
  {
   "cell_type": "markdown",
   "metadata": {},
   "source": [
    "# Plot comparison between $M_0$ and $T_{hold}$\n",
    "\n",
    "Plot the comparison to evaluate the time healing of the friction on the gouge patch.\n",
    "\n",
    "2025.01.05 Kurama Okubo"
   ]
  },
  {
   "cell_type": "code",
   "execution_count": null,
   "metadata": {},
   "outputs": [],
   "source": [
    "import os\n",
    "import matplotlib.pyplot as plt\n",
    "from matplotlib.cm import ScalarMappable\n",
    "import matplotlib as mpl\n",
    "from matplotlib import ticker\n",
    "\n",
    "%matplotlib inline\n",
    "import numpy as np\n",
    "import pandas as pd\n",
    "import datetime\n",
    "from datetime import timedelta\n",
    "from tqdm import tqdm\n",
    "import warnings\n",
    "import time\n",
    "import pickle \n",
    "import seaborn as sns\n",
    "import copy\n",
    "\n",
    "import scipy.io as sio\n",
    "from scipy.signal import decimate\n",
    "\n",
    "%load_ext autoreload\n",
    "%autoreload 2\n",
    "\n",
    "plt.rcParams[\"font.family\"] = 'Arial'\n",
    "# plt.rcParams[\"font.sans-serif\"] = \"DejaVu Sans, Arial, Helvetica, Lucida Grande, Verdana, Geneva, Lucid, Avant Garde, sans-serif\"\n",
    "plt.rcParams[\"font.size\"] = 12\n",
    "plt.rcParams[\"xtick.direction\"] = \"in\"\n",
    "plt.rcParams[\"xtick.major.size\"] = 4.75\n",
    "plt.rcParams[\"xtick.major.width\"] = 0.75\n",
    "plt.rcParams[\"xtick.minor.size\"] = 3\n",
    "plt.rcParams[\"xtick.minor.width\"] = 0.4\n",
    "plt.rcParams[\"xtick.minor.visible\"] = True\n",
    "\n",
    "plt.rcParams[\"ytick.direction\"] = \"in\"\n",
    "plt.rcParams[\"ytick.major.size\"] = 4.75\n",
    "plt.rcParams[\"ytick.major.width\"] = 0.75\n",
    "plt.rcParams[\"ytick.minor.size\"] = 3\n",
    "plt.rcParams[\"ytick.minor.width\"] = 0.4\n",
    "plt.rcParams[\"ytick.minor.visible\"] = True\n",
    "\n",
    "plt.rcParams[\"savefig.transparent\"] = False #True\n"
   ]
  },
  {
   "cell_type": "code",
   "execution_count": null,
   "metadata": {},
   "outputs": [],
   "source": []
  },
  {
   "cell_type": "code",
   "execution_count": null,
   "metadata": {},
   "outputs": [],
   "source": [
    "# datadir = \"../data/M0vsThold/\"\n",
    "# if not os.path.exists(datadir):\n",
    "#     os.makedirs(datadir)\n",
    "\n",
    "figdir = \"../figure/M0vsThold/\"\n",
    "if not os.path.exists(figdir):\n",
    "    os.makedirs(figdir)\n"
   ]
  },
  {
   "cell_type": "code",
   "execution_count": null,
   "metadata": {},
   "outputs": [],
   "source": [
    "expr_id = 87"
   ]
  },
  {
   "cell_type": "code",
   "execution_count": null,
   "metadata": {},
   "outputs": [],
   "source": [
    "# Load macroscopic data\n",
    "fi_macroscropic = \"../../../Experiments/MacroData/data/MacroData_raw.mat\"\n",
    "fi_macro = sio.loadmat(fi_macroscropic, squeeze_me=False)"
   ]
  },
  {
   "cell_type": "code",
   "execution_count": null,
   "metadata": {},
   "outputs": [],
   "source": [
    "# fi_macro\n",
    "tvec_macro = np.squeeze(fi_macro[\"M\"][f\"FB03_{expr_id:03d}\"][0][0][\"tmat\"][0][0])\n",
    "SS = np.squeeze(fi_macro[\"M\"][f\"FB03_{expr_id:03d}\"][0][0][\"SS\"][0][0])\n",
    "NP = np.squeeze(fi_macro[\"M\"][f\"FB03_{expr_id:03d}\"][0][0][\"NP\"][0][0])\n",
    "dt_macro = tvec_macro[1] - tvec_macro[0]"
   ]
  },
  {
   "cell_type": "code",
   "execution_count": null,
   "metadata": {},
   "outputs": [],
   "source": [
    "fig, (ax1, ax2) = plt.subplots(2, 1, figsize=(7, 5))\n",
    "\n",
    "ax1.plot(tvec_macro, SS, \"k-\")\n",
    "ax1.set_xlim([0, 270])\n",
    "ax1.set_ylim([0.6, 0.7])\n",
    "ax1.set_xlabel(\"Time [s]\")\n",
    "ax1.set_ylabel(\"Macro Shear stress [MPa]\")\n",
    "\n",
    "ax2.plot(tvec_macro, SS, \"k.-\")\n",
    "ax2.set_xlim([151.5, 152])\n",
    "ax2.set_ylim([0.6, 0.7])\n",
    "ax2.set_xlabel(\"Time [s]\")\n",
    "ax2.set_ylabel(\"Macro Shear stress [MPa]\")\n",
    "\n",
    "fig.tight_layout()"
   ]
  },
  {
   "cell_type": "markdown",
   "metadata": {},
   "source": [
    "# Plot gouge events and the macroscopic stress"
   ]
  },
  {
   "cell_type": "code",
   "execution_count": null,
   "metadata": {},
   "outputs": [],
   "source": [
    "# read gouge event catalog\n",
    "gougepatch_id = \"G3\"\n",
    "Qinv_quart = 50\n",
    "\n",
    "Nvalidsensors_thresh = 4\n",
    "\n",
    "finame = f\"../../../GougeEventCatalog/data/gougeeventcatalog__fb03-{expr_id:03d}__{gougepatch_id}__Q{Qinv_quart}.csv\"\n",
    "df_gc = pd.read_csv(finame, index_col=0)\n",
    "df_gc_selected = df_gc[df_gc[\"Nvalidsensors\"] >= Nvalidsensors_thresh].copy()\n",
    "df_gc_selected.head()"
   ]
  },
  {
   "cell_type": "code",
   "execution_count": null,
   "metadata": {},
   "outputs": [],
   "source": [
    "len(df_gc_selected)"
   ]
  },
  {
   "cell_type": "code",
   "execution_count": null,
   "metadata": {},
   "outputs": [],
   "source": [
    "# Decimate the SS to clean the line plot and to reduce file size\n",
    "# decimate 100 times\n",
    "\n",
    "# NOTE: signal.decimate applies an anti-aliasing filter, which changes the offset in our data set as it contains the unloading part.\n",
    "# Therefore, we simply decimate the data by plot step instead of using the signal.decimate.\n",
    "# The result is nealy identical and no problem in the comparison.\n",
    "\n",
    "# tvec_macro_decimate = decimate(tvec_macro,10)\n",
    "# tvec_macro_decimate = decimate(tvec_macro_decimate,10)\n",
    "# tvec_macro_decimate = tvec_macro[::100]\n",
    "# SS_decimate = decimate(SS,10)\n",
    "# SS_decimate = decimate(SS_decimate,10)\n"
   ]
  },
  {
   "cell_type": "code",
   "execution_count": null,
   "metadata": {},
   "outputs": [],
   "source": [
    "fig, ax = plt.subplots(1, 1, figsize=(8, 3.6))\n",
    "\n",
    "plotstep_SS = 100\n",
    "# ax.plot(tvec_macro, SS, \"r-\", lw=1)\n",
    "ax.plot(tvec_macro[::plotstep_SS], SS[::plotstep_SS], \"k-\", lw=1.2, zorder=4)\n",
    "# ax.plot(tvec_macro_decimate, SS_decimate+0.015, \"b-\", lw=1)\n",
    "\n",
    "ax.set_xlim([0, 270])\n",
    "ax.set_ylim([0.6, 0.7])\n",
    "ax.set_xlabel(\"Time [s]\")\n",
    "ax.set_ylabel(\"Macroscopic shear stress [MPa]\")\n",
    "\n",
    "ax2 = ax.twinx()\n",
    "\n",
    "# Plot foreshock\n",
    "df_gc_fore = df_gc_selected[df_gc_selected[\"event_label\"]==\"F\"]\n",
    "df_gc_after = df_gc_selected[df_gc_selected[\"event_label\"]==\"A\"]\n",
    "\n",
    "df_gc_fore.plot.scatter(x=\"event_onset_time\", y=\"Mw\", s=30, ax=ax2, color=\"r\", marker=\"o\", edgecolor=\"k\", zorder=3, label=\"Foreshock\")\n",
    "df_gc_after.plot.scatter(x=\"event_onset_time\", y=\"Mw\", s=30, ax=ax2, color=\"b\", marker=\"s\", edgecolor=\"k\", zorder=2, label=\"Aftershock\")\n",
    "\n",
    "# plot vertical bars\n",
    "ylimit2 = [-8.0, -5.9]\n",
    "\n",
    "for index, row in df_gc_selected.iterrows():\n",
    "    event_t = row[\"event_onset_time\"]\n",
    "    Mw = row[\"Mw\"]\n",
    "    ax2.plot([event_t, event_t], [ylimit2[0], Mw], \"-\", c=\"gray\", zorder=1, lw=0.75, alpha=0.5)\n",
    "\n",
    "ax2.set_ylim(ylimit2)\n",
    "ax2.legend(loc=4)\n",
    "\n",
    "# plt.suptitle(f'Q{Qinv_quart} water-level={k_waterlevel:.2f}', y=0.98)\n",
    "plt.tight_layout()\n",
    "\n",
    "plt.savefig(figdir+f\"/M0vsSS_fb03-{expr_id:03d}_{gougepatch_id}_Q{Qinv_quart}.png\", format=\"png\", dpi=200)\n",
    "# plt.savefig(figdir+f\"/M0vsSS_fb03-{expr_id:03d}_{gougepatch_id}_Q{Qinv_quart}.pdf\")\n"
   ]
  },
  {
   "cell_type": "code",
   "execution_count": null,
   "metadata": {},
   "outputs": [],
   "source": []
  },
  {
   "cell_type": "markdown",
   "metadata": {},
   "source": [
    "# Compute $T_{hold}$\n",
    "\n",
    "We compute the hold time of the gouge events by the duration from the end of previous stick-slip to the onset of events. For the clarity, we focus only on the foreshocks."
   ]
  },
  {
   "cell_type": "code",
   "execution_count": null,
   "metadata": {},
   "outputs": [],
   "source": [
    "# read the mainshock timing\n",
    "fi_mainshocktiming = \"../../../GougeEventStats/Mainshocktiming/data/MainshockTiming_FB03_087.csv\"\n",
    "\n",
    "df_mainshock = pd.read_csv(fi_mainshocktiming, index_col=0)\n",
    "df_mainshock.head()"
   ]
  },
  {
   "cell_type": "code",
   "execution_count": null,
   "metadata": {},
   "outputs": [],
   "source": [
    "df_gc_selected.head()"
   ]
  },
  {
   "cell_type": "code",
   "execution_count": null,
   "metadata": {},
   "outputs": [],
   "source": [
    "for event_id, row in df_gc_selected.iterrows():\n",
    "\n",
    "    if row.event_label == \"A\":\n",
    "        t_hold = 0\n",
    "    else:\n",
    "        t0 = df_mainshock.loc[row[\"stickslip_id\"]-1, \"mainshock_termination_all\"]\n",
    "        t1 = row.event_onset_time\n",
    "        t_hold = t1-t0\n",
    "\n",
    "    df_gc_selected.loc[event_id, \"t_hold\"] = t_hold\n",
    "    "
   ]
  },
  {
   "cell_type": "code",
   "execution_count": null,
   "metadata": {},
   "outputs": [],
   "source": [
    "df_gc_selected.head()"
   ]
  },
  {
   "cell_type": "code",
   "execution_count": null,
   "metadata": {},
   "outputs": [],
   "source": [
    "df_gc_selected.t_hold"
   ]
  },
  {
   "cell_type": "code",
   "execution_count": null,
   "metadata": {},
   "outputs": [],
   "source": [
    "len(df_gc_fore)"
   ]
  },
  {
   "cell_type": "code",
   "execution_count": null,
   "metadata": {},
   "outputs": [],
   "source": [
    "scatter_mc = sns.color_palette(\"Set1\")\n",
    "scatter_mc"
   ]
  },
  {
   "cell_type": "code",
   "execution_count": null,
   "metadata": {},
   "outputs": [],
   "source": [
    "def M02Mw(M0):\n",
    "    return (np.log10(M0) - 9.1) * 2.0 / 3.0 # synchronized with OpenSWPC : moment_magnitude ( m0 )\n",
    "\n",
    "def Mw2M0(Mw):\n",
    "    return 10**( 1.5 * Mw + 9.05) # synchronized with OpenSWPC : seismic_moment ( mw )\n",
    "   "
   ]
  },
  {
   "cell_type": "code",
   "execution_count": null,
   "metadata": {},
   "outputs": [],
   "source": [
    "fig, ax = plt.subplots(1, 1, figsize=(5.5, 5.4))\n",
    "mainmarkersize=7\n",
    "\n",
    "df_gc_fore = df_gc_selected[df_gc_selected[\"event_label\"]==\"F\"]\n",
    "# df_gc_fore.plot.scatter(x=\"t_hold\", y=\"Mw\", s=60, ax=ax, color=\"r\", marker=\"o\", edgecolor=\"k\", zorder=3, label=\"Foreshock\")\n",
    "ax.errorbar(df_gc_fore[\"M0\"].values, df_gc_fore[\"t_hold\"].values, xerr=df_gc_fore[\"M0_std\"].values,\n",
    "           capsize=0, fmt=\"o\", markersize=mainmarkersize, color=scatter_mc[0], lw=1, markeredgecolor = \"k\", label=\"Foreshocks\", zorder=3)\n",
    "\n",
    "\n",
    "ax.set_xlabel(\"$M_0$ [Nm]\")\n",
    "# ax.set_ylabel(\"Macroscopic Δτ [MPa]\")\n",
    "ax.set_ylabel(\"Hold time [s]\")\n",
    "\n",
    "ax.set_xscale('log')\n",
    "ax.set_yscale('log')\n",
    "\n",
    "xlimit_scaling = [5e-3, 7]\n",
    "ax.set_xlim(xlimit_scaling)\n",
    "ax.set_ylim([1, 15])\n",
    "\n",
    "# ax.set_yticks(np.arange(20, 60, 10))\n",
    "# ax.set_yticklabels(np.arange(20, 60, 10))\n",
    "\n",
    "# plt.gca().yaxis.set_major_formatter(ticker.ScalarFormatter())\n",
    "# plt.gca().yaxis.set_minor_formatter(ticker.NullFormatter())\n",
    "\n",
    "ax.legend(loc=3)\n",
    "\n",
    "\n",
    "#-----------------------#\n",
    "#--- plot double axis---#\n",
    "#-----------------------#\n",
    "\n",
    "# https://pythonmatplotlibtips.blogspot.com/2018/01/add-second-x-axis-below-first-x-axis-python-matplotlib-pyplot.html\n",
    "ax2 = ax.twiny()\n",
    "ax2.set_xlabel(\"$M_w$\")\n",
    "ax2.set_xlim([M02Mw(xlimit_scaling[0]), M02Mw(xlimit_scaling[1])]) # synchronize with the first axis\n",
    "\n",
    "# major tick\n",
    "newlabel = np.array([-7.5, -7, -6.5, -6.0,])\n",
    "ax2.minorticks_on()\n",
    "ax2.set_xticks(newlabel)\n",
    "\n",
    "ax.grid(True, c=np.array([230, 230, 230])/255, lw=0.25, zorder=-1)\n",
    "ax.set_axisbelow('True')\n",
    "\n",
    "plt.tight_layout()\n",
    "\n",
    "plt.savefig(figdir+f\"/M0vsThold_fb03-{expr_id:03d}_{gougepatch_id}_Q{Qinv_quart}.png\", format=\"png\", dpi=200)\n",
    "# plt.savefig(figdir+f\"/M0vsThold_fb03-{expr_id:03d}_{gougepatch_id}_Q{Qinv_quart}.pdf\")\n"
   ]
  },
  {
   "cell_type": "code",
   "execution_count": null,
   "metadata": {},
   "outputs": [],
   "source": []
  },
  {
   "cell_type": "code",
   "execution_count": null,
   "metadata": {},
   "outputs": [],
   "source": []
  }
 ],
 "metadata": {
  "kernelspec": {
   "display_name": "Python 3 (ipykernel)",
   "language": "python",
   "name": "python3"
  },
  "language_info": {
   "codemirror_mode": {
    "name": "ipython",
    "version": 3
   },
   "file_extension": ".py",
   "mimetype": "text/x-python",
   "name": "python",
   "nbconvert_exporter": "python",
   "pygments_lexer": "ipython3",
   "version": "3.12.9"
  }
 },
 "nbformat": 4,
 "nbformat_minor": 4
}

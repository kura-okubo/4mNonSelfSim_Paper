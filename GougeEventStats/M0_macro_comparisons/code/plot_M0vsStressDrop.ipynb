{
 "cells": [
  {
   "cell_type": "markdown",
   "metadata": {},
   "source": [
    "# Plot comparison between $M_0$ and $T_{hold}$\n",
    "\n",
    "Plot the comparison to evaluate the time healing of the friction on the gouge patch.\n",
    "\n",
    "2025.01.05 Kurama Okubo\n",
    "\n",
    "- 2025.01.28 update with the error bar"
   ]
  },
  {
   "cell_type": "code",
   "execution_count": null,
   "metadata": {},
   "outputs": [],
   "source": [
    "import os\n",
    "import matplotlib.pyplot as plt\n",
    "from matplotlib.cm import ScalarMappable\n",
    "import matplotlib as mpl\n",
    "from matplotlib import ticker\n",
    "\n",
    "%matplotlib inline\n",
    "import numpy as np\n",
    "import pandas as pd\n",
    "import datetime\n",
    "from datetime import timedelta\n",
    "from tqdm import tqdm\n",
    "import warnings\n",
    "import time\n",
    "import pickle \n",
    "import seaborn as sns\n",
    "import copy\n",
    "\n",
    "import scipy.io as sio\n",
    "from scipy.signal import decimate\n",
    "\n",
    "%load_ext autoreload\n",
    "%autoreload 2\n",
    "\n",
    "plt.rcParams[\"font.family\"] = 'Arial'\n",
    "# plt.rcParams[\"font.sans-serif\"] = \"DejaVu Sans, Arial, Helvetica, Lucida Grande, Verdana, Geneva, Lucid, Avant Garde, sans-serif\"\n",
    "plt.rcParams[\"font.size\"] = 12\n",
    "plt.rcParams[\"xtick.direction\"] = \"in\"\n",
    "plt.rcParams[\"xtick.major.size\"] = 4.75\n",
    "plt.rcParams[\"xtick.major.width\"] = 0.75\n",
    "plt.rcParams[\"xtick.minor.size\"] = 3\n",
    "plt.rcParams[\"xtick.minor.width\"] = 0.4\n",
    "plt.rcParams[\"xtick.minor.visible\"] = True\n",
    "\n",
    "plt.rcParams[\"ytick.direction\"] = \"in\"\n",
    "plt.rcParams[\"ytick.major.size\"] = 4.75\n",
    "plt.rcParams[\"ytick.major.width\"] = 0.75\n",
    "plt.rcParams[\"ytick.minor.size\"] = 3\n",
    "plt.rcParams[\"ytick.minor.width\"] = 0.4\n",
    "plt.rcParams[\"ytick.minor.visible\"] = True\n",
    "\n",
    "plt.rcParams[\"savefig.transparent\"] = False #True\n"
   ]
  },
  {
   "cell_type": "code",
   "execution_count": null,
   "metadata": {},
   "outputs": [],
   "source": []
  },
  {
   "cell_type": "code",
   "execution_count": null,
   "metadata": {},
   "outputs": [],
   "source": [
    "# datadir = \"../data/M0vsStressDrop/\"\n",
    "# if not os.path.exists(datadir):\n",
    "#     os.makedirs(datadir)\n",
    "\n",
    "figdir = \"../figure/M0vsStressDrop/\"\n",
    "if not os.path.exists(figdir):\n",
    "    os.makedirs(figdir)\n"
   ]
  },
  {
   "cell_type": "code",
   "execution_count": null,
   "metadata": {},
   "outputs": [],
   "source": [
    "expr_id = 87"
   ]
  },
  {
   "cell_type": "markdown",
   "metadata": {},
   "source": [
    "# Load stress drop data"
   ]
  },
  {
   "cell_type": "code",
   "execution_count": null,
   "metadata": {},
   "outputs": [],
   "source": [
    "fi_stressdrop = f\"../../../Experiments/DetectEvent/data/Macroscopic_stats_FB03_{expr_id:03d}.csv\""
   ]
  },
  {
   "cell_type": "code",
   "execution_count": null,
   "metadata": {},
   "outputs": [],
   "source": [
    "df_stressdrop = pd.read_csv(fi_stressdrop, index_col=0)\n",
    "df_stressdrop.head()"
   ]
  },
  {
   "cell_type": "markdown",
   "metadata": {},
   "source": [
    "# Load gouge event catalog"
   ]
  },
  {
   "cell_type": "code",
   "execution_count": null,
   "metadata": {},
   "outputs": [],
   "source": [
    "# read gouge event catalog\n",
    "gougepatch_id = \"G3\"\n",
    "Qinv_quart = 50\n",
    "\n",
    "Nvalidsensors_thresh = 4\n",
    "\n",
    "finame = f\"../../../GougeEventCatalog/data/gougeeventcatalog__fb03-{expr_id:03d}__{gougepatch_id}__Q{Qinv_quart}.csv\"\n",
    "df_gc = pd.read_csv(finame, index_col=0)\n",
    "df_gc_selected = df_gc[df_gc[\"Nvalidsensors\"] >= Nvalidsensors_thresh].copy()\n",
    "df_gc_selected.head()"
   ]
  },
  {
   "cell_type": "markdown",
   "metadata": {},
   "source": [
    "# Link the gouge event and stress drop"
   ]
  },
  {
   "cell_type": "code",
   "execution_count": null,
   "metadata": {},
   "outputs": [],
   "source": [
    "for eid, row in df_gc_selected.iterrows():\n",
    "    stickslip_id = row.stickslip_id\n",
    "    df_gc_selected.loc[eid, \"Shearstress_before\"] = df_stressdrop.loc[stickslip_id, \"macroshearstress_beforeevent[MPa]\"]\n",
    "    df_gc_selected.loc[eid, \"Shearstress_after\"] = df_stressdrop.loc[stickslip_id, \"macroshearstress_afterevent[MPa]\"]\n",
    "    df_gc_selected.loc[eid, \"Stressdrop\"] = df_stressdrop.loc[stickslip_id, \"macroshearstress_drop[MPa]\"]\n",
    "    df_gc_selected.loc[eid, \"Slip_mean\"] = df_stressdrop.loc[stickslip_id, \"slip_mean[mm]\"]\n",
    "\n",
    "df_gc_selected.head()"
   ]
  },
  {
   "cell_type": "code",
   "execution_count": null,
   "metadata": {},
   "outputs": [],
   "source": [
    "def M02Mw(M0):\n",
    "    return (np.log10(M0) - 9.1) * 2.0 / 3.0 # synchronized with OpenSWPC : moment_magnitude ( m0 )\n",
    "\n",
    "def Mw2M0(Mw):\n",
    "    return 10**( 1.5 * Mw + 9.05) # synchronized with OpenSWPC : seismic_moment ( mw )\n",
    "   "
   ]
  },
  {
   "cell_type": "code",
   "execution_count": null,
   "metadata": {},
   "outputs": [],
   "source": [
    "scatter_mc = sns.color_palette(\"Set1\")\n",
    "scatter_mc"
   ]
  },
  {
   "cell_type": "code",
   "execution_count": null,
   "metadata": {},
   "outputs": [],
   "source": [
    "fig, ax = plt.subplots(1, 1, figsize=(5.5, 5.4))\n",
    "mainmarkersize=7\n",
    "\n",
    "df_gc_fore = df_gc_selected[df_gc_selected[\"event_label\"]==\"F\"]\n",
    "# df_gc_fore.plot.scatter(x=\"Shearstress_before\", y=\"Mw\", s=60, ax=ax, color=\"r\", marker=\"o\", edgecolor=\"k\", zorder=3, label=\"Foreshock\")\n",
    "ax.errorbar(df_gc_fore[\"M0\"].values, df_gc_fore[\"Shearstress_before\"].values, xerr=df_gc_fore[\"M0_std\"].values,\n",
    "           capsize=0, fmt=\"o\", markersize=mainmarkersize, color=scatter_mc[0], lw=1, markeredgecolor = \"k\", label=\"Foreshocks\", zorder=3)\n",
    "\n",
    "\n",
    "ax.set_xlabel(\"$M_0$ [Nm]\")\n",
    "ax.set_ylabel(\"Shear stress before the mainshock [MPa]\")\n",
    "\n",
    "\n",
    "ax.set_xscale('log')\n",
    "ax.set_yscale('log')\n",
    "\n",
    "xlimit_scaling = [5e-3, 7]\n",
    "ax.set_xlim(xlimit_scaling)\n",
    "ax.set_ylim([0.645, 0.665])\n",
    "\n",
    "ax.set_yticks(np.arange(0.645, 0.665, 0.005))\n",
    "ax.set_yticklabels(np.arange(0.645, 0.665, 0.005))\n",
    "\n",
    "plt.gca().yaxis.set_major_formatter(ticker.ScalarFormatter())\n",
    "plt.gca().yaxis.set_minor_formatter(ticker.NullFormatter())\n",
    "\n",
    "ax.legend(loc=3)\n",
    "\n",
    "\n",
    "#-----------------------#\n",
    "#--- plot double axis---#\n",
    "#-----------------------#\n",
    "\n",
    "# https://pythonmatplotlibtips.blogspot.com/2018/01/add-second-x-axis-below-first-x-axis-python-matplotlib-pyplot.html\n",
    "ax2 = ax.twiny()\n",
    "ax2.set_xlabel(\"$M_w$\")\n",
    "ax2.set_xlim([M02Mw(xlimit_scaling[0]), M02Mw(xlimit_scaling[1])]) # synchronize with the first axis\n",
    "\n",
    "# major tick\n",
    "newlabel = np.array([-7.5, -7, -6.5, -6.0,])\n",
    "ax2.minorticks_on()\n",
    "ax2.set_xticks(newlabel)\n",
    "\n",
    "ax.grid(True, c=np.array([230, 230, 230])/255, lw=0.25, zorder=-1)\n",
    "ax.set_axisbelow('True')\n",
    "\n",
    "plt.tight_layout()\n",
    "\n",
    "plt.savefig(figdir+f\"/M0vsSSbefore_fb03-{expr_id:03d}_{gougepatch_id}_Q{Qinv_quart}.png\", format=\"png\", dpi=200)\n",
    "# plt.savefig(figdir+f\"/M0vsSSbefore_fb03-{expr_id:03d}_{gougepatch_id}_Q{Qinv_quart}.pdf\")\n"
   ]
  },
  {
   "cell_type": "code",
   "execution_count": null,
   "metadata": {},
   "outputs": [],
   "source": []
  },
  {
   "cell_type": "code",
   "execution_count": null,
   "metadata": {},
   "outputs": [],
   "source": []
  },
  {
   "cell_type": "code",
   "execution_count": null,
   "metadata": {},
   "outputs": [],
   "source": [
    "fig, ax = plt.subplots(1, 1, figsize=(5.5, 5.4))\n",
    "mainmarkersize=7\n",
    "\n",
    "df_gc_fore = df_gc_selected[df_gc_selected[\"event_label\"]==\"F\"]\n",
    "# df_gc_fore.plot.scatter(x=\"Shearstress_before\", y=\"Mw\", s=60, ax=ax, color=\"r\", marker=\"o\", edgecolor=\"k\", zorder=3, label=\"Foreshock\")\n",
    "ax.errorbar(df_gc_fore[\"M0\"].values, df_gc_fore[\"Stressdrop\"].values, xerr=df_gc_fore[\"M0_std\"].values,\n",
    "           capsize=0, fmt=\"o\", markersize=mainmarkersize, color=scatter_mc[0], lw=1, markeredgecolor = \"k\", label=\"Foreshocks\", zorder=3)\n",
    "\n",
    "\n",
    "ax.set_xlabel(\"$M_0$ [Nm]\")\n",
    "ax.set_ylabel(\"Macroscopic Δτ [MPa]\")\n",
    "\n",
    "ax.set_xscale('log')\n",
    "ax.set_yscale('log')\n",
    "\n",
    "xlimit_scaling = [5e-3, 7]\n",
    "ax.set_xlim(xlimit_scaling)\n",
    "ax.set_ylim([1.5e-2, 3.0e-2])\n",
    "\n",
    "ax.set_yticks(np.arange(0.02, 0.04, 0.01))\n",
    "ax.set_yticklabels(np.arange(0.02, 0.04, 0.01))\n",
    "\n",
    "plt.gca().yaxis.set_major_formatter(ticker.ScalarFormatter())\n",
    "plt.gca().yaxis.set_minor_formatter(ticker.NullFormatter())\n",
    "\n",
    "ax.legend(loc=3)\n",
    "\n",
    "\n",
    "#-----------------------#\n",
    "#--- plot double axis---#\n",
    "#-----------------------#\n",
    "\n",
    "# https://pythonmatplotlibtips.blogspot.com/2018/01/add-second-x-axis-below-first-x-axis-python-matplotlib-pyplot.html\n",
    "ax2 = ax.twiny()\n",
    "ax2.set_xlabel(\"$M_w$\")\n",
    "ax2.set_xlim([M02Mw(xlimit_scaling[0]), M02Mw(xlimit_scaling[1])]) # synchronize with the first axis\n",
    "\n",
    "# major tick\n",
    "newlabel = np.array([-7.5, -7, -6.5, -6.0,])\n",
    "ax2.minorticks_on()\n",
    "ax2.set_xticks(newlabel)\n",
    "\n",
    "ax.grid(True, c=np.array([230, 230, 230])/255, lw=0.25, zorder=-1)\n",
    "ax.set_axisbelow('True')\n",
    "\n",
    "plt.tight_layout()\n",
    "\n",
    "plt.savefig(figdir+f\"/M0vsStressdrop_fb03-{expr_id:03d}_{gougepatch_id}_Q{Qinv_quart}.png\", format=\"png\", dpi=200)\n",
    "# plt.savefig(figdir+f\"/M0vsStressdrop_fb03-{expr_id:03d}_{gougepatch_id}_Q{Qinv_quart}.pdf\")\n"
   ]
  },
  {
   "cell_type": "code",
   "execution_count": null,
   "metadata": {},
   "outputs": [],
   "source": []
  },
  {
   "cell_type": "code",
   "execution_count": null,
   "metadata": {},
   "outputs": [],
   "source": [
    "fig, ax = plt.subplots(1, 1, figsize=(5.5, 5.4))\n",
    "mainmarkersize=7\n",
    "\n",
    "df_gc_fore = df_gc_selected[df_gc_selected[\"event_label\"]==\"F\"]\n",
    "# df_gc_fore.plot.scatter(x=\"Shearstress_before\", y=\"Mw\", s=60, ax=ax, color=\"r\", marker=\"o\", edgecolor=\"k\", zorder=3, label=\"Foreshock\")\n",
    "ax.errorbar(df_gc_fore[\"M0\"].values, df_gc_fore[\"Slip_mean\"].values*1e3, xerr=df_gc_fore[\"M0_std\"].values,\n",
    "           capsize=0, fmt=\"o\", markersize=mainmarkersize, color=scatter_mc[0], lw=1, markeredgecolor = \"k\", label=\"Foreshocks\", zorder=3)\n",
    "\n",
    "\n",
    "ax.set_xlabel(\"$M_0$ [Nm]\")\n",
    "# ax.set_ylabel(\"Macroscopic Δτ [MPa]\")\n",
    "ax.set_ylabel(\"Mean slip of main shock [mm]\")\n",
    "\n",
    "ax.set_xscale('log')\n",
    "ax.set_yscale('log')\n",
    "\n",
    "xlimit_scaling = [5e-3, 7]\n",
    "ax.set_xlim(xlimit_scaling)\n",
    "ax.set_ylim([25, 50])\n",
    "\n",
    "ax.set_yticks(np.arange(30, 60, 10))\n",
    "ax.set_yticklabels(np.arange(30, 60, 10))\n",
    "\n",
    "# plt.gca().yaxis.set_major_formatter(ticker.ScalarFormatter())\n",
    "# plt.gca().yaxis.set_minor_formatter(ticker.NullFormatter())\n",
    "\n",
    "ax.legend(loc=3)\n",
    "\n",
    "\n",
    "#-----------------------#\n",
    "#--- plot double axis---#\n",
    "#-----------------------#\n",
    "\n",
    "# https://pythonmatplotlibtips.blogspot.com/2018/01/add-second-x-axis-below-first-x-axis-python-matplotlib-pyplot.html\n",
    "ax2 = ax.twiny()\n",
    "ax2.set_xlabel(\"$M_w$\")\n",
    "ax2.set_xlim([M02Mw(xlimit_scaling[0]), M02Mw(xlimit_scaling[1])]) # synchronize with the first axis\n",
    "\n",
    "# major tick\n",
    "newlabel = np.array([-7.5, -7, -6.5, -6.0,])\n",
    "ax2.minorticks_on()\n",
    "ax2.set_xticks(newlabel)\n",
    "\n",
    "ax.grid(True, c=np.array([230, 230, 230])/255, lw=0.25, zorder=-1)\n",
    "ax.set_axisbelow('True')\n",
    "\n",
    "plt.tight_layout()\n",
    "\n",
    "plt.savefig(figdir+f\"/M0vsMeanSlip_fb03-{expr_id:03d}_{gougepatch_id}_Q{Qinv_quart}.png\", format=\"png\", dpi=200)\n",
    "# plt.savefig(figdir+f\"/M0vsMeanSlip_fb03-{expr_id:03d}_{gougepatch_id}_Q{Qinv_quart}.pdf\")\n"
   ]
  },
  {
   "cell_type": "code",
   "execution_count": null,
   "metadata": {},
   "outputs": [],
   "source": []
  },
  {
   "cell_type": "code",
   "execution_count": null,
   "metadata": {},
   "outputs": [],
   "source": []
  }
 ],
 "metadata": {
  "kernelspec": {
   "display_name": "Python 3 (ipykernel)",
   "language": "python",
   "name": "python3"
  },
  "language_info": {
   "codemirror_mode": {
    "name": "ipython",
    "version": 3
   },
   "file_extension": ".py",
   "mimetype": "text/x-python",
   "name": "python",
   "nbconvert_exporter": "python",
   "pygments_lexer": "ipython3",
   "version": "3.12.9"
  }
 },
 "nbformat": 4,
 "nbformat_minor": 4
}
